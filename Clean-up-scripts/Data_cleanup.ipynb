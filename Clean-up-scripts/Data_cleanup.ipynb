{
 "cells": [
  {
   "cell_type": "markdown",
   "metadata": {
    "collapsed": false
   },
   "source": [
    "### Package imports"
   ]
  },
  {
   "cell_type": "code",
   "metadata": {
    "collapsed": false,
    "ExecuteTime": {
     "end_time": "2024-06-14T11:20:48.662673Z",
     "start_time": "2024-06-14T11:20:48.573301Z"
    }
   },
   "source": [
    "from os import listdir, getcwd, rename, makedirs\n",
    "from os.path import isfile, join, isdir, exists\n",
    "import pandas as pd\n",
    "import logging\n",
    "from PIL import Image\n",
    "from tqdm import tqdm"
   ],
   "outputs": [],
   "execution_count": 159
  },
  {
   "cell_type": "markdown",
   "metadata": {
    "collapsed": false
   },
   "source": [
    "### Common functions"
   ]
  },
  {
   "cell_type": "code",
   "metadata": {
    "collapsed": false,
    "ExecuteTime": {
     "end_time": "2024-06-14T11:20:49.769089Z",
     "start_time": "2024-06-14T11:20:49.750092Z"
    }
   },
   "source": [
    "def get_dirs(path):\n",
    "    return [f for f in listdir(path) if isdir(join(path, f))]\n",
    "\n",
    "def get_files(path):\n",
    "    return [f for f in listdir(path) if isfile(join(path, f))]\n",
    "\n",
    "def read_metadata_without_fields(path):\n",
    "    metadata = pd.read_csv(path, sep='\\t', na_values=\"\", low_memory=False)\n",
    "    if 'Field' in metadata.columns:\n",
    "        metadata = metadata.loc[metadata.Field.str.startswith('#') != True,].reset_index(drop=True)\n",
    "        metadata = metadata.drop('Field', axis=1)\n",
    "    return metadata\n",
    "\n",
    "def read_metadata_with_fields(path):\n",
    "    metadata = pd.read_csv(path, sep='\\t', na_values=\"\", low_memory=False)\n",
    "    return metadata\n",
    "\n",
    "\n",
    "def sort_case_insensitive(sort_list):\n",
    "    return sorted(sort_list, key=str.casefold)\n",
    "\n",
    "def read_excel_sheets_merged(path):\n",
    "    return pd.concat(pd.read_excel(path, sheet_name=None, engine='openpyxl').values(), ignore_index=True)\n",
    "    "
   ],
   "outputs": [],
   "execution_count": 160
  },
  {
   "cell_type": "markdown",
   "metadata": {
    "collapsed": false
   },
   "source": [
    "### Common env"
   ]
  },
  {
   "cell_type": "code",
   "metadata": {
    "collapsed": false,
    "ExecuteTime": {
     "end_time": "2024-06-14T11:20:51.417947Z",
     "start_time": "2024-06-14T11:20:51.410126Z"
    }
   },
   "source": [
    "start_dir = getcwd()\n",
    "home = \"/Users/tushar/CancerModels/pdxfinder-data/data/UPDOG/\""
   ],
   "outputs": [],
   "execution_count": 161
  },
  {
   "cell_type": "markdown",
   "source": [
    "## Generate XLSX"
   ],
   "metadata": {
    "collapsed": false
   }
  },
  {
   "cell_type": "code",
   "source": [
    "def generate_xlsx(path, provider):\n",
    "    file_list = get_files(path)\n",
    "    new_path = path.replace('/Users/tushar/CancerModels/pdxfinder-data/data/UPDOG/', '/Users/tushar/CancerModels/pdxfinder-data/data/data-submission/')\n",
    "    if not exists(new_path):\n",
    "        makedirs(new_path)\n",
    "    files_to_extract = sorted([f for f in file_list if f.endswith('.tsv') and f.__contains__(provider+'_metadata-')])\n",
    "    if len(files_to_extract)>0:\n",
    "        print(\"writing excel for: \"+ provider)\n",
    "        with pd.ExcelWriter(join(new_path, provider+\"_metadata.xlsx\")) as writer:\n",
    "            for f in files_to_extract:\n",
    "                print(\"\\tSheet added: \" + f)\n",
    "                metadata = read_metadata_with_fields(join(path, f)).replace('Not provided', '')\n",
    "                sheetname = f.replace(provider+\"_metadata-\", \"\").replace(\".tsv\", \"\")\n",
    "                metadata.to_excel(writer, sheet_name=sheetname, index=False)\n",
    "    else:\n",
    "        print(\"No .xlsx file found.\")"
   ],
   "metadata": {
    "collapsed": false,
    "ExecuteTime": {
     "end_time": "2024-06-14T11:24:59.277464Z",
     "start_time": "2024-06-14T11:24:59.269383Z"
    }
   },
   "outputs": [],
   "execution_count": 167
  },
  {
   "cell_type": "code",
   "source": [
    "for provider in sorted(get_dirs(home)): ## get_dirs will get the provider dirs in updog\n",
    "    #print(\"Working on provider: \"+provider)\n",
    "    generate_xlsx(join(home, provider), provider) ## File rename: pdx_models to pdx_model using the provider path"
   ],
   "metadata": {
    "collapsed": false,
    "ExecuteTime": {
     "end_time": "2024-06-14T11:29:36.810648Z",
     "start_time": "2024-06-14T11:29:07.404075Z"
    }
   },
   "outputs": [
    {
     "name": "stdout",
     "output_type": "stream",
     "text": [
      "writing excel for: BROD\n",
      "\tSheet added: BROD_metadata-cell_model.tsv\n",
      "\tSheet added: BROD_metadata-image_study.tsv\n",
      "\tSheet added: BROD_metadata-model_image.tsv\n",
      "\tSheet added: BROD_metadata-model_validation.tsv\n",
      "\tSheet added: BROD_metadata-patient.tsv\n",
      "\tSheet added: BROD_metadata-patient_sample.tsv\n",
      "\tSheet added: BROD_metadata-sharing.tsv\n",
      "writing excel for: CCIA\n",
      "\tSheet added: CCIA_metadata-model_validation.tsv\n",
      "\tSheet added: CCIA_metadata-patient.tsv\n",
      "\tSheet added: CCIA_metadata-patient_sample.tsv\n",
      "\tSheet added: CCIA_metadata-pdx_model.tsv\n",
      "\tSheet added: CCIA_metadata-sharing.tsv\n",
      "writing excel for: CDH\n",
      "\tSheet added: CDH_metadata-cell_model.tsv\n",
      "\tSheet added: CDH_metadata-model_validation.tsv\n",
      "\tSheet added: CDH_metadata-patient.tsv\n",
      "\tSheet added: CDH_metadata-patient_sample.tsv\n",
      "\tSheet added: CDH_metadata-pdx_model.tsv\n",
      "\tSheet added: CDH_metadata-sharing.tsv\n"
     ]
    },
    {
     "name": "stderr",
     "output_type": "stream",
     "text": [
      "Exception ignored in: <function ZipFile.__del__ at 0x10918faf0>\n",
      "Traceback (most recent call last):\n",
      "  File \"/Library/Developer/CommandLineTools/Library/Frameworks/Python3.framework/Versions/3.9/lib/python3.9/zipfile.py\", line 1807, in __del__\n",
      "    self.close()\n",
      "  File \"/Library/Developer/CommandLineTools/Library/Frameworks/Python3.framework/Versions/3.9/lib/python3.9/zipfile.py\", line 1824, in close\n",
      "    self.fp.seek(self.start_dir)\n",
      "ValueError: seek of closed file\n"
     ]
    },
    {
     "name": "stdout",
     "output_type": "stream",
     "text": [
      "writing excel for: CHOP\n",
      "\tSheet added: CHOP_metadata-model_validation.tsv\n",
      "\tSheet added: CHOP_metadata-patient.tsv\n",
      "\tSheet added: CHOP_metadata-patient_sample.tsv\n",
      "\tSheet added: CHOP_metadata-pdx_model.tsv\n",
      "\tSheet added: CHOP_metadata-sharing.tsv\n",
      "writing excel for: CMP\n",
      "\tSheet added: CMP_metadata-cell_model.tsv\n",
      "\tSheet added: CMP_metadata-image_study.tsv\n",
      "\tSheet added: CMP_metadata-model_image.tsv\n",
      "\tSheet added: CMP_metadata-model_validation.tsv\n",
      "\tSheet added: CMP_metadata-patient.tsv\n",
      "\tSheet added: CMP_metadata-patient_sample.tsv\n",
      "\tSheet added: CMP_metadata-sharing.tsv\n",
      "writing excel for: CRL\n",
      "\tSheet added: CRL_metadata-image_study.tsv\n",
      "\tSheet added: CRL_metadata-model_image.tsv\n",
      "\tSheet added: CRL_metadata-model_validation.tsv\n",
      "\tSheet added: CRL_metadata-patient.tsv\n",
      "\tSheet added: CRL_metadata-patient_sample.tsv\n",
      "\tSheet added: CRL_metadata-pdx_model.tsv\n",
      "\tSheet added: CRL_metadata-sharing.tsv\n",
      "writing excel for: CSHL\n",
      "\tSheet added: CSHL_metadata-cell_model.tsv\n",
      "\tSheet added: CSHL_metadata-image_study.tsv\n",
      "\tSheet added: CSHL_metadata-model_image.tsv\n",
      "\tSheet added: CSHL_metadata-model_validation.tsv\n",
      "\tSheet added: CSHL_metadata-patient.tsv\n",
      "\tSheet added: CSHL_metadata-patient_sample.tsv\n",
      "\tSheet added: CSHL_metadata-sharing.tsv\n",
      "writing excel for: CUIMC\n",
      "\tSheet added: CUIMC_metadata-cell_model.tsv\n",
      "\tSheet added: CUIMC_metadata-model_validation.tsv\n",
      "\tSheet added: CUIMC_metadata-patient.tsv\n",
      "\tSheet added: CUIMC_metadata-patient_sample.tsv\n",
      "\tSheet added: CUIMC_metadata-sharing.tsv\n",
      "writing excel for: Curie-BC\n",
      "\tSheet added: Curie-BC_metadata-cell_model.tsv\n",
      "\tSheet added: Curie-BC_metadata-model_validation.tsv\n",
      "\tSheet added: Curie-BC_metadata-patient.tsv\n",
      "\tSheet added: Curie-BC_metadata-patient_sample.tsv\n",
      "\tSheet added: Curie-BC_metadata-pdx_model.tsv\n",
      "\tSheet added: Curie-BC_metadata-sharing.tsv\n",
      "writing excel for: Curie-LC\n",
      "\tSheet added: Curie-LC_metadata-model_validation.tsv\n",
      "\tSheet added: Curie-LC_metadata-patient.tsv\n",
      "\tSheet added: Curie-LC_metadata-patient_sample.tsv\n",
      "\tSheet added: Curie-LC_metadata-pdx_model.tsv\n",
      "\tSheet added: Curie-LC_metadata-sharing.tsv\n",
      "writing excel for: Curie-OC\n",
      "\tSheet added: Curie-OC_metadata-model_validation.tsv\n",
      "\tSheet added: Curie-OC_metadata-patient.tsv\n",
      "\tSheet added: Curie-OC_metadata-patient_sample.tsv\n",
      "\tSheet added: Curie-OC_metadata-pdx_model.tsv\n",
      "\tSheet added: Curie-OC_metadata-sharing.tsv\n",
      "writing excel for: DFCI-CPDM\n",
      "\tSheet added: DFCI-CPDM_metadata-model_validation.tsv\n",
      "\tSheet added: DFCI-CPDM_metadata-patient.tsv\n",
      "\tSheet added: DFCI-CPDM_metadata-patient_sample.tsv\n",
      "\tSheet added: DFCI-CPDM_metadata-pdx_model.tsv\n",
      "\tSheet added: DFCI-CPDM_metadata-sharing.tsv\n",
      "writing excel for: GCCRI\n",
      "\tSheet added: GCCRI_metadata-model_validation.tsv\n",
      "\tSheet added: GCCRI_metadata-patient.tsv\n",
      "\tSheet added: GCCRI_metadata-patient_sample.tsv\n",
      "\tSheet added: GCCRI_metadata-pdx_model.tsv\n",
      "\tSheet added: GCCRI_metadata-sharing.tsv\n",
      "writing excel for: HCI-BCM\n",
      "\tSheet added: HCI-BCM_metadata-image_study.tsv\n",
      "\tSheet added: HCI-BCM_metadata-model_image.tsv\n",
      "\tSheet added: HCI-BCM_metadata-model_validation.tsv\n",
      "\tSheet added: HCI-BCM_metadata-patient.tsv\n",
      "\tSheet added: HCI-BCM_metadata-patient_sample.tsv\n",
      "\tSheet added: HCI-BCM_metadata-pdx_model.tsv\n",
      "\tSheet added: HCI-BCM_metadata-sharing.tsv\n",
      "writing excel for: HKU\n",
      "\tSheet added: HKU_metadata-cell_model.tsv\n",
      "\tSheet added: HKU_metadata-model_validation.tsv\n",
      "\tSheet added: HKU_metadata-patient.tsv\n",
      "\tSheet added: HKU_metadata-patient_sample.tsv\n",
      "\tSheet added: HKU_metadata-sharing.tsv\n",
      "writing excel for: IRCC-CRC\n",
      "\tSheet added: IRCC-CRC_metadata-model_validation.tsv\n",
      "\tSheet added: IRCC-CRC_metadata-patient.tsv\n",
      "\tSheet added: IRCC-CRC_metadata-patient_sample.tsv\n",
      "\tSheet added: IRCC-CRC_metadata-pdx_model.tsv\n",
      "\tSheet added: IRCC-CRC_metadata-sharing.tsv\n",
      "writing excel for: IRCC-GC\n",
      "\tSheet added: IRCC-GC_metadata-model_validation.tsv\n",
      "\tSheet added: IRCC-GC_metadata-patient.tsv\n",
      "\tSheet added: IRCC-GC_metadata-patient_sample.tsv\n",
      "\tSheet added: IRCC-GC_metadata-pdx_model.tsv\n",
      "\tSheet added: IRCC-GC_metadata-sharing.tsv\n",
      "writing excel for: JAX\n",
      "\tSheet added: JAX_metadata-image_study.tsv\n",
      "\tSheet added: JAX_metadata-model_image.tsv\n",
      "\tSheet added: JAX_metadata-model_validation.tsv\n",
      "\tSheet added: JAX_metadata-patient.tsv\n",
      "\tSheet added: JAX_metadata-patient_sample.tsv\n",
      "\tSheet added: JAX_metadata-pdx_model.tsv\n",
      "\tSheet added: JAX_metadata-sharing.tsv\n",
      "writing excel for: LIH\n",
      "\tSheet added: LIH_metadata-model_validation.tsv\n",
      "\tSheet added: LIH_metadata-patient.tsv\n",
      "\tSheet added: LIH_metadata-patient_sample.tsv\n",
      "\tSheet added: LIH_metadata-pdx_model.tsv\n",
      "\tSheet added: LIH_metadata-sharing.tsv\n",
      "writing excel for: LurieChildrens\n",
      "\tSheet added: LurieChildrens_metadata-model_validation.tsv\n",
      "\tSheet added: LurieChildrens_metadata-patient.tsv\n",
      "\tSheet added: LurieChildrens_metadata-patient_sample.tsv\n",
      "\tSheet added: LurieChildrens_metadata-pdx_model.tsv\n",
      "\tSheet added: LurieChildrens_metadata-sharing.tsv\n",
      "writing excel for: MDAnderson\n",
      "\tSheet added: MDAnderson_metadata-model_validation.tsv\n",
      "\tSheet added: MDAnderson_metadata-patient.tsv\n",
      "\tSheet added: MDAnderson_metadata-patient_sample.tsv\n",
      "\tSheet added: MDAnderson_metadata-pdx_model.tsv\n",
      "\tSheet added: MDAnderson_metadata-sharing.tsv\n",
      "writing excel for: MDAnderson-CCH\n",
      "\tSheet added: MDAnderson-CCH_metadata-model_validation.tsv\n",
      "\tSheet added: MDAnderson-CCH_metadata-patient.tsv\n",
      "\tSheet added: MDAnderson-CCH_metadata-patient_sample.tsv\n",
      "\tSheet added: MDAnderson-CCH_metadata-pdx_model.tsv\n",
      "\tSheet added: MDAnderson-CCH_metadata-sharing.tsv\n",
      "writing excel for: NKI\n",
      "\tSheet added: NKI_metadata-model_validation.tsv\n",
      "\tSheet added: NKI_metadata-patient.tsv\n",
      "\tSheet added: NKI_metadata-patient_sample.tsv\n",
      "\tSheet added: NKI_metadata-pdx_model.tsv\n",
      "\tSheet added: NKI_metadata-sharing.tsv\n",
      "writing excel for: PDMR\n",
      "\tSheet added: PDMR_metadata-cell_model.tsv\n",
      "\tSheet added: PDMR_metadata-model_validation.tsv\n",
      "\tSheet added: PDMR_metadata-patient.tsv\n",
      "\tSheet added: PDMR_metadata-patient_sample.tsv\n",
      "\tSheet added: PDMR_metadata-pdx_model.tsv\n",
      "\tSheet added: PDMR_metadata-sharing.tsv\n",
      "writing excel for: PMLB\n",
      "\tSheet added: PMLB_metadata-model_validation.tsv\n",
      "\tSheet added: PMLB_metadata-patient.tsv\n",
      "\tSheet added: PMLB_metadata-patient_sample.tsv\n",
      "\tSheet added: PMLB_metadata-pdx_model.tsv\n",
      "\tSheet added: PMLB_metadata-sharing.tsv\n",
      "writing excel for: PMLB-Organoid\n",
      "\tSheet added: PMLB-Organoid_metadata-cell_model.tsv\n",
      "\tSheet added: PMLB-Organoid_metadata-model_validation.tsv\n",
      "\tSheet added: PMLB-Organoid_metadata-patient.tsv\n",
      "\tSheet added: PMLB-Organoid_metadata-patient_sample.tsv\n",
      "\tSheet added: PMLB-Organoid_metadata-sharing.tsv\n",
      "writing excel for: SANG\n",
      "\tSheet added: SANG_metadata-cell_model.tsv\n",
      "\tSheet added: SANG_metadata-image_study.tsv\n",
      "\tSheet added: SANG_metadata-model_image.tsv\n",
      "\tSheet added: SANG_metadata-model_validation.tsv\n",
      "\tSheet added: SANG_metadata-patient.tsv\n",
      "\tSheet added: SANG_metadata-patient_sample.tsv\n",
      "\tSheet added: SANG_metadata-sharing.tsv\n",
      "writing excel for: SJCRH\n",
      "\tSheet added: SJCRH_metadata-image_study.tsv\n",
      "\tSheet added: SJCRH_metadata-model_image.tsv\n",
      "\tSheet added: SJCRH_metadata-model_validation.tsv\n",
      "\tSheet added: SJCRH_metadata-patient.tsv\n",
      "\tSheet added: SJCRH_metadata-patient_sample.tsv\n",
      "\tSheet added: SJCRH_metadata-pdx_model.tsv\n",
      "\tSheet added: SJCRH_metadata-sharing.tsv\n",
      "writing excel for: TRACE\n",
      "\tSheet added: TRACE_metadata-model_validation.tsv\n",
      "\tSheet added: TRACE_metadata-patient.tsv\n",
      "\tSheet added: TRACE_metadata-patient_sample.tsv\n",
      "\tSheet added: TRACE_metadata-pdx_model.tsv\n",
      "\tSheet added: TRACE_metadata-sharing.tsv\n",
      "writing excel for: UCD\n",
      "\tSheet added: UCD_metadata-model_validation.tsv\n",
      "\tSheet added: UCD_metadata-patient.tsv\n",
      "\tSheet added: UCD_metadata-patient_sample.tsv\n",
      "\tSheet added: UCD_metadata-pdx_model.tsv\n",
      "\tSheet added: UCD_metadata-sharing.tsv\n",
      "writing excel for: UMCG\n",
      "\tSheet added: UMCG_metadata-model_validation.tsv\n",
      "\tSheet added: UMCG_metadata-patient.tsv\n",
      "\tSheet added: UMCG_metadata-patient_sample.tsv\n",
      "\tSheet added: UMCG_metadata-pdx_model.tsv\n",
      "\tSheet added: UMCG_metadata-sharing.tsv\n",
      "writing excel for: UOC-BC\n",
      "\tSheet added: UOC-BC_metadata-model_validation.tsv\n",
      "\tSheet added: UOC-BC_metadata-patient.tsv\n",
      "\tSheet added: UOC-BC_metadata-patient_sample.tsv\n",
      "\tSheet added: UOC-BC_metadata-pdx_model.tsv\n",
      "\tSheet added: UOC-BC_metadata-sharing.tsv\n",
      "writing excel for: UOM-BC\n",
      "\tSheet added: UOM-BC_metadata-model_validation.tsv\n",
      "\tSheet added: UOM-BC_metadata-patient.tsv\n",
      "\tSheet added: UOM-BC_metadata-patient_sample.tsv\n",
      "\tSheet added: UOM-BC_metadata-pdx_model.tsv\n",
      "\tSheet added: UOM-BC_metadata-sharing.tsv\n",
      "writing excel for: VHIO-BC\n",
      "\tSheet added: VHIO-BC_metadata-model_validation.tsv\n",
      "\tSheet added: VHIO-BC_metadata-patient.tsv\n",
      "\tSheet added: VHIO-BC_metadata-patient_sample.tsv\n",
      "\tSheet added: VHIO-BC_metadata-pdx_model.tsv\n",
      "\tSheet added: VHIO-BC_metadata-sharing.tsv\n",
      "writing excel for: VHIO-CRC\n",
      "\tSheet added: VHIO-CRC_metadata-model_validation.tsv\n",
      "\tSheet added: VHIO-CRC_metadata-patient.tsv\n",
      "\tSheet added: VHIO-CRC_metadata-patient_sample.tsv\n",
      "\tSheet added: VHIO-CRC_metadata-pdx_model.tsv\n",
      "\tSheet added: VHIO-CRC_metadata-sharing.tsv\n",
      "writing excel for: VHIO-PC\n",
      "\tSheet added: VHIO-PC_metadata-model_validation.tsv\n",
      "\tSheet added: VHIO-PC_metadata-patient.tsv\n",
      "\tSheet added: VHIO-PC_metadata-patient_sample.tsv\n",
      "\tSheet added: VHIO-PC_metadata-pdx_model.tsv\n",
      "\tSheet added: VHIO-PC_metadata-sharing.tsv\n",
      "writing excel for: WCMC\n",
      "\tSheet added: WCMC_metadata-cell_model.tsv\n",
      "\tSheet added: WCMC_metadata-image_study.tsv\n",
      "\tSheet added: WCMC_metadata-model_image.tsv\n",
      "\tSheet added: WCMC_metadata-model_validation.tsv\n",
      "\tSheet added: WCMC_metadata-patient.tsv\n",
      "\tSheet added: WCMC_metadata-patient_sample.tsv\n",
      "\tSheet added: WCMC_metadata-sharing.tsv\n",
      "writing excel for: WUSTL\n",
      "\tSheet added: WUSTL_metadata-model_validation.tsv\n",
      "\tSheet added: WUSTL_metadata-patient.tsv\n",
      "\tSheet added: WUSTL_metadata-patient_sample.tsv\n",
      "\tSheet added: WUSTL_metadata-pdx_model.tsv\n",
      "\tSheet added: WUSTL_metadata-sharing.tsv\n",
      "writing excel for: Wistar-MDAnderson-Penn\n",
      "\tSheet added: Wistar-MDAnderson-Penn_metadata-model_validation.tsv\n",
      "\tSheet added: Wistar-MDAnderson-Penn_metadata-patient.tsv\n",
      "\tSheet added: Wistar-MDAnderson-Penn_metadata-patient_sample.tsv\n",
      "\tSheet added: Wistar-MDAnderson-Penn_metadata-pdx_model.tsv\n",
      "\tSheet added: Wistar-MDAnderson-Penn_metadata-sharing.tsv\n"
     ]
    }
   ],
   "execution_count": 170
  },
  {
   "cell_type": "code",
   "execution_count": null,
   "outputs": [],
   "source": [],
   "metadata": {
    "collapsed": false
   }
  },
  {
   "cell_type": "markdown",
   "metadata": {
    "collapsed": false
   },
   "source": [
    "## Collection site typo\n"
   ]
  },
  {
   "cell_type": "code",
   "execution_count": 24,
   "metadata": {
    "collapsed": false,
    "ExecuteTime": {
     "end_time": "2023-07-28T10:34:31.784469Z",
     "start_time": "2023-07-28T10:34:31.748925Z"
    }
   },
   "outputs": [],
   "source": [
    "def get_collection_site(path, provider, cs_df):\n",
    "    file_list = get_files(path)\n",
    "    files_to_extract = [f for f in file_list if f.endswith('_metadata-patient_sample.tsv')]\n",
    "    if len(files_to_extract)>0:\n",
    "        #print(\"Reading Patient sample for: \"+ provider)\n",
    "        for f in files_to_extract:\n",
    "            metadata = read_metadata_without_fields(join(path, f))\n",
    "            metadata['provider'] = provider\n",
    "            cs_df = pd.concat([cs_df, metadata[['collection_site', 'provider']]]).reset_index(drop=True)\n",
    "    else:\n",
    "        print(\"No file found.\")\n",
    "    return cs_df"
   ]
  },
  {
   "cell_type": "code",
   "execution_count": 58,
   "metadata": {
    "collapsed": false,
    "ExecuteTime": {
     "end_time": "2023-07-28T12:12:49.698244Z",
     "start_time": "2023-07-28T12:12:49.340528Z"
    }
   },
   "outputs": [],
   "source": [
    "PS_collection_site = pd.DataFrame()\n",
    "for provider in sorted(get_dirs(home)): ## get_dirs will get the provider dirs in updog\n",
    "    PS_collection_site = get_collection_site(join(home, provider), provider, PS_collection_site) ## File rename: pdx_models to pdx_model using the provider path\n",
    "Unique_CS = PS_collection_site.sort_values(by=['collection_site'], key=lambda col: col.str.lower()).drop_duplicates(subset=['provider', 'collection_site'], keep='first').reset_index(drop=True)"
   ]
  },
  {
   "cell_type": "code",
   "execution_count": 59,
   "outputs": [
    {
     "data": {
      "text/plain": "['4th ventricle',\n 'Abdomen',\n 'Abdomen Ascites',\n 'Abdominal',\n 'Abdominal Cavity',\n 'Abdominal Mass',\n 'Abdominal Wall',\n 'Abdominopelvic Cavity',\n 'Adrenal',\n 'Adrenal Cortex',\n 'Adrenal Gland',\n 'Adrenal Mass',\n 'Adrenal Resection',\n 'Adrenal Tissue',\n 'Alveolus',\n 'Ampulla',\n 'Ampulla of Vater',\n 'Anal',\n 'Anus',\n 'Aortocaval',\n 'Arm',\n 'Ascending Colon',\n 'Ascites',\n 'Ascites fluid',\n 'Axilla',\n 'Axillary Lymph Node',\n 'Back',\n 'Back Mass',\n 'Back soft tissue',\n 'Base Of Tongue',\n 'Bilateral',\n 'Bile Duct',\n 'Biliary Tract',\n 'Bladder',\n 'Bladder Dome',\n 'Blood',\n 'Bone',\n 'Bone (Left Proximal Humerus)',\n 'Bone (right humerus)',\n 'Bone Marrow',\n 'Bowel',\n 'Brachial Muscle',\n 'Brain',\n 'Brain (Right Cerebellum, Right Parietal)',\n 'Brain Stem',\n 'Breast',\n 'Bronchus',\n 'Buccal Mucosa',\n 'Buttock',\n 'Caecum',\n 'Calf',\n 'Cecum',\n 'Cerebellar Tentorium',\n 'Cerebellum',\n 'Cerebral hemisphere',\n 'Cerebrospinal fluid ',\n 'Cerebrum',\n 'Cervical endometrium',\n 'Cervical Lymph Node',\n 'Cervical lymph node',\n 'Cervical node',\n 'Cervical oesophagus',\n 'Cervix',\n 'Chest',\n 'Chest Mass',\n 'Chest wall',\n 'Chest Wall',\n 'Chest Wall/Subcutaneous Mass Ribs 3-6',\n 'Clivus',\n 'CNS',\n 'Colon',\n 'Colon NOS',\n 'Colon, Sigmoid',\n 'Common Bile Duct',\n 'Common duct node',\n 'Connective Tissue',\n 'Descending Colon',\n 'Diaphragm',\n 'Digestive/Gastrointestinal',\n 'Distal Esophagus (Lower Thoracic Esophagus)',\n 'Distal Esophagus And Proximal Stomach',\n 'Distal femur',\n 'Distal pancreas/spleen',\n 'Distal Transverse Colon',\n 'Duodenum',\n 'Endometrium',\n 'Erythroleukemia blasts',\n 'Eso-Intrathorasic Lymph Node',\n 'Esophagastric Junction',\n 'Esophageal',\n 'Esophageal Lymph Node',\n 'Esophagus',\n 'Esophagus - distal third',\n 'Esophagus / Lung',\n 'Esophagus Supraclavicular Lymph Node',\n 'Extrahepatic bile duct',\n 'Eye',\n 'Eye ',\n 'Femalelank Mass',\n 'Femur',\n 'Femur ',\n 'Floor Of Mouth',\n 'Frontal Brain lobe',\n 'Frontal Cortex',\n 'Frontal Lobe',\n 'Gall Bladder',\n 'Gastric',\n 'gastric fundus',\n 'Gastric Peritoneal Noule',\n 'Gastro-oesophageal junction (cardia)',\n 'Gastroesophageal Junction',\n 'Gastroesophageal Junction ',\n 'Genitourinary',\n 'Glottis',\n 'Groin lymph node',\n 'Hard Palate',\n 'HCI-032 PDX',\n 'HCI-040 PDX',\n 'Head',\n 'Hepatic Duct Bifurcation',\n 'Hepatic Flexure of Colon',\n 'Hollow Bone',\n 'Humerus',\n 'Humerus ',\n 'Hypopharynx',\n 'Ileocecal Valve',\n 'Ileum',\n 'Iliac Node (Groin)',\n 'Ilium',\n 'Inferior leg ',\n 'Infratemporal fossa',\n 'Inguinal Lymph Node',\n 'Inguinal Mass',\n 'Innominate Bone',\n 'Intracranial',\n 'Intrahepatic Duct',\n 'intraperitoneal cavity',\n 'Jaw',\n 'Jejunum/Ilium',\n 'Kidney',\n 'Kidney  ',\n 'Larynx',\n 'Larynx (Glottic)',\n 'Larynx (Subglottic)',\n 'Left Breast',\n 'Left Colon',\n 'Left Distal Femur',\n 'Left Femur',\n 'Left Kidney',\n 'Left Knee',\n 'Left Leg',\n 'Left Lower Lobe Lung',\n 'Left Lower Lung Lobe',\n 'Left Lung',\n 'Left Occipital mass',\n 'Left parieto-occipital lobe',\n 'Left Posterior Shoulder',\n 'Left Proximal Tibia',\n 'Left supraclavicular lymph node',\n 'Left supraclavicular region',\n 'Left Temple',\n 'Left temporal lobe',\n 'Left thigh',\n 'Left Upper And Lower Lobe Lung',\n 'Left Upper Lobe Lung',\n 'Left Upper Lobe Lung Invasive Into Bronchus And Lower Lobe',\n 'Left ureter',\n 'Left Vulva',\n 'Leg',\n 'Leukapheresis',\n 'Liver',\n 'Liver ',\n 'Liver & Lung',\n 'Liver metastasis',\n 'Liver, Left Lobe',\n 'Local Lymph Node',\n 'Lower Alveolus And Gingiva',\n 'Lower Back',\n 'Lower Extremity',\n 'Lower Gingiva',\n 'Lower intrathoracic oesophagus',\n 'Lower Left Lobe Lung',\n 'Lower Lobe, Lung',\n 'Lower right lung lobe',\n 'Lung',\n 'Lung ',\n 'Lung Lymph Node',\n 'Lung mass',\n 'Lung metastasis',\n 'lung metastasis',\n 'Lung/pleura',\n 'Lymph Node',\n 'Lymph Node ',\n 'Lymphatic system',\n 'Mammary gland',\n 'Mammary Gland',\n 'Mammary gland/duct',\n 'Maxilla',\n 'Mediastinal Lymph Node',\n 'Mediastinum',\n 'Mesenteric Lymph Node',\n 'Mesenterium',\n 'Middle intrathoracic oesophagus',\n 'Middle Lobe, Lung',\n 'Mouth',\n 'Mouth floor',\n 'Mouth Floor',\n 'Muscle',\n 'Neck',\n 'Neck ',\n 'Neck Mass',\n 'Neck of the urinary bladder',\n 'NET / Axillary Lymph Node',\n 'Neural',\n 'Not collected',\n 'Not Collected',\n 'Not Provided',\n 'Not provided',\n 'Not reported',\n 'Occipital Lobe',\n 'Oesophagus',\n 'Omentum',\n 'Oral Alveolus',\n 'Oral Cavity',\n 'Oral floor',\n 'Oral, gingiva',\n 'Orbit',\n 'Orbit ',\n 'Oropharynx',\n 'Os frontalis',\n 'Other',\n 'Ovary',\n 'Pancreas',\n 'Pancreas ',\n 'Pancreatic body',\n 'Pancreatic duct',\n 'Pancreatic head',\n 'Pancreatic NET & Liver',\n 'Pancreatic tail',\n 'Paracaval Lymph Node',\n 'Paracentesis',\n 'Paragastric Lymph Node',\n 'Parapharyngeal',\n 'Pararenal lymph node',\n 'Paraspinal mass',\n 'Paraspinal mass ',\n 'Paraspinal mass resection',\n 'Paratesticular',\n 'Parathyroid / Neck',\n 'Paratracheal Lymph Node',\n 'Parietal Lobe',\n 'Pelvic',\n 'Pelvic Mass',\n 'Pelvis',\n 'Peri-Rectal Mass',\n 'Pericardial Effusion',\n 'Pericardial fluid',\n 'Pericardium',\n 'Perineum',\n 'Peripheral Blood',\n 'Peripheral Fluid',\n 'Peritoneal',\n 'Peritoneal & Ascites',\n 'Peritoneal Ascites',\n 'Peritoneal ascitic fluid ',\n 'Peritoneal Cavity',\n 'Peritoneal cavity',\n 'Peritoneal Effusion',\n 'Peritoneal Fluid',\n 'Peritoneal mass',\n 'Peritoneum',\n 'Peritracheal ',\n 'Pharynx',\n 'Pineal',\n 'Placenta',\n 'Pleura',\n 'Pleural cavity',\n 'Pleural Cavity',\n 'Pleural Effusion',\n 'Pleural effusion',\n 'Pleural Effusion fluid',\n 'Pleural Fluid',\n 'Pleural fluid',\n 'Pontine meninges ',\n 'Post Mortem Blood',\n 'Post Mortem Liver ',\n 'Post-Cricoid',\n 'Posterior Fossa',\n 'Posterior mediastinum',\n 'Primary Colon',\n 'Primary Colon & Liver',\n 'Primary Colon L',\n 'Primary Colon R',\n 'Primary Colon Recto-Sigmoid',\n 'Primary Colon Sigmoid',\n 'Primary Tumour',\n 'Prostate',\n 'Prostate gland',\n 'Pyloric lymph nodes',\n 'Rectal / Abdomen',\n 'Rectosigmoid junction',\n 'Rectum',\n 'Rectum And Distal Sigmoid',\n 'Renal',\n 'Renal Pelvis',\n 'Renal pelvis',\n 'Respiratory/Thoracic',\n 'Retro-peritoneal Lymph Node',\n 'Retromolar Trigone',\n 'Retroperitoneal embroyonal tumour',\n 'Retroperitoneal Lymph Node',\n 'Retroperitoneal Mass',\n 'Retroperitoneum',\n 'Retroperitoneum ',\n 'Right Axillary lymph node',\n 'Right Axillary Lymph Node',\n 'Right Breast',\n 'Right Breast metastasis',\n 'Right Buttock',\n 'Right Cheek',\n 'Right colon',\n 'Right Colon',\n 'Right Distal Femur',\n 'Right femur/rib/vertebra',\n 'Right frontal parieto-occipital cortex',\n 'Right Humerus',\n 'Right Inguinal Mass',\n 'Right Kidney',\n 'Right Lower Lobe',\n 'Right Lower Lobe Lung',\n 'Right Neck mass',\n 'Right parietal lobe',\n 'Right Parietal Lobe',\n 'Right Popliteal',\n 'Right Proximal Ulna',\n 'Right Sylvian Fissure',\n 'Right temporal lobe',\n 'Right upper lobe lung',\n 'Right Upper Lobe Lung',\n 'Sacral bone',\n 'Sacral Bone',\n 'Sacral Vertebrae',\n 'Salivary gland',\n 'Scalp',\n 'Scalp And Right Parotid',\n 'Scapula',\n 'Shoulder',\n 'Shoulder Tumour',\n 'Sigmoid',\n 'Sigmoid Colon',\n 'Sigmoid colon',\n 'Sigmoid Colon And Distal Anastomotic Margin',\n 'Sigmoid/Rectum',\n 'Skeletal Muscle',\n 'Skin',\n 'Skin  ',\n 'Skin (Lower Leg)',\n 'Skin Back',\n 'Skin Of Breast',\n 'Skin, Left Thigh',\n 'Skin, Left Upper Back',\n 'Skin, Right Leg',\n 'Skin, Right Posterior Arm',\n 'Small intestine',\n 'Small Intestine',\n 'Soft tissue',\n 'Soft Tissue',\n 'Soft Tissue, Left Lateral Mallelos',\n 'Spinal Fluid',\n 'Spine',\n 'Spleen',\n 'Splenic Flexure Of Colon',\n 'Splenic Flexure of Colon',\n 'Sternal Mass',\n 'Stomach',\n 'stomach',\n 'Stomach ',\n 'Stomach (NOS)',\n 'Subcutaneous Plasmacytoma',\n 'Subcutaneous tissue',\n 'Submaxillary salivary gland',\n 'subserosa of fallopian tube',\n 'Superior leg ',\n 'Supra-orbital area',\n 'Supra-Orbital Area',\n 'Supraclavicular',\n 'Supraclavicular Fossa',\n 'Supraclavicular lymph node',\n 'Supraglottis',\n 'Synovium',\n 'Temporal Cortex',\n 'Temporal Lobe',\n 'Temporo-Occipital Lobe',\n 'Testes ',\n 'Testis',\n 'Thalamus',\n 'Thigh',\n 'Thigh ',\n 'Thigh muscle',\n 'Thoracic Lymph Node',\n 'Thoracic Mass',\n 'Thorax',\n 'Thumb ',\n 'Thyroid',\n 'Thyroid (Retrosternal mass)',\n 'Tibia',\n 'Tongue',\n 'Tonsil',\n 'Transverse',\n 'Transverse And Left Colon',\n 'Transverse colon',\n 'Transverse Colon',\n 'Umbilicus',\n 'Under Finger Nail',\n 'Upper (cervical) oesophagus',\n 'Upper Limb NOS',\n 'Upper Lobe, Lung',\n 'Upper maxilla',\n 'Upper Mid Descending Colon',\n 'Urinary Bladder',\n 'Uterine Body',\n 'Uterine cervix',\n 'Uterine Cervix',\n 'Uterine Corpus',\n 'Uterus',\n 'Uveal Melanoma',\n 'Vagina',\n 'Ventricular mass',\n 'Vertebral bone',\n 'Vulva']"
     },
     "execution_count": 59,
     "metadata": {},
     "output_type": "execute_result"
    }
   ],
   "source": [
    "sort_case_insensitive(list(PS_collection_site.collection_site.unique()))"
   ],
   "metadata": {
    "collapsed": false,
    "ExecuteTime": {
     "end_time": "2023-07-28T12:12:49.811209Z",
     "start_time": "2023-07-28T12:12:49.794138Z"
    }
   }
  },
  {
   "cell_type": "code",
   "execution_count": 56,
   "outputs": [
    {
     "data": {
      "text/plain": "['4th ventricle',\n 'Abdomen',\n 'Abdomen Ascites',\n 'Abdominal',\n 'Abdominal Cavity',\n 'Abdominal Mass',\n 'Abdominal Wall',\n 'Abdominopelvic Cavity',\n 'Adrenal',\n 'Adrenal Cortex',\n 'Adrenal Gland',\n 'Adrenal Mass',\n 'Adrenal Resection',\n 'Adrenal Tissue',\n 'Alveolus',\n 'Ampulla',\n 'Ampulla of Vater',\n 'Anal',\n 'Anus',\n 'Aortocaval',\n 'Arm',\n 'Ascending Colon',\n 'Ascites',\n 'Ascites ',\n 'Ascites fluid',\n 'Axilla',\n 'Axillary Lymph Node',\n 'Back',\n 'Back Mass',\n 'Back soft tissue',\n 'Base Of Tongue',\n 'Bilateral',\n 'Bile Duct',\n 'Biliary Tract',\n 'Bladder',\n 'Bladder Dome',\n 'Blood',\n 'Bone',\n 'Bone (Left Proximal Humerus)',\n 'Bone (right humerus)',\n 'Bone Marrow',\n 'Bowel',\n 'Brachial Muscle',\n 'Brain',\n 'Brain (Right Cerebellum, Right Parietal)',\n 'Brain Stem',\n 'Breast',\n 'Bronchus',\n 'Buccal Mucosa',\n 'Buttock',\n 'Caecum',\n 'Calf',\n 'Cecum',\n 'Cerebellar Tentorium',\n 'Cerebellum',\n 'Cerebral hemisphere',\n 'Cerebrospinal fluid ',\n 'Cerebrum',\n 'Cervical endometrium',\n 'Cervical Lymph Node',\n 'Cervical lymph node',\n 'Cervical node',\n 'Cervical oesophagus',\n 'Cervix',\n 'Chest',\n 'Chest Mass',\n 'Chest Wall',\n 'Chest wall',\n 'Chest Wall/Subcutaneous Mass Ribs 3-6',\n 'Clivus',\n 'CNS',\n 'Colon',\n 'Colon NOS',\n 'Colon, Sigmoid',\n 'Common Bile Duct',\n 'Common duct node',\n 'Connective Tissue',\n 'Descending Colon',\n 'Diaphragm',\n 'Digestive/Gastrointestinal',\n 'Distal Esophagus (Lower Thoracic Esophagus)',\n 'Distal Esophagus And Proximal Stomach',\n 'Distal femur',\n 'Distal pancreas/spleen',\n 'Distal Transverse Colon',\n 'Duodenum',\n 'Endometrium',\n 'Erythroleukemia blasts',\n 'Eso-Intrathorasic Lymph Node',\n 'Esophagastric Junction',\n 'Esophageal',\n 'Esophageal Lymph Node',\n 'Esophagus',\n 'Esophagus - distal third',\n 'Esophagus / Lung',\n 'Esophagus Supraclavicular Lymph Node',\n 'Extrahepatic bile duct',\n 'Eye',\n 'Eye ',\n 'Femalelank Mass',\n 'Femur',\n 'Femur ',\n 'Floor Of Mouth',\n 'Frontal Brain lobe',\n 'Frontal Cortex',\n 'Frontal Lobe',\n 'Gall Bladder',\n 'Gastric',\n 'gastric fundus',\n 'Gastric Peritoneal Noule',\n 'Gastro-oesophageal junction (cardia)',\n 'Gastroesophageal Junction',\n 'Gastroesophageal Junction ',\n 'Gastroesophagel Junction',\n 'Genitourinary',\n 'Glottis',\n 'Groin lymph node',\n 'Hard Palate',\n 'HCI-032 PDX',\n 'HCI-040 PDX',\n 'Head',\n 'Hepatic Duct Bifurcation',\n 'Hepatic Flexure of Colon',\n 'Hollow Bone',\n 'Humerus',\n 'Humerus ',\n 'Hypopharynx',\n 'Ileocecal Valve',\n 'Ileum',\n 'Iliac Node (Groin)',\n 'Ilium',\n 'Inferior leg ',\n 'Infratemporal fossa',\n 'Inguinal Lymph Node',\n 'Inguinal Mass',\n 'Innominate Bone',\n 'Intracranial',\n 'Intrahepatic Duct',\n 'intraperitoneal cavity',\n 'Jaw',\n 'Jejunum/Ilium',\n 'Kidney',\n 'Kidney  ',\n 'Larynx',\n 'Larynx (Glottic)',\n 'Larynx (Subglottic)',\n 'Left Breast',\n 'Left Colon',\n 'Left Distal Femur',\n 'Left Femur',\n 'Left Kidney',\n 'Left Knee',\n 'Left Leg',\n 'Left Lower Lobe Lung',\n 'Left Lower Lung Lobe',\n 'Left Lung',\n 'Left Occipital mass',\n 'Left parieto-occipital lobe',\n 'Left Posterior Shoulder',\n 'Left Proximal Tibia',\n 'Left supraclavicular lymph node',\n 'Left supraclavicular region',\n 'Left Temple',\n 'Left temporal lobe',\n 'Left thigh',\n 'Left Upper And Lower Lobe Lung',\n 'Left Upper Lobe Lung',\n 'Left Upper Lobe Lung Invasive Into Bronchus And Lower Lobe',\n 'Left ureter',\n 'Left Vulva',\n 'Leg',\n 'Leukapheresis',\n 'Liver',\n 'Liver ',\n 'Liver & Lung',\n 'Liver metastasis',\n 'Liver, Left Lobe',\n 'Local Lymph Node',\n 'Lower Alveolus And Gingiva',\n 'Lower Back',\n 'Lower Extremity',\n 'Lower Gingiva',\n 'Lower intrathoracic oesophagus',\n 'Lower Left Lobe Lung',\n 'Lower Lobe, Lung',\n 'Lower right lung lobe',\n 'Lung',\n 'Lung ',\n 'Lung Lymph Node',\n 'Lung mass',\n 'Lung metastasis',\n 'lung metastasis',\n 'Lung/pleura',\n 'Lymph Node',\n 'Lymph Node ',\n 'Lymphatic system',\n 'Mammary gland',\n 'Mammary Gland',\n 'Mammary gland/duct',\n 'Maxilla',\n 'Mediastinal Lymph Node',\n 'Mediastinum',\n 'Mesenteric Lymph Node',\n 'Mesenterium',\n 'Middle intrathoracic oesophagus',\n 'Middle Lobe, Lung',\n 'Mouth',\n 'Mouth floor',\n 'Mouth Floor',\n 'Muscle',\n 'Neck',\n 'Neck ',\n 'Neck Mass',\n 'Neck of the urinary bladder',\n 'NET / Axillary Lymph Node',\n 'Neural',\n 'Not collected',\n 'Not Collected',\n 'Not provided',\n 'Not Provided',\n 'Not reported',\n 'NS',\n 'Occipital Lobe',\n 'Oesophagus',\n 'Omentum',\n 'Oral Aveolus',\n 'Oral Cavity',\n 'Oral floor',\n 'Oral, gingiva',\n 'Orbit',\n 'Orbit ',\n 'Oropharynx',\n 'Os frontalis',\n 'Other',\n 'Ovary',\n 'Pancreas',\n 'Pancreas ',\n 'Pancreatic body',\n 'Pancreatic duct',\n 'Pancreatic head',\n 'Pancreatic NET & Liver',\n 'Pancreatic tail',\n 'Paracaval Lymph Node',\n 'Paracentesis',\n 'Paragastric Lymph Node',\n 'Parapharyngeal',\n 'Pararenal lymph node',\n 'Paraspinal mass',\n 'Paraspinal mass ',\n 'Paraspinal mass resection',\n 'Paratesticular',\n 'Parathyroid / Neck',\n 'Paratracheal Lymph Node',\n 'Parietal Lobe',\n 'Pelvic',\n 'Pelvic Mass',\n 'Pelvis',\n 'Peri-Rectal Mass',\n 'Pericardial Effusion',\n 'Pericardial fluid',\n 'Pericardium',\n 'Perineum',\n 'Peripheral Blood',\n 'Peripheral Fluid',\n 'Peritoneal',\n 'Peritoneal & Ascites',\n 'Peritoneal Ascites',\n 'Peritoneal ascitic fluid ',\n 'Peritoneal cavity',\n 'Peritoneal Cavity',\n 'Peritoneal Effusion',\n 'Peritoneal Fluid',\n 'Peritoneal mass',\n 'Peritoneum',\n 'Peritracheal ',\n 'Pharynx',\n 'Pineal',\n 'Placenta',\n 'Pleura',\n 'Pleural cavity',\n 'Pleural Cavity',\n 'Pleural effusion',\n 'Pleural Effusion',\n 'Pleural Effusion fluid',\n 'Pleural fluid',\n 'Pleural Fluid',\n 'Plueral Effusion',\n 'Pontine meninges ',\n 'Post Mortem Blood',\n 'Post Mortem Liver ',\n 'Post-Cricoid',\n 'Posterior Fossa',\n 'Posterior mediastinum',\n 'Primary Colon',\n 'Primary Colon & Liver',\n 'Primary Colon L',\n 'Primary Colon R',\n 'Primary Colon Recto-Sigmoid',\n 'Primary Colon Sigmoid',\n 'Primary Tumour',\n 'Prostate',\n 'Prostate gland',\n 'Pyloric lymph nodes',\n 'Rectal / Abdomen',\n 'Rectosigmoid junction',\n 'Rectum',\n 'Rectum And Distal Sigmoid',\n 'Renal',\n 'Renal pelvis',\n 'Renal Pelvis',\n 'Respiratory/Thoracic',\n 'Retro-peritoneal Lymph Node',\n 'Retromolar Trigone',\n 'Retroperitoneal embroyonal tumour',\n 'Retroperitoneal Lymph Node',\n 'Retroperitoneal Mass',\n 'Retroperitoneum',\n 'Retroperitoneum ',\n 'Right Axillary lymph node',\n 'Right Axillary Lymph Node',\n 'Right Breast',\n 'Right Breast metastasis',\n 'Right Buttock',\n 'Right Cheek',\n 'Right colon',\n 'Right Colon',\n 'Right Distal Femur',\n 'Right femur/rib/vertebra',\n 'Right frontal parieto-occipital cortex',\n 'Right Humerus',\n 'Right Inguinal Mass',\n 'Right Kidney',\n 'Right Lower Lobe',\n 'Right Lower Lobe Lung',\n 'Right Neck mass',\n 'Right parietal lobe',\n 'Right Parietal Lobe',\n 'Right Popliteal',\n 'Right Proximal Ulna',\n 'Right Sylvian Fissure',\n 'Right temporal lobe',\n 'Right Upper Lobe Lung',\n 'Right upper lobe lung',\n 'Sacral bone',\n 'Sacral Bone',\n 'Sacral Vertebrae',\n 'Salivary gland',\n 'Scalp',\n 'Scalp And Right Parotid',\n 'Scapula',\n 'Shoulder',\n 'Shoulder Tumour',\n 'Sigmoid',\n 'Sigmoid Colon',\n 'Sigmoid colon',\n 'Sigmoid Colon And Distal Anastomotic Margin',\n 'Sigmoid/Rectum',\n 'Skeletal Muscle',\n 'Skin',\n 'Skin  ',\n 'Skin (Lower Leg)',\n 'Skin Back',\n 'Skin Of Breast',\n 'Skin, Left Thigh',\n 'Skin, Left Upper Back',\n 'Skin, Right Leg',\n 'Skin, Right Posterior Arm',\n 'Small Intestine',\n 'Small intestine',\n 'Soft tissue',\n 'Soft Tissue',\n 'Soft Tissue, Left Lateral Mallelos',\n 'Spinal Fluid',\n 'Spine',\n 'Spleen',\n 'Splenic Flexure of Colon',\n 'Splenic Flexure Of Colon',\n 'Sternal Mass',\n 'stomach',\n 'Stomach',\n 'Stomach ',\n 'Stomach (NOS)',\n 'Subcutaneous Plasmacytoma',\n 'Subcutaneous tissue',\n 'Submaxillary salivary gland',\n 'subserosa of fallopian tube',\n 'Superior leg ',\n 'Supra-orbital area',\n 'Supra-Orbital Area',\n 'Supraclavicular',\n 'Supraclavicular Fossa',\n 'Supraclavicular lymph node',\n 'Supraglottis',\n 'Synovium',\n 'Temporal Cortex',\n 'Temporal Lobe',\n 'Temporo-Occipital Lobe',\n 'Testes ',\n 'Testis',\n 'Thalamus',\n 'Thigh',\n 'Thigh ',\n 'Thigh muscle',\n 'Thoracic Lymph Node',\n 'Thoracic Mass',\n 'Thorax',\n 'Thumb ',\n 'Thyroid',\n 'Thyroid (Retrosternal mass)',\n 'Tibia',\n 'Tongue',\n 'Tonsil',\n 'Transverse',\n 'Transverse And Left Colon',\n 'Transverse Colon',\n 'Transverse colon',\n 'Umbilicus',\n 'Under Finger Nail',\n 'Upper (cervical) oesophagus',\n 'Upper Limb NOS',\n 'Upper Lobe, Lung',\n 'Upper maxilla',\n 'Upper Mid Descending Colon',\n 'Urinary Bladder',\n 'Uterine Body',\n 'Uterine cervix',\n 'Uterine Cervix',\n 'Uterine Corpus',\n 'Uterus',\n 'Uveal Melanoma',\n 'Vagina',\n 'Ventricular mass',\n 'Vertebral bone',\n 'Vulva']"
     },
     "execution_count": 56,
     "metadata": {},
     "output_type": "execute_result"
    }
   ],
   "source": [
    "list(Unique_CS.collection_site.unique())"
   ],
   "metadata": {
    "collapsed": false,
    "ExecuteTime": {
     "end_time": "2023-07-28T12:05:43.217048Z",
     "start_time": "2023-07-28T12:05:43.201344Z"
    }
   }
  },
  {
   "cell_type": "code",
   "execution_count": null,
   "outputs": [],
   "source": [],
   "metadata": {
    "collapsed": false
   }
  },
  {
   "cell_type": "markdown",
   "source": [
    "## Data type STRING to Number"
   ],
   "metadata": {
    "collapsed": false
   }
  },
  {
   "cell_type": "code",
   "execution_count": 32,
   "outputs": [],
   "source": [
    "def change_data_type(path, provider, mol_type):\n",
    "    cols = {\"cna\": [\"log10r_cna\", \"log2r_cna\"],\n",
    "            \"mut\": [\"read_depth\"], ## \"allele_frequency\" and \"seq_start_position: cant be set as 0\n",
    "            \"expression\": [\"z_score\", \"rnaseq_tpm\", \"rnaseq_fpkm\", \"rnaseq_count\",\n",
    "                           \"affy_hgea_expression_value\", \"illumina_hgea_expression_value\"]} ## \"rnaseq_coverage\" cant be set as 0\n",
    "\n",
    "    file_list = get_files(path)\n",
    "    files_to_extract = [f for f in file_list if f.endswith('.tsv')]\n",
    "    fillcols = cols[mol_type]\n",
    "    if len(files_to_extract)>0:\n",
    "        print(\"Reading Patient sample for: \"+ provider)\n",
    "        for f in files_to_extract:\n",
    "            ## Implement some checks for expression columns\n",
    "            file_path = join(path, f)\n",
    "            metadata = read_metadata_without_fields(file_path)\n",
    "            metadata[fillcols] = metadata[fillcols].fillna(0)\n",
    "            metadata.to_csv(file_path, sep='\\t', index=False)\n",
    "    else:\n",
    "        print(provider + \": No file found.\")"
   ],
   "metadata": {
    "collapsed": false,
    "ExecuteTime": {
     "end_time": "2023-11-13T12:27:37.698155Z",
     "start_time": "2023-11-13T12:27:37.667453Z"
    }
   }
  },
  {
   "cell_type": "code",
   "execution_count": 33,
   "outputs": [
    {
     "name": "stdout",
     "output_type": "stream",
     "text": [
      "BROD: No file found.\n",
      "Reading Patient sample for: CCIA\n",
      "Reading Patient sample for: CHOP\n",
      "Reading Patient sample for: CMP\n",
      "Reading Patient sample for: CRL\n",
      "CSHL: No file found.\n",
      "Reading Patient sample for: CUIMC\n",
      "Curie-BC: No file found.\n",
      "Reading Patient sample for: Curie-LC\n",
      "Curie-OC: No file found.\n",
      "DFCI-CPDM: No file found.\n",
      "Reading Patient sample for: GCCRI\n",
      "HCI-BCM: No file found.\n",
      "HKU: No file found.\n",
      "Reading Patient sample for: IRCC-CRC\n",
      "Reading Patient sample for: IRCC-GC\n",
      "Reading Patient sample for: JAX\n",
      "Reading Patient sample for: LIH\n",
      "Reading Patient sample for: LurieChildrens\n",
      "MDAnderson: No file found.\n",
      "Reading Patient sample for: MDAnderson-CCH\n",
      "Reading Patient sample for: NKI\n",
      "PDMR: No file found.\n",
      "Reading Patient sample for: PMLB\n",
      "PMLB-Organoid: No file found.\n",
      "SANG: No file found.\n",
      "SJCRH: No file found.\n",
      "TRACE: No file found.\n",
      "UCD: No file found.\n",
      "UMCG: No file found.\n",
      "Reading Patient sample for: UOC-BC\n",
      "UOM-BC: No file found.\n",
      "VHIO-BC: No file found.\n",
      "VHIO-CRC: No file found.\n",
      "VHIO-PC: No file found.\n",
      "WUSTL: No file found.\n",
      "Wistar-MDAnderson-Penn: No file found.\n",
      "BROD: No file found.\n",
      "Reading Patient sample for: CCIA\n",
      "Reading Patient sample for: CHOP\n",
      "Reading Patient sample for: CMP\n",
      "Reading Patient sample for: CRL\n",
      "CSHL: No file found.\n",
      "Reading Patient sample for: CUIMC\n",
      "Curie-BC: No file found.\n",
      "Curie-LC: No file found.\n",
      "Curie-OC: No file found.\n",
      "DFCI-CPDM: No file found.\n",
      "Reading Patient sample for: GCCRI\n",
      "HCI-BCM: No file found.\n",
      "HKU: No file found.\n",
      "Reading Patient sample for: IRCC-CRC\n",
      "IRCC-GC: No file found.\n",
      "Reading Patient sample for: JAX\n",
      "Reading Patient sample for: LIH\n",
      "Reading Patient sample for: LurieChildrens\n",
      "MDAnderson: No file found.\n",
      "Reading Patient sample for: MDAnderson-CCH\n",
      "Reading Patient sample for: NKI\n",
      "Reading Patient sample for: PDMR\n",
      "PMLB: No file found.\n",
      "PMLB-Organoid: No file found.\n",
      "SANG: No file found.\n",
      "SJCRH: No file found.\n",
      "TRACE: No file found.\n",
      "UCD: No file found.\n",
      "UMCG: No file found.\n",
      "Reading Patient sample for: UOC-BC\n",
      "Reading Patient sample for: UOM-BC\n",
      "VHIO-BC: No file found.\n",
      "VHIO-CRC: No file found.\n",
      "VHIO-PC: No file found.\n",
      "WUSTL: No file found.\n",
      "Wistar-MDAnderson-Penn: No file found.\n"
     ]
    }
   ],
   "source": [
    "mol_types = [\"cna\", \"mut\", \"expression\"]\n",
    "for mol_type in mol_types:\n",
    "    for provider in sorted(get_dirs(home)): ## get_dirs will get the provider dirs in updog\n",
    "        change_data_type(join(home, provider, mol_type), provider, mol_type) ## File rename: pdx_models to pdx_model using the"
   ],
   "metadata": {
    "collapsed": false,
    "ExecuteTime": {
     "end_time": "2023-11-13T13:20:54.361359Z",
     "start_time": "2023-11-13T12:27:38.031933Z"
    }
   }
  },
  {
   "cell_type": "code",
   "execution_count": 41,
   "outputs": [
    {
     "name": "stdout",
     "output_type": "stream",
     "text": [
      "1. BROD: 42\n",
      "2. CCIA: 1\n",
      "3. CHOP: 1\n",
      "4. CMP: 2\n",
      "5. CRL: 1\n",
      "6. CSHL: 38\n",
      "7. CUIMC: 2\n",
      "8. Curie-BC: 5\n",
      "9. Curie-LC: 2\n",
      "10. GCCRI: 1\n",
      "11. IRCC-CRC: 1\n",
      "12. IRCC-GC: 1\n",
      "13. JAX: 354\n",
      "14. LIH: 2\n",
      "15. LurieChildrens: 1\n",
      "16. MDAnderson-CCH: 1\n",
      "17. NKI: 7\n",
      "18. PDMR: 2\n",
      "19. PMLB: 3\n",
      "20. TRACE: 2\n",
      "21. UOC-BC: 2\n",
      "22. UOM-BC: 1\n",
      "23. VHIO-CRC: 2\n",
      "49.375\n"
     ]
    }
   ],
   "source": [],
   "metadata": {
    "collapsed": false,
    "ExecuteTime": {
     "end_time": "2023-11-13T15:14:23.146850Z",
     "start_time": "2023-11-13T15:14:23.089394Z"
    }
   }
  },
  {
   "cell_type": "code",
   "execution_count": null,
   "outputs": [],
   "source": [],
   "metadata": {
    "collapsed": false
   }
  },
  {
   "cell_type": "markdown",
   "source": [
    "## JAX Histology Images\n",
    "### Generate file list"
   ],
   "metadata": {
    "collapsed": false
   }
  },
  {
   "cell_type": "code",
   "execution_count": 55,
   "outputs": [],
   "source": [
    "JAX_Image_file_path = \"/Users/tushar/CancerModels/submission/JAX - BIA/JAXPDXHistologyImageDetails.xlsx\"\n",
    "JAX_BIA_fileList_path = \"/Users/tushar/CancerModels/submission/JAX - BIA/JAX_PDX_BIA_fileList.xlsx\"\n",
    "input_path = \"/Users/tushar/CancerModels/submission/JAX - BIA/uploads\"\n",
    "output_path = \"/Users/tushar/CancerModels/submission/JAX - BIA/submission\""
   ],
   "metadata": {
    "collapsed": false,
    "ExecuteTime": {
     "end_time": "2023-08-16T20:53:47.645645Z",
     "start_time": "2023-08-16T20:53:47.632413Z"
    }
   }
  },
  {
   "cell_type": "code",
   "execution_count": 45,
   "outputs": [],
   "source": [
    "def process_JAX_histology_excel(excel_in):\n",
    "    JAX_BIA_file = pd.read_excel(excel_in).sort_values(\"model_id\").reset_index(drop=True)\n",
    "    JAX_BIA_file.loc[JAX_BIA_file.description.str.contains(\"PDX\"), \"sample_type\"] = \"pdx\"\n",
    "    JAX_BIA_file.loc[JAX_BIA_file.description.str.contains(\"Patient\"), \"sample_type\"] = \"patient\"\n",
    "    JAX_BIA_file['passage'] = JAX_BIA_file['description'].str[:2]\n",
    "    JAX_BIA_file.loc[JAX_BIA_file.sample_type == 'patient', \"passage\"] = \"-\"\n",
    "    JAX_BIA_file = JAX_BIA_file[JAX_BIA_file.sample_type == \"pdx\"]\n",
    "    return JAX_BIA_file\n",
    "\n",
    "def convert_JPEG_to_TIFF(in_file, out_file):\n",
    "    im = Image.open(in_file)\n",
    "    im.save(out_file, 'TIFF')\n",
    "\n",
    "\n",
    "def generate_TIFF_and_fileList(dataframe, in_path, out_path, df_out_file):\n",
    "    if not exists(out_path):\n",
    "        makedirs(out_path)\n",
    "    dataframe['Files'] = 'submission/'+ dataframe['model_id'] +\"/\"+ dataframe['file'].str.replace(\".jpg\", \".tiff\")\n",
    "    unique_models = dataframe.model_id.unique()\n",
    "    for i in tqdm(range(0, len(unique_models)), desc =\"Processing model images: \"):\n",
    "        model = unique_models[i]\n",
    "        new_path = join(out_path, model)\n",
    "        if not exists(new_path):\n",
    "            makedirs(new_path)\n",
    "        subset = dataframe[dataframe.model_id == model]\n",
    "        files = list(subset.file)\n",
    "        for file in files:\n",
    "            out_file = file.replace(\".jpg\", \".tiff\")\n",
    "            convert_JPEG_to_TIFF(join(in_path, file), join(new_path, out_file))\n",
    "    dataframe.to_excel(df_out_file, index=False)\n",
    "\n",
    "def organise_data_for_BIA_submission(excel_in, excel_out, file_in, file_out):\n",
    "    dataframe = process_JAX_histology_excel(excel_in)\n",
    "    generate_TIFF_and_fileList(dataframe, file_in, file_out, excel_out)\n"
   ],
   "metadata": {
    "collapsed": false,
    "ExecuteTime": {
     "end_time": "2023-11-22T11:32:57.756818Z",
     "start_time": "2023-11-22T11:32:57.721794Z"
    }
   }
  },
  {
   "cell_type": "code",
   "execution_count": 52,
   "outputs": [],
   "source": [
    "organise_data_for_BIA_submission(JAX_Image_file_path, JAX_BIA_fileList_path, input_path, output_path)"
   ],
   "metadata": {
    "collapsed": false,
    "ExecuteTime": {
     "end_time": "2023-11-23T16:45:05.129955Z",
     "start_time": "2023-11-23T16:45:05.052844Z"
    }
   }
  },
  {
   "cell_type": "code",
   "execution_count": 53,
   "outputs": [
    {
     "name": "stderr",
     "output_type": "stream",
     "text": [
      "Processing model images: 100%|██████████| 433/433 [00:56<00:00,  7.73it/s]\n"
     ]
    }
   ],
   "source": [
    "JAX_BIA_file['file'].str.replace(\".jpg\", \".tiff\")"
   ],
   "metadata": {
    "collapsed": false,
    "ExecuteTime": {
     "end_time": "2023-11-23T16:46:05.782253Z",
     "start_time": "2023-11-23T16:45:05.891257Z"
    }
   }
  },
  {
   "cell_type": "code",
   "execution_count": null,
   "outputs": [],
   "source": [],
   "metadata": {
    "collapsed": false,
    "ExecuteTime": {
     "end_time": "2023-11-23T16:44:56.638715Z",
     "start_time": "2023-11-23T16:44:56.610369Z"
    }
   }
  },
  {
   "cell_type": "markdown",
   "source": [
    "## LIH Gene expression data"
   ],
   "metadata": {
    "collapsed": false
   }
  },
  {
   "cell_type": "code",
   "execution_count": 18,
   "outputs": [],
   "source": [
    "path = \"/Users/tushar/CancerModels/submission/LIH/NORLUX_PDOX_gene_Expression/\"\n",
    "files = [f for f in get_files(path) if f.endswith('.xlsx')]\n",
    "mol_sample = pd.read_csv(\"/Users/tushar/CancerModels/pdxfinder-data/data/UPDOG/LIH/LIH_molecular_metadata-sample.tsv\", sep='\\t')"
   ],
   "metadata": {
    "collapsed": false,
    "ExecuteTime": {
     "end_time": "2024-01-30T19:58:45.330995Z",
     "start_time": "2024-01-30T19:58:45.189179Z"
    }
   }
  },
  {
   "cell_type": "code",
   "execution_count": 21,
   "outputs": [
    {
     "name": "stderr",
     "output_type": "stream",
     "text": [
      "Processing gene expression data: 100%|██████████| 28/28 [09:43<00:00, 20.84s/it]\n"
     ]
    }
   ],
   "source": [
    "for i in tqdm(range(0, len(files)), desc =\"Processing gene expression data: \"):\n",
    "    f = files[i]\n",
    "    out_data = pd.read_csv(\"/Users/tushar/CancerModels/pdxfinder-data/template/active_templates/expression/expression_template-sheet.tsv\", sep=\"\\t\")\n",
    "    model = pd.read_excel(join(path, f), sheet_name=None, engine='openpyxl')\n",
    "    model = pd.concat(model.values(), ignore_index=True)\n",
    "    out_data[out_data.columns] = model[out_data.columns]\n",
    "    out_data[\"platform_id\"] = \"expression_NovaSeq_6000\"\n",
    "    out_data.drop(['platform'], axis=1).to_csv( join(path, \"LIH_expression_\" + f.replace(\".xlsx\", \".tsv\")), sep=\"\\t\", index=False)\n",
    "    #print(model.iloc[0, [\"model_id\", \"sample_id\", \"sample_origin\", \"passage\", \"host_strain_nomenclature\"]])"
   ],
   "metadata": {
    "collapsed": false,
    "ExecuteTime": {
     "end_time": "2024-01-30T20:08:43.716852Z",
     "start_time": "2024-01-30T19:59:00.132669Z"
    }
   }
  },
  {
   "cell_type": "code",
   "outputs": [],
   "source": [
    "import math"
   ],
   "metadata": {
    "collapsed": false,
    "ExecuteTime": {
     "end_time": "2024-01-31T10:40:44.021523Z",
     "start_time": "2024-01-31T10:40:43.953216Z"
    }
   },
   "execution_count": 102
  },
  {
   "cell_type": "markdown",
   "source": [
    "# Curie BC CNA data"
   ],
   "metadata": {
    "collapsed": false
   }
  },
  {
   "cell_type": "code",
   "outputs": [],
   "source": [
    "cna_data_path = '/Users/tushar/CancerModels/submission/Curie/mol'\n",
    "curie_bc_ps = '/Users/tushar/CancerModels/pdxfinder-data/data/UPDOG/Curie-BC/Curie-BC_metadata-patient_sample.tsv'\n",
    "curie_bc_mms = '/Users/tushar/CancerModels/pdxfinder-data/data/UPDOG/Curie-BC/Curie-BC_molecular_metadata-sample.tsv'\n",
    "curie_bc_mms = read_metadata_with_fields(curie_bc_mms)\n",
    "platform = {\"cytoscan array\": \"cna_cytoscan_array\", \"SNP6 array\": \"cna_snp6\"}\n",
    "files = [[platform[d], f.replace(' Cytoscan.xls', '').replace(' SNP6.xls', ''), join(cna_data_path, d, f)] for d in get_dirs(cna_data_path) for f in get_files(join(cna_data_path, d)) if f.__contains__('xls')]\n",
    "\n",
    "mol_sample = '/Users/tushar/CancerModels/submission/Curie/mol/cna_template_CGH_CN.xlsx'\n",
    "mol_sample = read_excel_sheets_merged(mol_sample)\n",
    "mol_sample = mol_sample[['model_id', 'sample_id', 'sample_origin', 'passage', 'host_strain_nomenclature', 'platform']] \n",
    "mol_sample['platform'] = mol_sample['platform'].str.replace(' HD', '').replace(platform).str.lower().replace(platform)\n",
    "mol_sample = mol_sample[mol_sample.platform.isin(platform.values())].drop_duplicates()\n",
    "mol_sample = mol_sample.merge(pd.DataFrame(files, columns=['platform', 'sample_id', 'filename']), on='sample_id', how='right')\n",
    "mol_sample['sample_origin'] = 'xenograft'\n",
    "mol_sample['passage'] = mol_sample['passage'].fillna(0).astype(int)\n",
    "mol_sample['host_strain_nomenclature'] = mol_sample['host_strain_nomenclature'].fillna('Crl:NU(Ico)-Foxn1nu').str.replace('Crl:NU(Ico)-Foxn1nu', 'Crl:NU(Ico)-Foxn1<sup>nu</sup>')\n",
    "mol_sample['platform_id'] = mol_sample['platform_y']\n",
    "mol_sample = mol_sample.rename(columns={'sample_id': 'model_id', 'model_id': 'sample_id'}).drop(['platform_y', 'platform_x'], axis=1)\n",
    "mol_sample.loc[mol_sample['model_id'] == 'HBCx-176', 'sample_id'] = 'BC1254'\n",
    "mol_sample.loc[mol_sample['model_id'] == 'HBCx-8', 'sample_id'] = 'BC138'"
   ],
   "metadata": {
    "collapsed": false,
    "ExecuteTime": {
     "end_time": "2024-01-31T11:03:55.296103Z",
     "start_time": "2024-01-31T11:03:55.211480Z"
    }
   },
   "execution_count": 112
  },
  {
   "cell_type": "code",
   "outputs": [
    {
     "name": "stdout",
     "output_type": "stream",
     "text": [
      "/Users/tushar/CancerModels/submission/Curie/mol/cytoscan array/HBCx-176 Cytoscan.xls\n",
      "/Users/tushar/CancerModels/submission/Curie/mol/cytoscan array/HBCx-124 Cytoscan.xls\n",
      "/Users/tushar/CancerModels/submission/Curie/mol/cytoscan array/HBCx-131 Cytoscan.xls\n",
      "/Users/tushar/CancerModels/submission/Curie/mol/cytoscan array/HBCx-137 Cytoscan.xls\n",
      "/Users/tushar/CancerModels/submission/Curie/mol/cytoscan array/HBCx-106 Cytoscan.xls\n",
      "/Users/tushar/CancerModels/submission/Curie/mol/cytoscan array/HBCx-92 Cytoscan.xls\n",
      "/Users/tushar/CancerModels/submission/Curie/mol/cytoscan array/HBCx-118 Cytoscan.xls\n",
      "/Users/tushar/CancerModels/submission/Curie/mol/cytoscan array/HBCx-139 Cytoscan.xls\n",
      "/Users/tushar/CancerModels/submission/Curie/mol/cytoscan array/HBCx-149 Cytoscan.xls\n",
      "/Users/tushar/CancerModels/submission/Curie/mol/cytoscan array/HBCx-180 Cytoscan.xls\n",
      "/Users/tushar/CancerModels/submission/Curie/mol/cytoscan array/HBCx-151 Cytoscan.xls\n",
      "/Users/tushar/CancerModels/submission/Curie/mol/cytoscan array/HBCx-134 Cytoscan.xls\n",
      "/Users/tushar/CancerModels/submission/Curie/mol/cytoscan array/HBCx-150 Cytoscan.xls\n",
      "/Users/tushar/CancerModels/submission/Curie/mol/cytoscan array/HBCx-142 Cytoscan.xls\n",
      "/Users/tushar/CancerModels/submission/Curie/mol/SNP6 array/HBCx-2 SNP6.xls\n",
      "/Users/tushar/CancerModels/submission/Curie/mol/SNP6 array/HBCx-8 SNP6.xls\n",
      "/Users/tushar/CancerModels/submission/Curie/mol/SNP6 array/HBCx-39 SNP6.xls\n",
      "/Users/tushar/CancerModels/submission/Curie/mol/SNP6 array/HBCx-30 SNP6.xls\n",
      "/Users/tushar/CancerModels/submission/Curie/mol/SNP6 array/HBCx-31 SNP6.xls\n"
     ]
    }
   ],
   "source": [
    "cna_template = pd.read_csv(\"/Users/tushar/CancerModels/pdxfinder-data/template/active_templates/cna/cna_template-sheet.tsv\", sep='\\t')\n",
    "mapper = {'chr': 'chromosome', 'chrStart': 'seq_start_position', 'chrEnd': 'seq_end_position', 'entrezid': 'ncbi_gene_id', 'Log2Ratio': 'log2r_cna'}\n",
    "for f in files:\n",
    "    pid, mid, fp = f\n",
    "    print(fp)\n",
    "    sid = mol_sample.loc[mol_sample['model_id'] == mid, 'sample_id'].reset_index(drop=True)[0]\n",
    "    if sid != None:\n",
    "        cna = pd.read_excel(fp, engine='xlrd')\n",
    "        cna['sample_id'] = sid\n",
    "        cna['platform_id'] = pid\n",
    "        cna.rename(columns=mapper, inplace=True)\n",
    "        cna['fold_change'] = 2**cna['log2r_cna']\n",
    "        cna['log10r_cna'] = cna['log2r_cna'] / math.log2(10)\n",
    "        for c in cna_template.columns:\n",
    "            if c not in cna.columns:\n",
    "                cna[c] = ''\n",
    "        cna = cna[cna_template.columns]\n",
    "        out_file = f'Curie-BC_cna_{mid}.tsv'\n",
    "        cna.to_csv(join('/Users/tushar/CancerModels/submission/Curie/cna', out_file), sep='\\t', index=False)\n",
    "    else:\n",
    "        print('No SID')"
   ],
   "metadata": {
    "collapsed": false,
    "ExecuteTime": {
     "end_time": "2024-01-31T11:01:04.473278Z",
     "start_time": "2024-01-31T11:00:41.169096Z"
    }
   },
   "execution_count": 109
  },
  {
   "cell_type": "code",
   "outputs": [
    {
     "data": {
      "text/plain": "                   Field                                           model_id  \\\n0           #Description  Unique identifier for all the PDXs derived fro...   \n1               #Example                                          CRC0228PR   \n2   #Format Requirements                                free alphanumerical   \n3            #Essential?                                          essential   \n4                    NaN                                             HBCx-3   \n..                   ...                                                ...   \n70                                                                   HBCx-2   \n71                                                                   HBCx-8   \n72                                                                  HBCx-39   \n73                                                                  HBCx-30   \n74                                                                  HBCx-31   \n\n                                            sample_id  \\\n0   Identifier of the sample from any patient tiss...   \n1                          CRC0228PRH0000000000D01000   \n2                                 free alphanumerical   \n3                                           essential   \n4                                            HBCx-3_S   \n..                                                ...   \n70                                               BC51   \n71                                              BC138   \n72                                              BC408   \n73                                              BC291   \n74                                              BC297   \n\n                                        sample_origin  \\\n0   The orgin of the sample - xenograft (extracted...   \n1                                           xenograft   \n2                                  xenograft, patient   \n3                                           essential   \n4                                           xenograft   \n..                                                ...   \n70                                          xenograft   \n71                                          xenograft   \n72                                          xenograft   \n73                                          xenograft   \n74                                          xenograft   \n\n                                              passage  \\\n0   Indicate the passage number of the sample wher...   \n1                                                   0   \n2                                 numerical, or blank   \n3                                           essential   \n4                                                   1   \n..                                                ...   \n70                                                 10   \n71                                                  0   \n72                                                  7   \n73                                                  8   \n74                                                  1   \n\n                                     host_strain_name  \\\n0   Host mouse strain name (e.g. NOD-SCID, NSG, et...   \n1                                            NOD SCID   \n2    follow strain name or Not Specified (if unknown)   \n3                                           essential   \n4                                                 NaN   \n..                                                ...   \n70                                                      \n71                                                      \n72                                                      \n73                                                      \n74                                                      \n\n                             host_strain_nomenclature  \\\n0   The full nomenclature form of the host mouse s...   \n1                    NOD.Cg-Prkdcscid Il2rgtm1Wjl/SzJ   \n2   https://www.jax.org/jax-mice-and-services/cust...   \n3                                           essential   \n4                      Crl:NU(Ico)-Foxn1<sup>nu</sup>   \n..                                                ...   \n70                     Crl:NU(Ico)-Foxn1<sup>nu</sup>   \n71                     Crl:NU(Ico)-Foxn1<sup>nu</sup>   \n72                     Crl:NU(Ico)-Foxn1<sup>nu</sup>   \n73                     Crl:NU(Ico)-Foxn1<sup>nu</sup>   \n74                     Crl:NU(Ico)-Foxn1<sup>nu</sup>   \n\n                      engrafted_tumor_collection_site  \\\n0   The anatomical site from which the xenograft s...   \n1                                        mammary glad   \n2                                 free alphanumerical   \n3                                           desirable   \n4                                      inter-scapular   \n..                                                ...   \n70                                                      \n71                                                      \n72                                                      \n73                                                      \n74                                                      \n\n                                         raw_data_url  \\\n0   Unique identify to platform metadata between s...   \n1                                           mutation1   \n2                                                 NaN   \n3                                           desirable   \n4                                                 NaN   \n..                                                ...   \n70                                                      \n71                                                      \n72                                                      \n73                                                      \n74                                                      \n\n                                          platform_id  \n0   Unique identify to platform metadata between s...  \n1                                           mutation1  \n2                                                 NaN  \n3                                           essential  \n4                   cytogenetics_immunohistochemistry  \n..                                                ...  \n70                                           cna_snp6  \n71                                           cna_snp6  \n72                                           cna_snp6  \n73                                           cna_snp6  \n74                                           cna_snp6  \n\n[75 rows x 10 columns]",
      "text/html": "<div>\n<style scoped>\n    .dataframe tbody tr th:only-of-type {\n        vertical-align: middle;\n    }\n\n    .dataframe tbody tr th {\n        vertical-align: top;\n    }\n\n    .dataframe thead th {\n        text-align: right;\n    }\n</style>\n<table border=\"1\" class=\"dataframe\">\n  <thead>\n    <tr style=\"text-align: right;\">\n      <th></th>\n      <th>Field</th>\n      <th>model_id</th>\n      <th>sample_id</th>\n      <th>sample_origin</th>\n      <th>passage</th>\n      <th>host_strain_name</th>\n      <th>host_strain_nomenclature</th>\n      <th>engrafted_tumor_collection_site</th>\n      <th>raw_data_url</th>\n      <th>platform_id</th>\n    </tr>\n  </thead>\n  <tbody>\n    <tr>\n      <th>0</th>\n      <td>#Description</td>\n      <td>Unique identifier for all the PDXs derived fro...</td>\n      <td>Identifier of the sample from any patient tiss...</td>\n      <td>The orgin of the sample - xenograft (extracted...</td>\n      <td>Indicate the passage number of the sample wher...</td>\n      <td>Host mouse strain name (e.g. NOD-SCID, NSG, et...</td>\n      <td>The full nomenclature form of the host mouse s...</td>\n      <td>The anatomical site from which the xenograft s...</td>\n      <td>Unique identify to platform metadata between s...</td>\n      <td>Unique identify to platform metadata between s...</td>\n    </tr>\n    <tr>\n      <th>1</th>\n      <td>#Example</td>\n      <td>CRC0228PR</td>\n      <td>CRC0228PRH0000000000D01000</td>\n      <td>xenograft</td>\n      <td>0</td>\n      <td>NOD SCID</td>\n      <td>NOD.Cg-Prkdcscid Il2rgtm1Wjl/SzJ</td>\n      <td>mammary glad</td>\n      <td>mutation1</td>\n      <td>mutation1</td>\n    </tr>\n    <tr>\n      <th>2</th>\n      <td>#Format Requirements</td>\n      <td>free alphanumerical</td>\n      <td>free alphanumerical</td>\n      <td>xenograft, patient</td>\n      <td>numerical, or blank</td>\n      <td>follow strain name or Not Specified (if unknown)</td>\n      <td>https://www.jax.org/jax-mice-and-services/cust...</td>\n      <td>free alphanumerical</td>\n      <td>NaN</td>\n      <td>NaN</td>\n    </tr>\n    <tr>\n      <th>3</th>\n      <td>#Essential?</td>\n      <td>essential</td>\n      <td>essential</td>\n      <td>essential</td>\n      <td>essential</td>\n      <td>essential</td>\n      <td>essential</td>\n      <td>desirable</td>\n      <td>desirable</td>\n      <td>essential</td>\n    </tr>\n    <tr>\n      <th>4</th>\n      <td>NaN</td>\n      <td>HBCx-3</td>\n      <td>HBCx-3_S</td>\n      <td>xenograft</td>\n      <td>1</td>\n      <td>NaN</td>\n      <td>Crl:NU(Ico)-Foxn1&lt;sup&gt;nu&lt;/sup&gt;</td>\n      <td>inter-scapular</td>\n      <td>NaN</td>\n      <td>cytogenetics_immunohistochemistry</td>\n    </tr>\n    <tr>\n      <th>...</th>\n      <td>...</td>\n      <td>...</td>\n      <td>...</td>\n      <td>...</td>\n      <td>...</td>\n      <td>...</td>\n      <td>...</td>\n      <td>...</td>\n      <td>...</td>\n      <td>...</td>\n    </tr>\n    <tr>\n      <th>70</th>\n      <td></td>\n      <td>HBCx-2</td>\n      <td>BC51</td>\n      <td>xenograft</td>\n      <td>10</td>\n      <td></td>\n      <td>Crl:NU(Ico)-Foxn1&lt;sup&gt;nu&lt;/sup&gt;</td>\n      <td></td>\n      <td></td>\n      <td>cna_snp6</td>\n    </tr>\n    <tr>\n      <th>71</th>\n      <td></td>\n      <td>HBCx-8</td>\n      <td>BC138</td>\n      <td>xenograft</td>\n      <td>0</td>\n      <td></td>\n      <td>Crl:NU(Ico)-Foxn1&lt;sup&gt;nu&lt;/sup&gt;</td>\n      <td></td>\n      <td></td>\n      <td>cna_snp6</td>\n    </tr>\n    <tr>\n      <th>72</th>\n      <td></td>\n      <td>HBCx-39</td>\n      <td>BC408</td>\n      <td>xenograft</td>\n      <td>7</td>\n      <td></td>\n      <td>Crl:NU(Ico)-Foxn1&lt;sup&gt;nu&lt;/sup&gt;</td>\n      <td></td>\n      <td></td>\n      <td>cna_snp6</td>\n    </tr>\n    <tr>\n      <th>73</th>\n      <td></td>\n      <td>HBCx-30</td>\n      <td>BC291</td>\n      <td>xenograft</td>\n      <td>8</td>\n      <td></td>\n      <td>Crl:NU(Ico)-Foxn1&lt;sup&gt;nu&lt;/sup&gt;</td>\n      <td></td>\n      <td></td>\n      <td>cna_snp6</td>\n    </tr>\n    <tr>\n      <th>74</th>\n      <td></td>\n      <td>HBCx-31</td>\n      <td>BC297</td>\n      <td>xenograft</td>\n      <td>1</td>\n      <td></td>\n      <td>Crl:NU(Ico)-Foxn1&lt;sup&gt;nu&lt;/sup&gt;</td>\n      <td></td>\n      <td></td>\n      <td>cna_snp6</td>\n    </tr>\n  </tbody>\n</table>\n<p>75 rows × 10 columns</p>\n</div>"
     },
     "execution_count": 114,
     "metadata": {},
     "output_type": "execute_result"
    }
   ],
   "source": [
    "for c in curie_bc_mms.columns:\n",
    "    if c not in mol_sample.columns:\n",
    "        mol_sample[c] = ''\n",
    "final_mms = pd.concat([curie_bc_mms, mol_sample[curie_bc_mms.columns]]).reset_index(drop=True)\n",
    "final_mms"
   ],
   "metadata": {
    "collapsed": false,
    "ExecuteTime": {
     "end_time": "2024-01-31T11:05:30.081371Z",
     "start_time": "2024-01-31T11:05:29.995535Z"
    }
   },
   "execution_count": 114
  },
  {
   "cell_type": "code",
   "outputs": [
    {
     "data": {
      "text/plain": "['BC51',\n 'BC138',\n 'BC297',\n 'BC408',\n 'BC965',\n 'BC1006',\n 'BC1060',\n 'BC1111',\n 'BC1115',\n 'BC1117',\n 'BC1128',\n 'BC1145',\n 'BC1151',\n 'BC1153',\n 'BC1254']"
     },
     "execution_count": 117,
     "metadata": {},
     "output_type": "execute_result"
    }
   ],
   "source": [
    "mut = read_metadata_with_fields(\"/Users/tushar/CancerModels/pdxfinder-data/data/UPDOG/Curie-BC/mut/Curie-BC_mut.tsv\")\n",
    "\n"
   ],
   "metadata": {
    "collapsed": false,
    "ExecuteTime": {
     "end_time": "2024-01-31T11:08:04.602888Z",
     "start_time": "2024-01-31T11:08:04.526522Z"
    }
   },
   "execution_count": 117
  },
  {
   "cell_type": "code",
   "outputs": [
    {
     "data": {
      "text/plain": "{'BC1080', 'BC1101', 'BC1270', 'BC291'}"
     },
     "execution_count": 122,
     "metadata": {},
     "output_type": "execute_result"
    }
   ],
   "source": [
    "set(mol_sample['sample_id'].unique()) - set(mut['sample_id'].unique()) "
   ],
   "metadata": {
    "collapsed": false,
    "ExecuteTime": {
     "end_time": "2024-01-31T11:09:26.580710Z",
     "start_time": "2024-01-31T11:09:26.524188Z"
    }
   },
   "execution_count": 122
  },
  {
   "cell_type": "code",
   "outputs": [
    {
     "data": {
      "text/plain": "{'mutation_NGS_ESOPE'}"
     },
     "execution_count": 126,
     "metadata": {},
     "output_type": "execute_result"
    }
   ],
   "source": [
    "set(mut['platform_id'].unique())"
   ],
   "metadata": {
    "collapsed": false,
    "ExecuteTime": {
     "end_time": "2024-01-31T11:18:39.259461Z",
     "start_time": "2024-01-31T11:18:39.205958Z"
    }
   },
   "execution_count": 126
  },
  {
   "cell_type": "code",
   "outputs": [
    {
     "name": "stderr",
     "output_type": "stream",
     "text": [
      "/var/folders/_2/g5d3zf4s41g0tvlqkc3_8wjr0000gp/T/ipykernel_81977/3867220052.py:2: SettingWithCopyWarning: \n",
      "A value is trying to be set on a copy of a slice from a DataFrame.\n",
      "Try using .loc[row_indexer,col_indexer] = value instead\n",
      "\n",
      "See the caveats in the documentation: https://pandas.pydata.org/pandas-docs/stable/user_guide/indexing.html#returning-a-view-versus-a-copy\n",
      "  mut_mms['platform_id'] = 'mutation_NGS_ESOPE'\n"
     ]
    }
   ],
   "source": [
    "mut_mms = mol_sample[mol_sample['sample_id'].isin(mut['sample_id'].unique())]\n",
    "mut_mms['platform_id'] = 'mutation_NGS_ESOPE'\n",
    "final_mms = pd.concat([final_mms, mut_mms[curie_bc_mms.columns]]).reset_index(drop=True)"
   ],
   "metadata": {
    "collapsed": false,
    "ExecuteTime": {
     "end_time": "2024-01-31T11:19:21.054364Z",
     "start_time": "2024-01-31T11:19:21.003017Z"
    }
   },
   "execution_count": 128
  },
  {
   "cell_type": "code",
   "outputs": [],
   "source": [
    "final_mms.to_csv('/Users/tushar/CancerModels/pdxfinder-data/data/UPDOG/Curie-BC/Curie-BC_molecular_metadata-sample.tsv', sep='\\t', index=False)"
   ],
   "metadata": {
    "collapsed": false,
    "ExecuteTime": {
     "end_time": "2024-01-31T11:20:27.493708Z",
     "start_time": "2024-01-31T11:20:27.423716Z"
    }
   },
   "execution_count": 130
  },
  {
   "cell_type": "markdown",
   "source": [
    "# PIVOT mol data cleanup"
   ],
   "metadata": {
    "collapsed": false
   }
  },
  {
   "cell_type": "code",
   "execution_count": 7,
   "outputs": [],
   "source": [
    "PIVOT = [\"CCIA\",\"CHOP\", \"GCCRI\", \"LurieChildrens\", \"MDAnderson-CCH\"]"
   ],
   "metadata": {
    "collapsed": false,
    "ExecuteTime": {
     "end_time": "2023-10-13T15:32:41.605138Z",
     "start_time": "2023-10-13T15:32:41.541747Z"
    }
   }
  },
  {
   "cell_type": "code",
   "execution_count": 8,
   "outputs": [],
   "source": [
    "def float_2_int(col):\n",
    "    return [int(x) if x!= '' else x for x in col.fillna('')]\n",
    "def convert_amino_acid_position(value):\n",
    "    if isinstance(value, str):\n",
    "        # Split the string by non-numeric characters and take the first part\n",
    "        position_str = value[1:-1]  \n",
    "        if position_str.__contains__('-'):\n",
    "            return value[0] + str(position_str) + value[-1]\n",
    "        return value[0] + str(int(float(position_str))) + value[-1]\n",
    "    # Return NaN for non-matching or NaN values\n",
    "    return ''\n",
    "\n",
    "def drop_dec(path, dt):\n",
    "    for file in get_files(path):\n",
    "        fp = join(path, file)\n",
    "        data = pd.read_csv(fp, sep='\\t')\n",
    "        if dt == 'cna':\n",
    "          data.strand = data.strand.fillna(1.0).astype(int)\n",
    "          data.seq_start_position = float_2_int(data.seq_start_position)\n",
    "          data.seq_end_position = float_2_int(data.seq_end_position)\n",
    "          data.ncbi_gene_id = float_2_int(data.ncbi_gene_id)\n",
    "        elif dt == 'expression':\n",
    "            data.ensembl_gene_id = float_2_int(data.ensembl_gene_id)\n",
    "        elif dt == 'mut':\n",
    "            data['amino_acid_change'] = data['amino_acid_change'].apply(convert_amino_acid_position)\n",
    "        data = data.iloc[:, 1:]\n",
    "        data.to_csv(fp, sep='\\t', index=False)\n",
    "def drop_decimal(provider):\n",
    "    dirs = get_dirs(provider)\n",
    "    dt = ['cna', 'expression', 'mut']\n",
    "    for d in dt:\n",
    "        if d in dirs:\n",
    "            new_path = join(provider, d)\n",
    "            drop_dec(new_path, d)    "
   ],
   "metadata": {
    "collapsed": false,
    "ExecuteTime": {
     "end_time": "2023-10-13T15:32:42.012480Z",
     "start_time": "2023-10-13T15:32:41.981820Z"
    }
   }
  },
  {
   "cell_type": "code",
   "execution_count": 9,
   "outputs": [
    {
     "name": "stderr",
     "output_type": "stream",
     "text": [
      "Processing PIVOT data: 100%|██████████| 5/5 [03:29<00:00, 41.87s/it]\n"
     ]
    }
   ],
   "source": [
    "for i in tqdm(range(0, len(PIVOT)), desc =\"Processing PIVOT data: \"):\n",
    "    provider = PIVOT[i]\n",
    "    drop_decimal(join(home, provider))"
   ],
   "metadata": {
    "collapsed": false,
    "ExecuteTime": {
     "end_time": "2023-10-13T15:36:56.321656Z",
     "start_time": "2023-10-13T15:33:26.907669Z"
    }
   }
  },
  {
   "cell_type": "code",
   "execution_count": null,
   "outputs": [],
   "source": [],
   "metadata": {
    "collapsed": false
   }
  },
  {
   "cell_type": "code",
   "execution_count": 10,
   "outputs": [],
   "source": [
    "PDMR_path = join(home, \"PDMR/expression/\")"
   ],
   "metadata": {
    "collapsed": false,
    "ExecuteTime": {
     "end_time": "2023-10-30T12:50:06.814445Z",
     "start_time": "2023-10-30T12:50:06.788487Z"
    }
   }
  },
  {
   "cell_type": "code",
   "execution_count": 12,
   "outputs": [],
   "source": [
    "for f in get_files(PDMR_path):\n",
    "    data = read_metadata_with_fields(join(PDMR_path, f))\n",
    "    data.drop(\"platform\", axis=1, inplace=True)\n",
    "    data.to_csv(join(PDMR_path, f), index=False, sep='\\t')"
   ],
   "metadata": {
    "collapsed": false,
    "ExecuteTime": {
     "end_time": "2023-10-30T12:58:29.224985Z",
     "start_time": "2023-10-30T12:55:38.323354Z"
    }
   }
  },
  {
   "cell_type": "code",
   "execution_count": null,
   "outputs": [],
   "source": [],
   "metadata": {
    "collapsed": false
   }
  },
  {
   "cell_type": "code",
   "execution_count": 11,
   "outputs": [],
   "source": [
    "missing_ids = \"/Users/tushar/Downloads/model_molecular_metadata_202310301437.csv\"\n",
    "missing_ids = pd.read_csv(missing_ids).sort_values(\"data_source\").reset_index(drop=True)"
   ],
   "metadata": {
    "collapsed": false,
    "ExecuteTime": {
     "end_time": "2023-10-31T10:55:02.126004Z",
     "start_time": "2023-10-31T10:55:02.093397Z"
    }
   }
  },
  {
   "cell_type": "code",
   "execution_count": 36,
   "outputs": [
    {
     "data": {
      "text/plain": "          model_id data_source     source                sample_id  \\\n0         CRL-3044         CRL  xenograft  A4632_(GenomeWideSNP_6)   \n1         CRL-3039         CRL  xenograft  A6297_(GenomeWideSNP_6)   \n2         CRL-3040         CRL  xenograft  A8251_(GenomeWideSNP_6)   \n3         CRL-3036         CRL  xenograft  A9492_(GenomeWideSNP_6)   \n4         CRL-3039         CRL  xenograft  A8445_(GenomeWideSNP_6)   \n..             ...         ...        ...                      ...   \n240   834989-109-R        PDMR  xenograft      834989-109-R-G5YVH2   \n241   395191-088-T        PDMR  xenograft   395191-088-T-H5QU77W68   \n242  K41856-061-R2        PDMR  xenograft     K41856-061-R2-C61FU2   \n243   428932-153-R        PDMR    patient             428932-153-R   \n244   355891-322-R        PDMR  xenograft      355891-322-R-G9UG85   \n\n     xenograft_passage                 raw_data_url               data_type  \\\n0                  2.0  A4632_(GenomeWideSNP_6).CEL  copy number alteration   \n1                  0.0  A6297_(GenomeWideSNP_6).CEL  copy number alteration   \n2                  0.0  A8251_(GenomeWideSNP_6).CEL  copy number alteration   \n3                  1.0  A9492_(GenomeWideSNP_6).CEL  copy number alteration   \n4                  2.0  A8445_(GenomeWideSNP_6).CEL  copy number alteration   \n..                 ...                          ...                     ...   \n240                1.0                          NaN                mutation   \n241                2.0                          NaN                mutation   \n242               25.0                          NaN                mutation   \n243                NaN                   ERR4627966                mutation   \n244                1.0                          NaN                mutation   \n\n                                  platform_name  data_exists  data_restricted  \\\n0    Affymetrix Genome-Wide Human SNP Array 6.0        False             True   \n1    Affymetrix Genome-Wide Human SNP Array 6.0        False             True   \n2    Affymetrix Genome-Wide Human SNP Array 6.0        False             True   \n3    Affymetrix Genome-Wide Human SNP Array 6.0        False             True   \n4    Affymetrix Genome-Wide Human SNP Array 6.0        False             True   \n..                                          ...          ...              ...   \n240                    Illumina HiSeq 2000/2500        False            False   \n241                    Illumina HiSeq 2000/2500        False            False   \n242                    Illumina HiSeq 2000/2500        False            False   \n243                    Illumina HiSeq 2000/2500        False            False   \n244                    Illumina HiSeq 2000/2500        False            False   \n\n     molecular_characterization_id  \\\n0                    1726576853006   \n1                    3281355014163   \n2                    2972117368850   \n3                    3083786518542   \n4                    3118146256916   \n..                             ...   \n240                  3350074490895   \n241                  3375844294660   \n242                  1812476198916   \n243                   816043786241   \n244                  2336462209028   \n\n                                     external_db_links  \n0                                                   []  \n1                                                   []  \n2                                                   []  \n3                                                   []  \n4                                                   []  \n..                                                 ...  \n240                                                NaN  \n241                                                NaN  \n242                                                NaN  \n243  [{\"column\": \"raw_data_url\", \"resource\": \"ENA\",...  \n244                                                NaN  \n\n[245 rows x 12 columns]",
      "text/html": "<div>\n<style scoped>\n    .dataframe tbody tr th:only-of-type {\n        vertical-align: middle;\n    }\n\n    .dataframe tbody tr th {\n        vertical-align: top;\n    }\n\n    .dataframe thead th {\n        text-align: right;\n    }\n</style>\n<table border=\"1\" class=\"dataframe\">\n  <thead>\n    <tr style=\"text-align: right;\">\n      <th></th>\n      <th>model_id</th>\n      <th>data_source</th>\n      <th>source</th>\n      <th>sample_id</th>\n      <th>xenograft_passage</th>\n      <th>raw_data_url</th>\n      <th>data_type</th>\n      <th>platform_name</th>\n      <th>data_exists</th>\n      <th>data_restricted</th>\n      <th>molecular_characterization_id</th>\n      <th>external_db_links</th>\n    </tr>\n  </thead>\n  <tbody>\n    <tr>\n      <th>0</th>\n      <td>CRL-3044</td>\n      <td>CRL</td>\n      <td>xenograft</td>\n      <td>A4632_(GenomeWideSNP_6)</td>\n      <td>2.0</td>\n      <td>A4632_(GenomeWideSNP_6).CEL</td>\n      <td>copy number alteration</td>\n      <td>Affymetrix Genome-Wide Human SNP Array 6.0</td>\n      <td>False</td>\n      <td>True</td>\n      <td>1726576853006</td>\n      <td>[]</td>\n    </tr>\n    <tr>\n      <th>1</th>\n      <td>CRL-3039</td>\n      <td>CRL</td>\n      <td>xenograft</td>\n      <td>A6297_(GenomeWideSNP_6)</td>\n      <td>0.0</td>\n      <td>A6297_(GenomeWideSNP_6).CEL</td>\n      <td>copy number alteration</td>\n      <td>Affymetrix Genome-Wide Human SNP Array 6.0</td>\n      <td>False</td>\n      <td>True</td>\n      <td>3281355014163</td>\n      <td>[]</td>\n    </tr>\n    <tr>\n      <th>2</th>\n      <td>CRL-3040</td>\n      <td>CRL</td>\n      <td>xenograft</td>\n      <td>A8251_(GenomeWideSNP_6)</td>\n      <td>0.0</td>\n      <td>A8251_(GenomeWideSNP_6).CEL</td>\n      <td>copy number alteration</td>\n      <td>Affymetrix Genome-Wide Human SNP Array 6.0</td>\n      <td>False</td>\n      <td>True</td>\n      <td>2972117368850</td>\n      <td>[]</td>\n    </tr>\n    <tr>\n      <th>3</th>\n      <td>CRL-3036</td>\n      <td>CRL</td>\n      <td>xenograft</td>\n      <td>A9492_(GenomeWideSNP_6)</td>\n      <td>1.0</td>\n      <td>A9492_(GenomeWideSNP_6).CEL</td>\n      <td>copy number alteration</td>\n      <td>Affymetrix Genome-Wide Human SNP Array 6.0</td>\n      <td>False</td>\n      <td>True</td>\n      <td>3083786518542</td>\n      <td>[]</td>\n    </tr>\n    <tr>\n      <th>4</th>\n      <td>CRL-3039</td>\n      <td>CRL</td>\n      <td>xenograft</td>\n      <td>A8445_(GenomeWideSNP_6)</td>\n      <td>2.0</td>\n      <td>A8445_(GenomeWideSNP_6).CEL</td>\n      <td>copy number alteration</td>\n      <td>Affymetrix Genome-Wide Human SNP Array 6.0</td>\n      <td>False</td>\n      <td>True</td>\n      <td>3118146256916</td>\n      <td>[]</td>\n    </tr>\n    <tr>\n      <th>...</th>\n      <td>...</td>\n      <td>...</td>\n      <td>...</td>\n      <td>...</td>\n      <td>...</td>\n      <td>...</td>\n      <td>...</td>\n      <td>...</td>\n      <td>...</td>\n      <td>...</td>\n      <td>...</td>\n      <td>...</td>\n    </tr>\n    <tr>\n      <th>240</th>\n      <td>834989-109-R</td>\n      <td>PDMR</td>\n      <td>xenograft</td>\n      <td>834989-109-R-G5YVH2</td>\n      <td>1.0</td>\n      <td>NaN</td>\n      <td>mutation</td>\n      <td>Illumina HiSeq 2000/2500</td>\n      <td>False</td>\n      <td>False</td>\n      <td>3350074490895</td>\n      <td>NaN</td>\n    </tr>\n    <tr>\n      <th>241</th>\n      <td>395191-088-T</td>\n      <td>PDMR</td>\n      <td>xenograft</td>\n      <td>395191-088-T-H5QU77W68</td>\n      <td>2.0</td>\n      <td>NaN</td>\n      <td>mutation</td>\n      <td>Illumina HiSeq 2000/2500</td>\n      <td>False</td>\n      <td>False</td>\n      <td>3375844294660</td>\n      <td>NaN</td>\n    </tr>\n    <tr>\n      <th>242</th>\n      <td>K41856-061-R2</td>\n      <td>PDMR</td>\n      <td>xenograft</td>\n      <td>K41856-061-R2-C61FU2</td>\n      <td>25.0</td>\n      <td>NaN</td>\n      <td>mutation</td>\n      <td>Illumina HiSeq 2000/2500</td>\n      <td>False</td>\n      <td>False</td>\n      <td>1812476198916</td>\n      <td>NaN</td>\n    </tr>\n    <tr>\n      <th>243</th>\n      <td>428932-153-R</td>\n      <td>PDMR</td>\n      <td>patient</td>\n      <td>428932-153-R</td>\n      <td>NaN</td>\n      <td>ERR4627966</td>\n      <td>mutation</td>\n      <td>Illumina HiSeq 2000/2500</td>\n      <td>False</td>\n      <td>False</td>\n      <td>816043786241</td>\n      <td>[{\"column\": \"raw_data_url\", \"resource\": \"ENA\",...</td>\n    </tr>\n    <tr>\n      <th>244</th>\n      <td>355891-322-R</td>\n      <td>PDMR</td>\n      <td>xenograft</td>\n      <td>355891-322-R-G9UG85</td>\n      <td>1.0</td>\n      <td>NaN</td>\n      <td>mutation</td>\n      <td>Illumina HiSeq 2000/2500</td>\n      <td>False</td>\n      <td>False</td>\n      <td>2336462209028</td>\n      <td>NaN</td>\n    </tr>\n  </tbody>\n</table>\n<p>245 rows × 12 columns</p>\n</div>"
     },
     "execution_count": 36,
     "metadata": {},
     "output_type": "execute_result"
    }
   ],
   "source": [
    "missing_ids"
   ],
   "metadata": {
    "collapsed": false,
    "ExecuteTime": {
     "end_time": "2023-11-01T11:26:44.984698Z",
     "start_time": "2023-11-01T11:26:44.935096Z"
    }
   }
  },
  {
   "cell_type": "code",
   "execution_count": 57,
   "outputs": [
    {
     "name": "stdout",
     "output_type": "stream",
     "text": [
      "CRL\n",
      "Curie-BC\n",
      "IRCC-CRC\n",
      "JAX\n",
      "LIH\n",
      "PDMR\n"
     ]
    },
    {
     "name": "stderr",
     "output_type": "stream",
     "text": [
      "/var/folders/_2/g5d3zf4s41g0tvlqkc3_8wjr0000gp/T/ipykernel_23946/4241553392.py:8: SettingWithCopyWarning: \n",
      "A value is trying to be set on a copy of a slice from a DataFrame.\n",
      "Try using .loc[row_indexer,col_indexer] = value instead\n",
      "\n",
      "See the caveats in the documentation: https://pandas.pydata.org/pandas-docs/stable/user_guide/indexing.html#returning-a-view-versus-a-copy\n",
      "  missing_meta['molecular_characterisation_type'], missing_meta['instrument_model'] = missing_meta['data_type'], missing_meta['platform_name']\n",
      "/var/folders/_2/g5d3zf4s41g0tvlqkc3_8wjr0000gp/T/ipykernel_23946/4241553392.py:8: SettingWithCopyWarning: \n",
      "A value is trying to be set on a copy of a slice from a DataFrame.\n",
      "Try using .loc[row_indexer,col_indexer] = value instead\n",
      "\n",
      "See the caveats in the documentation: https://pandas.pydata.org/pandas-docs/stable/user_guide/indexing.html#returning-a-view-versus-a-copy\n",
      "  missing_meta['molecular_characterisation_type'], missing_meta['instrument_model'] = missing_meta['data_type'], missing_meta['platform_name']\n",
      "/var/folders/_2/g5d3zf4s41g0tvlqkc3_8wjr0000gp/T/ipykernel_23946/4241553392.py:8: SettingWithCopyWarning: \n",
      "A value is trying to be set on a copy of a slice from a DataFrame.\n",
      "Try using .loc[row_indexer,col_indexer] = value instead\n",
      "\n",
      "See the caveats in the documentation: https://pandas.pydata.org/pandas-docs/stable/user_guide/indexing.html#returning-a-view-versus-a-copy\n",
      "  missing_meta['molecular_characterisation_type'], missing_meta['instrument_model'] = missing_meta['data_type'], missing_meta['platform_name']\n",
      "/var/folders/_2/g5d3zf4s41g0tvlqkc3_8wjr0000gp/T/ipykernel_23946/4241553392.py:8: SettingWithCopyWarning: \n",
      "A value is trying to be set on a copy of a slice from a DataFrame.\n",
      "Try using .loc[row_indexer,col_indexer] = value instead\n",
      "\n",
      "See the caveats in the documentation: https://pandas.pydata.org/pandas-docs/stable/user_guide/indexing.html#returning-a-view-versus-a-copy\n",
      "  missing_meta['molecular_characterisation_type'], missing_meta['instrument_model'] = missing_meta['data_type'], missing_meta['platform_name']\n",
      "/var/folders/_2/g5d3zf4s41g0tvlqkc3_8wjr0000gp/T/ipykernel_23946/4241553392.py:8: SettingWithCopyWarning: \n",
      "A value is trying to be set on a copy of a slice from a DataFrame.\n",
      "Try using .loc[row_indexer,col_indexer] = value instead\n",
      "\n",
      "See the caveats in the documentation: https://pandas.pydata.org/pandas-docs/stable/user_guide/indexing.html#returning-a-view-versus-a-copy\n",
      "  missing_meta['molecular_characterisation_type'], missing_meta['instrument_model'] = missing_meta['data_type'], missing_meta['platform_name']\n",
      "/var/folders/_2/g5d3zf4s41g0tvlqkc3_8wjr0000gp/T/ipykernel_23946/4241553392.py:8: SettingWithCopyWarning: \n",
      "A value is trying to be set on a copy of a slice from a DataFrame.\n",
      "Try using .loc[row_indexer,col_indexer] = value instead\n",
      "\n",
      "See the caveats in the documentation: https://pandas.pydata.org/pandas-docs/stable/user_guide/indexing.html#returning-a-view-versus-a-copy\n",
      "  missing_meta['molecular_characterisation_type'], missing_meta['instrument_model'] = missing_meta['data_type'], missing_meta['platform_name']\n",
      "/var/folders/_2/g5d3zf4s41g0tvlqkc3_8wjr0000gp/T/ipykernel_23946/4241553392.py:8: SettingWithCopyWarning: \n",
      "A value is trying to be set on a copy of a slice from a DataFrame.\n",
      "Try using .loc[row_indexer,col_indexer] = value instead\n",
      "\n",
      "See the caveats in the documentation: https://pandas.pydata.org/pandas-docs/stable/user_guide/indexing.html#returning-a-view-versus-a-copy\n",
      "  missing_meta['molecular_characterisation_type'], missing_meta['instrument_model'] = missing_meta['data_type'], missing_meta['platform_name']\n",
      "/var/folders/_2/g5d3zf4s41g0tvlqkc3_8wjr0000gp/T/ipykernel_23946/4241553392.py:8: SettingWithCopyWarning: \n",
      "A value is trying to be set on a copy of a slice from a DataFrame.\n",
      "Try using .loc[row_indexer,col_indexer] = value instead\n",
      "\n",
      "See the caveats in the documentation: https://pandas.pydata.org/pandas-docs/stable/user_guide/indexing.html#returning-a-view-versus-a-copy\n",
      "  missing_meta['molecular_characterisation_type'], missing_meta['instrument_model'] = missing_meta['data_type'], missing_meta['platform_name']\n",
      "/var/folders/_2/g5d3zf4s41g0tvlqkc3_8wjr0000gp/T/ipykernel_23946/4241553392.py:8: SettingWithCopyWarning: \n",
      "A value is trying to be set on a copy of a slice from a DataFrame.\n",
      "Try using .loc[row_indexer,col_indexer] = value instead\n",
      "\n",
      "See the caveats in the documentation: https://pandas.pydata.org/pandas-docs/stable/user_guide/indexing.html#returning-a-view-versus-a-copy\n",
      "  missing_meta['molecular_characterisation_type'], missing_meta['instrument_model'] = missing_meta['data_type'], missing_meta['platform_name']\n",
      "/var/folders/_2/g5d3zf4s41g0tvlqkc3_8wjr0000gp/T/ipykernel_23946/4241553392.py:8: SettingWithCopyWarning: \n",
      "A value is trying to be set on a copy of a slice from a DataFrame.\n",
      "Try using .loc[row_indexer,col_indexer] = value instead\n",
      "\n",
      "See the caveats in the documentation: https://pandas.pydata.org/pandas-docs/stable/user_guide/indexing.html#returning-a-view-versus-a-copy\n",
      "  missing_meta['molecular_characterisation_type'], missing_meta['instrument_model'] = missing_meta['data_type'], missing_meta['platform_name']\n",
      "/var/folders/_2/g5d3zf4s41g0tvlqkc3_8wjr0000gp/T/ipykernel_23946/4241553392.py:8: SettingWithCopyWarning: \n",
      "A value is trying to be set on a copy of a slice from a DataFrame.\n",
      "Try using .loc[row_indexer,col_indexer] = value instead\n",
      "\n",
      "See the caveats in the documentation: https://pandas.pydata.org/pandas-docs/stable/user_guide/indexing.html#returning-a-view-versus-a-copy\n",
      "  missing_meta['molecular_characterisation_type'], missing_meta['instrument_model'] = missing_meta['data_type'], missing_meta['platform_name']\n",
      "/var/folders/_2/g5d3zf4s41g0tvlqkc3_8wjr0000gp/T/ipykernel_23946/4241553392.py:8: SettingWithCopyWarning: \n",
      "A value is trying to be set on a copy of a slice from a DataFrame.\n",
      "Try using .loc[row_indexer,col_indexer] = value instead\n",
      "\n",
      "See the caveats in the documentation: https://pandas.pydata.org/pandas-docs/stable/user_guide/indexing.html#returning-a-view-versus-a-copy\n",
      "  missing_meta['molecular_characterisation_type'], missing_meta['instrument_model'] = missing_meta['data_type'], missing_meta['platform_name']\n"
     ]
    }
   ],
   "source": [
    "for pro in missing_ids.data_source.unique():\n",
    "    pro_path = join(home, pro)\n",
    "    print(pro)\n",
    "    missing_meta = missing_ids[missing_ids['data_source'] == pro]\n",
    "    sample = read_metadata_with_fields(join(pro_path, pro+\"_molecular_metadata-sample.tsv\"))\n",
    "    platform = read_metadata_with_fields(join(pro_path, pro+\"_molecular_metadata-platform.tsv\"))\n",
    "    joined = sample.merge(platform[[\"platform_id\", \"molecular_characterisation_type\", \"instrument_model\"]], on='platform_id', how='left')\n",
    "    missing_meta['molecular_characterisation_type'], missing_meta['instrument_model'] = missing_meta['data_type'], missing_meta['platform_name']\n",
    "    joined = joined.merge(missing_meta[['sample_id', 'molecular_characterisation_type', 'instrument_model', 'data_exists']], on =['sample_id', 'molecular_characterisation_type', 'instrument_model'], how='left', indicator=True)\n",
    "    joined = joined[joined['_merge'] == 'left_only']    #joined = joined[~joined['sample_id'].isin(missing_meta['sample_id'])]\n",
    "    joined = joined[sample.columns].reset_index(drop=True)\n",
    "    joined.to_csv(join(pro_path, pro+\"_molecular_metadata-sample.tsv\"), sep='\\t', index=False)"
   ],
   "metadata": {
    "collapsed": false,
    "ExecuteTime": {
     "end_time": "2023-11-01T11:48:54.381852Z",
     "start_time": "2023-11-01T11:48:54.113054Z"
    }
   }
  },
  {
   "cell_type": "code",
   "execution_count": 55,
   "outputs": [
    {
     "name": "stdout",
     "output_type": "stream",
     "text": [
      "CRL\n",
      "['mutation_Illumina_WES' 'copy_number_alteration_Affymetrix_SNP6.0'\n",
      " 'mutation_RNA_sequencing' 'expression_Affymetrix_HGU133plus2'\n",
      " 'expression_ILLUMINA' 'cytogenetics_Immunohistochemistry']\n",
      "(1910, 10)\n",
      "(1910, 12)\n",
      "(1895, 10)\n",
      "Curie-BC\n",
      "['cytogenetics_immunohistochemistry' 'mutation_NGS_ESOPE'\n",
      " 'mutation_NGS_DRAGON']\n",
      "(85, 10)\n",
      "(85, 12)\n",
      "(56, 10)\n",
      "IRCC-CRC\n",
      "['expression_Illumina_HT-12_v4_microarray' 'mutation_TargetedNGS_MUT'\n",
      " 'mutation_whole_exome_sequencing'\n",
      " 'copy_number_alteration_whole_exome_sequencing']\n",
      "(1407, 10)\n",
      "(1407, 12)\n",
      "(1404, 10)\n",
      "JAX\n",
      "['mutation_CTP' 'mutation_Whole_Exome' 'mutation_Truseq_JAX'\n",
      " 'mutation_Other:_ddPCR' 'mutation_Actionseq20' 'mutation_Other:_FISH'\n",
      " 'mutation_TEX_DFCI' 'mutation_CTPTN' 'mutation_Other:_DFCI_RHP20'\n",
      " 'copy_number_alteration_SNP' 'expression_RNA_Seq' 'expression_stRNA_Seq'\n",
      " 'expression_hg10st' 'expression_hu133']\n",
      "(1722, 10)\n",
      "(1722, 12)\n",
      "(1605, 10)\n",
      "LIH\n",
      "['copy_number_alteration_Agilent_aCGH_2x400k'\n",
      " 'copy_number_alteration_Agilent_aCGH_4x180k' 'mutation_MiSeq_panel1'\n",
      " 'mutation_MiSeq_panel2' 'cytogenetics_NORLUX_IHC'\n",
      " 'expression_NovaSeq_6000']\n",
      "(158, 10)\n",
      "(158, 12)\n",
      "(156, 10)\n",
      "PDMR\n",
      "['mutation_OncoKB_Gene_Panel' 'expression_RNASEQ_Illumina_NGS']\n",
      "(3816, 10)\n",
      "(3816, 12)\n",
      "(3786, 10)\n"
     ]
    },
    {
     "name": "stderr",
     "output_type": "stream",
     "text": [
      "/var/folders/_2/g5d3zf4s41g0tvlqkc3_8wjr0000gp/T/ipykernel_23946/2803976612.py:11: SettingWithCopyWarning: \n",
      "A value is trying to be set on a copy of a slice from a DataFrame.\n",
      "Try using .loc[row_indexer,col_indexer] = value instead\n",
      "\n",
      "See the caveats in the documentation: https://pandas.pydata.org/pandas-docs/stable/user_guide/indexing.html#returning-a-view-versus-a-copy\n",
      "  missing_meta['molecular_characterisation_type'], missing_meta['instrument_model'] = missing_meta['data_type'], missing_meta['platform_name']\n",
      "/var/folders/_2/g5d3zf4s41g0tvlqkc3_8wjr0000gp/T/ipykernel_23946/2803976612.py:11: SettingWithCopyWarning: \n",
      "A value is trying to be set on a copy of a slice from a DataFrame.\n",
      "Try using .loc[row_indexer,col_indexer] = value instead\n",
      "\n",
      "See the caveats in the documentation: https://pandas.pydata.org/pandas-docs/stable/user_guide/indexing.html#returning-a-view-versus-a-copy\n",
      "  missing_meta['molecular_characterisation_type'], missing_meta['instrument_model'] = missing_meta['data_type'], missing_meta['platform_name']\n",
      "/var/folders/_2/g5d3zf4s41g0tvlqkc3_8wjr0000gp/T/ipykernel_23946/2803976612.py:11: SettingWithCopyWarning: \n",
      "A value is trying to be set on a copy of a slice from a DataFrame.\n",
      "Try using .loc[row_indexer,col_indexer] = value instead\n",
      "\n",
      "See the caveats in the documentation: https://pandas.pydata.org/pandas-docs/stable/user_guide/indexing.html#returning-a-view-versus-a-copy\n",
      "  missing_meta['molecular_characterisation_type'], missing_meta['instrument_model'] = missing_meta['data_type'], missing_meta['platform_name']\n",
      "/var/folders/_2/g5d3zf4s41g0tvlqkc3_8wjr0000gp/T/ipykernel_23946/2803976612.py:11: SettingWithCopyWarning: \n",
      "A value is trying to be set on a copy of a slice from a DataFrame.\n",
      "Try using .loc[row_indexer,col_indexer] = value instead\n",
      "\n",
      "See the caveats in the documentation: https://pandas.pydata.org/pandas-docs/stable/user_guide/indexing.html#returning-a-view-versus-a-copy\n",
      "  missing_meta['molecular_characterisation_type'], missing_meta['instrument_model'] = missing_meta['data_type'], missing_meta['platform_name']\n",
      "/var/folders/_2/g5d3zf4s41g0tvlqkc3_8wjr0000gp/T/ipykernel_23946/2803976612.py:11: SettingWithCopyWarning: \n",
      "A value is trying to be set on a copy of a slice from a DataFrame.\n",
      "Try using .loc[row_indexer,col_indexer] = value instead\n",
      "\n",
      "See the caveats in the documentation: https://pandas.pydata.org/pandas-docs/stable/user_guide/indexing.html#returning-a-view-versus-a-copy\n",
      "  missing_meta['molecular_characterisation_type'], missing_meta['instrument_model'] = missing_meta['data_type'], missing_meta['platform_name']\n",
      "/var/folders/_2/g5d3zf4s41g0tvlqkc3_8wjr0000gp/T/ipykernel_23946/2803976612.py:11: SettingWithCopyWarning: \n",
      "A value is trying to be set on a copy of a slice from a DataFrame.\n",
      "Try using .loc[row_indexer,col_indexer] = value instead\n",
      "\n",
      "See the caveats in the documentation: https://pandas.pydata.org/pandas-docs/stable/user_guide/indexing.html#returning-a-view-versus-a-copy\n",
      "  missing_meta['molecular_characterisation_type'], missing_meta['instrument_model'] = missing_meta['data_type'], missing_meta['platform_name']\n",
      "/var/folders/_2/g5d3zf4s41g0tvlqkc3_8wjr0000gp/T/ipykernel_23946/2803976612.py:11: SettingWithCopyWarning: \n",
      "A value is trying to be set on a copy of a slice from a DataFrame.\n",
      "Try using .loc[row_indexer,col_indexer] = value instead\n",
      "\n",
      "See the caveats in the documentation: https://pandas.pydata.org/pandas-docs/stable/user_guide/indexing.html#returning-a-view-versus-a-copy\n",
      "  missing_meta['molecular_characterisation_type'], missing_meta['instrument_model'] = missing_meta['data_type'], missing_meta['platform_name']\n",
      "/var/folders/_2/g5d3zf4s41g0tvlqkc3_8wjr0000gp/T/ipykernel_23946/2803976612.py:11: SettingWithCopyWarning: \n",
      "A value is trying to be set on a copy of a slice from a DataFrame.\n",
      "Try using .loc[row_indexer,col_indexer] = value instead\n",
      "\n",
      "See the caveats in the documentation: https://pandas.pydata.org/pandas-docs/stable/user_guide/indexing.html#returning-a-view-versus-a-copy\n",
      "  missing_meta['molecular_characterisation_type'], missing_meta['instrument_model'] = missing_meta['data_type'], missing_meta['platform_name']\n",
      "/var/folders/_2/g5d3zf4s41g0tvlqkc3_8wjr0000gp/T/ipykernel_23946/2803976612.py:11: SettingWithCopyWarning: \n",
      "A value is trying to be set on a copy of a slice from a DataFrame.\n",
      "Try using .loc[row_indexer,col_indexer] = value instead\n",
      "\n",
      "See the caveats in the documentation: https://pandas.pydata.org/pandas-docs/stable/user_guide/indexing.html#returning-a-view-versus-a-copy\n",
      "  missing_meta['molecular_characterisation_type'], missing_meta['instrument_model'] = missing_meta['data_type'], missing_meta['platform_name']\n",
      "/var/folders/_2/g5d3zf4s41g0tvlqkc3_8wjr0000gp/T/ipykernel_23946/2803976612.py:11: SettingWithCopyWarning: \n",
      "A value is trying to be set on a copy of a slice from a DataFrame.\n",
      "Try using .loc[row_indexer,col_indexer] = value instead\n",
      "\n",
      "See the caveats in the documentation: https://pandas.pydata.org/pandas-docs/stable/user_guide/indexing.html#returning-a-view-versus-a-copy\n",
      "  missing_meta['molecular_characterisation_type'], missing_meta['instrument_model'] = missing_meta['data_type'], missing_meta['platform_name']\n",
      "/var/folders/_2/g5d3zf4s41g0tvlqkc3_8wjr0000gp/T/ipykernel_23946/2803976612.py:11: SettingWithCopyWarning: \n",
      "A value is trying to be set on a copy of a slice from a DataFrame.\n",
      "Try using .loc[row_indexer,col_indexer] = value instead\n",
      "\n",
      "See the caveats in the documentation: https://pandas.pydata.org/pandas-docs/stable/user_guide/indexing.html#returning-a-view-versus-a-copy\n",
      "  missing_meta['molecular_characterisation_type'], missing_meta['instrument_model'] = missing_meta['data_type'], missing_meta['platform_name']\n",
      "/var/folders/_2/g5d3zf4s41g0tvlqkc3_8wjr0000gp/T/ipykernel_23946/2803976612.py:11: SettingWithCopyWarning: \n",
      "A value is trying to be set on a copy of a slice from a DataFrame.\n",
      "Try using .loc[row_indexer,col_indexer] = value instead\n",
      "\n",
      "See the caveats in the documentation: https://pandas.pydata.org/pandas-docs/stable/user_guide/indexing.html#returning-a-view-versus-a-copy\n",
      "  missing_meta['molecular_characterisation_type'], missing_meta['instrument_model'] = missing_meta['data_type'], missing_meta['platform_name']\n"
     ]
    }
   ],
   "source": [
    "for pro in missing_ids.data_source.unique():\n",
    "    pro_path = join(home, pro)\n",
    "    print(pro)\n",
    "    missing_meta = missing_ids[missing_ids['data_source'] == pro]\n",
    "    sample = read_metadata_with_fields(join(pro_path, pro+\"_molecular_metadata-sample.tsv\"))\n",
    "    platform = read_metadata_with_fields(join(pro_path, pro+\"_molecular_metadata-platform.tsv\"))\n",
    "    joined = sample.merge(platform[[\"platform_id\", \"molecular_characterisation_type\", \"instrument_model\"]], on='platform_id', how='left')\n",
    "    missing_meta['molecular_characterisation_type'], missing_meta['instrument_model'] = missing_meta['data_type'], missing_meta['platform_name']\n",
    "    joined = joined.merge(missing_meta[['sample_id', 'molecular_characterisation_type', 'instrument_model', 'data_exists']], on =['sample_id', 'molecular_characterisation_type', 'instrument_model'], how='left', indicator=True)\n",
    "    joined = joined[joined['_merge'] == 'left_only']    #joined = joined[~joined['sample_id'].isin(missing_meta['sample_id'])]\n",
    "    joined = joined[sample.columns].reset_index(drop=True)\n",
    "    joined.to_csv(join(pro_path, pro+\"_molecular_metadata-sample.tsv\"), sep='\\t', index=False)"
   ],
   "metadata": {
    "collapsed": false,
    "ExecuteTime": {
     "end_time": "2023-11-01T11:47:05.797275Z",
     "start_time": "2023-11-01T11:47:05.524847Z"
    }
   }
  },
  {
   "cell_type": "code",
   "execution_count": null,
   "outputs": [],
   "source": [],
   "metadata": {
    "collapsed": false
   }
  },
  {
   "cell_type": "code",
   "execution_count": null,
   "outputs": [],
   "source": [],
   "metadata": {
    "collapsed": false
   }
  },
  {
   "cell_type": "code",
   "execution_count": 9,
   "outputs": [],
   "source": [
    "normal = pd.read_csv(\"/Users/tushar/Downloads/TCGA-LUAD.htseq_fpkm.tsv\", sep='\\t').iloc[:,0:15]"
   ],
   "metadata": {
    "collapsed": false,
    "ExecuteTime": {
     "end_time": "2023-11-03T07:38:47.987006Z",
     "start_time": "2023-11-03T07:38:44.609493Z"
    }
   }
  },
  {
   "cell_type": "code",
   "execution_count": 14,
   "outputs": [],
   "source": [
    "normal[normal['Ensembl_ID'].str.contains(\"133703\")].reset_index(drop=True).to_csv(\"/Users/tushar/Downloads/Normal-FPKM-COLON.tsv\",sep='\\t',index=False)"
   ],
   "metadata": {
    "collapsed": false,
    "ExecuteTime": {
     "end_time": "2023-11-03T07:41:00.020644Z",
     "start_time": "2023-11-03T07:41:00.005727Z"
    }
   }
  },
  {
   "cell_type": "code",
   "execution_count": null,
   "outputs": [],
   "source": [
    "ENSG00000146648.14\n",
    "ENSG00000171094.14\n"
   ],
   "metadata": {
    "collapsed": false
   }
  },
  {
   "cell_type": "code",
   "execution_count": 12,
   "outputs": [],
   "source": [
    "normal[normal['Ensembl_ID'].isin([\"ENSG00000146648.14\", \"ENSG00000171094.14\"])].reset_index(drop=True).to_csv(\"/Users/tushar/Downloads/Normal-FPKM-LUNG.tsv\",sep='\\t',index=False)"
   ],
   "metadata": {
    "collapsed": false,
    "ExecuteTime": {
     "end_time": "2023-11-03T07:40:26.767131Z",
     "start_time": "2023-11-03T07:40:26.743595Z"
    }
   }
  },
  {
   "cell_type": "markdown",
   "source": [
    "# Immune markers \n",
    "### Addition of immune markers -specifically model genomics in the data as not provided\n",
    "MSI, TMB, MMR, Ploidy, Mutations per mb\n",
    "- MSI: immune_msi\n",
    "- MMR: immune_mmr \n",
    "- TMB: immune_tmb\n",
    "- MPM: immune_mpm\n",
    "- Ploidy: immune_ploidy\n",
    "\n",
    "[['PDMR', ['immune_msi', 'immune_HLA_type']],\n",
    " ['JAX', ['immune_tmb', 'immune_msi']],\n",
    " ['CMP', ['immune_mpm', 'immune_ploidy', 'immune_msi']],\n",
    " ['CUIMC', ['immune_tmb']]]\n",
    " \n",
    "\n",
    "[['PDMR', ['immune_msi', 'immune_HLA_type']],\n",
    " ['CRL', ['immune_HLA_type']],\n",
    " ['JAX', ['immune_tmb', 'immune_msi']],\n",
    " ['SJCRH', ['immune_hla_type']],\n",
    " ['CMP', ['immune_mpm', 'immune_ploidy', 'immune_msi']],\n",
    " ['DFCI-CPDM', ['immune_HLA_type']],\n",
    " ['CUIMC', ['immune_tmb']]]\n"
   ],
   "metadata": {
    "collapsed": false
   }
  },
  {
   "cell_type": "code",
   "execution_count": 93,
   "outputs": [],
   "source": [
    "model_genomics_markers = pd.read_json('https://dev.cancermodels.org/api/immunemarker_data_extended?marker_type=eq.Model%20Genomics')"
   ],
   "metadata": {
    "collapsed": false,
    "ExecuteTime": {
     "end_time": "2023-12-06T14:53:19.194850Z",
     "start_time": "2023-12-06T14:53:18.852757Z"
    }
   }
  },
  {
   "cell_type": "code",
   "execution_count": 95,
   "outputs": [],
   "source": [
    "marker_type = list(model_genomics_markers.marker_name.unique())\n",
    "na_str = \"Not provided\"\n",
    "marker_type.append('MMR')\n",
    "marker_type_platform_dict = {'MSI': 'immune_msi', 'MMR': 'immune_mmr', \n",
    "                             'TMB': 'immune_tmb', 'Mutations per mb': 'immune_mpm', \n",
    "                             'Ploidy': 'immune_ploidy'}\n",
    "platform_marker_type_dict = dict(zip(marker_type_platform_dict.values(), marker_type_platform_dict.keys()))\n",
    "providers = list(model_genomics_markers.data_source.unique())\n",
    "platform_ids = []"
   ],
   "metadata": {
    "collapsed": false,
    "ExecuteTime": {
     "end_time": "2023-12-06T14:53:29.192506Z",
     "start_time": "2023-12-06T14:53:29.168001Z"
    }
   }
  },
  {
   "cell_type": "code",
   "execution_count": 134,
   "outputs": [
    {
     "name": "stdout",
     "output_type": "stream",
     "text": [
      "PDMR\n",
      "['immune_mmr', 'immune_tmb', 'immune_mpm', 'immune_ploidy']\n"
     ]
    },
    {
     "name": "stderr",
     "output_type": "stream",
     "text": [
      "Adding immune marker data for PDMR: 100%|██████████| 510/510 [00:22<00:00, 23.17it/s]\n"
     ]
    },
    {
     "name": "stdout",
     "output_type": "stream",
     "text": [
      "JAX\n",
      "['immune_mmr', 'immune_mpm', 'immune_ploidy']\n"
     ]
    },
    {
     "name": "stderr",
     "output_type": "stream",
     "text": [
      "Adding immune marker data for JAX: 100%|██████████| 296/296 [00:06<00:00, 43.74it/s]\n"
     ]
    },
    {
     "name": "stdout",
     "output_type": "stream",
     "text": [
      "CMP\n",
      "['immune_mmr', 'immune_tmb']\n"
     ]
    },
    {
     "name": "stderr",
     "output_type": "stream",
     "text": [
      "Adding immune marker data for CMP: 100%|██████████| 1174/1174 [00:32<00:00, 36.55it/s]\n"
     ]
    },
    {
     "name": "stdout",
     "output_type": "stream",
     "text": [
      "CUIMC\n",
      "['immune_msi', 'immune_mmr', 'immune_mpm', 'immune_ploidy']\n"
     ]
    },
    {
     "name": "stderr",
     "output_type": "stream",
     "text": [
      "Adding immune marker data for CUIMC: 100%|██████████| 32/32 [00:00<00:00, 35.11it/s]\n"
     ]
    }
   ],
   "source": [
    "def get_available_marker_for_sample_id(sample_id, df, platform_list):\n",
    "    temp = df[df['sample_id'] == sample_id]\n",
    "    pids = temp['platform_id'].unique()\n",
    "    add_markers = [x for x in platform_list if x not in pids]\n",
    "    return [[sample_id, x] for x in add_markers]\n",
    "    \n",
    "    \n",
    "def get_ms_row(sample_id, df, platform):\n",
    "    df2 = df\n",
    "    df = df.drop_duplicates(subset=['model_id', 'sample_id']).reset_index(drop=True)\n",
    "    df = df[df['sample_id'] == sample_id].reset_index(drop=True)\n",
    "    try:\n",
    "        mid = df['model_id'][0]\n",
    "    except:\n",
    "        print(df)\n",
    "        print(sample_id)\n",
    "        print(df2[sample_id].unique())\n",
    "    so = df['sample_origin'][0]\n",
    "    pa = df['passage'][0]\n",
    "    hsn = df['host_strain_name'][0]\n",
    "    hsno = df['host_strain_nomenclature'][0]\n",
    "    etcs = df['engrafted_tumor_collection_site'][0]\n",
    "    rdu = df['raw_data_url'][0]\n",
    "    #print(mid)\n",
    "    \n",
    "    # ['Field', 'model_id', 'sample_id', 'sample_origin', 'passage', 'host_strain_name', 'host_strain_nomenclature', 'engrafted_tumor_collection_site', 'raw_data_url', 'platform_id']\n",
    "    temp = ['', mid, sample_id, so, pa, hsn, hsno, etcs, rdu, platform]\n",
    "    return temp\n",
    "    \n",
    "def get_im_row(sample_id, na_str, marker_dict, platform):\n",
    "    #['Field', 'sample_id', 'marker_type', 'marker_name', 'marker_value', 'essential_or_additional_details', 'platform_id']\n",
    "    marker_name = marker_dict[platform]\n",
    "    temp = ['', sample_id, 'Model Genomics', marker_name, na_str, '', platform]\n",
    "    return temp\n",
    "    \n",
    "def append_to_df(row, df):\n",
    "    row = pd.DataFrame([row], columns=df.columns)\n",
    "    return pd.concat([df, row]).reset_index(drop=True)\n",
    "            \n",
    "for i in range(len(providers)):\n",
    "    provider = providers[i]\n",
    "    print(provider)\n",
    "    provider_path = join(home, provider)\n",
    "    mol_sample_sheet = read_metadata_with_fields(join(provider_path, provider+\"_molecular_metadata-sample.tsv\"))\n",
    "    mol_platform = read_metadata_with_fields(join(provider_path, provider+\"_molecular_metadata-platform.tsv\"))\n",
    "    mol_platform_web = read_metadata_with_fields(join(provider_path, provider+\"_molecular_metadata-platform_web.tsv\"))\n",
    "    immunemarker = read_metadata_with_fields(join(provider_path, 'immunemarker', provider+\"_immunemarker-Sheet1.tsv\"))\n",
    "\n",
    "    pids_in_sheet = list(immunemarker.platform_id.unique())\n",
    "    add_markers = [x for x in marker_type_platform_dict.values() if x not in pids_in_sheet]\n",
    "    print(add_markers)\n",
    "    if len(add_markers)>0:\n",
    "        sample_ids = immunemarker['sample_id'].unique()\n",
    "        for j in tqdm(range(len(sample_ids)), f'Adding immune marker data for {provider}: '):\n",
    "            sample_id = sample_ids[j]\n",
    "            to_be_added = get_available_marker_for_sample_id(sample_id, immunemarker, marker_type_platform_dict.values())\n",
    "            for row in to_be_added:\n",
    "                immunemarker = append_to_df(get_im_row(row[0], na_str, platform_marker_type_dict, row[1]), immunemarker)            \n",
    "                mol_sample_sheet = append_to_df(get_ms_row(row[0], mol_sample_sheet, row[1]), mol_sample_sheet)\n",
    "        for mark in add_markers:\n",
    "            mol_platform = append_to_df(['', mark, 'immunemarker', na_str, na_str, '', '', ''], mol_platform)\n",
    "            mol_platform_web = append_to_df(['', mark, '', '', ''], mol_platform_web)\n",
    "    \n",
    "    mol_sample_sheet.to_csv(join(provider_path, provider+\"_molecular_metadata-sample.tsv\"), sep='\\t', index=False)\n",
    "    mol_platform.to_csv(join(provider_path, provider+\"_molecular_metadata-platform.tsv\"), sep='\\t', index=False)\n",
    "    mol_platform_web.to_csv(join(provider_path, provider+\"_molecular_metadata-platform_web.tsv\"), sep='\\t', index=False)\n",
    "    immunemarker.to_csv(join(provider_path, 'immunemarker', provider+\"_immunemarker-Sheet1.tsv\"), sep='\\t', index=False)\n",
    "    \n",
    "        \n",
    "    platform_id = mol_sample_sheet['platform_id'].iloc[4:].unique()\n",
    "    platform_id =  [x for x in platform_id if x.__contains__('immune')]\n",
    "    platform_ids.append([provider, platform_id])"
   ],
   "metadata": {
    "collapsed": false,
    "ExecuteTime": {
     "end_time": "2023-12-06T15:38:15.792120Z",
     "start_time": "2023-12-06T15:37:13.613905Z"
    }
   }
  },
  {
   "cell_type": "code",
   "execution_count": 130,
   "outputs": [
    {
     "data": {
      "text/plain": "Index(['Field', 'platform_id', 'molecular_methods_description',\n       'analysis_description', 'data_acquisition_description', 'table'],\n      dtype='object')"
     },
     "execution_count": 130,
     "metadata": {},
     "output_type": "execute_result"
    }
   ],
   "source": [
    "mol_platform_web.columns"
   ],
   "metadata": {
    "collapsed": false,
    "ExecuteTime": {
     "end_time": "2023-12-06T15:27:16.066167Z",
     "start_time": "2023-12-06T15:27:15.986681Z"
    }
   }
  },
  {
   "cell_type": "code",
   "execution_count": 132,
   "outputs": [
    {
     "data": {
      "text/plain": "['PDMR', 'JAX', 'CMP', 'CUIMC']"
     },
     "execution_count": 132,
     "metadata": {},
     "output_type": "execute_result"
    }
   ],
   "source": [
    "providers"
   ],
   "metadata": {
    "collapsed": false,
    "ExecuteTime": {
     "end_time": "2023-12-06T15:28:39.118389Z",
     "start_time": "2023-12-06T15:28:39.037451Z"
    }
   }
  },
  {
   "cell_type": "code",
   "execution_count": 71,
   "outputs": [
    {
     "ename": "FileNotFoundError",
     "evalue": "[Errno 2] No such file or directory: '/hps/nobackup/tudor/pdcm/pdxfinder-data/data/UPDOG/CMP/CMP_molecular_metadata-sample.tsv'",
     "output_type": "error",
     "traceback": [
      "\u001B[0;31m---------------------------------------------------------------------------\u001B[0m",
      "\u001B[0;31mFileNotFoundError\u001B[0m                         Traceback (most recent call last)",
      "Cell \u001B[0;32mIn[71], line 26\u001B[0m\n\u001B[1;32m     20\u001B[0m     \u001B[38;5;28;01mreturn\u001B[39;00m metadata\n\u001B[1;32m     22\u001B[0m \u001B[38;5;66;03m#mms_header = read_metadata_with_fields(join(CMP_path, 'CMP_molecular_metadata-sample.tsv')).iloc[0:4]\u001B[39;00m\n\u001B[1;32m     23\u001B[0m \u001B[38;5;66;03m#ps = read_metadata_without_fields(join(CMP_path, 'CMP_molecular_metadata-sample.tsv'))[['sample_id', 'model_id']]\u001B[39;00m\n\u001B[1;32m     24\u001B[0m \u001B[38;5;66;03m#ps = ps.drop_duplicates().reset_index(drop=True)\u001B[39;00m\n\u001B[1;32m     25\u001B[0m \u001B[38;5;66;03m#ps = dict(zip(ps['sample_id'], ps['model_id']))\u001B[39;00m\n\u001B[0;32m---> 26\u001B[0m mms \u001B[38;5;241m=\u001B[39m \u001B[43mread_metadata_without_fields\u001B[49m\u001B[43m(\u001B[49m\u001B[43mjoin\u001B[49m\u001B[43m(\u001B[49m\u001B[43mCMP_path\u001B[49m\u001B[43m,\u001B[49m\u001B[43m \u001B[49m\u001B[38;5;124;43m'\u001B[39;49m\u001B[38;5;124;43mCMP_molecular_metadata-sample.tsv\u001B[39;49m\u001B[38;5;124;43m'\u001B[39;49m\u001B[43m)\u001B[49m\u001B[43m)\u001B[49m[[\u001B[38;5;124m'\u001B[39m\u001B[38;5;124msample_id\u001B[39m\u001B[38;5;124m'\u001B[39m, \u001B[38;5;124m'\u001B[39m\u001B[38;5;124mmodel_id\u001B[39m\u001B[38;5;124m'\u001B[39m]]\n\u001B[1;32m     27\u001B[0m mms \u001B[38;5;241m=\u001B[39m mms\u001B[38;5;241m.\u001B[39mdrop_duplicates()\u001B[38;5;241m.\u001B[39mreset_index(drop\u001B[38;5;241m=\u001B[39m\u001B[38;5;28;01mTrue\u001B[39;00m)\n\u001B[1;32m     28\u001B[0m mms_mapper \u001B[38;5;241m=\u001B[39m \u001B[38;5;28mdict\u001B[39m(\u001B[38;5;28mzip\u001B[39m(mms[\u001B[38;5;124m'\u001B[39m\u001B[38;5;124msample_id\u001B[39m\u001B[38;5;124m'\u001B[39m], mms[\u001B[38;5;124m'\u001B[39m\u001B[38;5;124mmodel_id\u001B[39m\u001B[38;5;124m'\u001B[39m]))\n",
      "Cell \u001B[0;32mIn[71], line 16\u001B[0m, in \u001B[0;36mread_metadata_without_fields\u001B[0;34m(path)\u001B[0m\n\u001B[1;32m     15\u001B[0m \u001B[38;5;28;01mdef\u001B[39;00m \u001B[38;5;21mread_metadata_without_fields\u001B[39m(path):\n\u001B[0;32m---> 16\u001B[0m     metadata \u001B[38;5;241m=\u001B[39m \u001B[43mpd\u001B[49m\u001B[38;5;241;43m.\u001B[39;49m\u001B[43mread_csv\u001B[49m\u001B[43m(\u001B[49m\u001B[43mpath\u001B[49m\u001B[43m,\u001B[49m\u001B[43m \u001B[49m\u001B[43msep\u001B[49m\u001B[38;5;241;43m=\u001B[39;49m\u001B[38;5;124;43m'\u001B[39;49m\u001B[38;5;130;43;01m\\t\u001B[39;49;00m\u001B[38;5;124;43m'\u001B[39;49m\u001B[43m,\u001B[49m\u001B[43m \u001B[49m\u001B[43mna_values\u001B[49m\u001B[38;5;241;43m=\u001B[39;49m\u001B[38;5;124;43m\"\u001B[39;49m\u001B[38;5;124;43m\"\u001B[39;49m\u001B[43m,\u001B[49m\u001B[43m \u001B[49m\u001B[43mlow_memory\u001B[49m\u001B[38;5;241;43m=\u001B[39;49m\u001B[38;5;28;43;01mFalse\u001B[39;49;00m\u001B[43m)\u001B[49m\n\u001B[1;32m     17\u001B[0m     \u001B[38;5;28;01mif\u001B[39;00m \u001B[38;5;124m'\u001B[39m\u001B[38;5;124mField\u001B[39m\u001B[38;5;124m'\u001B[39m \u001B[38;5;129;01min\u001B[39;00m metadata\u001B[38;5;241m.\u001B[39mcolumns:\n\u001B[1;32m     18\u001B[0m         metadata \u001B[38;5;241m=\u001B[39m metadata\u001B[38;5;241m.\u001B[39mloc[metadata\u001B[38;5;241m.\u001B[39mField\u001B[38;5;241m.\u001B[39mstr\u001B[38;5;241m.\u001B[39mstartswith(\u001B[38;5;124m'\u001B[39m\u001B[38;5;124m#\u001B[39m\u001B[38;5;124m'\u001B[39m) \u001B[38;5;241m!=\u001B[39m \u001B[38;5;28;01mTrue\u001B[39;00m,]\u001B[38;5;241m.\u001B[39mreset_index(drop\u001B[38;5;241m=\u001B[39m\u001B[38;5;28;01mTrue\u001B[39;00m)\n",
      "File \u001B[0;32m~/Library/Python/3.9/lib/python/site-packages/pandas/io/parsers/readers.py:912\u001B[0m, in \u001B[0;36mread_csv\u001B[0;34m(filepath_or_buffer, sep, delimiter, header, names, index_col, usecols, dtype, engine, converters, true_values, false_values, skipinitialspace, skiprows, skipfooter, nrows, na_values, keep_default_na, na_filter, verbose, skip_blank_lines, parse_dates, infer_datetime_format, keep_date_col, date_parser, date_format, dayfirst, cache_dates, iterator, chunksize, compression, thousands, decimal, lineterminator, quotechar, quoting, doublequote, escapechar, comment, encoding, encoding_errors, dialect, on_bad_lines, delim_whitespace, low_memory, memory_map, float_precision, storage_options, dtype_backend)\u001B[0m\n\u001B[1;32m    899\u001B[0m kwds_defaults \u001B[38;5;241m=\u001B[39m _refine_defaults_read(\n\u001B[1;32m    900\u001B[0m     dialect,\n\u001B[1;32m    901\u001B[0m     delimiter,\n\u001B[0;32m   (...)\u001B[0m\n\u001B[1;32m    908\u001B[0m     dtype_backend\u001B[38;5;241m=\u001B[39mdtype_backend,\n\u001B[1;32m    909\u001B[0m )\n\u001B[1;32m    910\u001B[0m kwds\u001B[38;5;241m.\u001B[39mupdate(kwds_defaults)\n\u001B[0;32m--> 912\u001B[0m \u001B[38;5;28;01mreturn\u001B[39;00m \u001B[43m_read\u001B[49m\u001B[43m(\u001B[49m\u001B[43mfilepath_or_buffer\u001B[49m\u001B[43m,\u001B[49m\u001B[43m \u001B[49m\u001B[43mkwds\u001B[49m\u001B[43m)\u001B[49m\n",
      "File \u001B[0;32m~/Library/Python/3.9/lib/python/site-packages/pandas/io/parsers/readers.py:577\u001B[0m, in \u001B[0;36m_read\u001B[0;34m(filepath_or_buffer, kwds)\u001B[0m\n\u001B[1;32m    574\u001B[0m _validate_names(kwds\u001B[38;5;241m.\u001B[39mget(\u001B[38;5;124m\"\u001B[39m\u001B[38;5;124mnames\u001B[39m\u001B[38;5;124m\"\u001B[39m, \u001B[38;5;28;01mNone\u001B[39;00m))\n\u001B[1;32m    576\u001B[0m \u001B[38;5;66;03m# Create the parser.\u001B[39;00m\n\u001B[0;32m--> 577\u001B[0m parser \u001B[38;5;241m=\u001B[39m \u001B[43mTextFileReader\u001B[49m\u001B[43m(\u001B[49m\u001B[43mfilepath_or_buffer\u001B[49m\u001B[43m,\u001B[49m\u001B[43m \u001B[49m\u001B[38;5;241;43m*\u001B[39;49m\u001B[38;5;241;43m*\u001B[39;49m\u001B[43mkwds\u001B[49m\u001B[43m)\u001B[49m\n\u001B[1;32m    579\u001B[0m \u001B[38;5;28;01mif\u001B[39;00m chunksize \u001B[38;5;129;01mor\u001B[39;00m iterator:\n\u001B[1;32m    580\u001B[0m     \u001B[38;5;28;01mreturn\u001B[39;00m parser\n",
      "File \u001B[0;32m~/Library/Python/3.9/lib/python/site-packages/pandas/io/parsers/readers.py:1407\u001B[0m, in \u001B[0;36mTextFileReader.__init__\u001B[0;34m(self, f, engine, **kwds)\u001B[0m\n\u001B[1;32m   1404\u001B[0m     \u001B[38;5;28mself\u001B[39m\u001B[38;5;241m.\u001B[39moptions[\u001B[38;5;124m\"\u001B[39m\u001B[38;5;124mhas_index_names\u001B[39m\u001B[38;5;124m\"\u001B[39m] \u001B[38;5;241m=\u001B[39m kwds[\u001B[38;5;124m\"\u001B[39m\u001B[38;5;124mhas_index_names\u001B[39m\u001B[38;5;124m\"\u001B[39m]\n\u001B[1;32m   1406\u001B[0m \u001B[38;5;28mself\u001B[39m\u001B[38;5;241m.\u001B[39mhandles: IOHandles \u001B[38;5;241m|\u001B[39m \u001B[38;5;28;01mNone\u001B[39;00m \u001B[38;5;241m=\u001B[39m \u001B[38;5;28;01mNone\u001B[39;00m\n\u001B[0;32m-> 1407\u001B[0m \u001B[38;5;28mself\u001B[39m\u001B[38;5;241m.\u001B[39m_engine \u001B[38;5;241m=\u001B[39m \u001B[38;5;28;43mself\u001B[39;49m\u001B[38;5;241;43m.\u001B[39;49m\u001B[43m_make_engine\u001B[49m\u001B[43m(\u001B[49m\u001B[43mf\u001B[49m\u001B[43m,\u001B[49m\u001B[43m \u001B[49m\u001B[38;5;28;43mself\u001B[39;49m\u001B[38;5;241;43m.\u001B[39;49m\u001B[43mengine\u001B[49m\u001B[43m)\u001B[49m\n",
      "File \u001B[0;32m~/Library/Python/3.9/lib/python/site-packages/pandas/io/parsers/readers.py:1661\u001B[0m, in \u001B[0;36mTextFileReader._make_engine\u001B[0;34m(self, f, engine)\u001B[0m\n\u001B[1;32m   1659\u001B[0m     \u001B[38;5;28;01mif\u001B[39;00m \u001B[38;5;124m\"\u001B[39m\u001B[38;5;124mb\u001B[39m\u001B[38;5;124m\"\u001B[39m \u001B[38;5;129;01mnot\u001B[39;00m \u001B[38;5;129;01min\u001B[39;00m mode:\n\u001B[1;32m   1660\u001B[0m         mode \u001B[38;5;241m+\u001B[39m\u001B[38;5;241m=\u001B[39m \u001B[38;5;124m\"\u001B[39m\u001B[38;5;124mb\u001B[39m\u001B[38;5;124m\"\u001B[39m\n\u001B[0;32m-> 1661\u001B[0m \u001B[38;5;28mself\u001B[39m\u001B[38;5;241m.\u001B[39mhandles \u001B[38;5;241m=\u001B[39m \u001B[43mget_handle\u001B[49m\u001B[43m(\u001B[49m\n\u001B[1;32m   1662\u001B[0m \u001B[43m    \u001B[49m\u001B[43mf\u001B[49m\u001B[43m,\u001B[49m\n\u001B[1;32m   1663\u001B[0m \u001B[43m    \u001B[49m\u001B[43mmode\u001B[49m\u001B[43m,\u001B[49m\n\u001B[1;32m   1664\u001B[0m \u001B[43m    \u001B[49m\u001B[43mencoding\u001B[49m\u001B[38;5;241;43m=\u001B[39;49m\u001B[38;5;28;43mself\u001B[39;49m\u001B[38;5;241;43m.\u001B[39;49m\u001B[43moptions\u001B[49m\u001B[38;5;241;43m.\u001B[39;49m\u001B[43mget\u001B[49m\u001B[43m(\u001B[49m\u001B[38;5;124;43m\"\u001B[39;49m\u001B[38;5;124;43mencoding\u001B[39;49m\u001B[38;5;124;43m\"\u001B[39;49m\u001B[43m,\u001B[49m\u001B[43m \u001B[49m\u001B[38;5;28;43;01mNone\u001B[39;49;00m\u001B[43m)\u001B[49m\u001B[43m,\u001B[49m\n\u001B[1;32m   1665\u001B[0m \u001B[43m    \u001B[49m\u001B[43mcompression\u001B[49m\u001B[38;5;241;43m=\u001B[39;49m\u001B[38;5;28;43mself\u001B[39;49m\u001B[38;5;241;43m.\u001B[39;49m\u001B[43moptions\u001B[49m\u001B[38;5;241;43m.\u001B[39;49m\u001B[43mget\u001B[49m\u001B[43m(\u001B[49m\u001B[38;5;124;43m\"\u001B[39;49m\u001B[38;5;124;43mcompression\u001B[39;49m\u001B[38;5;124;43m\"\u001B[39;49m\u001B[43m,\u001B[49m\u001B[43m \u001B[49m\u001B[38;5;28;43;01mNone\u001B[39;49;00m\u001B[43m)\u001B[49m\u001B[43m,\u001B[49m\n\u001B[1;32m   1666\u001B[0m \u001B[43m    \u001B[49m\u001B[43mmemory_map\u001B[49m\u001B[38;5;241;43m=\u001B[39;49m\u001B[38;5;28;43mself\u001B[39;49m\u001B[38;5;241;43m.\u001B[39;49m\u001B[43moptions\u001B[49m\u001B[38;5;241;43m.\u001B[39;49m\u001B[43mget\u001B[49m\u001B[43m(\u001B[49m\u001B[38;5;124;43m\"\u001B[39;49m\u001B[38;5;124;43mmemory_map\u001B[39;49m\u001B[38;5;124;43m\"\u001B[39;49m\u001B[43m,\u001B[49m\u001B[43m \u001B[49m\u001B[38;5;28;43;01mFalse\u001B[39;49;00m\u001B[43m)\u001B[49m\u001B[43m,\u001B[49m\n\u001B[1;32m   1667\u001B[0m \u001B[43m    \u001B[49m\u001B[43mis_text\u001B[49m\u001B[38;5;241;43m=\u001B[39;49m\u001B[43mis_text\u001B[49m\u001B[43m,\u001B[49m\n\u001B[1;32m   1668\u001B[0m \u001B[43m    \u001B[49m\u001B[43merrors\u001B[49m\u001B[38;5;241;43m=\u001B[39;49m\u001B[38;5;28;43mself\u001B[39;49m\u001B[38;5;241;43m.\u001B[39;49m\u001B[43moptions\u001B[49m\u001B[38;5;241;43m.\u001B[39;49m\u001B[43mget\u001B[49m\u001B[43m(\u001B[49m\u001B[38;5;124;43m\"\u001B[39;49m\u001B[38;5;124;43mencoding_errors\u001B[39;49m\u001B[38;5;124;43m\"\u001B[39;49m\u001B[43m,\u001B[49m\u001B[43m \u001B[49m\u001B[38;5;124;43m\"\u001B[39;49m\u001B[38;5;124;43mstrict\u001B[39;49m\u001B[38;5;124;43m\"\u001B[39;49m\u001B[43m)\u001B[49m\u001B[43m,\u001B[49m\n\u001B[1;32m   1669\u001B[0m \u001B[43m    \u001B[49m\u001B[43mstorage_options\u001B[49m\u001B[38;5;241;43m=\u001B[39;49m\u001B[38;5;28;43mself\u001B[39;49m\u001B[38;5;241;43m.\u001B[39;49m\u001B[43moptions\u001B[49m\u001B[38;5;241;43m.\u001B[39;49m\u001B[43mget\u001B[49m\u001B[43m(\u001B[49m\u001B[38;5;124;43m\"\u001B[39;49m\u001B[38;5;124;43mstorage_options\u001B[39;49m\u001B[38;5;124;43m\"\u001B[39;49m\u001B[43m,\u001B[49m\u001B[43m \u001B[49m\u001B[38;5;28;43;01mNone\u001B[39;49;00m\u001B[43m)\u001B[49m\u001B[43m,\u001B[49m\n\u001B[1;32m   1670\u001B[0m \u001B[43m\u001B[49m\u001B[43m)\u001B[49m\n\u001B[1;32m   1671\u001B[0m \u001B[38;5;28;01massert\u001B[39;00m \u001B[38;5;28mself\u001B[39m\u001B[38;5;241m.\u001B[39mhandles \u001B[38;5;129;01mis\u001B[39;00m \u001B[38;5;129;01mnot\u001B[39;00m \u001B[38;5;28;01mNone\u001B[39;00m\n\u001B[1;32m   1672\u001B[0m f \u001B[38;5;241m=\u001B[39m \u001B[38;5;28mself\u001B[39m\u001B[38;5;241m.\u001B[39mhandles\u001B[38;5;241m.\u001B[39mhandle\n",
      "File \u001B[0;32m~/Library/Python/3.9/lib/python/site-packages/pandas/io/common.py:859\u001B[0m, in \u001B[0;36mget_handle\u001B[0;34m(path_or_buf, mode, encoding, compression, memory_map, is_text, errors, storage_options)\u001B[0m\n\u001B[1;32m    854\u001B[0m \u001B[38;5;28;01melif\u001B[39;00m \u001B[38;5;28misinstance\u001B[39m(handle, \u001B[38;5;28mstr\u001B[39m):\n\u001B[1;32m    855\u001B[0m     \u001B[38;5;66;03m# Check whether the filename is to be opened in binary mode.\u001B[39;00m\n\u001B[1;32m    856\u001B[0m     \u001B[38;5;66;03m# Binary mode does not support 'encoding' and 'newline'.\u001B[39;00m\n\u001B[1;32m    857\u001B[0m     \u001B[38;5;28;01mif\u001B[39;00m ioargs\u001B[38;5;241m.\u001B[39mencoding \u001B[38;5;129;01mand\u001B[39;00m \u001B[38;5;124m\"\u001B[39m\u001B[38;5;124mb\u001B[39m\u001B[38;5;124m\"\u001B[39m \u001B[38;5;129;01mnot\u001B[39;00m \u001B[38;5;129;01min\u001B[39;00m ioargs\u001B[38;5;241m.\u001B[39mmode:\n\u001B[1;32m    858\u001B[0m         \u001B[38;5;66;03m# Encoding\u001B[39;00m\n\u001B[0;32m--> 859\u001B[0m         handle \u001B[38;5;241m=\u001B[39m \u001B[38;5;28;43mopen\u001B[39;49m\u001B[43m(\u001B[49m\n\u001B[1;32m    860\u001B[0m \u001B[43m            \u001B[49m\u001B[43mhandle\u001B[49m\u001B[43m,\u001B[49m\n\u001B[1;32m    861\u001B[0m \u001B[43m            \u001B[49m\u001B[43mioargs\u001B[49m\u001B[38;5;241;43m.\u001B[39;49m\u001B[43mmode\u001B[49m\u001B[43m,\u001B[49m\n\u001B[1;32m    862\u001B[0m \u001B[43m            \u001B[49m\u001B[43mencoding\u001B[49m\u001B[38;5;241;43m=\u001B[39;49m\u001B[43mioargs\u001B[49m\u001B[38;5;241;43m.\u001B[39;49m\u001B[43mencoding\u001B[49m\u001B[43m,\u001B[49m\n\u001B[1;32m    863\u001B[0m \u001B[43m            \u001B[49m\u001B[43merrors\u001B[49m\u001B[38;5;241;43m=\u001B[39;49m\u001B[43merrors\u001B[49m\u001B[43m,\u001B[49m\n\u001B[1;32m    864\u001B[0m \u001B[43m            \u001B[49m\u001B[43mnewline\u001B[49m\u001B[38;5;241;43m=\u001B[39;49m\u001B[38;5;124;43m\"\u001B[39;49m\u001B[38;5;124;43m\"\u001B[39;49m\u001B[43m,\u001B[49m\n\u001B[1;32m    865\u001B[0m \u001B[43m        \u001B[49m\u001B[43m)\u001B[49m\n\u001B[1;32m    866\u001B[0m     \u001B[38;5;28;01melse\u001B[39;00m:\n\u001B[1;32m    867\u001B[0m         \u001B[38;5;66;03m# Binary mode\u001B[39;00m\n\u001B[1;32m    868\u001B[0m         handle \u001B[38;5;241m=\u001B[39m \u001B[38;5;28mopen\u001B[39m(handle, ioargs\u001B[38;5;241m.\u001B[39mmode)\n",
      "\u001B[0;31mFileNotFoundError\u001B[0m: [Errno 2] No such file or directory: '/hps/nobackup/tudor/pdcm/pdxfinder-data/data/UPDOG/CMP/CMP_molecular_metadata-sample.tsv'"
     ]
    }
   ],
   "source": [
    "from os import listdir\n",
    "from os.path import isfile, join\n",
    "import pandas as pd\n",
    "\n",
    "CMP_path = '/hps/nobackup/tudor/pdcm/pdxfinder-data/data/UPDOG/CMP/'\n",
    "CMP_mut_path = '/hps/nobackup/tudor/pdcm/pdxfinder-data/data/UPDOG/CMP/mut'\n",
    "\n",
    "def get_files(path):\n",
    "    return [join(path, f) for f in listdir(path) if isfile(join(path, f))]\n",
    "\n",
    "def read_metadata_with_fields(path):\n",
    "    metadata = pd.read_csv(path, sep='\\t', na_values=\"\", low_memory=False)\n",
    "    return metadata\n",
    "\n",
    "def read_metadata_without_fields(path):\n",
    "    metadata = pd.read_csv(path, sep='\\t', na_values=\"\", low_memory=False)\n",
    "    if 'Field' in metadata.columns:\n",
    "        metadata = metadata.loc[metadata.Field.str.startswith('#') != True,].reset_index(drop=True)\n",
    "        metadata = metadata.drop('Field', axis=1)\n",
    "    return metadata\n",
    "\n",
    "#mms_header = read_metadata_with_fields(join(CMP_path, 'CMP_molecular_metadata-sample.tsv')).iloc[0:4]\n",
    "#ps = read_metadata_without_fields(join(CMP_path, 'CMP_molecular_metadata-sample.tsv'))[['sample_id', 'model_id']]\n",
    "#ps = ps.drop_duplicates().reset_index(drop=True)\n",
    "#ps = dict(zip(ps['sample_id'], ps['model_id']))\n",
    "mms = read_metadata_without_fields(join(CMP_path, 'CMP_molecular_metadata-sample.tsv'))[['sample_id', 'model_id']]\n",
    "mms = mms.drop_duplicates().reset_index(drop=True)\n",
    "mms_mapper = dict(zip(mms['sample_id'], mms['model_id']))\n",
    "#replaced_mms = mms[['model_id', 'sample_id']].replace(ps)\n",
    "#mms['model_id'] = replaced_mms['sample_id']\n",
    "mut_file = read_metadata_with_fields(join(CMP_mut_path, 'CMP_mut.tsv'))\n",
    "samples = mms['sample_id'].unique()\n",
    "for i in tqdm(range(len(samples))):\n",
    "    s = samples[i]\n",
    "    temp = mut_file[mut_file['sample_id'] == s].reset_index(drop=True)\n",
    "    if len(temp) > 0:\n",
    "        file_name = join(CMP_mut_path, f\"CMP_mut_{s}.tsv\")\n",
    "        temp.to_csv(file_name, sep='\\t', index=False)"
   ],
   "metadata": {
    "collapsed": false,
    "ExecuteTime": {
     "end_time": "2024-03-12T16:29:37.483444Z",
     "start_time": "2024-03-12T16:29:36.819661Z"
    }
   }
  },
  {
   "cell_type": "code",
   "outputs": [],
   "source": [
    "from utils import read_metadata_with_fields, read_metadata_without_fields, get_files\n",
    "from os.path import join, exists\n",
    "from os import remove\n",
    "from pandas import read_csv as read, concat, to_numeric\n",
    "GCCRI_path = '/Users/tushar/CancerModels/pdxfinder-data/data/UPDOG/GCCRI'"
   ],
   "metadata": {
    "collapsed": false,
    "ExecuteTime": {
     "end_time": "2024-01-18T22:21:15.043990Z",
     "start_time": "2024-01-18T22:21:14.944108Z"
    }
   },
   "execution_count": 20
  },
  {
   "cell_type": "code",
   "outputs": [],
   "source": [
    "pivot_id_path = '~/CancerModels/submission/PIVOT_IDs.csv'\n",
    "pivot_ids = read(pivot_id_path, encoding='utf-8')\n",
    "mapper = {'LURIE': 'LurieChildrens', 'MDA': 'MDAnderson-CCH', 'UTHSCSA': 'GCCRI'}\n",
    "pivot_ids['provider'] = pivot_ids['PIVOT Center (Model Originator)'].replace(mapper)\n",
    "pivot_providers = list(pivot_ids['provider'].unique())\n",
    "GCCRI = pivot_ids[pivot_ids['provider'] == 'GCCRI']"
   ],
   "metadata": {
    "collapsed": false,
    "ExecuteTime": {
     "end_time": "2024-01-18T14:43:03.997951Z",
     "start_time": "2024-01-18T14:43:03.949097Z"
    }
   },
   "execution_count": 30
  },
  {
   "cell_type": "code",
   "outputs": [],
   "source": [
    "pdx = read_metadata_without_fields(join(GCCRI_path, 'GCCRI_metadata-pdx_model.tsv'))\n",
    "new_model_id = [mid.replace('-', '').replace('NCH', 'NCH-').replace('1NCH', '1-NCH').replace('2NCH', '2-NCH') for mid in pdx['model_id']]\n",
    "new_model_id = [mid.replace('S13', '-S13_').replace('--', '-') for mid in new_model_id]\n",
    "mapper = dict(zip(list(pdx['model_id']), new_model_id))\n",
    "ps_mapper = dict(zip(list(pdx['model_id'] + '_P'), [n + '_P' for n in new_model_id]))\n",
    "#pdx.replace(mapper).to_csv(join(GCCRI_path, 'GCCRI_metadata-pdx_model.tsv'), sep='\\t', index=False)"
   ],
   "metadata": {
    "collapsed": false,
    "ExecuteTime": {
     "end_time": "2024-01-18T21:46:57.623484Z",
     "start_time": "2024-01-18T21:46:57.518641Z"
    }
   },
   "execution_count": 8
  },
  {
   "cell_type": "code",
   "outputs": [],
   "source": [
    "def fix_ids(path, mapper):\n",
    "    df = read_metadata_without_fields(path).replace(mapper)\n",
    "    header = read_metadata_with_fields(path).iloc[0:4]\n",
    "    return concat([header, df]).reset_index(drop=True) "
   ],
   "metadata": {
    "collapsed": false,
    "ExecuteTime": {
     "end_time": "2024-01-18T21:47:26.841500Z",
     "start_time": "2024-01-18T21:47:26.768119Z"
    }
   },
   "execution_count": 9
  },
  {
   "cell_type": "code",
   "outputs": [],
   "source": [
    "fix_ids(join(GCCRI_path, 'GCCRI_metadata-pdx_model.tsv'), mapper).to_csv(join(GCCRI_path, 'GCCRI_metadata-pdx_model.tsv'), sep='\\t', index=False)"
   ],
   "metadata": {
    "collapsed": false,
    "ExecuteTime": {
     "end_time": "2024-01-18T21:48:07.542924Z",
     "start_time": "2024-01-18T21:48:07.442386Z"
    }
   },
   "execution_count": 10
  },
  {
   "cell_type": "code",
   "outputs": [],
   "source": [
    "fix_ids(join(GCCRI_path, 'GCCRI_metadata-sharing.tsv'), mapper).to_csv(join(GCCRI_path, 'GCCRI_metadata-sharing.tsv'), sep='\\t', index=False)"
   ],
   "metadata": {
    "collapsed": false,
    "ExecuteTime": {
     "end_time": "2024-01-18T21:20:08.300713Z",
     "start_time": "2024-01-18T21:20:08.203141Z"
    }
   },
   "execution_count": 67
  },
  {
   "cell_type": "code",
   "outputs": [
    {
     "data": {
      "text/plain": "                   Field                                           model_id  \\\n0           #Description  Unique identifier for all the PDXs derived fro...   \n1               #Example                                          CRC0228PR   \n2   #Format Requirements                                          free text   \n3            #Essential?                                          essential   \n4                    NaN                                             ASPSKY   \n5                    NaN                                               BT27   \n6                    NaN                                               BT29   \n7                    NaN                                                ES1   \n8                    NaN                                                ES4   \n9                    NaN                                                ES6   \n10                   NaN                                                ES8   \n11                   NaN                                                EW5   \n12                   NaN                                                EW8   \n13                   NaN                                               G401   \n14                   NaN                                              IRS56   \n15                   NaN                                              IRS68   \n16                   NaN                                               KT10   \n17                   NaN                                               KT11   \n18                   NaN                                               KT12   \n19                   NaN                                               KT13   \n20                   NaN                                               KT14   \n21                   NaN                                               KT18   \n22                   NaN                                                KT5   \n23                   NaN                                                KT6   \n24                   NaN                                                KT8   \n25                   NaN                                                KT9   \n26                   NaN                             NCH-ARMS2-NCH-S13_7484   \n27                   NaN                                            NCH-CA1   \n28                   NaN                                            NCH-CA2   \n29                   NaN                                            NCH-CA3   \n30                   NaN                                           NCH-CCS1   \n31                   NaN                                 NCH-ERMS1-NCH-RMS1   \n32                   NaN                                           NCH-EWS1   \n33                   NaN                                           NCH-HEP1   \n34                   NaN                                            NCH-MB1   \n35                   NaN                                            NCH-MN1   \n36                   NaN                                            NCH-NB1   \n37                   NaN                                            NCH-OS1   \n38                   NaN                                           NCH-PXA1   \n39                   NaN                                           NCH-RBD1   \n40                   NaN                                           NCH-RBD2   \n41                   NaN                                           NCH-RBD4   \n42                   NaN                                            NCH-WT4   \n43                   NaN                                            NCH-WT5   \n44                   NaN                                   NCH-WT6-S13_1506   \n45                   NaN                                            NCH-WT7   \n46                   NaN                                   NCH-WT8-S13_3700   \n47                   NaN                                            NCIASPS   \n48                   NaN                                               Rh10   \n49                   NaN                                               Rh12   \n50                   NaN                                               Rh30   \n51                   NaN                                              Rh30R   \n52                   NaN                                               Rh36   \n53                   NaN                                               Rh41   \n54                   NaN                                               Rh65   \n55                   NaN                                               Rh70   \n56                   NaN                                             SKNEP1   \n57                   NaN                                               TC71   \n\n                                 validation_technique  \\\n0   Any technique used to validate PDX against the...   \n1                                      fingerprinting   \n2                                           free text   \n3                                           essential   \n4                                     Fingerprinting    \n5                                     Fingerprinting    \n6                                     Fingerprinting    \n7                                     Fingerprinting    \n8                                     Fingerprinting    \n9                                     Fingerprinting    \n10                                    Fingerprinting    \n11                                    Fingerprinting    \n12                                    Fingerprinting    \n13                                    Fingerprinting    \n14                                    Fingerprinting    \n15                                    Fingerprinting    \n16                                    Fingerprinting    \n17                                    Fingerprinting    \n18                                    Fingerprinting    \n19                                    Fingerprinting    \n20                                    Fingerprinting    \n21                                    Fingerprinting    \n22                                    Fingerprinting    \n23                                    Fingerprinting    \n24                                    Fingerprinting    \n25                                    Fingerprinting    \n26                                    Fingerprinting    \n27                                    Fingerprinting    \n28                                    Fingerprinting    \n29                                    Fingerprinting    \n30                                    Fingerprinting    \n31                                    Fingerprinting    \n32                                    Fingerprinting    \n33                                    Fingerprinting    \n34                                    Fingerprinting    \n35                                    Fingerprinting    \n36                                    Fingerprinting    \n37                                    Fingerprinting    \n38                                    Fingerprinting    \n39                                    Fingerprinting    \n40                                    Fingerprinting    \n41                                    Fingerprinting    \n42                                    Fingerprinting    \n43                                    Fingerprinting    \n44                                    Fingerprinting    \n45                                    Fingerprinting    \n46                                    Fingerprinting    \n47                                    Fingerprinting    \n48                                    Fingerprinting    \n49                                    Fingerprinting    \n50                                    Fingerprinting    \n51                                    Fingerprinting    \n52                                    Fingerprinting    \n53                                    Fingerprinting    \n54                                    Fingerprinting    \n55                                    Fingerprinting    \n56                                    Fingerprinting    \n57                                    Fingerprinting    \n\n                                          description  \\\n0   Short description of what was compared and wha...   \n1   high concordance between xenograft and  patien...   \n2                                           free text   \n3                                           essential   \n4                                        Not provided   \n5                                        Not provided   \n6                                        Not provided   \n7                                        Not provided   \n8                                        Not provided   \n9                                        Not provided   \n10                                       Not provided   \n11                                       Not provided   \n12                                       Not provided   \n13                                       Not provided   \n14                                       Not provided   \n15                                       Not provided   \n16                                       Not provided   \n17                                       Not provided   \n18                                       Not provided   \n19                                       Not provided   \n20                                       Not provided   \n21                                       Not provided   \n22                                       Not provided   \n23                                       Not provided   \n24                                       Not provided   \n25                                       Not provided   \n26                                       Not provided   \n27                                       Not provided   \n28                                       Not provided   \n29                                       Not provided   \n30                                       Not provided   \n31                                       Not provided   \n32                                       Not provided   \n33                                       Not provided   \n34                                       Not provided   \n35                                       Not provided   \n36                                       Not provided   \n37                                       Not provided   \n38                                       Not provided   \n39                                       Not provided   \n40                                       Not provided   \n41                                       Not provided   \n42                                       Not provided   \n43                                       Not provided   \n44                                       Not provided   \n45                                       Not provided   \n46                                       Not provided   \n47                                       Not provided   \n48                                       Not provided   \n49                                       Not provided   \n50                                       Not provided   \n51                                       Not provided   \n52                                       Not provided   \n53                                       Not provided   \n54                                       Not provided   \n55                                       Not provided   \n56                                       Not provided   \n57                                       Not provided   \n\n                                      passages_tested  \\\n0   Provide a list of all passages where validatio...   \n1                                                 1,2   \n2                  list of numbers separted by commas   \n3                                           essential   \n4                                        Not provided   \n5                                        Not provided   \n6                                        Not provided   \n7                                        Not provided   \n8                                        Not provided   \n9                                        Not provided   \n10                                       Not provided   \n11                                       Not provided   \n12                                       Not provided   \n13                                       Not provided   \n14                                       Not provided   \n15                                       Not provided   \n16                                       Not provided   \n17                                       Not provided   \n18                                       Not provided   \n19                                       Not provided   \n20                                       Not provided   \n21                                       Not provided   \n22                                       Not provided   \n23                                       Not provided   \n24                                       Not provided   \n25                                       Not provided   \n26                                       Not provided   \n27                                       Not provided   \n28                                       Not provided   \n29                                       Not provided   \n30                                       Not provided   \n31                                       Not provided   \n32                                       Not provided   \n33                                       Not provided   \n34                                       Not provided   \n35                                       Not provided   \n36                                       Not provided   \n37                                       Not provided   \n38                                       Not provided   \n39                                       Not provided   \n40                                       Not provided   \n41                                       Not provided   \n42                                       Not provided   \n43                                       Not provided   \n44                                       Not provided   \n45                                       Not provided   \n46                                       Not provided   \n47                                       Not provided   \n48                                       Not provided   \n49                                       Not provided   \n50                                       Not provided   \n51                                       Not provided   \n52                                       Not provided   \n53                                       Not provided   \n54                                       Not provided   \n55                                       Not provided   \n56                                       Not provided   \n57                                       Not provided   \n\n                  validation_host_strain_nomenclature  \n0   Validation host mouse strain, following mouse ...  \n1                   NOD.Cg-Prkdcscid Il2rgtm1Wjl/SzJ   \n2               full host strain name or Not provided  \n3                                           essential  \n4              C.B-Igh-1b/IcrTac-Prkdc<sup>scid</sup>  \n5              C.B-Igh-1b/IcrTac-Prkdc<sup>scid</sup>  \n6              C.B-Igh-1b/IcrTac-Prkdc<sup>scid</sup>  \n7              C.B-Igh-1b/IcrTac-Prkdc<sup>scid</sup>  \n8              C.B-Igh-1b/IcrTac-Prkdc<sup>scid</sup>  \n9              C.B-Igh-1b/IcrTac-Prkdc<sup>scid</sup>  \n10             C.B-Igh-1b/IcrTac-Prkdc<sup>scid</sup>  \n11             C.B-Igh-1b/IcrTac-Prkdc<sup>scid</sup>  \n12             C.B-Igh-1b/IcrTac-Prkdc<sup>scid</sup>  \n13             C.B-Igh-1b/IcrTac-Prkdc<sup>scid</sup>  \n14             C.B-Igh-1b/IcrTac-Prkdc<sup>scid</sup>  \n15             C.B-Igh-1b/IcrTac-Prkdc<sup>scid</sup>  \n16             C.B-Igh-1b/IcrTac-Prkdc<sup>scid</sup>  \n17             C.B-Igh-1b/IcrTac-Prkdc<sup>scid</sup>  \n18             C.B-Igh-1b/IcrTac-Prkdc<sup>scid</sup>  \n19             C.B-Igh-1b/IcrTac-Prkdc<sup>scid</sup>  \n20             C.B-Igh-1b/IcrTac-Prkdc<sup>scid</sup>  \n21             C.B-Igh-1b/IcrTac-Prkdc<sup>scid</sup>  \n22             C.B-Igh-1b/IcrTac-Prkdc<sup>scid</sup>  \n23             C.B-Igh-1b/IcrTac-Prkdc<sup>scid</sup>  \n24             C.B-Igh-1b/IcrTac-Prkdc<sup>scid</sup>  \n25             C.B-Igh-1b/IcrTac-Prkdc<sup>scid</sup>  \n26             C.B-Igh-1b/IcrTac-Prkdc<sup>scid</sup>  \n27             C.B-Igh-1b/IcrTac-Prkdc<sup>scid</sup>  \n28             C.B-Igh-1b/IcrTac-Prkdc<sup>scid</sup>  \n29             C.B-Igh-1b/IcrTac-Prkdc<sup>scid</sup>  \n30             C.B-Igh-1b/IcrTac-Prkdc<sup>scid</sup>  \n31             C.B-Igh-1b/IcrTac-Prkdc<sup>scid</sup>  \n32             C.B-Igh-1b/IcrTac-Prkdc<sup>scid</sup>  \n33             C.B-Igh-1b/IcrTac-Prkdc<sup>scid</sup>  \n34             C.B-Igh-1b/IcrTac-Prkdc<sup>scid</sup>  \n35             C.B-Igh-1b/IcrTac-Prkdc<sup>scid</sup>  \n36             C.B-Igh-1b/IcrTac-Prkdc<sup>scid</sup>  \n37             C.B-Igh-1b/IcrTac-Prkdc<sup>scid</sup>  \n38             C.B-Igh-1b/IcrTac-Prkdc<sup>scid</sup>  \n39             C.B-Igh-1b/IcrTac-Prkdc<sup>scid</sup>  \n40             C.B-Igh-1b/IcrTac-Prkdc<sup>scid</sup>  \n41             C.B-Igh-1b/IcrTac-Prkdc<sup>scid</sup>  \n42             C.B-Igh-1b/IcrTac-Prkdc<sup>scid</sup>  \n43             C.B-Igh-1b/IcrTac-Prkdc<sup>scid</sup>  \n44             C.B-Igh-1b/IcrTac-Prkdc<sup>scid</sup>  \n45             C.B-Igh-1b/IcrTac-Prkdc<sup>scid</sup>  \n46             C.B-Igh-1b/IcrTac-Prkdc<sup>scid</sup>  \n47             C.B-Igh-1b/IcrTac-Prkdc<sup>scid</sup>  \n48             C.B-Igh-1b/IcrTac-Prkdc<sup>scid</sup>  \n49             C.B-Igh-1b/IcrTac-Prkdc<sup>scid</sup>  \n50             C.B-Igh-1b/IcrTac-Prkdc<sup>scid</sup>  \n51             C.B-Igh-1b/IcrTac-Prkdc<sup>scid</sup>  \n52             C.B-Igh-1b/IcrTac-Prkdc<sup>scid</sup>  \n53             C.B-Igh-1b/IcrTac-Prkdc<sup>scid</sup>  \n54             C.B-Igh-1b/IcrTac-Prkdc<sup>scid</sup>  \n55             C.B-Igh-1b/IcrTac-Prkdc<sup>scid</sup>  \n56             C.B-Igh-1b/IcrTac-Prkdc<sup>scid</sup>  \n57             C.B-Igh-1b/IcrTac-Prkdc<sup>scid</sup>  ",
      "text/html": "<div>\n<style scoped>\n    .dataframe tbody tr th:only-of-type {\n        vertical-align: middle;\n    }\n\n    .dataframe tbody tr th {\n        vertical-align: top;\n    }\n\n    .dataframe thead th {\n        text-align: right;\n    }\n</style>\n<table border=\"1\" class=\"dataframe\">\n  <thead>\n    <tr style=\"text-align: right;\">\n      <th></th>\n      <th>Field</th>\n      <th>model_id</th>\n      <th>validation_technique</th>\n      <th>description</th>\n      <th>passages_tested</th>\n      <th>validation_host_strain_nomenclature</th>\n    </tr>\n  </thead>\n  <tbody>\n    <tr>\n      <th>0</th>\n      <td>#Description</td>\n      <td>Unique identifier for all the PDXs derived fro...</td>\n      <td>Any technique used to validate PDX against the...</td>\n      <td>Short description of what was compared and wha...</td>\n      <td>Provide a list of all passages where validatio...</td>\n      <td>Validation host mouse strain, following mouse ...</td>\n    </tr>\n    <tr>\n      <th>1</th>\n      <td>#Example</td>\n      <td>CRC0228PR</td>\n      <td>fingerprinting</td>\n      <td>high concordance between xenograft and  patien...</td>\n      <td>1,2</td>\n      <td>NOD.Cg-Prkdcscid Il2rgtm1Wjl/SzJ</td>\n    </tr>\n    <tr>\n      <th>2</th>\n      <td>#Format Requirements</td>\n      <td>free text</td>\n      <td>free text</td>\n      <td>free text</td>\n      <td>list of numbers separted by commas</td>\n      <td>full host strain name or Not provided</td>\n    </tr>\n    <tr>\n      <th>3</th>\n      <td>#Essential?</td>\n      <td>essential</td>\n      <td>essential</td>\n      <td>essential</td>\n      <td>essential</td>\n      <td>essential</td>\n    </tr>\n    <tr>\n      <th>4</th>\n      <td>NaN</td>\n      <td>ASPSKY</td>\n      <td>Fingerprinting</td>\n      <td>Not provided</td>\n      <td>Not provided</td>\n      <td>C.B-Igh-1b/IcrTac-Prkdc&lt;sup&gt;scid&lt;/sup&gt;</td>\n    </tr>\n    <tr>\n      <th>5</th>\n      <td>NaN</td>\n      <td>BT27</td>\n      <td>Fingerprinting</td>\n      <td>Not provided</td>\n      <td>Not provided</td>\n      <td>C.B-Igh-1b/IcrTac-Prkdc&lt;sup&gt;scid&lt;/sup&gt;</td>\n    </tr>\n    <tr>\n      <th>6</th>\n      <td>NaN</td>\n      <td>BT29</td>\n      <td>Fingerprinting</td>\n      <td>Not provided</td>\n      <td>Not provided</td>\n      <td>C.B-Igh-1b/IcrTac-Prkdc&lt;sup&gt;scid&lt;/sup&gt;</td>\n    </tr>\n    <tr>\n      <th>7</th>\n      <td>NaN</td>\n      <td>ES1</td>\n      <td>Fingerprinting</td>\n      <td>Not provided</td>\n      <td>Not provided</td>\n      <td>C.B-Igh-1b/IcrTac-Prkdc&lt;sup&gt;scid&lt;/sup&gt;</td>\n    </tr>\n    <tr>\n      <th>8</th>\n      <td>NaN</td>\n      <td>ES4</td>\n      <td>Fingerprinting</td>\n      <td>Not provided</td>\n      <td>Not provided</td>\n      <td>C.B-Igh-1b/IcrTac-Prkdc&lt;sup&gt;scid&lt;/sup&gt;</td>\n    </tr>\n    <tr>\n      <th>9</th>\n      <td>NaN</td>\n      <td>ES6</td>\n      <td>Fingerprinting</td>\n      <td>Not provided</td>\n      <td>Not provided</td>\n      <td>C.B-Igh-1b/IcrTac-Prkdc&lt;sup&gt;scid&lt;/sup&gt;</td>\n    </tr>\n    <tr>\n      <th>10</th>\n      <td>NaN</td>\n      <td>ES8</td>\n      <td>Fingerprinting</td>\n      <td>Not provided</td>\n      <td>Not provided</td>\n      <td>C.B-Igh-1b/IcrTac-Prkdc&lt;sup&gt;scid&lt;/sup&gt;</td>\n    </tr>\n    <tr>\n      <th>11</th>\n      <td>NaN</td>\n      <td>EW5</td>\n      <td>Fingerprinting</td>\n      <td>Not provided</td>\n      <td>Not provided</td>\n      <td>C.B-Igh-1b/IcrTac-Prkdc&lt;sup&gt;scid&lt;/sup&gt;</td>\n    </tr>\n    <tr>\n      <th>12</th>\n      <td>NaN</td>\n      <td>EW8</td>\n      <td>Fingerprinting</td>\n      <td>Not provided</td>\n      <td>Not provided</td>\n      <td>C.B-Igh-1b/IcrTac-Prkdc&lt;sup&gt;scid&lt;/sup&gt;</td>\n    </tr>\n    <tr>\n      <th>13</th>\n      <td>NaN</td>\n      <td>G401</td>\n      <td>Fingerprinting</td>\n      <td>Not provided</td>\n      <td>Not provided</td>\n      <td>C.B-Igh-1b/IcrTac-Prkdc&lt;sup&gt;scid&lt;/sup&gt;</td>\n    </tr>\n    <tr>\n      <th>14</th>\n      <td>NaN</td>\n      <td>IRS56</td>\n      <td>Fingerprinting</td>\n      <td>Not provided</td>\n      <td>Not provided</td>\n      <td>C.B-Igh-1b/IcrTac-Prkdc&lt;sup&gt;scid&lt;/sup&gt;</td>\n    </tr>\n    <tr>\n      <th>15</th>\n      <td>NaN</td>\n      <td>IRS68</td>\n      <td>Fingerprinting</td>\n      <td>Not provided</td>\n      <td>Not provided</td>\n      <td>C.B-Igh-1b/IcrTac-Prkdc&lt;sup&gt;scid&lt;/sup&gt;</td>\n    </tr>\n    <tr>\n      <th>16</th>\n      <td>NaN</td>\n      <td>KT10</td>\n      <td>Fingerprinting</td>\n      <td>Not provided</td>\n      <td>Not provided</td>\n      <td>C.B-Igh-1b/IcrTac-Prkdc&lt;sup&gt;scid&lt;/sup&gt;</td>\n    </tr>\n    <tr>\n      <th>17</th>\n      <td>NaN</td>\n      <td>KT11</td>\n      <td>Fingerprinting</td>\n      <td>Not provided</td>\n      <td>Not provided</td>\n      <td>C.B-Igh-1b/IcrTac-Prkdc&lt;sup&gt;scid&lt;/sup&gt;</td>\n    </tr>\n    <tr>\n      <th>18</th>\n      <td>NaN</td>\n      <td>KT12</td>\n      <td>Fingerprinting</td>\n      <td>Not provided</td>\n      <td>Not provided</td>\n      <td>C.B-Igh-1b/IcrTac-Prkdc&lt;sup&gt;scid&lt;/sup&gt;</td>\n    </tr>\n    <tr>\n      <th>19</th>\n      <td>NaN</td>\n      <td>KT13</td>\n      <td>Fingerprinting</td>\n      <td>Not provided</td>\n      <td>Not provided</td>\n      <td>C.B-Igh-1b/IcrTac-Prkdc&lt;sup&gt;scid&lt;/sup&gt;</td>\n    </tr>\n    <tr>\n      <th>20</th>\n      <td>NaN</td>\n      <td>KT14</td>\n      <td>Fingerprinting</td>\n      <td>Not provided</td>\n      <td>Not provided</td>\n      <td>C.B-Igh-1b/IcrTac-Prkdc&lt;sup&gt;scid&lt;/sup&gt;</td>\n    </tr>\n    <tr>\n      <th>21</th>\n      <td>NaN</td>\n      <td>KT18</td>\n      <td>Fingerprinting</td>\n      <td>Not provided</td>\n      <td>Not provided</td>\n      <td>C.B-Igh-1b/IcrTac-Prkdc&lt;sup&gt;scid&lt;/sup&gt;</td>\n    </tr>\n    <tr>\n      <th>22</th>\n      <td>NaN</td>\n      <td>KT5</td>\n      <td>Fingerprinting</td>\n      <td>Not provided</td>\n      <td>Not provided</td>\n      <td>C.B-Igh-1b/IcrTac-Prkdc&lt;sup&gt;scid&lt;/sup&gt;</td>\n    </tr>\n    <tr>\n      <th>23</th>\n      <td>NaN</td>\n      <td>KT6</td>\n      <td>Fingerprinting</td>\n      <td>Not provided</td>\n      <td>Not provided</td>\n      <td>C.B-Igh-1b/IcrTac-Prkdc&lt;sup&gt;scid&lt;/sup&gt;</td>\n    </tr>\n    <tr>\n      <th>24</th>\n      <td>NaN</td>\n      <td>KT8</td>\n      <td>Fingerprinting</td>\n      <td>Not provided</td>\n      <td>Not provided</td>\n      <td>C.B-Igh-1b/IcrTac-Prkdc&lt;sup&gt;scid&lt;/sup&gt;</td>\n    </tr>\n    <tr>\n      <th>25</th>\n      <td>NaN</td>\n      <td>KT9</td>\n      <td>Fingerprinting</td>\n      <td>Not provided</td>\n      <td>Not provided</td>\n      <td>C.B-Igh-1b/IcrTac-Prkdc&lt;sup&gt;scid&lt;/sup&gt;</td>\n    </tr>\n    <tr>\n      <th>26</th>\n      <td>NaN</td>\n      <td>NCH-ARMS2-NCH-S13_7484</td>\n      <td>Fingerprinting</td>\n      <td>Not provided</td>\n      <td>Not provided</td>\n      <td>C.B-Igh-1b/IcrTac-Prkdc&lt;sup&gt;scid&lt;/sup&gt;</td>\n    </tr>\n    <tr>\n      <th>27</th>\n      <td>NaN</td>\n      <td>NCH-CA1</td>\n      <td>Fingerprinting</td>\n      <td>Not provided</td>\n      <td>Not provided</td>\n      <td>C.B-Igh-1b/IcrTac-Prkdc&lt;sup&gt;scid&lt;/sup&gt;</td>\n    </tr>\n    <tr>\n      <th>28</th>\n      <td>NaN</td>\n      <td>NCH-CA2</td>\n      <td>Fingerprinting</td>\n      <td>Not provided</td>\n      <td>Not provided</td>\n      <td>C.B-Igh-1b/IcrTac-Prkdc&lt;sup&gt;scid&lt;/sup&gt;</td>\n    </tr>\n    <tr>\n      <th>29</th>\n      <td>NaN</td>\n      <td>NCH-CA3</td>\n      <td>Fingerprinting</td>\n      <td>Not provided</td>\n      <td>Not provided</td>\n      <td>C.B-Igh-1b/IcrTac-Prkdc&lt;sup&gt;scid&lt;/sup&gt;</td>\n    </tr>\n    <tr>\n      <th>30</th>\n      <td>NaN</td>\n      <td>NCH-CCS1</td>\n      <td>Fingerprinting</td>\n      <td>Not provided</td>\n      <td>Not provided</td>\n      <td>C.B-Igh-1b/IcrTac-Prkdc&lt;sup&gt;scid&lt;/sup&gt;</td>\n    </tr>\n    <tr>\n      <th>31</th>\n      <td>NaN</td>\n      <td>NCH-ERMS1-NCH-RMS1</td>\n      <td>Fingerprinting</td>\n      <td>Not provided</td>\n      <td>Not provided</td>\n      <td>C.B-Igh-1b/IcrTac-Prkdc&lt;sup&gt;scid&lt;/sup&gt;</td>\n    </tr>\n    <tr>\n      <th>32</th>\n      <td>NaN</td>\n      <td>NCH-EWS1</td>\n      <td>Fingerprinting</td>\n      <td>Not provided</td>\n      <td>Not provided</td>\n      <td>C.B-Igh-1b/IcrTac-Prkdc&lt;sup&gt;scid&lt;/sup&gt;</td>\n    </tr>\n    <tr>\n      <th>33</th>\n      <td>NaN</td>\n      <td>NCH-HEP1</td>\n      <td>Fingerprinting</td>\n      <td>Not provided</td>\n      <td>Not provided</td>\n      <td>C.B-Igh-1b/IcrTac-Prkdc&lt;sup&gt;scid&lt;/sup&gt;</td>\n    </tr>\n    <tr>\n      <th>34</th>\n      <td>NaN</td>\n      <td>NCH-MB1</td>\n      <td>Fingerprinting</td>\n      <td>Not provided</td>\n      <td>Not provided</td>\n      <td>C.B-Igh-1b/IcrTac-Prkdc&lt;sup&gt;scid&lt;/sup&gt;</td>\n    </tr>\n    <tr>\n      <th>35</th>\n      <td>NaN</td>\n      <td>NCH-MN1</td>\n      <td>Fingerprinting</td>\n      <td>Not provided</td>\n      <td>Not provided</td>\n      <td>C.B-Igh-1b/IcrTac-Prkdc&lt;sup&gt;scid&lt;/sup&gt;</td>\n    </tr>\n    <tr>\n      <th>36</th>\n      <td>NaN</td>\n      <td>NCH-NB1</td>\n      <td>Fingerprinting</td>\n      <td>Not provided</td>\n      <td>Not provided</td>\n      <td>C.B-Igh-1b/IcrTac-Prkdc&lt;sup&gt;scid&lt;/sup&gt;</td>\n    </tr>\n    <tr>\n      <th>37</th>\n      <td>NaN</td>\n      <td>NCH-OS1</td>\n      <td>Fingerprinting</td>\n      <td>Not provided</td>\n      <td>Not provided</td>\n      <td>C.B-Igh-1b/IcrTac-Prkdc&lt;sup&gt;scid&lt;/sup&gt;</td>\n    </tr>\n    <tr>\n      <th>38</th>\n      <td>NaN</td>\n      <td>NCH-PXA1</td>\n      <td>Fingerprinting</td>\n      <td>Not provided</td>\n      <td>Not provided</td>\n      <td>C.B-Igh-1b/IcrTac-Prkdc&lt;sup&gt;scid&lt;/sup&gt;</td>\n    </tr>\n    <tr>\n      <th>39</th>\n      <td>NaN</td>\n      <td>NCH-RBD1</td>\n      <td>Fingerprinting</td>\n      <td>Not provided</td>\n      <td>Not provided</td>\n      <td>C.B-Igh-1b/IcrTac-Prkdc&lt;sup&gt;scid&lt;/sup&gt;</td>\n    </tr>\n    <tr>\n      <th>40</th>\n      <td>NaN</td>\n      <td>NCH-RBD2</td>\n      <td>Fingerprinting</td>\n      <td>Not provided</td>\n      <td>Not provided</td>\n      <td>C.B-Igh-1b/IcrTac-Prkdc&lt;sup&gt;scid&lt;/sup&gt;</td>\n    </tr>\n    <tr>\n      <th>41</th>\n      <td>NaN</td>\n      <td>NCH-RBD4</td>\n      <td>Fingerprinting</td>\n      <td>Not provided</td>\n      <td>Not provided</td>\n      <td>C.B-Igh-1b/IcrTac-Prkdc&lt;sup&gt;scid&lt;/sup&gt;</td>\n    </tr>\n    <tr>\n      <th>42</th>\n      <td>NaN</td>\n      <td>NCH-WT4</td>\n      <td>Fingerprinting</td>\n      <td>Not provided</td>\n      <td>Not provided</td>\n      <td>C.B-Igh-1b/IcrTac-Prkdc&lt;sup&gt;scid&lt;/sup&gt;</td>\n    </tr>\n    <tr>\n      <th>43</th>\n      <td>NaN</td>\n      <td>NCH-WT5</td>\n      <td>Fingerprinting</td>\n      <td>Not provided</td>\n      <td>Not provided</td>\n      <td>C.B-Igh-1b/IcrTac-Prkdc&lt;sup&gt;scid&lt;/sup&gt;</td>\n    </tr>\n    <tr>\n      <th>44</th>\n      <td>NaN</td>\n      <td>NCH-WT6-S13_1506</td>\n      <td>Fingerprinting</td>\n      <td>Not provided</td>\n      <td>Not provided</td>\n      <td>C.B-Igh-1b/IcrTac-Prkdc&lt;sup&gt;scid&lt;/sup&gt;</td>\n    </tr>\n    <tr>\n      <th>45</th>\n      <td>NaN</td>\n      <td>NCH-WT7</td>\n      <td>Fingerprinting</td>\n      <td>Not provided</td>\n      <td>Not provided</td>\n      <td>C.B-Igh-1b/IcrTac-Prkdc&lt;sup&gt;scid&lt;/sup&gt;</td>\n    </tr>\n    <tr>\n      <th>46</th>\n      <td>NaN</td>\n      <td>NCH-WT8-S13_3700</td>\n      <td>Fingerprinting</td>\n      <td>Not provided</td>\n      <td>Not provided</td>\n      <td>C.B-Igh-1b/IcrTac-Prkdc&lt;sup&gt;scid&lt;/sup&gt;</td>\n    </tr>\n    <tr>\n      <th>47</th>\n      <td>NaN</td>\n      <td>NCIASPS</td>\n      <td>Fingerprinting</td>\n      <td>Not provided</td>\n      <td>Not provided</td>\n      <td>C.B-Igh-1b/IcrTac-Prkdc&lt;sup&gt;scid&lt;/sup&gt;</td>\n    </tr>\n    <tr>\n      <th>48</th>\n      <td>NaN</td>\n      <td>Rh10</td>\n      <td>Fingerprinting</td>\n      <td>Not provided</td>\n      <td>Not provided</td>\n      <td>C.B-Igh-1b/IcrTac-Prkdc&lt;sup&gt;scid&lt;/sup&gt;</td>\n    </tr>\n    <tr>\n      <th>49</th>\n      <td>NaN</td>\n      <td>Rh12</td>\n      <td>Fingerprinting</td>\n      <td>Not provided</td>\n      <td>Not provided</td>\n      <td>C.B-Igh-1b/IcrTac-Prkdc&lt;sup&gt;scid&lt;/sup&gt;</td>\n    </tr>\n    <tr>\n      <th>50</th>\n      <td>NaN</td>\n      <td>Rh30</td>\n      <td>Fingerprinting</td>\n      <td>Not provided</td>\n      <td>Not provided</td>\n      <td>C.B-Igh-1b/IcrTac-Prkdc&lt;sup&gt;scid&lt;/sup&gt;</td>\n    </tr>\n    <tr>\n      <th>51</th>\n      <td>NaN</td>\n      <td>Rh30R</td>\n      <td>Fingerprinting</td>\n      <td>Not provided</td>\n      <td>Not provided</td>\n      <td>C.B-Igh-1b/IcrTac-Prkdc&lt;sup&gt;scid&lt;/sup&gt;</td>\n    </tr>\n    <tr>\n      <th>52</th>\n      <td>NaN</td>\n      <td>Rh36</td>\n      <td>Fingerprinting</td>\n      <td>Not provided</td>\n      <td>Not provided</td>\n      <td>C.B-Igh-1b/IcrTac-Prkdc&lt;sup&gt;scid&lt;/sup&gt;</td>\n    </tr>\n    <tr>\n      <th>53</th>\n      <td>NaN</td>\n      <td>Rh41</td>\n      <td>Fingerprinting</td>\n      <td>Not provided</td>\n      <td>Not provided</td>\n      <td>C.B-Igh-1b/IcrTac-Prkdc&lt;sup&gt;scid&lt;/sup&gt;</td>\n    </tr>\n    <tr>\n      <th>54</th>\n      <td>NaN</td>\n      <td>Rh65</td>\n      <td>Fingerprinting</td>\n      <td>Not provided</td>\n      <td>Not provided</td>\n      <td>C.B-Igh-1b/IcrTac-Prkdc&lt;sup&gt;scid&lt;/sup&gt;</td>\n    </tr>\n    <tr>\n      <th>55</th>\n      <td>NaN</td>\n      <td>Rh70</td>\n      <td>Fingerprinting</td>\n      <td>Not provided</td>\n      <td>Not provided</td>\n      <td>C.B-Igh-1b/IcrTac-Prkdc&lt;sup&gt;scid&lt;/sup&gt;</td>\n    </tr>\n    <tr>\n      <th>56</th>\n      <td>NaN</td>\n      <td>SKNEP1</td>\n      <td>Fingerprinting</td>\n      <td>Not provided</td>\n      <td>Not provided</td>\n      <td>C.B-Igh-1b/IcrTac-Prkdc&lt;sup&gt;scid&lt;/sup&gt;</td>\n    </tr>\n    <tr>\n      <th>57</th>\n      <td>NaN</td>\n      <td>TC71</td>\n      <td>Fingerprinting</td>\n      <td>Not provided</td>\n      <td>Not provided</td>\n      <td>C.B-Igh-1b/IcrTac-Prkdc&lt;sup&gt;scid&lt;/sup&gt;</td>\n    </tr>\n  </tbody>\n</table>\n</div>"
     },
     "execution_count": 71,
     "metadata": {},
     "output_type": "execute_result"
    }
   ],
   "source": [
    "fix_ids(join(GCCRI_path, 'GCCRI_metadata-model_validation.tsv'), mapper).to_csv(join(GCCRI_path, 'GCCRI_metadata-model_validation.tsv'), sep='\\t', index=False)"
   ],
   "metadata": {
    "collapsed": false,
    "ExecuteTime": {
     "end_time": "2024-01-18T21:21:49.964353Z",
     "start_time": "2024-01-18T21:21:49.892007Z"
    }
   },
   "execution_count": 71
  },
  {
   "cell_type": "code",
   "outputs": [],
   "source": [
    "ps_mapper = dict(zip(list(pdx['model_id'] + '_P'), [n + '_P' for n in new_model_id]))\n",
    "out = fix_ids(join(GCCRI_path, 'GCCRI_metadata-patient_sample.tsv'), mapper)\n",
    "out.replace(ps_mapper).to_csv(join(GCCRI_path, 'GCCRI_metadata-patient_sample.tsv'), sep='\\t', index=False)"
   ],
   "metadata": {
    "collapsed": false,
    "ExecuteTime": {
     "end_time": "2024-01-18T21:24:58.628388Z",
     "start_time": "2024-01-18T21:24:58.547358Z"
    }
   },
   "execution_count": 82
  },
  {
   "cell_type": "code",
   "outputs": [],
   "source": [
    "out = fix_ids(join(GCCRI_path, 'GCCRI_molecular_metadata-sample.tsv'), mapper)\n",
    "out.replace(ps_mapper).to_csv(join(GCCRI_path, 'GCCRI_molecular_metadata-sample.tsv'), sep='\\t', index=False)"
   ],
   "metadata": {
    "collapsed": false,
    "ExecuteTime": {
     "end_time": "2024-01-18T21:26:02.931492Z",
     "start_time": "2024-01-18T21:26:02.847326Z"
    }
   },
   "execution_count": 83
  },
  {
   "cell_type": "code",
   "outputs": [],
   "source": [
    "mut = read(join(GCCRI_path, 'mut/GCCRI_mut.tsv'), sep='\\t').replace(ps_mapper)\n",
    "mut.to_csv(join(GCCRI_path, 'mut/GCCRI_mut.tsv'), sep='\\t', index=False)"
   ],
   "metadata": {
    "collapsed": false,
    "ExecuteTime": {
     "end_time": "2024-01-18T21:28:04.651167Z",
     "start_time": "2024-01-18T21:28:04.074809Z"
    }
   },
   "execution_count": 87
  },
  {
   "cell_type": "code",
   "outputs": [
    {
     "data": {
      "text/plain": "      sample_id  symbol         biotype coding_sequence_change variant_class  \\\n0     ASPS-KY_P   ACAD8  protein_coding                 557A>G           SNV   \n1     ASPS-KY_P    ACHE  protein_coding                 827G>A           SNV   \n2     ASPS-KY_P   ACOX3  protein_coding                1306C>T           SNV   \n3     ASPS-KY_P   ACTN1  protein_coding                1822C>T           SNV   \n4     ASPS-KY_P  ADARB2  protein_coding                 283G>T           SNV   \n...         ...     ...             ...                    ...           ...   \n7002    TC-71_P  LRRC55  protein_coding                 407C>T           SNV   \n7003    TC-71_P  ZNF728  protein_coding                 143C>T           SNV   \n7004    TC-71_P  IL27RA  protein_coding                    NaN           SNV   \n7005    TC-71_P    FLG2  protein_coding                5830G>A           SNV   \n7006    TC-71_P  SHISA9  protein_coding                 890C>A           SNV   \n\n     codon_change amino_acid_change              consequence  \\\n0         aAt/aGt             N186S         missense_variant   \n1         cGt/cAt             R276H         missense_variant   \n2         Cgg/Tgg             R436W         missense_variant   \n3         Cgg/Tgg             R608W         missense_variant   \n4         Ggc/Tgc              G95C         missense_variant   \n...           ...               ...                      ...   \n7002      gCc/gTc             A136V         missense_variant   \n7003      cCt/cTt              P48L         missense_variant   \n7004          NaN               NaN  downstream_gene_variant   \n7005      Ggg/Agg            G1944R         missense_variant   \n7006      cCa/cAa             P297Q         missense_variant   \n\n      functional_prediction  read_depth  ...  seq_start_position ref_allele  \\\n0                       NaN         NaN  ...           134259074          A   \n1                       NaN         NaN  ...           100893406          C   \n2                       NaN         NaN  ...             8389729          G   \n3                       NaN         NaN  ...            68882589          G   \n4                       NaN         NaN  ...             1363822          C   \n...                     ...         ...  ...                 ...        ...   \n7002                    NaN         NaN  ...            57182429          C   \n7003                    NaN         NaN  ...            22987391          G   \n7004                    NaN         NaN  ...            14055064          G   \n7005                    NaN         NaN  ...           152351956          C   \n7006                    NaN         NaN  ...            13213295          C   \n\n      alt_allele  ucsc_gene_id ncbi_gene_id ncbi_transcript_id  \\\n0              G           NaN          NaN                NaN   \n1              T           NaN          NaN                NaN   \n2              A           NaN          NaN                NaN   \n3              A           NaN          NaN                NaN   \n4              A           NaN          NaN                NaN   \n...          ...           ...          ...                ...   \n7002           T           NaN          NaN                NaN   \n7003           A           NaN          NaN                NaN   \n7004           A           NaN          NaN                NaN   \n7005           T           NaN          NaN                NaN   \n7006           A           NaN          NaN                NaN   \n\n      ensembl_gene_id  ensembl_transcript_id  \\\n0     ENSG00000151498        ENST00000281182   \n1     ENSG00000087085        ENST00000241069   \n2     ENSG00000087008        ENST00000356406   \n3     ENSG00000072110        ENST00000394419   \n4     ENSG00000185736        ENST00000381312   \n...               ...                    ...   \n7002  ENSG00000183908        ENST00000497933   \n7003  ENSG00000269067        ENST00000594710   \n7004  ENSG00000104998        ENST00000263379   \n7005  ENSG00000143520        ENST00000388718   \n7006  ENSG00000237515        ENST00000558583   \n\n                                variation_id   platform_id  \n0                                rs200170162  mutation_WES  \n1                                rs533264163  mutation_WES  \n2                   rs146052311&COSV62712425  mutation_WES  \n3                  rs1468329163&COSV99518838  mutation_WES  \n4     rs748408152&COSV105323616&COSV67231399  mutation_WES  \n...                                      ...           ...  \n7002                            COSV73006284  mutation_WES  \n7003                            rs1157096293  mutation_WES  \n7004                rs201934041&COSV54602528  mutation_WES  \n7005                             rs200946758  mutation_WES  \n7006                                     NaN  mutation_WES  \n\n[7007 rows x 23 columns]",
      "text/html": "<div>\n<style scoped>\n    .dataframe tbody tr th:only-of-type {\n        vertical-align: middle;\n    }\n\n    .dataframe tbody tr th {\n        vertical-align: top;\n    }\n\n    .dataframe thead th {\n        text-align: right;\n    }\n</style>\n<table border=\"1\" class=\"dataframe\">\n  <thead>\n    <tr style=\"text-align: right;\">\n      <th></th>\n      <th>sample_id</th>\n      <th>symbol</th>\n      <th>biotype</th>\n      <th>coding_sequence_change</th>\n      <th>variant_class</th>\n      <th>codon_change</th>\n      <th>amino_acid_change</th>\n      <th>consequence</th>\n      <th>functional_prediction</th>\n      <th>read_depth</th>\n      <th>...</th>\n      <th>seq_start_position</th>\n      <th>ref_allele</th>\n      <th>alt_allele</th>\n      <th>ucsc_gene_id</th>\n      <th>ncbi_gene_id</th>\n      <th>ncbi_transcript_id</th>\n      <th>ensembl_gene_id</th>\n      <th>ensembl_transcript_id</th>\n      <th>variation_id</th>\n      <th>platform_id</th>\n    </tr>\n  </thead>\n  <tbody>\n    <tr>\n      <th>0</th>\n      <td>ASPS-KY_P</td>\n      <td>ACAD8</td>\n      <td>protein_coding</td>\n      <td>557A&gt;G</td>\n      <td>SNV</td>\n      <td>aAt/aGt</td>\n      <td>N186S</td>\n      <td>missense_variant</td>\n      <td>NaN</td>\n      <td>NaN</td>\n      <td>...</td>\n      <td>134259074</td>\n      <td>A</td>\n      <td>G</td>\n      <td>NaN</td>\n      <td>NaN</td>\n      <td>NaN</td>\n      <td>ENSG00000151498</td>\n      <td>ENST00000281182</td>\n      <td>rs200170162</td>\n      <td>mutation_WES</td>\n    </tr>\n    <tr>\n      <th>1</th>\n      <td>ASPS-KY_P</td>\n      <td>ACHE</td>\n      <td>protein_coding</td>\n      <td>827G&gt;A</td>\n      <td>SNV</td>\n      <td>cGt/cAt</td>\n      <td>R276H</td>\n      <td>missense_variant</td>\n      <td>NaN</td>\n      <td>NaN</td>\n      <td>...</td>\n      <td>100893406</td>\n      <td>C</td>\n      <td>T</td>\n      <td>NaN</td>\n      <td>NaN</td>\n      <td>NaN</td>\n      <td>ENSG00000087085</td>\n      <td>ENST00000241069</td>\n      <td>rs533264163</td>\n      <td>mutation_WES</td>\n    </tr>\n    <tr>\n      <th>2</th>\n      <td>ASPS-KY_P</td>\n      <td>ACOX3</td>\n      <td>protein_coding</td>\n      <td>1306C&gt;T</td>\n      <td>SNV</td>\n      <td>Cgg/Tgg</td>\n      <td>R436W</td>\n      <td>missense_variant</td>\n      <td>NaN</td>\n      <td>NaN</td>\n      <td>...</td>\n      <td>8389729</td>\n      <td>G</td>\n      <td>A</td>\n      <td>NaN</td>\n      <td>NaN</td>\n      <td>NaN</td>\n      <td>ENSG00000087008</td>\n      <td>ENST00000356406</td>\n      <td>rs146052311&amp;COSV62712425</td>\n      <td>mutation_WES</td>\n    </tr>\n    <tr>\n      <th>3</th>\n      <td>ASPS-KY_P</td>\n      <td>ACTN1</td>\n      <td>protein_coding</td>\n      <td>1822C&gt;T</td>\n      <td>SNV</td>\n      <td>Cgg/Tgg</td>\n      <td>R608W</td>\n      <td>missense_variant</td>\n      <td>NaN</td>\n      <td>NaN</td>\n      <td>...</td>\n      <td>68882589</td>\n      <td>G</td>\n      <td>A</td>\n      <td>NaN</td>\n      <td>NaN</td>\n      <td>NaN</td>\n      <td>ENSG00000072110</td>\n      <td>ENST00000394419</td>\n      <td>rs1468329163&amp;COSV99518838</td>\n      <td>mutation_WES</td>\n    </tr>\n    <tr>\n      <th>4</th>\n      <td>ASPS-KY_P</td>\n      <td>ADARB2</td>\n      <td>protein_coding</td>\n      <td>283G&gt;T</td>\n      <td>SNV</td>\n      <td>Ggc/Tgc</td>\n      <td>G95C</td>\n      <td>missense_variant</td>\n      <td>NaN</td>\n      <td>NaN</td>\n      <td>...</td>\n      <td>1363822</td>\n      <td>C</td>\n      <td>A</td>\n      <td>NaN</td>\n      <td>NaN</td>\n      <td>NaN</td>\n      <td>ENSG00000185736</td>\n      <td>ENST00000381312</td>\n      <td>rs748408152&amp;COSV105323616&amp;COSV67231399</td>\n      <td>mutation_WES</td>\n    </tr>\n    <tr>\n      <th>...</th>\n      <td>...</td>\n      <td>...</td>\n      <td>...</td>\n      <td>...</td>\n      <td>...</td>\n      <td>...</td>\n      <td>...</td>\n      <td>...</td>\n      <td>...</td>\n      <td>...</td>\n      <td>...</td>\n      <td>...</td>\n      <td>...</td>\n      <td>...</td>\n      <td>...</td>\n      <td>...</td>\n      <td>...</td>\n      <td>...</td>\n      <td>...</td>\n      <td>...</td>\n      <td>...</td>\n    </tr>\n    <tr>\n      <th>7002</th>\n      <td>TC-71_P</td>\n      <td>LRRC55</td>\n      <td>protein_coding</td>\n      <td>407C&gt;T</td>\n      <td>SNV</td>\n      <td>gCc/gTc</td>\n      <td>A136V</td>\n      <td>missense_variant</td>\n      <td>NaN</td>\n      <td>NaN</td>\n      <td>...</td>\n      <td>57182429</td>\n      <td>C</td>\n      <td>T</td>\n      <td>NaN</td>\n      <td>NaN</td>\n      <td>NaN</td>\n      <td>ENSG00000183908</td>\n      <td>ENST00000497933</td>\n      <td>COSV73006284</td>\n      <td>mutation_WES</td>\n    </tr>\n    <tr>\n      <th>7003</th>\n      <td>TC-71_P</td>\n      <td>ZNF728</td>\n      <td>protein_coding</td>\n      <td>143C&gt;T</td>\n      <td>SNV</td>\n      <td>cCt/cTt</td>\n      <td>P48L</td>\n      <td>missense_variant</td>\n      <td>NaN</td>\n      <td>NaN</td>\n      <td>...</td>\n      <td>22987391</td>\n      <td>G</td>\n      <td>A</td>\n      <td>NaN</td>\n      <td>NaN</td>\n      <td>NaN</td>\n      <td>ENSG00000269067</td>\n      <td>ENST00000594710</td>\n      <td>rs1157096293</td>\n      <td>mutation_WES</td>\n    </tr>\n    <tr>\n      <th>7004</th>\n      <td>TC-71_P</td>\n      <td>IL27RA</td>\n      <td>protein_coding</td>\n      <td>NaN</td>\n      <td>SNV</td>\n      <td>NaN</td>\n      <td>NaN</td>\n      <td>downstream_gene_variant</td>\n      <td>NaN</td>\n      <td>NaN</td>\n      <td>...</td>\n      <td>14055064</td>\n      <td>G</td>\n      <td>A</td>\n      <td>NaN</td>\n      <td>NaN</td>\n      <td>NaN</td>\n      <td>ENSG00000104998</td>\n      <td>ENST00000263379</td>\n      <td>rs201934041&amp;COSV54602528</td>\n      <td>mutation_WES</td>\n    </tr>\n    <tr>\n      <th>7005</th>\n      <td>TC-71_P</td>\n      <td>FLG2</td>\n      <td>protein_coding</td>\n      <td>5830G&gt;A</td>\n      <td>SNV</td>\n      <td>Ggg/Agg</td>\n      <td>G1944R</td>\n      <td>missense_variant</td>\n      <td>NaN</td>\n      <td>NaN</td>\n      <td>...</td>\n      <td>152351956</td>\n      <td>C</td>\n      <td>T</td>\n      <td>NaN</td>\n      <td>NaN</td>\n      <td>NaN</td>\n      <td>ENSG00000143520</td>\n      <td>ENST00000388718</td>\n      <td>rs200946758</td>\n      <td>mutation_WES</td>\n    </tr>\n    <tr>\n      <th>7006</th>\n      <td>TC-71_P</td>\n      <td>SHISA9</td>\n      <td>protein_coding</td>\n      <td>890C&gt;A</td>\n      <td>SNV</td>\n      <td>cCa/cAa</td>\n      <td>P297Q</td>\n      <td>missense_variant</td>\n      <td>NaN</td>\n      <td>NaN</td>\n      <td>...</td>\n      <td>13213295</td>\n      <td>C</td>\n      <td>A</td>\n      <td>NaN</td>\n      <td>NaN</td>\n      <td>NaN</td>\n      <td>ENSG00000237515</td>\n      <td>ENST00000558583</td>\n      <td>NaN</td>\n      <td>mutation_WES</td>\n    </tr>\n  </tbody>\n</table>\n<p>7007 rows × 23 columns</p>\n</div>"
     },
     "execution_count": 85,
     "metadata": {},
     "output_type": "execute_result"
    }
   ],
   "source": [
    "mut"
   ],
   "metadata": {
    "collapsed": false,
    "ExecuteTime": {
     "end_time": "2024-01-18T21:27:10.177333Z",
     "start_time": "2024-01-18T21:27:10.105701Z"
    }
   },
   "execution_count": 85
  },
  {
   "cell_type": "code",
   "outputs": [],
   "source": [
    "treatment = read(join(GCCRI_path, 'treatment/GCCRI_patienttreatment-Sheet1.tsv'), sep='\\t').replace(mapper)\n",
    "treatment.to_csv(join(GCCRI_path, 'treatment/GCCRI_patienttreatment-Sheet1.tsv'), sep='\\t', index=False)"
   ],
   "metadata": {
    "collapsed": false,
    "ExecuteTime": {
     "end_time": "2024-01-18T21:29:50.204028Z",
     "start_time": "2024-01-18T21:29:50.119271Z"
    }
   },
   "execution_count": 89
  },
  {
   "cell_type": "code",
   "outputs": [
    {
     "data": {
      "text/plain": "True"
     },
     "execution_count": 102,
     "metadata": {},
     "output_type": "execute_result"
    }
   ],
   "source": [
    "exists(join(GCCRI_path, 'mut'))"
   ],
   "metadata": {
    "collapsed": false,
    "ExecuteTime": {
     "end_time": "2024-01-18T21:36:54.691800Z",
     "start_time": "2024-01-18T21:36:54.622456Z"
    }
   },
   "execution_count": 102
  },
  {
   "cell_type": "code",
   "outputs": [],
   "source": [
    "def convert_to_int_or_blank(value):\n",
    "    try:\n",
    "        return int(float(value))\n",
    "    except ValueError:\n",
    "        return ''\n",
    "    \n",
    "exp = get_files(join(GCCRI_path, 'expression'))\n",
    "exp = [f for f in exp if f.endswith('.tsv')]\n",
    "for f in exp:\n",
    "    temp = read(join(GCCRI_path, 'expression', f), sep='\\t')\n",
    "    new_f = mapper[f.split('_')[2].replace('.tsv', '')]\n",
    "    new_f = 'GCCRI_expression_' + new_f + '.tsv'\n",
    "    new_f = join(GCCRI_path, 'expression', new_f)\n",
    "    temp['ensembl_gene_id'] = [convert_to_int_or_blank(p)  for p in temp['ensembl_gene_id']]\n",
    "    temp.replace(ps_mapper).to_csv(new_f, sep='\\t', index=False)\n",
    "    remove(join(GCCRI_path, 'expression', f))"
   ],
   "metadata": {
    "collapsed": false,
    "ExecuteTime": {
     "end_time": "2024-01-18T22:25:23.177674Z",
     "start_time": "2024-01-18T22:24:32.958120Z"
    }
   },
   "execution_count": 27
  },
  {
   "cell_type": "code",
   "outputs": [],
   "source": [
    "cna = get_files(join(GCCRI_path, 'cna'))\n",
    "cna = [f for f in cna if f.endswith('.tsv')]\n",
    "for f in cna:\n",
    "    temp = read(join(GCCRI_path, 'cna', f), sep='\\t')\n",
    "    new_f = mapper[f.split('_')[2].replace('.tsv', '')]\n",
    "    new_f = 'GCCRI_cna_' + new_f + '.tsv'\n",
    "    new_f = join(GCCRI_path, 'cna', new_f)\n",
    "    #temp['ensembl_gene_id'] = [convert_to_int_or_blank(p)  for p in temp['ensembl_gene_id']]\n",
    "    temp.replace(ps_mapper).to_csv(new_f, sep='\\t', index=False)\n",
    "    remove(join(GCCRI_path, 'cna', f))"
   ],
   "metadata": {
    "collapsed": false,
    "ExecuteTime": {
     "end_time": "2024-01-18T22:30:14.524470Z",
     "start_time": "2024-01-18T22:29:31.771814Z"
    }
   },
   "execution_count": 33
  },
  {
   "cell_type": "code",
   "outputs": [
    {
     "data": {
      "text/plain": "'GCCRI_cna_Rh-30R.tsv'"
     },
     "execution_count": 31,
     "metadata": {},
     "output_type": "execute_result"
    }
   ],
   "source": [
    "f"
   ],
   "metadata": {
    "collapsed": false,
    "ExecuteTime": {
     "end_time": "2024-01-18T22:28:44.081356Z",
     "start_time": "2024-01-18T22:28:43.998099Z"
    }
   },
   "execution_count": 31
  },
  {
   "cell_type": "code",
   "source": [
    "import pandas as pd\n",
    "df = pd.read_json('https://www.cancermodels.org/api/model_metadata?select=model_id,data_source,provider_name,contact_name_list,contact_email_list,contact_form_url').drop_duplicates(subset=['data_source', 'contact_name_list'])\n",
    "df"
   ],
   "metadata": {
    "collapsed": false,
    "ExecuteTime": {
     "end_time": "2025-01-21T10:16:44.165336Z",
     "start_time": "2025-01-21T10:16:43.519536Z"
    }
   },
   "outputs": [
    {
     "data": {
      "text/plain": [
       "<pandas.core.groupby.generic.DataFrameGroupBy object at 0x10e41da60>"
      ]
     },
     "execution_count": 3,
     "metadata": {},
     "output_type": "execute_result"
    }
   ],
   "execution_count": 3
  },
  {
   "metadata": {
    "ExecuteTime": {
     "end_time": "2025-01-21T10:27:50.252406Z",
     "start_time": "2025-01-21T10:27:47.748529Z"
    }
   },
   "cell_type": "code",
   "source": [
    "import pandas as pd\n",
    "\n",
    "# Load the data from the JSON API\n",
    "df = pd.read_json('https://www.cancermodels.org/api/model_metadata?select=model_id,data_source,provider_name,contact_name_list,contact_email_list,contact_form_url')\n",
    "\n",
    "# Group by 'data_source' and 'contact_name_list' and aggregate 'model_id' into a list\n",
    "result = df.groupby(['data_source', 'contact_name_list', 'contact_email_list'])['model_id'].apply(list).reset_index()\n",
    "\n",
    "# Rename the columns for clarity\n",
    "result.rename(columns={'model_id': 'model_ids'}, inplace=True)\n",
    "\n",
    "# Identify 'data_source' values that appear more than once\n",
    "duplicated_data_sources = result['data_source'].duplicated(keep=False)\n",
    "\n",
    "# Filter the DataFrame to include only rows with duplicated 'data_source'\n",
    "duplicates = result[duplicated_data_sources]\n",
    "duplicates"
   ],
   "outputs": [
    {
     "data": {
      "text/plain": [
       "     data_source                                  contact_name_list  \\\n",
       "5            CRL                                     Julia Schueler   \n",
       "6            CRL                        Julia Schueler, Hagen Klett   \n",
       "17     IRCCS-CRO                   Barbara Belletti, Ilenia Segatto   \n",
       "18     IRCCS-CRO                  Gustavo Baldassarre, Maura Sonego   \n",
       "19     IRCCS-CSS                                   Fabrizio Bianchi   \n",
       "20     IRCCS-CSS                                   Vincenzo Giambra   \n",
       "23  IRCCS-HSM-GE  Barbara Cardinali; Paolo Malatesta; Davide Ceresa   \n",
       "24  IRCCS-HSM-GE                   Giovanna Cutrona; Monica Colombo   \n",
       "25  IRCCS-HSM-GE                       Paola Ghiorzo; Michela Croce   \n",
       "26  IRCCS-HSM-GE                  Roberto Benelli, Alessandro Poggi   \n",
       "30     IRCCS-IRE                                     Gianluca Bossi   \n",
       "31     IRCCS-IRE                                  Giovanni Blandino   \n",
       "32   IRCCS-IRFMN                    Giovanna Damia, Francesca Ricci   \n",
       "33   IRCCS-IRFMN                                   Massimo Broggini   \n",
       "37     IRCCS-PAS                                   ALFREDO BUDILLON   \n",
       "38     IRCCS-PAS                            MARIA VINCENZA CARRIERO   \n",
       "45           NKI                                        Jos Jonkers   \n",
       "46           NKI                    Jos Jonkers; Marieke van de Ven   \n",
       "\n",
       "                                   contact_email_list  \\\n",
       "5                      tumor-model-compendium@crl.com   \n",
       "6                      tumor-model-compendium@crl.com   \n",
       "17                  bbelletti@cro.it, isegatto@cro.it   \n",
       "18                gbaldassarre@cro.it, msonego@cro.it   \n",
       "19                         f.bianchi@operapadrepio.it   \n",
       "20                         v.giambra@operapadrepio.it   \n",
       "23  barbara.cardinali@hsanmartino.it, paolo.malate...   \n",
       "24                    giovanna.cutrona@hsanmartino.it   \n",
       "25  paola.ghiorzo@hsanmartino.it, michela.croce@hs...   \n",
       "26                     roberto.benelli@hsanmartino.it   \n",
       "30                              gianluca.bossi@ifo.it   \n",
       "31                           giovanni.blandino@ifo.it   \n",
       "32  giovanna.damia@marionegri.it, francesca.ricci@...   \n",
       "33                     massimo.broggini@marionegri.it   \n",
       "37                    a.budillon@istitutotumori.na.it   \n",
       "38                    m.carriero@istitutotumori.na.it   \n",
       "45                                   j.jonkers@nki.nl   \n",
       "46                  j.jonkers@nki.nl, m.vd.ven@nki.nl   \n",
       "\n",
       "                                            model_ids  \n",
       "5   [CRL-2358, CRL-2390, CRL-4031, CRL-2579, CRL-2...  \n",
       "6   [CRL-2888, CRL-1649, CRL-1118, CRL-1965, CRL-1...  \n",
       "17  [BCRO_219_T-PDO, BCRO_292_T-PDO, B-CRO_202_R-P...  \n",
       "18  [PDX_OV225, PDX_OV218, PDX_OV213, PDX_OV215, P...  \n",
       "19  [CSS-FB-007, CSS-FB-002, CSS-FB-003, CSS-FB-00...  \n",
       "20  [CSS-VG-009, CSS-VG-026, CSS-VG-015, CSS-VG-00...  \n",
       "23  [Breast_HSM_BC004.1_C, Breast_HSM_BC022.1_PDX,...  \n",
       "24          [GC0015_NSG_2, PM129_NSG_6, CM18_NSG_345]  \n",
       "25  [Mel_HSM_ACC30-m1-PDX-CL, Mel_HSM_ACC00-m1-CL,...  \n",
       "26         [OMCR18-035TK, OMCR18-060TK, OMCR19-017TK]  \n",
       "30  [BBIRE-T743-PDX-BGL, BBIRE-T743-PDO-BGL, BBIRE...  \n",
       "31  [IRE-01K-ORG-D-GB-050923, IRE-25-PT-ORG-D-GB-0...  \n",
       "32  [MNHOC266-PDX-S, MNHOC218-PDX, MNHOC230-PDX, M...  \n",
       "33  [MNL92-PDX, MNL13-PDX, MNL11-PDX, MNL17-CL, MN...  \n",
       "37  [PAS-AB-PDX-006, PAS-AB-PDX-002, PAS-AB-PDX-00...  \n",
       "38                [PAS-MC-PDX-0014, PAS-MC-CELL-0013]  \n",
       "45  [DCIS088, DCIS141, DCIS063, DCIS122, DCIS188, ...  \n",
       "46         [T127, T241, T302, T250, T283, T162, T336]  "
      ],
      "text/html": [
       "<div>\n",
       "<style scoped>\n",
       "    .dataframe tbody tr th:only-of-type {\n",
       "        vertical-align: middle;\n",
       "    }\n",
       "\n",
       "    .dataframe tbody tr th {\n",
       "        vertical-align: top;\n",
       "    }\n",
       "\n",
       "    .dataframe thead th {\n",
       "        text-align: right;\n",
       "    }\n",
       "</style>\n",
       "<table border=\"1\" class=\"dataframe\">\n",
       "  <thead>\n",
       "    <tr style=\"text-align: right;\">\n",
       "      <th></th>\n",
       "      <th>data_source</th>\n",
       "      <th>contact_name_list</th>\n",
       "      <th>contact_email_list</th>\n",
       "      <th>model_ids</th>\n",
       "    </tr>\n",
       "  </thead>\n",
       "  <tbody>\n",
       "    <tr>\n",
       "      <th>5</th>\n",
       "      <td>CRL</td>\n",
       "      <td>Julia Schueler</td>\n",
       "      <td>tumor-model-compendium@crl.com</td>\n",
       "      <td>[CRL-2358, CRL-2390, CRL-4031, CRL-2579, CRL-2...</td>\n",
       "    </tr>\n",
       "    <tr>\n",
       "      <th>6</th>\n",
       "      <td>CRL</td>\n",
       "      <td>Julia Schueler, Hagen Klett</td>\n",
       "      <td>tumor-model-compendium@crl.com</td>\n",
       "      <td>[CRL-2888, CRL-1649, CRL-1118, CRL-1965, CRL-1...</td>\n",
       "    </tr>\n",
       "    <tr>\n",
       "      <th>17</th>\n",
       "      <td>IRCCS-CRO</td>\n",
       "      <td>Barbara Belletti, Ilenia Segatto</td>\n",
       "      <td>bbelletti@cro.it, isegatto@cro.it</td>\n",
       "      <td>[BCRO_219_T-PDO, BCRO_292_T-PDO, B-CRO_202_R-P...</td>\n",
       "    </tr>\n",
       "    <tr>\n",
       "      <th>18</th>\n",
       "      <td>IRCCS-CRO</td>\n",
       "      <td>Gustavo Baldassarre, Maura Sonego</td>\n",
       "      <td>gbaldassarre@cro.it, msonego@cro.it</td>\n",
       "      <td>[PDX_OV225, PDX_OV218, PDX_OV213, PDX_OV215, P...</td>\n",
       "    </tr>\n",
       "    <tr>\n",
       "      <th>19</th>\n",
       "      <td>IRCCS-CSS</td>\n",
       "      <td>Fabrizio Bianchi</td>\n",
       "      <td>f.bianchi@operapadrepio.it</td>\n",
       "      <td>[CSS-FB-007, CSS-FB-002, CSS-FB-003, CSS-FB-00...</td>\n",
       "    </tr>\n",
       "    <tr>\n",
       "      <th>20</th>\n",
       "      <td>IRCCS-CSS</td>\n",
       "      <td>Vincenzo Giambra</td>\n",
       "      <td>v.giambra@operapadrepio.it</td>\n",
       "      <td>[CSS-VG-009, CSS-VG-026, CSS-VG-015, CSS-VG-00...</td>\n",
       "    </tr>\n",
       "    <tr>\n",
       "      <th>23</th>\n",
       "      <td>IRCCS-HSM-GE</td>\n",
       "      <td>Barbara Cardinali; Paolo Malatesta; Davide Ceresa</td>\n",
       "      <td>barbara.cardinali@hsanmartino.it, paolo.malate...</td>\n",
       "      <td>[Breast_HSM_BC004.1_C, Breast_HSM_BC022.1_PDX,...</td>\n",
       "    </tr>\n",
       "    <tr>\n",
       "      <th>24</th>\n",
       "      <td>IRCCS-HSM-GE</td>\n",
       "      <td>Giovanna Cutrona; Monica Colombo</td>\n",
       "      <td>giovanna.cutrona@hsanmartino.it</td>\n",
       "      <td>[GC0015_NSG_2, PM129_NSG_6, CM18_NSG_345]</td>\n",
       "    </tr>\n",
       "    <tr>\n",
       "      <th>25</th>\n",
       "      <td>IRCCS-HSM-GE</td>\n",
       "      <td>Paola Ghiorzo; Michela Croce</td>\n",
       "      <td>paola.ghiorzo@hsanmartino.it, michela.croce@hs...</td>\n",
       "      <td>[Mel_HSM_ACC30-m1-PDX-CL, Mel_HSM_ACC00-m1-CL,...</td>\n",
       "    </tr>\n",
       "    <tr>\n",
       "      <th>26</th>\n",
       "      <td>IRCCS-HSM-GE</td>\n",
       "      <td>Roberto Benelli, Alessandro Poggi</td>\n",
       "      <td>roberto.benelli@hsanmartino.it</td>\n",
       "      <td>[OMCR18-035TK, OMCR18-060TK, OMCR19-017TK]</td>\n",
       "    </tr>\n",
       "    <tr>\n",
       "      <th>30</th>\n",
       "      <td>IRCCS-IRE</td>\n",
       "      <td>Gianluca Bossi</td>\n",
       "      <td>gianluca.bossi@ifo.it</td>\n",
       "      <td>[BBIRE-T743-PDX-BGL, BBIRE-T743-PDO-BGL, BBIRE...</td>\n",
       "    </tr>\n",
       "    <tr>\n",
       "      <th>31</th>\n",
       "      <td>IRCCS-IRE</td>\n",
       "      <td>Giovanni Blandino</td>\n",
       "      <td>giovanni.blandino@ifo.it</td>\n",
       "      <td>[IRE-01K-ORG-D-GB-050923, IRE-25-PT-ORG-D-GB-0...</td>\n",
       "    </tr>\n",
       "    <tr>\n",
       "      <th>32</th>\n",
       "      <td>IRCCS-IRFMN</td>\n",
       "      <td>Giovanna Damia, Francesca Ricci</td>\n",
       "      <td>giovanna.damia@marionegri.it, francesca.ricci@...</td>\n",
       "      <td>[MNHOC266-PDX-S, MNHOC218-PDX, MNHOC230-PDX, M...</td>\n",
       "    </tr>\n",
       "    <tr>\n",
       "      <th>33</th>\n",
       "      <td>IRCCS-IRFMN</td>\n",
       "      <td>Massimo Broggini</td>\n",
       "      <td>massimo.broggini@marionegri.it</td>\n",
       "      <td>[MNL92-PDX, MNL13-PDX, MNL11-PDX, MNL17-CL, MN...</td>\n",
       "    </tr>\n",
       "    <tr>\n",
       "      <th>37</th>\n",
       "      <td>IRCCS-PAS</td>\n",
       "      <td>ALFREDO BUDILLON</td>\n",
       "      <td>a.budillon@istitutotumori.na.it</td>\n",
       "      <td>[PAS-AB-PDX-006, PAS-AB-PDX-002, PAS-AB-PDX-00...</td>\n",
       "    </tr>\n",
       "    <tr>\n",
       "      <th>38</th>\n",
       "      <td>IRCCS-PAS</td>\n",
       "      <td>MARIA VINCENZA CARRIERO</td>\n",
       "      <td>m.carriero@istitutotumori.na.it</td>\n",
       "      <td>[PAS-MC-PDX-0014, PAS-MC-CELL-0013]</td>\n",
       "    </tr>\n",
       "    <tr>\n",
       "      <th>45</th>\n",
       "      <td>NKI</td>\n",
       "      <td>Jos Jonkers</td>\n",
       "      <td>j.jonkers@nki.nl</td>\n",
       "      <td>[DCIS088, DCIS141, DCIS063, DCIS122, DCIS188, ...</td>\n",
       "    </tr>\n",
       "    <tr>\n",
       "      <th>46</th>\n",
       "      <td>NKI</td>\n",
       "      <td>Jos Jonkers; Marieke van de Ven</td>\n",
       "      <td>j.jonkers@nki.nl, m.vd.ven@nki.nl</td>\n",
       "      <td>[T127, T241, T302, T250, T283, T162, T336]</td>\n",
       "    </tr>\n",
       "  </tbody>\n",
       "</table>\n",
       "</div>"
      ]
     },
     "execution_count": 18,
     "metadata": {},
     "output_type": "execute_result"
    }
   ],
   "execution_count": 18
  },
  {
   "metadata": {
    "ExecuteTime": {
     "end_time": "2025-01-21T10:32:53.732456Z",
     "start_time": "2025-01-21T10:32:53.726986Z"
    }
   },
   "cell_type": "code",
   "source": "duplicates['CM_link'] = ['https://www.cancermodels.org/search?filters=external_model_id%3A'+'%2C'.join(mid) for mid in duplicates['model_ids'] ]",
   "outputs": [
    {
     "name": "stderr",
     "output_type": "stream",
     "text": [
      "/var/folders/_2/g5d3zf4s41g0tvlqkc3_8wjr0000gp/T/ipykernel_22052/4175568485.py:1: SettingWithCopyWarning: \n",
      "A value is trying to be set on a copy of a slice from a DataFrame.\n",
      "Try using .loc[row_indexer,col_indexer] = value instead\n",
      "\n",
      "See the caveats in the documentation: https://pandas.pydata.org/pandas-docs/stable/user_guide/indexing.html#returning-a-view-versus-a-copy\n",
      "  duplicates['CM_link'] = ['https://www.cancermodels.org/search?filters=external_model_id%3A'+'%2C'.join(mid) for mid in duplicates['model_ids'] ]\n"
     ]
    }
   ],
   "execution_count": 28
  },
  {
   "metadata": {
    "ExecuteTime": {
     "end_time": "2025-01-21T10:32:59.186147Z",
     "start_time": "2025-01-21T10:32:59.162737Z"
    }
   },
   "cell_type": "code",
   "source": "duplicates",
   "outputs": [
    {
     "data": {
      "text/plain": [
       "     data_source                                  contact_name_list  \\\n",
       "5            CRL                                     Julia Schueler   \n",
       "6            CRL                        Julia Schueler, Hagen Klett   \n",
       "17     IRCCS-CRO                   Barbara Belletti, Ilenia Segatto   \n",
       "18     IRCCS-CRO                  Gustavo Baldassarre, Maura Sonego   \n",
       "19     IRCCS-CSS                                   Fabrizio Bianchi   \n",
       "20     IRCCS-CSS                                   Vincenzo Giambra   \n",
       "23  IRCCS-HSM-GE  Barbara Cardinali; Paolo Malatesta; Davide Ceresa   \n",
       "24  IRCCS-HSM-GE                   Giovanna Cutrona; Monica Colombo   \n",
       "25  IRCCS-HSM-GE                       Paola Ghiorzo; Michela Croce   \n",
       "26  IRCCS-HSM-GE                  Roberto Benelli, Alessandro Poggi   \n",
       "30     IRCCS-IRE                                     Gianluca Bossi   \n",
       "31     IRCCS-IRE                                  Giovanni Blandino   \n",
       "32   IRCCS-IRFMN                    Giovanna Damia, Francesca Ricci   \n",
       "33   IRCCS-IRFMN                                   Massimo Broggini   \n",
       "37     IRCCS-PAS                                   ALFREDO BUDILLON   \n",
       "38     IRCCS-PAS                            MARIA VINCENZA CARRIERO   \n",
       "45           NKI                                        Jos Jonkers   \n",
       "46           NKI                    Jos Jonkers; Marieke van de Ven   \n",
       "\n",
       "                                   contact_email_list  \\\n",
       "5                      tumor-model-compendium@crl.com   \n",
       "6                      tumor-model-compendium@crl.com   \n",
       "17                  bbelletti@cro.it, isegatto@cro.it   \n",
       "18                gbaldassarre@cro.it, msonego@cro.it   \n",
       "19                         f.bianchi@operapadrepio.it   \n",
       "20                         v.giambra@operapadrepio.it   \n",
       "23  barbara.cardinali@hsanmartino.it, paolo.malate...   \n",
       "24                    giovanna.cutrona@hsanmartino.it   \n",
       "25  paola.ghiorzo@hsanmartino.it, michela.croce@hs...   \n",
       "26                     roberto.benelli@hsanmartino.it   \n",
       "30                              gianluca.bossi@ifo.it   \n",
       "31                           giovanni.blandino@ifo.it   \n",
       "32  giovanna.damia@marionegri.it, francesca.ricci@...   \n",
       "33                     massimo.broggini@marionegri.it   \n",
       "37                    a.budillon@istitutotumori.na.it   \n",
       "38                    m.carriero@istitutotumori.na.it   \n",
       "45                                   j.jonkers@nki.nl   \n",
       "46                  j.jonkers@nki.nl, m.vd.ven@nki.nl   \n",
       "\n",
       "                                            model_ids  \\\n",
       "5   [CRL-2358, CRL-2390, CRL-4031, CRL-2579, CRL-2...   \n",
       "6   [CRL-2888, CRL-1649, CRL-1118, CRL-1965, CRL-1...   \n",
       "17  [BCRO_219_T-PDO, BCRO_292_T-PDO, B-CRO_202_R-P...   \n",
       "18  [PDX_OV225, PDX_OV218, PDX_OV213, PDX_OV215, P...   \n",
       "19  [CSS-FB-007, CSS-FB-002, CSS-FB-003, CSS-FB-00...   \n",
       "20  [CSS-VG-009, CSS-VG-026, CSS-VG-015, CSS-VG-00...   \n",
       "23  [Breast_HSM_BC004.1_C, Breast_HSM_BC022.1_PDX,...   \n",
       "24          [GC0015_NSG_2, PM129_NSG_6, CM18_NSG_345]   \n",
       "25  [Mel_HSM_ACC30-m1-PDX-CL, Mel_HSM_ACC00-m1-CL,...   \n",
       "26         [OMCR18-035TK, OMCR18-060TK, OMCR19-017TK]   \n",
       "30  [BBIRE-T743-PDX-BGL, BBIRE-T743-PDO-BGL, BBIRE...   \n",
       "31  [IRE-01K-ORG-D-GB-050923, IRE-25-PT-ORG-D-GB-0...   \n",
       "32  [MNHOC266-PDX-S, MNHOC218-PDX, MNHOC230-PDX, M...   \n",
       "33  [MNL92-PDX, MNL13-PDX, MNL11-PDX, MNL17-CL, MN...   \n",
       "37  [PAS-AB-PDX-006, PAS-AB-PDX-002, PAS-AB-PDX-00...   \n",
       "38                [PAS-MC-PDX-0014, PAS-MC-CELL-0013]   \n",
       "45  [DCIS088, DCIS141, DCIS063, DCIS122, DCIS188, ...   \n",
       "46         [T127, T241, T302, T250, T283, T162, T336]   \n",
       "\n",
       "                                              CM_link  \n",
       "5   https://www.cancermodels.org/search?filters=ex...  \n",
       "6   https://www.cancermodels.org/search?filters=ex...  \n",
       "17  https://www.cancermodels.org/search?filters=ex...  \n",
       "18  https://www.cancermodels.org/search?filters=ex...  \n",
       "19  https://www.cancermodels.org/search?filters=ex...  \n",
       "20  https://www.cancermodels.org/search?filters=ex...  \n",
       "23  https://www.cancermodels.org/search?filters=ex...  \n",
       "24  https://www.cancermodels.org/search?filters=ex...  \n",
       "25  https://www.cancermodels.org/search?filters=ex...  \n",
       "26  https://www.cancermodels.org/search?filters=ex...  \n",
       "30  https://www.cancermodels.org/search?filters=ex...  \n",
       "31  https://www.cancermodels.org/search?filters=ex...  \n",
       "32  https://www.cancermodels.org/search?filters=ex...  \n",
       "33  https://www.cancermodels.org/search?filters=ex...  \n",
       "37  https://www.cancermodels.org/search?filters=ex...  \n",
       "38  https://www.cancermodels.org/search?filters=ex...  \n",
       "45  https://www.cancermodels.org/search?filters=ex...  \n",
       "46  https://www.cancermodels.org/search?filters=ex...  "
      ],
      "text/html": [
       "<div>\n",
       "<style scoped>\n",
       "    .dataframe tbody tr th:only-of-type {\n",
       "        vertical-align: middle;\n",
       "    }\n",
       "\n",
       "    .dataframe tbody tr th {\n",
       "        vertical-align: top;\n",
       "    }\n",
       "\n",
       "    .dataframe thead th {\n",
       "        text-align: right;\n",
       "    }\n",
       "</style>\n",
       "<table border=\"1\" class=\"dataframe\">\n",
       "  <thead>\n",
       "    <tr style=\"text-align: right;\">\n",
       "      <th></th>\n",
       "      <th>data_source</th>\n",
       "      <th>contact_name_list</th>\n",
       "      <th>contact_email_list</th>\n",
       "      <th>model_ids</th>\n",
       "      <th>CM_link</th>\n",
       "    </tr>\n",
       "  </thead>\n",
       "  <tbody>\n",
       "    <tr>\n",
       "      <th>5</th>\n",
       "      <td>CRL</td>\n",
       "      <td>Julia Schueler</td>\n",
       "      <td>tumor-model-compendium@crl.com</td>\n",
       "      <td>[CRL-2358, CRL-2390, CRL-4031, CRL-2579, CRL-2...</td>\n",
       "      <td>https://www.cancermodels.org/search?filters=ex...</td>\n",
       "    </tr>\n",
       "    <tr>\n",
       "      <th>6</th>\n",
       "      <td>CRL</td>\n",
       "      <td>Julia Schueler, Hagen Klett</td>\n",
       "      <td>tumor-model-compendium@crl.com</td>\n",
       "      <td>[CRL-2888, CRL-1649, CRL-1118, CRL-1965, CRL-1...</td>\n",
       "      <td>https://www.cancermodels.org/search?filters=ex...</td>\n",
       "    </tr>\n",
       "    <tr>\n",
       "      <th>17</th>\n",
       "      <td>IRCCS-CRO</td>\n",
       "      <td>Barbara Belletti, Ilenia Segatto</td>\n",
       "      <td>bbelletti@cro.it, isegatto@cro.it</td>\n",
       "      <td>[BCRO_219_T-PDO, BCRO_292_T-PDO, B-CRO_202_R-P...</td>\n",
       "      <td>https://www.cancermodels.org/search?filters=ex...</td>\n",
       "    </tr>\n",
       "    <tr>\n",
       "      <th>18</th>\n",
       "      <td>IRCCS-CRO</td>\n",
       "      <td>Gustavo Baldassarre, Maura Sonego</td>\n",
       "      <td>gbaldassarre@cro.it, msonego@cro.it</td>\n",
       "      <td>[PDX_OV225, PDX_OV218, PDX_OV213, PDX_OV215, P...</td>\n",
       "      <td>https://www.cancermodels.org/search?filters=ex...</td>\n",
       "    </tr>\n",
       "    <tr>\n",
       "      <th>19</th>\n",
       "      <td>IRCCS-CSS</td>\n",
       "      <td>Fabrizio Bianchi</td>\n",
       "      <td>f.bianchi@operapadrepio.it</td>\n",
       "      <td>[CSS-FB-007, CSS-FB-002, CSS-FB-003, CSS-FB-00...</td>\n",
       "      <td>https://www.cancermodels.org/search?filters=ex...</td>\n",
       "    </tr>\n",
       "    <tr>\n",
       "      <th>20</th>\n",
       "      <td>IRCCS-CSS</td>\n",
       "      <td>Vincenzo Giambra</td>\n",
       "      <td>v.giambra@operapadrepio.it</td>\n",
       "      <td>[CSS-VG-009, CSS-VG-026, CSS-VG-015, CSS-VG-00...</td>\n",
       "      <td>https://www.cancermodels.org/search?filters=ex...</td>\n",
       "    </tr>\n",
       "    <tr>\n",
       "      <th>23</th>\n",
       "      <td>IRCCS-HSM-GE</td>\n",
       "      <td>Barbara Cardinali; Paolo Malatesta; Davide Ceresa</td>\n",
       "      <td>barbara.cardinali@hsanmartino.it, paolo.malate...</td>\n",
       "      <td>[Breast_HSM_BC004.1_C, Breast_HSM_BC022.1_PDX,...</td>\n",
       "      <td>https://www.cancermodels.org/search?filters=ex...</td>\n",
       "    </tr>\n",
       "    <tr>\n",
       "      <th>24</th>\n",
       "      <td>IRCCS-HSM-GE</td>\n",
       "      <td>Giovanna Cutrona; Monica Colombo</td>\n",
       "      <td>giovanna.cutrona@hsanmartino.it</td>\n",
       "      <td>[GC0015_NSG_2, PM129_NSG_6, CM18_NSG_345]</td>\n",
       "      <td>https://www.cancermodels.org/search?filters=ex...</td>\n",
       "    </tr>\n",
       "    <tr>\n",
       "      <th>25</th>\n",
       "      <td>IRCCS-HSM-GE</td>\n",
       "      <td>Paola Ghiorzo; Michela Croce</td>\n",
       "      <td>paola.ghiorzo@hsanmartino.it, michela.croce@hs...</td>\n",
       "      <td>[Mel_HSM_ACC30-m1-PDX-CL, Mel_HSM_ACC00-m1-CL,...</td>\n",
       "      <td>https://www.cancermodels.org/search?filters=ex...</td>\n",
       "    </tr>\n",
       "    <tr>\n",
       "      <th>26</th>\n",
       "      <td>IRCCS-HSM-GE</td>\n",
       "      <td>Roberto Benelli, Alessandro Poggi</td>\n",
       "      <td>roberto.benelli@hsanmartino.it</td>\n",
       "      <td>[OMCR18-035TK, OMCR18-060TK, OMCR19-017TK]</td>\n",
       "      <td>https://www.cancermodels.org/search?filters=ex...</td>\n",
       "    </tr>\n",
       "    <tr>\n",
       "      <th>30</th>\n",
       "      <td>IRCCS-IRE</td>\n",
       "      <td>Gianluca Bossi</td>\n",
       "      <td>gianluca.bossi@ifo.it</td>\n",
       "      <td>[BBIRE-T743-PDX-BGL, BBIRE-T743-PDO-BGL, BBIRE...</td>\n",
       "      <td>https://www.cancermodels.org/search?filters=ex...</td>\n",
       "    </tr>\n",
       "    <tr>\n",
       "      <th>31</th>\n",
       "      <td>IRCCS-IRE</td>\n",
       "      <td>Giovanni Blandino</td>\n",
       "      <td>giovanni.blandino@ifo.it</td>\n",
       "      <td>[IRE-01K-ORG-D-GB-050923, IRE-25-PT-ORG-D-GB-0...</td>\n",
       "      <td>https://www.cancermodels.org/search?filters=ex...</td>\n",
       "    </tr>\n",
       "    <tr>\n",
       "      <th>32</th>\n",
       "      <td>IRCCS-IRFMN</td>\n",
       "      <td>Giovanna Damia, Francesca Ricci</td>\n",
       "      <td>giovanna.damia@marionegri.it, francesca.ricci@...</td>\n",
       "      <td>[MNHOC266-PDX-S, MNHOC218-PDX, MNHOC230-PDX, M...</td>\n",
       "      <td>https://www.cancermodels.org/search?filters=ex...</td>\n",
       "    </tr>\n",
       "    <tr>\n",
       "      <th>33</th>\n",
       "      <td>IRCCS-IRFMN</td>\n",
       "      <td>Massimo Broggini</td>\n",
       "      <td>massimo.broggini@marionegri.it</td>\n",
       "      <td>[MNL92-PDX, MNL13-PDX, MNL11-PDX, MNL17-CL, MN...</td>\n",
       "      <td>https://www.cancermodels.org/search?filters=ex...</td>\n",
       "    </tr>\n",
       "    <tr>\n",
       "      <th>37</th>\n",
       "      <td>IRCCS-PAS</td>\n",
       "      <td>ALFREDO BUDILLON</td>\n",
       "      <td>a.budillon@istitutotumori.na.it</td>\n",
       "      <td>[PAS-AB-PDX-006, PAS-AB-PDX-002, PAS-AB-PDX-00...</td>\n",
       "      <td>https://www.cancermodels.org/search?filters=ex...</td>\n",
       "    </tr>\n",
       "    <tr>\n",
       "      <th>38</th>\n",
       "      <td>IRCCS-PAS</td>\n",
       "      <td>MARIA VINCENZA CARRIERO</td>\n",
       "      <td>m.carriero@istitutotumori.na.it</td>\n",
       "      <td>[PAS-MC-PDX-0014, PAS-MC-CELL-0013]</td>\n",
       "      <td>https://www.cancermodels.org/search?filters=ex...</td>\n",
       "    </tr>\n",
       "    <tr>\n",
       "      <th>45</th>\n",
       "      <td>NKI</td>\n",
       "      <td>Jos Jonkers</td>\n",
       "      <td>j.jonkers@nki.nl</td>\n",
       "      <td>[DCIS088, DCIS141, DCIS063, DCIS122, DCIS188, ...</td>\n",
       "      <td>https://www.cancermodels.org/search?filters=ex...</td>\n",
       "    </tr>\n",
       "    <tr>\n",
       "      <th>46</th>\n",
       "      <td>NKI</td>\n",
       "      <td>Jos Jonkers; Marieke van de Ven</td>\n",
       "      <td>j.jonkers@nki.nl, m.vd.ven@nki.nl</td>\n",
       "      <td>[T127, T241, T302, T250, T283, T162, T336]</td>\n",
       "      <td>https://www.cancermodels.org/search?filters=ex...</td>\n",
       "    </tr>\n",
       "  </tbody>\n",
       "</table>\n",
       "</div>"
      ]
     },
     "execution_count": 29,
     "metadata": {},
     "output_type": "execute_result"
    }
   ],
   "execution_count": 29
  },
  {
   "metadata": {},
   "cell_type": "code",
   "outputs": [],
   "execution_count": null,
   "source": ""
  },
  {
   "metadata": {},
   "cell_type": "code",
   "outputs": [],
   "execution_count": null,
   "source": ""
  },
  {
   "cell_type": "code",
   "source": [
    "df.sort_values(by='data_source').reset_index(drop=True)"
   ],
   "metadata": {
    "collapsed": false,
    "ExecuteTime": {
     "end_time": "2025-01-21T10:04:25.463360Z",
     "start_time": "2025-01-21T10:04:25.443107Z"
    }
   },
   "outputs": [
    {
     "data": {
      "text/plain": [
       "               data_source                        provider_name  \\\n",
       "0                     BROD                      Broad Institute   \n",
       "1                     CCIA          Children's Cancer Institute   \n",
       "2                      CDH             The Cancer Discovery Hub   \n",
       "3                     CHOP  Children's Hospital of Philadelphia   \n",
       "4                      CMP                 Cell Model Passports   \n",
       "..                     ...                                  ...   \n",
       "62                 VHIO-PC  Vall d'Hebron Institute of Oncology   \n",
       "63                VHIO-PMP  Vall d'Hebron Institute of Oncology   \n",
       "64                    WCMC        Weill Cornell Medical College   \n",
       "65                   WUSTL   Washington University in St. Louis   \n",
       "66  Wistar-MDAnderson-Penn               Wistar-MDAnderson-Penn   \n",
       "\n",
       "                                    contact_name_list  \\\n",
       "0                                     NCI CC Genomics   \n",
       "1                                        Richard Lock   \n",
       "2                                          Jason Chan   \n",
       "3                                     Reynolds, Maris   \n",
       "4                                       Sanger DepMap   \n",
       "..                                                ...   \n",
       "62                    Joaquin Arribas; Enrique Arenas   \n",
       "63       Jordi Mart�nez-Quintanilla, H�ctor G. Palmer   \n",
       "64                                    NCI CC Genomics   \n",
       "65  Brian A. Van Tine, Ryan Fields, Jacque Mudd, S...   \n",
       "66                 Meenhard Herlyn, Michael A. Davies   \n",
       "\n",
       "                                   contact_email_list contact_form_url  \n",
       "0                          NCICCGenomics@mail.nih.gov             None  \n",
       "1                                   RLock@ccia.org.au             None  \n",
       "2                    jason.chan.y.s@singhealth.com.sg             None  \n",
       "3    patrick.reynolds@ttuhsc.edu,maris@email.chop.edu             None  \n",
       "4                                 depmap@sanger.ac.uk             None  \n",
       "..                                                ...              ...  \n",
       "62                jarribas@vhio.net, earenas@vhio.net             None  \n",
       "63              jmartinez@vhio.net, hgpalmer@vhio.net             None  \n",
       "64                         NCICCGenomics@mail.nih.gov             None  \n",
       "65  bvantine@wustl.edu,rcfields@wustl.edu,jmudd@wu...             None  \n",
       "66          herlynm@Wistar.org,MDavies@mdanderson.org             None  \n",
       "\n",
       "[67 rows x 5 columns]"
      ],
      "text/html": [
       "<div>\n",
       "<style scoped>\n",
       "    .dataframe tbody tr th:only-of-type {\n",
       "        vertical-align: middle;\n",
       "    }\n",
       "\n",
       "    .dataframe tbody tr th {\n",
       "        vertical-align: top;\n",
       "    }\n",
       "\n",
       "    .dataframe thead th {\n",
       "        text-align: right;\n",
       "    }\n",
       "</style>\n",
       "<table border=\"1\" class=\"dataframe\">\n",
       "  <thead>\n",
       "    <tr style=\"text-align: right;\">\n",
       "      <th></th>\n",
       "      <th>data_source</th>\n",
       "      <th>provider_name</th>\n",
       "      <th>contact_name_list</th>\n",
       "      <th>contact_email_list</th>\n",
       "      <th>contact_form_url</th>\n",
       "    </tr>\n",
       "  </thead>\n",
       "  <tbody>\n",
       "    <tr>\n",
       "      <th>0</th>\n",
       "      <td>BROD</td>\n",
       "      <td>Broad Institute</td>\n",
       "      <td>NCI CC Genomics</td>\n",
       "      <td>NCICCGenomics@mail.nih.gov</td>\n",
       "      <td>None</td>\n",
       "    </tr>\n",
       "    <tr>\n",
       "      <th>1</th>\n",
       "      <td>CCIA</td>\n",
       "      <td>Children's Cancer Institute</td>\n",
       "      <td>Richard Lock</td>\n",
       "      <td>RLock@ccia.org.au</td>\n",
       "      <td>None</td>\n",
       "    </tr>\n",
       "    <tr>\n",
       "      <th>2</th>\n",
       "      <td>CDH</td>\n",
       "      <td>The Cancer Discovery Hub</td>\n",
       "      <td>Jason Chan</td>\n",
       "      <td>jason.chan.y.s@singhealth.com.sg</td>\n",
       "      <td>None</td>\n",
       "    </tr>\n",
       "    <tr>\n",
       "      <th>3</th>\n",
       "      <td>CHOP</td>\n",
       "      <td>Children's Hospital of Philadelphia</td>\n",
       "      <td>Reynolds, Maris</td>\n",
       "      <td>patrick.reynolds@ttuhsc.edu,maris@email.chop.edu</td>\n",
       "      <td>None</td>\n",
       "    </tr>\n",
       "    <tr>\n",
       "      <th>4</th>\n",
       "      <td>CMP</td>\n",
       "      <td>Cell Model Passports</td>\n",
       "      <td>Sanger DepMap</td>\n",
       "      <td>depmap@sanger.ac.uk</td>\n",
       "      <td>None</td>\n",
       "    </tr>\n",
       "    <tr>\n",
       "      <th>...</th>\n",
       "      <td>...</td>\n",
       "      <td>...</td>\n",
       "      <td>...</td>\n",
       "      <td>...</td>\n",
       "      <td>...</td>\n",
       "    </tr>\n",
       "    <tr>\n",
       "      <th>62</th>\n",
       "      <td>VHIO-PC</td>\n",
       "      <td>Vall d'Hebron Institute of Oncology</td>\n",
       "      <td>Joaquin Arribas; Enrique Arenas</td>\n",
       "      <td>jarribas@vhio.net, earenas@vhio.net</td>\n",
       "      <td>None</td>\n",
       "    </tr>\n",
       "    <tr>\n",
       "      <th>63</th>\n",
       "      <td>VHIO-PMP</td>\n",
       "      <td>Vall d'Hebron Institute of Oncology</td>\n",
       "      <td>Jordi Mart�nez-Quintanilla, H�ctor G. Palmer</td>\n",
       "      <td>jmartinez@vhio.net, hgpalmer@vhio.net</td>\n",
       "      <td>None</td>\n",
       "    </tr>\n",
       "    <tr>\n",
       "      <th>64</th>\n",
       "      <td>WCMC</td>\n",
       "      <td>Weill Cornell Medical College</td>\n",
       "      <td>NCI CC Genomics</td>\n",
       "      <td>NCICCGenomics@mail.nih.gov</td>\n",
       "      <td>None</td>\n",
       "    </tr>\n",
       "    <tr>\n",
       "      <th>65</th>\n",
       "      <td>WUSTL</td>\n",
       "      <td>Washington University in St. Louis</td>\n",
       "      <td>Brian A. Van Tine, Ryan Fields, Jacque Mudd, S...</td>\n",
       "      <td>bvantine@wustl.edu,rcfields@wustl.edu,jmudd@wu...</td>\n",
       "      <td>None</td>\n",
       "    </tr>\n",
       "    <tr>\n",
       "      <th>66</th>\n",
       "      <td>Wistar-MDAnderson-Penn</td>\n",
       "      <td>Wistar-MDAnderson-Penn</td>\n",
       "      <td>Meenhard Herlyn, Michael A. Davies</td>\n",
       "      <td>herlynm@Wistar.org,MDavies@mdanderson.org</td>\n",
       "      <td>None</td>\n",
       "    </tr>\n",
       "  </tbody>\n",
       "</table>\n",
       "<p>67 rows × 5 columns</p>\n",
       "</div>"
      ]
     },
     "execution_count": 2,
     "metadata": {},
     "output_type": "execute_result"
    }
   ],
   "execution_count": 2
  },
  {
   "metadata": {
    "ExecuteTime": {
     "end_time": "2025-01-23T15:36:45.413603Z",
     "start_time": "2025-01-23T15:36:38.490832Z"
    }
   },
   "cell_type": "code",
   "source": [
    "import pandas as pd\n",
    "import requests\n",
    "\n",
    "# Fetch data from the API\n",
    "url = \"https://www.cancermodels.org/api/model_information\"\n",
    "response = requests.get(url)\n",
    "data = response.json()\n"
   ],
   "outputs": [
    {
     "ename": "TypeError",
     "evalue": "list indices must be integers or slices, not str",
     "output_type": "error",
     "traceback": [
      "\u001B[0;31m---------------------------------------------------------------------------\u001B[0m",
      "\u001B[0;31mTypeError\u001B[0m                                 Traceback (most recent call last)",
      "Cell \u001B[0;32mIn[1], line 10\u001B[0m\n\u001B[1;32m      7\u001B[0m data \u001B[38;5;241m=\u001B[39m response\u001B[38;5;241m.\u001B[39mjson()\n\u001B[1;32m      9\u001B[0m \u001B[38;5;66;03m# Prepare the data for the table\u001B[39;00m\n\u001B[0;32m---> 10\u001B[0m model_type_organoid \u001B[38;5;241m=\u001B[39m \u001B[38;5;124m\"\u001B[39m\u001B[38;5;124mYes\u001B[39m\u001B[38;5;124m\"\u001B[39m \u001B[38;5;28;01mif\u001B[39;00m \u001B[43mdata\u001B[49m\u001B[43m[\u001B[49m\u001B[38;5;124;43m'\u001B[39;49m\u001B[38;5;124;43mtype\u001B[39;49m\u001B[38;5;124;43m'\u001B[39;49m\u001B[43m]\u001B[49m\u001B[38;5;241m.\u001B[39mlower() \u001B[38;5;241m==\u001B[39m \u001B[38;5;124m\"\u001B[39m\u001B[38;5;124morganoid\u001B[39m\u001B[38;5;124m\"\u001B[39m \u001B[38;5;28;01melse\u001B[39;00m \u001B[38;5;124m\"\u001B[39m\u001B[38;5;124mNo\u001B[39m\u001B[38;5;124m\"\u001B[39m\n\u001B[1;32m     11\u001B[0m model_type_cell_line \u001B[38;5;241m=\u001B[39m \u001B[38;5;124m\"\u001B[39m\u001B[38;5;124mYes\u001B[39m\u001B[38;5;124m\"\u001B[39m \u001B[38;5;28;01mif\u001B[39;00m data[\u001B[38;5;124m'\u001B[39m\u001B[38;5;124mtype\u001B[39m\u001B[38;5;124m'\u001B[39m]\u001B[38;5;241m.\u001B[39mlower() \u001B[38;5;241m==\u001B[39m \u001B[38;5;124m\"\u001B[39m\u001B[38;5;124mcell line\u001B[39m\u001B[38;5;124m\"\u001B[39m \u001B[38;5;28;01melse\u001B[39;00m \u001B[38;5;124m\"\u001B[39m\u001B[38;5;124mNo\u001B[39m\u001B[38;5;124m\"\u001B[39m\n\u001B[1;32m     12\u001B[0m provider \u001B[38;5;241m=\u001B[39m data[\u001B[38;5;124m'\u001B[39m\u001B[38;5;124mdata_source\u001B[39m\u001B[38;5;124m'\u001B[39m]\n",
      "\u001B[0;31mTypeError\u001B[0m: list indices must be integers or slices, not str"
     ]
    }
   ],
   "execution_count": 1
  },
  {
   "metadata": {
    "ExecuteTime": {
     "end_time": "2025-01-23T15:38:37.956557Z",
     "start_time": "2025-01-23T15:38:37.870580Z"
    }
   },
   "cell_type": "code",
   "source": "data = pd.DataFrame(data)",
   "outputs": [],
   "execution_count": 3
  },
  {
   "metadata": {
    "ExecuteTime": {
     "end_time": "2025-01-23T15:39:46.904207Z",
     "start_time": "2025-01-23T15:39:46.801250Z"
    }
   },
   "cell_type": "code",
   "source": "data",
   "outputs": [
    {
     "data": {
      "text/plain": [
       "               id         external_model_id       type    data_source  \\\n",
       "0      8589937836                 SIDM00787  cell line            CMP   \n",
       "1      8589938073       157184-299-T-J1-PDC  cell line           PDMR   \n",
       "2      8589938693         HCM-CSHL-0246-C19   organoid           CSHL   \n",
       "3      8589938717               XDO.PHLC134   organoid  PMLB-Organoid   \n",
       "4      8589937303                 SIDM01316  cell line            CMP   \n",
       "...           ...                       ...        ...            ...   \n",
       "10194  8589937010  322927-281-R-V1-organoid   organoid           PDMR   \n",
       "10195  8589937060  354836-022-R-V3-organoid   organoid           PDMR   \n",
       "10196  8589937338                 SIDM01905  cell line            CMP   \n",
       "10197  8589937358                 SIDM00973  cell line            CMP   \n",
       "10198  8589937571                 SIDM01768  cell line            CMP   \n",
       "\n",
       "       publication_group_id  accessibility_group_id  contact_people_id  \\\n",
       "0                     964.0                     NaN               55.0   \n",
       "1                       NaN                     NaN               58.0   \n",
       "2                       NaN                     NaN               30.0   \n",
       "3                       NaN                     NaN               32.0   \n",
       "4                    1288.0                     NaN               55.0   \n",
       "...                     ...                     ...                ...   \n",
       "10194                   NaN                     NaN               58.0   \n",
       "10195                   NaN                     NaN               58.0   \n",
       "10196                1560.0                     NaN               55.0   \n",
       "10197                1379.0                     NaN               55.0   \n",
       "10198                 607.0                     NaN               55.0   \n",
       "\n",
       "       contact_form_id  source_database_id  license_id  ...  \\\n",
       "0                  NaN              1815.0         1.0  ...   \n",
       "1                 25.0              5039.0         2.0  ...   \n",
       "2                  NaN               182.0         1.0  ...   \n",
       "3                  NaN               259.0         2.0  ...   \n",
       "4                  NaN              1914.0         1.0  ...   \n",
       "...                ...                 ...         ...  ...   \n",
       "10194             25.0              4640.0         2.0  ...   \n",
       "10195             25.0              2643.0         2.0  ...   \n",
       "10196              NaN              1708.0         1.0  ...   \n",
       "10197              NaN              3841.0         1.0  ...   \n",
       "10198              NaN              1876.0         1.0  ...   \n",
       "\n",
       "                                             vendor_link          rrid  \\\n",
       "0          https://www.addexbio.com/productdetail?pid=36     CVCL_0248   \n",
       "1                                           Not provided  Not provided   \n",
       "2                  https://www.atcc.org/products/PDM-191  Not provided   \n",
       "3                                           Not provided  Not provided   \n",
       "4                  https://www.atcc.org/Products/HTB-166     CVCL_2169   \n",
       "...                                                  ...           ...   \n",
       "10194                                       Not Provided  Not Provided   \n",
       "10195                                       Not provided  Not provided   \n",
       "10196  https://www.phe-culturecollections.org.uk/prod...     CVCL_2596   \n",
       "10197                                       Not provided     CVCL_8787   \n",
       "10198  https://www.rockland.com/search/?searchString=...     CVCL_6805   \n",
       "\n",
       "          parent_id origin_patient_sample_id model_availability  \\\n",
       "0              None                     None          available   \n",
       "1              None                     None          available   \n",
       "2              None                     None          available   \n",
       "3              None                     None          available   \n",
       "4              None                     None          available   \n",
       "...             ...                      ...                ...   \n",
       "10194  322927-281-R             322927-281-R          available   \n",
       "10195          None                     None          available   \n",
       "10196          None                     None          available   \n",
       "10197          None                     None          available   \n",
       "10198          None                     None          available   \n",
       "\n",
       "      date_submitted                                  other_model_links  \\\n",
       "0         27/05/2022  [{'type': 'external_id', 'resource_label': 'De...   \n",
       "1         15/11/2024                                               None   \n",
       "2         17/02/2023  [{'type': 'supplier', 'resource_label': 'Copyr...   \n",
       "3         23/10/2023                                               None   \n",
       "4         27/05/2022  [{'type': 'external_id', 'resource_label': 'De...   \n",
       "...              ...                                                ...   \n",
       "10194     14/11/2024                                               None   \n",
       "10195     15/11/2024                                               None   \n",
       "10196     27/05/2022  [{'type': 'external_id', 'resource_label': 'De...   \n",
       "10197     27/05/2022  [{'type': 'external_id', 'resource_label': 'De...   \n",
       "10198     27/05/2022  [{'type': 'external_id', 'resource_label': 'De...   \n",
       "\n",
       "                                     model_relationships has_relations  \\\n",
       "0                    {'parents': None, 'children': None}         False   \n",
       "1                    {'parents': None, 'children': None}         False   \n",
       "2                    {'parents': None, 'children': None}         False   \n",
       "3                    {'parents': None, 'children': None}         False   \n",
       "4                    {'parents': None, 'children': None}         False   \n",
       "...                                                  ...           ...   \n",
       "10194  {'parents': [{'type': 'PDX', 'parents': None, ...          True   \n",
       "10195                {'parents': None, 'children': None}         False   \n",
       "10196                {'parents': None, 'children': None}         False   \n",
       "10197                {'parents': None, 'children': None}         False   \n",
       "10198                {'parents': None, 'children': None}         False   \n",
       "\n",
       "                                         knowledge_graph  \n",
       "0      {'edges': [{'label': 'has_sample', 'source': 3...  \n",
       "1      {'edges': [{'label': 'has_sample', 'source': 4...  \n",
       "2      {'edges': [{'label': 'has_sample', 'source': 4...  \n",
       "3      {'edges': [{'label': 'has_sample', 'source': 2...  \n",
       "4      {'edges': [{'label': 'has_sample', 'source': 6...  \n",
       "...                                                  ...  \n",
       "10194                     {'edges': None, 'nodes': None}  \n",
       "10195  {'edges': [{'label': 'has_sample', 'source': 6...  \n",
       "10196  {'edges': [{'label': 'has_sample', 'source': 1...  \n",
       "10197  {'edges': [{'label': 'has_sample', 'source': 8...  \n",
       "10198  {'edges': [{'label': 'has_sample', 'source': 2...  \n",
       "\n",
       "[10199 rows x 24 columns]"
      ],
      "text/html": [
       "<div>\n",
       "<style scoped>\n",
       "    .dataframe tbody tr th:only-of-type {\n",
       "        vertical-align: middle;\n",
       "    }\n",
       "\n",
       "    .dataframe tbody tr th {\n",
       "        vertical-align: top;\n",
       "    }\n",
       "\n",
       "    .dataframe thead th {\n",
       "        text-align: right;\n",
       "    }\n",
       "</style>\n",
       "<table border=\"1\" class=\"dataframe\">\n",
       "  <thead>\n",
       "    <tr style=\"text-align: right;\">\n",
       "      <th></th>\n",
       "      <th>id</th>\n",
       "      <th>external_model_id</th>\n",
       "      <th>type</th>\n",
       "      <th>data_source</th>\n",
       "      <th>publication_group_id</th>\n",
       "      <th>accessibility_group_id</th>\n",
       "      <th>contact_people_id</th>\n",
       "      <th>contact_form_id</th>\n",
       "      <th>source_database_id</th>\n",
       "      <th>license_id</th>\n",
       "      <th>...</th>\n",
       "      <th>vendor_link</th>\n",
       "      <th>rrid</th>\n",
       "      <th>parent_id</th>\n",
       "      <th>origin_patient_sample_id</th>\n",
       "      <th>model_availability</th>\n",
       "      <th>date_submitted</th>\n",
       "      <th>other_model_links</th>\n",
       "      <th>model_relationships</th>\n",
       "      <th>has_relations</th>\n",
       "      <th>knowledge_graph</th>\n",
       "    </tr>\n",
       "  </thead>\n",
       "  <tbody>\n",
       "    <tr>\n",
       "      <th>0</th>\n",
       "      <td>8589937836</td>\n",
       "      <td>SIDM00787</td>\n",
       "      <td>cell line</td>\n",
       "      <td>CMP</td>\n",
       "      <td>964.0</td>\n",
       "      <td>NaN</td>\n",
       "      <td>55.0</td>\n",
       "      <td>NaN</td>\n",
       "      <td>1815.0</td>\n",
       "      <td>1.0</td>\n",
       "      <td>...</td>\n",
       "      <td>https://www.addexbio.com/productdetail?pid=36</td>\n",
       "      <td>CVCL_0248</td>\n",
       "      <td>None</td>\n",
       "      <td>None</td>\n",
       "      <td>available</td>\n",
       "      <td>27/05/2022</td>\n",
       "      <td>[{'type': 'external_id', 'resource_label': 'De...</td>\n",
       "      <td>{'parents': None, 'children': None}</td>\n",
       "      <td>False</td>\n",
       "      <td>{'edges': [{'label': 'has_sample', 'source': 3...</td>\n",
       "    </tr>\n",
       "    <tr>\n",
       "      <th>1</th>\n",
       "      <td>8589938073</td>\n",
       "      <td>157184-299-T-J1-PDC</td>\n",
       "      <td>cell line</td>\n",
       "      <td>PDMR</td>\n",
       "      <td>NaN</td>\n",
       "      <td>NaN</td>\n",
       "      <td>58.0</td>\n",
       "      <td>25.0</td>\n",
       "      <td>5039.0</td>\n",
       "      <td>2.0</td>\n",
       "      <td>...</td>\n",
       "      <td>Not provided</td>\n",
       "      <td>Not provided</td>\n",
       "      <td>None</td>\n",
       "      <td>None</td>\n",
       "      <td>available</td>\n",
       "      <td>15/11/2024</td>\n",
       "      <td>None</td>\n",
       "      <td>{'parents': None, 'children': None}</td>\n",
       "      <td>False</td>\n",
       "      <td>{'edges': [{'label': 'has_sample', 'source': 4...</td>\n",
       "    </tr>\n",
       "    <tr>\n",
       "      <th>2</th>\n",
       "      <td>8589938693</td>\n",
       "      <td>HCM-CSHL-0246-C19</td>\n",
       "      <td>organoid</td>\n",
       "      <td>CSHL</td>\n",
       "      <td>NaN</td>\n",
       "      <td>NaN</td>\n",
       "      <td>30.0</td>\n",
       "      <td>NaN</td>\n",
       "      <td>182.0</td>\n",
       "      <td>1.0</td>\n",
       "      <td>...</td>\n",
       "      <td>https://www.atcc.org/products/PDM-191</td>\n",
       "      <td>Not provided</td>\n",
       "      <td>None</td>\n",
       "      <td>None</td>\n",
       "      <td>available</td>\n",
       "      <td>17/02/2023</td>\n",
       "      <td>[{'type': 'supplier', 'resource_label': 'Copyr...</td>\n",
       "      <td>{'parents': None, 'children': None}</td>\n",
       "      <td>False</td>\n",
       "      <td>{'edges': [{'label': 'has_sample', 'source': 4...</td>\n",
       "    </tr>\n",
       "    <tr>\n",
       "      <th>3</th>\n",
       "      <td>8589938717</td>\n",
       "      <td>XDO.PHLC134</td>\n",
       "      <td>organoid</td>\n",
       "      <td>PMLB-Organoid</td>\n",
       "      <td>NaN</td>\n",
       "      <td>NaN</td>\n",
       "      <td>32.0</td>\n",
       "      <td>NaN</td>\n",
       "      <td>259.0</td>\n",
       "      <td>2.0</td>\n",
       "      <td>...</td>\n",
       "      <td>Not provided</td>\n",
       "      <td>Not provided</td>\n",
       "      <td>None</td>\n",
       "      <td>None</td>\n",
       "      <td>available</td>\n",
       "      <td>23/10/2023</td>\n",
       "      <td>None</td>\n",
       "      <td>{'parents': None, 'children': None}</td>\n",
       "      <td>False</td>\n",
       "      <td>{'edges': [{'label': 'has_sample', 'source': 2...</td>\n",
       "    </tr>\n",
       "    <tr>\n",
       "      <th>4</th>\n",
       "      <td>8589937303</td>\n",
       "      <td>SIDM01316</td>\n",
       "      <td>cell line</td>\n",
       "      <td>CMP</td>\n",
       "      <td>1288.0</td>\n",
       "      <td>NaN</td>\n",
       "      <td>55.0</td>\n",
       "      <td>NaN</td>\n",
       "      <td>1914.0</td>\n",
       "      <td>1.0</td>\n",
       "      <td>...</td>\n",
       "      <td>https://www.atcc.org/Products/HTB-166</td>\n",
       "      <td>CVCL_2169</td>\n",
       "      <td>None</td>\n",
       "      <td>None</td>\n",
       "      <td>available</td>\n",
       "      <td>27/05/2022</td>\n",
       "      <td>[{'type': 'external_id', 'resource_label': 'De...</td>\n",
       "      <td>{'parents': None, 'children': None}</td>\n",
       "      <td>False</td>\n",
       "      <td>{'edges': [{'label': 'has_sample', 'source': 6...</td>\n",
       "    </tr>\n",
       "    <tr>\n",
       "      <th>...</th>\n",
       "      <td>...</td>\n",
       "      <td>...</td>\n",
       "      <td>...</td>\n",
       "      <td>...</td>\n",
       "      <td>...</td>\n",
       "      <td>...</td>\n",
       "      <td>...</td>\n",
       "      <td>...</td>\n",
       "      <td>...</td>\n",
       "      <td>...</td>\n",
       "      <td>...</td>\n",
       "      <td>...</td>\n",
       "      <td>...</td>\n",
       "      <td>...</td>\n",
       "      <td>...</td>\n",
       "      <td>...</td>\n",
       "      <td>...</td>\n",
       "      <td>...</td>\n",
       "      <td>...</td>\n",
       "      <td>...</td>\n",
       "      <td>...</td>\n",
       "    </tr>\n",
       "    <tr>\n",
       "      <th>10194</th>\n",
       "      <td>8589937010</td>\n",
       "      <td>322927-281-R-V1-organoid</td>\n",
       "      <td>organoid</td>\n",
       "      <td>PDMR</td>\n",
       "      <td>NaN</td>\n",
       "      <td>NaN</td>\n",
       "      <td>58.0</td>\n",
       "      <td>25.0</td>\n",
       "      <td>4640.0</td>\n",
       "      <td>2.0</td>\n",
       "      <td>...</td>\n",
       "      <td>Not Provided</td>\n",
       "      <td>Not Provided</td>\n",
       "      <td>322927-281-R</td>\n",
       "      <td>322927-281-R</td>\n",
       "      <td>available</td>\n",
       "      <td>14/11/2024</td>\n",
       "      <td>None</td>\n",
       "      <td>{'parents': [{'type': 'PDX', 'parents': None, ...</td>\n",
       "      <td>True</td>\n",
       "      <td>{'edges': None, 'nodes': None}</td>\n",
       "    </tr>\n",
       "    <tr>\n",
       "      <th>10195</th>\n",
       "      <td>8589937060</td>\n",
       "      <td>354836-022-R-V3-organoid</td>\n",
       "      <td>organoid</td>\n",
       "      <td>PDMR</td>\n",
       "      <td>NaN</td>\n",
       "      <td>NaN</td>\n",
       "      <td>58.0</td>\n",
       "      <td>25.0</td>\n",
       "      <td>2643.0</td>\n",
       "      <td>2.0</td>\n",
       "      <td>...</td>\n",
       "      <td>Not provided</td>\n",
       "      <td>Not provided</td>\n",
       "      <td>None</td>\n",
       "      <td>None</td>\n",
       "      <td>available</td>\n",
       "      <td>15/11/2024</td>\n",
       "      <td>None</td>\n",
       "      <td>{'parents': None, 'children': None}</td>\n",
       "      <td>False</td>\n",
       "      <td>{'edges': [{'label': 'has_sample', 'source': 6...</td>\n",
       "    </tr>\n",
       "    <tr>\n",
       "      <th>10196</th>\n",
       "      <td>8589937338</td>\n",
       "      <td>SIDM01905</td>\n",
       "      <td>cell line</td>\n",
       "      <td>CMP</td>\n",
       "      <td>1560.0</td>\n",
       "      <td>NaN</td>\n",
       "      <td>55.0</td>\n",
       "      <td>NaN</td>\n",
       "      <td>1708.0</td>\n",
       "      <td>1.0</td>\n",
       "      <td>...</td>\n",
       "      <td>https://www.phe-culturecollections.org.uk/prod...</td>\n",
       "      <td>CVCL_2596</td>\n",
       "      <td>None</td>\n",
       "      <td>None</td>\n",
       "      <td>available</td>\n",
       "      <td>27/05/2022</td>\n",
       "      <td>[{'type': 'external_id', 'resource_label': 'De...</td>\n",
       "      <td>{'parents': None, 'children': None}</td>\n",
       "      <td>False</td>\n",
       "      <td>{'edges': [{'label': 'has_sample', 'source': 1...</td>\n",
       "    </tr>\n",
       "    <tr>\n",
       "      <th>10197</th>\n",
       "      <td>8589937358</td>\n",
       "      <td>SIDM00973</td>\n",
       "      <td>cell line</td>\n",
       "      <td>CMP</td>\n",
       "      <td>1379.0</td>\n",
       "      <td>NaN</td>\n",
       "      <td>55.0</td>\n",
       "      <td>NaN</td>\n",
       "      <td>3841.0</td>\n",
       "      <td>1.0</td>\n",
       "      <td>...</td>\n",
       "      <td>Not provided</td>\n",
       "      <td>CVCL_8787</td>\n",
       "      <td>None</td>\n",
       "      <td>None</td>\n",
       "      <td>available</td>\n",
       "      <td>27/05/2022</td>\n",
       "      <td>[{'type': 'external_id', 'resource_label': 'De...</td>\n",
       "      <td>{'parents': None, 'children': None}</td>\n",
       "      <td>False</td>\n",
       "      <td>{'edges': [{'label': 'has_sample', 'source': 8...</td>\n",
       "    </tr>\n",
       "    <tr>\n",
       "      <th>10198</th>\n",
       "      <td>8589937571</td>\n",
       "      <td>SIDM01768</td>\n",
       "      <td>cell line</td>\n",
       "      <td>CMP</td>\n",
       "      <td>607.0</td>\n",
       "      <td>NaN</td>\n",
       "      <td>55.0</td>\n",
       "      <td>NaN</td>\n",
       "      <td>1876.0</td>\n",
       "      <td>1.0</td>\n",
       "      <td>...</td>\n",
       "      <td>https://www.rockland.com/search/?searchString=...</td>\n",
       "      <td>CVCL_6805</td>\n",
       "      <td>None</td>\n",
       "      <td>None</td>\n",
       "      <td>available</td>\n",
       "      <td>27/05/2022</td>\n",
       "      <td>[{'type': 'external_id', 'resource_label': 'De...</td>\n",
       "      <td>{'parents': None, 'children': None}</td>\n",
       "      <td>False</td>\n",
       "      <td>{'edges': [{'label': 'has_sample', 'source': 2...</td>\n",
       "    </tr>\n",
       "  </tbody>\n",
       "</table>\n",
       "<p>10199 rows × 24 columns</p>\n",
       "</div>"
      ]
     },
     "execution_count": 8,
     "metadata": {},
     "output_type": "execute_result"
    }
   ],
   "execution_count": 8
  },
  {
   "metadata": {
    "ExecuteTime": {
     "end_time": "2025-01-23T15:39:29.805698Z",
     "start_time": "2025-01-23T15:39:29.790555Z"
    }
   },
   "cell_type": "code",
   "source": [
    "# Prepare the data for the table\n",
    "model_type_organoid = [\"Yes\" if dt.lower() == \"organoid\" else \"No\" for dt in data['type']]\n",
    "model_type_cell_line = [\"Yes\" if dt.lower() == \"cell line\" else \"No\" for dt in data['type']]\n",
    "provider = data['data_source']\n",
    "model_counts = 1  # Assuming one model per response, adjust accordingly if needed\n",
    "date_added = data['date_submitted']\n",
    "\n",
    "# Create the DataFrame\n",
    "table_data = {\n",
    "    \"Provider\": [provider],\n",
    "    \"Model type organoid\": [model_type_organoid],\n",
    "    \"Model type cell line\": [model_type_cell_line],\n",
    "    \"Model_Counts\": [model_counts],\n",
    "    \"Date added\": [date_added]\n",
    "}\n",
    "\n",
    "df = pd.DataFrame(table_data)\n"
   ],
   "outputs": [],
   "execution_count": 6
  },
  {
   "metadata": {
    "ExecuteTime": {
     "end_time": "2025-01-23T15:39:32.873349Z",
     "start_time": "2025-01-23T15:39:32.846064Z"
    }
   },
   "cell_type": "code",
   "source": "df",
   "outputs": [
    {
     "data": {
      "text/plain": [
       "                                            Provider  \\\n",
       "0  0                  CMP\n",
       "1                 PDMR\n",
       "...   \n",
       "\n",
       "                                 Model type organoid  \\\n",
       "0  [No, No, Yes, Yes, No, No, Yes, No, No, No, Ye...   \n",
       "\n",
       "                                Model type cell line  Model_Counts  \\\n",
       "0  [Yes, Yes, No, No, Yes, Yes, No, Yes, Yes, Yes...             1   \n",
       "\n",
       "                                          Date added  \n",
       "0  0        27/05/2022\n",
       "1        15/11/2024\n",
       "2     ...  "
      ],
      "text/html": [
       "<div>\n",
       "<style scoped>\n",
       "    .dataframe tbody tr th:only-of-type {\n",
       "        vertical-align: middle;\n",
       "    }\n",
       "\n",
       "    .dataframe tbody tr th {\n",
       "        vertical-align: top;\n",
       "    }\n",
       "\n",
       "    .dataframe thead th {\n",
       "        text-align: right;\n",
       "    }\n",
       "</style>\n",
       "<table border=\"1\" class=\"dataframe\">\n",
       "  <thead>\n",
       "    <tr style=\"text-align: right;\">\n",
       "      <th></th>\n",
       "      <th>Provider</th>\n",
       "      <th>Model type organoid</th>\n",
       "      <th>Model type cell line</th>\n",
       "      <th>Model_Counts</th>\n",
       "      <th>Date added</th>\n",
       "    </tr>\n",
       "  </thead>\n",
       "  <tbody>\n",
       "    <tr>\n",
       "      <th>0</th>\n",
       "      <td>0                  CMP\n",
       "1                 PDMR\n",
       "...</td>\n",
       "      <td>[No, No, Yes, Yes, No, No, Yes, No, No, No, Ye...</td>\n",
       "      <td>[Yes, Yes, No, No, Yes, Yes, No, Yes, Yes, Yes...</td>\n",
       "      <td>1</td>\n",
       "      <td>0        27/05/2022\n",
       "1        15/11/2024\n",
       "2     ...</td>\n",
       "    </tr>\n",
       "  </tbody>\n",
       "</table>\n",
       "</div>"
      ]
     },
     "execution_count": 7,
     "metadata": {},
     "output_type": "execute_result"
    }
   ],
   "execution_count": 7
  },
  {
   "metadata": {
    "collapsed": false,
    "ExecuteTime": {
     "end_time": "2024-02-14T09:26:38.898223Z",
     "start_time": "2024-02-14T09:26:38.620420Z"
    }
   },
   "cell_type": "code",
   "outputs": [],
   "execution_count": 32,
   "source": [
    "providers = sorted(get_dirs(home))\n",
    "cbioportal_case_lists = \"/Users/tushar/CancerModels/utils/cbioportal/pdcm-cbioportal/study\"\n",
    "for provider in providers:\n",
    "    case_list = join(cbioportal_case_lists, provider, 'case_lists/cases_all.txt')\n",
    "    case_file = pd.DataFrame(pd.read_csv(case_list, sep=': ', engine='python', skiprows=range(0, 4)).iloc[0,1].split('\\t'), columns=['sample_id'])\n",
    "    if not exists(join(home, provider, 'case_lists')):\n",
    "        makedirs(join(home, provider, 'case_lists'))\n",
    "    out_case_list = join(home, provider, 'case_lists/cases_all.tsv')\n",
    "    case_file.to_csv(out_case_list, sep='\\t', index=False)"
   ]
  },
  {
   "metadata": {},
   "cell_type": "code",
   "outputs": [],
   "execution_count": null,
   "source": ""
  },
  {
   "metadata": {},
   "cell_type": "code",
   "outputs": [],
   "execution_count": null,
   "source": ""
  },
  {
   "cell_type": "code",
   "outputs": [
    {
     "data": {
      "text/plain": "                                     0\n0    HCM-BROD-0781-C71-85A-01R-A88J-41\n1    HCM-BROD-0676-C71-85R-01R-A85D-41\n2    HCM-BROD-0003-C71-86A-01R-A78N-41\n3             HCM-BROD-0783-C71_sample\n4    HCM-BROD-0449-C34-85M-01R-A82J-41\n..                                 ...\n466           HCM-BROD-0199-C71_sample\n467  HCM-BROD-0122-C25-85A-01D-A79L-36\n468           HCM-BROD-0477-C16_sample\n469           HCM-BROD-0013-C71_sample\n470  HCM-BROD-0019-C25-85A-01D-A80U-36\n\n[471 rows x 1 columns]",
      "text/html": "<div>\n<style scoped>\n    .dataframe tbody tr th:only-of-type {\n        vertical-align: middle;\n    }\n\n    .dataframe tbody tr th {\n        vertical-align: top;\n    }\n\n    .dataframe thead th {\n        text-align: right;\n    }\n</style>\n<table border=\"1\" class=\"dataframe\">\n  <thead>\n    <tr style=\"text-align: right;\">\n      <th></th>\n      <th>0</th>\n    </tr>\n  </thead>\n  <tbody>\n    <tr>\n      <th>0</th>\n      <td>HCM-BROD-0781-C71-85A-01R-A88J-41</td>\n    </tr>\n    <tr>\n      <th>1</th>\n      <td>HCM-BROD-0676-C71-85R-01R-A85D-41</td>\n    </tr>\n    <tr>\n      <th>2</th>\n      <td>HCM-BROD-0003-C71-86A-01R-A78N-41</td>\n    </tr>\n    <tr>\n      <th>3</th>\n      <td>HCM-BROD-0783-C71_sample</td>\n    </tr>\n    <tr>\n      <th>4</th>\n      <td>HCM-BROD-0449-C34-85M-01R-A82J-41</td>\n    </tr>\n    <tr>\n      <th>...</th>\n      <td>...</td>\n    </tr>\n    <tr>\n      <th>466</th>\n      <td>HCM-BROD-0199-C71_sample</td>\n    </tr>\n    <tr>\n      <th>467</th>\n      <td>HCM-BROD-0122-C25-85A-01D-A79L-36</td>\n    </tr>\n    <tr>\n      <th>468</th>\n      <td>HCM-BROD-0477-C16_sample</td>\n    </tr>\n    <tr>\n      <th>469</th>\n      <td>HCM-BROD-0013-C71_sample</td>\n    </tr>\n    <tr>\n      <th>470</th>\n      <td>HCM-BROD-0019-C25-85A-01D-A80U-36</td>\n    </tr>\n  </tbody>\n</table>\n<p>471 rows × 1 columns</p>\n</div>"
     },
     "execution_count": 27,
     "metadata": {},
     "output_type": "execute_result"
    }
   ],
   "source": [
    "case_file"
   ],
   "metadata": {
    "collapsed": false,
    "ExecuteTime": {
     "end_time": "2024-02-14T09:22:26.454549Z",
     "start_time": "2024-02-14T09:22:26.399711Z"
    }
   },
   "execution_count": 27
  },
  {
   "cell_type": "code",
   "outputs": [],
   "source": [],
   "metadata": {
    "collapsed": false
   },
   "execution_count": null
  },
  {
   "cell_type": "markdown",
   "source": [
    "## Data model changes"
   ],
   "metadata": {
    "collapsed": false
   }
  },
  {
   "cell_type": "code",
   "outputs": [],
   "source": [
    "providers = sorted(get_dirs(home))\n",
    "template_path = \"/Users/tushar/CancerModels/pdxfinder-data/template/active_templates/metadata\"\n",
    "templates = [f for f in sorted(get_files(template_path)) if f.endswith('tsv') and not f.__contains__('image') and not f.__contains__('sharing')]\n",
    "for provider in providers:\n",
    "    for template in templates:\n",
    "        template_df = read_metadata_with_fields(join(template_path, template))\n",
    "        sheet_name = join(home, provider, f\"{provider}_{template.replace('_template', '')}\")\n",
    "        if exists(sheet_name):\n",
    "            sheet_df = read_metadata_without_fields(sheet_name)\n",
    "            sheet_df['Field'] = \"\"\n",
    "            if sheet_df.shape[0] == 0 and template.__contains__('validation'):\n",
    "                sheet_df = template_df\n",
    "            else:\n",
    "                for col in template_df.columns:\n",
    "                    if col not in sheet_df.columns:\n",
    "                        if col == 'parent_id' or col ==\t'origin_patient_sample_id':\n",
    "                            sheet_df.loc[:, col] = \"\"\n",
    "                        else:\n",
    "                            sheet_df.loc[:, col] = \"Not provided\"\n",
    "                #if sheet_name.__contains__(\"cell\"):\n",
    "                #    sheet_df['model_name'] = sheet_df['name']\n",
    "                sheet_df = pd.concat([template_df, sheet_df[template_df.columns]])\n",
    "            sheet_df.to_csv(sheet_name, sep='\\t', index=False)"
   ],
   "metadata": {
    "collapsed": false,
    "ExecuteTime": {
     "end_time": "2024-03-06T09:18:54.442778Z",
     "start_time": "2024-03-06T09:18:47.818460Z"
    }
   },
   "execution_count": 5
  },
  {
   "cell_type": "code",
   "outputs": [
    {
     "data": {
      "text/plain": "'metadata_template-patient_sample.tsv'"
     },
     "execution_count": 7,
     "metadata": {},
     "output_type": "execute_result"
    }
   ],
   "source": [
    "template"
   ],
   "metadata": {
    "collapsed": false,
    "ExecuteTime": {
     "end_time": "2024-03-04T15:19:31.775186Z",
     "start_time": "2024-03-04T15:19:31.625524Z"
    }
   },
   "execution_count": 7
  },
  {
   "cell_type": "code",
   "outputs": [
    {
     "data": {
      "text/plain": "'/Users/tushar/CancerModels/pdxfinder-data/template/active_templates/metadata'"
     },
     "execution_count": 17,
     "metadata": {},
     "output_type": "execute_result"
    }
   ],
   "source": [
    "template_path"
   ],
   "metadata": {
    "collapsed": false,
    "ExecuteTime": {
     "end_time": "2024-02-15T15:41:38.976152Z",
     "start_time": "2024-02-15T15:41:38.917503Z"
    }
   },
   "execution_count": 17
  },
  {
   "cell_type": "code",
   "outputs": [
    {
     "data": {
      "text/plain": "['BROD',\n 'CCIA',\n 'CHOP',\n 'CMP',\n 'CRL',\n 'CSHL',\n 'CUIMC',\n 'Curie-BC',\n 'Curie-LC',\n 'Curie-OC',\n 'DFCI-CPDM',\n 'GCCRI',\n 'HCI-BCM',\n 'HKU',\n 'IRCC-CRC',\n 'IRCC-GC',\n 'JAX',\n 'LIH',\n 'LurieChildrens',\n 'MDAnderson',\n 'MDAnderson-CCH',\n 'NKI',\n 'PDMR',\n 'PMLB',\n 'PMLB-Organoid',\n 'SANG',\n 'SJCRH',\n 'TRACE',\n 'UCD',\n 'UMCG',\n 'UOC-BC',\n 'UOM-BC',\n 'VHIO-BC',\n 'VHIO-CRC',\n 'VHIO-PC',\n 'WCMC',\n 'WUSTL',\n 'Wistar-MDAnderson-Penn']"
     },
     "execution_count": 18,
     "metadata": {},
     "output_type": "execute_result"
    }
   ],
   "source": [
    "providers"
   ],
   "metadata": {
    "collapsed": false,
    "ExecuteTime": {
     "end_time": "2024-02-15T15:42:10.025037Z",
     "start_time": "2024-02-15T15:42:09.962910Z"
    }
   },
   "execution_count": 18
  },
  {
   "cell_type": "code",
   "outputs": [],
   "source": [
    "from requests import post\n",
    "import json"
   ],
   "metadata": {
    "collapsed": false,
    "ExecuteTime": {
     "end_time": "2024-03-11T17:10:21.650086Z",
     "start_time": "2024-03-11T17:10:21.551543Z"
    }
   },
   "execution_count": 17
  },
  {
   "cell_type": "code",
   "outputs": [],
   "source": [
    "normal_data = pd.read_csv(\"/Users/tushar/Downloads/tcga_normal_fpkm.tsv\", sep='\\t')\n",
    "normal_samples = pd.read_csv(\"/Users/tushar/Downloads/TCGA_phenotype_denseDataOnlyDownload.tsv\", sep='\\t')\n",
    "url = \"https://biotools.fr/human/ensembl_symbol_converter/\"\n",
    "response = post(url, data={'api':1, 'ids':str(list(normal_data['sample'].str.split('.').str[0])).replace('\\'', '\\\"')})\n",
    "ensembl2genesymbol = response.json()\n",
    "normal_data['gene_symbol'] = normal_data['sample'].str.split('.').str[0].replace(ensembl2genesymbol)"
   ],
   "metadata": {
    "collapsed": false,
    "ExecuteTime": {
     "end_time": "2024-03-11T16:59:58.304232Z",
     "start_time": "2024-03-11T16:59:48.490473Z"
    }
   },
   "execution_count": 4
  },
  {
   "cell_type": "code",
   "outputs": [
    {
     "data": {
      "text/plain": "['bladder urothelial carcinoma',\n 'breast invasive carcinoma',\n 'cervical & endocervical cancer',\n 'cholangiocarcinoma',\n 'colon adenocarcinoma',\n 'esophageal carcinoma',\n 'glioblastoma multiforme',\n 'head & neck squamous cell carcinoma',\n 'kidney chromophobe',\n 'kidney clear cell carcinoma',\n 'kidney papillary cell carcinoma',\n 'liver hepatocellular carcinoma',\n 'lung adenocarcinoma',\n 'lung squamous cell carcinoma',\n 'ovarian serous cystadenocarcinoma',\n 'pancreatic adenocarcinoma',\n 'pheochromocytoma & paraganglioma',\n 'prostate adenocarcinoma',\n 'rectum adenocarcinoma',\n 'sarcoma',\n 'skin cutaneous melanoma',\n 'stomach adenocarcinoma',\n 'thymoma',\n 'thyroid carcinoma',\n 'uterine corpus endometrioid carcinoma']"
     },
     "execution_count": 5,
     "metadata": {},
     "output_type": "execute_result"
    }
   ],
   "source": [
    "sorted(normal_samples['_primary_disease'].unique())"
   ],
   "metadata": {
    "collapsed": false,
    "ExecuteTime": {
     "end_time": "2024-03-11T17:00:00.724025Z",
     "start_time": "2024-03-11T17:00:00.619766Z"
    }
   },
   "execution_count": 5
  },
  {
   "cell_type": "code",
   "outputs": [],
   "source": [
    "normal_data['gene_symbol'] = normal_data['sample'].str.split('.').str[0].replace(ensembl2genesymbol) "
   ],
   "metadata": {
    "collapsed": false,
    "ExecuteTime": {
     "end_time": "2024-03-12T09:45:34.395289Z",
     "start_time": "2024-03-12T09:40:16.553045Z"
    }
   },
   "execution_count": 64
  },
  {
   "cell_type": "code",
   "outputs": [],
   "source": [
    "breast_samples = ['gene_symbol'] + list(normal_samples[normal_samples[\"_primary_disease\"] == \"breast invasive carcinoma\"]['sample'])\n",
    "breast_samples = [c for c in breast_samples if c in normal_data.columns]\n",
    "normal_data[breast_samples].dropna().to_csv(\"/Users/tushar/Downloads/tcga_brca_normal_fpkm.tsv\", sep='\\t',index=False)"
   ],
   "metadata": {
    "collapsed": false,
    "ExecuteTime": {
     "end_time": "2024-03-12T09:48:45.284600Z",
     "start_time": "2024-03-12T09:48:32.382283Z"
    }
   },
   "execution_count": 70
  },
  {
   "cell_type": "code",
   "outputs": [],
   "source": [
    "lung_samples = ['gene_symbol'] + list(normal_samples[normal_samples[\"_primary_disease\"] == \"lung adenocarcinoma\"]['sample'])\n",
    "lung_samples = [c for c in lung_samples if c in normal_data.columns]\n",
    "normal_data[lung_samples].dropna().to_csv(\"/Users/tushar/Downloads/tcga_lung_normal_fpkm.tsv\", sep='\\t',index=False)"
   ],
   "metadata": {
    "collapsed": false,
    "ExecuteTime": {
     "end_time": "2024-03-12T09:48:32.030026Z",
     "start_time": "2024-03-12T09:48:26.733679Z"
    }
   },
   "execution_count": 69
  },
  {
   "cell_type": "code",
   "outputs": [],
   "source": [
    "colon = ['gene_symbol'] + list(normal_samples[normal_samples[\"_primary_disease\"] == \"colon adenocarcinoma\"]['sample'])\n",
    "colon = [c for c in colon if c in normal_data.columns]\n",
    "normal_data[colon].dropna().to_csv(\"/Users/tushar/Downloads/tcga_colon_normal_fpkm.tsv\", sep='\\t',index=False)"
   ],
   "metadata": {
    "collapsed": false,
    "ExecuteTime": {
     "end_time": "2024-03-12T09:48:08.526067Z",
     "start_time": "2024-03-12T09:48:02.881337Z"
    }
   },
   "execution_count": 68
  },
  {
   "cell_type": "code",
   "outputs": [],
   "source": [],
   "metadata": {
    "collapsed": false,
    "ExecuteTime": {
     "end_time": "2024-03-12T09:35:19.554926Z",
     "start_time": "2024-03-12T09:35:13.590342Z"
    }
   },
   "execution_count": 61
  },
  {
   "cell_type": "code",
   "outputs": [],
   "source": [
    "mms = read_metadata_without_fields(join(home, \"CMP/CMP_molecular_metadata-sample.tsv\"))\n",
    "ps = read_metadata_without_fields(join(home, \"CMP/CMP_metadata-patient_sample.tsv\"))"
   ],
   "metadata": {
    "collapsed": false,
    "ExecuteTime": {
     "end_time": "2024-03-12T16:40:59.622962Z",
     "start_time": "2024-03-12T16:40:59.470717Z"
    }
   },
   "execution_count": 93
  },
  {
   "cell_type": "code",
   "outputs": [],
   "source": [
    "#model_sample_mapper = mms[~mms['model_id'].str.contains(\"immune\")][['model_id', 'sample_id']].drop_duplicates()\n",
    "model_sample_mapper = dict(zip(ps['sample_id'], ps['model_id']))\n",
    "\n",
    "missing = list()\n",
    "for i in range(mms.shape[0]):\n",
    "    if str(mms['model_id'][i]).__contains__('immune'):\n",
    "        if mms['sample_id'][i] not in model_sample_mapper.keys():\n",
    "            #print(mms['sample_id'][i])\n",
    "            missing.append(mms['sample_id'][i])\n",
    "        else:\n",
    "            mms['model_id'][i] = model_sample_mapper[mms['sample_id'][i]]\n"
   ],
   "metadata": {
    "collapsed": false,
    "ExecuteTime": {
     "end_time": "2024-03-12T16:41:21.715776Z",
     "start_time": "2024-03-12T16:41:18.203260Z"
    }
   },
   "execution_count": 94
  },
  {
   "cell_type": "code",
   "outputs": [
    {
     "data": {
      "text/plain": "0"
     },
     "execution_count": 95,
     "metadata": {},
     "output_type": "execute_result"
    }
   ],
   "source": [
    "len(set(missing))    "
   ],
   "metadata": {
    "collapsed": false,
    "ExecuteTime": {
     "end_time": "2024-03-12T16:41:23.032695Z",
     "start_time": "2024-03-12T16:41:22.926310Z"
    }
   },
   "execution_count": 95
  },
  {
   "cell_type": "code",
   "outputs": [
    {
     "data": {
      "text/plain": "set()"
     },
     "execution_count": 96,
     "metadata": {},
     "output_type": "execute_result"
    }
   ],
   "source": [
    "set(missing)"
   ],
   "metadata": {
    "collapsed": false,
    "ExecuteTime": {
     "end_time": "2024-03-12T16:41:24.642675Z",
     "start_time": "2024-03-12T16:41:24.550721Z"
    }
   },
   "execution_count": 96
  },
  {
   "cell_type": "code",
   "outputs": [
    {
     "data": {
      "text/plain": "        model_id  sample_id sample_origin passage host_strain_name  \\\n0      SIDM00993  SIDS00452          cell     NaN              NaN   \n1      SIDM00993  SIDS00452          cell     NaN              NaN   \n2      SIDM00993  SIDS00452          cell     NaN              NaN   \n3      SIDM00993  SIDS00452          cell     NaN              NaN   \n4      SIDM00993  SIDS00452          cell     NaN              NaN   \n...          ...        ...           ...     ...              ...   \n13076  SIDM01779  SIDS01654          cell     NaN              NaN   \n13077  SIDM01780  SIDS01653          cell     NaN              NaN   \n13078  SIDM01781  SIDS01664          cell     NaN              NaN   \n13079  SIDM01782  SIDS01678          cell     NaN              NaN   \n13080  SIDM01986  SIDS00075          cell     NaN              NaN   \n\n      host_strain_nomenclature engrafted_tumor_collection_site raw_data_url  \\\n0                          NaN                             NaN          NaN   \n1                          NaN                             NaN          NaN   \n2                          NaN                             NaN          NaN   \n3                          NaN                             NaN          NaN   \n4                          NaN                             NaN          NaN   \n...                        ...                             ...          ...   \n13076                      NaN                             NaN          NaN   \n13077                      NaN                             NaN          NaN   \n13078                      NaN                             NaN          NaN   \n13079                      NaN                             NaN          NaN   \n13080                      NaN                             NaN          NaN   \n\n             platform_id  \n0             immune_msi  \n1             immune_mpm  \n2      immune_ploidy_wes  \n3        immune_HLA_type  \n4             immune_tmb  \n...                  ...  \n13076   cna_WGS_organoid  \n13077   cna_WGS_organoid  \n13078   cna_WGS_organoid  \n13079   cna_WGS_organoid  \n13080   cna_WGS_organoid  \n\n[13081 rows x 9 columns]",
      "text/html": "<div>\n<style scoped>\n    .dataframe tbody tr th:only-of-type {\n        vertical-align: middle;\n    }\n\n    .dataframe tbody tr th {\n        vertical-align: top;\n    }\n\n    .dataframe thead th {\n        text-align: right;\n    }\n</style>\n<table border=\"1\" class=\"dataframe\">\n  <thead>\n    <tr style=\"text-align: right;\">\n      <th></th>\n      <th>model_id</th>\n      <th>sample_id</th>\n      <th>sample_origin</th>\n      <th>passage</th>\n      <th>host_strain_name</th>\n      <th>host_strain_nomenclature</th>\n      <th>engrafted_tumor_collection_site</th>\n      <th>raw_data_url</th>\n      <th>platform_id</th>\n    </tr>\n  </thead>\n  <tbody>\n    <tr>\n      <th>0</th>\n      <td>SIDM00993</td>\n      <td>SIDS00452</td>\n      <td>cell</td>\n      <td>NaN</td>\n      <td>NaN</td>\n      <td>NaN</td>\n      <td>NaN</td>\n      <td>NaN</td>\n      <td>immune_msi</td>\n    </tr>\n    <tr>\n      <th>1</th>\n      <td>SIDM00993</td>\n      <td>SIDS00452</td>\n      <td>cell</td>\n      <td>NaN</td>\n      <td>NaN</td>\n      <td>NaN</td>\n      <td>NaN</td>\n      <td>NaN</td>\n      <td>immune_mpm</td>\n    </tr>\n    <tr>\n      <th>2</th>\n      <td>SIDM00993</td>\n      <td>SIDS00452</td>\n      <td>cell</td>\n      <td>NaN</td>\n      <td>NaN</td>\n      <td>NaN</td>\n      <td>NaN</td>\n      <td>NaN</td>\n      <td>immune_ploidy_wes</td>\n    </tr>\n    <tr>\n      <th>3</th>\n      <td>SIDM00993</td>\n      <td>SIDS00452</td>\n      <td>cell</td>\n      <td>NaN</td>\n      <td>NaN</td>\n      <td>NaN</td>\n      <td>NaN</td>\n      <td>NaN</td>\n      <td>immune_HLA_type</td>\n    </tr>\n    <tr>\n      <th>4</th>\n      <td>SIDM00993</td>\n      <td>SIDS00452</td>\n      <td>cell</td>\n      <td>NaN</td>\n      <td>NaN</td>\n      <td>NaN</td>\n      <td>NaN</td>\n      <td>NaN</td>\n      <td>immune_tmb</td>\n    </tr>\n    <tr>\n      <th>...</th>\n      <td>...</td>\n      <td>...</td>\n      <td>...</td>\n      <td>...</td>\n      <td>...</td>\n      <td>...</td>\n      <td>...</td>\n      <td>...</td>\n      <td>...</td>\n    </tr>\n    <tr>\n      <th>13076</th>\n      <td>SIDM01779</td>\n      <td>SIDS01654</td>\n      <td>cell</td>\n      <td>NaN</td>\n      <td>NaN</td>\n      <td>NaN</td>\n      <td>NaN</td>\n      <td>NaN</td>\n      <td>cna_WGS_organoid</td>\n    </tr>\n    <tr>\n      <th>13077</th>\n      <td>SIDM01780</td>\n      <td>SIDS01653</td>\n      <td>cell</td>\n      <td>NaN</td>\n      <td>NaN</td>\n      <td>NaN</td>\n      <td>NaN</td>\n      <td>NaN</td>\n      <td>cna_WGS_organoid</td>\n    </tr>\n    <tr>\n      <th>13078</th>\n      <td>SIDM01781</td>\n      <td>SIDS01664</td>\n      <td>cell</td>\n      <td>NaN</td>\n      <td>NaN</td>\n      <td>NaN</td>\n      <td>NaN</td>\n      <td>NaN</td>\n      <td>cna_WGS_organoid</td>\n    </tr>\n    <tr>\n      <th>13079</th>\n      <td>SIDM01782</td>\n      <td>SIDS01678</td>\n      <td>cell</td>\n      <td>NaN</td>\n      <td>NaN</td>\n      <td>NaN</td>\n      <td>NaN</td>\n      <td>NaN</td>\n      <td>cna_WGS_organoid</td>\n    </tr>\n    <tr>\n      <th>13080</th>\n      <td>SIDM01986</td>\n      <td>SIDS00075</td>\n      <td>cell</td>\n      <td>NaN</td>\n      <td>NaN</td>\n      <td>NaN</td>\n      <td>NaN</td>\n      <td>NaN</td>\n      <td>cna_WGS_organoid</td>\n    </tr>\n  </tbody>\n</table>\n<p>13081 rows × 9 columns</p>\n</div>"
     },
     "execution_count": 97,
     "metadata": {},
     "output_type": "execute_result"
    }
   ],
   "source": [
    "mms"
   ],
   "metadata": {
    "collapsed": false,
    "ExecuteTime": {
     "end_time": "2024-03-12T16:41:27.236990Z",
     "start_time": "2024-03-12T16:41:27.123156Z"
    }
   },
   "execution_count": 97
  },
  {
   "cell_type": "code",
   "outputs": [],
   "source": [
    "out_mms = read_metadata_with_fields(join(home, \"CMP/CMP_molecular_metadata-sample.tsv\"))"
   ],
   "metadata": {
    "collapsed": false,
    "ExecuteTime": {
     "end_time": "2024-03-12T16:41:55.490117Z",
     "start_time": "2024-03-12T16:41:55.361943Z"
    }
   },
   "execution_count": 98
  },
  {
   "cell_type": "code",
   "outputs": [
    {
     "data": {
      "text/plain": "                  Field                                           model_id  \\\n0          #Description  Unique identifier for all the PDXs derived fro...   \n1              #Example                                          CRC0228PR   \n2  #Format Requirements                                free alphanumerical   \n3           #Essential?                                          essential   \n\n                                           sample_id  \\\n0  Identifier of the sample from any patient tiss...   \n1                         CRC0228PRH0000000000D01000   \n2                                free alphanumerical   \n3                                          essential   \n\n                                       sample_origin  \\\n0  The orgin of the sample - xenograft (extracted...   \n1                                          xenograft   \n2                                 xenograft, patient   \n3                                          essential   \n\n                                             passage  \\\n0  Indicate the passage number of the sample wher...   \n1                                                  0   \n2                                numerical, or blank   \n3                                          essential   \n\n                                    host_strain_name  \\\n0  Host mouse strain name (e.g. NOD-SCID, NSG, et...   \n1                                           NOD SCID   \n2   follow strain name or Not Specified (if unknown)   \n3                                          essential   \n\n                            host_strain_nomenclature  \\\n0  The full nomenclature form of the host mouse s...   \n1                   NOD.Cg-Prkdcscid Il2rgtm1Wjl/SzJ   \n2  https://www.jax.org/jax-mice-and-services/cust...   \n3                                          essential   \n\n                     engrafted_tumor_collection_site  \\\n0  The anatomical site from which the xenograft s...   \n1                                       mammary glad   \n2                                free alphanumerical   \n3                                          desirable   \n\n                                        raw_data_url  \\\n0  Unique identify to platform metadata between s...   \n1                                          mutation1   \n2                                                NaN   \n3                                          desirable   \n\n                                         platform_id  \n0  Unique identify to platform metadata between s...  \n1                                          mutation1  \n2                                                NaN  \n3                                          essential  ",
      "text/html": "<div>\n<style scoped>\n    .dataframe tbody tr th:only-of-type {\n        vertical-align: middle;\n    }\n\n    .dataframe tbody tr th {\n        vertical-align: top;\n    }\n\n    .dataframe thead th {\n        text-align: right;\n    }\n</style>\n<table border=\"1\" class=\"dataframe\">\n  <thead>\n    <tr style=\"text-align: right;\">\n      <th></th>\n      <th>Field</th>\n      <th>model_id</th>\n      <th>sample_id</th>\n      <th>sample_origin</th>\n      <th>passage</th>\n      <th>host_strain_name</th>\n      <th>host_strain_nomenclature</th>\n      <th>engrafted_tumor_collection_site</th>\n      <th>raw_data_url</th>\n      <th>platform_id</th>\n    </tr>\n  </thead>\n  <tbody>\n    <tr>\n      <th>0</th>\n      <td>#Description</td>\n      <td>Unique identifier for all the PDXs derived fro...</td>\n      <td>Identifier of the sample from any patient tiss...</td>\n      <td>The orgin of the sample - xenograft (extracted...</td>\n      <td>Indicate the passage number of the sample wher...</td>\n      <td>Host mouse strain name (e.g. NOD-SCID, NSG, et...</td>\n      <td>The full nomenclature form of the host mouse s...</td>\n      <td>The anatomical site from which the xenograft s...</td>\n      <td>Unique identify to platform metadata between s...</td>\n      <td>Unique identify to platform metadata between s...</td>\n    </tr>\n    <tr>\n      <th>1</th>\n      <td>#Example</td>\n      <td>CRC0228PR</td>\n      <td>CRC0228PRH0000000000D01000</td>\n      <td>xenograft</td>\n      <td>0</td>\n      <td>NOD SCID</td>\n      <td>NOD.Cg-Prkdcscid Il2rgtm1Wjl/SzJ</td>\n      <td>mammary glad</td>\n      <td>mutation1</td>\n      <td>mutation1</td>\n    </tr>\n    <tr>\n      <th>2</th>\n      <td>#Format Requirements</td>\n      <td>free alphanumerical</td>\n      <td>free alphanumerical</td>\n      <td>xenograft, patient</td>\n      <td>numerical, or blank</td>\n      <td>follow strain name or Not Specified (if unknown)</td>\n      <td>https://www.jax.org/jax-mice-and-services/cust...</td>\n      <td>free alphanumerical</td>\n      <td>NaN</td>\n      <td>NaN</td>\n    </tr>\n    <tr>\n      <th>3</th>\n      <td>#Essential?</td>\n      <td>essential</td>\n      <td>essential</td>\n      <td>essential</td>\n      <td>essential</td>\n      <td>essential</td>\n      <td>essential</td>\n      <td>desirable</td>\n      <td>desirable</td>\n      <td>essential</td>\n    </tr>\n  </tbody>\n</table>\n</div>"
     },
     "execution_count": 100,
     "metadata": {},
     "output_type": "execute_result"
    }
   ],
   "source": [
    "out_mms.iloc[0:4]"
   ],
   "metadata": {
    "collapsed": false,
    "ExecuteTime": {
     "end_time": "2024-03-12T16:42:23.267448Z",
     "start_time": "2024-03-12T16:42:23.172525Z"
    }
   },
   "execution_count": 100
  },
  {
   "cell_type": "code",
   "outputs": [],
   "source": [
    "mms['Field'] = \"\""
   ],
   "metadata": {
    "collapsed": false,
    "ExecuteTime": {
     "end_time": "2024-03-12T16:42:33.928863Z",
     "start_time": "2024-03-12T16:42:33.826674Z"
    }
   },
   "execution_count": 101
  },
  {
   "cell_type": "code",
   "outputs": [],
   "source": [
    "pd.concat([out_mms.iloc[0:4], mms]).to_csv(join(home, \"CMP/CMP_molecular_metadata-sample.tsv\"), sep='\\t', index=False)"
   ],
   "metadata": {
    "collapsed": false,
    "ExecuteTime": {
     "end_time": "2024-03-12T16:43:44.393008Z",
     "start_time": "2024-03-12T16:43:44.237254Z"
    }
   },
   "execution_count": 106
  },
  {
   "cell_type": "code",
   "outputs": [
    {
     "data": {
      "text/plain": "                      Field  \\\n0              #Description   \n1                  #Example   \n2      #Format Requirements   \n3               #Essential?   \n4                       NaN   \n...                     ...   \n13080                   NaN   \n13081                   NaN   \n13082                   NaN   \n13083                   NaN   \n13084                   NaN   \n\n                                                model_id  \\\n0      Unique identifier for all the PDXs derived fro...   \n1                                              CRC0228PR   \n2                                    free alphanumerical   \n3                                              essential   \n4                                             immune_msi   \n...                                                  ...   \n13080                                          SIDM01779   \n13081                                          SIDM01780   \n13082                                          SIDM01781   \n13083                                          SIDM01782   \n13084                                          SIDM01986   \n\n                                               sample_id  \\\n0      Identifier of the sample from any patient tiss...   \n1                             CRC0228PRH0000000000D01000   \n2                                    free alphanumerical   \n3                                              essential   \n4                                              SIDS00452   \n...                                                  ...   \n13080                                          SIDS01654   \n13081                                          SIDS01653   \n13082                                          SIDS01664   \n13083                                          SIDS01678   \n13084                                          SIDS00075   \n\n                                           sample_origin  \\\n0      The orgin of the sample - xenograft (extracted...   \n1                                              xenograft   \n2                                     xenograft, patient   \n3                                              essential   \n4                                                   cell   \n...                                                  ...   \n13080                                               cell   \n13081                                               cell   \n13082                                               cell   \n13083                                               cell   \n13084                                               cell   \n\n                                                 passage  \\\n0      Indicate the passage number of the sample wher...   \n1                                                      0   \n2                                    numerical, or blank   \n3                                              essential   \n4                                                    NaN   \n...                                                  ...   \n13080                                                NaN   \n13081                                                NaN   \n13082                                                NaN   \n13083                                                NaN   \n13084                                                NaN   \n\n                                        host_strain_name  \\\n0      Host mouse strain name (e.g. NOD-SCID, NSG, et...   \n1                                               NOD SCID   \n2       follow strain name or Not Specified (if unknown)   \n3                                              essential   \n4                                                    NaN   \n...                                                  ...   \n13080                                                NaN   \n13081                                                NaN   \n13082                                                NaN   \n13083                                                NaN   \n13084                                                NaN   \n\n                                host_strain_nomenclature  \\\n0      The full nomenclature form of the host mouse s...   \n1                       NOD.Cg-Prkdcscid Il2rgtm1Wjl/SzJ   \n2      https://www.jax.org/jax-mice-and-services/cust...   \n3                                              essential   \n4                                                    NaN   \n...                                                  ...   \n13080                                                NaN   \n13081                                                NaN   \n13082                                                NaN   \n13083                                                NaN   \n13084                                                NaN   \n\n                         engrafted_tumor_collection_site  \\\n0      The anatomical site from which the xenograft s...   \n1                                           mammary glad   \n2                                    free alphanumerical   \n3                                              desirable   \n4                                                    NaN   \n...                                                  ...   \n13080                                                NaN   \n13081                                                NaN   \n13082                                                NaN   \n13083                                                NaN   \n13084                                                NaN   \n\n                                            raw_data_url  \\\n0      Unique identify to platform metadata between s...   \n1                                              mutation1   \n2                                                    NaN   \n3                                              desirable   \n4                                                    NaN   \n...                                                  ...   \n13080                                                NaN   \n13081                                                NaN   \n13082                                                NaN   \n13083                                                NaN   \n13084                                                NaN   \n\n                                             platform_id  \n0      Unique identify to platform metadata between s...  \n1                                              mutation1  \n2                                                    NaN  \n3                                              essential  \n4                                             immune_msi  \n...                                                  ...  \n13080                                   cna_WGS_organoid  \n13081                                   cna_WGS_organoid  \n13082                                   cna_WGS_organoid  \n13083                                   cna_WGS_organoid  \n13084                                   cna_WGS_organoid  \n\n[13085 rows x 10 columns]",
      "text/html": "<div>\n<style scoped>\n    .dataframe tbody tr th:only-of-type {\n        vertical-align: middle;\n    }\n\n    .dataframe tbody tr th {\n        vertical-align: top;\n    }\n\n    .dataframe thead th {\n        text-align: right;\n    }\n</style>\n<table border=\"1\" class=\"dataframe\">\n  <thead>\n    <tr style=\"text-align: right;\">\n      <th></th>\n      <th>Field</th>\n      <th>model_id</th>\n      <th>sample_id</th>\n      <th>sample_origin</th>\n      <th>passage</th>\n      <th>host_strain_name</th>\n      <th>host_strain_nomenclature</th>\n      <th>engrafted_tumor_collection_site</th>\n      <th>raw_data_url</th>\n      <th>platform_id</th>\n    </tr>\n  </thead>\n  <tbody>\n    <tr>\n      <th>0</th>\n      <td>#Description</td>\n      <td>Unique identifier for all the PDXs derived fro...</td>\n      <td>Identifier of the sample from any patient tiss...</td>\n      <td>The orgin of the sample - xenograft (extracted...</td>\n      <td>Indicate the passage number of the sample wher...</td>\n      <td>Host mouse strain name (e.g. NOD-SCID, NSG, et...</td>\n      <td>The full nomenclature form of the host mouse s...</td>\n      <td>The anatomical site from which the xenograft s...</td>\n      <td>Unique identify to platform metadata between s...</td>\n      <td>Unique identify to platform metadata between s...</td>\n    </tr>\n    <tr>\n      <th>1</th>\n      <td>#Example</td>\n      <td>CRC0228PR</td>\n      <td>CRC0228PRH0000000000D01000</td>\n      <td>xenograft</td>\n      <td>0</td>\n      <td>NOD SCID</td>\n      <td>NOD.Cg-Prkdcscid Il2rgtm1Wjl/SzJ</td>\n      <td>mammary glad</td>\n      <td>mutation1</td>\n      <td>mutation1</td>\n    </tr>\n    <tr>\n      <th>2</th>\n      <td>#Format Requirements</td>\n      <td>free alphanumerical</td>\n      <td>free alphanumerical</td>\n      <td>xenograft, patient</td>\n      <td>numerical, or blank</td>\n      <td>follow strain name or Not Specified (if unknown)</td>\n      <td>https://www.jax.org/jax-mice-and-services/cust...</td>\n      <td>free alphanumerical</td>\n      <td>NaN</td>\n      <td>NaN</td>\n    </tr>\n    <tr>\n      <th>3</th>\n      <td>#Essential?</td>\n      <td>essential</td>\n      <td>essential</td>\n      <td>essential</td>\n      <td>essential</td>\n      <td>essential</td>\n      <td>essential</td>\n      <td>desirable</td>\n      <td>desirable</td>\n      <td>essential</td>\n    </tr>\n    <tr>\n      <th>4</th>\n      <td>NaN</td>\n      <td>immune_msi</td>\n      <td>SIDS00452</td>\n      <td>cell</td>\n      <td>NaN</td>\n      <td>NaN</td>\n      <td>NaN</td>\n      <td>NaN</td>\n      <td>NaN</td>\n      <td>immune_msi</td>\n    </tr>\n    <tr>\n      <th>...</th>\n      <td>...</td>\n      <td>...</td>\n      <td>...</td>\n      <td>...</td>\n      <td>...</td>\n      <td>...</td>\n      <td>...</td>\n      <td>...</td>\n      <td>...</td>\n      <td>...</td>\n    </tr>\n    <tr>\n      <th>13080</th>\n      <td>NaN</td>\n      <td>SIDM01779</td>\n      <td>SIDS01654</td>\n      <td>cell</td>\n      <td>NaN</td>\n      <td>NaN</td>\n      <td>NaN</td>\n      <td>NaN</td>\n      <td>NaN</td>\n      <td>cna_WGS_organoid</td>\n    </tr>\n    <tr>\n      <th>13081</th>\n      <td>NaN</td>\n      <td>SIDM01780</td>\n      <td>SIDS01653</td>\n      <td>cell</td>\n      <td>NaN</td>\n      <td>NaN</td>\n      <td>NaN</td>\n      <td>NaN</td>\n      <td>NaN</td>\n      <td>cna_WGS_organoid</td>\n    </tr>\n    <tr>\n      <th>13082</th>\n      <td>NaN</td>\n      <td>SIDM01781</td>\n      <td>SIDS01664</td>\n      <td>cell</td>\n      <td>NaN</td>\n      <td>NaN</td>\n      <td>NaN</td>\n      <td>NaN</td>\n      <td>NaN</td>\n      <td>cna_WGS_organoid</td>\n    </tr>\n    <tr>\n      <th>13083</th>\n      <td>NaN</td>\n      <td>SIDM01782</td>\n      <td>SIDS01678</td>\n      <td>cell</td>\n      <td>NaN</td>\n      <td>NaN</td>\n      <td>NaN</td>\n      <td>NaN</td>\n      <td>NaN</td>\n      <td>cna_WGS_organoid</td>\n    </tr>\n    <tr>\n      <th>13084</th>\n      <td>NaN</td>\n      <td>SIDM01986</td>\n      <td>SIDS00075</td>\n      <td>cell</td>\n      <td>NaN</td>\n      <td>NaN</td>\n      <td>NaN</td>\n      <td>NaN</td>\n      <td>NaN</td>\n      <td>cna_WGS_organoid</td>\n    </tr>\n  </tbody>\n</table>\n<p>13085 rows × 10 columns</p>\n</div>"
     },
     "execution_count": 105,
     "metadata": {},
     "output_type": "execute_result"
    }
   ],
   "source": [
    "out_mms"
   ],
   "metadata": {
    "collapsed": false,
    "ExecuteTime": {
     "end_time": "2024-03-12T16:43:18.096163Z",
     "start_time": "2024-03-12T16:43:18.002121Z"
    }
   },
   "execution_count": 105
  },
  {
   "cell_type": "code",
   "outputs": [],
   "source": [],
   "metadata": {
    "collapsed": false
   },
   "execution_count": null
  },
  {
   "cell_type": "markdown",
   "source": [
    "## MI Organoids"
   ],
   "metadata": {
    "collapsed": false
   }
  },
  {
   "cell_type": "code",
   "outputs": [],
   "source": [
    "from requests import get\n",
    "from re import search, sub\n",
    "from time import sleep\n",
    "from selenium import webdriver\n",
    "from selenium.webdriver.common.by import By\n",
    "from selenium.webdriver.support.ui import WebDriverWait\n",
    "from selenium.webdriver.support import expected_conditions as EC\n",
    "from selenium.webdriver.chrome.service import Service\n",
    "from webdriver_manager.chrome import ChromeDriverManager\n",
    "from bs4 import BeautifulSoup\n",
    "import numpy as np"
   ],
   "metadata": {
    "collapsed": false,
    "ExecuteTime": {
     "end_time": "2024-04-10T12:47:27.343032Z",
     "start_time": "2024-04-10T12:47:27.224938Z"
    }
   },
   "execution_count": 560
  },
  {
   "cell_type": "code",
   "outputs": [
    {
     "data": {
      "text/plain": "0       https://www.atcc.org/products/PDM-18\n1       https://www.atcc.org/products/PDM-17\n2       https://www.atcc.org/products/PDM-19\n3       https://www.atcc.org/products/PDM-23\n4       https://www.atcc.org/products/PDM-22\n                       ...                  \n226    https://www.atcc.org/products/PDM-171\n227    https://www.atcc.org/products/PDM-166\n228    https://www.atcc.org/products/PDM-173\n229    https://www.atcc.org/products/PDM-495\n230    https://www.atcc.org/products/PDM-165\nName: vendor_link, Length: 231, dtype: object"
     },
     "execution_count": 5,
     "metadata": {},
     "output_type": "execute_result"
    }
   ],
   "source": [
    "in_vitro_models = read_metadata_without_fields(join(home, 'BROD', 'BROD_metadata-cell_model.tsv'))"
   ],
   "metadata": {
    "collapsed": false,
    "ExecuteTime": {
     "end_time": "2024-04-05T08:48:29.241700Z",
     "start_time": "2024-04-05T08:48:29.149290Z"
    }
   },
   "execution_count": 5
  },
  {
   "cell_type": "code",
   "outputs": [],
   "source": [
    "url = in_vitro_models['vendor_link'][0].lower()"
   ],
   "metadata": {
    "collapsed": false,
    "ExecuteTime": {
     "end_time": "2024-04-04T14:53:52.415048Z",
     "start_time": "2024-04-04T14:53:52.283672Z"
    }
   },
   "execution_count": 18
  },
  {
   "cell_type": "code",
   "outputs": [],
   "source": [],
   "metadata": {
    "collapsed": false,
    "ExecuteTime": {
     "end_time": "2024-04-05T11:55:23.187586Z",
     "start_time": "2024-04-05T11:55:23.045312Z"
    }
   },
   "execution_count": 61
  },
  {
   "cell_type": "code",
   "outputs": [],
   "source": [
    "def fetch_from_atcc(in_vitro_models):\n",
    "    chrome_options = webdriver.ChromeOptions()\n",
    "    chrome_options.add_argument(\"--headless\")  # Run Chrome in headless mode if desired\n",
    "    chrome_options.add_argument('--no-sandbox')\n",
    "    chrome_options.add_argument('--disable-dev-shm-usage')\n",
    "    driver = webdriver.Chrome(service=Service(ChromeDriverManager().install()), options=chrome_options)\n",
    "    first = True\n",
    "    text = pd.DataFrame()\n",
    "    #attributes = list()\n",
    "    for url in in_vitro_models['vendor_link'].str.lower():\n",
    "        if url == 'not provided':\n",
    "            continue\n",
    "        driver.get(url)\n",
    "        if first:\n",
    "            WebDriverWait(driver, 10).until(EC.presence_of_element_located((By.XPATH, \"//a[text()='Allow all cookies']\"))).click()\n",
    "            first = False\n",
    "        #print('Expand')\n",
    "        sleep(2)\n",
    "        WebDriverWait(driver, 30).until(EC.presence_of_element_located((By.XPATH, \"//a[contains(text(), 'Expand all')]\"))).click()\n",
    "        headers = list()\n",
    "        h3 = driver.find_elements(By.XPATH, \"//h3\")\n",
    "        append_it = False\n",
    "        for h in h3:\n",
    "            if len(headers) == 0:\n",
    "                headers.append('Product Information')\n",
    "            if h.text == \"General\" or h.text == 'Characteristics' or append_it:\n",
    "                headers.append(h.text)\n",
    "                append_it = True\n",
    "            if h.text == \"Legal disclaimers\":\n",
    "                append_it = False\n",
    "        \n",
    "        dls = driver.find_elements(By.XPATH, \"//dl\")\n",
    "        i = 0\n",
    "        df = pd.DataFrame()\n",
    "        df['atcc'] = [url.replace('https://www.atcc.org/products/', '').upper()]\n",
    "        df['url'] = url\n",
    "        for dl in dls:\n",
    "            soup = BeautifulSoup(dl.get_attribute(\"outerHTML\"), 'html.parser')\n",
    "            dt_elements = soup.find_all('dt', class_='product-information__title')\n",
    "            dd_elements = soup.find_all('dd', class_='product-information__data')\n",
    "            dt_values = [headers[i].replace(' ', '_').lower()+'.'+dt.get_text(strip=True).replace(' ', '_').lower() for dt in dt_elements]\n",
    "            i = i+1\n",
    "            dd_values = [dd.get_text(strip=True) for dd in dd_elements]\n",
    "            for j in range(len(dt_values)):\n",
    "                df[dt_values[j]] = dd_values[j]  \n",
    "        text = pd.concat([text, df]).reset_index(drop=True)\n",
    "    driver.quit()\n",
    "    return text"
   ],
   "metadata": {
    "collapsed": false,
    "ExecuteTime": {
     "end_time": "2024-04-09T08:42:22.534383Z",
     "start_time": "2024-04-09T08:42:22.454594Z"
    }
   },
   "execution_count": 263
  },
  {
   "cell_type": "code",
   "outputs": [
    {
     "data": {
      "text/plain": "        atcc                                    url  \\\n0     PDM-18   https://www.atcc.org/products/pdm-18   \n1     PDM-17   https://www.atcc.org/products/pdm-17   \n2     PDM-19   https://www.atcc.org/products/pdm-19   \n3     PDM-23   https://www.atcc.org/products/pdm-23   \n4     PDM-22   https://www.atcc.org/products/pdm-22   \n..       ...                                    ...   \n139  PDM-171  https://www.atcc.org/products/pdm-171   \n140  PDM-166  https://www.atcc.org/products/pdm-166   \n141  PDM-173  https://www.atcc.org/products/pdm-173   \n142  PDM-495  https://www.atcc.org/products/pdm-495   \n143  PDM-165  https://www.atcc.org/products/pdm-165   \n\n    product_information.product_category product_information.product_type  \\\n0                            Human cells                       Cell model   \n1                            Human cells                       Cell model   \n2                            Human cells                       Cell model   \n3                            Human cells                       Cell model   \n4                            Human cells                       Cell model   \n..                                   ...                              ...   \n139                          Human cells               Cell modelOrganoid   \n140                          Human cells               Cell modelOrganoid   \n141                          Human cells               Cell modelOrganoid   \n142                          Human cells                       Cell model   \n143                          Human cells               Cell modelOrganoid   \n\n    product_information.organism  \\\n0            Homo sapiens, human   \n1            Homo sapiens, human   \n2            Homo sapiens, human   \n3            Homo sapiens, human   \n4            Homo sapiens, human   \n..                           ...   \n139          Homo sapiens, human   \n140          Homo sapiens, human   \n141          Homo sapiens, human   \n142          Homo sapiens, human   \n143          Homo sapiens, human   \n\n                        product_information.morphology  \\\n0                                             neuronal   \n1      neuronal; conditionally reprogrammed cell (CRC)   \n2                                             neuronal   \n3                                             neuronal   \n4                                                  NaN   \n..                                                 ...   \n139                                           Organoid   \n140                                           Organoid   \n141                                           Organoid   \n142                                    epithelial-like   \n143  organoid.Note:This model has highly unusual mo...   \n\n    product_information.tissue product_information.disease  \\\n0                        Brain       Glioblastoma; Primary   \n1                        Brain       Glioblastoma; Primary   \n2                        Brain     Glioblastoma; Recurrent   \n3                        Brain     Glioblastoma; Recurrent   \n4                        Brain     Glioblastoma; Recurrent   \n..                         ...                         ...   \n139                   Pancreas  Adenocarcinoma; Metastatic   \n140                   Pancreas     Adenocarcinoma; Primary   \n141                   Pancreas     Adenocarcinoma; Primary   \n142                       Skin        Melanoma; Metastatic   \n143                   Pancreas  Adenocarcinoma; Metastatic   \n\n               product_information.applications  \\\n0    3D cell cultureCancer researchNeuroscience   \n1    3D cell cultureCancer researchNeuroscience   \n2    3D cell cultureCancer researchNeuroscience   \n3    3D cell cultureCancer researchNeuroscience   \n4    3D cell cultureCancer researchNeuroscience   \n..                                          ...   \n139              3D cell cultureCancer research   \n140              3D cell cultureCancer research   \n141              3D cell cultureCancer research   \n142                             Cancer research   \n143              3D cell cultureCancer research   \n\n    product_information.product_format  ... history.depositors  \\\n0                               Frozen  ...    Broad Institute   \n1                               Frozen  ...    Broad Institute   \n2                               Frozen  ...    Broad Institute   \n3                               Frozen  ...    Broad Institute   \n4                               Frozen  ...    Broad Institute   \n..                                 ...  ...                ...   \n139                             Frozen  ...    Broad Institute   \n140                             Frozen  ...    Broad Institute   \n141                             Frozen  ...    Broad Institute   \n142                             Frozen  ...    Broad Institute   \n143                             Frozen  ...    Broad Institute   \n\n    history.year_of_origin             history.special_collection  \\\n0                     2018  Human Cancer Models Initiative (HCMI)   \n1                     2018  Human Cancer Models Initiative (HCMI)   \n2                     2018  Human Cancer Models Initiative (HCMI)   \n3                     2018  Human Cancer Models Initiative (HCMI)   \n4                     2018  Human Cancer Models Initiative (HCMI)   \n..                     ...                                    ...   \n139                   2021  Human Cancer Models Initiative (HCMI)   \n140                   2021  Human Cancer Models Initiative (HCMI)   \n141                   2021  Human Cancer Models Initiative (HCMI)   \n142                   2021  Human Cancer Models Initiative (HCMI)   \n143                   2021  Human Cancer Models Initiative (HCMI)   \n\n                        legal_disclaimers.intended_use  \\\n0    This product is intended for laboratory resear...   \n1    This product is intended for laboratory resear...   \n2    This product is intended for laboratory resear...   \n3    This product is intended for laboratory resear...   \n4    This product is intended for laboratory resear...   \n..                                                 ...   \n139  This product is intended for laboratory resear...   \n140  This product is intended for laboratory resear...   \n141  This product is intended for laboratory resear...   \n142  This product is intended for laboratory resear...   \n143  This product is intended for laboratory resear...   \n\n                            legal_disclaimers.warranty  \\\n0    The product is provided 'AS IS' and the viabil...   \n1    The product is provided 'AS IS' and the viabil...   \n2    The product is provided 'AS IS' and the viabil...   \n3    The product is provided 'AS IS' and the viabil...   \n4    The product is provided 'AS IS' and the viabil...   \n..                                                 ...   \n139  The product is provided 'AS IS' and the viabil...   \n140  The product is provided 'AS IS' and the viabil...   \n141  The product is provided 'AS IS' and the viabil...   \n142  The product is provided 'AS IS' and the viabil...   \n143  The product is provided 'AS IS' and the viabil...   \n\n                         legal_disclaimers.disclaimers characteristics.gender  \\\n0    This product is intended for laboratory resear...                    NaN   \n1    This product is intended for laboratory resear...                    NaN   \n2    This product is intended for laboratory resear...                 Female   \n3    This product is intended for laboratory resear...                    NaN   \n4    This product is intended for laboratory resear...                   Male   \n..                                                 ...                    ...   \n139  This product is intended for laboratory resear...                    NaN   \n140  This product is intended for laboratory resear...                    NaN   \n141  This product is intended for laboratory resear...                    NaN   \n142  This product is intended for laboratory resear...                    NaN   \n143  This product is intended for laboratory resear...                    NaN   \n\n     characteristics.metastatic  \\\n0                           NaN   \n1                           NaN   \n2                           NaN   \n3                           NaN   \n4                           NaN   \n..                          ...   \n139                  Metastatic   \n140                         NaN   \n141                         NaN   \n142      Metastatic; Lymph node   \n143  Metastatic; Pleural cavity   \n\n                 handling_information.cryopreservation  \\\n0                                                  NaN   \n1                                                  NaN   \n2                                                  NaN   \n3                                                  NaN   \n4                                                  NaN   \n..                                                 ...   \n139  For a brief overview of the cryopreservation p...   \n140  For a brief overview of the cryopreservation p...   \n141  For a brief overview of the cryopreservation p...   \n142                                                NaN   \n143  For a brief overview of the cryopreservation p...   \n\n    characteristics.passage_history  \n0                               NaN  \n1                               NaN  \n2                               NaN  \n3                               NaN  \n4                               NaN  \n..                              ...  \n139                             NaN  \n140                             NaN  \n141                             NaN  \n142                             NaN  \n143                             NaN  \n\n[144 rows x 38 columns]",
      "text/html": "<div>\n<style scoped>\n    .dataframe tbody tr th:only-of-type {\n        vertical-align: middle;\n    }\n\n    .dataframe tbody tr th {\n        vertical-align: top;\n    }\n\n    .dataframe thead th {\n        text-align: right;\n    }\n</style>\n<table border=\"1\" class=\"dataframe\">\n  <thead>\n    <tr style=\"text-align: right;\">\n      <th></th>\n      <th>atcc</th>\n      <th>url</th>\n      <th>product_information.product_category</th>\n      <th>product_information.product_type</th>\n      <th>product_information.organism</th>\n      <th>product_information.morphology</th>\n      <th>product_information.tissue</th>\n      <th>product_information.disease</th>\n      <th>product_information.applications</th>\n      <th>product_information.product_format</th>\n      <th>...</th>\n      <th>history.depositors</th>\n      <th>history.year_of_origin</th>\n      <th>history.special_collection</th>\n      <th>legal_disclaimers.intended_use</th>\n      <th>legal_disclaimers.warranty</th>\n      <th>legal_disclaimers.disclaimers</th>\n      <th>characteristics.gender</th>\n      <th>characteristics.metastatic</th>\n      <th>handling_information.cryopreservation</th>\n      <th>characteristics.passage_history</th>\n    </tr>\n  </thead>\n  <tbody>\n    <tr>\n      <th>0</th>\n      <td>PDM-18</td>\n      <td>https://www.atcc.org/products/pdm-18</td>\n      <td>Human cells</td>\n      <td>Cell model</td>\n      <td>Homo sapiens, human</td>\n      <td>neuronal</td>\n      <td>Brain</td>\n      <td>Glioblastoma; Primary</td>\n      <td>3D cell cultureCancer researchNeuroscience</td>\n      <td>Frozen</td>\n      <td>...</td>\n      <td>Broad Institute</td>\n      <td>2018</td>\n      <td>Human Cancer Models Initiative (HCMI)</td>\n      <td>This product is intended for laboratory resear...</td>\n      <td>The product is provided 'AS IS' and the viabil...</td>\n      <td>This product is intended for laboratory resear...</td>\n      <td>NaN</td>\n      <td>NaN</td>\n      <td>NaN</td>\n      <td>NaN</td>\n    </tr>\n    <tr>\n      <th>1</th>\n      <td>PDM-17</td>\n      <td>https://www.atcc.org/products/pdm-17</td>\n      <td>Human cells</td>\n      <td>Cell model</td>\n      <td>Homo sapiens, human</td>\n      <td>neuronal; conditionally reprogrammed cell (CRC)</td>\n      <td>Brain</td>\n      <td>Glioblastoma; Primary</td>\n      <td>3D cell cultureCancer researchNeuroscience</td>\n      <td>Frozen</td>\n      <td>...</td>\n      <td>Broad Institute</td>\n      <td>2018</td>\n      <td>Human Cancer Models Initiative (HCMI)</td>\n      <td>This product is intended for laboratory resear...</td>\n      <td>The product is provided 'AS IS' and the viabil...</td>\n      <td>This product is intended for laboratory resear...</td>\n      <td>NaN</td>\n      <td>NaN</td>\n      <td>NaN</td>\n      <td>NaN</td>\n    </tr>\n    <tr>\n      <th>2</th>\n      <td>PDM-19</td>\n      <td>https://www.atcc.org/products/pdm-19</td>\n      <td>Human cells</td>\n      <td>Cell model</td>\n      <td>Homo sapiens, human</td>\n      <td>neuronal</td>\n      <td>Brain</td>\n      <td>Glioblastoma; Recurrent</td>\n      <td>3D cell cultureCancer researchNeuroscience</td>\n      <td>Frozen</td>\n      <td>...</td>\n      <td>Broad Institute</td>\n      <td>2018</td>\n      <td>Human Cancer Models Initiative (HCMI)</td>\n      <td>This product is intended for laboratory resear...</td>\n      <td>The product is provided 'AS IS' and the viabil...</td>\n      <td>This product is intended for laboratory resear...</td>\n      <td>Female</td>\n      <td>NaN</td>\n      <td>NaN</td>\n      <td>NaN</td>\n    </tr>\n    <tr>\n      <th>3</th>\n      <td>PDM-23</td>\n      <td>https://www.atcc.org/products/pdm-23</td>\n      <td>Human cells</td>\n      <td>Cell model</td>\n      <td>Homo sapiens, human</td>\n      <td>neuronal</td>\n      <td>Brain</td>\n      <td>Glioblastoma; Recurrent</td>\n      <td>3D cell cultureCancer researchNeuroscience</td>\n      <td>Frozen</td>\n      <td>...</td>\n      <td>Broad Institute</td>\n      <td>2018</td>\n      <td>Human Cancer Models Initiative (HCMI)</td>\n      <td>This product is intended for laboratory resear...</td>\n      <td>The product is provided 'AS IS' and the viabil...</td>\n      <td>This product is intended for laboratory resear...</td>\n      <td>NaN</td>\n      <td>NaN</td>\n      <td>NaN</td>\n      <td>NaN</td>\n    </tr>\n    <tr>\n      <th>4</th>\n      <td>PDM-22</td>\n      <td>https://www.atcc.org/products/pdm-22</td>\n      <td>Human cells</td>\n      <td>Cell model</td>\n      <td>Homo sapiens, human</td>\n      <td>NaN</td>\n      <td>Brain</td>\n      <td>Glioblastoma; Recurrent</td>\n      <td>3D cell cultureCancer researchNeuroscience</td>\n      <td>Frozen</td>\n      <td>...</td>\n      <td>Broad Institute</td>\n      <td>2018</td>\n      <td>Human Cancer Models Initiative (HCMI)</td>\n      <td>This product is intended for laboratory resear...</td>\n      <td>The product is provided 'AS IS' and the viabil...</td>\n      <td>This product is intended for laboratory resear...</td>\n      <td>Male</td>\n      <td>NaN</td>\n      <td>NaN</td>\n      <td>NaN</td>\n    </tr>\n    <tr>\n      <th>...</th>\n      <td>...</td>\n      <td>...</td>\n      <td>...</td>\n      <td>...</td>\n      <td>...</td>\n      <td>...</td>\n      <td>...</td>\n      <td>...</td>\n      <td>...</td>\n      <td>...</td>\n      <td>...</td>\n      <td>...</td>\n      <td>...</td>\n      <td>...</td>\n      <td>...</td>\n      <td>...</td>\n      <td>...</td>\n      <td>...</td>\n      <td>...</td>\n      <td>...</td>\n      <td>...</td>\n    </tr>\n    <tr>\n      <th>139</th>\n      <td>PDM-171</td>\n      <td>https://www.atcc.org/products/pdm-171</td>\n      <td>Human cells</td>\n      <td>Cell modelOrganoid</td>\n      <td>Homo sapiens, human</td>\n      <td>Organoid</td>\n      <td>Pancreas</td>\n      <td>Adenocarcinoma; Metastatic</td>\n      <td>3D cell cultureCancer research</td>\n      <td>Frozen</td>\n      <td>...</td>\n      <td>Broad Institute</td>\n      <td>2021</td>\n      <td>Human Cancer Models Initiative (HCMI)</td>\n      <td>This product is intended for laboratory resear...</td>\n      <td>The product is provided 'AS IS' and the viabil...</td>\n      <td>This product is intended for laboratory resear...</td>\n      <td>NaN</td>\n      <td>Metastatic</td>\n      <td>For a brief overview of the cryopreservation p...</td>\n      <td>NaN</td>\n    </tr>\n    <tr>\n      <th>140</th>\n      <td>PDM-166</td>\n      <td>https://www.atcc.org/products/pdm-166</td>\n      <td>Human cells</td>\n      <td>Cell modelOrganoid</td>\n      <td>Homo sapiens, human</td>\n      <td>Organoid</td>\n      <td>Pancreas</td>\n      <td>Adenocarcinoma; Primary</td>\n      <td>3D cell cultureCancer research</td>\n      <td>Frozen</td>\n      <td>...</td>\n      <td>Broad Institute</td>\n      <td>2021</td>\n      <td>Human Cancer Models Initiative (HCMI)</td>\n      <td>This product is intended for laboratory resear...</td>\n      <td>The product is provided 'AS IS' and the viabil...</td>\n      <td>This product is intended for laboratory resear...</td>\n      <td>NaN</td>\n      <td>NaN</td>\n      <td>For a brief overview of the cryopreservation p...</td>\n      <td>NaN</td>\n    </tr>\n    <tr>\n      <th>141</th>\n      <td>PDM-173</td>\n      <td>https://www.atcc.org/products/pdm-173</td>\n      <td>Human cells</td>\n      <td>Cell modelOrganoid</td>\n      <td>Homo sapiens, human</td>\n      <td>Organoid</td>\n      <td>Pancreas</td>\n      <td>Adenocarcinoma; Primary</td>\n      <td>3D cell cultureCancer research</td>\n      <td>Frozen</td>\n      <td>...</td>\n      <td>Broad Institute</td>\n      <td>2021</td>\n      <td>Human Cancer Models Initiative (HCMI)</td>\n      <td>This product is intended for laboratory resear...</td>\n      <td>The product is provided 'AS IS' and the viabil...</td>\n      <td>This product is intended for laboratory resear...</td>\n      <td>NaN</td>\n      <td>NaN</td>\n      <td>For a brief overview of the cryopreservation p...</td>\n      <td>NaN</td>\n    </tr>\n    <tr>\n      <th>142</th>\n      <td>PDM-495</td>\n      <td>https://www.atcc.org/products/pdm-495</td>\n      <td>Human cells</td>\n      <td>Cell model</td>\n      <td>Homo sapiens, human</td>\n      <td>epithelial-like</td>\n      <td>Skin</td>\n      <td>Melanoma; Metastatic</td>\n      <td>Cancer research</td>\n      <td>Frozen</td>\n      <td>...</td>\n      <td>Broad Institute</td>\n      <td>2021</td>\n      <td>Human Cancer Models Initiative (HCMI)</td>\n      <td>This product is intended for laboratory resear...</td>\n      <td>The product is provided 'AS IS' and the viabil...</td>\n      <td>This product is intended for laboratory resear...</td>\n      <td>NaN</td>\n      <td>Metastatic; Lymph node</td>\n      <td>NaN</td>\n      <td>NaN</td>\n    </tr>\n    <tr>\n      <th>143</th>\n      <td>PDM-165</td>\n      <td>https://www.atcc.org/products/pdm-165</td>\n      <td>Human cells</td>\n      <td>Cell modelOrganoid</td>\n      <td>Homo sapiens, human</td>\n      <td>organoid.Note:This model has highly unusual mo...</td>\n      <td>Pancreas</td>\n      <td>Adenocarcinoma; Metastatic</td>\n      <td>3D cell cultureCancer research</td>\n      <td>Frozen</td>\n      <td>...</td>\n      <td>Broad Institute</td>\n      <td>2021</td>\n      <td>Human Cancer Models Initiative (HCMI)</td>\n      <td>This product is intended for laboratory resear...</td>\n      <td>The product is provided 'AS IS' and the viabil...</td>\n      <td>This product is intended for laboratory resear...</td>\n      <td>NaN</td>\n      <td>Metastatic; Pleural cavity</td>\n      <td>For a brief overview of the cryopreservation p...</td>\n      <td>NaN</td>\n    </tr>\n  </tbody>\n</table>\n<p>144 rows × 38 columns</p>\n</div>"
     },
     "execution_count": 90,
     "metadata": {},
     "output_type": "execute_result"
    }
   ],
   "source": [
    "text"
   ],
   "metadata": {
    "collapsed": false,
    "ExecuteTime": {
     "end_time": "2024-04-05T15:47:27.747105Z",
     "start_time": "2024-04-05T15:47:27.715597Z"
    }
   },
   "execution_count": 90
  },
  {
   "cell_type": "code",
   "outputs": [],
   "source": [
    "conditions = [text['handling_information.complete_medium'].str.contains('NeuroCult'), \n",
    "              text['handling_information.complete_medium'].str.contains('Propagenix'), \n",
    "              text['handling_information.complete_medium'].str.contains('Renaissance'), \n",
    "              text['handling_information.complete_medium'].str.contains('theOrganoid Media Formulation #3'), text['handling_information.complete_medium'].str.contains('Lonza SmGM'), \n",
    "              text['handling_information.complete_medium'].str.contains('ATCC 30-2001'), \n",
    "              text['handling_information.complete_medium'].str.contains('AR5 Media with 5% FBS'),\n",
    "              text['handling_information.complete_medium'].str.contains('HCM-BROD-0051-C64'), \n",
    "              text['handling_information.complete_medium'].str.contains('Dulbecco'), \n",
    "              text['handling_information.complete_medium'].str.contains('theOrganoid Media Formulation #5')]\n",
    "\n",
    "\n",
    "replacements = ['Stem Cell Technologies - 5751', 'Propagenix 256-100', 'Cellaria Bio CM-0001', 'ATCC ACS-7101', 'Lonza CC-3182', 'ATCC 30-2001', 'Not provided', 'Propagenix 256-10', 'ATCC 30-2002', 'ATCC ACS-7104']\n",
    "\n",
    "\n",
    "growth_media = ['NeuroCult™ NS-A Proliferation Kit (Human)', 'Propagenix Conditioned Medium', 'Renaissance Essential Tumor Medium', 'Organoid Growth Kit 1B', 'SmGM - 2 Smooth Muscle Cell Growth Medium - 2 BulletKit', 'RPMI-1640 Medium', 'AR5 Media with 5% FBS', 'Propagenix Conditioned Medium', 'DMEM', 'Organoid Growth Kit 1E']\n",
    "\n",
    "supplements = ['NS-A Proliferation Supplement (StemCell Technologies #05754) + 20 ng/mL EGF (StemCell Technologies #78003.1) + 20 ng/mL bFGF (Peprotech #AF-100-15) + 2 µg/mL Heparin (StemCell Technologies #07980)',\n",
    "                 '9.0 ng/mL cholera toxin (Sigma Aldrich C8052)', \n",
    "                 '5% Fetal Bovine Serum (FBS; ATCC 30-2020) and 25 ng/mL Cholera Toxin (Sigma Aldrich cat# C8052)', \n",
    "                 'Not provided', \n",
    "                 'Not provided', \n",
    "                 'Fetal Bovine Serum (FBS; ATCC 30-2020)', \n",
    "                 'RPMI with L-Glutamine: 5% FBS, 1% HEPES (1 M), 2 mg/mL BSA, 500 µMm Sodium Pyruvate, 20 µg/mL Insulin, 10 µM Ethanolamine, 0.1 nM 3,3’,5-Triiodo-LThyronine (T3), 30 nM Sodium Selenite, 10 µg/mL Transferrin, 10 ng/mL EGF, 10 µM O-Phosphorylethanolamine (PHOS), 50 nM Hydrocortisone',\n",
    "                 '9.0 ng/mL cholera toxin',\n",
    "                 '10% Fetal Bovine Serum (FBS;ATCC 30-2020)',\n",
    "                 'Not provided']\n",
    "\n",
    "text['media_id'] = np.select(conditions, replacements, default='Not provided')\n",
    "text['growth_media'] = np.select(conditions, growth_media, default='Not provided')\n",
    "text['supplements'] = np.select(conditions, supplements, default='Not provided')\n",
    "text['growth_properties'] = text['characteristics.growth_properties']\n",
    "text['contaminated'] = np.where((text['quality_control_specifications.bacterial_and_fungal_testing'] == 'Not detected') & (text['quality_control_specifications.mycoplasma_contamination'] == 'Not detected'), 'Yes', 'No')\n",
    "\n",
    "text['contamination_details'] = np.where((text['quality_control_specifications.bacterial_and_fungal_testing'] == 'Not detected') & (text['quality_control_specifications.mycoplasma_contamination'] == 'Not detected'), 'No contamination detected', 'Not provided')\n",
    "\n",
    "text['model_purity'] = np.where(text['characteristics.metastatic'].fillna('Not provided') == 'Not provided', 'Not provided', 'Tumor cells')\n",
    "\n",
    "text['STR_analysis'] = np.where(text['quality_control_specifications.str_profiling'].fillna('Not provided') == 'Not provided', 'No', 'Yes')\n",
    "\n",
    "text['morphological_features'] = text['product_information.morphology'].fillna('Not provided')\n",
    "\n",
    "text['virology_status'] = np.where(text['quality_control_specifications.virus_testing'].str.lower().str.replace('detected', 'detected, ').str.replace('not detected', '').str.contains('detected'), 'Detected', 'Not detected')"
   ],
   "metadata": {
    "collapsed": false,
    "ExecuteTime": {
     "end_time": "2024-04-08T12:25:04.164329Z",
     "start_time": "2024-04-08T12:25:04.054604Z"
    }
   },
   "execution_count": 215
  },
  {
   "cell_type": "code",
   "outputs": [],
   "source": [],
   "metadata": {
    "collapsed": false
   },
   "execution_count": null
  },
  {
   "cell_type": "code",
   "outputs": [],
   "source": [
    "cell_sheet = read_metadata_without_fields(join(home, 'BROD', 'BROD_metadata-cell_model.tsv'))\n",
    "cell_template = read_metadata_with_fields(join(home, 'BROD', 'BROD_metadata-cell_model.tsv')).iloc[0:4]\n",
    "merged = cell_sheet.merge(text, left_on='catalog_number', right_on='atcc', how='left', suffixes=('_og', '_supplier'))\n",
    "merged['growth_properties'] = merged['growth_properties_supplier']\n",
    "merged['media_id'] = merged['media_id_supplier']\n",
    "merged['growth_media'] = merged['growth_media_supplier']\n",
    "merged['contaminated'] = merged['contaminated_supplier']\n",
    "merged['contamination_details'] = merged['contamination_details_supplier']\n",
    "merged['supplements'] = merged['supplements_supplier']\n",
    "pd.concat([cell_template, merged[cell_sheet.columns]]).reset_index(drop=True).to_csv(join(home, 'BROD', 'BROD_metadata-cell_model.tsv'), sep='\\t', index=False)"
   ],
   "metadata": {
    "collapsed": false,
    "ExecuteTime": {
     "end_time": "2024-04-08T12:25:52.946415Z",
     "start_time": "2024-04-08T12:25:52.812224Z"
    }
   },
   "execution_count": 216
  },
  {
   "cell_type": "code",
   "outputs": [
    {
     "data": {
      "text/plain": "Index(['model_id', 'model_name', 'model_name_aliases', 'type', 'parent_id',\n       'origin_patient_sample_id', 'growth_properties_og', 'media_id_og',\n       'growth_media_og', 'plate_coating', 'other_plate_coating',\n       'passage_number', 'contaminated_og', 'contamination_details_og',\n       'supplements_og', 'drug', 'drug_concentration', 'publications',\n       'supplier', 'supplier_type', 'catalog_number', 'vendor_link', 'rrid',\n       'external_ids', 'comments', 'atcc', 'url',\n       'product_information.product_category',\n       'product_information.product_type', 'product_information.organism',\n       'product_information.morphology', 'product_information.tissue',\n       'product_information.disease', 'product_information.applications',\n       'product_information.product_format',\n       'product_information.storage_conditions',\n       'general.specific_applications', 'characteristics.cells_per_vial',\n       'characteristics.volume', 'characteristics.growth_properties',\n       'characteristics.clinical_data', 'characteristics.comments',\n       'handling_information.unpacking_and_storage_instructions',\n       'handling_information.complete_medium',\n       'handling_information.temperature', 'handling_information.atmosphere',\n       'handling_information.handling_procedure',\n       'handling_information.subculturing_procedure',\n       'handling_information.reagents_for_cryopreservation',\n       'quality_control_specifications.bacterial_and_fungal_testing',\n       'quality_control_specifications.mycoplasma_contamination',\n       'quality_control_specifications.virus_testing',\n       'quality_control_specifications.str_profiling', 'history.depositors',\n       'history.year_of_origin', 'history.special_collection',\n       'legal_disclaimers.intended_use', 'legal_disclaimers.warranty',\n       'legal_disclaimers.disclaimers', 'characteristics.gender',\n       'characteristics.metastatic', 'handling_information.cryopreservation',\n       'characteristics.passage_history', 'media_id_supplier',\n       'growth_media_supplier', 'supplements_supplier',\n       'growth_properties_supplier', 'contaminated_supplier',\n       'contamination_details_supplier', 'model_purity', 'STR_analysis',\n       'morphological_features', 'virology_status'],\n      dtype='object')"
     },
     "execution_count": 222,
     "metadata": {},
     "output_type": "execute_result"
    }
   ],
   "source": [],
   "metadata": {
    "collapsed": false,
    "ExecuteTime": {
     "end_time": "2024-04-08T12:34:21.991237Z",
     "start_time": "2024-04-08T12:34:21.851154Z"
    }
   },
   "execution_count": 222
  },
  {
   "cell_type": "code",
   "outputs": [
    {
     "data": {
      "text/plain": "Index(['model_id', 'model_name', 'model_name_aliases', 'type', 'parent_id',\n       'origin_patient_sample_id', 'growth_properties', 'media_id',\n       'growth_media', 'plate_coating', 'other_plate_coating',\n       'passage_number', 'contaminated', 'contamination_details',\n       'supplements', 'drug', 'drug_concentration', 'publications', 'supplier',\n       'supplier_type', 'catalog_number', 'vendor_link', 'rrid',\n       'external_ids', 'comments'],\n      dtype='object')"
     },
     "execution_count": 221,
     "metadata": {},
     "output_type": "execute_result"
    }
   ],
   "source": [
    "cell_sheet.columns"
   ],
   "metadata": {
    "collapsed": false,
    "ExecuteTime": {
     "end_time": "2024-04-08T12:34:01.851274Z",
     "start_time": "2024-04-08T12:34:01.743187Z"
    }
   },
   "execution_count": 221
  },
  {
   "cell_type": "code",
   "outputs": [
    {
     "data": {
      "text/plain": "              model_id         model_name model_name_aliases  \\\n0    HCM-BROD-0011-C71  HCM-BROD-0011-C71       Not provided   \n1    HCM-BROD-0003-C71  HCM-BROD-0003-C71       Not provided   \n2    HCM-BROD-0012-C71  HCM-BROD-0012-C71       Not provided   \n3    HCM-BROD-0047-C71  HCM-BROD-0047-C71       Not provided   \n4    HCM-BROD-0029-C71  HCM-BROD-0029-C71       Not provided   \n..                 ...                ...                ...   \n226  HCM-BROD-0230-C25  HCM-BROD-0230-C25       Not provided   \n227  HCM-BROD-0019-C25  HCM-BROD-0019-C25       Not provided   \n228  HCM-BROD-0204-C25  HCM-BROD-0204-C25       Not provided   \n229  HCM-BROD-0594-C43  HCM-BROD-0594-C43       Not provided   \n230  HCM-BROD-0111-C25  HCM-BROD-0111-C25       Not provided   \n\n                                                  type parent_id  \\\n0    3-D: Other (e.g. neurosphere, air-liquid inter...       NaN   \n1                                            Cell Line       NaN   \n2                                            Cell Line       NaN   \n3                                            Cell Line       NaN   \n4    3-D: Other (e.g. neurosphere, air-liquid inter...       NaN   \n..                                                 ...       ...   \n226                                      3-D: Organoid       NaN   \n227                                      3-D: Organoid       NaN   \n228                                      3-D: Organoid       NaN   \n229                                          Cell Line       NaN   \n230                                      3-D: Organoid       NaN   \n\n    origin_patient_sample_id                growth_properties  \\\n0                        NaN  Mixed: suspension and aggregate   \n1                        NaN                         Adherent   \n2                        NaN                         Adherent   \n3                        NaN                         Adherent   \n4                        NaN  Mixed: suspension and aggregate   \n..                       ...                              ...   \n226                      NaN              Embedded 3D culture   \n227                      NaN              Embedded 3D culture   \n228                      NaN              Embedded 3D culture   \n229                      NaN                         Adherent   \n230                      NaN              Embedded 3D culture   \n\n                          media_id                               growth_media  \\\n0    Stem Cell Technologies - 5751  NeuroCult™ NS-A Proliferation Kit (Human)   \n1               Propagenix 256-100              Propagenix Conditioned Medium   \n2    Stem Cell Technologies - 5751  NeuroCult™ NS-A Proliferation Kit (Human)   \n3             Cellaria Bio CM-0001         Renaissance Essential Tumor Medium   \n4    Stem Cell Technologies - 5751  NeuroCult™ NS-A Proliferation Kit (Human)   \n..                             ...                                        ...   \n226                  ATCC ACS-7101                     Organoid Growth Kit 1B   \n227                  ATCC ACS-7101                     Organoid Growth Kit 1B   \n228                  ATCC ACS-7101                     Organoid Growth Kit 1B   \n229             Propagenix 256-100              Propagenix Conditioned Medium   \n230                  ATCC ACS-7101                     Organoid Growth Kit 1B   \n\n    plate_coating  ...          drug drug_concentration publications supplier  \\\n0    Not provided  ...  Not provided       Not provided          NaN     ATCC   \n1    Not provided  ...  Not provided       Not provided          NaN     ATCC   \n2    Not provided  ...  Not provided       Not provided          NaN     ATCC   \n3    Not provided  ...  Not provided       Not provided          NaN     ATCC   \n4    Not provided  ...  Not provided       Not provided          NaN     ATCC   \n..            ...  ...           ...                ...          ...      ...   \n226  Not provided  ...  Not provided       Not provided          NaN     ATCC   \n227  Not provided  ...  Not provided       Not provided          NaN     ATCC   \n228  Not provided  ...  Not provided       Not provided          NaN     ATCC   \n229  Not provided  ...  Not provided       Not provided          NaN     ATCC   \n230  Not provided  ...  Not provided       Not provided          NaN     ATCC   \n\n    supplier_type catalog_number                            vendor_link  \\\n0      Commercial         PDM-18   https://www.atcc.org/products/PDM-18   \n1      Commercial         PDM-17   https://www.atcc.org/products/PDM-17   \n2      Commercial         PDM-19   https://www.atcc.org/products/PDM-19   \n3      Commercial         PDM-23   https://www.atcc.org/products/PDM-23   \n4      Commercial         PDM-22   https://www.atcc.org/products/PDM-22   \n..            ...            ...                                    ...   \n226    Commercial        PDM-171  https://www.atcc.org/products/PDM-171   \n227    Commercial        PDM-166  https://www.atcc.org/products/PDM-166   \n228    Commercial        PDM-173  https://www.atcc.org/products/PDM-173   \n229    Commercial        PDM-495  https://www.atcc.org/products/PDM-495   \n230    Commercial        PDM-165  https://www.atcc.org/products/PDM-165   \n\n             rrid external_ids      comments  \n0    Not provided          NaN  Not provided  \n1    Not provided          NaN  Not provided  \n2    Not provided          NaN  Not provided  \n3    Not provided          NaN  Not provided  \n4    Not provided          NaN  Not provided  \n..            ...          ...           ...  \n226  Not provided          NaN  Not provided  \n227  Not provided          NaN  Not provided  \n228  Not provided          NaN  Not provided  \n229  Not provided          NaN  Not provided  \n230  Not provided          NaN  Not provided  \n\n[231 rows x 25 columns]",
      "text/html": "<div>\n<style scoped>\n    .dataframe tbody tr th:only-of-type {\n        vertical-align: middle;\n    }\n\n    .dataframe tbody tr th {\n        vertical-align: top;\n    }\n\n    .dataframe thead th {\n        text-align: right;\n    }\n</style>\n<table border=\"1\" class=\"dataframe\">\n  <thead>\n    <tr style=\"text-align: right;\">\n      <th></th>\n      <th>model_id</th>\n      <th>model_name</th>\n      <th>model_name_aliases</th>\n      <th>type</th>\n      <th>parent_id</th>\n      <th>origin_patient_sample_id</th>\n      <th>growth_properties</th>\n      <th>media_id</th>\n      <th>growth_media</th>\n      <th>plate_coating</th>\n      <th>...</th>\n      <th>drug</th>\n      <th>drug_concentration</th>\n      <th>publications</th>\n      <th>supplier</th>\n      <th>supplier_type</th>\n      <th>catalog_number</th>\n      <th>vendor_link</th>\n      <th>rrid</th>\n      <th>external_ids</th>\n      <th>comments</th>\n    </tr>\n  </thead>\n  <tbody>\n    <tr>\n      <th>0</th>\n      <td>HCM-BROD-0011-C71</td>\n      <td>HCM-BROD-0011-C71</td>\n      <td>Not provided</td>\n      <td>3-D: Other (e.g. neurosphere, air-liquid inter...</td>\n      <td>NaN</td>\n      <td>NaN</td>\n      <td>Mixed: suspension and aggregate</td>\n      <td>Stem Cell Technologies - 5751</td>\n      <td>NeuroCult™ NS-A Proliferation Kit (Human)</td>\n      <td>Not provided</td>\n      <td>...</td>\n      <td>Not provided</td>\n      <td>Not provided</td>\n      <td>NaN</td>\n      <td>ATCC</td>\n      <td>Commercial</td>\n      <td>PDM-18</td>\n      <td>https://www.atcc.org/products/PDM-18</td>\n      <td>Not provided</td>\n      <td>NaN</td>\n      <td>Not provided</td>\n    </tr>\n    <tr>\n      <th>1</th>\n      <td>HCM-BROD-0003-C71</td>\n      <td>HCM-BROD-0003-C71</td>\n      <td>Not provided</td>\n      <td>Cell Line</td>\n      <td>NaN</td>\n      <td>NaN</td>\n      <td>Adherent</td>\n      <td>Propagenix 256-100</td>\n      <td>Propagenix Conditioned Medium</td>\n      <td>Not provided</td>\n      <td>...</td>\n      <td>Not provided</td>\n      <td>Not provided</td>\n      <td>NaN</td>\n      <td>ATCC</td>\n      <td>Commercial</td>\n      <td>PDM-17</td>\n      <td>https://www.atcc.org/products/PDM-17</td>\n      <td>Not provided</td>\n      <td>NaN</td>\n      <td>Not provided</td>\n    </tr>\n    <tr>\n      <th>2</th>\n      <td>HCM-BROD-0012-C71</td>\n      <td>HCM-BROD-0012-C71</td>\n      <td>Not provided</td>\n      <td>Cell Line</td>\n      <td>NaN</td>\n      <td>NaN</td>\n      <td>Adherent</td>\n      <td>Stem Cell Technologies - 5751</td>\n      <td>NeuroCult™ NS-A Proliferation Kit (Human)</td>\n      <td>Not provided</td>\n      <td>...</td>\n      <td>Not provided</td>\n      <td>Not provided</td>\n      <td>NaN</td>\n      <td>ATCC</td>\n      <td>Commercial</td>\n      <td>PDM-19</td>\n      <td>https://www.atcc.org/products/PDM-19</td>\n      <td>Not provided</td>\n      <td>NaN</td>\n      <td>Not provided</td>\n    </tr>\n    <tr>\n      <th>3</th>\n      <td>HCM-BROD-0047-C71</td>\n      <td>HCM-BROD-0047-C71</td>\n      <td>Not provided</td>\n      <td>Cell Line</td>\n      <td>NaN</td>\n      <td>NaN</td>\n      <td>Adherent</td>\n      <td>Cellaria Bio CM-0001</td>\n      <td>Renaissance Essential Tumor Medium</td>\n      <td>Not provided</td>\n      <td>...</td>\n      <td>Not provided</td>\n      <td>Not provided</td>\n      <td>NaN</td>\n      <td>ATCC</td>\n      <td>Commercial</td>\n      <td>PDM-23</td>\n      <td>https://www.atcc.org/products/PDM-23</td>\n      <td>Not provided</td>\n      <td>NaN</td>\n      <td>Not provided</td>\n    </tr>\n    <tr>\n      <th>4</th>\n      <td>HCM-BROD-0029-C71</td>\n      <td>HCM-BROD-0029-C71</td>\n      <td>Not provided</td>\n      <td>3-D: Other (e.g. neurosphere, air-liquid inter...</td>\n      <td>NaN</td>\n      <td>NaN</td>\n      <td>Mixed: suspension and aggregate</td>\n      <td>Stem Cell Technologies - 5751</td>\n      <td>NeuroCult™ NS-A Proliferation Kit (Human)</td>\n      <td>Not provided</td>\n      <td>...</td>\n      <td>Not provided</td>\n      <td>Not provided</td>\n      <td>NaN</td>\n      <td>ATCC</td>\n      <td>Commercial</td>\n      <td>PDM-22</td>\n      <td>https://www.atcc.org/products/PDM-22</td>\n      <td>Not provided</td>\n      <td>NaN</td>\n      <td>Not provided</td>\n    </tr>\n    <tr>\n      <th>...</th>\n      <td>...</td>\n      <td>...</td>\n      <td>...</td>\n      <td>...</td>\n      <td>...</td>\n      <td>...</td>\n      <td>...</td>\n      <td>...</td>\n      <td>...</td>\n      <td>...</td>\n      <td>...</td>\n      <td>...</td>\n      <td>...</td>\n      <td>...</td>\n      <td>...</td>\n      <td>...</td>\n      <td>...</td>\n      <td>...</td>\n      <td>...</td>\n      <td>...</td>\n      <td>...</td>\n    </tr>\n    <tr>\n      <th>226</th>\n      <td>HCM-BROD-0230-C25</td>\n      <td>HCM-BROD-0230-C25</td>\n      <td>Not provided</td>\n      <td>3-D: Organoid</td>\n      <td>NaN</td>\n      <td>NaN</td>\n      <td>Embedded 3D culture</td>\n      <td>ATCC ACS-7101</td>\n      <td>Organoid Growth Kit 1B</td>\n      <td>Not provided</td>\n      <td>...</td>\n      <td>Not provided</td>\n      <td>Not provided</td>\n      <td>NaN</td>\n      <td>ATCC</td>\n      <td>Commercial</td>\n      <td>PDM-171</td>\n      <td>https://www.atcc.org/products/PDM-171</td>\n      <td>Not provided</td>\n      <td>NaN</td>\n      <td>Not provided</td>\n    </tr>\n    <tr>\n      <th>227</th>\n      <td>HCM-BROD-0019-C25</td>\n      <td>HCM-BROD-0019-C25</td>\n      <td>Not provided</td>\n      <td>3-D: Organoid</td>\n      <td>NaN</td>\n      <td>NaN</td>\n      <td>Embedded 3D culture</td>\n      <td>ATCC ACS-7101</td>\n      <td>Organoid Growth Kit 1B</td>\n      <td>Not provided</td>\n      <td>...</td>\n      <td>Not provided</td>\n      <td>Not provided</td>\n      <td>NaN</td>\n      <td>ATCC</td>\n      <td>Commercial</td>\n      <td>PDM-166</td>\n      <td>https://www.atcc.org/products/PDM-166</td>\n      <td>Not provided</td>\n      <td>NaN</td>\n      <td>Not provided</td>\n    </tr>\n    <tr>\n      <th>228</th>\n      <td>HCM-BROD-0204-C25</td>\n      <td>HCM-BROD-0204-C25</td>\n      <td>Not provided</td>\n      <td>3-D: Organoid</td>\n      <td>NaN</td>\n      <td>NaN</td>\n      <td>Embedded 3D culture</td>\n      <td>ATCC ACS-7101</td>\n      <td>Organoid Growth Kit 1B</td>\n      <td>Not provided</td>\n      <td>...</td>\n      <td>Not provided</td>\n      <td>Not provided</td>\n      <td>NaN</td>\n      <td>ATCC</td>\n      <td>Commercial</td>\n      <td>PDM-173</td>\n      <td>https://www.atcc.org/products/PDM-173</td>\n      <td>Not provided</td>\n      <td>NaN</td>\n      <td>Not provided</td>\n    </tr>\n    <tr>\n      <th>229</th>\n      <td>HCM-BROD-0594-C43</td>\n      <td>HCM-BROD-0594-C43</td>\n      <td>Not provided</td>\n      <td>Cell Line</td>\n      <td>NaN</td>\n      <td>NaN</td>\n      <td>Adherent</td>\n      <td>Propagenix 256-100</td>\n      <td>Propagenix Conditioned Medium</td>\n      <td>Not provided</td>\n      <td>...</td>\n      <td>Not provided</td>\n      <td>Not provided</td>\n      <td>NaN</td>\n      <td>ATCC</td>\n      <td>Commercial</td>\n      <td>PDM-495</td>\n      <td>https://www.atcc.org/products/PDM-495</td>\n      <td>Not provided</td>\n      <td>NaN</td>\n      <td>Not provided</td>\n    </tr>\n    <tr>\n      <th>230</th>\n      <td>HCM-BROD-0111-C25</td>\n      <td>HCM-BROD-0111-C25</td>\n      <td>Not provided</td>\n      <td>3-D: Organoid</td>\n      <td>NaN</td>\n      <td>NaN</td>\n      <td>Embedded 3D culture</td>\n      <td>ATCC ACS-7101</td>\n      <td>Organoid Growth Kit 1B</td>\n      <td>Not provided</td>\n      <td>...</td>\n      <td>Not provided</td>\n      <td>Not provided</td>\n      <td>NaN</td>\n      <td>ATCC</td>\n      <td>Commercial</td>\n      <td>PDM-165</td>\n      <td>https://www.atcc.org/products/PDM-165</td>\n      <td>Not provided</td>\n      <td>NaN</td>\n      <td>Not provided</td>\n    </tr>\n  </tbody>\n</table>\n<p>231 rows × 25 columns</p>\n</div>"
     },
     "execution_count": 224,
     "metadata": {},
     "output_type": "execute_result"
    }
   ],
   "source": [],
   "metadata": {
    "collapsed": false,
    "ExecuteTime": {
     "end_time": "2024-04-08T12:36:45.402480Z",
     "start_time": "2024-04-08T12:36:45.229387Z"
    }
   },
   "execution_count": 224
  },
  {
   "cell_type": "code",
   "outputs": [],
   "source": [],
   "metadata": {
    "collapsed": false,
    "ExecuteTime": {
     "end_time": "2024-04-08T12:38:28.915454Z",
     "start_time": "2024-04-08T12:38:28.747755Z"
    }
   },
   "execution_count": 226
  },
  {
   "cell_type": "code",
   "outputs": [],
   "source": [
    "mv_sheet = read_metadata_without_fields(join(home, 'BROD', 'BROD_metadata-model_validation.tsv'))\n",
    "mv_template = read_metadata_with_fields(join(home, 'BROD', 'BROD_metadata-model_validation.tsv')).iloc[0:4]\n",
    "x = merged[['model_id', 'morphological_features', 'STR_analysis', 'model_purity']]\n",
    "mv_sheet['model_id'] = merged['model_id']\n",
    "mv_sheet = mv_sheet.fillna('Not provided')\n",
    "mv_sheet['morphological_features'] = merged['morphological_features']\n",
    "mv_sheet['STR_analysis'] = merged['STR_analysis']\n",
    "mv_sheet['model_purity'] = merged['model_purity']\n",
    "pd.concat([mv_template, mv_sheet[mv_sheet.columns]]).reset_index(drop=True).to_csv(join(home, 'BROD', 'BROD_metadata-model_validation.tsv'), sep='\\t', index=False)"
   ],
   "metadata": {
    "collapsed": false,
    "ExecuteTime": {
     "end_time": "2024-04-08T12:57:15.735349Z",
     "start_time": "2024-04-08T12:57:15.614636Z"
    }
   },
   "execution_count": 227
  },
  {
   "cell_type": "code",
   "outputs": [],
   "source": [
    "patient_sheet = read_metadata_without_fields(join(home, 'BROD', 'BROD_metadata-patient.tsv'))\n",
    "patient_template = read_metadata_with_fields(join(home, 'BROD', 'BROD_metadata-patient.tsv')).iloc[0:4]\n",
    "patient_sheet['age_category'] = ['Adult' if int(r) > 21 else 'Paediatric' for r in patient_sheet['age_at_initial_diagnosis']]\n",
    "pd.concat([patient_template, patient_sheet[patient_sheet.columns]]).reset_index(drop=True).to_csv(join(home, 'BROD', 'BROD_metadata-patient.tsv'), sep='\\t', index=False)"
   ],
   "metadata": {
    "collapsed": false,
    "ExecuteTime": {
     "end_time": "2024-04-08T14:17:06.909909Z",
     "start_time": "2024-04-08T14:17:06.824992Z"
    }
   },
   "execution_count": 252
  },
  {
   "cell_type": "code",
   "outputs": [],
   "source": [
    "ps_sheet = read_metadata_without_fields(join(home, 'BROD', 'BROD_metadata-patient_sample.tsv'))\n",
    "ps_template = read_metadata_with_fields(join(home, 'BROD', 'BROD_metadata-patient_sample.tsv')).iloc[0:4]\n",
    "ps_sheet['virology_status'] = 'Not detected'\n",
    "pd.concat([ps_template, ps_sheet[ps_sheet.columns]]).reset_index(drop=True).to_csv(join(home, 'BROD', 'BROD_metadata-patient_sample.tsv'), sep='\\t', index=False)"
   ],
   "metadata": {
    "collapsed": false,
    "ExecuteTime": {
     "end_time": "2024-04-08T14:22:01.067377Z",
     "start_time": "2024-04-08T14:22:00.967018Z"
    }
   },
   "execution_count": 262
  },
  {
   "cell_type": "code",
   "outputs": [
    {
     "data": {
      "text/plain": "Index(['model_id', 'model_name', 'model_name_aliases', 'type', 'parent_id',\n       'origin_patient_sample_id', 'growth_properties_og', 'media_id_og',\n       'growth_media_og', 'plate_coating', 'other_plate_coating',\n       'passage_number', 'contaminated_og', 'contamination_details_og',\n       'supplements_og', 'drug', 'drug_concentration', 'publications',\n       'supplier', 'supplier_type', 'catalog_number', 'vendor_link', 'rrid',\n       'external_ids', 'comments', 'atcc', 'url',\n       'product_information.product_category',\n       'product_information.product_type', 'product_information.organism',\n       'product_information.morphology', 'product_information.tissue',\n       'product_information.disease', 'product_information.applications',\n       'product_information.product_format',\n       'product_information.storage_conditions',\n       'general.specific_applications', 'characteristics.cells_per_vial',\n       'characteristics.volume', 'characteristics.growth_properties',\n       'characteristics.clinical_data', 'characteristics.comments',\n       'handling_information.unpacking_and_storage_instructions',\n       'handling_information.complete_medium',\n       'handling_information.temperature', 'handling_information.atmosphere',\n       'handling_information.handling_procedure',\n       'handling_information.subculturing_procedure',\n       'handling_information.reagents_for_cryopreservation',\n       'quality_control_specifications.bacterial_and_fungal_testing',\n       'quality_control_specifications.mycoplasma_contamination',\n       'quality_control_specifications.virus_testing',\n       'quality_control_specifications.str_profiling', 'history.depositors',\n       'history.year_of_origin', 'history.special_collection',\n       'legal_disclaimers.intended_use', 'legal_disclaimers.warranty',\n       'legal_disclaimers.disclaimers', 'characteristics.gender',\n       'characteristics.metastatic', 'handling_information.cryopreservation',\n       'characteristics.passage_history', 'media_id_supplier',\n       'growth_media_supplier', 'supplements_supplier',\n       'growth_properties_supplier', 'contaminated_supplier',\n       'contamination_details_supplier', 'model_purity', 'STR_analysis',\n       'morphological_features', 'virology_status', 'growth_properties',\n       'media_id', 'growth_media', 'contaminated', 'contamination_details',\n       'supplements'],\n      dtype='object')"
     },
     "execution_count": 260,
     "metadata": {},
     "output_type": "execute_result"
    }
   ],
   "source": [
    "merged.columns"
   ],
   "metadata": {
    "collapsed": false,
    "ExecuteTime": {
     "end_time": "2024-04-08T14:20:45.194259Z",
     "start_time": "2024-04-08T14:20:45.122477Z"
    }
   },
   "execution_count": 260
  },
  {
   "cell_type": "code",
   "outputs": [
    {
     "data": {
      "text/plain": "              model_id virology_status\n0    HCM-BROD-0011-C71    Not detected\n1    HCM-BROD-0003-C71    Not detected\n2    HCM-BROD-0012-C71    Not detected\n3    HCM-BROD-0047-C71    Not detected\n4    HCM-BROD-0029-C71    Not detected\n..                 ...             ...\n226  HCM-BROD-0230-C25    Not detected\n227  HCM-BROD-0019-C25    Not detected\n228  HCM-BROD-0204-C25    Not detected\n229  HCM-BROD-0594-C43    Not detected\n230  HCM-BROD-0111-C25    Not detected\n\n[231 rows x 2 columns]",
      "text/html": "<div>\n<style scoped>\n    .dataframe tbody tr th:only-of-type {\n        vertical-align: middle;\n    }\n\n    .dataframe tbody tr th {\n        vertical-align: top;\n    }\n\n    .dataframe thead th {\n        text-align: right;\n    }\n</style>\n<table border=\"1\" class=\"dataframe\">\n  <thead>\n    <tr style=\"text-align: right;\">\n      <th></th>\n      <th>model_id</th>\n      <th>virology_status</th>\n    </tr>\n  </thead>\n  <tbody>\n    <tr>\n      <th>0</th>\n      <td>HCM-BROD-0011-C71</td>\n      <td>Not detected</td>\n    </tr>\n    <tr>\n      <th>1</th>\n      <td>HCM-BROD-0003-C71</td>\n      <td>Not detected</td>\n    </tr>\n    <tr>\n      <th>2</th>\n      <td>HCM-BROD-0012-C71</td>\n      <td>Not detected</td>\n    </tr>\n    <tr>\n      <th>3</th>\n      <td>HCM-BROD-0047-C71</td>\n      <td>Not detected</td>\n    </tr>\n    <tr>\n      <th>4</th>\n      <td>HCM-BROD-0029-C71</td>\n      <td>Not detected</td>\n    </tr>\n    <tr>\n      <th>...</th>\n      <td>...</td>\n      <td>...</td>\n    </tr>\n    <tr>\n      <th>226</th>\n      <td>HCM-BROD-0230-C25</td>\n      <td>Not detected</td>\n    </tr>\n    <tr>\n      <th>227</th>\n      <td>HCM-BROD-0019-C25</td>\n      <td>Not detected</td>\n    </tr>\n    <tr>\n      <th>228</th>\n      <td>HCM-BROD-0204-C25</td>\n      <td>Not detected</td>\n    </tr>\n    <tr>\n      <th>229</th>\n      <td>HCM-BROD-0594-C43</td>\n      <td>Not detected</td>\n    </tr>\n    <tr>\n      <th>230</th>\n      <td>HCM-BROD-0111-C25</td>\n      <td>Not detected</td>\n    </tr>\n  </tbody>\n</table>\n<p>231 rows × 2 columns</p>\n</div>"
     },
     "execution_count": 261,
     "metadata": {},
     "output_type": "execute_result"
    }
   ],
   "source": [
    "merged[['model_id', 'virology_status']]"
   ],
   "metadata": {
    "collapsed": false,
    "ExecuteTime": {
     "end_time": "2024-04-08T14:21:16.788264Z",
     "start_time": "2024-04-08T14:21:16.700017Z"
    }
   },
   "execution_count": 261
  },
  {
   "cell_type": "code",
   "outputs": [
    {
     "ename": "IndexError",
     "evalue": "list index out of range",
     "output_type": "error",
     "traceback": [
      "\u001B[0;31m---------------------------------------------------------------------------\u001B[0m",
      "\u001B[0;31mIndexError\u001B[0m                                Traceback (most recent call last)",
      "Cell \u001B[0;32mIn[266], line 1\u001B[0m\n\u001B[0;32m----> 1\u001B[0m cshl_atcc \u001B[38;5;241m=\u001B[39m \u001B[43mfetch_from_atcc\u001B[49m\u001B[43m(\u001B[49m\u001B[43mread_metadata_without_fields\u001B[49m\u001B[43m(\u001B[49m\u001B[43mjoin\u001B[49m\u001B[43m(\u001B[49m\u001B[43mhome\u001B[49m\u001B[43m,\u001B[49m\u001B[43m \u001B[49m\u001B[38;5;124;43m'\u001B[39;49m\u001B[38;5;124;43mCSHL\u001B[39;49m\u001B[38;5;124;43m'\u001B[39;49m\u001B[43m,\u001B[49m\u001B[43m \u001B[49m\u001B[38;5;124;43m'\u001B[39;49m\u001B[38;5;124;43mCSHL_metadata-cell_model.tsv\u001B[39;49m\u001B[38;5;124;43m'\u001B[39;49m\u001B[43m)\u001B[49m\u001B[43m)\u001B[49m\u001B[43m)\u001B[49m\n",
      "Cell \u001B[0;32mIn[263], line 41\u001B[0m, in \u001B[0;36mfetch_from_atcc\u001B[0;34m(in_vitro_models)\u001B[0m\n\u001B[1;32m     39\u001B[0m dt_elements \u001B[38;5;241m=\u001B[39m soup\u001B[38;5;241m.\u001B[39mfind_all(\u001B[38;5;124m'\u001B[39m\u001B[38;5;124mdt\u001B[39m\u001B[38;5;124m'\u001B[39m, class_\u001B[38;5;241m=\u001B[39m\u001B[38;5;124m'\u001B[39m\u001B[38;5;124mproduct-information__title\u001B[39m\u001B[38;5;124m'\u001B[39m)\n\u001B[1;32m     40\u001B[0m dd_elements \u001B[38;5;241m=\u001B[39m soup\u001B[38;5;241m.\u001B[39mfind_all(\u001B[38;5;124m'\u001B[39m\u001B[38;5;124mdd\u001B[39m\u001B[38;5;124m'\u001B[39m, class_\u001B[38;5;241m=\u001B[39m\u001B[38;5;124m'\u001B[39m\u001B[38;5;124mproduct-information__data\u001B[39m\u001B[38;5;124m'\u001B[39m)\n\u001B[0;32m---> 41\u001B[0m dt_values \u001B[38;5;241m=\u001B[39m [headers[i]\u001B[38;5;241m.\u001B[39mreplace(\u001B[38;5;124m'\u001B[39m\u001B[38;5;124m \u001B[39m\u001B[38;5;124m'\u001B[39m, \u001B[38;5;124m'\u001B[39m\u001B[38;5;124m_\u001B[39m\u001B[38;5;124m'\u001B[39m)\u001B[38;5;241m.\u001B[39mlower()\u001B[38;5;241m+\u001B[39m\u001B[38;5;124m'\u001B[39m\u001B[38;5;124m.\u001B[39m\u001B[38;5;124m'\u001B[39m\u001B[38;5;241m+\u001B[39mdt\u001B[38;5;241m.\u001B[39mget_text(strip\u001B[38;5;241m=\u001B[39m\u001B[38;5;28;01mTrue\u001B[39;00m)\u001B[38;5;241m.\u001B[39mreplace(\u001B[38;5;124m'\u001B[39m\u001B[38;5;124m \u001B[39m\u001B[38;5;124m'\u001B[39m, \u001B[38;5;124m'\u001B[39m\u001B[38;5;124m_\u001B[39m\u001B[38;5;124m'\u001B[39m)\u001B[38;5;241m.\u001B[39mlower() \u001B[38;5;28;01mfor\u001B[39;00m dt \u001B[38;5;129;01min\u001B[39;00m dt_elements]\n\u001B[1;32m     42\u001B[0m i \u001B[38;5;241m=\u001B[39m i\u001B[38;5;241m+\u001B[39m\u001B[38;5;241m1\u001B[39m\n\u001B[1;32m     43\u001B[0m dd_values \u001B[38;5;241m=\u001B[39m [dd\u001B[38;5;241m.\u001B[39mget_text(strip\u001B[38;5;241m=\u001B[39m\u001B[38;5;28;01mTrue\u001B[39;00m) \u001B[38;5;28;01mfor\u001B[39;00m dd \u001B[38;5;129;01min\u001B[39;00m dd_elements]\n",
      "Cell \u001B[0;32mIn[263], line 41\u001B[0m, in \u001B[0;36m<listcomp>\u001B[0;34m(.0)\u001B[0m\n\u001B[1;32m     39\u001B[0m dt_elements \u001B[38;5;241m=\u001B[39m soup\u001B[38;5;241m.\u001B[39mfind_all(\u001B[38;5;124m'\u001B[39m\u001B[38;5;124mdt\u001B[39m\u001B[38;5;124m'\u001B[39m, class_\u001B[38;5;241m=\u001B[39m\u001B[38;5;124m'\u001B[39m\u001B[38;5;124mproduct-information__title\u001B[39m\u001B[38;5;124m'\u001B[39m)\n\u001B[1;32m     40\u001B[0m dd_elements \u001B[38;5;241m=\u001B[39m soup\u001B[38;5;241m.\u001B[39mfind_all(\u001B[38;5;124m'\u001B[39m\u001B[38;5;124mdd\u001B[39m\u001B[38;5;124m'\u001B[39m, class_\u001B[38;5;241m=\u001B[39m\u001B[38;5;124m'\u001B[39m\u001B[38;5;124mproduct-information__data\u001B[39m\u001B[38;5;124m'\u001B[39m)\n\u001B[0;32m---> 41\u001B[0m dt_values \u001B[38;5;241m=\u001B[39m [\u001B[43mheaders\u001B[49m\u001B[43m[\u001B[49m\u001B[43mi\u001B[49m\u001B[43m]\u001B[49m\u001B[38;5;241m.\u001B[39mreplace(\u001B[38;5;124m'\u001B[39m\u001B[38;5;124m \u001B[39m\u001B[38;5;124m'\u001B[39m, \u001B[38;5;124m'\u001B[39m\u001B[38;5;124m_\u001B[39m\u001B[38;5;124m'\u001B[39m)\u001B[38;5;241m.\u001B[39mlower()\u001B[38;5;241m+\u001B[39m\u001B[38;5;124m'\u001B[39m\u001B[38;5;124m.\u001B[39m\u001B[38;5;124m'\u001B[39m\u001B[38;5;241m+\u001B[39mdt\u001B[38;5;241m.\u001B[39mget_text(strip\u001B[38;5;241m=\u001B[39m\u001B[38;5;28;01mTrue\u001B[39;00m)\u001B[38;5;241m.\u001B[39mreplace(\u001B[38;5;124m'\u001B[39m\u001B[38;5;124m \u001B[39m\u001B[38;5;124m'\u001B[39m, \u001B[38;5;124m'\u001B[39m\u001B[38;5;124m_\u001B[39m\u001B[38;5;124m'\u001B[39m)\u001B[38;5;241m.\u001B[39mlower() \u001B[38;5;28;01mfor\u001B[39;00m dt \u001B[38;5;129;01min\u001B[39;00m dt_elements]\n\u001B[1;32m     42\u001B[0m i \u001B[38;5;241m=\u001B[39m i\u001B[38;5;241m+\u001B[39m\u001B[38;5;241m1\u001B[39m\n\u001B[1;32m     43\u001B[0m dd_values \u001B[38;5;241m=\u001B[39m [dd\u001B[38;5;241m.\u001B[39mget_text(strip\u001B[38;5;241m=\u001B[39m\u001B[38;5;28;01mTrue\u001B[39;00m) \u001B[38;5;28;01mfor\u001B[39;00m dd \u001B[38;5;129;01min\u001B[39;00m dd_elements]\n",
      "\u001B[0;31mIndexError\u001B[0m: list index out of range"
     ]
    }
   ],
   "source": [
    "cshl_atcc = fetch_from_atcc(read_metadata_without_fields(join(home, 'CSHL', 'CSHL_metadata-cell_model.tsv')))"
   ],
   "metadata": {
    "collapsed": false,
    "ExecuteTime": {
     "end_time": "2024-04-09T08:57:49.726809Z",
     "start_time": "2024-04-09T08:47:26.269739Z"
    }
   },
   "execution_count": 266
  },
  {
   "cell_type": "code",
   "outputs": [],
   "source": [
    "in_vitro_models = read_metadata_without_fields(join(home, 'CSHL', 'CSHL_metadata-cell_model.tsv'))"
   ],
   "metadata": {
    "collapsed": false,
    "ExecuteTime": {
     "end_time": "2024-04-09T08:59:39.309074Z",
     "start_time": "2024-04-09T08:59:39.176887Z"
    }
   },
   "execution_count": 267
  },
  {
   "cell_type": "code",
   "outputs": [],
   "source": [
    "chrome_options = webdriver.ChromeOptions()\n",
    "chrome_options.add_argument(\"--headless\")  # Run Chrome in headless mode if desired\n",
    "chrome_options.add_argument('--no-sandbox')\n",
    "chrome_options.add_argument('--disable-dev-shm-usage')\n",
    "driver = webdriver.Chrome(service=Service(ChromeDriverManager().install()), options=chrome_options)\n",
    "first = True\n",
    "text = pd.DataFrame()\n",
    "#attributes = list()\n",
    "for url in in_vitro_models['vendor_link'].str.lower():\n",
    "    if url == 'not provided':\n",
    "        continue\n",
    "    driver.get(url)\n",
    "    if first:\n",
    "        WebDriverWait(driver, 10).until(EC.presence_of_element_located((By.XPATH, \"//a[text()='Allow all cookies']\"))).click()\n",
    "        first = False\n",
    "    #print('Expand')\n",
    "    sleep(2)\n",
    "    WebDriverWait(driver, 30).until(EC.presence_of_element_located((By.XPATH, \"//a[contains(text(), 'Expand all')]\"))).click()\n",
    "    headers = list()\n",
    "    h3 = driver.find_elements(By.XPATH, \"//h3\")\n",
    "    append_it = False\n",
    "    for h in h3:\n",
    "        if len(headers) == 0:\n",
    "            headers.append('Product Information')\n",
    "        if h.text == \"General\" or h.text == 'Characteristics' or append_it:\n",
    "            headers.append(h.text)\n",
    "            append_it = True\n",
    "        if h.text == \"Legal disclaimers\":\n",
    "            append_it = False\n",
    "\n",
    "    dls = driver.find_elements(By.XPATH, \"//dl\")\n",
    "    i = 0\n",
    "    df = pd.DataFrame()\n",
    "    df['atcc'] = [url.replace('https://www.atcc.org/products/', '').upper()]\n",
    "    df['url'] = url\n",
    "    for dl in dls:\n",
    "        soup = BeautifulSoup(dl.get_attribute(\"outerHTML\"), 'html.parser')\n",
    "        dt_elements = soup.find_all('dt', class_='product-information__title')\n",
    "        dd_elements = soup.find_all('dd', class_='product-information__data')\n",
    "        dt_values = [headers[i].replace(' ', '_').lower()+'.'+dt.get_text(strip=True).replace(' ', '_').lower() for dt in dt_elements]\n",
    "        i = i+1\n",
    "        dd_values = [dd.get_text(strip=True) for dd in dd_elements]\n",
    "        for j in range(len(dt_values)):\n",
    "            df[dt_values[j]] = dd_values[j]  \n",
    "    text = pd.concat([text, df]).reset_index(drop=True)\n",
    "driver.quit()"
   ],
   "metadata": {
    "collapsed": false,
    "ExecuteTime": {
     "end_time": "2024-04-09T09:43:08.677691Z",
     "start_time": "2024-04-09T09:23:26.547748Z"
    }
   },
   "execution_count": 278
  },
  {
   "cell_type": "code",
   "outputs": [
    {
     "data": {
      "text/plain": "       atcc                                    url  \\\n0     PDM-1    https://www.atcc.org/products/pdm-1   \n1     PDM-2    https://www.atcc.org/products/pdm-2   \n2     PDM-6    https://www.atcc.org/products/pdm-6   \n3     PDM-7    https://www.atcc.org/products/pdm-7   \n4     PDM-5    https://www.atcc.org/products/pdm-5   \n..      ...                                    ...   \n93  PDM-528  https://www.atcc.org/products/pdm-528   \n94  PDM-440  https://www.atcc.org/products/pdm-440   \n95  PDM-589  https://www.atcc.org/products/pdm-589   \n96  PDM-411  https://www.atcc.org/products/pdm-411   \n97  PDM-431  https://www.atcc.org/products/pdm-431   \n\n   product_information.product_category product_information.product_type  \\\n0                           Human cells               Cell modelOrganoid   \n1                           Human cells               Cell modelOrganoid   \n2                           Human cells               Cell modelOrganoid   \n3                           Human cells               Cell modelOrganoid   \n4                           Human cells               Cell modelOrganoid   \n..                                  ...                              ...   \n93                          Human cells               Cell modelOrganoid   \n94                          Human cells               Cell modelOrganoid   \n95                          Human cells               Cell modelOrganoid   \n96                          Human cells               Cell modelOrganoid   \n97                          Human cells               Cell modelOrganoid   \n\n   product_information.organism product_information.morphology  \\\n0           Homo sapiens, human                       organoid   \n1           Homo sapiens, human                       organoid   \n2           Homo sapiens, human                       organoid   \n3           Homo sapiens, human                       organoid   \n4           Homo sapiens, human                       organoid   \n..                          ...                            ...   \n93          Homo sapiens, human                       Organoid   \n94          Homo sapiens, human                       organoid   \n95          Homo sapiens, human                       organoid   \n96          Homo sapiens, human                       organoid   \n97          Homo sapiens, human                       organoid   \n\n                product_information.tissue product_information.disease  \\\n0                   Large intestine; Cecum     Adenocarcinoma; Primary   \n1           Large intestine; Sigmoid colon     Adenocarcinoma; Primary   \n2   Large intestine; Rectosigmoid junction     Adenocarcinoma; Primary   \n3           Large intestine; Sigmoid colon     Adenocarcinoma; Primary   \n4           Large intestine; Sigmoid colon     Adenocarcinoma; Primary   \n..                                     ...                         ...   \n93                                  Uterus             Cancer; Primary   \n94                                    Neck             Cancer; Primary   \n95                     Uterus; Endometrium             Cancer; Primary   \n96                                  Breast          Cancer; Metastatic   \n97                                    Neck             Cancer; Primary   \n\n   product_information.applications product_information.product_format  ...  \\\n0    3D cell cultureCancer research                             Frozen  ...   \n1    3D cell cultureCancer research                             Frozen  ...   \n2    3D cell cultureCancer research                             Frozen  ...   \n3    3D cell cultureCancer research                             Frozen  ...   \n4    3D cell cultureCancer research                             Frozen  ...   \n..                              ...                                ...  ...   \n93   Cancer research3D cell culture                             Frozen  ...   \n94   3D cell cultureCancer research                             Frozen  ...   \n95   3D cell cultureCancer research                             Frozen  ...   \n96   3D cell cultureCancer research                             Frozen  ...   \n97   3D cell cultureCancer research                             Frozen  ...   \n\n   quality_control_specifications.mycoplasma_contamination  \\\n0                                        Not detected        \n1                                        Not detected        \n2                                        Not detected        \n3                                        Not detected        \n4                                        Not detected        \n..                                                ...        \n93                                       Not detected        \n94                                       Not detected        \n95                                       Not detected        \n96                                       Not detected        \n97                                       Not detected        \n\n         quality_control_specifications.virus_testing  \\\n0   Cytomegalovirus (CMV): Not detectedHuman papil...   \n1   Cytomegalovirus (CMV): Not detectedHuman papil...   \n2   Cytomegalovirus (CMV): Not detectedHuman papil...   \n3   Cytomegalovirus (CMV): Not detectedHuman papil...   \n4   Cytomegalovirus (CMV): Not detectedHuman papil...   \n..                                                ...   \n93  Cytomegalovirus (CMV): Not detectedEpstein-Bar...   \n94  Cytomegalovirus (CMV): Not detectedEpstein-Bar...   \n95  Cytomegalovirus (CMV): Not detectedEpstein-Bar...   \n96  Cytomegalovirus (CMV): Not detectedEpstein-Bar...   \n97  Cytomegalovirus (CMV): Not detectedEpstein-Bar...   \n\n               history.depositors history.year_of_origin  \\\n0   Cold Spring Harbor Laboratory                   2017   \n1   Cold Spring Harbor Laboratory                   2017   \n2   Cold Spring Harbor Laboratory                   2017   \n3   Cold Spring Harbor Laboratory                   2017   \n4   Cold Spring Harbor Laboratory                   2017   \n..                            ...                    ...   \n93  Cold Spring Harbor Laboratory                   2021   \n94  Cold Spring Harbor Laboratory                   2022   \n95  Cold Spring Harbor Laboratory                   2021   \n96  Cold Spring Harbor Laboratory                   2021   \n97  Cold Spring Harbor Laboratory                   2021   \n\n               history.special_collection  \\\n0   Human Cancer Models Initiative (HCMI)   \n1   Human Cancer Models Initiative (HCMI)   \n2   Human Cancer Models Initiative (HCMI)   \n3   Human Cancer Models Initiative (HCMI)   \n4   Human Cancer Models Initiative (HCMI)   \n..                                    ...   \n93  Human Cancer Models Initiative (HCMI)   \n94  Human Cancer Models Initiative (HCMI)   \n95  Human Cancer Models Initiative (HCMI)   \n96  Human Cancer Models Initiative (HCMI)   \n97  Human Cancer Models Initiative (HCMI)   \n\n                       legal_disclaimers.intended_use  \\\n0   This product is intended for laboratory resear...   \n1   This product is intended for laboratory resear...   \n2   This product is intended for laboratory resear...   \n3   This product is intended for laboratory resear...   \n4   This product is intended for laboratory resear...   \n..                                                ...   \n93  This product is intended for laboratory resear...   \n94  This product is intended for laboratory resear...   \n95  This product is intended for laboratory resear...   \n96  This product is intended for laboratory resear...   \n97  This product is intended for laboratory resear...   \n\n                           legal_disclaimers.warranty  \\\n0   The product is provided 'AS IS' and the viabil...   \n1   The product is provided 'AS IS' and the viabil...   \n2   The product is provided 'AS IS' and the viabil...   \n3   The product is provided 'AS IS' and the viabil...   \n4   The product is provided 'AS IS' and the viabil...   \n..                                                ...   \n93  The product is provided 'AS IS' and the viabil...   \n94  The product is provided 'AS IS' and the viabil...   \n95  The product is provided 'AS IS' and the viabil...   \n96  The product is provided 'AS IS' and the viabil...   \n97  The product is provided 'AS IS' and the viabil...   \n\n                        legal_disclaimers.disclaimers  \\\n0   This product is intended for laboratory resear...   \n1   This product is intended for laboratory resear...   \n2   This product is intended for laboratory resear...   \n3   This product is intended for laboratory resear...   \n4   This product is intended for laboratory resear...   \n..                                                ...   \n93  This product is intended for laboratory resear...   \n94  This product is intended for laboratory resear...   \n95  This product is intended for laboratory resear...   \n96  This product is intended for laboratory resear...   \n97  This product is intended for laboratory resear...   \n\n   characteristics.metastatic characteristics.oncogene  \n0                         NaN                      NaN  \n1                         NaN                      NaN  \n2                         NaN                      NaN  \n3                         NaN                      NaN  \n4                         NaN                      NaN  \n..                        ...                      ...  \n93                        NaN                      NaN  \n94                        NaN                      NaN  \n95                        NaN                      NaN  \n96                        NaN                      NaN  \n97                        NaN                      NaN  \n\n[98 rows x 37 columns]",
      "text/html": "<div>\n<style scoped>\n    .dataframe tbody tr th:only-of-type {\n        vertical-align: middle;\n    }\n\n    .dataframe tbody tr th {\n        vertical-align: top;\n    }\n\n    .dataframe thead th {\n        text-align: right;\n    }\n</style>\n<table border=\"1\" class=\"dataframe\">\n  <thead>\n    <tr style=\"text-align: right;\">\n      <th></th>\n      <th>atcc</th>\n      <th>url</th>\n      <th>product_information.product_category</th>\n      <th>product_information.product_type</th>\n      <th>product_information.organism</th>\n      <th>product_information.morphology</th>\n      <th>product_information.tissue</th>\n      <th>product_information.disease</th>\n      <th>product_information.applications</th>\n      <th>product_information.product_format</th>\n      <th>...</th>\n      <th>quality_control_specifications.mycoplasma_contamination</th>\n      <th>quality_control_specifications.virus_testing</th>\n      <th>history.depositors</th>\n      <th>history.year_of_origin</th>\n      <th>history.special_collection</th>\n      <th>legal_disclaimers.intended_use</th>\n      <th>legal_disclaimers.warranty</th>\n      <th>legal_disclaimers.disclaimers</th>\n      <th>characteristics.metastatic</th>\n      <th>characteristics.oncogene</th>\n    </tr>\n  </thead>\n  <tbody>\n    <tr>\n      <th>0</th>\n      <td>PDM-1</td>\n      <td>https://www.atcc.org/products/pdm-1</td>\n      <td>Human cells</td>\n      <td>Cell modelOrganoid</td>\n      <td>Homo sapiens, human</td>\n      <td>organoid</td>\n      <td>Large intestine; Cecum</td>\n      <td>Adenocarcinoma; Primary</td>\n      <td>3D cell cultureCancer research</td>\n      <td>Frozen</td>\n      <td>...</td>\n      <td>Not detected</td>\n      <td>Cytomegalovirus (CMV): Not detectedHuman papil...</td>\n      <td>Cold Spring Harbor Laboratory</td>\n      <td>2017</td>\n      <td>Human Cancer Models Initiative (HCMI)</td>\n      <td>This product is intended for laboratory resear...</td>\n      <td>The product is provided 'AS IS' and the viabil...</td>\n      <td>This product is intended for laboratory resear...</td>\n      <td>NaN</td>\n      <td>NaN</td>\n    </tr>\n    <tr>\n      <th>1</th>\n      <td>PDM-2</td>\n      <td>https://www.atcc.org/products/pdm-2</td>\n      <td>Human cells</td>\n      <td>Cell modelOrganoid</td>\n      <td>Homo sapiens, human</td>\n      <td>organoid</td>\n      <td>Large intestine; Sigmoid colon</td>\n      <td>Adenocarcinoma; Primary</td>\n      <td>3D cell cultureCancer research</td>\n      <td>Frozen</td>\n      <td>...</td>\n      <td>Not detected</td>\n      <td>Cytomegalovirus (CMV): Not detectedHuman papil...</td>\n      <td>Cold Spring Harbor Laboratory</td>\n      <td>2017</td>\n      <td>Human Cancer Models Initiative (HCMI)</td>\n      <td>This product is intended for laboratory resear...</td>\n      <td>The product is provided 'AS IS' and the viabil...</td>\n      <td>This product is intended for laboratory resear...</td>\n      <td>NaN</td>\n      <td>NaN</td>\n    </tr>\n    <tr>\n      <th>2</th>\n      <td>PDM-6</td>\n      <td>https://www.atcc.org/products/pdm-6</td>\n      <td>Human cells</td>\n      <td>Cell modelOrganoid</td>\n      <td>Homo sapiens, human</td>\n      <td>organoid</td>\n      <td>Large intestine; Rectosigmoid junction</td>\n      <td>Adenocarcinoma; Primary</td>\n      <td>3D cell cultureCancer research</td>\n      <td>Frozen</td>\n      <td>...</td>\n      <td>Not detected</td>\n      <td>Cytomegalovirus (CMV): Not detectedHuman papil...</td>\n      <td>Cold Spring Harbor Laboratory</td>\n      <td>2017</td>\n      <td>Human Cancer Models Initiative (HCMI)</td>\n      <td>This product is intended for laboratory resear...</td>\n      <td>The product is provided 'AS IS' and the viabil...</td>\n      <td>This product is intended for laboratory resear...</td>\n      <td>NaN</td>\n      <td>NaN</td>\n    </tr>\n    <tr>\n      <th>3</th>\n      <td>PDM-7</td>\n      <td>https://www.atcc.org/products/pdm-7</td>\n      <td>Human cells</td>\n      <td>Cell modelOrganoid</td>\n      <td>Homo sapiens, human</td>\n      <td>organoid</td>\n      <td>Large intestine; Sigmoid colon</td>\n      <td>Adenocarcinoma; Primary</td>\n      <td>3D cell cultureCancer research</td>\n      <td>Frozen</td>\n      <td>...</td>\n      <td>Not detected</td>\n      <td>Cytomegalovirus (CMV): Not detectedHuman papil...</td>\n      <td>Cold Spring Harbor Laboratory</td>\n      <td>2017</td>\n      <td>Human Cancer Models Initiative (HCMI)</td>\n      <td>This product is intended for laboratory resear...</td>\n      <td>The product is provided 'AS IS' and the viabil...</td>\n      <td>This product is intended for laboratory resear...</td>\n      <td>NaN</td>\n      <td>NaN</td>\n    </tr>\n    <tr>\n      <th>4</th>\n      <td>PDM-5</td>\n      <td>https://www.atcc.org/products/pdm-5</td>\n      <td>Human cells</td>\n      <td>Cell modelOrganoid</td>\n      <td>Homo sapiens, human</td>\n      <td>organoid</td>\n      <td>Large intestine; Sigmoid colon</td>\n      <td>Adenocarcinoma; Primary</td>\n      <td>3D cell cultureCancer research</td>\n      <td>Frozen</td>\n      <td>...</td>\n      <td>Not detected</td>\n      <td>Cytomegalovirus (CMV): Not detectedHuman papil...</td>\n      <td>Cold Spring Harbor Laboratory</td>\n      <td>2017</td>\n      <td>Human Cancer Models Initiative (HCMI)</td>\n      <td>This product is intended for laboratory resear...</td>\n      <td>The product is provided 'AS IS' and the viabil...</td>\n      <td>This product is intended for laboratory resear...</td>\n      <td>NaN</td>\n      <td>NaN</td>\n    </tr>\n    <tr>\n      <th>...</th>\n      <td>...</td>\n      <td>...</td>\n      <td>...</td>\n      <td>...</td>\n      <td>...</td>\n      <td>...</td>\n      <td>...</td>\n      <td>...</td>\n      <td>...</td>\n      <td>...</td>\n      <td>...</td>\n      <td>...</td>\n      <td>...</td>\n      <td>...</td>\n      <td>...</td>\n      <td>...</td>\n      <td>...</td>\n      <td>...</td>\n      <td>...</td>\n      <td>...</td>\n      <td>...</td>\n    </tr>\n    <tr>\n      <th>93</th>\n      <td>PDM-528</td>\n      <td>https://www.atcc.org/products/pdm-528</td>\n      <td>Human cells</td>\n      <td>Cell modelOrganoid</td>\n      <td>Homo sapiens, human</td>\n      <td>Organoid</td>\n      <td>Uterus</td>\n      <td>Cancer; Primary</td>\n      <td>Cancer research3D cell culture</td>\n      <td>Frozen</td>\n      <td>...</td>\n      <td>Not detected</td>\n      <td>Cytomegalovirus (CMV): Not detectedEpstein-Bar...</td>\n      <td>Cold Spring Harbor Laboratory</td>\n      <td>2021</td>\n      <td>Human Cancer Models Initiative (HCMI)</td>\n      <td>This product is intended for laboratory resear...</td>\n      <td>The product is provided 'AS IS' and the viabil...</td>\n      <td>This product is intended for laboratory resear...</td>\n      <td>NaN</td>\n      <td>NaN</td>\n    </tr>\n    <tr>\n      <th>94</th>\n      <td>PDM-440</td>\n      <td>https://www.atcc.org/products/pdm-440</td>\n      <td>Human cells</td>\n      <td>Cell modelOrganoid</td>\n      <td>Homo sapiens, human</td>\n      <td>organoid</td>\n      <td>Neck</td>\n      <td>Cancer; Primary</td>\n      <td>3D cell cultureCancer research</td>\n      <td>Frozen</td>\n      <td>...</td>\n      <td>Not detected</td>\n      <td>Cytomegalovirus (CMV): Not detectedEpstein-Bar...</td>\n      <td>Cold Spring Harbor Laboratory</td>\n      <td>2022</td>\n      <td>Human Cancer Models Initiative (HCMI)</td>\n      <td>This product is intended for laboratory resear...</td>\n      <td>The product is provided 'AS IS' and the viabil...</td>\n      <td>This product is intended for laboratory resear...</td>\n      <td>NaN</td>\n      <td>NaN</td>\n    </tr>\n    <tr>\n      <th>95</th>\n      <td>PDM-589</td>\n      <td>https://www.atcc.org/products/pdm-589</td>\n      <td>Human cells</td>\n      <td>Cell modelOrganoid</td>\n      <td>Homo sapiens, human</td>\n      <td>organoid</td>\n      <td>Uterus; Endometrium</td>\n      <td>Cancer; Primary</td>\n      <td>3D cell cultureCancer research</td>\n      <td>Frozen</td>\n      <td>...</td>\n      <td>Not detected</td>\n      <td>Cytomegalovirus (CMV): Not detectedEpstein-Bar...</td>\n      <td>Cold Spring Harbor Laboratory</td>\n      <td>2021</td>\n      <td>Human Cancer Models Initiative (HCMI)</td>\n      <td>This product is intended for laboratory resear...</td>\n      <td>The product is provided 'AS IS' and the viabil...</td>\n      <td>This product is intended for laboratory resear...</td>\n      <td>NaN</td>\n      <td>NaN</td>\n    </tr>\n    <tr>\n      <th>96</th>\n      <td>PDM-411</td>\n      <td>https://www.atcc.org/products/pdm-411</td>\n      <td>Human cells</td>\n      <td>Cell modelOrganoid</td>\n      <td>Homo sapiens, human</td>\n      <td>organoid</td>\n      <td>Breast</td>\n      <td>Cancer; Metastatic</td>\n      <td>3D cell cultureCancer research</td>\n      <td>Frozen</td>\n      <td>...</td>\n      <td>Not detected</td>\n      <td>Cytomegalovirus (CMV): Not detectedEpstein-Bar...</td>\n      <td>Cold Spring Harbor Laboratory</td>\n      <td>2021</td>\n      <td>Human Cancer Models Initiative (HCMI)</td>\n      <td>This product is intended for laboratory resear...</td>\n      <td>The product is provided 'AS IS' and the viabil...</td>\n      <td>This product is intended for laboratory resear...</td>\n      <td>NaN</td>\n      <td>NaN</td>\n    </tr>\n    <tr>\n      <th>97</th>\n      <td>PDM-431</td>\n      <td>https://www.atcc.org/products/pdm-431</td>\n      <td>Human cells</td>\n      <td>Cell modelOrganoid</td>\n      <td>Homo sapiens, human</td>\n      <td>organoid</td>\n      <td>Neck</td>\n      <td>Cancer; Primary</td>\n      <td>3D cell cultureCancer research</td>\n      <td>Frozen</td>\n      <td>...</td>\n      <td>Not detected</td>\n      <td>Cytomegalovirus (CMV): Not detectedEpstein-Bar...</td>\n      <td>Cold Spring Harbor Laboratory</td>\n      <td>2021</td>\n      <td>Human Cancer Models Initiative (HCMI)</td>\n      <td>This product is intended for laboratory resear...</td>\n      <td>The product is provided 'AS IS' and the viabil...</td>\n      <td>This product is intended for laboratory resear...</td>\n      <td>NaN</td>\n      <td>NaN</td>\n    </tr>\n  </tbody>\n</table>\n<p>98 rows × 37 columns</p>\n</div>"
     },
     "execution_count": 279,
     "metadata": {},
     "output_type": "execute_result"
    }
   ],
   "source": [
    "text"
   ],
   "metadata": {
    "collapsed": false,
    "ExecuteTime": {
     "end_time": "2024-04-09T09:45:59.515440Z",
     "start_time": "2024-04-09T09:45:59.402642Z"
    }
   },
   "execution_count": 279
  },
  {
   "cell_type": "code",
   "outputs": [
    {
     "data": {
      "text/plain": "array(['To prepare the complete medium for this organoid please refer to theOrganoid Media Formulation #1.ATCC offers the recombinant proteins, small molecules and other supplements to make this complete medium; CoreKit 1A (ATCC ACS-7100) provides these supplements in convenient, pre-portioned, ready-to-reconstitute format that does not require aliquoting or storage once prepared.',\n       'To prepare the complete medium for this organoid please refer to theOrganoid Media Formulation #3.ATCC offers the recombinant proteins, small molecules and other supplements to make this complete medium; CoreKit 1B (ATCC ACS-7101) provides these supplements in convenient, pre-portioned, ready-to-reconstitute format that does not require aliquoting or storage once prepared.',\n       'To prepare the complete medium for this organoid please refer to theOrganoid Media Formulation #2. ATCC offers the recombinant proteins, small molecules and other supplements to make this complete medium; CoreKit 1C (ATCC ACS-7102) provides these supplements in convenient, pre-portioned, ready-to-reconstitute format that does not require aliquoting or storage once prepared.',\n       'To prepare the complete medium for this organoid model please refer to theOrganoid Media Formulation #6. ATCC offers the recombinant proteins, small molecules and other supplements to make this complete medium; CoreKit 1G (ATCC ACS-7106) provides these supplements in convenient, pre-portioned, ready-to-reconstitute format that does not require aliquoting or storage once prepared.',\n       'To prepare the complete medium for this organoid model please refer to theOrganoid Media Formulation #8.ATCC offers the recombinant proteins, small molecules and other supplements to make this complete medium; CoreKit 1F (ATCC ACS-7105) provides these supplements in convenient, pre-portioned, ready-to-reconstitute format that does not require aliquoting or storage once prepared.',\n       'To prepare the complete medium for this organoid please refer to theOrganoid Media Formulation #3.',\n       'To prepare the complete medium for this organoid model please refer to theOrganoid Media Formulation #6.ATCC offers the recombinant proteins, small molecules and other supplements to make this complete medium; CoreKit 1G (ATCC ACS-7106) provides these supplements in convenient, pre-portioned, ready-to-reconstitute format that does not require aliquoting or storage once prepared.',\n       'To prepare the complete medium for this organoid please refer to theOrganoid Media Formulation #1.',\n       'To prepare the complete medium for this organoid model please refer to theOrganoid Media Formulation #3.ATCC offers the recombinant proteins, small molecules and other supplements to make this complete medium; CoreKit 1B (ATCC ACS-7101) provides these supplements in convenient, pre-portioned, ready-to-reconstitute format that does not require aliquoting or storage once prepared.',\n       'To prepare the complete medium for this organoid please refer to theOrganoid Media Formulation #8.ATCC offers the recombinant proteins, small molecules and other supplements to make this complete medium; CoreKit 1F (ATCC ACS-7105) provides these supplements in convenient, pre-portioned, ready-to-reconstitute format that does not require aliquoting or storage once prepared.',\n       'To prepare the complete medium for this organoid model please refer to theOrganoid Media Formulation #3.',\n       'To prepare the complete medium for this organoid model please refer to theOrganoid Media Formulation #3.ATCC offers the recombinant proteins, small molecules and other supplements to make this complete medium; Organoid Growth Kit 1B (ATCC ACS-7101) provides these supplements in convenient, pre-portioned, ready-to-reconstitute format that does not require aliquoting or storage once prepared.',\n       'To prepare the complete medium for this organoid model please refer to theOrganoid Media Formulation #3.ATCC offers the recombinant proteins, small molecules and other supplements to make this complete medium; Organoid Media Kit 1B (ATCC ACS-7101) provides these supplements in convenient, pre-portioned, ready-to-reconstitute format that does not require aliquoting or storage once prepared.',\n       'To prepare the complete medium for this organoid model please refer to theOrganoid Media Formulation #11.',\n       'To prepare the complete medium for this organoid model please refer to theOrganoid Media Formulation #12.'],\n      dtype=object)"
     },
     "execution_count": 280,
     "metadata": {},
     "output_type": "execute_result"
    }
   ],
   "source": [
    "text['handling_information.complete_medium'].unique()"
   ],
   "metadata": {
    "collapsed": false,
    "ExecuteTime": {
     "end_time": "2024-04-09T09:46:46.503994Z",
     "start_time": "2024-04-09T09:46:46.402283Z"
    }
   },
   "execution_count": 280
  },
  {
   "cell_type": "code",
   "outputs": [
    {
     "data": {
      "text/plain": "array(['https://www.atcc.org/products/pdm-428',\n       'https://www.atcc.org/products/pdm-440',\n       'https://www.atcc.org/products/pdm-431'], dtype=object)"
     },
     "execution_count": 304,
     "metadata": {},
     "output_type": "execute_result"
    }
   ],
   "source": [
    "text[text['handling_information.complete_medium'].str.contains('theOrganoid Media Formulation #12')]['url'].unique()"
   ],
   "metadata": {
    "collapsed": false,
    "ExecuteTime": {
     "end_time": "2024-04-09T10:01:43.221525Z",
     "start_time": "2024-04-09T10:01:43.062192Z"
    }
   },
   "execution_count": 304
  },
  {
   "cell_type": "code",
   "outputs": [],
   "source": [
    "conditions = [text['handling_information.complete_medium'].str.contains('theOrganoid Media Formulation #3'),\n",
    "              text['handling_information.complete_medium'].str.contains('theOrganoid Media Formulation #6'),\n",
    "              text['handling_information.complete_medium'].str.contains('theOrganoid Media Formulation #8'),\n",
    "              text['handling_information.complete_medium'].str.contains('theOrganoid Media Formulation #11'),\n",
    "              text['handling_information.complete_medium'].str.contains('theOrganoid Media Formulation #12'),\n",
    "              text['handling_information.complete_medium'].str.contains('theOrganoid Media Formulation #2'),\n",
    "              text['handling_information.complete_medium'].str.contains('theOrganoid Media Formulation #1\\.')]\n",
    "\n",
    "\n",
    "replacements = ['ATCC ACS-7101', 'ATCC ACS-7106', 'ATCC ACS-7105', 'ATCC Organoid media 11a', 'ATCC Organoid media 12a', 'ATCC ACS-7102', 'ATCC ACS-7100']\n",
    "\n",
    "\n",
    "growth_media = ['Organoid Growth Kit 1B', 'Organoid Growth Kit 1G', 'Organoid Growth Kit 1F', 'ATCC Organoid media 11a', 'ATCC Organoid media 12a', 'Organoid Growth Kit 1C', 'Organoid Growth Kit 1A']\n",
    "\n",
    "supplements = ['Not provided', 'Not provided', 'Not provided', 'Not provided', 'Not provided', 'Not provided', 'Not provided']\n",
    "\n",
    "text['media_id'] = np.select(conditions, replacements, default='Not provided')\n",
    "text['growth_media'] = np.select(conditions, growth_media, default='Not provided')\n",
    "text['supplements'] = np.select(conditions, supplements, default='Not provided')\n",
    "text['growth_properties'] = text['characteristics.growth_properties']\n",
    "text['contaminated'] = np.where((text['quality_control_specifications.bacterial_and_fungal_testing'] == 'Not detected') & (text['quality_control_specifications.mycoplasma_contamination'] == 'Not detected'), 'No', 'Yes')\n",
    "\n",
    "text['contamination_details'] = np.where((text['quality_control_specifications.bacterial_and_fungal_testing'] == 'Not detected') & (text['quality_control_specifications.mycoplasma_contamination'] == 'Not detected'), 'No contamination detected', 'Not provided')\n",
    "\n",
    "text['model_purity'] = np.where(text['characteristics.metastatic'].fillna('Not provided') == 'Not provided', 'Not provided', 'Tumor cells')\n",
    "\n",
    "text['STR_analysis'] = 'Not provided'#np.where(text['quality_control_specifications.str_profiling'].fillna('Not provided') == 'Not provided', 'No', 'Yes')\n",
    "\n",
    "text['morphological_features'] = text['product_information.morphology'].fillna('Not provided')\n",
    "\n",
    "text['virology_status'] = np.where(text['quality_control_specifications.virus_testing'].str.lower().str.replace('detected', 'detected, ').str.replace('not detected', '').str.contains('detected'), 'Detected', 'Not detected')"
   ],
   "metadata": {
    "collapsed": false,
    "ExecuteTime": {
     "end_time": "2024-04-09T10:04:36.699405Z",
     "start_time": "2024-04-09T10:04:36.577410Z"
    }
   },
   "execution_count": 307
  },
  {
   "cell_type": "code",
   "outputs": [
    {
     "data": {
      "text/plain": "       atcc                                    url  \\\n54   PDM-29   https://www.atcc.org/products/pdm-29   \n78  PDM-198  https://www.atcc.org/products/pdm-198   \n\n   product_information.product_category product_information.product_type  \\\n54                          Human cells               Cell modelOrganoid   \n78                          Human cells               Cell modelOrganoid   \n\n   product_information.organism product_information.morphology  \\\n54          Homo sapiens, human                       organoid   \n78          Homo sapiens, human                       organoid   \n\n   product_information.tissue product_information.disease  \\\n54                   Pancreas     Adenocarcinoma; Primary   \n78                   Pancreas     Adenocarcinoma; Primary   \n\n   product_information.applications product_information.product_format  ...  \\\n54   3D cell cultureCancer research                             Frozen  ...   \n78   3D cell cultureCancer research                             Frozen  ...   \n\n         media_id            growth_media   supplements    growth_properties  \\\n54  ATCC ACS-7101  Organoid Growth Kit 1B  Not provided  Embedded 3D culture   \n78  ATCC ACS-7101  Organoid Growth Kit 1B  Not provided  Embedded 3D culture   \n\n   contaminated      contamination_details  model_purity  STR_analysis  \\\n54          Yes  No contamination detected  Not provided  Not provided   \n78          Yes  No contamination detected  Not provided  Not provided   \n\n   morphological_features virology_status  \n54               organoid        Detected  \n78               organoid        Detected  \n\n[2 rows x 47 columns]",
      "text/html": "<div>\n<style scoped>\n    .dataframe tbody tr th:only-of-type {\n        vertical-align: middle;\n    }\n\n    .dataframe tbody tr th {\n        vertical-align: top;\n    }\n\n    .dataframe thead th {\n        text-align: right;\n    }\n</style>\n<table border=\"1\" class=\"dataframe\">\n  <thead>\n    <tr style=\"text-align: right;\">\n      <th></th>\n      <th>atcc</th>\n      <th>url</th>\n      <th>product_information.product_category</th>\n      <th>product_information.product_type</th>\n      <th>product_information.organism</th>\n      <th>product_information.morphology</th>\n      <th>product_information.tissue</th>\n      <th>product_information.disease</th>\n      <th>product_information.applications</th>\n      <th>product_information.product_format</th>\n      <th>...</th>\n      <th>media_id</th>\n      <th>growth_media</th>\n      <th>supplements</th>\n      <th>growth_properties</th>\n      <th>contaminated</th>\n      <th>contamination_details</th>\n      <th>model_purity</th>\n      <th>STR_analysis</th>\n      <th>morphological_features</th>\n      <th>virology_status</th>\n    </tr>\n  </thead>\n  <tbody>\n    <tr>\n      <th>54</th>\n      <td>PDM-29</td>\n      <td>https://www.atcc.org/products/pdm-29</td>\n      <td>Human cells</td>\n      <td>Cell modelOrganoid</td>\n      <td>Homo sapiens, human</td>\n      <td>organoid</td>\n      <td>Pancreas</td>\n      <td>Adenocarcinoma; Primary</td>\n      <td>3D cell cultureCancer research</td>\n      <td>Frozen</td>\n      <td>...</td>\n      <td>ATCC ACS-7101</td>\n      <td>Organoid Growth Kit 1B</td>\n      <td>Not provided</td>\n      <td>Embedded 3D culture</td>\n      <td>Yes</td>\n      <td>No contamination detected</td>\n      <td>Not provided</td>\n      <td>Not provided</td>\n      <td>organoid</td>\n      <td>Detected</td>\n    </tr>\n    <tr>\n      <th>78</th>\n      <td>PDM-198</td>\n      <td>https://www.atcc.org/products/pdm-198</td>\n      <td>Human cells</td>\n      <td>Cell modelOrganoid</td>\n      <td>Homo sapiens, human</td>\n      <td>organoid</td>\n      <td>Pancreas</td>\n      <td>Adenocarcinoma; Primary</td>\n      <td>3D cell cultureCancer research</td>\n      <td>Frozen</td>\n      <td>...</td>\n      <td>ATCC ACS-7101</td>\n      <td>Organoid Growth Kit 1B</td>\n      <td>Not provided</td>\n      <td>Embedded 3D culture</td>\n      <td>Yes</td>\n      <td>No contamination detected</td>\n      <td>Not provided</td>\n      <td>Not provided</td>\n      <td>organoid</td>\n      <td>Detected</td>\n    </tr>\n  </tbody>\n</table>\n<p>2 rows × 47 columns</p>\n</div>"
     },
     "execution_count": 314,
     "metadata": {},
     "output_type": "execute_result"
    }
   ],
   "source": [
    "text[np.where(text['quality_control_specifications.virus_testing'].str.lower().str.replace('detected', 'detected, ').str.replace('not detected', '').str.contains('detected'), True, False)]"
   ],
   "metadata": {
    "collapsed": false,
    "ExecuteTime": {
     "end_time": "2024-04-09T10:17:45.287057Z",
     "start_time": "2024-04-09T10:17:45.113906Z"
    }
   },
   "execution_count": 314
  },
  {
   "cell_type": "code",
   "outputs": [],
   "source": [
    "cell_sheet = read_metadata_without_fields(join(home, 'CSHL', 'CSHL_metadata-cell_model.tsv'))\n",
    "cell_template = read_metadata_with_fields(join(home, 'CSHL', 'CSHL_metadata-cell_model.tsv')).iloc[0:4]\n",
    "merged = cell_sheet.merge(text, left_on='catalog_number', right_on='atcc', how='left', suffixes=('_og', '_supplier'))\n",
    "merged['growth_properties'] = merged['growth_properties_supplier']\n",
    "merged['media_id'] = merged['media_id_supplier']\n",
    "merged['growth_media'] = merged['growth_media_supplier']\n",
    "merged['contaminated'] = merged['contaminated_supplier']\n",
    "merged['contamination_details'] = merged['contamination_details_supplier']\n",
    "merged['supplements'] = merged['supplements_supplier']\n",
    "pd.concat([cell_template, merged[cell_sheet.columns]]).reset_index(drop=True).to_csv(join(home, 'CSHL', 'CSHL_metadata-cell_model.tsv'), sep='\\t', index=False)"
   ],
   "metadata": {
    "collapsed": false,
    "ExecuteTime": {
     "end_time": "2024-04-09T10:11:08.926575Z",
     "start_time": "2024-04-09T10:11:08.790952Z"
    }
   },
   "execution_count": 309
  },
  {
   "cell_type": "code",
   "outputs": [],
   "source": [
    "mv_sheet = read_metadata_without_fields(join(home, 'CSHL', 'CSHL_metadata-model_validation.tsv'))\n",
    "mv_template = read_metadata_with_fields(join(home, 'CSHL', 'CSHL_metadata-model_validation.tsv')).iloc[0:4]\n",
    "x = merged[['model_id', 'morphological_features', 'STR_analysis', 'model_purity']]\n",
    "mv_sheet['model_id'] = merged['model_id']\n",
    "mv_sheet = mv_sheet.fillna('Not provided')\n",
    "mv_sheet['morphological_features'] = merged['morphological_features']\n",
    "mv_sheet['STR_analysis'] = merged['STR_analysis']\n",
    "mv_sheet['model_purity'] = merged['model_purity']\n",
    "pd.concat([mv_template, mv_sheet[mv_sheet.columns]]).reset_index(drop=True).to_csv(join(home, 'CSHL', 'CSHL_metadata-model_validation.tsv'), sep='\\t', index=False)"
   ],
   "metadata": {
    "collapsed": false,
    "ExecuteTime": {
     "end_time": "2024-04-09T10:13:37.362928Z",
     "start_time": "2024-04-09T10:13:37.206870Z"
    }
   },
   "execution_count": 310
  },
  {
   "cell_type": "code",
   "outputs": [],
   "source": [
    "patient_sheet = read_metadata_without_fields(join(home, 'CSHL', 'CSHL_metadata-patient.tsv'))\n",
    "patient_template = read_metadata_with_fields(join(home, 'CSHL', 'CSHL_metadata-patient.tsv')).iloc[0:4]\n",
    "patient_sheet['age_category'] = ['Not provided' if r.__contains__('Not') else 'Adult' if int(r) > 21 else 'Paediatric' for r in patient_sheet['age_at_initial_diagnosis']]\n",
    "pd.concat([patient_template, patient_sheet[patient_sheet.columns]]).reset_index(drop=True).to_csv(join(home, 'CSHL', 'CSHL_metadata-patient.tsv'), sep='\\t', index=False)"
   ],
   "metadata": {
    "collapsed": false,
    "ExecuteTime": {
     "end_time": "2024-04-09T10:15:35.405969Z",
     "start_time": "2024-04-09T10:15:35.257394Z"
    }
   },
   "execution_count": 312
  },
  {
   "cell_type": "code",
   "outputs": [],
   "source": [
    "ps_sheet = read_metadata_without_fields(join(home, 'CSHL', 'CSHL_metadata-patient_sample.tsv'))\n",
    "ps_template = read_metadata_with_fields(join(home, 'CSHL', 'CSHL_metadata-patient_sample.tsv')).iloc[0:4]\n",
    "ps_sheet['virology_status'] = 'Not detected'\n",
    "pd.concat([ps_template, ps_sheet[ps_sheet.columns]]).reset_index(drop=True).to_csv(join(home, 'CSHL', 'CSHL_metadata-patient_sample.tsv'), sep='\\t', index=False)"
   ],
   "metadata": {
    "collapsed": false
   },
   "execution_count": null
  },
  {
   "cell_type": "code",
   "outputs": [],
   "source": [
    "sang_atcc = fetch_from_atcc(read_metadata_without_fields(join(home, 'SANG', 'SANG_metadata-cell_model.tsv')))"
   ],
   "metadata": {
    "collapsed": false,
    "ExecuteTime": {
     "end_time": "2024-04-09T10:39:07.265658Z",
     "start_time": "2024-04-09T10:30:03.211556Z"
    }
   },
   "execution_count": 317
  },
  {
   "cell_type": "code",
   "outputs": [
    {
     "data": {
      "text/plain": "       atcc                                    url  \\\n0    PDM-44   https://www.atcc.org/products/pdm-44   \n1    PDM-43   https://www.atcc.org/products/pdm-43   \n2    PDM-67   https://www.atcc.org/products/pdm-67   \n3    PDM-71   https://www.atcc.org/products/pdm-71   \n4    PDM-47   https://www.atcc.org/products/pdm-47   \n5    PDM-46   https://www.atcc.org/products/pdm-46   \n6    PDM-90   https://www.atcc.org/products/pdm-90   \n7    PDM-58   https://www.atcc.org/products/pdm-58   \n8    PDM-73   https://www.atcc.org/products/pdm-73   \n9    PDM-79   https://www.atcc.org/products/pdm-79   \n10   PDM-50   https://www.atcc.org/products/pdm-50   \n11   PDM-65   https://www.atcc.org/products/pdm-65   \n12   PDM-72   https://www.atcc.org/products/pdm-72   \n13   PDM-53   https://www.atcc.org/products/pdm-53   \n14   PDM-83   https://www.atcc.org/products/pdm-83   \n15   PDM-45   https://www.atcc.org/products/pdm-45   \n16   PDM-42   https://www.atcc.org/products/pdm-42   \n17   PDM-48   https://www.atcc.org/products/pdm-48   \n18   PDM-51   https://www.atcc.org/products/pdm-51   \n19   PDM-57   https://www.atcc.org/products/pdm-57   \n20   PDM-74   https://www.atcc.org/products/pdm-74   \n21   PDM-70   https://www.atcc.org/products/pdm-70   \n22   PDM-59   https://www.atcc.org/products/pdm-59   \n23   PDM-68   https://www.atcc.org/products/pdm-68   \n24   PDM-60   https://www.atcc.org/products/pdm-60   \n25   PDM-61   https://www.atcc.org/products/pdm-61   \n26   PDM-62   https://www.atcc.org/products/pdm-62   \n27   PDM-78   https://www.atcc.org/products/pdm-78   \n28   PDM-64   https://www.atcc.org/products/pdm-64   \n29   PDM-76   https://www.atcc.org/products/pdm-76   \n30   PDM-77   https://www.atcc.org/products/pdm-77   \n31   PDM-82   https://www.atcc.org/products/pdm-82   \n32   PDM-63   https://www.atcc.org/products/pdm-63   \n33   PDM-81   https://www.atcc.org/products/pdm-81   \n34   PDM-55   https://www.atcc.org/products/pdm-55   \n35   PDM-75   https://www.atcc.org/products/pdm-75   \n36  PDM-330  https://www.atcc.org/products/pdm-330   \n37   PDM-80   https://www.atcc.org/products/pdm-80   \n38  PDM-331  https://www.atcc.org/products/pdm-331   \n39   PDM-86   https://www.atcc.org/products/pdm-86   \n40   PDM-49   https://www.atcc.org/products/pdm-49   \n41   PDM-84   https://www.atcc.org/products/pdm-84   \n42   PDM-87   https://www.atcc.org/products/pdm-87   \n43  PDM-339  https://www.atcc.org/products/pdm-339   \n44   PDM-85   https://www.atcc.org/products/pdm-85   \n45   PDM-52   https://www.atcc.org/products/pdm-52   \n46   PDM-54   https://www.atcc.org/products/pdm-54   \n47   PDM-56   https://www.atcc.org/products/pdm-56   \n\n   product_information.product_category product_information.product_type  \\\n0                           Human cells               Cell modelOrganoid   \n1                           Human cells               Cell modelOrganoid   \n2                           Human cells               Cell modelOrganoid   \n3                           Human cells               Cell modelOrganoid   \n4                           Human cells               Cell modelOrganoid   \n5                           Human cells               Cell modelOrganoid   \n6                           Human cells               Cell modelOrganoid   \n7                           Human cells               Cell modelOrganoid   \n8                           Human cells               Cell modelOrganoid   \n9                           Human cells               Cell modelOrganoid   \n10                          Human cells               Cell modelOrganoid   \n11                          Human cells               Cell modelOrganoid   \n12                          Human cells               Cell modelOrganoid   \n13                          Human cells               Cell modelOrganoid   \n14                          Human cells               Cell modelOrganoid   \n15                          Human cells               Cell modelOrganoid   \n16                          Human cells               Cell modelOrganoid   \n17                          Human cells               Cell modelOrganoid   \n18                          Human cells               Cell modelOrganoid   \n19                          Human cells               Cell modelOrganoid   \n20                          Human cells               Cell modelOrganoid   \n21                          Human cells               Cell modelOrganoid   \n22                          Human cells               Cell modelOrganoid   \n23                          Human cells               Cell modelOrganoid   \n24                          Human cells               Cell modelOrganoid   \n25                          Human cells               Cell modelOrganoid   \n26                          Human cells               Cell modelOrganoid   \n27                          Human cells               Cell modelOrganoid   \n28                          Human cells               Cell modelOrganoid   \n29                          Human cells               Cell modelOrganoid   \n30                          Human cells               Cell modelOrganoid   \n31                          Human cells               Cell modelOrganoid   \n32                          Human cells               Cell modelOrganoid   \n33                          Human cells               Cell modelOrganoid   \n34                          Human cells               OrganoidCell model   \n35                          Human cells               OrganoidCell model   \n36                          Human cells               Cell modelOrganoid   \n37                          Human cells               Cell modelOrganoid   \n38                          Human cells               Cell modelOrganoid   \n39                          Human cells               Cell modelOrganoid   \n40                          Human cells               Cell modelOrganoid   \n41                          Human cells               Cell modelOrganoid   \n42                          Human cells               Cell modelOrganoid   \n43                          Human cells               Cell modelOrganoid   \n44                          Human cells               Cell modelOrganoid   \n45                          Human cells               Cell modelOrganoid   \n46                          Human cells               Cell modelOrganoid   \n47                          Human cells               Cell modelOrganoid   \n\n   product_information.organism product_information.morphology  \\\n0           Homo sapiens, human                       organoid   \n1           Homo sapiens, human                       organoid   \n2           Homo sapiens, human                       organoid   \n3           Homo sapiens, human                       organoid   \n4           Homo sapiens, human                       organoid   \n5           Homo sapiens, human                       organoid   \n6           Homo sapiens, human                       organoid   \n7           Homo sapiens, human                       organoid   \n8           Homo sapiens, human                       organoid   \n9           Homo sapiens, human                       organoid   \n10          Homo sapiens, human                       organoid   \n11          Homo sapiens, human                       organoid   \n12          Homo sapiens, human                       organoid   \n13          Homo sapiens, human                       organoid   \n14          Homo sapiens, human                       organoid   \n15          Homo sapiens, human                       organoid   \n16          Homo sapiens, human                       Organoid   \n17          Homo sapiens, human                       Organoid   \n18          Homo sapiens, human                       organoid   \n19          Homo sapiens, human                       organoid   \n20          Homo sapiens, human                       organoid   \n21          Homo sapiens, human                       organoid   \n22          Homo sapiens, human                       organoid   \n23          Homo sapiens, human                       organoid   \n24          Homo sapiens, human                       organoid   \n25          Homo sapiens, human                       organoid   \n26          Homo sapiens, human                       organoid   \n27          Homo sapiens, human                       organoid   \n28          Homo sapiens, human                       organoid   \n29          Homo sapiens, human                       organoid   \n30          Homo sapiens, human                       organoid   \n31          Homo sapiens, human                       Organoid   \n32          Homo sapiens, human                       Organoid   \n33          Homo sapiens, human                       Organoid   \n34          Homo sapiens, human                       Organoid   \n35          Homo sapiens, human                       Organoid   \n36          Homo sapiens, human                       organoid   \n37          Homo sapiens, human                       organoid   \n38          Homo sapiens, human                       organoid   \n39          Homo sapiens, human                       organoid   \n40          Homo sapiens, human                       organoid   \n41          Homo sapiens, human                       Organoid   \n42          Homo sapiens, human                       organoid   \n43          Homo sapiens, human                       Organoid   \n44          Homo sapiens, human                       organoid   \n45          Homo sapiens, human                       organoid   \n46          Homo sapiens, human                       organoid   \n47          Homo sapiens, human                       organoid   \n\n          product_information.tissue       product_information.disease  \\\n0            Large intestine; Rectum            Adenoma; Pre-malignant   \n1            Large intestine; Rectum           Adenocarcinoma; Primary   \n2                          Esophagus           Adenocarcinoma; Primary   \n3                          Esophagus           Adenocarcinoma; Primary   \n4            Large intestine; Rectum           Adenocarcinoma; Primary   \n5             Large intestine; Colon           Adenocarcinoma; Primary   \n6                           Pancreas           Adenocarcinoma; Primary   \n7             Large intestine; Colon           Adenocarcinoma; Primary   \n8                          Esophagus                Malignant neoplasm   \n9                          Esophagus           Adenocarcinoma; Primary   \n10  Large intestine; Ascending colon                Malignant neoplasm   \n11                         Esophagus                Malignant neoplasm   \n12                         Esophagus           Adenocarcinoma; Primary   \n13            Large intestine; Colon           Adenocarcinoma; Primary   \n14                         Esophagus                Malignant neoplasm   \n15            Large intestine; Colon           Adenocarcinoma; Primary   \n16            Large intestine; Colon        Adenocarcinoma; Metastatic   \n17            Large intestine; Colon            Adenoma; Pre-malignant   \n18            Large intestine; Colon           Adenocarcinoma; Primary   \n19            Large intestine; Colon           Adenocarcinoma; Primary   \n20                         Esophagus           Adenocarcinoma; Primary   \n21                         Esophagus  Malignant neoplasmAdenocarcinoma   \n22            Large intestine; Colon           Adenocarcinoma; Primary   \n23                         Esophagus           Adenocarcinoma; Primary   \n24            Large intestine; Colon           Adenocarcinoma; Primary   \n25            Small intestine; Colon           Adenocarcinoma; Primary   \n26           Small intestine; Rectum           Adenocarcinoma; Primary   \n27                         Esophagus           Adenocarcinoma; Primary   \n28            Large intestine; Colon           Adenocarcinoma; Primary   \n29                         Esophagus           Adenocarcinoma; Primary   \n30                         Esophagus           Adenocarcinoma; Primary   \n31                         Esophagus           Adenocarcinoma; Primary   \n32           Large intestine; Rectum           Adenocarcinoma; Primary   \n33                         Esophagus           Adenocarcinoma; Primary   \n34           Large intestine; Rectum           Adenocarcinoma; Primary   \n35                         Esophagus           Adenocarcinoma; Primary   \n36           Large intestine; Rectum                   Cancer; Primary   \n37                         Esophagus           Adenocarcinoma; Primary   \n38           Large intestine; Rectum                   Cancer; Primary   \n39                         Esophagus           Adenocarcinoma; Primary   \n40           Large intestine; Rectum           Adenocarcinoma; Primary   \n41                         Esophagus           Adenocarcinoma; Primary   \n42                         Esophagus           Adenocarcinoma; Primary   \n43                         Esophagus                   Cancer; Primary   \n44                         Esophagus           Adenocarcinoma; Primary   \n45            Large intestine; Colon           Adenocarcinoma; Primary   \n46            Large intestine; Colon           Adenocarcinoma; Primary   \n47            Large intestine; Colon           Adenocarcinoma; Primary   \n\n   product_information.applications product_information.product_format  ...  \\\n0    3D cell cultureCancer research                             Frozen  ...   \n1    3D cell cultureCancer research                             Frozen  ...   \n2    3D cell cultureCancer research                             Frozen  ...   \n3    3D cell cultureCancer research                             Frozen  ...   \n4    3D cell cultureCancer research                             Frozen  ...   \n5    3D cell cultureCancer research                             Frozen  ...   \n6    3D cell cultureCancer research                             Frozen  ...   \n7    3D cell cultureCancer research                             Frozen  ...   \n8    3D cell cultureCancer research                             Frozen  ...   \n9    3D cell cultureCancer research                             Frozen  ...   \n10   3D cell cultureCancer research                             Frozen  ...   \n11   3D cell cultureCancer research                             Frozen  ...   \n12   3D cell cultureCancer research                             Frozen  ...   \n13   3D cell cultureCancer research                             Frozen  ...   \n14   3D cell cultureCancer research                             Frozen  ...   \n15   3D cell cultureCancer research                             Frozen  ...   \n16   3D cell cultureCancer research                             Frozen  ...   \n17   3D cell cultureCancer research                             Frozen  ...   \n18   3D cell cultureCancer research                             Frozen  ...   \n19   3D cell cultureCancer research                             Frozen  ...   \n20   3D cell cultureCancer research                             Frozen  ...   \n21   3D cell cultureCancer research                             Frozen  ...   \n22   3D cell cultureCancer research                             Frozen  ...   \n23   3D cell cultureCancer research                             Frozen  ...   \n24   3D cell cultureCancer research                             Frozen  ...   \n25   3D cell cultureCancer research                             Frozen  ...   \n26   3D cell cultureCancer research                             Frozen  ...   \n27   3D cell cultureCancer research                             Frozen  ...   \n28   Cancer research3D cell culture                             Frozen  ...   \n29   3D cell cultureCancer research                             Frozen  ...   \n30   3D cell cultureCancer research                             Frozen  ...   \n31   Cancer research3D cell culture                             Frozen  ...   \n32   Cancer research3D cell culture                             Frozen  ...   \n33   Cancer research3D cell culture                             Frozen  ...   \n34   Cancer research3D cell culture                             Frozen  ...   \n35   Cancer research3D cell culture                             Frozen  ...   \n36   3D cell cultureCancer research                             Frozen  ...   \n37   Cancer research3D cell culture                             Frozen  ...   \n38   3D cell cultureCancer research                             Frozen  ...   \n39   3D cell cultureCancer research                             Frozen  ...   \n40   3D cell cultureCancer research                             Frozen  ...   \n41   3D cell cultureCancer research                             Frozen  ...   \n42   3D cell cultureCancer research                             Frozen  ...   \n43   3D cell cultureCancer research                             Frozen  ...   \n44   3D cell cultureCancer research                             Frozen  ...   \n45   3D cell cultureCancer research                             Frozen  ...   \n46   3D cell cultureCancer research                             Frozen  ...   \n47   3D cell cultureCancer research                             Frozen  ...   \n\n   quality_control_specifications.mycoplasma_contamination  \\\n0                                        Not detected        \n1                                        Not detected        \n2                                        Not detected        \n3                                        Not detected        \n4                                        Not detected        \n5                                        Not detected        \n6                                        Not detected        \n7                                        Not detected        \n8                                        Not detected        \n9                                        Not detected        \n10                                       Not detected        \n11                                       Not detected        \n12                                       Not detected        \n13                                       Not detected        \n14                                       Not detected        \n15                                       Not detected        \n16                                       Not detected        \n17                                       Not detected        \n18                                       Not detected        \n19                                       Not detected        \n20                                       Not detected        \n21                                       Not detected        \n22                                       Not detected        \n23                                       Not detected        \n24                                       Not detected        \n25                                       Not detected        \n26                                       Not detected        \n27                                       Not detected        \n28                                       Not detected        \n29                                       Not detected        \n30                                       Not detected        \n31                                       Not detected        \n32                                       Not detected        \n33                                       Not detected        \n34                                       Not detected        \n35                                       Not detected        \n36                                       Not detected        \n37                                       Not detected        \n38                                       Not detected        \n39                                       Not detected        \n40                                       Not detected        \n41                                       Not detected        \n42                                       Not detected        \n43                                       Not detected        \n44                                       Not detected        \n45                                       Not detected        \n46                                       Not detected        \n47                                       Not detected        \n\n         quality_control_specifications.virus_testing  \\\n0   Hepatitis B virus (HBV): Not detectedCytomegal...   \n1   Hepatitis B virus (HBV): Not detectedCytomegal...   \n2   Hepatitis B virus (HBV): Not detectedCytomegal...   \n3   Hepatitis B virus (HBV): Not detectedCytomegal...   \n4   Hepatitis B virus (HBV): Not detectedCytomegal...   \n5   Hepatitis B virus (HBV): Not detectedCytomegal...   \n6   Hepatitis B virus (HBV): Not detectedCytomegal...   \n7   Hepatitis B virus (HBV): Not detectedCytomegal...   \n8   Hepatitis B virus (HBV): Not detectedCytomegal...   \n9   Hepatitis B virus (HBV): Not detectedCytomegal...   \n10  Hepatitis B virus (HBV): Not detectedCytomegal...   \n11  Hepatitis B virus (HBV): Not detectedCytomegal...   \n12  Hepatitis B virus (HBV): Not detectedCytomegal...   \n13  Hepatitis B virus (HBV): Not detectedCytomegal...   \n14  Hepatitis B virus (HBV): Not detectedCytomegal...   \n15  Hepatitis B virus (HBV): Not detectedCytomegal...   \n16  Hepatitis B virus (HBV): Not detectedCytomegal...   \n17  Hepatitis B virus (HBV): Not detectedCytomegal...   \n18  Cytomegalovirus (CMV): Not detectedEpstein-Bar...   \n19  Cytomegalovirus (CMV): Not detectedEpstein-Bar...   \n20  Cytomegalovirus (CMV): Not detectedEpstein-Bar...   \n21  Cytomegalovirus (CMV): Not detectedEpstein-Bar...   \n22  Cytomegalovirus (CMV): Not detectedEpstein-Bar...   \n23  Cytomegalovirus (CMV): Not detectedEpstein-Bar...   \n24  Cytomegalovirus (CMV): Not detectedEpstein-Bar...   \n25  Cytomegalovirus (CMV): Not detectedEpstein-Bar...   \n26  Cytomegalovirus (CMV): Not detectedEpstein-Bar...   \n27  Cytomegalovirus (CMV): Not detectedEpstein-Bar...   \n28  Cytomegalovirus (CMV): Not detectedEpstein-Bar...   \n29  Cytomegalovirus (CMV): Not detectedEpstein-Bar...   \n30  Cytomegalovirus (CMV): Not detectedEpstein-Bar...   \n31  Cytomegalovirus (CMV): Not detectedEpstein-Bar...   \n32  Cytomegalovirus (CMV): Not detectedEpstein-Bar...   \n33  Cytomegalovirus (CMV): Not detectedEpstein-Bar...   \n34  Cytomegalovirus (CMV): Not detectedEpstein-Bar...   \n35  Cytomegalovirus (CMV): Not detectedEpstein-Bar...   \n36  Cytomegalovirus (CMV): Not detectedEpstein-Bar...   \n37  Cytomegalovirus (CMV): Not detectedEpstein-Bar...   \n38  Cytomegalovirus (CMV): Not detectedEpstein-Bar...   \n39  Cytomegalovirus (CMV): Not detectedEpstein-Bar...   \n40  Cytomegalovirus (CMV): Not detectedEpstein-Bar...   \n41  Cytomegalovirus (CMV): Not detectedEpstein-Bar...   \n42  Cytomegalovirus (CMV): Not detectedEpstein-Bar...   \n43  Cytomegalovirus (CMV): Not detectedEpstein-Bar...   \n44  Cytomegalovirus (CMV): Not detectedEpstein-Bar...   \n45  Cytomegalovirus (CMV): Not detectedEpstein-Bar...   \n46  Cytomegalovirus (CMV): Not detectedEpstein-Bar...   \n47  Cytomegalovirus (CMV): Not detectedEpstein-Bar...   \n\n               history.depositors history.year_of_origin  \\\n0       Wellcome Sanger Institute                   2017   \n1       Wellcome Sanger Institute                   2017   \n2       Wellcome Sanger Institute                   2017   \n3       Wellcome Sanger Institute                   2017   \n4       Wellcome Sanger Institute                   2017   \n5       Wellcome Sanger Institute                    NaN   \n6       Wellcome Sanger Institute                   2017   \n7       Wellcome Sanger Institute                   2017   \n8       Wellcome Sanger Institute                   2017   \n9       Wellcome Sanger Institute                   2017   \n10      Wellcome Sanger Institute                   2018   \n11      Wellcome Sanger Institute                   2016   \n12      Wellcome Sanger Institute                   2018   \n13      Wellcome Sanger Institute                   2018   \n14      Wellcome Sanger Institute                   2018   \n15      Wellcome Sanger Institute                   2018   \n16      Wellcome Sanger Institute                    NaN   \n17      Wellcome Sanger Institute                   2018   \n18      Wellcome Sanger Institute                   2018   \n19      Wellcome Sanger Institute                   2018   \n20      Wellcome Sanger Institute                    NaN   \n21      Wellcome Sanger Institute                   2018   \n22      Wellcome Sanger Institute                   2018   \n23      Wellcome Sanger Institute                   2018   \n24      Wellcome Sanger Institute                   2018   \n25      Wellcome Sanger Institute                   2018   \n26      Wellcome Sanger Institute                   2018   \n27      Wellcome Sanger Institute                   2018   \n28  The Wellcome Sanger Institute                   2021   \n29      Wellcome Sanger Institute                   2021   \n30      Wellcome Sanger Institute                   2021   \n31      Wellcome Sanger Institute                   2021   \n32      Wellcome Sanger Institute                   2021   \n33      Wellcome Sanger Institute                   2021   \n34      Wellcome Sanger Institute                   2021   \n35      Wellcome Sanger Institute                   2021   \n36      Wellcome Sanger Institute                    NaN   \n37      Wellcome Sanger Institute                   2021   \n38      Wellcome Sanger Institute                   2021   \n39      Wellcome Sanger Institute                   2021   \n40      Wellcome Sanger Institute                   2021   \n41      Wellcome Sanger Institute                   2021   \n42      Wellcome Sanger Institute                   2021   \n43      Wellcome Sanger Institute                   2021   \n44      Wellcome Sanger Institute                   2021   \n45      Wellcome Sanger Institute                   2022   \n46      Wellcome Sanger Institute                   2022   \n47      Wellcome Sanger Institute                   2022   \n\n               history.special_collection  \\\n0   Human Cancer Models Initiative (HCMI)   \n1   Human Cancer Models Initiative (HCMI)   \n2   Human Cancer Models Initiative (HCMI)   \n3   Human Cancer Models Initiative (HCMI)   \n4   Human Cancer Models Initiative (HCMI)   \n5   Human Cancer Models Initiative (HCMI)   \n6   Human Cancer Models Initiative (HCMI)   \n7   Human Cancer Models Initiative (HCMI)   \n8   Human Cancer Models Initiative (HCMI)   \n9   Human Cancer Models Initiative (HCMI)   \n10  Human Cancer Models Initiative (HCMI)   \n11  Human Cancer Models Initiative (HCMI)   \n12  Human Cancer Models Initiative (HCMI)   \n13  Human Cancer Models Initiative (HCMI)   \n14  Human Cancer Models Initiative (HCMI)   \n15  Human Cancer Models Initiative (HCMI)   \n16  Human Cancer Models Initiative (HCMI)   \n17  Human Cancer Models Initiative (HCMI)   \n18  Human Cancer Models Initiative (HCMI)   \n19  Human Cancer Models Initiative (HCMI)   \n20  Human Cancer Models Initiative (HCMI)   \n21  Human Cancer Models Initiative (HCMI)   \n22  Human Cancer Models Initiative (HCMI)   \n23  Human Cancer Models Initiative (HCMI)   \n24  Human Cancer Models Initiative (HCMI)   \n25  Human Cancer Models Initiative (HCMI)   \n26  Human Cancer Models Initiative (HCMI)   \n27  Human Cancer Models Initiative (HCMI)   \n28  Human Cancer Models Initiative (HCMI)   \n29  Human Cancer Models Initiative (HCMI)   \n30  Human Cancer Models Initiative (HCMI)   \n31  Human Cancer Models Initiative (HCMI)   \n32  Human Cancer Models Initiative (HCMI)   \n33  Human Cancer Models Initiative (HCMI)   \n34  Human Cancer Models Initiative (HCMI)   \n35  Human Cancer Models Initiative (HCMI)   \n36  Human Cancer Models Initiative (HCMI)   \n37  Human Cancer Models Initiative (HCMI)   \n38  Human Cancer Models Initiative (HCMI)   \n39  Human Cancer Models Initiative (HCMI)   \n40  Human Cancer Models Initiative (HCMI)   \n41  Human Cancer Models Initiative (HCMI)   \n42  Human Cancer Models Initiative (HCMI)   \n43                                    NaN   \n44  Human Cancer Models Initiative (HCMI)   \n45  Human Cancer Models Initiative (HCMI)   \n46  Human Cancer Models Initiative (HCMI)   \n47  Human Cancer Models Initiative (HCMI)   \n\n                       legal_disclaimers.intended_use  \\\n0   This product is intended for laboratory resear...   \n1   This product is intended for laboratory resear...   \n2   This product is intended for laboratory resear...   \n3   This product is intended for laboratory resear...   \n4   This product is intended for laboratory resear...   \n5   This product is intended for laboratory resear...   \n6   This product is intended for laboratory resear...   \n7   This product is intended for laboratory resear...   \n8   This product is intended for laboratory resear...   \n9   This product is intended for laboratory resear...   \n10  This product is intended for laboratory resear...   \n11  This product is intended for laboratory resear...   \n12  This product is intended for laboratory resear...   \n13  This product is intended for laboratory resear...   \n14  This product is intended for laboratory resear...   \n15  This product is intended for laboratory resear...   \n16  This product is intended for laboratory resear...   \n17  This product is intended for laboratory resear...   \n18  This product is intended for laboratory resear...   \n19  This product is intended for laboratory resear...   \n20  This product is intended for laboratory resear...   \n21  This product is intended for laboratory resear...   \n22  This product is intended for laboratory resear...   \n23  This product is intended for laboratory resear...   \n24  This product is intended for laboratory resear...   \n25  This product is intended for laboratory resear...   \n26  This product is intended for laboratory resear...   \n27  This product is intended for laboratory resear...   \n28  This product is intended for laboratory resear...   \n29  This product is intended for laboratory resear...   \n30  This product is intended for laboratory resear...   \n31  This product is intended for laboratory resear...   \n32  This product is intended for laboratory resear...   \n33  This product is intended for laboratory resear...   \n34  This product is intended for laboratory resear...   \n35  This product is intended for laboratory resear...   \n36  This product is intended for laboratory resear...   \n37  This product is intended for laboratory resear...   \n38  This product is intended for laboratory resear...   \n39  This product is intended for laboratory resear...   \n40  This product is intended for laboratory resear...   \n41  This product is intended for laboratory resear...   \n42  This product is intended for laboratory resear...   \n43  This product is intended for laboratory resear...   \n44  This product is intended for laboratory resear...   \n45  This product is intended for laboratory resear...   \n46  This product is intended for laboratory resear...   \n47  This product is intended for laboratory resear...   \n\n                           legal_disclaimers.warranty  \\\n0   The product is provided 'AS IS' and the viabil...   \n1   The product is provided 'AS IS' and the viabil...   \n2   The product is provided 'AS IS' and the viabil...   \n3   The product is provided 'AS IS' and the viabil...   \n4   The product is provided 'AS IS' and the viabil...   \n5   The product is provided 'AS IS' and the viabil...   \n6   The product is provided 'AS IS' and the viabil...   \n7   The product is provided 'AS IS' and the viabil...   \n8   The product is provided 'AS IS' and the viabil...   \n9   The product is provided 'AS IS' and the viabil...   \n10  The product is provided 'AS IS' and the viabil...   \n11  The product is provided 'AS IS' and the viabil...   \n12  The product is provided 'AS IS' and the viabil...   \n13  The product is provided 'AS IS' and the viabil...   \n14  The product is provided 'AS IS' and the viabil...   \n15  The product is provided 'AS IS' and the viabil...   \n16  The product is provided 'AS IS' and the viabil...   \n17  The product is provided 'AS IS' and the viabil...   \n18  The product is provided 'AS IS' and the viabil...   \n19  The product is provided 'AS IS' and the viabil...   \n20  The product is provided 'AS IS' and the viabil...   \n21  The product is provided 'AS IS' and the viabil...   \n22  The product is provided 'AS IS' and the viabil...   \n23  The product is provided 'AS IS' and the viabil...   \n24  The product is provided 'AS IS' and the viabil...   \n25  The product is provided 'AS IS' and the viabil...   \n26  The product is provided 'AS IS' and the viabil...   \n27  The product is provided 'AS IS' and the viabil...   \n28  The product is provided 'AS IS' and the viabil...   \n29  The product is provided 'AS IS' and the viabil...   \n30  The product is provided 'AS IS' and the viabil...   \n31  The product is provided 'AS IS' and the viabil...   \n32  The product is provided 'AS IS' and the viabil...   \n33  The product is provided 'AS IS' and the viabil...   \n34  The product is provided 'AS IS' and the viabil...   \n35  The product is provided 'AS IS' and the viabil...   \n36  The product is provided 'AS IS' and the viabil...   \n37  The product is provided 'AS IS' and the viabil...   \n38  The product is provided 'AS IS' and the viabil...   \n39  The product is provided 'AS IS' and the viabil...   \n40  The product is provided 'AS IS' and the viabil...   \n41  The product is provided 'AS IS' and the viabil...   \n42  The product is provided 'AS IS' and the viabil...   \n43  The product is provided 'AS IS' and the viabil...   \n44  The product is provided 'AS IS' and the viabil...   \n45  The product is provided 'AS IS' and the viabil...   \n46  The product is provided 'AS IS' and the viabil...   \n47  The product is provided 'AS IS' and the viabil...   \n\n                        legal_disclaimers.disclaimers  \\\n0   This product is intended for laboratory resear...   \n1   This product is intended for laboratory resear...   \n2   This product is intended for laboratory resear...   \n3   This product is intended for laboratory resear...   \n4   This product is intended for laboratory resear...   \n5   This product is intended for laboratory resear...   \n6   This product is intended for laboratory resear...   \n7   This product is intended for laboratory resear...   \n8   This product is intended for laboratory resear...   \n9   This product is intended for laboratory resear...   \n10  This product is intended for laboratory resear...   \n11  This product is intended for laboratory resear...   \n12  This product is intended for laboratory resear...   \n13  This product is intended for laboratory resear...   \n14  This product is intended for laboratory resear...   \n15  This product is intended for laboratory resear...   \n16  This product is intended for laboratory resear...   \n17  This product is intended for laboratory resear...   \n18  This product is intended for laboratory resear...   \n19  This product is intended for laboratory resear...   \n20  This product is intended for laboratory resear...   \n21  This product is intended for laboratory resear...   \n22  This product is intended for laboratory resear...   \n23  This product is intended for laboratory resear...   \n24  This product is intended for laboratory resear...   \n25  This product is intended for laboratory resear...   \n26  This product is intended for laboratory resear...   \n27  This product is intended for laboratory resear...   \n28  This product is intended for laboratory resear...   \n29  This product is intended for laboratory resear...   \n30  This product is intended for laboratory resear...   \n31  This product is intended for laboratory resear...   \n32  This product is intended for laboratory resear...   \n33  This product is intended for laboratory resear...   \n34  This product is intended for laboratory resear...   \n35  This product is intended for laboratory resear...   \n36  This product is intended for laboratory resear...   \n37  This product is intended for laboratory resear...   \n38  This product is intended for laboratory resear...   \n39  This product is intended for laboratory resear...   \n40  This product is intended for laboratory resear...   \n41  This product is intended for laboratory resear...   \n42  This product is intended for laboratory resear...   \n43  This product is intended for laboratory resear...   \n44  This product is intended for laboratory resear...   \n45  This product is intended for laboratory resear...   \n46  This product is intended for laboratory resear...   \n47  This product is intended for laboratory resear...   \n\n                  handling_information.handling_notes  \\\n0                                                 NaN   \n1                                                 NaN   \n2                                                 NaN   \n3   Seeding density:We recommend seeding this mode...   \n4                                                 NaN   \n5                                                 NaN   \n6                                                 NaN   \n7                                                 NaN   \n8                                                 NaN   \n9   Seeding density:We recommend seeding this mode...   \n10                                                NaN   \n11                                                NaN   \n12                                                NaN   \n13                                                NaN   \n14                                                NaN   \n15                                                NaN   \n16                                                NaN   \n17                                                NaN   \n18                                                NaN   \n19                                                NaN   \n20  Seeding density:We recommend seeding this mode...   \n21                                                NaN   \n22                                                NaN   \n23                                                NaN   \n24                                                NaN   \n25                                                NaN   \n26                                                NaN   \n27                                                NaN   \n28                                                NaN   \n29                                                NaN   \n30                                                NaN   \n31                                                NaN   \n32                                                NaN   \n33                                                NaN   \n34                                                NaN   \n35                                                NaN   \n36                                                NaN   \n37                                                NaN   \n38                                                NaN   \n39                                                NaN   \n40                                                NaN   \n41                                                NaN   \n42                                                NaN   \n43                                                NaN   \n44                                                NaN   \n45                                                NaN   \n46                                                NaN   \n47                                                NaN   \n\n   characteristics.metastatic  \n0                         NaN  \n1                         NaN  \n2                         NaN  \n3                         NaN  \n4                         NaN  \n5                         NaN  \n6                         NaN  \n7                         NaN  \n8                         NaN  \n9                         NaN  \n10                        NaN  \n11                        NaN  \n12                        NaN  \n13                        NaN  \n14                        NaN  \n15                        NaN  \n16          Metastatic; Liver  \n17                        NaN  \n18                        NaN  \n19                        NaN  \n20                        NaN  \n21                        NaN  \n22                        NaN  \n23                        NaN  \n24                        NaN  \n25                        NaN  \n26                        NaN  \n27                        NaN  \n28                        NaN  \n29                        NaN  \n30                        NaN  \n31                        NaN  \n32                        NaN  \n33                        NaN  \n34                        NaN  \n35                        NaN  \n36                        NaN  \n37                        NaN  \n38                        NaN  \n39                        NaN  \n40                        NaN  \n41                        NaN  \n42                        NaN  \n43                        NaN  \n44                        NaN  \n45                        NaN  \n46                        NaN  \n47                        NaN  \n\n[48 rows x 36 columns]",
      "text/html": "<div>\n<style scoped>\n    .dataframe tbody tr th:only-of-type {\n        vertical-align: middle;\n    }\n\n    .dataframe tbody tr th {\n        vertical-align: top;\n    }\n\n    .dataframe thead th {\n        text-align: right;\n    }\n</style>\n<table border=\"1\" class=\"dataframe\">\n  <thead>\n    <tr style=\"text-align: right;\">\n      <th></th>\n      <th>atcc</th>\n      <th>url</th>\n      <th>product_information.product_category</th>\n      <th>product_information.product_type</th>\n      <th>product_information.organism</th>\n      <th>product_information.morphology</th>\n      <th>product_information.tissue</th>\n      <th>product_information.disease</th>\n      <th>product_information.applications</th>\n      <th>product_information.product_format</th>\n      <th>...</th>\n      <th>quality_control_specifications.mycoplasma_contamination</th>\n      <th>quality_control_specifications.virus_testing</th>\n      <th>history.depositors</th>\n      <th>history.year_of_origin</th>\n      <th>history.special_collection</th>\n      <th>legal_disclaimers.intended_use</th>\n      <th>legal_disclaimers.warranty</th>\n      <th>legal_disclaimers.disclaimers</th>\n      <th>handling_information.handling_notes</th>\n      <th>characteristics.metastatic</th>\n    </tr>\n  </thead>\n  <tbody>\n    <tr>\n      <th>0</th>\n      <td>PDM-44</td>\n      <td>https://www.atcc.org/products/pdm-44</td>\n      <td>Human cells</td>\n      <td>Cell modelOrganoid</td>\n      <td>Homo sapiens, human</td>\n      <td>organoid</td>\n      <td>Large intestine; Rectum</td>\n      <td>Adenoma; Pre-malignant</td>\n      <td>3D cell cultureCancer research</td>\n      <td>Frozen</td>\n      <td>...</td>\n      <td>Not detected</td>\n      <td>Hepatitis B virus (HBV): Not detectedCytomegal...</td>\n      <td>Wellcome Sanger Institute</td>\n      <td>2017</td>\n      <td>Human Cancer Models Initiative (HCMI)</td>\n      <td>This product is intended for laboratory resear...</td>\n      <td>The product is provided 'AS IS' and the viabil...</td>\n      <td>This product is intended for laboratory resear...</td>\n      <td>NaN</td>\n      <td>NaN</td>\n    </tr>\n    <tr>\n      <th>1</th>\n      <td>PDM-43</td>\n      <td>https://www.atcc.org/products/pdm-43</td>\n      <td>Human cells</td>\n      <td>Cell modelOrganoid</td>\n      <td>Homo sapiens, human</td>\n      <td>organoid</td>\n      <td>Large intestine; Rectum</td>\n      <td>Adenocarcinoma; Primary</td>\n      <td>3D cell cultureCancer research</td>\n      <td>Frozen</td>\n      <td>...</td>\n      <td>Not detected</td>\n      <td>Hepatitis B virus (HBV): Not detectedCytomegal...</td>\n      <td>Wellcome Sanger Institute</td>\n      <td>2017</td>\n      <td>Human Cancer Models Initiative (HCMI)</td>\n      <td>This product is intended for laboratory resear...</td>\n      <td>The product is provided 'AS IS' and the viabil...</td>\n      <td>This product is intended for laboratory resear...</td>\n      <td>NaN</td>\n      <td>NaN</td>\n    </tr>\n    <tr>\n      <th>2</th>\n      <td>PDM-67</td>\n      <td>https://www.atcc.org/products/pdm-67</td>\n      <td>Human cells</td>\n      <td>Cell modelOrganoid</td>\n      <td>Homo sapiens, human</td>\n      <td>organoid</td>\n      <td>Esophagus</td>\n      <td>Adenocarcinoma; Primary</td>\n      <td>3D cell cultureCancer research</td>\n      <td>Frozen</td>\n      <td>...</td>\n      <td>Not detected</td>\n      <td>Hepatitis B virus (HBV): Not detectedCytomegal...</td>\n      <td>Wellcome Sanger Institute</td>\n      <td>2017</td>\n      <td>Human Cancer Models Initiative (HCMI)</td>\n      <td>This product is intended for laboratory resear...</td>\n      <td>The product is provided 'AS IS' and the viabil...</td>\n      <td>This product is intended for laboratory resear...</td>\n      <td>NaN</td>\n      <td>NaN</td>\n    </tr>\n    <tr>\n      <th>3</th>\n      <td>PDM-71</td>\n      <td>https://www.atcc.org/products/pdm-71</td>\n      <td>Human cells</td>\n      <td>Cell modelOrganoid</td>\n      <td>Homo sapiens, human</td>\n      <td>organoid</td>\n      <td>Esophagus</td>\n      <td>Adenocarcinoma; Primary</td>\n      <td>3D cell cultureCancer research</td>\n      <td>Frozen</td>\n      <td>...</td>\n      <td>Not detected</td>\n      <td>Hepatitis B virus (HBV): Not detectedCytomegal...</td>\n      <td>Wellcome Sanger Institute</td>\n      <td>2017</td>\n      <td>Human Cancer Models Initiative (HCMI)</td>\n      <td>This product is intended for laboratory resear...</td>\n      <td>The product is provided 'AS IS' and the viabil...</td>\n      <td>This product is intended for laboratory resear...</td>\n      <td>Seeding density:We recommend seeding this mode...</td>\n      <td>NaN</td>\n    </tr>\n    <tr>\n      <th>4</th>\n      <td>PDM-47</td>\n      <td>https://www.atcc.org/products/pdm-47</td>\n      <td>Human cells</td>\n      <td>Cell modelOrganoid</td>\n      <td>Homo sapiens, human</td>\n      <td>organoid</td>\n      <td>Large intestine; Rectum</td>\n      <td>Adenocarcinoma; Primary</td>\n      <td>3D cell cultureCancer research</td>\n      <td>Frozen</td>\n      <td>...</td>\n      <td>Not detected</td>\n      <td>Hepatitis B virus (HBV): Not detectedCytomegal...</td>\n      <td>Wellcome Sanger Institute</td>\n      <td>2017</td>\n      <td>Human Cancer Models Initiative (HCMI)</td>\n      <td>This product is intended for laboratory resear...</td>\n      <td>The product is provided 'AS IS' and the viabil...</td>\n      <td>This product is intended for laboratory resear...</td>\n      <td>NaN</td>\n      <td>NaN</td>\n    </tr>\n    <tr>\n      <th>5</th>\n      <td>PDM-46</td>\n      <td>https://www.atcc.org/products/pdm-46</td>\n      <td>Human cells</td>\n      <td>Cell modelOrganoid</td>\n      <td>Homo sapiens, human</td>\n      <td>organoid</td>\n      <td>Large intestine; Colon</td>\n      <td>Adenocarcinoma; Primary</td>\n      <td>3D cell cultureCancer research</td>\n      <td>Frozen</td>\n      <td>...</td>\n      <td>Not detected</td>\n      <td>Hepatitis B virus (HBV): Not detectedCytomegal...</td>\n      <td>Wellcome Sanger Institute</td>\n      <td>NaN</td>\n      <td>Human Cancer Models Initiative (HCMI)</td>\n      <td>This product is intended for laboratory resear...</td>\n      <td>The product is provided 'AS IS' and the viabil...</td>\n      <td>This product is intended for laboratory resear...</td>\n      <td>NaN</td>\n      <td>NaN</td>\n    </tr>\n    <tr>\n      <th>6</th>\n      <td>PDM-90</td>\n      <td>https://www.atcc.org/products/pdm-90</td>\n      <td>Human cells</td>\n      <td>Cell modelOrganoid</td>\n      <td>Homo sapiens, human</td>\n      <td>organoid</td>\n      <td>Pancreas</td>\n      <td>Adenocarcinoma; Primary</td>\n      <td>3D cell cultureCancer research</td>\n      <td>Frozen</td>\n      <td>...</td>\n      <td>Not detected</td>\n      <td>Hepatitis B virus (HBV): Not detectedCytomegal...</td>\n      <td>Wellcome Sanger Institute</td>\n      <td>2017</td>\n      <td>Human Cancer Models Initiative (HCMI)</td>\n      <td>This product is intended for laboratory resear...</td>\n      <td>The product is provided 'AS IS' and the viabil...</td>\n      <td>This product is intended for laboratory resear...</td>\n      <td>NaN</td>\n      <td>NaN</td>\n    </tr>\n    <tr>\n      <th>7</th>\n      <td>PDM-58</td>\n      <td>https://www.atcc.org/products/pdm-58</td>\n      <td>Human cells</td>\n      <td>Cell modelOrganoid</td>\n      <td>Homo sapiens, human</td>\n      <td>organoid</td>\n      <td>Large intestine; Colon</td>\n      <td>Adenocarcinoma; Primary</td>\n      <td>3D cell cultureCancer research</td>\n      <td>Frozen</td>\n      <td>...</td>\n      <td>Not detected</td>\n      <td>Hepatitis B virus (HBV): Not detectedCytomegal...</td>\n      <td>Wellcome Sanger Institute</td>\n      <td>2017</td>\n      <td>Human Cancer Models Initiative (HCMI)</td>\n      <td>This product is intended for laboratory resear...</td>\n      <td>The product is provided 'AS IS' and the viabil...</td>\n      <td>This product is intended for laboratory resear...</td>\n      <td>NaN</td>\n      <td>NaN</td>\n    </tr>\n    <tr>\n      <th>8</th>\n      <td>PDM-73</td>\n      <td>https://www.atcc.org/products/pdm-73</td>\n      <td>Human cells</td>\n      <td>Cell modelOrganoid</td>\n      <td>Homo sapiens, human</td>\n      <td>organoid</td>\n      <td>Esophagus</td>\n      <td>Malignant neoplasm</td>\n      <td>3D cell cultureCancer research</td>\n      <td>Frozen</td>\n      <td>...</td>\n      <td>Not detected</td>\n      <td>Hepatitis B virus (HBV): Not detectedCytomegal...</td>\n      <td>Wellcome Sanger Institute</td>\n      <td>2017</td>\n      <td>Human Cancer Models Initiative (HCMI)</td>\n      <td>This product is intended for laboratory resear...</td>\n      <td>The product is provided 'AS IS' and the viabil...</td>\n      <td>This product is intended for laboratory resear...</td>\n      <td>NaN</td>\n      <td>NaN</td>\n    </tr>\n    <tr>\n      <th>9</th>\n      <td>PDM-79</td>\n      <td>https://www.atcc.org/products/pdm-79</td>\n      <td>Human cells</td>\n      <td>Cell modelOrganoid</td>\n      <td>Homo sapiens, human</td>\n      <td>organoid</td>\n      <td>Esophagus</td>\n      <td>Adenocarcinoma; Primary</td>\n      <td>3D cell cultureCancer research</td>\n      <td>Frozen</td>\n      <td>...</td>\n      <td>Not detected</td>\n      <td>Hepatitis B virus (HBV): Not detectedCytomegal...</td>\n      <td>Wellcome Sanger Institute</td>\n      <td>2017</td>\n      <td>Human Cancer Models Initiative (HCMI)</td>\n      <td>This product is intended for laboratory resear...</td>\n      <td>The product is provided 'AS IS' and the viabil...</td>\n      <td>This product is intended for laboratory resear...</td>\n      <td>Seeding density:We recommend seeding this mode...</td>\n      <td>NaN</td>\n    </tr>\n    <tr>\n      <th>10</th>\n      <td>PDM-50</td>\n      <td>https://www.atcc.org/products/pdm-50</td>\n      <td>Human cells</td>\n      <td>Cell modelOrganoid</td>\n      <td>Homo sapiens, human</td>\n      <td>organoid</td>\n      <td>Large intestine; Ascending colon</td>\n      <td>Malignant neoplasm</td>\n      <td>3D cell cultureCancer research</td>\n      <td>Frozen</td>\n      <td>...</td>\n      <td>Not detected</td>\n      <td>Hepatitis B virus (HBV): Not detectedCytomegal...</td>\n      <td>Wellcome Sanger Institute</td>\n      <td>2018</td>\n      <td>Human Cancer Models Initiative (HCMI)</td>\n      <td>This product is intended for laboratory resear...</td>\n      <td>The product is provided 'AS IS' and the viabil...</td>\n      <td>This product is intended for laboratory resear...</td>\n      <td>NaN</td>\n      <td>NaN</td>\n    </tr>\n    <tr>\n      <th>11</th>\n      <td>PDM-65</td>\n      <td>https://www.atcc.org/products/pdm-65</td>\n      <td>Human cells</td>\n      <td>Cell modelOrganoid</td>\n      <td>Homo sapiens, human</td>\n      <td>organoid</td>\n      <td>Esophagus</td>\n      <td>Malignant neoplasm</td>\n      <td>3D cell cultureCancer research</td>\n      <td>Frozen</td>\n      <td>...</td>\n      <td>Not detected</td>\n      <td>Hepatitis B virus (HBV): Not detectedCytomegal...</td>\n      <td>Wellcome Sanger Institute</td>\n      <td>2016</td>\n      <td>Human Cancer Models Initiative (HCMI)</td>\n      <td>This product is intended for laboratory resear...</td>\n      <td>The product is provided 'AS IS' and the viabil...</td>\n      <td>This product is intended for laboratory resear...</td>\n      <td>NaN</td>\n      <td>NaN</td>\n    </tr>\n    <tr>\n      <th>12</th>\n      <td>PDM-72</td>\n      <td>https://www.atcc.org/products/pdm-72</td>\n      <td>Human cells</td>\n      <td>Cell modelOrganoid</td>\n      <td>Homo sapiens, human</td>\n      <td>organoid</td>\n      <td>Esophagus</td>\n      <td>Adenocarcinoma; Primary</td>\n      <td>3D cell cultureCancer research</td>\n      <td>Frozen</td>\n      <td>...</td>\n      <td>Not detected</td>\n      <td>Hepatitis B virus (HBV): Not detectedCytomegal...</td>\n      <td>Wellcome Sanger Institute</td>\n      <td>2018</td>\n      <td>Human Cancer Models Initiative (HCMI)</td>\n      <td>This product is intended for laboratory resear...</td>\n      <td>The product is provided 'AS IS' and the viabil...</td>\n      <td>This product is intended for laboratory resear...</td>\n      <td>NaN</td>\n      <td>NaN</td>\n    </tr>\n    <tr>\n      <th>13</th>\n      <td>PDM-53</td>\n      <td>https://www.atcc.org/products/pdm-53</td>\n      <td>Human cells</td>\n      <td>Cell modelOrganoid</td>\n      <td>Homo sapiens, human</td>\n      <td>organoid</td>\n      <td>Large intestine; Colon</td>\n      <td>Adenocarcinoma; Primary</td>\n      <td>3D cell cultureCancer research</td>\n      <td>Frozen</td>\n      <td>...</td>\n      <td>Not detected</td>\n      <td>Hepatitis B virus (HBV): Not detectedCytomegal...</td>\n      <td>Wellcome Sanger Institute</td>\n      <td>2018</td>\n      <td>Human Cancer Models Initiative (HCMI)</td>\n      <td>This product is intended for laboratory resear...</td>\n      <td>The product is provided 'AS IS' and the viabil...</td>\n      <td>This product is intended for laboratory resear...</td>\n      <td>NaN</td>\n      <td>NaN</td>\n    </tr>\n    <tr>\n      <th>14</th>\n      <td>PDM-83</td>\n      <td>https://www.atcc.org/products/pdm-83</td>\n      <td>Human cells</td>\n      <td>Cell modelOrganoid</td>\n      <td>Homo sapiens, human</td>\n      <td>organoid</td>\n      <td>Esophagus</td>\n      <td>Malignant neoplasm</td>\n      <td>3D cell cultureCancer research</td>\n      <td>Frozen</td>\n      <td>...</td>\n      <td>Not detected</td>\n      <td>Hepatitis B virus (HBV): Not detectedCytomegal...</td>\n      <td>Wellcome Sanger Institute</td>\n      <td>2018</td>\n      <td>Human Cancer Models Initiative (HCMI)</td>\n      <td>This product is intended for laboratory resear...</td>\n      <td>The product is provided 'AS IS' and the viabil...</td>\n      <td>This product is intended for laboratory resear...</td>\n      <td>NaN</td>\n      <td>NaN</td>\n    </tr>\n    <tr>\n      <th>15</th>\n      <td>PDM-45</td>\n      <td>https://www.atcc.org/products/pdm-45</td>\n      <td>Human cells</td>\n      <td>Cell modelOrganoid</td>\n      <td>Homo sapiens, human</td>\n      <td>organoid</td>\n      <td>Large intestine; Colon</td>\n      <td>Adenocarcinoma; Primary</td>\n      <td>3D cell cultureCancer research</td>\n      <td>Frozen</td>\n      <td>...</td>\n      <td>Not detected</td>\n      <td>Hepatitis B virus (HBV): Not detectedCytomegal...</td>\n      <td>Wellcome Sanger Institute</td>\n      <td>2018</td>\n      <td>Human Cancer Models Initiative (HCMI)</td>\n      <td>This product is intended for laboratory resear...</td>\n      <td>The product is provided 'AS IS' and the viabil...</td>\n      <td>This product is intended for laboratory resear...</td>\n      <td>NaN</td>\n      <td>NaN</td>\n    </tr>\n    <tr>\n      <th>16</th>\n      <td>PDM-42</td>\n      <td>https://www.atcc.org/products/pdm-42</td>\n      <td>Human cells</td>\n      <td>Cell modelOrganoid</td>\n      <td>Homo sapiens, human</td>\n      <td>Organoid</td>\n      <td>Large intestine; Colon</td>\n      <td>Adenocarcinoma; Metastatic</td>\n      <td>3D cell cultureCancer research</td>\n      <td>Frozen</td>\n      <td>...</td>\n      <td>Not detected</td>\n      <td>Hepatitis B virus (HBV): Not detectedCytomegal...</td>\n      <td>Wellcome Sanger Institute</td>\n      <td>NaN</td>\n      <td>Human Cancer Models Initiative (HCMI)</td>\n      <td>This product is intended for laboratory resear...</td>\n      <td>The product is provided 'AS IS' and the viabil...</td>\n      <td>This product is intended for laboratory resear...</td>\n      <td>NaN</td>\n      <td>Metastatic; Liver</td>\n    </tr>\n    <tr>\n      <th>17</th>\n      <td>PDM-48</td>\n      <td>https://www.atcc.org/products/pdm-48</td>\n      <td>Human cells</td>\n      <td>Cell modelOrganoid</td>\n      <td>Homo sapiens, human</td>\n      <td>Organoid</td>\n      <td>Large intestine; Colon</td>\n      <td>Adenoma; Pre-malignant</td>\n      <td>3D cell cultureCancer research</td>\n      <td>Frozen</td>\n      <td>...</td>\n      <td>Not detected</td>\n      <td>Hepatitis B virus (HBV): Not detectedCytomegal...</td>\n      <td>Wellcome Sanger Institute</td>\n      <td>2018</td>\n      <td>Human Cancer Models Initiative (HCMI)</td>\n      <td>This product is intended for laboratory resear...</td>\n      <td>The product is provided 'AS IS' and the viabil...</td>\n      <td>This product is intended for laboratory resear...</td>\n      <td>NaN</td>\n      <td>NaN</td>\n    </tr>\n    <tr>\n      <th>18</th>\n      <td>PDM-51</td>\n      <td>https://www.atcc.org/products/pdm-51</td>\n      <td>Human cells</td>\n      <td>Cell modelOrganoid</td>\n      <td>Homo sapiens, human</td>\n      <td>organoid</td>\n      <td>Large intestine; Colon</td>\n      <td>Adenocarcinoma; Primary</td>\n      <td>3D cell cultureCancer research</td>\n      <td>Frozen</td>\n      <td>...</td>\n      <td>Not detected</td>\n      <td>Cytomegalovirus (CMV): Not detectedEpstein-Bar...</td>\n      <td>Wellcome Sanger Institute</td>\n      <td>2018</td>\n      <td>Human Cancer Models Initiative (HCMI)</td>\n      <td>This product is intended for laboratory resear...</td>\n      <td>The product is provided 'AS IS' and the viabil...</td>\n      <td>This product is intended for laboratory resear...</td>\n      <td>NaN</td>\n      <td>NaN</td>\n    </tr>\n    <tr>\n      <th>19</th>\n      <td>PDM-57</td>\n      <td>https://www.atcc.org/products/pdm-57</td>\n      <td>Human cells</td>\n      <td>Cell modelOrganoid</td>\n      <td>Homo sapiens, human</td>\n      <td>organoid</td>\n      <td>Large intestine; Colon</td>\n      <td>Adenocarcinoma; Primary</td>\n      <td>3D cell cultureCancer research</td>\n      <td>Frozen</td>\n      <td>...</td>\n      <td>Not detected</td>\n      <td>Cytomegalovirus (CMV): Not detectedEpstein-Bar...</td>\n      <td>Wellcome Sanger Institute</td>\n      <td>2018</td>\n      <td>Human Cancer Models Initiative (HCMI)</td>\n      <td>This product is intended for laboratory resear...</td>\n      <td>The product is provided 'AS IS' and the viabil...</td>\n      <td>This product is intended for laboratory resear...</td>\n      <td>NaN</td>\n      <td>NaN</td>\n    </tr>\n    <tr>\n      <th>20</th>\n      <td>PDM-74</td>\n      <td>https://www.atcc.org/products/pdm-74</td>\n      <td>Human cells</td>\n      <td>Cell modelOrganoid</td>\n      <td>Homo sapiens, human</td>\n      <td>organoid</td>\n      <td>Esophagus</td>\n      <td>Adenocarcinoma; Primary</td>\n      <td>3D cell cultureCancer research</td>\n      <td>Frozen</td>\n      <td>...</td>\n      <td>Not detected</td>\n      <td>Cytomegalovirus (CMV): Not detectedEpstein-Bar...</td>\n      <td>Wellcome Sanger Institute</td>\n      <td>NaN</td>\n      <td>Human Cancer Models Initiative (HCMI)</td>\n      <td>This product is intended for laboratory resear...</td>\n      <td>The product is provided 'AS IS' and the viabil...</td>\n      <td>This product is intended for laboratory resear...</td>\n      <td>Seeding density:We recommend seeding this mode...</td>\n      <td>NaN</td>\n    </tr>\n    <tr>\n      <th>21</th>\n      <td>PDM-70</td>\n      <td>https://www.atcc.org/products/pdm-70</td>\n      <td>Human cells</td>\n      <td>Cell modelOrganoid</td>\n      <td>Homo sapiens, human</td>\n      <td>organoid</td>\n      <td>Esophagus</td>\n      <td>Malignant neoplasmAdenocarcinoma</td>\n      <td>3D cell cultureCancer research</td>\n      <td>Frozen</td>\n      <td>...</td>\n      <td>Not detected</td>\n      <td>Cytomegalovirus (CMV): Not detectedEpstein-Bar...</td>\n      <td>Wellcome Sanger Institute</td>\n      <td>2018</td>\n      <td>Human Cancer Models Initiative (HCMI)</td>\n      <td>This product is intended for laboratory resear...</td>\n      <td>The product is provided 'AS IS' and the viabil...</td>\n      <td>This product is intended for laboratory resear...</td>\n      <td>NaN</td>\n      <td>NaN</td>\n    </tr>\n    <tr>\n      <th>22</th>\n      <td>PDM-59</td>\n      <td>https://www.atcc.org/products/pdm-59</td>\n      <td>Human cells</td>\n      <td>Cell modelOrganoid</td>\n      <td>Homo sapiens, human</td>\n      <td>organoid</td>\n      <td>Large intestine; Colon</td>\n      <td>Adenocarcinoma; Primary</td>\n      <td>3D cell cultureCancer research</td>\n      <td>Frozen</td>\n      <td>...</td>\n      <td>Not detected</td>\n      <td>Cytomegalovirus (CMV): Not detectedEpstein-Bar...</td>\n      <td>Wellcome Sanger Institute</td>\n      <td>2018</td>\n      <td>Human Cancer Models Initiative (HCMI)</td>\n      <td>This product is intended for laboratory resear...</td>\n      <td>The product is provided 'AS IS' and the viabil...</td>\n      <td>This product is intended for laboratory resear...</td>\n      <td>NaN</td>\n      <td>NaN</td>\n    </tr>\n    <tr>\n      <th>23</th>\n      <td>PDM-68</td>\n      <td>https://www.atcc.org/products/pdm-68</td>\n      <td>Human cells</td>\n      <td>Cell modelOrganoid</td>\n      <td>Homo sapiens, human</td>\n      <td>organoid</td>\n      <td>Esophagus</td>\n      <td>Adenocarcinoma; Primary</td>\n      <td>3D cell cultureCancer research</td>\n      <td>Frozen</td>\n      <td>...</td>\n      <td>Not detected</td>\n      <td>Cytomegalovirus (CMV): Not detectedEpstein-Bar...</td>\n      <td>Wellcome Sanger Institute</td>\n      <td>2018</td>\n      <td>Human Cancer Models Initiative (HCMI)</td>\n      <td>This product is intended for laboratory resear...</td>\n      <td>The product is provided 'AS IS' and the viabil...</td>\n      <td>This product is intended for laboratory resear...</td>\n      <td>NaN</td>\n      <td>NaN</td>\n    </tr>\n    <tr>\n      <th>24</th>\n      <td>PDM-60</td>\n      <td>https://www.atcc.org/products/pdm-60</td>\n      <td>Human cells</td>\n      <td>Cell modelOrganoid</td>\n      <td>Homo sapiens, human</td>\n      <td>organoid</td>\n      <td>Large intestine; Colon</td>\n      <td>Adenocarcinoma; Primary</td>\n      <td>3D cell cultureCancer research</td>\n      <td>Frozen</td>\n      <td>...</td>\n      <td>Not detected</td>\n      <td>Cytomegalovirus (CMV): Not detectedEpstein-Bar...</td>\n      <td>Wellcome Sanger Institute</td>\n      <td>2018</td>\n      <td>Human Cancer Models Initiative (HCMI)</td>\n      <td>This product is intended for laboratory resear...</td>\n      <td>The product is provided 'AS IS' and the viabil...</td>\n      <td>This product is intended for laboratory resear...</td>\n      <td>NaN</td>\n      <td>NaN</td>\n    </tr>\n    <tr>\n      <th>25</th>\n      <td>PDM-61</td>\n      <td>https://www.atcc.org/products/pdm-61</td>\n      <td>Human cells</td>\n      <td>Cell modelOrganoid</td>\n      <td>Homo sapiens, human</td>\n      <td>organoid</td>\n      <td>Small intestine; Colon</td>\n      <td>Adenocarcinoma; Primary</td>\n      <td>3D cell cultureCancer research</td>\n      <td>Frozen</td>\n      <td>...</td>\n      <td>Not detected</td>\n      <td>Cytomegalovirus (CMV): Not detectedEpstein-Bar...</td>\n      <td>Wellcome Sanger Institute</td>\n      <td>2018</td>\n      <td>Human Cancer Models Initiative (HCMI)</td>\n      <td>This product is intended for laboratory resear...</td>\n      <td>The product is provided 'AS IS' and the viabil...</td>\n      <td>This product is intended for laboratory resear...</td>\n      <td>NaN</td>\n      <td>NaN</td>\n    </tr>\n    <tr>\n      <th>26</th>\n      <td>PDM-62</td>\n      <td>https://www.atcc.org/products/pdm-62</td>\n      <td>Human cells</td>\n      <td>Cell modelOrganoid</td>\n      <td>Homo sapiens, human</td>\n      <td>organoid</td>\n      <td>Small intestine; Rectum</td>\n      <td>Adenocarcinoma; Primary</td>\n      <td>3D cell cultureCancer research</td>\n      <td>Frozen</td>\n      <td>...</td>\n      <td>Not detected</td>\n      <td>Cytomegalovirus (CMV): Not detectedEpstein-Bar...</td>\n      <td>Wellcome Sanger Institute</td>\n      <td>2018</td>\n      <td>Human Cancer Models Initiative (HCMI)</td>\n      <td>This product is intended for laboratory resear...</td>\n      <td>The product is provided 'AS IS' and the viabil...</td>\n      <td>This product is intended for laboratory resear...</td>\n      <td>NaN</td>\n      <td>NaN</td>\n    </tr>\n    <tr>\n      <th>27</th>\n      <td>PDM-78</td>\n      <td>https://www.atcc.org/products/pdm-78</td>\n      <td>Human cells</td>\n      <td>Cell modelOrganoid</td>\n      <td>Homo sapiens, human</td>\n      <td>organoid</td>\n      <td>Esophagus</td>\n      <td>Adenocarcinoma; Primary</td>\n      <td>3D cell cultureCancer research</td>\n      <td>Frozen</td>\n      <td>...</td>\n      <td>Not detected</td>\n      <td>Cytomegalovirus (CMV): Not detectedEpstein-Bar...</td>\n      <td>Wellcome Sanger Institute</td>\n      <td>2018</td>\n      <td>Human Cancer Models Initiative (HCMI)</td>\n      <td>This product is intended for laboratory resear...</td>\n      <td>The product is provided 'AS IS' and the viabil...</td>\n      <td>This product is intended for laboratory resear...</td>\n      <td>NaN</td>\n      <td>NaN</td>\n    </tr>\n    <tr>\n      <th>28</th>\n      <td>PDM-64</td>\n      <td>https://www.atcc.org/products/pdm-64</td>\n      <td>Human cells</td>\n      <td>Cell modelOrganoid</td>\n      <td>Homo sapiens, human</td>\n      <td>organoid</td>\n      <td>Large intestine; Colon</td>\n      <td>Adenocarcinoma; Primary</td>\n      <td>Cancer research3D cell culture</td>\n      <td>Frozen</td>\n      <td>...</td>\n      <td>Not detected</td>\n      <td>Cytomegalovirus (CMV): Not detectedEpstein-Bar...</td>\n      <td>The Wellcome Sanger Institute</td>\n      <td>2021</td>\n      <td>Human Cancer Models Initiative (HCMI)</td>\n      <td>This product is intended for laboratory resear...</td>\n      <td>The product is provided 'AS IS' and the viabil...</td>\n      <td>This product is intended for laboratory resear...</td>\n      <td>NaN</td>\n      <td>NaN</td>\n    </tr>\n    <tr>\n      <th>29</th>\n      <td>PDM-76</td>\n      <td>https://www.atcc.org/products/pdm-76</td>\n      <td>Human cells</td>\n      <td>Cell modelOrganoid</td>\n      <td>Homo sapiens, human</td>\n      <td>organoid</td>\n      <td>Esophagus</td>\n      <td>Adenocarcinoma; Primary</td>\n      <td>3D cell cultureCancer research</td>\n      <td>Frozen</td>\n      <td>...</td>\n      <td>Not detected</td>\n      <td>Cytomegalovirus (CMV): Not detectedEpstein-Bar...</td>\n      <td>Wellcome Sanger Institute</td>\n      <td>2021</td>\n      <td>Human Cancer Models Initiative (HCMI)</td>\n      <td>This product is intended for laboratory resear...</td>\n      <td>The product is provided 'AS IS' and the viabil...</td>\n      <td>This product is intended for laboratory resear...</td>\n      <td>NaN</td>\n      <td>NaN</td>\n    </tr>\n    <tr>\n      <th>30</th>\n      <td>PDM-77</td>\n      <td>https://www.atcc.org/products/pdm-77</td>\n      <td>Human cells</td>\n      <td>Cell modelOrganoid</td>\n      <td>Homo sapiens, human</td>\n      <td>organoid</td>\n      <td>Esophagus</td>\n      <td>Adenocarcinoma; Primary</td>\n      <td>3D cell cultureCancer research</td>\n      <td>Frozen</td>\n      <td>...</td>\n      <td>Not detected</td>\n      <td>Cytomegalovirus (CMV): Not detectedEpstein-Bar...</td>\n      <td>Wellcome Sanger Institute</td>\n      <td>2021</td>\n      <td>Human Cancer Models Initiative (HCMI)</td>\n      <td>This product is intended for laboratory resear...</td>\n      <td>The product is provided 'AS IS' and the viabil...</td>\n      <td>This product is intended for laboratory resear...</td>\n      <td>NaN</td>\n      <td>NaN</td>\n    </tr>\n    <tr>\n      <th>31</th>\n      <td>PDM-82</td>\n      <td>https://www.atcc.org/products/pdm-82</td>\n      <td>Human cells</td>\n      <td>Cell modelOrganoid</td>\n      <td>Homo sapiens, human</td>\n      <td>Organoid</td>\n      <td>Esophagus</td>\n      <td>Adenocarcinoma; Primary</td>\n      <td>Cancer research3D cell culture</td>\n      <td>Frozen</td>\n      <td>...</td>\n      <td>Not detected</td>\n      <td>Cytomegalovirus (CMV): Not detectedEpstein-Bar...</td>\n      <td>Wellcome Sanger Institute</td>\n      <td>2021</td>\n      <td>Human Cancer Models Initiative (HCMI)</td>\n      <td>This product is intended for laboratory resear...</td>\n      <td>The product is provided 'AS IS' and the viabil...</td>\n      <td>This product is intended for laboratory resear...</td>\n      <td>NaN</td>\n      <td>NaN</td>\n    </tr>\n    <tr>\n      <th>32</th>\n      <td>PDM-63</td>\n      <td>https://www.atcc.org/products/pdm-63</td>\n      <td>Human cells</td>\n      <td>Cell modelOrganoid</td>\n      <td>Homo sapiens, human</td>\n      <td>Organoid</td>\n      <td>Large intestine; Rectum</td>\n      <td>Adenocarcinoma; Primary</td>\n      <td>Cancer research3D cell culture</td>\n      <td>Frozen</td>\n      <td>...</td>\n      <td>Not detected</td>\n      <td>Cytomegalovirus (CMV): Not detectedEpstein-Bar...</td>\n      <td>Wellcome Sanger Institute</td>\n      <td>2021</td>\n      <td>Human Cancer Models Initiative (HCMI)</td>\n      <td>This product is intended for laboratory resear...</td>\n      <td>The product is provided 'AS IS' and the viabil...</td>\n      <td>This product is intended for laboratory resear...</td>\n      <td>NaN</td>\n      <td>NaN</td>\n    </tr>\n    <tr>\n      <th>33</th>\n      <td>PDM-81</td>\n      <td>https://www.atcc.org/products/pdm-81</td>\n      <td>Human cells</td>\n      <td>Cell modelOrganoid</td>\n      <td>Homo sapiens, human</td>\n      <td>Organoid</td>\n      <td>Esophagus</td>\n      <td>Adenocarcinoma; Primary</td>\n      <td>Cancer research3D cell culture</td>\n      <td>Frozen</td>\n      <td>...</td>\n      <td>Not detected</td>\n      <td>Cytomegalovirus (CMV): Not detectedEpstein-Bar...</td>\n      <td>Wellcome Sanger Institute</td>\n      <td>2021</td>\n      <td>Human Cancer Models Initiative (HCMI)</td>\n      <td>This product is intended for laboratory resear...</td>\n      <td>The product is provided 'AS IS' and the viabil...</td>\n      <td>This product is intended for laboratory resear...</td>\n      <td>NaN</td>\n      <td>NaN</td>\n    </tr>\n    <tr>\n      <th>34</th>\n      <td>PDM-55</td>\n      <td>https://www.atcc.org/products/pdm-55</td>\n      <td>Human cells</td>\n      <td>OrganoidCell model</td>\n      <td>Homo sapiens, human</td>\n      <td>Organoid</td>\n      <td>Large intestine; Rectum</td>\n      <td>Adenocarcinoma; Primary</td>\n      <td>Cancer research3D cell culture</td>\n      <td>Frozen</td>\n      <td>...</td>\n      <td>Not detected</td>\n      <td>Cytomegalovirus (CMV): Not detectedEpstein-Bar...</td>\n      <td>Wellcome Sanger Institute</td>\n      <td>2021</td>\n      <td>Human Cancer Models Initiative (HCMI)</td>\n      <td>This product is intended for laboratory resear...</td>\n      <td>The product is provided 'AS IS' and the viabil...</td>\n      <td>This product is intended for laboratory resear...</td>\n      <td>NaN</td>\n      <td>NaN</td>\n    </tr>\n    <tr>\n      <th>35</th>\n      <td>PDM-75</td>\n      <td>https://www.atcc.org/products/pdm-75</td>\n      <td>Human cells</td>\n      <td>OrganoidCell model</td>\n      <td>Homo sapiens, human</td>\n      <td>Organoid</td>\n      <td>Esophagus</td>\n      <td>Adenocarcinoma; Primary</td>\n      <td>Cancer research3D cell culture</td>\n      <td>Frozen</td>\n      <td>...</td>\n      <td>Not detected</td>\n      <td>Cytomegalovirus (CMV): Not detectedEpstein-Bar...</td>\n      <td>Wellcome Sanger Institute</td>\n      <td>2021</td>\n      <td>Human Cancer Models Initiative (HCMI)</td>\n      <td>This product is intended for laboratory resear...</td>\n      <td>The product is provided 'AS IS' and the viabil...</td>\n      <td>This product is intended for laboratory resear...</td>\n      <td>NaN</td>\n      <td>NaN</td>\n    </tr>\n    <tr>\n      <th>36</th>\n      <td>PDM-330</td>\n      <td>https://www.atcc.org/products/pdm-330</td>\n      <td>Human cells</td>\n      <td>Cell modelOrganoid</td>\n      <td>Homo sapiens, human</td>\n      <td>organoid</td>\n      <td>Large intestine; Rectum</td>\n      <td>Cancer; Primary</td>\n      <td>3D cell cultureCancer research</td>\n      <td>Frozen</td>\n      <td>...</td>\n      <td>Not detected</td>\n      <td>Cytomegalovirus (CMV): Not detectedEpstein-Bar...</td>\n      <td>Wellcome Sanger Institute</td>\n      <td>NaN</td>\n      <td>Human Cancer Models Initiative (HCMI)</td>\n      <td>This product is intended for laboratory resear...</td>\n      <td>The product is provided 'AS IS' and the viabil...</td>\n      <td>This product is intended for laboratory resear...</td>\n      <td>NaN</td>\n      <td>NaN</td>\n    </tr>\n    <tr>\n      <th>37</th>\n      <td>PDM-80</td>\n      <td>https://www.atcc.org/products/pdm-80</td>\n      <td>Human cells</td>\n      <td>Cell modelOrganoid</td>\n      <td>Homo sapiens, human</td>\n      <td>organoid</td>\n      <td>Esophagus</td>\n      <td>Adenocarcinoma; Primary</td>\n      <td>Cancer research3D cell culture</td>\n      <td>Frozen</td>\n      <td>...</td>\n      <td>Not detected</td>\n      <td>Cytomegalovirus (CMV): Not detectedEpstein-Bar...</td>\n      <td>Wellcome Sanger Institute</td>\n      <td>2021</td>\n      <td>Human Cancer Models Initiative (HCMI)</td>\n      <td>This product is intended for laboratory resear...</td>\n      <td>The product is provided 'AS IS' and the viabil...</td>\n      <td>This product is intended for laboratory resear...</td>\n      <td>NaN</td>\n      <td>NaN</td>\n    </tr>\n    <tr>\n      <th>38</th>\n      <td>PDM-331</td>\n      <td>https://www.atcc.org/products/pdm-331</td>\n      <td>Human cells</td>\n      <td>Cell modelOrganoid</td>\n      <td>Homo sapiens, human</td>\n      <td>organoid</td>\n      <td>Large intestine; Rectum</td>\n      <td>Cancer; Primary</td>\n      <td>3D cell cultureCancer research</td>\n      <td>Frozen</td>\n      <td>...</td>\n      <td>Not detected</td>\n      <td>Cytomegalovirus (CMV): Not detectedEpstein-Bar...</td>\n      <td>Wellcome Sanger Institute</td>\n      <td>2021</td>\n      <td>Human Cancer Models Initiative (HCMI)</td>\n      <td>This product is intended for laboratory resear...</td>\n      <td>The product is provided 'AS IS' and the viabil...</td>\n      <td>This product is intended for laboratory resear...</td>\n      <td>NaN</td>\n      <td>NaN</td>\n    </tr>\n    <tr>\n      <th>39</th>\n      <td>PDM-86</td>\n      <td>https://www.atcc.org/products/pdm-86</td>\n      <td>Human cells</td>\n      <td>Cell modelOrganoid</td>\n      <td>Homo sapiens, human</td>\n      <td>organoid</td>\n      <td>Esophagus</td>\n      <td>Adenocarcinoma; Primary</td>\n      <td>3D cell cultureCancer research</td>\n      <td>Frozen</td>\n      <td>...</td>\n      <td>Not detected</td>\n      <td>Cytomegalovirus (CMV): Not detectedEpstein-Bar...</td>\n      <td>Wellcome Sanger Institute</td>\n      <td>2021</td>\n      <td>Human Cancer Models Initiative (HCMI)</td>\n      <td>This product is intended for laboratory resear...</td>\n      <td>The product is provided 'AS IS' and the viabil...</td>\n      <td>This product is intended for laboratory resear...</td>\n      <td>NaN</td>\n      <td>NaN</td>\n    </tr>\n    <tr>\n      <th>40</th>\n      <td>PDM-49</td>\n      <td>https://www.atcc.org/products/pdm-49</td>\n      <td>Human cells</td>\n      <td>Cell modelOrganoid</td>\n      <td>Homo sapiens, human</td>\n      <td>organoid</td>\n      <td>Large intestine; Rectum</td>\n      <td>Adenocarcinoma; Primary</td>\n      <td>3D cell cultureCancer research</td>\n      <td>Frozen</td>\n      <td>...</td>\n      <td>Not detected</td>\n      <td>Cytomegalovirus (CMV): Not detectedEpstein-Bar...</td>\n      <td>Wellcome Sanger Institute</td>\n      <td>2021</td>\n      <td>Human Cancer Models Initiative (HCMI)</td>\n      <td>This product is intended for laboratory resear...</td>\n      <td>The product is provided 'AS IS' and the viabil...</td>\n      <td>This product is intended for laboratory resear...</td>\n      <td>NaN</td>\n      <td>NaN</td>\n    </tr>\n    <tr>\n      <th>41</th>\n      <td>PDM-84</td>\n      <td>https://www.atcc.org/products/pdm-84</td>\n      <td>Human cells</td>\n      <td>Cell modelOrganoid</td>\n      <td>Homo sapiens, human</td>\n      <td>Organoid</td>\n      <td>Esophagus</td>\n      <td>Adenocarcinoma; Primary</td>\n      <td>3D cell cultureCancer research</td>\n      <td>Frozen</td>\n      <td>...</td>\n      <td>Not detected</td>\n      <td>Cytomegalovirus (CMV): Not detectedEpstein-Bar...</td>\n      <td>Wellcome Sanger Institute</td>\n      <td>2021</td>\n      <td>Human Cancer Models Initiative (HCMI)</td>\n      <td>This product is intended for laboratory resear...</td>\n      <td>The product is provided 'AS IS' and the viabil...</td>\n      <td>This product is intended for laboratory resear...</td>\n      <td>NaN</td>\n      <td>NaN</td>\n    </tr>\n    <tr>\n      <th>42</th>\n      <td>PDM-87</td>\n      <td>https://www.atcc.org/products/pdm-87</td>\n      <td>Human cells</td>\n      <td>Cell modelOrganoid</td>\n      <td>Homo sapiens, human</td>\n      <td>organoid</td>\n      <td>Esophagus</td>\n      <td>Adenocarcinoma; Primary</td>\n      <td>3D cell cultureCancer research</td>\n      <td>Frozen</td>\n      <td>...</td>\n      <td>Not detected</td>\n      <td>Cytomegalovirus (CMV): Not detectedEpstein-Bar...</td>\n      <td>Wellcome Sanger Institute</td>\n      <td>2021</td>\n      <td>Human Cancer Models Initiative (HCMI)</td>\n      <td>This product is intended for laboratory resear...</td>\n      <td>The product is provided 'AS IS' and the viabil...</td>\n      <td>This product is intended for laboratory resear...</td>\n      <td>NaN</td>\n      <td>NaN</td>\n    </tr>\n    <tr>\n      <th>43</th>\n      <td>PDM-339</td>\n      <td>https://www.atcc.org/products/pdm-339</td>\n      <td>Human cells</td>\n      <td>Cell modelOrganoid</td>\n      <td>Homo sapiens, human</td>\n      <td>Organoid</td>\n      <td>Esophagus</td>\n      <td>Cancer; Primary</td>\n      <td>3D cell cultureCancer research</td>\n      <td>Frozen</td>\n      <td>...</td>\n      <td>Not detected</td>\n      <td>Cytomegalovirus (CMV): Not detectedEpstein-Bar...</td>\n      <td>Wellcome Sanger Institute</td>\n      <td>2021</td>\n      <td>NaN</td>\n      <td>This product is intended for laboratory resear...</td>\n      <td>The product is provided 'AS IS' and the viabil...</td>\n      <td>This product is intended for laboratory resear...</td>\n      <td>NaN</td>\n      <td>NaN</td>\n    </tr>\n    <tr>\n      <th>44</th>\n      <td>PDM-85</td>\n      <td>https://www.atcc.org/products/pdm-85</td>\n      <td>Human cells</td>\n      <td>Cell modelOrganoid</td>\n      <td>Homo sapiens, human</td>\n      <td>organoid</td>\n      <td>Esophagus</td>\n      <td>Adenocarcinoma; Primary</td>\n      <td>3D cell cultureCancer research</td>\n      <td>Frozen</td>\n      <td>...</td>\n      <td>Not detected</td>\n      <td>Cytomegalovirus (CMV): Not detectedEpstein-Bar...</td>\n      <td>Wellcome Sanger Institute</td>\n      <td>2021</td>\n      <td>Human Cancer Models Initiative (HCMI)</td>\n      <td>This product is intended for laboratory resear...</td>\n      <td>The product is provided 'AS IS' and the viabil...</td>\n      <td>This product is intended for laboratory resear...</td>\n      <td>NaN</td>\n      <td>NaN</td>\n    </tr>\n    <tr>\n      <th>45</th>\n      <td>PDM-52</td>\n      <td>https://www.atcc.org/products/pdm-52</td>\n      <td>Human cells</td>\n      <td>Cell modelOrganoid</td>\n      <td>Homo sapiens, human</td>\n      <td>organoid</td>\n      <td>Large intestine; Colon</td>\n      <td>Adenocarcinoma; Primary</td>\n      <td>3D cell cultureCancer research</td>\n      <td>Frozen</td>\n      <td>...</td>\n      <td>Not detected</td>\n      <td>Cytomegalovirus (CMV): Not detectedEpstein-Bar...</td>\n      <td>Wellcome Sanger Institute</td>\n      <td>2022</td>\n      <td>Human Cancer Models Initiative (HCMI)</td>\n      <td>This product is intended for laboratory resear...</td>\n      <td>The product is provided 'AS IS' and the viabil...</td>\n      <td>This product is intended for laboratory resear...</td>\n      <td>NaN</td>\n      <td>NaN</td>\n    </tr>\n    <tr>\n      <th>46</th>\n      <td>PDM-54</td>\n      <td>https://www.atcc.org/products/pdm-54</td>\n      <td>Human cells</td>\n      <td>Cell modelOrganoid</td>\n      <td>Homo sapiens, human</td>\n      <td>organoid</td>\n      <td>Large intestine; Colon</td>\n      <td>Adenocarcinoma; Primary</td>\n      <td>3D cell cultureCancer research</td>\n      <td>Frozen</td>\n      <td>...</td>\n      <td>Not detected</td>\n      <td>Cytomegalovirus (CMV): Not detectedEpstein-Bar...</td>\n      <td>Wellcome Sanger Institute</td>\n      <td>2022</td>\n      <td>Human Cancer Models Initiative (HCMI)</td>\n      <td>This product is intended for laboratory resear...</td>\n      <td>The product is provided 'AS IS' and the viabil...</td>\n      <td>This product is intended for laboratory resear...</td>\n      <td>NaN</td>\n      <td>NaN</td>\n    </tr>\n    <tr>\n      <th>47</th>\n      <td>PDM-56</td>\n      <td>https://www.atcc.org/products/pdm-56</td>\n      <td>Human cells</td>\n      <td>Cell modelOrganoid</td>\n      <td>Homo sapiens, human</td>\n      <td>organoid</td>\n      <td>Large intestine; Colon</td>\n      <td>Adenocarcinoma; Primary</td>\n      <td>3D cell cultureCancer research</td>\n      <td>Frozen</td>\n      <td>...</td>\n      <td>Not detected</td>\n      <td>Cytomegalovirus (CMV): Not detectedEpstein-Bar...</td>\n      <td>Wellcome Sanger Institute</td>\n      <td>2022</td>\n      <td>Human Cancer Models Initiative (HCMI)</td>\n      <td>This product is intended for laboratory resear...</td>\n      <td>The product is provided 'AS IS' and the viabil...</td>\n      <td>This product is intended for laboratory resear...</td>\n      <td>NaN</td>\n      <td>NaN</td>\n    </tr>\n  </tbody>\n</table>\n<p>48 rows × 36 columns</p>\n</div>"
     },
     "execution_count": 327,
     "metadata": {},
     "output_type": "execute_result"
    }
   ],
   "source": [
    "text = sang_atcc\n",
    "text['handling_information.complete_medium'].unique()"
   ],
   "metadata": {
    "collapsed": false,
    "ExecuteTime": {
     "end_time": "2024-04-09T11:01:39.817583Z",
     "start_time": "2024-04-09T11:01:39.731166Z"
    }
   },
   "execution_count": 327
  },
  {
   "cell_type": "code",
   "outputs": [
    {
     "data": {
      "text/plain": "'To prepare the complete medium for this organoid please refer to theOrganoid Media Formulation #1.ATCC offers the recombinant proteins, small molecules and other supplements to make this complete medium; CoreKit 1A (ATCC ACS-7100) provides these supplements in convenient, pre-portioned, ready-to-reconstitute format that does not require aliquoting or storage once prepared.'"
     },
     "execution_count": 326,
     "metadata": {},
     "output_type": "execute_result"
    }
   ],
   "source": [
    "text[text['handling_information.complete_medium'].str.contains('theOrganoid Media Formulation #1')]['handling_information.complete_medium'].unique()[0]"
   ],
   "metadata": {
    "collapsed": false,
    "ExecuteTime": {
     "end_time": "2024-04-09T11:00:12.964247Z",
     "start_time": "2024-04-09T11:00:12.880295Z"
    }
   },
   "execution_count": 326
  },
  {
   "cell_type": "code",
   "outputs": [],
   "source": [
    "conditions = [text['handling_information.complete_medium'].str.contains('theOrganoid Media Formulation #4'),\n",
    "              text['handling_information.complete_medium'].str.contains('theOrganoid Media Formulation #5'),\n",
    "              text['handling_information.complete_medium'].str.contains('theOrganoid Media Formulation #7'),\n",
    "              text['handling_information.complete_medium'].str.contains('theOrganoid Media Formulation #1'),\n",
    "              ]\n",
    "\n",
    "\n",
    "replacements = ['ATCC ACS-7103', 'ATCC ACS-7104', 'ATCC ACS-7101', 'ATCC ACS-7100',]\n",
    "\n",
    "\n",
    "growth_media = ['Organoid Growth Kit 1D', 'Organoid Growth Kit 1E', 'Organoid Growth Kit 1B', 'Organoid Growth Kit 1A',]\n",
    "\n",
    "supplements = ['Not provided', 'Not provided', 'Not provided', 'Not provided']\n",
    "\n",
    "text['media_id'] = np.select(conditions, replacements, default='Not provided')\n",
    "text['growth_media'] = np.select(conditions, growth_media, default='Not provided')\n",
    "text['supplements'] = np.select(conditions, supplements, default='Not provided')\n",
    "text['growth_properties'] = text['characteristics.growth_properties']\n",
    "text['contaminated'] = np.where((text['quality_control_specifications.bacterial_and_fungal_testing'] == 'Not detected') & (text['quality_control_specifications.mycoplasma_contamination'] == 'Not detected'), 'No', 'Yes')\n",
    "\n",
    "text['contamination_details'] = np.where((text['quality_control_specifications.bacterial_and_fungal_testing'] == 'Not detected') & (text['quality_control_specifications.mycoplasma_contamination'] == 'Not detected'), 'No contamination detected', 'Not provided')\n",
    "\n",
    "text['model_purity'] = np.where(text['characteristics.metastatic'].fillna('Not provided') == 'Not provided', 'Not provided', 'Tumor cells')\n",
    "\n",
    "text['STR_analysis'] = 'Not provided'#np.where(text['quality_control_specifications.str_profiling'].fillna('Not provided') == 'Not provided', 'No', 'Yes')\n",
    "\n",
    "text['morphological_features'] = text['product_information.morphology'].fillna('Not provided')\n",
    "\n",
    "text['virology_status'] = np.where(text['quality_control_specifications.virus_testing'].str.lower().str.replace('detected', 'detected, ').str.replace('not detected', '').str.contains('detected'), 'Detected', 'Not detected')"
   ],
   "metadata": {
    "collapsed": false,
    "ExecuteTime": {
     "end_time": "2024-04-09T11:01:54.435150Z",
     "start_time": "2024-04-09T11:01:54.335074Z"
    }
   },
   "execution_count": 328
  },
  {
   "cell_type": "code",
   "outputs": [
    {
     "data": {
      "text/plain": "array(['Organoid Growth Kit 1D', 'Organoid Growth Kit 1E',\n       'Organoid Growth Kit 1B', 'Organoid Growth Kit 1A'], dtype=object)"
     },
     "execution_count": 330,
     "metadata": {},
     "output_type": "execute_result"
    }
   ],
   "source": [
    "text['growth_media'].unique()"
   ],
   "metadata": {
    "collapsed": false,
    "ExecuteTime": {
     "end_time": "2024-04-09T11:02:19.553302Z",
     "start_time": "2024-04-09T11:02:19.454779Z"
    }
   },
   "execution_count": 330
  },
  {
   "cell_type": "code",
   "outputs": [],
   "source": [
    "cell_sheet = read_metadata_without_fields(join(home, 'SANG', 'SANG_metadata-cell_model.tsv'))\n",
    "cell_template = read_metadata_with_fields(join(home, 'SANG', 'SANG_metadata-cell_model.tsv')).iloc[0:4]\n",
    "merged = cell_sheet.merge(text, left_on='catalog_number', right_on='atcc', how='left', suffixes=('_og', '_supplier'))\n",
    "merged['growth_properties'] = merged['growth_properties_supplier']\n",
    "merged['media_id'] = merged['media_id_supplier']\n",
    "merged['growth_media'] = merged['growth_media_supplier']\n",
    "merged['contaminated'] = merged['contaminated_supplier']\n",
    "merged['contamination_details'] = merged['contamination_details_supplier']\n",
    "merged['supplements'] = merged['supplements_supplier']\n",
    "pd.concat([cell_template, merged[cell_sheet.columns]]).reset_index(drop=True).to_csv(join(home, 'SANG', 'SANG_metadata-cell_model.tsv'), sep='\\t', index=False)"
   ],
   "metadata": {
    "collapsed": false,
    "ExecuteTime": {
     "end_time": "2024-04-09T11:03:55.793592Z",
     "start_time": "2024-04-09T11:03:55.665805Z"
    }
   },
   "execution_count": 331
  },
  {
   "cell_type": "code",
   "outputs": [],
   "source": [
    "mv_sheet = read_metadata_without_fields(join(home, 'SANG', 'SANG_metadata-model_validation.tsv'))\n",
    "mv_template = read_metadata_with_fields(join(home, 'SANG', 'SANG_metadata-model_validation.tsv')).iloc[0:4]\n",
    "x = merged[['model_id', 'morphological_features', 'STR_analysis', 'model_purity']]\n",
    "mv_sheet['model_id'] = merged['model_id']\n",
    "mv_sheet = mv_sheet.fillna('Not provided')\n",
    "mv_sheet['morphological_features'] = merged['morphological_features']\n",
    "mv_sheet['STR_analysis'] = merged['STR_analysis']\n",
    "mv_sheet['model_purity'] = merged['model_purity']\n",
    "pd.concat([mv_template, mv_sheet[mv_sheet.columns]]).reset_index(drop=True).to_csv(join(home, 'SANG', 'SANG_metadata-model_validation.tsv'), sep='\\t', index=False)"
   ],
   "metadata": {
    "collapsed": false,
    "ExecuteTime": {
     "end_time": "2024-04-09T11:05:35.485549Z",
     "start_time": "2024-04-09T11:05:35.379423Z"
    }
   },
   "execution_count": 332
  },
  {
   "cell_type": "code",
   "outputs": [],
   "source": [
    "patient_sheet = read_metadata_without_fields(join(home, 'SANG', 'SANG_metadata-patient.tsv'))\n",
    "patient_template = read_metadata_with_fields(join(home, 'SANG', 'SANG_metadata-patient.tsv')).iloc[0:4]\n",
    "patient_sheet['age_category'] = ['Not provided' if r.__contains__('Not') else 'Adult' if int(r) > 21 else 'Paediatric' for r in patient_sheet['age_at_initial_diagnosis']]\n",
    "pd.concat([patient_template, patient_sheet[patient_sheet.columns]]).reset_index(drop=True).to_csv(join(home, 'SANG', 'SANG_metadata-patient.tsv'), sep='\\t', index=False)"
   ],
   "metadata": {
    "collapsed": false,
    "ExecuteTime": {
     "end_time": "2024-04-09T11:08:33.803144Z",
     "start_time": "2024-04-09T11:08:33.710966Z"
    }
   },
   "execution_count": 333
  },
  {
   "cell_type": "code",
   "outputs": [
    {
     "data": {
      "text/plain": "       atcc                                    url  \\\n0    PDM-44   https://www.atcc.org/products/pdm-44   \n1    PDM-43   https://www.atcc.org/products/pdm-43   \n2    PDM-67   https://www.atcc.org/products/pdm-67   \n3    PDM-71   https://www.atcc.org/products/pdm-71   \n4    PDM-47   https://www.atcc.org/products/pdm-47   \n5    PDM-46   https://www.atcc.org/products/pdm-46   \n6    PDM-90   https://www.atcc.org/products/pdm-90   \n7    PDM-58   https://www.atcc.org/products/pdm-58   \n8    PDM-73   https://www.atcc.org/products/pdm-73   \n9    PDM-79   https://www.atcc.org/products/pdm-79   \n10   PDM-50   https://www.atcc.org/products/pdm-50   \n11   PDM-65   https://www.atcc.org/products/pdm-65   \n12   PDM-72   https://www.atcc.org/products/pdm-72   \n13   PDM-53   https://www.atcc.org/products/pdm-53   \n14   PDM-83   https://www.atcc.org/products/pdm-83   \n15   PDM-45   https://www.atcc.org/products/pdm-45   \n16   PDM-42   https://www.atcc.org/products/pdm-42   \n17   PDM-48   https://www.atcc.org/products/pdm-48   \n18   PDM-51   https://www.atcc.org/products/pdm-51   \n19   PDM-57   https://www.atcc.org/products/pdm-57   \n20   PDM-74   https://www.atcc.org/products/pdm-74   \n21   PDM-70   https://www.atcc.org/products/pdm-70   \n22   PDM-59   https://www.atcc.org/products/pdm-59   \n23   PDM-68   https://www.atcc.org/products/pdm-68   \n24   PDM-60   https://www.atcc.org/products/pdm-60   \n25   PDM-61   https://www.atcc.org/products/pdm-61   \n26   PDM-62   https://www.atcc.org/products/pdm-62   \n27   PDM-78   https://www.atcc.org/products/pdm-78   \n28   PDM-64   https://www.atcc.org/products/pdm-64   \n29   PDM-76   https://www.atcc.org/products/pdm-76   \n30   PDM-77   https://www.atcc.org/products/pdm-77   \n31   PDM-82   https://www.atcc.org/products/pdm-82   \n32   PDM-63   https://www.atcc.org/products/pdm-63   \n33   PDM-81   https://www.atcc.org/products/pdm-81   \n34   PDM-55   https://www.atcc.org/products/pdm-55   \n35   PDM-75   https://www.atcc.org/products/pdm-75   \n36  PDM-330  https://www.atcc.org/products/pdm-330   \n37   PDM-80   https://www.atcc.org/products/pdm-80   \n38  PDM-331  https://www.atcc.org/products/pdm-331   \n39   PDM-86   https://www.atcc.org/products/pdm-86   \n40   PDM-49   https://www.atcc.org/products/pdm-49   \n41   PDM-84   https://www.atcc.org/products/pdm-84   \n42   PDM-87   https://www.atcc.org/products/pdm-87   \n43  PDM-339  https://www.atcc.org/products/pdm-339   \n44   PDM-85   https://www.atcc.org/products/pdm-85   \n45   PDM-52   https://www.atcc.org/products/pdm-52   \n46   PDM-54   https://www.atcc.org/products/pdm-54   \n47   PDM-56   https://www.atcc.org/products/pdm-56   \n\n   product_information.product_category product_information.product_type  \\\n0                           Human cells               Cell modelOrganoid   \n1                           Human cells               Cell modelOrganoid   \n2                           Human cells               Cell modelOrganoid   \n3                           Human cells               Cell modelOrganoid   \n4                           Human cells               Cell modelOrganoid   \n5                           Human cells               Cell modelOrganoid   \n6                           Human cells               Cell modelOrganoid   \n7                           Human cells               Cell modelOrganoid   \n8                           Human cells               Cell modelOrganoid   \n9                           Human cells               Cell modelOrganoid   \n10                          Human cells               Cell modelOrganoid   \n11                          Human cells               Cell modelOrganoid   \n12                          Human cells               Cell modelOrganoid   \n13                          Human cells               Cell modelOrganoid   \n14                          Human cells               Cell modelOrganoid   \n15                          Human cells               Cell modelOrganoid   \n16                          Human cells               Cell modelOrganoid   \n17                          Human cells               Cell modelOrganoid   \n18                          Human cells               Cell modelOrganoid   \n19                          Human cells               Cell modelOrganoid   \n20                          Human cells               Cell modelOrganoid   \n21                          Human cells               Cell modelOrganoid   \n22                          Human cells               Cell modelOrganoid   \n23                          Human cells               Cell modelOrganoid   \n24                          Human cells               Cell modelOrganoid   \n25                          Human cells               Cell modelOrganoid   \n26                          Human cells               Cell modelOrganoid   \n27                          Human cells               Cell modelOrganoid   \n28                          Human cells               Cell modelOrganoid   \n29                          Human cells               Cell modelOrganoid   \n30                          Human cells               Cell modelOrganoid   \n31                          Human cells               Cell modelOrganoid   \n32                          Human cells               Cell modelOrganoid   \n33                          Human cells               Cell modelOrganoid   \n34                          Human cells               OrganoidCell model   \n35                          Human cells               OrganoidCell model   \n36                          Human cells               Cell modelOrganoid   \n37                          Human cells               Cell modelOrganoid   \n38                          Human cells               Cell modelOrganoid   \n39                          Human cells               Cell modelOrganoid   \n40                          Human cells               Cell modelOrganoid   \n41                          Human cells               Cell modelOrganoid   \n42                          Human cells               Cell modelOrganoid   \n43                          Human cells               Cell modelOrganoid   \n44                          Human cells               Cell modelOrganoid   \n45                          Human cells               Cell modelOrganoid   \n46                          Human cells               Cell modelOrganoid   \n47                          Human cells               Cell modelOrganoid   \n\n   product_information.organism product_information.morphology  \\\n0           Homo sapiens, human                       organoid   \n1           Homo sapiens, human                       organoid   \n2           Homo sapiens, human                       organoid   \n3           Homo sapiens, human                       organoid   \n4           Homo sapiens, human                       organoid   \n5           Homo sapiens, human                       organoid   \n6           Homo sapiens, human                       organoid   \n7           Homo sapiens, human                       organoid   \n8           Homo sapiens, human                       organoid   \n9           Homo sapiens, human                       organoid   \n10          Homo sapiens, human                       organoid   \n11          Homo sapiens, human                       organoid   \n12          Homo sapiens, human                       organoid   \n13          Homo sapiens, human                       organoid   \n14          Homo sapiens, human                       organoid   \n15          Homo sapiens, human                       organoid   \n16          Homo sapiens, human                       Organoid   \n17          Homo sapiens, human                       Organoid   \n18          Homo sapiens, human                       organoid   \n19          Homo sapiens, human                       organoid   \n20          Homo sapiens, human                       organoid   \n21          Homo sapiens, human                       organoid   \n22          Homo sapiens, human                       organoid   \n23          Homo sapiens, human                       organoid   \n24          Homo sapiens, human                       organoid   \n25          Homo sapiens, human                       organoid   \n26          Homo sapiens, human                       organoid   \n27          Homo sapiens, human                       organoid   \n28          Homo sapiens, human                       organoid   \n29          Homo sapiens, human                       organoid   \n30          Homo sapiens, human                       organoid   \n31          Homo sapiens, human                       Organoid   \n32          Homo sapiens, human                       Organoid   \n33          Homo sapiens, human                       Organoid   \n34          Homo sapiens, human                       Organoid   \n35          Homo sapiens, human                       Organoid   \n36          Homo sapiens, human                       organoid   \n37          Homo sapiens, human                       organoid   \n38          Homo sapiens, human                       organoid   \n39          Homo sapiens, human                       organoid   \n40          Homo sapiens, human                       organoid   \n41          Homo sapiens, human                       Organoid   \n42          Homo sapiens, human                       organoid   \n43          Homo sapiens, human                       Organoid   \n44          Homo sapiens, human                       organoid   \n45          Homo sapiens, human                       organoid   \n46          Homo sapiens, human                       organoid   \n47          Homo sapiens, human                       organoid   \n\n          product_information.tissue       product_information.disease  \\\n0            Large intestine; Rectum            Adenoma; Pre-malignant   \n1            Large intestine; Rectum           Adenocarcinoma; Primary   \n2                          Esophagus           Adenocarcinoma; Primary   \n3                          Esophagus           Adenocarcinoma; Primary   \n4            Large intestine; Rectum           Adenocarcinoma; Primary   \n5             Large intestine; Colon           Adenocarcinoma; Primary   \n6                           Pancreas           Adenocarcinoma; Primary   \n7             Large intestine; Colon           Adenocarcinoma; Primary   \n8                          Esophagus                Malignant neoplasm   \n9                          Esophagus           Adenocarcinoma; Primary   \n10  Large intestine; Ascending colon                Malignant neoplasm   \n11                         Esophagus                Malignant neoplasm   \n12                         Esophagus           Adenocarcinoma; Primary   \n13            Large intestine; Colon           Adenocarcinoma; Primary   \n14                         Esophagus                Malignant neoplasm   \n15            Large intestine; Colon           Adenocarcinoma; Primary   \n16            Large intestine; Colon        Adenocarcinoma; Metastatic   \n17            Large intestine; Colon            Adenoma; Pre-malignant   \n18            Large intestine; Colon           Adenocarcinoma; Primary   \n19            Large intestine; Colon           Adenocarcinoma; Primary   \n20                         Esophagus           Adenocarcinoma; Primary   \n21                         Esophagus  Malignant neoplasmAdenocarcinoma   \n22            Large intestine; Colon           Adenocarcinoma; Primary   \n23                         Esophagus           Adenocarcinoma; Primary   \n24            Large intestine; Colon           Adenocarcinoma; Primary   \n25            Small intestine; Colon           Adenocarcinoma; Primary   \n26           Small intestine; Rectum           Adenocarcinoma; Primary   \n27                         Esophagus           Adenocarcinoma; Primary   \n28            Large intestine; Colon           Adenocarcinoma; Primary   \n29                         Esophagus           Adenocarcinoma; Primary   \n30                         Esophagus           Adenocarcinoma; Primary   \n31                         Esophagus           Adenocarcinoma; Primary   \n32           Large intestine; Rectum           Adenocarcinoma; Primary   \n33                         Esophagus           Adenocarcinoma; Primary   \n34           Large intestine; Rectum           Adenocarcinoma; Primary   \n35                         Esophagus           Adenocarcinoma; Primary   \n36           Large intestine; Rectum                   Cancer; Primary   \n37                         Esophagus           Adenocarcinoma; Primary   \n38           Large intestine; Rectum                   Cancer; Primary   \n39                         Esophagus           Adenocarcinoma; Primary   \n40           Large intestine; Rectum           Adenocarcinoma; Primary   \n41                         Esophagus           Adenocarcinoma; Primary   \n42                         Esophagus           Adenocarcinoma; Primary   \n43                         Esophagus                   Cancer; Primary   \n44                         Esophagus           Adenocarcinoma; Primary   \n45            Large intestine; Colon           Adenocarcinoma; Primary   \n46            Large intestine; Colon           Adenocarcinoma; Primary   \n47            Large intestine; Colon           Adenocarcinoma; Primary   \n\n   product_information.applications product_information.product_format  ...  \\\n0    3D cell cultureCancer research                             Frozen  ...   \n1    3D cell cultureCancer research                             Frozen  ...   \n2    3D cell cultureCancer research                             Frozen  ...   \n3    3D cell cultureCancer research                             Frozen  ...   \n4    3D cell cultureCancer research                             Frozen  ...   \n5    3D cell cultureCancer research                             Frozen  ...   \n6    3D cell cultureCancer research                             Frozen  ...   \n7    3D cell cultureCancer research                             Frozen  ...   \n8    3D cell cultureCancer research                             Frozen  ...   \n9    3D cell cultureCancer research                             Frozen  ...   \n10   3D cell cultureCancer research                             Frozen  ...   \n11   3D cell cultureCancer research                             Frozen  ...   \n12   3D cell cultureCancer research                             Frozen  ...   \n13   3D cell cultureCancer research                             Frozen  ...   \n14   3D cell cultureCancer research                             Frozen  ...   \n15   3D cell cultureCancer research                             Frozen  ...   \n16   3D cell cultureCancer research                             Frozen  ...   \n17   3D cell cultureCancer research                             Frozen  ...   \n18   3D cell cultureCancer research                             Frozen  ...   \n19   3D cell cultureCancer research                             Frozen  ...   \n20   3D cell cultureCancer research                             Frozen  ...   \n21   3D cell cultureCancer research                             Frozen  ...   \n22   3D cell cultureCancer research                             Frozen  ...   \n23   3D cell cultureCancer research                             Frozen  ...   \n24   3D cell cultureCancer research                             Frozen  ...   \n25   3D cell cultureCancer research                             Frozen  ...   \n26   3D cell cultureCancer research                             Frozen  ...   \n27   3D cell cultureCancer research                             Frozen  ...   \n28   Cancer research3D cell culture                             Frozen  ...   \n29   3D cell cultureCancer research                             Frozen  ...   \n30   3D cell cultureCancer research                             Frozen  ...   \n31   Cancer research3D cell culture                             Frozen  ...   \n32   Cancer research3D cell culture                             Frozen  ...   \n33   Cancer research3D cell culture                             Frozen  ...   \n34   Cancer research3D cell culture                             Frozen  ...   \n35   Cancer research3D cell culture                             Frozen  ...   \n36   3D cell cultureCancer research                             Frozen  ...   \n37   Cancer research3D cell culture                             Frozen  ...   \n38   3D cell cultureCancer research                             Frozen  ...   \n39   3D cell cultureCancer research                             Frozen  ...   \n40   3D cell cultureCancer research                             Frozen  ...   \n41   3D cell cultureCancer research                             Frozen  ...   \n42   3D cell cultureCancer research                             Frozen  ...   \n43   3D cell cultureCancer research                             Frozen  ...   \n44   3D cell cultureCancer research                             Frozen  ...   \n45   3D cell cultureCancer research                             Frozen  ...   \n46   3D cell cultureCancer research                             Frozen  ...   \n47   3D cell cultureCancer research                             Frozen  ...   \n\n         media_id            growth_media   supplements    growth_properties  \\\n0   ATCC ACS-7103  Organoid Growth Kit 1D  Not provided  Embedded 3D culture   \n1   ATCC ACS-7103  Organoid Growth Kit 1D  Not provided  Embedded 3D culture   \n2   ATCC ACS-7104  Organoid Growth Kit 1E  Not provided  Embedded 3D culture   \n3   ATCC ACS-7104  Organoid Growth Kit 1E  Not provided  Embedded 3D culture   \n4   ATCC ACS-7103  Organoid Growth Kit 1D  Not provided  Embedded 3D culture   \n5   ATCC ACS-7103  Organoid Growth Kit 1D  Not provided  Embedded 3D culture   \n6   ATCC ACS-7101  Organoid Growth Kit 1B  Not provided  Embedded 3D culture   \n7   ATCC ACS-7103  Organoid Growth Kit 1D  Not provided  Embedded 3D culture   \n8   ATCC ACS-7104  Organoid Growth Kit 1E  Not provided  Embedded 3D culture   \n9   ATCC ACS-7104  Organoid Growth Kit 1E  Not provided  Embedded 3D culture   \n10  ATCC ACS-7103  Organoid Growth Kit 1D  Not provided  Embedded 3D culture   \n11  ATCC ACS-7104  Organoid Growth Kit 1E  Not provided  Embedded 3D culture   \n12  ATCC ACS-7104  Organoid Growth Kit 1E  Not provided  Embedded 3D culture   \n13  ATCC ACS-7103  Organoid Growth Kit 1D  Not provided  Embedded 3D culture   \n14  ATCC ACS-7104  Organoid Growth Kit 1E  Not provided  Embedded 3D culture   \n15  ATCC ACS-7103  Organoid Growth Kit 1D  Not provided  Embedded 3D culture   \n16  ATCC ACS-7103  Organoid Growth Kit 1D  Not provided  Embedded 3D culture   \n17  ATCC ACS-7103  Organoid Growth Kit 1D  Not provided  Embedded 3D culture   \n18  ATCC ACS-7103  Organoid Growth Kit 1D  Not provided  Embedded 3D culture   \n19  ATCC ACS-7103  Organoid Growth Kit 1D  Not provided  Embedded 3D culture   \n20  ATCC ACS-7104  Organoid Growth Kit 1E  Not provided  Embedded 3D culture   \n21  ATCC ACS-7104  Organoid Growth Kit 1E  Not provided  Embedded 3D culture   \n22  ATCC ACS-7103  Organoid Growth Kit 1D  Not provided  Embedded 3D culture   \n23  ATCC ACS-7103  Organoid Growth Kit 1D  Not provided  Embedded 3D culture   \n24  ATCC ACS-7103  Organoid Growth Kit 1D  Not provided  Embedded 3D culture   \n25  ATCC ACS-7103  Organoid Growth Kit 1D  Not provided  Embedded 3D culture   \n26  ATCC ACS-7103  Organoid Growth Kit 1D  Not provided  Embedded 3D culture   \n27  ATCC ACS-7104  Organoid Growth Kit 1E  Not provided  Embedded 3D culture   \n28  ATCC ACS-7100  Organoid Growth Kit 1A  Not provided  Embedded 3D culture   \n29  ATCC ACS-7104  Organoid Growth Kit 1E  Not provided  Embedded 3D culture   \n30  ATCC ACS-7104  Organoid Growth Kit 1E  Not provided  Embedded 3D culture   \n31  ATCC ACS-7104  Organoid Growth Kit 1E  Not provided  Embedded 3D culture   \n32  ATCC ACS-7103  Organoid Growth Kit 1D  Not provided  Embedded 3D culture   \n33  ATCC ACS-7104  Organoid Growth Kit 1E  Not provided  Embedded 3D culture   \n34  ATCC ACS-7103  Organoid Growth Kit 1D  Not provided  Embedded 3D culture   \n35  ATCC ACS-7104  Organoid Growth Kit 1E  Not provided  Embedded 3D culture   \n36  ATCC ACS-7103  Organoid Growth Kit 1D  Not provided  Embedded 3D culture   \n37  ATCC ACS-7104  Organoid Growth Kit 1E  Not provided  Embedded 3D culture   \n38  ATCC ACS-7103  Organoid Growth Kit 1D  Not provided  Embedded 3D culture   \n39  ATCC ACS-7104  Organoid Growth Kit 1E  Not provided  Embedded 3D culture   \n40  ATCC ACS-7103  Organoid Growth Kit 1D  Not provided  Embedded 3D culture   \n41  ATCC ACS-7104  Organoid Growth Kit 1E  Not provided  Embedded 3D culture   \n42  ATCC ACS-7104  Organoid Growth Kit 1E  Not provided  Embedded 3D culture   \n43  ATCC ACS-7104  Organoid Growth Kit 1E  Not provided  Embedded 3D culture   \n44  ATCC ACS-7104  Organoid Growth Kit 1E  Not provided  Embedded 3D culture   \n45  ATCC ACS-7103  Organoid Growth Kit 1D  Not provided  Embedded 3D culture   \n46  ATCC ACS-7103  Organoid Growth Kit 1D  Not provided  Embedded 3D culture   \n47  ATCC ACS-7103  Organoid Growth Kit 1D  Not provided  Embedded 3D culture   \n\n   contaminated      contamination_details  model_purity  STR_analysis  \\\n0            No  No contamination detected  Not provided  Not provided   \n1            No  No contamination detected  Not provided  Not provided   \n2            No  No contamination detected  Not provided  Not provided   \n3            No  No contamination detected  Not provided  Not provided   \n4            No  No contamination detected  Not provided  Not provided   \n5            No  No contamination detected  Not provided  Not provided   \n6            No  No contamination detected  Not provided  Not provided   \n7            No  No contamination detected  Not provided  Not provided   \n8            No  No contamination detected  Not provided  Not provided   \n9            No  No contamination detected  Not provided  Not provided   \n10           No  No contamination detected  Not provided  Not provided   \n11           No  No contamination detected  Not provided  Not provided   \n12           No  No contamination detected  Not provided  Not provided   \n13           No  No contamination detected  Not provided  Not provided   \n14           No  No contamination detected  Not provided  Not provided   \n15           No  No contamination detected  Not provided  Not provided   \n16           No  No contamination detected   Tumor cells  Not provided   \n17           No  No contamination detected  Not provided  Not provided   \n18           No  No contamination detected  Not provided  Not provided   \n19           No  No contamination detected  Not provided  Not provided   \n20           No  No contamination detected  Not provided  Not provided   \n21           No  No contamination detected  Not provided  Not provided   \n22           No  No contamination detected  Not provided  Not provided   \n23           No  No contamination detected  Not provided  Not provided   \n24           No  No contamination detected  Not provided  Not provided   \n25           No  No contamination detected  Not provided  Not provided   \n26           No  No contamination detected  Not provided  Not provided   \n27           No  No contamination detected  Not provided  Not provided   \n28           No  No contamination detected  Not provided  Not provided   \n29           No  No contamination detected  Not provided  Not provided   \n30           No  No contamination detected  Not provided  Not provided   \n31           No  No contamination detected  Not provided  Not provided   \n32           No  No contamination detected  Not provided  Not provided   \n33           No  No contamination detected  Not provided  Not provided   \n34           No  No contamination detected  Not provided  Not provided   \n35           No  No contamination detected  Not provided  Not provided   \n36           No  No contamination detected  Not provided  Not provided   \n37           No  No contamination detected  Not provided  Not provided   \n38           No  No contamination detected  Not provided  Not provided   \n39           No  No contamination detected  Not provided  Not provided   \n40           No  No contamination detected  Not provided  Not provided   \n41           No  No contamination detected  Not provided  Not provided   \n42           No  No contamination detected  Not provided  Not provided   \n43           No  No contamination detected  Not provided  Not provided   \n44           No  No contamination detected  Not provided  Not provided   \n45           No  No contamination detected  Not provided  Not provided   \n46           No  No contamination detected  Not provided  Not provided   \n47           No  No contamination detected  Not provided  Not provided   \n\n   morphological_features virology_status  \n0                organoid    Not detected  \n1                organoid    Not detected  \n2                organoid    Not detected  \n3                organoid    Not detected  \n4                organoid    Not detected  \n5                organoid    Not detected  \n6                organoid    Not detected  \n7                organoid    Not detected  \n8                organoid    Not detected  \n9                organoid    Not detected  \n10               organoid    Not detected  \n11               organoid    Not detected  \n12               organoid    Not detected  \n13               organoid    Not detected  \n14               organoid    Not detected  \n15               organoid    Not detected  \n16               Organoid    Not detected  \n17               Organoid    Not detected  \n18               organoid    Not detected  \n19               organoid    Not detected  \n20               organoid    Not detected  \n21               organoid    Not detected  \n22               organoid    Not detected  \n23               organoid    Not detected  \n24               organoid    Not detected  \n25               organoid    Not detected  \n26               organoid    Not detected  \n27               organoid    Not detected  \n28               organoid    Not detected  \n29               organoid    Not detected  \n30               organoid    Not detected  \n31               Organoid    Not detected  \n32               Organoid    Not detected  \n33               Organoid    Not detected  \n34               Organoid    Not detected  \n35               Organoid    Not detected  \n36               organoid    Not detected  \n37               organoid    Not detected  \n38               organoid    Not detected  \n39               organoid    Not detected  \n40               organoid    Not detected  \n41               Organoid    Not detected  \n42               organoid    Not detected  \n43               Organoid    Not detected  \n44               organoid    Not detected  \n45               organoid    Not detected  \n46               organoid    Not detected  \n47               organoid    Not detected  \n\n[48 rows x 46 columns]",
      "text/html": "<div>\n<style scoped>\n    .dataframe tbody tr th:only-of-type {\n        vertical-align: middle;\n    }\n\n    .dataframe tbody tr th {\n        vertical-align: top;\n    }\n\n    .dataframe thead th {\n        text-align: right;\n    }\n</style>\n<table border=\"1\" class=\"dataframe\">\n  <thead>\n    <tr style=\"text-align: right;\">\n      <th></th>\n      <th>atcc</th>\n      <th>url</th>\n      <th>product_information.product_category</th>\n      <th>product_information.product_type</th>\n      <th>product_information.organism</th>\n      <th>product_information.morphology</th>\n      <th>product_information.tissue</th>\n      <th>product_information.disease</th>\n      <th>product_information.applications</th>\n      <th>product_information.product_format</th>\n      <th>...</th>\n      <th>media_id</th>\n      <th>growth_media</th>\n      <th>supplements</th>\n      <th>growth_properties</th>\n      <th>contaminated</th>\n      <th>contamination_details</th>\n      <th>model_purity</th>\n      <th>STR_analysis</th>\n      <th>morphological_features</th>\n      <th>virology_status</th>\n    </tr>\n  </thead>\n  <tbody>\n    <tr>\n      <th>0</th>\n      <td>PDM-44</td>\n      <td>https://www.atcc.org/products/pdm-44</td>\n      <td>Human cells</td>\n      <td>Cell modelOrganoid</td>\n      <td>Homo sapiens, human</td>\n      <td>organoid</td>\n      <td>Large intestine; Rectum</td>\n      <td>Adenoma; Pre-malignant</td>\n      <td>3D cell cultureCancer research</td>\n      <td>Frozen</td>\n      <td>...</td>\n      <td>ATCC ACS-7103</td>\n      <td>Organoid Growth Kit 1D</td>\n      <td>Not provided</td>\n      <td>Embedded 3D culture</td>\n      <td>No</td>\n      <td>No contamination detected</td>\n      <td>Not provided</td>\n      <td>Not provided</td>\n      <td>organoid</td>\n      <td>Not detected</td>\n    </tr>\n    <tr>\n      <th>1</th>\n      <td>PDM-43</td>\n      <td>https://www.atcc.org/products/pdm-43</td>\n      <td>Human cells</td>\n      <td>Cell modelOrganoid</td>\n      <td>Homo sapiens, human</td>\n      <td>organoid</td>\n      <td>Large intestine; Rectum</td>\n      <td>Adenocarcinoma; Primary</td>\n      <td>3D cell cultureCancer research</td>\n      <td>Frozen</td>\n      <td>...</td>\n      <td>ATCC ACS-7103</td>\n      <td>Organoid Growth Kit 1D</td>\n      <td>Not provided</td>\n      <td>Embedded 3D culture</td>\n      <td>No</td>\n      <td>No contamination detected</td>\n      <td>Not provided</td>\n      <td>Not provided</td>\n      <td>organoid</td>\n      <td>Not detected</td>\n    </tr>\n    <tr>\n      <th>2</th>\n      <td>PDM-67</td>\n      <td>https://www.atcc.org/products/pdm-67</td>\n      <td>Human cells</td>\n      <td>Cell modelOrganoid</td>\n      <td>Homo sapiens, human</td>\n      <td>organoid</td>\n      <td>Esophagus</td>\n      <td>Adenocarcinoma; Primary</td>\n      <td>3D cell cultureCancer research</td>\n      <td>Frozen</td>\n      <td>...</td>\n      <td>ATCC ACS-7104</td>\n      <td>Organoid Growth Kit 1E</td>\n      <td>Not provided</td>\n      <td>Embedded 3D culture</td>\n      <td>No</td>\n      <td>No contamination detected</td>\n      <td>Not provided</td>\n      <td>Not provided</td>\n      <td>organoid</td>\n      <td>Not detected</td>\n    </tr>\n    <tr>\n      <th>3</th>\n      <td>PDM-71</td>\n      <td>https://www.atcc.org/products/pdm-71</td>\n      <td>Human cells</td>\n      <td>Cell modelOrganoid</td>\n      <td>Homo sapiens, human</td>\n      <td>organoid</td>\n      <td>Esophagus</td>\n      <td>Adenocarcinoma; Primary</td>\n      <td>3D cell cultureCancer research</td>\n      <td>Frozen</td>\n      <td>...</td>\n      <td>ATCC ACS-7104</td>\n      <td>Organoid Growth Kit 1E</td>\n      <td>Not provided</td>\n      <td>Embedded 3D culture</td>\n      <td>No</td>\n      <td>No contamination detected</td>\n      <td>Not provided</td>\n      <td>Not provided</td>\n      <td>organoid</td>\n      <td>Not detected</td>\n    </tr>\n    <tr>\n      <th>4</th>\n      <td>PDM-47</td>\n      <td>https://www.atcc.org/products/pdm-47</td>\n      <td>Human cells</td>\n      <td>Cell modelOrganoid</td>\n      <td>Homo sapiens, human</td>\n      <td>organoid</td>\n      <td>Large intestine; Rectum</td>\n      <td>Adenocarcinoma; Primary</td>\n      <td>3D cell cultureCancer research</td>\n      <td>Frozen</td>\n      <td>...</td>\n      <td>ATCC ACS-7103</td>\n      <td>Organoid Growth Kit 1D</td>\n      <td>Not provided</td>\n      <td>Embedded 3D culture</td>\n      <td>No</td>\n      <td>No contamination detected</td>\n      <td>Not provided</td>\n      <td>Not provided</td>\n      <td>organoid</td>\n      <td>Not detected</td>\n    </tr>\n    <tr>\n      <th>5</th>\n      <td>PDM-46</td>\n      <td>https://www.atcc.org/products/pdm-46</td>\n      <td>Human cells</td>\n      <td>Cell modelOrganoid</td>\n      <td>Homo sapiens, human</td>\n      <td>organoid</td>\n      <td>Large intestine; Colon</td>\n      <td>Adenocarcinoma; Primary</td>\n      <td>3D cell cultureCancer research</td>\n      <td>Frozen</td>\n      <td>...</td>\n      <td>ATCC ACS-7103</td>\n      <td>Organoid Growth Kit 1D</td>\n      <td>Not provided</td>\n      <td>Embedded 3D culture</td>\n      <td>No</td>\n      <td>No contamination detected</td>\n      <td>Not provided</td>\n      <td>Not provided</td>\n      <td>organoid</td>\n      <td>Not detected</td>\n    </tr>\n    <tr>\n      <th>6</th>\n      <td>PDM-90</td>\n      <td>https://www.atcc.org/products/pdm-90</td>\n      <td>Human cells</td>\n      <td>Cell modelOrganoid</td>\n      <td>Homo sapiens, human</td>\n      <td>organoid</td>\n      <td>Pancreas</td>\n      <td>Adenocarcinoma; Primary</td>\n      <td>3D cell cultureCancer research</td>\n      <td>Frozen</td>\n      <td>...</td>\n      <td>ATCC ACS-7101</td>\n      <td>Organoid Growth Kit 1B</td>\n      <td>Not provided</td>\n      <td>Embedded 3D culture</td>\n      <td>No</td>\n      <td>No contamination detected</td>\n      <td>Not provided</td>\n      <td>Not provided</td>\n      <td>organoid</td>\n      <td>Not detected</td>\n    </tr>\n    <tr>\n      <th>7</th>\n      <td>PDM-58</td>\n      <td>https://www.atcc.org/products/pdm-58</td>\n      <td>Human cells</td>\n      <td>Cell modelOrganoid</td>\n      <td>Homo sapiens, human</td>\n      <td>organoid</td>\n      <td>Large intestine; Colon</td>\n      <td>Adenocarcinoma; Primary</td>\n      <td>3D cell cultureCancer research</td>\n      <td>Frozen</td>\n      <td>...</td>\n      <td>ATCC ACS-7103</td>\n      <td>Organoid Growth Kit 1D</td>\n      <td>Not provided</td>\n      <td>Embedded 3D culture</td>\n      <td>No</td>\n      <td>No contamination detected</td>\n      <td>Not provided</td>\n      <td>Not provided</td>\n      <td>organoid</td>\n      <td>Not detected</td>\n    </tr>\n    <tr>\n      <th>8</th>\n      <td>PDM-73</td>\n      <td>https://www.atcc.org/products/pdm-73</td>\n      <td>Human cells</td>\n      <td>Cell modelOrganoid</td>\n      <td>Homo sapiens, human</td>\n      <td>organoid</td>\n      <td>Esophagus</td>\n      <td>Malignant neoplasm</td>\n      <td>3D cell cultureCancer research</td>\n      <td>Frozen</td>\n      <td>...</td>\n      <td>ATCC ACS-7104</td>\n      <td>Organoid Growth Kit 1E</td>\n      <td>Not provided</td>\n      <td>Embedded 3D culture</td>\n      <td>No</td>\n      <td>No contamination detected</td>\n      <td>Not provided</td>\n      <td>Not provided</td>\n      <td>organoid</td>\n      <td>Not detected</td>\n    </tr>\n    <tr>\n      <th>9</th>\n      <td>PDM-79</td>\n      <td>https://www.atcc.org/products/pdm-79</td>\n      <td>Human cells</td>\n      <td>Cell modelOrganoid</td>\n      <td>Homo sapiens, human</td>\n      <td>organoid</td>\n      <td>Esophagus</td>\n      <td>Adenocarcinoma; Primary</td>\n      <td>3D cell cultureCancer research</td>\n      <td>Frozen</td>\n      <td>...</td>\n      <td>ATCC ACS-7104</td>\n      <td>Organoid Growth Kit 1E</td>\n      <td>Not provided</td>\n      <td>Embedded 3D culture</td>\n      <td>No</td>\n      <td>No contamination detected</td>\n      <td>Not provided</td>\n      <td>Not provided</td>\n      <td>organoid</td>\n      <td>Not detected</td>\n    </tr>\n    <tr>\n      <th>10</th>\n      <td>PDM-50</td>\n      <td>https://www.atcc.org/products/pdm-50</td>\n      <td>Human cells</td>\n      <td>Cell modelOrganoid</td>\n      <td>Homo sapiens, human</td>\n      <td>organoid</td>\n      <td>Large intestine; Ascending colon</td>\n      <td>Malignant neoplasm</td>\n      <td>3D cell cultureCancer research</td>\n      <td>Frozen</td>\n      <td>...</td>\n      <td>ATCC ACS-7103</td>\n      <td>Organoid Growth Kit 1D</td>\n      <td>Not provided</td>\n      <td>Embedded 3D culture</td>\n      <td>No</td>\n      <td>No contamination detected</td>\n      <td>Not provided</td>\n      <td>Not provided</td>\n      <td>organoid</td>\n      <td>Not detected</td>\n    </tr>\n    <tr>\n      <th>11</th>\n      <td>PDM-65</td>\n      <td>https://www.atcc.org/products/pdm-65</td>\n      <td>Human cells</td>\n      <td>Cell modelOrganoid</td>\n      <td>Homo sapiens, human</td>\n      <td>organoid</td>\n      <td>Esophagus</td>\n      <td>Malignant neoplasm</td>\n      <td>3D cell cultureCancer research</td>\n      <td>Frozen</td>\n      <td>...</td>\n      <td>ATCC ACS-7104</td>\n      <td>Organoid Growth Kit 1E</td>\n      <td>Not provided</td>\n      <td>Embedded 3D culture</td>\n      <td>No</td>\n      <td>No contamination detected</td>\n      <td>Not provided</td>\n      <td>Not provided</td>\n      <td>organoid</td>\n      <td>Not detected</td>\n    </tr>\n    <tr>\n      <th>12</th>\n      <td>PDM-72</td>\n      <td>https://www.atcc.org/products/pdm-72</td>\n      <td>Human cells</td>\n      <td>Cell modelOrganoid</td>\n      <td>Homo sapiens, human</td>\n      <td>organoid</td>\n      <td>Esophagus</td>\n      <td>Adenocarcinoma; Primary</td>\n      <td>3D cell cultureCancer research</td>\n      <td>Frozen</td>\n      <td>...</td>\n      <td>ATCC ACS-7104</td>\n      <td>Organoid Growth Kit 1E</td>\n      <td>Not provided</td>\n      <td>Embedded 3D culture</td>\n      <td>No</td>\n      <td>No contamination detected</td>\n      <td>Not provided</td>\n      <td>Not provided</td>\n      <td>organoid</td>\n      <td>Not detected</td>\n    </tr>\n    <tr>\n      <th>13</th>\n      <td>PDM-53</td>\n      <td>https://www.atcc.org/products/pdm-53</td>\n      <td>Human cells</td>\n      <td>Cell modelOrganoid</td>\n      <td>Homo sapiens, human</td>\n      <td>organoid</td>\n      <td>Large intestine; Colon</td>\n      <td>Adenocarcinoma; Primary</td>\n      <td>3D cell cultureCancer research</td>\n      <td>Frozen</td>\n      <td>...</td>\n      <td>ATCC ACS-7103</td>\n      <td>Organoid Growth Kit 1D</td>\n      <td>Not provided</td>\n      <td>Embedded 3D culture</td>\n      <td>No</td>\n      <td>No contamination detected</td>\n      <td>Not provided</td>\n      <td>Not provided</td>\n      <td>organoid</td>\n      <td>Not detected</td>\n    </tr>\n    <tr>\n      <th>14</th>\n      <td>PDM-83</td>\n      <td>https://www.atcc.org/products/pdm-83</td>\n      <td>Human cells</td>\n      <td>Cell modelOrganoid</td>\n      <td>Homo sapiens, human</td>\n      <td>organoid</td>\n      <td>Esophagus</td>\n      <td>Malignant neoplasm</td>\n      <td>3D cell cultureCancer research</td>\n      <td>Frozen</td>\n      <td>...</td>\n      <td>ATCC ACS-7104</td>\n      <td>Organoid Growth Kit 1E</td>\n      <td>Not provided</td>\n      <td>Embedded 3D culture</td>\n      <td>No</td>\n      <td>No contamination detected</td>\n      <td>Not provided</td>\n      <td>Not provided</td>\n      <td>organoid</td>\n      <td>Not detected</td>\n    </tr>\n    <tr>\n      <th>15</th>\n      <td>PDM-45</td>\n      <td>https://www.atcc.org/products/pdm-45</td>\n      <td>Human cells</td>\n      <td>Cell modelOrganoid</td>\n      <td>Homo sapiens, human</td>\n      <td>organoid</td>\n      <td>Large intestine; Colon</td>\n      <td>Adenocarcinoma; Primary</td>\n      <td>3D cell cultureCancer research</td>\n      <td>Frozen</td>\n      <td>...</td>\n      <td>ATCC ACS-7103</td>\n      <td>Organoid Growth Kit 1D</td>\n      <td>Not provided</td>\n      <td>Embedded 3D culture</td>\n      <td>No</td>\n      <td>No contamination detected</td>\n      <td>Not provided</td>\n      <td>Not provided</td>\n      <td>organoid</td>\n      <td>Not detected</td>\n    </tr>\n    <tr>\n      <th>16</th>\n      <td>PDM-42</td>\n      <td>https://www.atcc.org/products/pdm-42</td>\n      <td>Human cells</td>\n      <td>Cell modelOrganoid</td>\n      <td>Homo sapiens, human</td>\n      <td>Organoid</td>\n      <td>Large intestine; Colon</td>\n      <td>Adenocarcinoma; Metastatic</td>\n      <td>3D cell cultureCancer research</td>\n      <td>Frozen</td>\n      <td>...</td>\n      <td>ATCC ACS-7103</td>\n      <td>Organoid Growth Kit 1D</td>\n      <td>Not provided</td>\n      <td>Embedded 3D culture</td>\n      <td>No</td>\n      <td>No contamination detected</td>\n      <td>Tumor cells</td>\n      <td>Not provided</td>\n      <td>Organoid</td>\n      <td>Not detected</td>\n    </tr>\n    <tr>\n      <th>17</th>\n      <td>PDM-48</td>\n      <td>https://www.atcc.org/products/pdm-48</td>\n      <td>Human cells</td>\n      <td>Cell modelOrganoid</td>\n      <td>Homo sapiens, human</td>\n      <td>Organoid</td>\n      <td>Large intestine; Colon</td>\n      <td>Adenoma; Pre-malignant</td>\n      <td>3D cell cultureCancer research</td>\n      <td>Frozen</td>\n      <td>...</td>\n      <td>ATCC ACS-7103</td>\n      <td>Organoid Growth Kit 1D</td>\n      <td>Not provided</td>\n      <td>Embedded 3D culture</td>\n      <td>No</td>\n      <td>No contamination detected</td>\n      <td>Not provided</td>\n      <td>Not provided</td>\n      <td>Organoid</td>\n      <td>Not detected</td>\n    </tr>\n    <tr>\n      <th>18</th>\n      <td>PDM-51</td>\n      <td>https://www.atcc.org/products/pdm-51</td>\n      <td>Human cells</td>\n      <td>Cell modelOrganoid</td>\n      <td>Homo sapiens, human</td>\n      <td>organoid</td>\n      <td>Large intestine; Colon</td>\n      <td>Adenocarcinoma; Primary</td>\n      <td>3D cell cultureCancer research</td>\n      <td>Frozen</td>\n      <td>...</td>\n      <td>ATCC ACS-7103</td>\n      <td>Organoid Growth Kit 1D</td>\n      <td>Not provided</td>\n      <td>Embedded 3D culture</td>\n      <td>No</td>\n      <td>No contamination detected</td>\n      <td>Not provided</td>\n      <td>Not provided</td>\n      <td>organoid</td>\n      <td>Not detected</td>\n    </tr>\n    <tr>\n      <th>19</th>\n      <td>PDM-57</td>\n      <td>https://www.atcc.org/products/pdm-57</td>\n      <td>Human cells</td>\n      <td>Cell modelOrganoid</td>\n      <td>Homo sapiens, human</td>\n      <td>organoid</td>\n      <td>Large intestine; Colon</td>\n      <td>Adenocarcinoma; Primary</td>\n      <td>3D cell cultureCancer research</td>\n      <td>Frozen</td>\n      <td>...</td>\n      <td>ATCC ACS-7103</td>\n      <td>Organoid Growth Kit 1D</td>\n      <td>Not provided</td>\n      <td>Embedded 3D culture</td>\n      <td>No</td>\n      <td>No contamination detected</td>\n      <td>Not provided</td>\n      <td>Not provided</td>\n      <td>organoid</td>\n      <td>Not detected</td>\n    </tr>\n    <tr>\n      <th>20</th>\n      <td>PDM-74</td>\n      <td>https://www.atcc.org/products/pdm-74</td>\n      <td>Human cells</td>\n      <td>Cell modelOrganoid</td>\n      <td>Homo sapiens, human</td>\n      <td>organoid</td>\n      <td>Esophagus</td>\n      <td>Adenocarcinoma; Primary</td>\n      <td>3D cell cultureCancer research</td>\n      <td>Frozen</td>\n      <td>...</td>\n      <td>ATCC ACS-7104</td>\n      <td>Organoid Growth Kit 1E</td>\n      <td>Not provided</td>\n      <td>Embedded 3D culture</td>\n      <td>No</td>\n      <td>No contamination detected</td>\n      <td>Not provided</td>\n      <td>Not provided</td>\n      <td>organoid</td>\n      <td>Not detected</td>\n    </tr>\n    <tr>\n      <th>21</th>\n      <td>PDM-70</td>\n      <td>https://www.atcc.org/products/pdm-70</td>\n      <td>Human cells</td>\n      <td>Cell modelOrganoid</td>\n      <td>Homo sapiens, human</td>\n      <td>organoid</td>\n      <td>Esophagus</td>\n      <td>Malignant neoplasmAdenocarcinoma</td>\n      <td>3D cell cultureCancer research</td>\n      <td>Frozen</td>\n      <td>...</td>\n      <td>ATCC ACS-7104</td>\n      <td>Organoid Growth Kit 1E</td>\n      <td>Not provided</td>\n      <td>Embedded 3D culture</td>\n      <td>No</td>\n      <td>No contamination detected</td>\n      <td>Not provided</td>\n      <td>Not provided</td>\n      <td>organoid</td>\n      <td>Not detected</td>\n    </tr>\n    <tr>\n      <th>22</th>\n      <td>PDM-59</td>\n      <td>https://www.atcc.org/products/pdm-59</td>\n      <td>Human cells</td>\n      <td>Cell modelOrganoid</td>\n      <td>Homo sapiens, human</td>\n      <td>organoid</td>\n      <td>Large intestine; Colon</td>\n      <td>Adenocarcinoma; Primary</td>\n      <td>3D cell cultureCancer research</td>\n      <td>Frozen</td>\n      <td>...</td>\n      <td>ATCC ACS-7103</td>\n      <td>Organoid Growth Kit 1D</td>\n      <td>Not provided</td>\n      <td>Embedded 3D culture</td>\n      <td>No</td>\n      <td>No contamination detected</td>\n      <td>Not provided</td>\n      <td>Not provided</td>\n      <td>organoid</td>\n      <td>Not detected</td>\n    </tr>\n    <tr>\n      <th>23</th>\n      <td>PDM-68</td>\n      <td>https://www.atcc.org/products/pdm-68</td>\n      <td>Human cells</td>\n      <td>Cell modelOrganoid</td>\n      <td>Homo sapiens, human</td>\n      <td>organoid</td>\n      <td>Esophagus</td>\n      <td>Adenocarcinoma; Primary</td>\n      <td>3D cell cultureCancer research</td>\n      <td>Frozen</td>\n      <td>...</td>\n      <td>ATCC ACS-7103</td>\n      <td>Organoid Growth Kit 1D</td>\n      <td>Not provided</td>\n      <td>Embedded 3D culture</td>\n      <td>No</td>\n      <td>No contamination detected</td>\n      <td>Not provided</td>\n      <td>Not provided</td>\n      <td>organoid</td>\n      <td>Not detected</td>\n    </tr>\n    <tr>\n      <th>24</th>\n      <td>PDM-60</td>\n      <td>https://www.atcc.org/products/pdm-60</td>\n      <td>Human cells</td>\n      <td>Cell modelOrganoid</td>\n      <td>Homo sapiens, human</td>\n      <td>organoid</td>\n      <td>Large intestine; Colon</td>\n      <td>Adenocarcinoma; Primary</td>\n      <td>3D cell cultureCancer research</td>\n      <td>Frozen</td>\n      <td>...</td>\n      <td>ATCC ACS-7103</td>\n      <td>Organoid Growth Kit 1D</td>\n      <td>Not provided</td>\n      <td>Embedded 3D culture</td>\n      <td>No</td>\n      <td>No contamination detected</td>\n      <td>Not provided</td>\n      <td>Not provided</td>\n      <td>organoid</td>\n      <td>Not detected</td>\n    </tr>\n    <tr>\n      <th>25</th>\n      <td>PDM-61</td>\n      <td>https://www.atcc.org/products/pdm-61</td>\n      <td>Human cells</td>\n      <td>Cell modelOrganoid</td>\n      <td>Homo sapiens, human</td>\n      <td>organoid</td>\n      <td>Small intestine; Colon</td>\n      <td>Adenocarcinoma; Primary</td>\n      <td>3D cell cultureCancer research</td>\n      <td>Frozen</td>\n      <td>...</td>\n      <td>ATCC ACS-7103</td>\n      <td>Organoid Growth Kit 1D</td>\n      <td>Not provided</td>\n      <td>Embedded 3D culture</td>\n      <td>No</td>\n      <td>No contamination detected</td>\n      <td>Not provided</td>\n      <td>Not provided</td>\n      <td>organoid</td>\n      <td>Not detected</td>\n    </tr>\n    <tr>\n      <th>26</th>\n      <td>PDM-62</td>\n      <td>https://www.atcc.org/products/pdm-62</td>\n      <td>Human cells</td>\n      <td>Cell modelOrganoid</td>\n      <td>Homo sapiens, human</td>\n      <td>organoid</td>\n      <td>Small intestine; Rectum</td>\n      <td>Adenocarcinoma; Primary</td>\n      <td>3D cell cultureCancer research</td>\n      <td>Frozen</td>\n      <td>...</td>\n      <td>ATCC ACS-7103</td>\n      <td>Organoid Growth Kit 1D</td>\n      <td>Not provided</td>\n      <td>Embedded 3D culture</td>\n      <td>No</td>\n      <td>No contamination detected</td>\n      <td>Not provided</td>\n      <td>Not provided</td>\n      <td>organoid</td>\n      <td>Not detected</td>\n    </tr>\n    <tr>\n      <th>27</th>\n      <td>PDM-78</td>\n      <td>https://www.atcc.org/products/pdm-78</td>\n      <td>Human cells</td>\n      <td>Cell modelOrganoid</td>\n      <td>Homo sapiens, human</td>\n      <td>organoid</td>\n      <td>Esophagus</td>\n      <td>Adenocarcinoma; Primary</td>\n      <td>3D cell cultureCancer research</td>\n      <td>Frozen</td>\n      <td>...</td>\n      <td>ATCC ACS-7104</td>\n      <td>Organoid Growth Kit 1E</td>\n      <td>Not provided</td>\n      <td>Embedded 3D culture</td>\n      <td>No</td>\n      <td>No contamination detected</td>\n      <td>Not provided</td>\n      <td>Not provided</td>\n      <td>organoid</td>\n      <td>Not detected</td>\n    </tr>\n    <tr>\n      <th>28</th>\n      <td>PDM-64</td>\n      <td>https://www.atcc.org/products/pdm-64</td>\n      <td>Human cells</td>\n      <td>Cell modelOrganoid</td>\n      <td>Homo sapiens, human</td>\n      <td>organoid</td>\n      <td>Large intestine; Colon</td>\n      <td>Adenocarcinoma; Primary</td>\n      <td>Cancer research3D cell culture</td>\n      <td>Frozen</td>\n      <td>...</td>\n      <td>ATCC ACS-7100</td>\n      <td>Organoid Growth Kit 1A</td>\n      <td>Not provided</td>\n      <td>Embedded 3D culture</td>\n      <td>No</td>\n      <td>No contamination detected</td>\n      <td>Not provided</td>\n      <td>Not provided</td>\n      <td>organoid</td>\n      <td>Not detected</td>\n    </tr>\n    <tr>\n      <th>29</th>\n      <td>PDM-76</td>\n      <td>https://www.atcc.org/products/pdm-76</td>\n      <td>Human cells</td>\n      <td>Cell modelOrganoid</td>\n      <td>Homo sapiens, human</td>\n      <td>organoid</td>\n      <td>Esophagus</td>\n      <td>Adenocarcinoma; Primary</td>\n      <td>3D cell cultureCancer research</td>\n      <td>Frozen</td>\n      <td>...</td>\n      <td>ATCC ACS-7104</td>\n      <td>Organoid Growth Kit 1E</td>\n      <td>Not provided</td>\n      <td>Embedded 3D culture</td>\n      <td>No</td>\n      <td>No contamination detected</td>\n      <td>Not provided</td>\n      <td>Not provided</td>\n      <td>organoid</td>\n      <td>Not detected</td>\n    </tr>\n    <tr>\n      <th>30</th>\n      <td>PDM-77</td>\n      <td>https://www.atcc.org/products/pdm-77</td>\n      <td>Human cells</td>\n      <td>Cell modelOrganoid</td>\n      <td>Homo sapiens, human</td>\n      <td>organoid</td>\n      <td>Esophagus</td>\n      <td>Adenocarcinoma; Primary</td>\n      <td>3D cell cultureCancer research</td>\n      <td>Frozen</td>\n      <td>...</td>\n      <td>ATCC ACS-7104</td>\n      <td>Organoid Growth Kit 1E</td>\n      <td>Not provided</td>\n      <td>Embedded 3D culture</td>\n      <td>No</td>\n      <td>No contamination detected</td>\n      <td>Not provided</td>\n      <td>Not provided</td>\n      <td>organoid</td>\n      <td>Not detected</td>\n    </tr>\n    <tr>\n      <th>31</th>\n      <td>PDM-82</td>\n      <td>https://www.atcc.org/products/pdm-82</td>\n      <td>Human cells</td>\n      <td>Cell modelOrganoid</td>\n      <td>Homo sapiens, human</td>\n      <td>Organoid</td>\n      <td>Esophagus</td>\n      <td>Adenocarcinoma; Primary</td>\n      <td>Cancer research3D cell culture</td>\n      <td>Frozen</td>\n      <td>...</td>\n      <td>ATCC ACS-7104</td>\n      <td>Organoid Growth Kit 1E</td>\n      <td>Not provided</td>\n      <td>Embedded 3D culture</td>\n      <td>No</td>\n      <td>No contamination detected</td>\n      <td>Not provided</td>\n      <td>Not provided</td>\n      <td>Organoid</td>\n      <td>Not detected</td>\n    </tr>\n    <tr>\n      <th>32</th>\n      <td>PDM-63</td>\n      <td>https://www.atcc.org/products/pdm-63</td>\n      <td>Human cells</td>\n      <td>Cell modelOrganoid</td>\n      <td>Homo sapiens, human</td>\n      <td>Organoid</td>\n      <td>Large intestine; Rectum</td>\n      <td>Adenocarcinoma; Primary</td>\n      <td>Cancer research3D cell culture</td>\n      <td>Frozen</td>\n      <td>...</td>\n      <td>ATCC ACS-7103</td>\n      <td>Organoid Growth Kit 1D</td>\n      <td>Not provided</td>\n      <td>Embedded 3D culture</td>\n      <td>No</td>\n      <td>No contamination detected</td>\n      <td>Not provided</td>\n      <td>Not provided</td>\n      <td>Organoid</td>\n      <td>Not detected</td>\n    </tr>\n    <tr>\n      <th>33</th>\n      <td>PDM-81</td>\n      <td>https://www.atcc.org/products/pdm-81</td>\n      <td>Human cells</td>\n      <td>Cell modelOrganoid</td>\n      <td>Homo sapiens, human</td>\n      <td>Organoid</td>\n      <td>Esophagus</td>\n      <td>Adenocarcinoma; Primary</td>\n      <td>Cancer research3D cell culture</td>\n      <td>Frozen</td>\n      <td>...</td>\n      <td>ATCC ACS-7104</td>\n      <td>Organoid Growth Kit 1E</td>\n      <td>Not provided</td>\n      <td>Embedded 3D culture</td>\n      <td>No</td>\n      <td>No contamination detected</td>\n      <td>Not provided</td>\n      <td>Not provided</td>\n      <td>Organoid</td>\n      <td>Not detected</td>\n    </tr>\n    <tr>\n      <th>34</th>\n      <td>PDM-55</td>\n      <td>https://www.atcc.org/products/pdm-55</td>\n      <td>Human cells</td>\n      <td>OrganoidCell model</td>\n      <td>Homo sapiens, human</td>\n      <td>Organoid</td>\n      <td>Large intestine; Rectum</td>\n      <td>Adenocarcinoma; Primary</td>\n      <td>Cancer research3D cell culture</td>\n      <td>Frozen</td>\n      <td>...</td>\n      <td>ATCC ACS-7103</td>\n      <td>Organoid Growth Kit 1D</td>\n      <td>Not provided</td>\n      <td>Embedded 3D culture</td>\n      <td>No</td>\n      <td>No contamination detected</td>\n      <td>Not provided</td>\n      <td>Not provided</td>\n      <td>Organoid</td>\n      <td>Not detected</td>\n    </tr>\n    <tr>\n      <th>35</th>\n      <td>PDM-75</td>\n      <td>https://www.atcc.org/products/pdm-75</td>\n      <td>Human cells</td>\n      <td>OrganoidCell model</td>\n      <td>Homo sapiens, human</td>\n      <td>Organoid</td>\n      <td>Esophagus</td>\n      <td>Adenocarcinoma; Primary</td>\n      <td>Cancer research3D cell culture</td>\n      <td>Frozen</td>\n      <td>...</td>\n      <td>ATCC ACS-7104</td>\n      <td>Organoid Growth Kit 1E</td>\n      <td>Not provided</td>\n      <td>Embedded 3D culture</td>\n      <td>No</td>\n      <td>No contamination detected</td>\n      <td>Not provided</td>\n      <td>Not provided</td>\n      <td>Organoid</td>\n      <td>Not detected</td>\n    </tr>\n    <tr>\n      <th>36</th>\n      <td>PDM-330</td>\n      <td>https://www.atcc.org/products/pdm-330</td>\n      <td>Human cells</td>\n      <td>Cell modelOrganoid</td>\n      <td>Homo sapiens, human</td>\n      <td>organoid</td>\n      <td>Large intestine; Rectum</td>\n      <td>Cancer; Primary</td>\n      <td>3D cell cultureCancer research</td>\n      <td>Frozen</td>\n      <td>...</td>\n      <td>ATCC ACS-7103</td>\n      <td>Organoid Growth Kit 1D</td>\n      <td>Not provided</td>\n      <td>Embedded 3D culture</td>\n      <td>No</td>\n      <td>No contamination detected</td>\n      <td>Not provided</td>\n      <td>Not provided</td>\n      <td>organoid</td>\n      <td>Not detected</td>\n    </tr>\n    <tr>\n      <th>37</th>\n      <td>PDM-80</td>\n      <td>https://www.atcc.org/products/pdm-80</td>\n      <td>Human cells</td>\n      <td>Cell modelOrganoid</td>\n      <td>Homo sapiens, human</td>\n      <td>organoid</td>\n      <td>Esophagus</td>\n      <td>Adenocarcinoma; Primary</td>\n      <td>Cancer research3D cell culture</td>\n      <td>Frozen</td>\n      <td>...</td>\n      <td>ATCC ACS-7104</td>\n      <td>Organoid Growth Kit 1E</td>\n      <td>Not provided</td>\n      <td>Embedded 3D culture</td>\n      <td>No</td>\n      <td>No contamination detected</td>\n      <td>Not provided</td>\n      <td>Not provided</td>\n      <td>organoid</td>\n      <td>Not detected</td>\n    </tr>\n    <tr>\n      <th>38</th>\n      <td>PDM-331</td>\n      <td>https://www.atcc.org/products/pdm-331</td>\n      <td>Human cells</td>\n      <td>Cell modelOrganoid</td>\n      <td>Homo sapiens, human</td>\n      <td>organoid</td>\n      <td>Large intestine; Rectum</td>\n      <td>Cancer; Primary</td>\n      <td>3D cell cultureCancer research</td>\n      <td>Frozen</td>\n      <td>...</td>\n      <td>ATCC ACS-7103</td>\n      <td>Organoid Growth Kit 1D</td>\n      <td>Not provided</td>\n      <td>Embedded 3D culture</td>\n      <td>No</td>\n      <td>No contamination detected</td>\n      <td>Not provided</td>\n      <td>Not provided</td>\n      <td>organoid</td>\n      <td>Not detected</td>\n    </tr>\n    <tr>\n      <th>39</th>\n      <td>PDM-86</td>\n      <td>https://www.atcc.org/products/pdm-86</td>\n      <td>Human cells</td>\n      <td>Cell modelOrganoid</td>\n      <td>Homo sapiens, human</td>\n      <td>organoid</td>\n      <td>Esophagus</td>\n      <td>Adenocarcinoma; Primary</td>\n      <td>3D cell cultureCancer research</td>\n      <td>Frozen</td>\n      <td>...</td>\n      <td>ATCC ACS-7104</td>\n      <td>Organoid Growth Kit 1E</td>\n      <td>Not provided</td>\n      <td>Embedded 3D culture</td>\n      <td>No</td>\n      <td>No contamination detected</td>\n      <td>Not provided</td>\n      <td>Not provided</td>\n      <td>organoid</td>\n      <td>Not detected</td>\n    </tr>\n    <tr>\n      <th>40</th>\n      <td>PDM-49</td>\n      <td>https://www.atcc.org/products/pdm-49</td>\n      <td>Human cells</td>\n      <td>Cell modelOrganoid</td>\n      <td>Homo sapiens, human</td>\n      <td>organoid</td>\n      <td>Large intestine; Rectum</td>\n      <td>Adenocarcinoma; Primary</td>\n      <td>3D cell cultureCancer research</td>\n      <td>Frozen</td>\n      <td>...</td>\n      <td>ATCC ACS-7103</td>\n      <td>Organoid Growth Kit 1D</td>\n      <td>Not provided</td>\n      <td>Embedded 3D culture</td>\n      <td>No</td>\n      <td>No contamination detected</td>\n      <td>Not provided</td>\n      <td>Not provided</td>\n      <td>organoid</td>\n      <td>Not detected</td>\n    </tr>\n    <tr>\n      <th>41</th>\n      <td>PDM-84</td>\n      <td>https://www.atcc.org/products/pdm-84</td>\n      <td>Human cells</td>\n      <td>Cell modelOrganoid</td>\n      <td>Homo sapiens, human</td>\n      <td>Organoid</td>\n      <td>Esophagus</td>\n      <td>Adenocarcinoma; Primary</td>\n      <td>3D cell cultureCancer research</td>\n      <td>Frozen</td>\n      <td>...</td>\n      <td>ATCC ACS-7104</td>\n      <td>Organoid Growth Kit 1E</td>\n      <td>Not provided</td>\n      <td>Embedded 3D culture</td>\n      <td>No</td>\n      <td>No contamination detected</td>\n      <td>Not provided</td>\n      <td>Not provided</td>\n      <td>Organoid</td>\n      <td>Not detected</td>\n    </tr>\n    <tr>\n      <th>42</th>\n      <td>PDM-87</td>\n      <td>https://www.atcc.org/products/pdm-87</td>\n      <td>Human cells</td>\n      <td>Cell modelOrganoid</td>\n      <td>Homo sapiens, human</td>\n      <td>organoid</td>\n      <td>Esophagus</td>\n      <td>Adenocarcinoma; Primary</td>\n      <td>3D cell cultureCancer research</td>\n      <td>Frozen</td>\n      <td>...</td>\n      <td>ATCC ACS-7104</td>\n      <td>Organoid Growth Kit 1E</td>\n      <td>Not provided</td>\n      <td>Embedded 3D culture</td>\n      <td>No</td>\n      <td>No contamination detected</td>\n      <td>Not provided</td>\n      <td>Not provided</td>\n      <td>organoid</td>\n      <td>Not detected</td>\n    </tr>\n    <tr>\n      <th>43</th>\n      <td>PDM-339</td>\n      <td>https://www.atcc.org/products/pdm-339</td>\n      <td>Human cells</td>\n      <td>Cell modelOrganoid</td>\n      <td>Homo sapiens, human</td>\n      <td>Organoid</td>\n      <td>Esophagus</td>\n      <td>Cancer; Primary</td>\n      <td>3D cell cultureCancer research</td>\n      <td>Frozen</td>\n      <td>...</td>\n      <td>ATCC ACS-7104</td>\n      <td>Organoid Growth Kit 1E</td>\n      <td>Not provided</td>\n      <td>Embedded 3D culture</td>\n      <td>No</td>\n      <td>No contamination detected</td>\n      <td>Not provided</td>\n      <td>Not provided</td>\n      <td>Organoid</td>\n      <td>Not detected</td>\n    </tr>\n    <tr>\n      <th>44</th>\n      <td>PDM-85</td>\n      <td>https://www.atcc.org/products/pdm-85</td>\n      <td>Human cells</td>\n      <td>Cell modelOrganoid</td>\n      <td>Homo sapiens, human</td>\n      <td>organoid</td>\n      <td>Esophagus</td>\n      <td>Adenocarcinoma; Primary</td>\n      <td>3D cell cultureCancer research</td>\n      <td>Frozen</td>\n      <td>...</td>\n      <td>ATCC ACS-7104</td>\n      <td>Organoid Growth Kit 1E</td>\n      <td>Not provided</td>\n      <td>Embedded 3D culture</td>\n      <td>No</td>\n      <td>No contamination detected</td>\n      <td>Not provided</td>\n      <td>Not provided</td>\n      <td>organoid</td>\n      <td>Not detected</td>\n    </tr>\n    <tr>\n      <th>45</th>\n      <td>PDM-52</td>\n      <td>https://www.atcc.org/products/pdm-52</td>\n      <td>Human cells</td>\n      <td>Cell modelOrganoid</td>\n      <td>Homo sapiens, human</td>\n      <td>organoid</td>\n      <td>Large intestine; Colon</td>\n      <td>Adenocarcinoma; Primary</td>\n      <td>3D cell cultureCancer research</td>\n      <td>Frozen</td>\n      <td>...</td>\n      <td>ATCC ACS-7103</td>\n      <td>Organoid Growth Kit 1D</td>\n      <td>Not provided</td>\n      <td>Embedded 3D culture</td>\n      <td>No</td>\n      <td>No contamination detected</td>\n      <td>Not provided</td>\n      <td>Not provided</td>\n      <td>organoid</td>\n      <td>Not detected</td>\n    </tr>\n    <tr>\n      <th>46</th>\n      <td>PDM-54</td>\n      <td>https://www.atcc.org/products/pdm-54</td>\n      <td>Human cells</td>\n      <td>Cell modelOrganoid</td>\n      <td>Homo sapiens, human</td>\n      <td>organoid</td>\n      <td>Large intestine; Colon</td>\n      <td>Adenocarcinoma; Primary</td>\n      <td>3D cell cultureCancer research</td>\n      <td>Frozen</td>\n      <td>...</td>\n      <td>ATCC ACS-7103</td>\n      <td>Organoid Growth Kit 1D</td>\n      <td>Not provided</td>\n      <td>Embedded 3D culture</td>\n      <td>No</td>\n      <td>No contamination detected</td>\n      <td>Not provided</td>\n      <td>Not provided</td>\n      <td>organoid</td>\n      <td>Not detected</td>\n    </tr>\n    <tr>\n      <th>47</th>\n      <td>PDM-56</td>\n      <td>https://www.atcc.org/products/pdm-56</td>\n      <td>Human cells</td>\n      <td>Cell modelOrganoid</td>\n      <td>Homo sapiens, human</td>\n      <td>organoid</td>\n      <td>Large intestine; Colon</td>\n      <td>Adenocarcinoma; Primary</td>\n      <td>3D cell cultureCancer research</td>\n      <td>Frozen</td>\n      <td>...</td>\n      <td>ATCC ACS-7103</td>\n      <td>Organoid Growth Kit 1D</td>\n      <td>Not provided</td>\n      <td>Embedded 3D culture</td>\n      <td>No</td>\n      <td>No contamination detected</td>\n      <td>Not provided</td>\n      <td>Not provided</td>\n      <td>organoid</td>\n      <td>Not detected</td>\n    </tr>\n  </tbody>\n</table>\n<p>48 rows × 46 columns</p>\n</div>"
     },
     "execution_count": 334,
     "metadata": {},
     "output_type": "execute_result"
    }
   ],
   "source": [
    "text"
   ],
   "metadata": {
    "collapsed": false,
    "ExecuteTime": {
     "end_time": "2024-04-09T11:09:00.371468Z",
     "start_time": "2024-04-09T11:09:00.303754Z"
    }
   },
   "execution_count": 334
  },
  {
   "cell_type": "code",
   "outputs": [],
   "source": [
    "wcmc_atcc = fetch_from_atcc(read_metadata_without_fields(join(home, 'WCMC', 'WCMC_metadata-cell_model.tsv')))"
   ],
   "metadata": {
    "collapsed": false,
    "ExecuteTime": {
     "end_time": "2024-04-09T11:33:20.784456Z",
     "start_time": "2024-04-09T11:31:13.496448Z"
    }
   },
   "execution_count": 335
  },
  {
   "cell_type": "code",
   "outputs": [],
   "source": [
    "text = wcmc_atcc\n",
    "text['handling_information.complete_medium'] = text['handling_information.complete_medium'].fillna('Not provided')"
   ],
   "metadata": {
    "collapsed": false,
    "ExecuteTime": {
     "end_time": "2024-04-09T12:10:24.933708Z",
     "start_time": "2024-04-09T12:10:24.788181Z"
    }
   },
   "execution_count": 341
  },
  {
   "cell_type": "code",
   "outputs": [
    {
     "data": {
      "text/plain": "      atcc                                    url  \\\n0  PDM-513  https://www.atcc.org/products/pdm-513   \n1  PDM-515  https://www.atcc.org/products/pdm-515   \n2  PDM-514  https://www.atcc.org/products/pdm-514   \n3  PDM-375  https://www.atcc.org/products/pdm-375   \n4  PDM-683  https://www.atcc.org/products/pdm-683   \n5  PDM-685  https://www.atcc.org/products/pdm-685   \n6  PDM-376  https://www.atcc.org/products/pdm-376   \n7  PDM-512  https://www.atcc.org/products/pdm-512   \n8  PDM-519  https://www.atcc.org/products/pdm-519   \n9  PDM-377  https://www.atcc.org/products/pdm-377   \n\n  product_information.product_category product_information.product_type  \\\n0                          Human cells               Cell modelOrganoid   \n1                          Human cells               Cell modelOrganoid   \n2                          Human cells               Cell modelOrganoid   \n3                          Human cells               Cell modelOrganoid   \n4                          Human cells               Cell modelOrganoid   \n5                          Human cells               Cell modelOrganoid   \n6                          Human cells               OrganoidCell model   \n7                          Human cells               Cell modelOrganoid   \n8                          Human cells               Cell modelOrganoid   \n9                          Human cells               Cell modelOrganoid   \n\n  product_information.organism product_information.morphology  \\\n0          Homo sapiens, human                       organoid   \n1          Homo sapiens, human                       organoid   \n2          Homo sapiens, human                       organoid   \n3          Homo sapiens, human                       Organoid   \n4          Homo sapiens, human                       organoid   \n5          Homo sapiens, human                       organoid   \n6          Homo sapiens, human                       Organoid   \n7          Homo sapiens, human                       Organoid   \n8          Homo sapiens, human                       Organoid   \n9          Homo sapiens, human                       organoid   \n\n  product_information.tissue product_information.disease  \\\n0     Large intestine; Colon             Cancer; Primary   \n1                      Ovary             Cancer; Primary   \n2                      Ovary             Cancer; Primary   \n3     Large intestine; Colon             Cancer; Primary   \n4                       Lung             Cancer; Primary   \n5                       Lung             Cancer; Primary   \n6                    Stomach             Cancer; Primary   \n7                  Esophagus             Cancer; Primary   \n8                    Stomach                         NaN   \n9                    Stomach             Cancer; Primary   \n\n  product_information.applications product_information.product_format  ...  \\\n0   Cancer research3D cell culture                             Frozen  ...   \n1   Cancer research3D cell culture                             Frozen  ...   \n2   Cancer research3D cell culture                             Frozen  ...   \n3   3D cell cultureCancer research                             Frozen  ...   \n4   3D cell cultureCancer research                             Frozen  ...   \n5   3D cell cultureCancer research                             Frozen  ...   \n6   3D cell cultureCancer research                             Frozen  ...   \n7   3D cell cultureCancer research                             Frozen  ...   \n8   3D cell cultureCancer research                             Frozen  ...   \n9   3D cell cultureCancer research                             Frozen  ...   \n\n                  media_id                    growth_media   supplements  \\\n0            ATCC ACS-7105          Organoid Growth Kit 1F  Not provided   \n1  ATCC Organoid Media #10  Organoid Media Formulation #10  Not provided   \n2  ATCC Organoid Media #10  Organoid Media Formulation #10  Not provided   \n3            ATCC ACS-7105          Organoid Growth Kit 1F  Not provided   \n4  ATCC Organoid Media #10  Organoid Media Formulation #10  Not provided   \n5  ATCC Organoid Media #10  Organoid Media Formulation #10  Not provided   \n6            ATCC ACS-7105          Organoid Growth Kit 1F  Not provided   \n7            ATCC ACS-7105          Organoid Growth Kit 1F  Not provided   \n8            ATCC ACS-7105          Organoid Growth Kit 1F  Not provided   \n9             Not provided                    Not provided  Not provided   \n\n     growth_properties contaminated      contamination_details  model_purity  \\\n0  Embedded 3D culture           No  No contamination detected  Not provided   \n1  Embedded 3D culture           No  No contamination detected  Not provided   \n2  Embedded 3D culture           No  No contamination detected  Not provided   \n3  Embedded 3D culture           No  No contamination detected  Not provided   \n4  Embedded 3D culture           No  No contamination detected  Not provided   \n5  Embedded 3D culture           No  No contamination detected  Not provided   \n6  Embedded 3D culture           No  No contamination detected  Not provided   \n7  Embedded 3D culture           No  No contamination detected  Not provided   \n8  Embedded 3D culture           No  No contamination detected  Not provided   \n9  Embedded 3D culture           No  No contamination detected  Not provided   \n\n   STR_analysis morphological_features virology_status  \n0  Not provided               organoid    Not detected  \n1  Not provided               organoid    Not detected  \n2  Not provided               organoid    Not detected  \n3  Not provided               Organoid    Not detected  \n4  Not provided               organoid    Not detected  \n5  Not provided               organoid    Not detected  \n6  Not provided               Organoid    Not detected  \n7  Not provided               Organoid    Not detected  \n8  Not provided               Organoid    Not detected  \n9  Not provided               organoid    Not detected  \n\n[10 rows x 43 columns]",
      "text/html": "<div>\n<style scoped>\n    .dataframe tbody tr th:only-of-type {\n        vertical-align: middle;\n    }\n\n    .dataframe tbody tr th {\n        vertical-align: top;\n    }\n\n    .dataframe thead th {\n        text-align: right;\n    }\n</style>\n<table border=\"1\" class=\"dataframe\">\n  <thead>\n    <tr style=\"text-align: right;\">\n      <th></th>\n      <th>atcc</th>\n      <th>url</th>\n      <th>product_information.product_category</th>\n      <th>product_information.product_type</th>\n      <th>product_information.organism</th>\n      <th>product_information.morphology</th>\n      <th>product_information.tissue</th>\n      <th>product_information.disease</th>\n      <th>product_information.applications</th>\n      <th>product_information.product_format</th>\n      <th>...</th>\n      <th>media_id</th>\n      <th>growth_media</th>\n      <th>supplements</th>\n      <th>growth_properties</th>\n      <th>contaminated</th>\n      <th>contamination_details</th>\n      <th>model_purity</th>\n      <th>STR_analysis</th>\n      <th>morphological_features</th>\n      <th>virology_status</th>\n    </tr>\n  </thead>\n  <tbody>\n    <tr>\n      <th>0</th>\n      <td>PDM-513</td>\n      <td>https://www.atcc.org/products/pdm-513</td>\n      <td>Human cells</td>\n      <td>Cell modelOrganoid</td>\n      <td>Homo sapiens, human</td>\n      <td>organoid</td>\n      <td>Large intestine; Colon</td>\n      <td>Cancer; Primary</td>\n      <td>Cancer research3D cell culture</td>\n      <td>Frozen</td>\n      <td>...</td>\n      <td>ATCC ACS-7105</td>\n      <td>Organoid Growth Kit 1F</td>\n      <td>Not provided</td>\n      <td>Embedded 3D culture</td>\n      <td>No</td>\n      <td>No contamination detected</td>\n      <td>Not provided</td>\n      <td>Not provided</td>\n      <td>organoid</td>\n      <td>Not detected</td>\n    </tr>\n    <tr>\n      <th>1</th>\n      <td>PDM-515</td>\n      <td>https://www.atcc.org/products/pdm-515</td>\n      <td>Human cells</td>\n      <td>Cell modelOrganoid</td>\n      <td>Homo sapiens, human</td>\n      <td>organoid</td>\n      <td>Ovary</td>\n      <td>Cancer; Primary</td>\n      <td>Cancer research3D cell culture</td>\n      <td>Frozen</td>\n      <td>...</td>\n      <td>ATCC Organoid Media #10</td>\n      <td>Organoid Media Formulation #10</td>\n      <td>Not provided</td>\n      <td>Embedded 3D culture</td>\n      <td>No</td>\n      <td>No contamination detected</td>\n      <td>Not provided</td>\n      <td>Not provided</td>\n      <td>organoid</td>\n      <td>Not detected</td>\n    </tr>\n    <tr>\n      <th>2</th>\n      <td>PDM-514</td>\n      <td>https://www.atcc.org/products/pdm-514</td>\n      <td>Human cells</td>\n      <td>Cell modelOrganoid</td>\n      <td>Homo sapiens, human</td>\n      <td>organoid</td>\n      <td>Ovary</td>\n      <td>Cancer; Primary</td>\n      <td>Cancer research3D cell culture</td>\n      <td>Frozen</td>\n      <td>...</td>\n      <td>ATCC Organoid Media #10</td>\n      <td>Organoid Media Formulation #10</td>\n      <td>Not provided</td>\n      <td>Embedded 3D culture</td>\n      <td>No</td>\n      <td>No contamination detected</td>\n      <td>Not provided</td>\n      <td>Not provided</td>\n      <td>organoid</td>\n      <td>Not detected</td>\n    </tr>\n    <tr>\n      <th>3</th>\n      <td>PDM-375</td>\n      <td>https://www.atcc.org/products/pdm-375</td>\n      <td>Human cells</td>\n      <td>Cell modelOrganoid</td>\n      <td>Homo sapiens, human</td>\n      <td>Organoid</td>\n      <td>Large intestine; Colon</td>\n      <td>Cancer; Primary</td>\n      <td>3D cell cultureCancer research</td>\n      <td>Frozen</td>\n      <td>...</td>\n      <td>ATCC ACS-7105</td>\n      <td>Organoid Growth Kit 1F</td>\n      <td>Not provided</td>\n      <td>Embedded 3D culture</td>\n      <td>No</td>\n      <td>No contamination detected</td>\n      <td>Not provided</td>\n      <td>Not provided</td>\n      <td>Organoid</td>\n      <td>Not detected</td>\n    </tr>\n    <tr>\n      <th>4</th>\n      <td>PDM-683</td>\n      <td>https://www.atcc.org/products/pdm-683</td>\n      <td>Human cells</td>\n      <td>Cell modelOrganoid</td>\n      <td>Homo sapiens, human</td>\n      <td>organoid</td>\n      <td>Lung</td>\n      <td>Cancer; Primary</td>\n      <td>3D cell cultureCancer research</td>\n      <td>Frozen</td>\n      <td>...</td>\n      <td>ATCC Organoid Media #10</td>\n      <td>Organoid Media Formulation #10</td>\n      <td>Not provided</td>\n      <td>Embedded 3D culture</td>\n      <td>No</td>\n      <td>No contamination detected</td>\n      <td>Not provided</td>\n      <td>Not provided</td>\n      <td>organoid</td>\n      <td>Not detected</td>\n    </tr>\n    <tr>\n      <th>5</th>\n      <td>PDM-685</td>\n      <td>https://www.atcc.org/products/pdm-685</td>\n      <td>Human cells</td>\n      <td>Cell modelOrganoid</td>\n      <td>Homo sapiens, human</td>\n      <td>organoid</td>\n      <td>Lung</td>\n      <td>Cancer; Primary</td>\n      <td>3D cell cultureCancer research</td>\n      <td>Frozen</td>\n      <td>...</td>\n      <td>ATCC Organoid Media #10</td>\n      <td>Organoid Media Formulation #10</td>\n      <td>Not provided</td>\n      <td>Embedded 3D culture</td>\n      <td>No</td>\n      <td>No contamination detected</td>\n      <td>Not provided</td>\n      <td>Not provided</td>\n      <td>organoid</td>\n      <td>Not detected</td>\n    </tr>\n    <tr>\n      <th>6</th>\n      <td>PDM-376</td>\n      <td>https://www.atcc.org/products/pdm-376</td>\n      <td>Human cells</td>\n      <td>OrganoidCell model</td>\n      <td>Homo sapiens, human</td>\n      <td>Organoid</td>\n      <td>Stomach</td>\n      <td>Cancer; Primary</td>\n      <td>3D cell cultureCancer research</td>\n      <td>Frozen</td>\n      <td>...</td>\n      <td>ATCC ACS-7105</td>\n      <td>Organoid Growth Kit 1F</td>\n      <td>Not provided</td>\n      <td>Embedded 3D culture</td>\n      <td>No</td>\n      <td>No contamination detected</td>\n      <td>Not provided</td>\n      <td>Not provided</td>\n      <td>Organoid</td>\n      <td>Not detected</td>\n    </tr>\n    <tr>\n      <th>7</th>\n      <td>PDM-512</td>\n      <td>https://www.atcc.org/products/pdm-512</td>\n      <td>Human cells</td>\n      <td>Cell modelOrganoid</td>\n      <td>Homo sapiens, human</td>\n      <td>Organoid</td>\n      <td>Esophagus</td>\n      <td>Cancer; Primary</td>\n      <td>3D cell cultureCancer research</td>\n      <td>Frozen</td>\n      <td>...</td>\n      <td>ATCC ACS-7105</td>\n      <td>Organoid Growth Kit 1F</td>\n      <td>Not provided</td>\n      <td>Embedded 3D culture</td>\n      <td>No</td>\n      <td>No contamination detected</td>\n      <td>Not provided</td>\n      <td>Not provided</td>\n      <td>Organoid</td>\n      <td>Not detected</td>\n    </tr>\n    <tr>\n      <th>8</th>\n      <td>PDM-519</td>\n      <td>https://www.atcc.org/products/pdm-519</td>\n      <td>Human cells</td>\n      <td>Cell modelOrganoid</td>\n      <td>Homo sapiens, human</td>\n      <td>Organoid</td>\n      <td>Stomach</td>\n      <td>NaN</td>\n      <td>3D cell cultureCancer research</td>\n      <td>Frozen</td>\n      <td>...</td>\n      <td>ATCC ACS-7105</td>\n      <td>Organoid Growth Kit 1F</td>\n      <td>Not provided</td>\n      <td>Embedded 3D culture</td>\n      <td>No</td>\n      <td>No contamination detected</td>\n      <td>Not provided</td>\n      <td>Not provided</td>\n      <td>Organoid</td>\n      <td>Not detected</td>\n    </tr>\n    <tr>\n      <th>9</th>\n      <td>PDM-377</td>\n      <td>https://www.atcc.org/products/pdm-377</td>\n      <td>Human cells</td>\n      <td>Cell modelOrganoid</td>\n      <td>Homo sapiens, human</td>\n      <td>organoid</td>\n      <td>Stomach</td>\n      <td>Cancer; Primary</td>\n      <td>3D cell cultureCancer research</td>\n      <td>Frozen</td>\n      <td>...</td>\n      <td>Not provided</td>\n      <td>Not provided</td>\n      <td>Not provided</td>\n      <td>Embedded 3D culture</td>\n      <td>No</td>\n      <td>No contamination detected</td>\n      <td>Not provided</td>\n      <td>Not provided</td>\n      <td>organoid</td>\n      <td>Not detected</td>\n    </tr>\n  </tbody>\n</table>\n<p>10 rows × 43 columns</p>\n</div>"
     },
     "execution_count": 348,
     "metadata": {},
     "output_type": "execute_result"
    }
   ],
   "source": [
    "text"
   ],
   "metadata": {
    "collapsed": false,
    "ExecuteTime": {
     "end_time": "2024-04-09T12:14:28.462672Z",
     "start_time": "2024-04-09T12:14:28.318851Z"
    }
   },
   "execution_count": 348
  },
  {
   "cell_type": "code",
   "outputs": [],
   "source": [
    "conditions = [text['handling_information.complete_medium'].str.contains('theOrganoid Media Formulation #9'),\n",
    "              text['handling_information.complete_medium'].str.contains('theOrganoid Media Formulation #10'),\n",
    "              ]\n",
    "\n",
    "\n",
    "replacements = ['ATCC ACS-7105', 'ATCC Organoid Media #10']\n",
    "\n",
    "\n",
    "growth_media = ['Organoid Growth Kit 1F', 'Organoid Media Formulation #10']\n",
    "\n",
    "supplements = ['Not provided', 'Not provided']\n",
    "\n",
    "text['media_id'] = np.select(conditions, replacements, default='Not provided')\n",
    "text['growth_media'] = np.select(conditions, growth_media, default='Not provided')\n",
    "text['supplements'] = np.select(conditions, supplements, default='Not provided')\n",
    "text['growth_properties'] = text['characteristics.growth_properties']\n",
    "text['contaminated'] = np.where((text['quality_control_specifications.bacterial_and_fungal_testing'] == 'Not detected') & (text['quality_control_specifications.mycoplasma_contamination'] == 'Not detected'), 'No', 'Yes')\n",
    "\n",
    "text['contamination_details'] = np.where((text['quality_control_specifications.bacterial_and_fungal_testing'] == 'Not detected') & (text['quality_control_specifications.mycoplasma_contamination'] == 'Not detected'), 'No contamination detected', 'Not provided')\n",
    "\n",
    "text['model_purity'] = 'Not provided'#np.where(text['characteristics.metastatic'].fillna('Not provided') == 'Not provided', 'Not provided', 'Tumor cells')\n",
    "\n",
    "text['STR_analysis'] = 'Not provided'#np.where(text['quality_control_specifications.str_profiling'].fillna('Not provided') == 'Not provided', 'No', 'Yes')\n",
    "\n",
    "text['morphological_features'] = text['product_information.morphology'].fillna('Not provided')\n",
    "\n",
    "text['virology_status'] = np.where(text['quality_control_specifications.virus_testing'].str.lower().str.replace('detected', 'detected, ').str.replace('not detected', '').str.contains('detected'), 'Detected', 'Not detected')"
   ],
   "metadata": {
    "collapsed": false,
    "ExecuteTime": {
     "end_time": "2024-04-09T12:11:19.901707Z",
     "start_time": "2024-04-09T12:11:19.787242Z"
    }
   },
   "execution_count": 343
  },
  {
   "cell_type": "code",
   "outputs": [
    {
     "data": {
      "text/plain": "array(['Organoid Growth Kit 1F', 'Organoid Media Formulation #10',\n       'Not provided'], dtype=object)"
     },
     "execution_count": 344,
     "metadata": {},
     "output_type": "execute_result"
    }
   ],
   "source": [
    "text['growth_media'].unique()"
   ],
   "metadata": {
    "collapsed": false,
    "ExecuteTime": {
     "end_time": "2024-04-09T12:11:41.133192Z",
     "start_time": "2024-04-09T12:11:41.002088Z"
    }
   },
   "execution_count": 344
  },
  {
   "cell_type": "code",
   "outputs": [],
   "source": [
    "cell_sheet = read_metadata_without_fields(join(home, 'WCMC', 'WCMC_metadata-cell_model.tsv'))\n",
    "cell_template = read_metadata_with_fields(join(home, 'WCMC', 'WCMC_metadata-cell_model.tsv')).iloc[0:4]\n",
    "merged = cell_sheet.merge(text, left_on='catalog_number', right_on='atcc', how='left', suffixes=('_og', '_supplier'))\n",
    "merged['growth_properties'] = merged['growth_properties_supplier']\n",
    "merged['media_id'] = merged['media_id_supplier']\n",
    "merged['growth_media'] = merged['growth_media_supplier']\n",
    "merged['contaminated'] = merged['contaminated_supplier']\n",
    "merged['contamination_details'] = merged['contamination_details_supplier']\n",
    "merged['supplements'] = merged['supplements_supplier']\n",
    "pd.concat([cell_template, merged[cell_sheet.columns]]).reset_index(drop=True).to_csv(join(home, 'WCMC', 'WCMC_metadata-cell_model.tsv'), sep='\\t', index=False)"
   ],
   "metadata": {
    "collapsed": false,
    "ExecuteTime": {
     "end_time": "2024-04-09T12:12:05.543423Z",
     "start_time": "2024-04-09T12:12:05.308750Z"
    }
   },
   "execution_count": 345
  },
  {
   "cell_type": "code",
   "outputs": [],
   "source": [
    "mv_sheet = read_metadata_without_fields(join(home, 'WCMC', 'WCMC_metadata-model_validation.tsv'))\n",
    "mv_template = read_metadata_with_fields(join(home, 'WCMC', 'WCMC_metadata-model_validation.tsv')).iloc[0:4]\n",
    "x = merged[['model_id', 'morphological_features', 'STR_analysis', 'model_purity']]\n",
    "mv_sheet['model_id'] = merged['model_id']\n",
    "mv_sheet = mv_sheet.fillna('Not provided')\n",
    "mv_sheet['morphological_features'] = merged['morphological_features']\n",
    "mv_sheet['STR_analysis'] = merged['STR_analysis']\n",
    "mv_sheet['model_purity'] = merged['model_purity']\n",
    "pd.concat([mv_template, mv_sheet[mv_sheet.columns]]).reset_index(drop=True).to_csv(join(home, 'WCMC', 'WCMC_metadata-model_validation.tsv'), sep='\\t', index=False)"
   ],
   "metadata": {
    "collapsed": false,
    "ExecuteTime": {
     "end_time": "2024-04-09T12:13:50.561567Z",
     "start_time": "2024-04-09T12:13:50.373392Z"
    }
   },
   "execution_count": 347
  },
  {
   "cell_type": "code",
   "outputs": [],
   "source": [
    "patient_sheet = read_metadata_without_fields(join(home, 'WCMC', 'WCMC_metadata-patient.tsv'))\n",
    "patient_template = read_metadata_with_fields(join(home, 'WCMC', 'WCMC_metadata-patient.tsv')).iloc[0:4]\n",
    "patient_sheet['age_category'] = ['Not provided' if r.__contains__('Not') else 'Adult' if int(r) > 21 else 'Paediatric' for r in patient_sheet['age_at_initial_diagnosis']]\n",
    "pd.concat([patient_template, patient_sheet[patient_sheet.columns]]).reset_index(drop=True).to_csv(join(home, 'WCMC', 'WCMC_metadata-patient.tsv'), sep='\\t', index=False)"
   ],
   "metadata": {
    "collapsed": false,
    "ExecuteTime": {
     "end_time": "2024-04-09T12:15:36.991048Z",
     "start_time": "2024-04-09T12:15:36.810050Z"
    }
   },
   "execution_count": 349
  },
  {
   "cell_type": "code",
   "outputs": [],
   "source": [],
   "metadata": {
    "collapsed": false
   },
   "execution_count": null
  },
  {
   "cell_type": "code",
   "outputs": [],
   "source": [],
   "metadata": {
    "collapsed": false
   },
   "execution_count": null
  },
  {
   "cell_type": "code",
   "outputs": [],
   "source": [],
   "metadata": {
    "collapsed": false
   },
   "execution_count": null
  },
  {
   "cell_type": "code",
   "outputs": [],
   "source": [],
   "metadata": {
    "collapsed": false
   },
   "execution_count": null
  },
  {
   "cell_type": "code",
   "outputs": [],
   "source": [
    "supplier_dict = {'': '',\n",
    "                 'ATCC':'https://www.atcc.org/products/',\n",
    "                 'AddexBio': f'https://www.cellosaurus.org/{RRID}',\n",
    "                 'BioIVT': '',\n",
    "                 'CLS': f'https://www.cellosaurus.org/{RRID}',\n",
    "                 'CellBank Australia': f'https://www.cellosaurus.org/{RRID}',\n",
    "                 'Childhood Cancer Repository': '',\n",
    "                 'DSMZ': f'https://www.dsmz.de/catalogues/details/culture/{model_number}.html',\n",
    "                 'ECACC': f'https://www.phe-culturecollections.org.uk/products/celllines/generalcell/detail.jsp?refId={model_number}&collection=ecacc_gc',\n",
    "                 'ECACC;DSMZ': f'https://www.dsmz.de/catalogues/details/culture/{model_number}.html',\n",
    "                 'Horizon Discovery': '',\n",
    "                 'ICLC': '',\n",
    "                 'JCRB': f'https://cellbank.nibiohn.go.jp/~cellbank/en/search_res_det.cgi?RNO={model_number}',\n",
    "                 'KCLB': f'https://cellbank.snu.ac.kr/main/tmpl/sub_main.php?m_cd=6&m_id=0201&strQ={model_number}',\n",
    "                 'Lonza': '',\n",
    "                 'Mesobank': '',\n",
    "                 'NCI': f'https://www.cellosaurus.org/{RRID}',\n",
    "                 'NCI-Navy Medical Oncology Branch': '',\n",
    "                 'RIKEN': f'https://cellbank.brc.riken.jp/cell_bank/CellInfo/?cellNo={model_number}&lang=En',\n",
    "                 'Rockland': '',\n",
    "                 'TKG': '',\n",
    "                 'Ximbio': '',\n",
    "                 'unknown': ''}"
   ],
   "metadata": {
    "collapsed": false
   },
   "execution_count": null
  },
  {
   "cell_type": "code",
   "outputs": [
    {
     "name": "stderr",
     "output_type": "stream",
     "text": [
      "  0%|          | 0/1932 [00:00<?, ?it/s]/var/folders/_2/g5d3zf4s41g0tvlqkc3_8wjr0000gp/T/ipykernel_35478/3579978440.py:18: DeprecationWarning: The 'text' argument to find()-type methods is deprecated. Use 'string' instead.\n",
      "  publications = soup.find('th', text='Publications')\n",
      "/var/folders/_2/g5d3zf4s41g0tvlqkc3_8wjr0000gp/T/ipykernel_35478/3579978440.py:35: DeprecationWarning: The 'text' argument to find()-type methods is deprecated. Use 'string' instead.\n",
      "  str_profile = soup.find('th', text='STR profile')\n",
      "/var/folders/_2/g5d3zf4s41g0tvlqkc3_8wjr0000gp/T/ipykernel_35478/3579978440.py:54: DeprecationWarning: The 'text' argument to find()-type methods is deprecated. Use 'string' instead.\n",
      "  supplier_section = soup.find('th', text='Cell line collections (Providers)')\n",
      "  0%|          | 1/1932 [00:01<37:56,  1.18s/it]/var/folders/_2/g5d3zf4s41g0tvlqkc3_8wjr0000gp/T/ipykernel_35478/3579978440.py:18: DeprecationWarning: The 'text' argument to find()-type methods is deprecated. Use 'string' instead.\n",
      "  publications = soup.find('th', text='Publications')\n",
      "/var/folders/_2/g5d3zf4s41g0tvlqkc3_8wjr0000gp/T/ipykernel_35478/3579978440.py:35: DeprecationWarning: The 'text' argument to find()-type methods is deprecated. Use 'string' instead.\n",
      "  str_profile = soup.find('th', text='STR profile')\n",
      "/var/folders/_2/g5d3zf4s41g0tvlqkc3_8wjr0000gp/T/ipykernel_35478/3579978440.py:54: DeprecationWarning: The 'text' argument to find()-type methods is deprecated. Use 'string' instead.\n",
      "  supplier_section = soup.find('th', text='Cell line collections (Providers)')\n",
      " 53%|█████▎    | 1026/1932 [24:06<14:16,  1.06it/s] /var/folders/_2/g5d3zf4s41g0tvlqkc3_8wjr0000gp/T/ipykernel_35478/3579978440.py:63: DeprecationWarning: The 'text' argument to find()-type methods is deprecated. Use 'string' instead.\n",
      "  values_and_links = soup.find('th', text='Web pages').find_next('td')\n",
      "100%|██████████| 1932/1932 [38:50<00:00,  1.21s/it]\n"
     ]
    }
   ],
   "source": [
    "cmp_sheet = read_metadata_without_fields(join(home, 'CMP', 'CMP_metadata-cell_model.tsv'))\n",
    "cmp_template = read_metadata_with_fields(join(home, 'CMP', 'CMP_metadata-cell_model.tsv')).iloc[0:4]\n",
    "cmp_sheet[['supplier', 'catalog_number']] = cmp_sheet['supplier'].fillna('Not provided').str.replace('ATCC:CR:', 'ATCC:CR').str.replace('ECACC:96090513;DSMZ:ACC-558', 'ECACC;DSMZ:96090513;ACC-558').str.split(':', expand=True).fillna('Not provided')\n",
    "cmp_sheet['supplier_type'] = ['Not provided' if r.lower() == 'not provided' else 'Commercial' for r in cmp_sheet['supplier']]\n",
    "cmp_sheet['rrid'] = cmp_sheet['external_ids'].str.extract(r'(CVCL_.{4})').fillna('Not provided')\n",
    "cmp_sheet['STR_analysis'] = ''\n",
    "#cmp_sheet['cell_line_provider_url'] = list()\n",
    "for i in tqdm(range(cmp_sheet.shape[0])):\n",
    "    rrid = cmp_sheet['rrid'][i]\n",
    "    supplier_name = cmp_sheet['supplier'][i]\n",
    "    catalog_number = cmp_sheet['catalog_number'][i]\n",
    "    if rrid == 'Not provided':\n",
    "        continue\n",
    "    cellosaurus = f'https://www.cellosaurus.org/{rrid}'\n",
    "    response = get(cellosaurus)\n",
    "    if response.status_code == 200: \n",
    "        soup = BeautifulSoup(response.text, 'html.parser')\n",
    "        publications = soup.find('th', text='Publications')\n",
    "        if publications is not None:\n",
    "            publications = publications.find_next('td')\n",
    "            pmids = ''\n",
    "            if publications is not None:\n",
    "                for pubmed in publications.find_all('a'):\n",
    "                    if pubmed['href'].__contains__('pubmed'):\n",
    "                        pmids += 'PMID: ' + pubmed.text + ','\n",
    "                pmids = pmids[:-1]\n",
    "                if cmp_sheet.loc[i, 'publications'] is not str:\n",
    "                    cmp_sheet.loc[i, 'publications'] = pmids\n",
    "                else:\n",
    "                    cmp_sheet.loc[i, 'publications'] += ',' + pmids\n",
    "                pmid_list = cmp_sheet.loc[i, 'publications'].split(',')\n",
    "                unique_pmids = set(pmid_list)\n",
    "                cmp_sheet.loc[i, 'publications'] = ','.join(unique_pmids)    \n",
    "                \n",
    "        str_profile = soup.find('th', text='STR profile')\n",
    "        if str_profile is not None:\n",
    "            str_profile = str_profile.find_next('table')\n",
    "            result = ''\n",
    "            for row in str_profile.find_all('tr'):\n",
    "                j = 0\n",
    "                for cell in row.find_all('td'):\n",
    "                    result += cell.get_text()\n",
    "                    if j == 0:\n",
    "                        result += ': '\n",
    "                        j+=1\n",
    "                result += '; '\n",
    "            if len(result) > 0:\n",
    "                result = result[:-2]\n",
    "                if cmp_sheet.loc[i, 'comments'] is not str:\n",
    "                    cmp_sheet.loc[i, 'comments'] = 'STR Profile: ' + result\n",
    "                else:\n",
    "                    cmp_sheet.loc[i, 'comments'] += ', STR Profile: ' + result\n",
    "                cmp_sheet.loc[i, 'STR_analysis'] = 'Yes' \n",
    "        supplier_section = soup.find('th', text='Cell line collections (Providers)')\n",
    "        links = None\n",
    "        if supplier_section:\n",
    "            values_and_links = supplier_section.find_next('td')\n",
    "            links = [link['href'] for link in values_and_links.find_all('a', href=True) if len(link['href']) > 0]\n",
    "            if len(links) == 0:\n",
    "                links = None\n",
    "        if links is None:\n",
    "            if supplier_name == \"Childhood Cancer Repository\" or supplier_name == \"BioIVT\":\n",
    "                values_and_links = soup.find('th', text='Web pages').find_next('td')\n",
    "                links = [link['href'] for link in values_and_links.find_all('a', href=True) if len(link['href']) > 0]\n",
    "            if supplier_name == \"DSMZ\" or supplier_name == \"ECACC;DSMZ\":\n",
    "                links = [f'https://www.dsmz.de/collection/catalogue/details/culture/{catalog_number}']\n",
    "            if supplier_name == \"ECACC\":\n",
    "                links = [f'https://www.phe-culturecollections.org.uk/products/celllines/generalcell/detail.jsp?refId={catalog_number}1&collection=ecacc_gc']\n",
    "        if links is None:\n",
    "            links = ['Not provided']\n",
    "        cmp_sheet.loc[i, 'cell_line_provider_url'] = links[0]\n",
    "cmp_sheet['vendor_link'] = cmp_sheet['cell_line_provider_url'].fillna('Not provided')"
   ],
   "metadata": {
    "collapsed": false,
    "ExecuteTime": {
     "end_time": "2024-04-10T10:35:00.975171Z",
     "start_time": "2024-04-10T09:56:10.556091Z"
    }
   },
   "execution_count": 469
  },
  {
   "cell_type": "code",
   "outputs": [
    {
     "data": {
      "text/plain": "       model_id model_name model_name_aliases       type  parent_id  \\\n0     SIDM01774      PK-59       Not provided  Cell Line        NaN   \n1     SIDM00192   SNU-1033       Not provided  Cell Line        NaN   \n2     SIDM01447    SNU-466       Not provided  Cell Line        NaN   \n3     SIDM01554  IST-MES-2       Not provided  Cell Line        NaN   \n4     SIDM01689     MUTZ-5       Not provided  Cell Line        NaN   \n...         ...        ...                ...        ...        ...   \n1927  SIDM02153      MM485       Not provided  Cell Line        NaN   \n1928  SIDM02155       NZM3       Not provided  Cell Line        NaN   \n1929  SIDM02157    WM3772F       Not provided  Cell Line        NaN   \n1930  SIDM02159       HAP1       Not provided  Cell Line  SIDM02121   \n1931  SIDM01339      SLR24       Not provided  Cell Line  SIDM01851   \n\n     origin_patient_sample_id growth_properties      media_id  growth_media  \\\n0                         NaN          Adherent  Not provided  Not provided   \n1                         NaN          Adherent  Not provided  Not provided   \n2                         NaN          Adherent  Not provided  Not provided   \n3                         NaN          Adherent  Not provided  Not provided   \n4                         NaN        Suspension  Not provided  Not provided   \n...                       ...               ...           ...           ...   \n1927                      NaN          Adherent  Not provided  Not provided   \n1928                      NaN          Adherent  Not provided  Not provided   \n1929                      NaN          Adherent  Not provided  Not provided   \n1930                SIDS02033          Adherent  Not provided  Not provided   \n1931                SIDS01788          Adherent  Not provided  Not provided   \n\n     plate_coating  ...                                       publications  \\\n0     Not provided  ...  PMID: 26589293,PMID: 25877200,PMID: 22460905,P...   \n1     Not provided  ...  PMID: 26589293,PMID: 10674020,PMID: 19956504,P...   \n2     Not provided  ...  PMID: 26589293,PMID: 22460905,PMID: 19956504,P...   \n3     Not provided  ...  PMID: 26589293,PMID: 22460905,PMID: 10232421,P...   \n4     Not provided  ...  PMID: 26589293,PMID: 22460905,PMID: 30285677,P...   \n...            ...  ...                                                ...   \n1927  Not provided  ...                                      PMID: 3127479   \n1928  Not provided  ...                                                NaN   \n1929  Not provided  ...                                                NaN   \n1930  Not provided  ...                                                NaN   \n1931  Not provided  ...  PMID: 25984343,PMID: 19470766,PMID: 12907621,P...   \n\n               supplier supplier_type   catalog_number   vendor_link  \\\n0                 RIKEN    Commercial          RCB1901  Not provided   \n1                  KCLB    Commercial            01033  Not provided   \n2                  KCLB    Commercial            00466  Not provided   \n3                  ICLC    Commercial         HTL01007  Not provided   \n4                  DSMZ    Commercial          ACC-490  Not provided   \n...                 ...           ...              ...           ...   \n1927              ECACC    Commercial         11072803  Not provided   \n1928              ECACC    Commercial         17020204  Not provided   \n1929           Rockland    Commercial  WM3772F-01-0001  Not provided   \n1930  Horizon Discovery    Commercial             C631  Not provided   \n1931       Not provided  Not provided     Not provided  Not provided   \n\n              rrid                                       external_ids  \\\n0        CVCL_4897       ACH-000205,CVCL_4897,CCLE_Name:PK59_PANCREAS   \n1        CVCL_5002  ACH-000286,CVCL_5002,CCLE_Name:SNU1033_LARGE_I...   \n2        CVCL_5064  ACH-000289,CVCL_5064,CCLE_Name:SNU466_CENTRAL_...   \n3        CVCL_1312      ACH-000331,CVCL_1312,CCLE_Name:ISTMES2_PLEURA   \n4        CVCL_1873  ACH-000492,CVCL_1873,CCLE_Name:MUTZ5_HAEMATOPO...   \n...            ...                                                ...   \n1927  Not provided                           COSMIC1206009,ACH-001973   \n1928  Not provided                           COSMIC1660299,ACH-001982   \n1929  Not provided                                         ACH-002687   \n1930  Not provided                                         ACH-002475   \n1931     CVCL_V610        ACH-000272,CVCL_V610,CCLE_Name:SLR24_KIDNEY   \n\n                                               comments STR_analysis  \\\n0     STR Profile: Amelogenin: X; CSF1PO: 10; D3S135...          Yes   \n1     STR Profile: Amelogenin: X; CSF1PO: 10; D1S165...          Yes   \n2     STR Profile: Amelogenin: X,Y; CSF1PO: 12; D3S1...          Yes   \n3     STR Profile: Amelogenin: X,Y; CSF1PO: 10,11; D...          Yes   \n4     STR Profile: Amelogenin: X; CSF1PO: 8,9; D2S13...          Yes   \n...                                                 ...          ...   \n1927                                                NaN                \n1928                                                NaN                \n1929                                                NaN                \n1930  HAP1 is a subclone of KBM7 which is haploid ex...                \n1931  STR Profile: Amelogenin: X; CSF1PO: 10,12; D5S...          Yes   \n\n                                 cell_line_provider_url  \n0     http://cellbank.brc.riken.jp/cell_bank/CellInf...  \n1     https://cellbank.snu.ac.kr/main/tmpl/sub_main....  \n2     https://cellbank.snu.ac.kr/main/tmpl/sub_main....  \n3     http://www.iclc.it/details/det_list.php?line_i...  \n4     https://www.dsmz.de/collection/catalogue/detai...  \n...                                                 ...  \n1927                                                NaN  \n1928                                                NaN  \n1929                                                NaN  \n1930                                                NaN  \n1931                                       Not provided  \n\n[1932 rows x 27 columns]",
      "text/html": "<div>\n<style scoped>\n    .dataframe tbody tr th:only-of-type {\n        vertical-align: middle;\n    }\n\n    .dataframe tbody tr th {\n        vertical-align: top;\n    }\n\n    .dataframe thead th {\n        text-align: right;\n    }\n</style>\n<table border=\"1\" class=\"dataframe\">\n  <thead>\n    <tr style=\"text-align: right;\">\n      <th></th>\n      <th>model_id</th>\n      <th>model_name</th>\n      <th>model_name_aliases</th>\n      <th>type</th>\n      <th>parent_id</th>\n      <th>origin_patient_sample_id</th>\n      <th>growth_properties</th>\n      <th>media_id</th>\n      <th>growth_media</th>\n      <th>plate_coating</th>\n      <th>...</th>\n      <th>publications</th>\n      <th>supplier</th>\n      <th>supplier_type</th>\n      <th>catalog_number</th>\n      <th>vendor_link</th>\n      <th>rrid</th>\n      <th>external_ids</th>\n      <th>comments</th>\n      <th>STR_analysis</th>\n      <th>cell_line_provider_url</th>\n    </tr>\n  </thead>\n  <tbody>\n    <tr>\n      <th>0</th>\n      <td>SIDM01774</td>\n      <td>PK-59</td>\n      <td>Not provided</td>\n      <td>Cell Line</td>\n      <td>NaN</td>\n      <td>NaN</td>\n      <td>Adherent</td>\n      <td>Not provided</td>\n      <td>Not provided</td>\n      <td>Not provided</td>\n      <td>...</td>\n      <td>PMID: 26589293,PMID: 25877200,PMID: 22460905,P...</td>\n      <td>RIKEN</td>\n      <td>Commercial</td>\n      <td>RCB1901</td>\n      <td>Not provided</td>\n      <td>CVCL_4897</td>\n      <td>ACH-000205,CVCL_4897,CCLE_Name:PK59_PANCREAS</td>\n      <td>STR Profile: Amelogenin: X; CSF1PO: 10; D3S135...</td>\n      <td>Yes</td>\n      <td>http://cellbank.brc.riken.jp/cell_bank/CellInf...</td>\n    </tr>\n    <tr>\n      <th>1</th>\n      <td>SIDM00192</td>\n      <td>SNU-1033</td>\n      <td>Not provided</td>\n      <td>Cell Line</td>\n      <td>NaN</td>\n      <td>NaN</td>\n      <td>Adherent</td>\n      <td>Not provided</td>\n      <td>Not provided</td>\n      <td>Not provided</td>\n      <td>...</td>\n      <td>PMID: 26589293,PMID: 10674020,PMID: 19956504,P...</td>\n      <td>KCLB</td>\n      <td>Commercial</td>\n      <td>01033</td>\n      <td>Not provided</td>\n      <td>CVCL_5002</td>\n      <td>ACH-000286,CVCL_5002,CCLE_Name:SNU1033_LARGE_I...</td>\n      <td>STR Profile: Amelogenin: X; CSF1PO: 10; D1S165...</td>\n      <td>Yes</td>\n      <td>https://cellbank.snu.ac.kr/main/tmpl/sub_main....</td>\n    </tr>\n    <tr>\n      <th>2</th>\n      <td>SIDM01447</td>\n      <td>SNU-466</td>\n      <td>Not provided</td>\n      <td>Cell Line</td>\n      <td>NaN</td>\n      <td>NaN</td>\n      <td>Adherent</td>\n      <td>Not provided</td>\n      <td>Not provided</td>\n      <td>Not provided</td>\n      <td>...</td>\n      <td>PMID: 26589293,PMID: 22460905,PMID: 19956504,P...</td>\n      <td>KCLB</td>\n      <td>Commercial</td>\n      <td>00466</td>\n      <td>Not provided</td>\n      <td>CVCL_5064</td>\n      <td>ACH-000289,CVCL_5064,CCLE_Name:SNU466_CENTRAL_...</td>\n      <td>STR Profile: Amelogenin: X,Y; CSF1PO: 12; D3S1...</td>\n      <td>Yes</td>\n      <td>https://cellbank.snu.ac.kr/main/tmpl/sub_main....</td>\n    </tr>\n    <tr>\n      <th>3</th>\n      <td>SIDM01554</td>\n      <td>IST-MES-2</td>\n      <td>Not provided</td>\n      <td>Cell Line</td>\n      <td>NaN</td>\n      <td>NaN</td>\n      <td>Adherent</td>\n      <td>Not provided</td>\n      <td>Not provided</td>\n      <td>Not provided</td>\n      <td>...</td>\n      <td>PMID: 26589293,PMID: 22460905,PMID: 10232421,P...</td>\n      <td>ICLC</td>\n      <td>Commercial</td>\n      <td>HTL01007</td>\n      <td>Not provided</td>\n      <td>CVCL_1312</td>\n      <td>ACH-000331,CVCL_1312,CCLE_Name:ISTMES2_PLEURA</td>\n      <td>STR Profile: Amelogenin: X,Y; CSF1PO: 10,11; D...</td>\n      <td>Yes</td>\n      <td>http://www.iclc.it/details/det_list.php?line_i...</td>\n    </tr>\n    <tr>\n      <th>4</th>\n      <td>SIDM01689</td>\n      <td>MUTZ-5</td>\n      <td>Not provided</td>\n      <td>Cell Line</td>\n      <td>NaN</td>\n      <td>NaN</td>\n      <td>Suspension</td>\n      <td>Not provided</td>\n      <td>Not provided</td>\n      <td>Not provided</td>\n      <td>...</td>\n      <td>PMID: 26589293,PMID: 22460905,PMID: 30285677,P...</td>\n      <td>DSMZ</td>\n      <td>Commercial</td>\n      <td>ACC-490</td>\n      <td>Not provided</td>\n      <td>CVCL_1873</td>\n      <td>ACH-000492,CVCL_1873,CCLE_Name:MUTZ5_HAEMATOPO...</td>\n      <td>STR Profile: Amelogenin: X; CSF1PO: 8,9; D2S13...</td>\n      <td>Yes</td>\n      <td>https://www.dsmz.de/collection/catalogue/detai...</td>\n    </tr>\n    <tr>\n      <th>...</th>\n      <td>...</td>\n      <td>...</td>\n      <td>...</td>\n      <td>...</td>\n      <td>...</td>\n      <td>...</td>\n      <td>...</td>\n      <td>...</td>\n      <td>...</td>\n      <td>...</td>\n      <td>...</td>\n      <td>...</td>\n      <td>...</td>\n      <td>...</td>\n      <td>...</td>\n      <td>...</td>\n      <td>...</td>\n      <td>...</td>\n      <td>...</td>\n      <td>...</td>\n      <td>...</td>\n    </tr>\n    <tr>\n      <th>1927</th>\n      <td>SIDM02153</td>\n      <td>MM485</td>\n      <td>Not provided</td>\n      <td>Cell Line</td>\n      <td>NaN</td>\n      <td>NaN</td>\n      <td>Adherent</td>\n      <td>Not provided</td>\n      <td>Not provided</td>\n      <td>Not provided</td>\n      <td>...</td>\n      <td>PMID: 3127479</td>\n      <td>ECACC</td>\n      <td>Commercial</td>\n      <td>11072803</td>\n      <td>Not provided</td>\n      <td>Not provided</td>\n      <td>COSMIC1206009,ACH-001973</td>\n      <td>NaN</td>\n      <td></td>\n      <td>NaN</td>\n    </tr>\n    <tr>\n      <th>1928</th>\n      <td>SIDM02155</td>\n      <td>NZM3</td>\n      <td>Not provided</td>\n      <td>Cell Line</td>\n      <td>NaN</td>\n      <td>NaN</td>\n      <td>Adherent</td>\n      <td>Not provided</td>\n      <td>Not provided</td>\n      <td>Not provided</td>\n      <td>...</td>\n      <td>NaN</td>\n      <td>ECACC</td>\n      <td>Commercial</td>\n      <td>17020204</td>\n      <td>Not provided</td>\n      <td>Not provided</td>\n      <td>COSMIC1660299,ACH-001982</td>\n      <td>NaN</td>\n      <td></td>\n      <td>NaN</td>\n    </tr>\n    <tr>\n      <th>1929</th>\n      <td>SIDM02157</td>\n      <td>WM3772F</td>\n      <td>Not provided</td>\n      <td>Cell Line</td>\n      <td>NaN</td>\n      <td>NaN</td>\n      <td>Adherent</td>\n      <td>Not provided</td>\n      <td>Not provided</td>\n      <td>Not provided</td>\n      <td>...</td>\n      <td>NaN</td>\n      <td>Rockland</td>\n      <td>Commercial</td>\n      <td>WM3772F-01-0001</td>\n      <td>Not provided</td>\n      <td>Not provided</td>\n      <td>ACH-002687</td>\n      <td>NaN</td>\n      <td></td>\n      <td>NaN</td>\n    </tr>\n    <tr>\n      <th>1930</th>\n      <td>SIDM02159</td>\n      <td>HAP1</td>\n      <td>Not provided</td>\n      <td>Cell Line</td>\n      <td>SIDM02121</td>\n      <td>SIDS02033</td>\n      <td>Adherent</td>\n      <td>Not provided</td>\n      <td>Not provided</td>\n      <td>Not provided</td>\n      <td>...</td>\n      <td>NaN</td>\n      <td>Horizon Discovery</td>\n      <td>Commercial</td>\n      <td>C631</td>\n      <td>Not provided</td>\n      <td>Not provided</td>\n      <td>ACH-002475</td>\n      <td>HAP1 is a subclone of KBM7 which is haploid ex...</td>\n      <td></td>\n      <td>NaN</td>\n    </tr>\n    <tr>\n      <th>1931</th>\n      <td>SIDM01339</td>\n      <td>SLR24</td>\n      <td>Not provided</td>\n      <td>Cell Line</td>\n      <td>SIDM01851</td>\n      <td>SIDS01788</td>\n      <td>Adherent</td>\n      <td>Not provided</td>\n      <td>Not provided</td>\n      <td>Not provided</td>\n      <td>...</td>\n      <td>PMID: 25984343,PMID: 19470766,PMID: 12907621,P...</td>\n      <td>Not provided</td>\n      <td>Not provided</td>\n      <td>Not provided</td>\n      <td>Not provided</td>\n      <td>CVCL_V610</td>\n      <td>ACH-000272,CVCL_V610,CCLE_Name:SLR24_KIDNEY</td>\n      <td>STR Profile: Amelogenin: X; CSF1PO: 10,12; D5S...</td>\n      <td>Yes</td>\n      <td>Not provided</td>\n    </tr>\n  </tbody>\n</table>\n<p>1932 rows × 27 columns</p>\n</div>"
     },
     "execution_count": 470,
     "metadata": {},
     "output_type": "execute_result"
    }
   ],
   "source": [
    "cmp_sheet"
   ],
   "metadata": {
    "collapsed": false,
    "ExecuteTime": {
     "end_time": "2024-04-10T10:35:04.915269Z",
     "start_time": "2024-04-10T10:35:04.769702Z"
    }
   },
   "execution_count": 470
  },
  {
   "cell_type": "code",
   "outputs": [
    {
     "data": {
      "text/plain": "       model_id         model_name model_name_aliases       type  parent_id  \\\n13    SIDM01387          NCI-H1339       Not provided  Cell Line        NaN   \n24    SIDM01752               L3-3       Not provided  Cell Line  SIDM01654   \n30    SIDM00128            JHU-011       Not provided  Cell Line        NaN   \n39    SIDM01287  HCM-SANG-0290-C15       Not provided   Organoid        NaN   \n54    SIDM00205               EW-1       Not provided  Cell Line        NaN   \n...         ...                ...                ...        ...        ...   \n1927  SIDM02153              MM485       Not provided  Cell Line        NaN   \n1928  SIDM02155               NZM3       Not provided  Cell Line        NaN   \n1929  SIDM02157            WM3772F       Not provided  Cell Line        NaN   \n1930  SIDM02159               HAP1       Not provided  Cell Line  SIDM02121   \n1931  SIDM01339              SLR24       Not provided  Cell Line  SIDM01851   \n\n     origin_patient_sample_id growth_properties      media_id  growth_media  \\\n13                        NaN      Not provided  Not provided  Not provided   \n24                  SIDS01608          Adherent  Not provided  Not provided   \n30                        NaN      Not provided  Not provided  Not provided   \n39                        NaN      Not provided  Not provided  Not provided   \n54                        NaN      Not provided  Not provided  Not provided   \n...                       ...               ...           ...           ...   \n1927                      NaN          Adherent  Not provided  Not provided   \n1928                      NaN          Adherent  Not provided  Not provided   \n1929                      NaN          Adherent  Not provided  Not provided   \n1930                SIDS02033          Adherent  Not provided  Not provided   \n1931                SIDS01788          Adherent  Not provided  Not provided   \n\n     plate_coating  ...                                       publications  \\\n13    Not provided  ...  PMID: 19472407,PMID: 25877200,PMID: 1312696,PM...   \n24    Not provided  ...  PMID: 26589293,PMID: 25984343,PMID: 22460905,P...   \n30    Not provided  ...  PMID: 21868764,PMID: 35839778,PMID: 12925955,P...   \n39    Not provided  ...                                                NaN   \n54    Not provided  ...  PMID: 6713356,PMID: 35839778,PMID: 11423975,PM...   \n...            ...  ...                                                ...   \n1927  Not provided  ...                                      PMID: 3127479   \n1928  Not provided  ...                                                NaN   \n1929  Not provided  ...                                                NaN   \n1930  Not provided  ...                                                NaN   \n1931  Not provided  ...  PMID: 25984343,PMID: 19470766,PMID: 12907621,P...   \n\n               supplier supplier_type   catalog_number   vendor_link  \\\n13         Not provided  Not provided     Not provided  Not provided   \n24         Not provided  Not provided     Not provided  Not provided   \n30         Not provided  Not provided     Not provided  Not provided   \n39         Not provided  Not provided     Not provided  Not provided   \n54         Not provided  Not provided     Not provided  Not provided   \n...                 ...           ...              ...           ...   \n1927              ECACC    Commercial         11072803  Not provided   \n1928              ECACC    Commercial         17020204  Not provided   \n1929           Rockland    Commercial  WM3772F-01-0001  Not provided   \n1930  Horizon Discovery    Commercial             C631  Not provided   \n1931       Not provided  Not provided     Not provided  Not provided   \n\n              rrid                                       external_ids  \\\n13       CVCL_A472       ACH-000921,CVCL_A472,CCLE_Name:NCIH1339_LUNG   \n24       CVCL_8147        ACH-000685,CVCL_8147,CCLE_Name:L33_PANCREAS   \n30       CVCL_5986  COSMIC1240161,ACH-002249,CVCL_5986,CCLE_Name:J...   \n39    Not provided                                                NaN   \n54       CVCL_1208  COSMIC949163,ACH-002110,CVCL_1208,CCLE_Name:EW...   \n...            ...                                                ...   \n1927  Not provided                           COSMIC1206009,ACH-001973   \n1928  Not provided                           COSMIC1660299,ACH-001982   \n1929  Not provided                                         ACH-002687   \n1930  Not provided                                         ACH-002475   \n1931     CVCL_V610        ACH-000272,CVCL_V610,CCLE_Name:SLR24_KIDNEY   \n\n                                               comments STR_analysis  \\\n13    STR Profile: Amelogenin: X; CSF1PO: 12; D2S133...          Yes   \n24    Derived through sequential passaging in nude m...                \n30    STR Profile: Amelogenin: X; CSF1PO: 10,12; D5S...          Yes   \n39                                                  NaN                \n54    STR Profile: Amelogenin: X,Y; CSF1PO: 11; D5S8...          Yes   \n...                                                 ...          ...   \n1927                                                NaN                \n1928                                                NaN                \n1929                                                NaN                \n1930  HAP1 is a subclone of KBM7 which is haploid ex...                \n1931  STR Profile: Amelogenin: X; CSF1PO: 10,12; D5S...          Yes   \n\n     cell_line_provider_url  \n13             Not provided  \n24             Not provided  \n30             Not provided  \n39                      NaN  \n54             Not provided  \n...                     ...  \n1927                    NaN  \n1928                    NaN  \n1929                    NaN  \n1930                    NaN  \n1931           Not provided  \n\n[454 rows x 27 columns]",
      "text/html": "<div>\n<style scoped>\n    .dataframe tbody tr th:only-of-type {\n        vertical-align: middle;\n    }\n\n    .dataframe tbody tr th {\n        vertical-align: top;\n    }\n\n    .dataframe thead th {\n        text-align: right;\n    }\n</style>\n<table border=\"1\" class=\"dataframe\">\n  <thead>\n    <tr style=\"text-align: right;\">\n      <th></th>\n      <th>model_id</th>\n      <th>model_name</th>\n      <th>model_name_aliases</th>\n      <th>type</th>\n      <th>parent_id</th>\n      <th>origin_patient_sample_id</th>\n      <th>growth_properties</th>\n      <th>media_id</th>\n      <th>growth_media</th>\n      <th>plate_coating</th>\n      <th>...</th>\n      <th>publications</th>\n      <th>supplier</th>\n      <th>supplier_type</th>\n      <th>catalog_number</th>\n      <th>vendor_link</th>\n      <th>rrid</th>\n      <th>external_ids</th>\n      <th>comments</th>\n      <th>STR_analysis</th>\n      <th>cell_line_provider_url</th>\n    </tr>\n  </thead>\n  <tbody>\n    <tr>\n      <th>13</th>\n      <td>SIDM01387</td>\n      <td>NCI-H1339</td>\n      <td>Not provided</td>\n      <td>Cell Line</td>\n      <td>NaN</td>\n      <td>NaN</td>\n      <td>Not provided</td>\n      <td>Not provided</td>\n      <td>Not provided</td>\n      <td>Not provided</td>\n      <td>...</td>\n      <td>PMID: 19472407,PMID: 25877200,PMID: 1312696,PM...</td>\n      <td>Not provided</td>\n      <td>Not provided</td>\n      <td>Not provided</td>\n      <td>Not provided</td>\n      <td>CVCL_A472</td>\n      <td>ACH-000921,CVCL_A472,CCLE_Name:NCIH1339_LUNG</td>\n      <td>STR Profile: Amelogenin: X; CSF1PO: 12; D2S133...</td>\n      <td>Yes</td>\n      <td>Not provided</td>\n    </tr>\n    <tr>\n      <th>24</th>\n      <td>SIDM01752</td>\n      <td>L3-3</td>\n      <td>Not provided</td>\n      <td>Cell Line</td>\n      <td>SIDM01654</td>\n      <td>SIDS01608</td>\n      <td>Adherent</td>\n      <td>Not provided</td>\n      <td>Not provided</td>\n      <td>Not provided</td>\n      <td>...</td>\n      <td>PMID: 26589293,PMID: 25984343,PMID: 22460905,P...</td>\n      <td>Not provided</td>\n      <td>Not provided</td>\n      <td>Not provided</td>\n      <td>Not provided</td>\n      <td>CVCL_8147</td>\n      <td>ACH-000685,CVCL_8147,CCLE_Name:L33_PANCREAS</td>\n      <td>Derived through sequential passaging in nude m...</td>\n      <td></td>\n      <td>Not provided</td>\n    </tr>\n    <tr>\n      <th>30</th>\n      <td>SIDM00128</td>\n      <td>JHU-011</td>\n      <td>Not provided</td>\n      <td>Cell Line</td>\n      <td>NaN</td>\n      <td>NaN</td>\n      <td>Not provided</td>\n      <td>Not provided</td>\n      <td>Not provided</td>\n      <td>Not provided</td>\n      <td>...</td>\n      <td>PMID: 21868764,PMID: 35839778,PMID: 12925955,P...</td>\n      <td>Not provided</td>\n      <td>Not provided</td>\n      <td>Not provided</td>\n      <td>Not provided</td>\n      <td>CVCL_5986</td>\n      <td>COSMIC1240161,ACH-002249,CVCL_5986,CCLE_Name:J...</td>\n      <td>STR Profile: Amelogenin: X; CSF1PO: 10,12; D5S...</td>\n      <td>Yes</td>\n      <td>Not provided</td>\n    </tr>\n    <tr>\n      <th>39</th>\n      <td>SIDM01287</td>\n      <td>HCM-SANG-0290-C15</td>\n      <td>Not provided</td>\n      <td>Organoid</td>\n      <td>NaN</td>\n      <td>NaN</td>\n      <td>Not provided</td>\n      <td>Not provided</td>\n      <td>Not provided</td>\n      <td>Not provided</td>\n      <td>...</td>\n      <td>NaN</td>\n      <td>Not provided</td>\n      <td>Not provided</td>\n      <td>Not provided</td>\n      <td>Not provided</td>\n      <td>Not provided</td>\n      <td>NaN</td>\n      <td>NaN</td>\n      <td></td>\n      <td>NaN</td>\n    </tr>\n    <tr>\n      <th>54</th>\n      <td>SIDM00205</td>\n      <td>EW-1</td>\n      <td>Not provided</td>\n      <td>Cell Line</td>\n      <td>NaN</td>\n      <td>NaN</td>\n      <td>Not provided</td>\n      <td>Not provided</td>\n      <td>Not provided</td>\n      <td>Not provided</td>\n      <td>...</td>\n      <td>PMID: 6713356,PMID: 35839778,PMID: 11423975,PM...</td>\n      <td>Not provided</td>\n      <td>Not provided</td>\n      <td>Not provided</td>\n      <td>Not provided</td>\n      <td>CVCL_1208</td>\n      <td>COSMIC949163,ACH-002110,CVCL_1208,CCLE_Name:EW...</td>\n      <td>STR Profile: Amelogenin: X,Y; CSF1PO: 11; D5S8...</td>\n      <td>Yes</td>\n      <td>Not provided</td>\n    </tr>\n    <tr>\n      <th>...</th>\n      <td>...</td>\n      <td>...</td>\n      <td>...</td>\n      <td>...</td>\n      <td>...</td>\n      <td>...</td>\n      <td>...</td>\n      <td>...</td>\n      <td>...</td>\n      <td>...</td>\n      <td>...</td>\n      <td>...</td>\n      <td>...</td>\n      <td>...</td>\n      <td>...</td>\n      <td>...</td>\n      <td>...</td>\n      <td>...</td>\n      <td>...</td>\n      <td>...</td>\n      <td>...</td>\n    </tr>\n    <tr>\n      <th>1927</th>\n      <td>SIDM02153</td>\n      <td>MM485</td>\n      <td>Not provided</td>\n      <td>Cell Line</td>\n      <td>NaN</td>\n      <td>NaN</td>\n      <td>Adherent</td>\n      <td>Not provided</td>\n      <td>Not provided</td>\n      <td>Not provided</td>\n      <td>...</td>\n      <td>PMID: 3127479</td>\n      <td>ECACC</td>\n      <td>Commercial</td>\n      <td>11072803</td>\n      <td>Not provided</td>\n      <td>Not provided</td>\n      <td>COSMIC1206009,ACH-001973</td>\n      <td>NaN</td>\n      <td></td>\n      <td>NaN</td>\n    </tr>\n    <tr>\n      <th>1928</th>\n      <td>SIDM02155</td>\n      <td>NZM3</td>\n      <td>Not provided</td>\n      <td>Cell Line</td>\n      <td>NaN</td>\n      <td>NaN</td>\n      <td>Adherent</td>\n      <td>Not provided</td>\n      <td>Not provided</td>\n      <td>Not provided</td>\n      <td>...</td>\n      <td>NaN</td>\n      <td>ECACC</td>\n      <td>Commercial</td>\n      <td>17020204</td>\n      <td>Not provided</td>\n      <td>Not provided</td>\n      <td>COSMIC1660299,ACH-001982</td>\n      <td>NaN</td>\n      <td></td>\n      <td>NaN</td>\n    </tr>\n    <tr>\n      <th>1929</th>\n      <td>SIDM02157</td>\n      <td>WM3772F</td>\n      <td>Not provided</td>\n      <td>Cell Line</td>\n      <td>NaN</td>\n      <td>NaN</td>\n      <td>Adherent</td>\n      <td>Not provided</td>\n      <td>Not provided</td>\n      <td>Not provided</td>\n      <td>...</td>\n      <td>NaN</td>\n      <td>Rockland</td>\n      <td>Commercial</td>\n      <td>WM3772F-01-0001</td>\n      <td>Not provided</td>\n      <td>Not provided</td>\n      <td>ACH-002687</td>\n      <td>NaN</td>\n      <td></td>\n      <td>NaN</td>\n    </tr>\n    <tr>\n      <th>1930</th>\n      <td>SIDM02159</td>\n      <td>HAP1</td>\n      <td>Not provided</td>\n      <td>Cell Line</td>\n      <td>SIDM02121</td>\n      <td>SIDS02033</td>\n      <td>Adherent</td>\n      <td>Not provided</td>\n      <td>Not provided</td>\n      <td>Not provided</td>\n      <td>...</td>\n      <td>NaN</td>\n      <td>Horizon Discovery</td>\n      <td>Commercial</td>\n      <td>C631</td>\n      <td>Not provided</td>\n      <td>Not provided</td>\n      <td>ACH-002475</td>\n      <td>HAP1 is a subclone of KBM7 which is haploid ex...</td>\n      <td></td>\n      <td>NaN</td>\n    </tr>\n    <tr>\n      <th>1931</th>\n      <td>SIDM01339</td>\n      <td>SLR24</td>\n      <td>Not provided</td>\n      <td>Cell Line</td>\n      <td>SIDM01851</td>\n      <td>SIDS01788</td>\n      <td>Adherent</td>\n      <td>Not provided</td>\n      <td>Not provided</td>\n      <td>Not provided</td>\n      <td>...</td>\n      <td>PMID: 25984343,PMID: 19470766,PMID: 12907621,P...</td>\n      <td>Not provided</td>\n      <td>Not provided</td>\n      <td>Not provided</td>\n      <td>Not provided</td>\n      <td>CVCL_V610</td>\n      <td>ACH-000272,CVCL_V610,CCLE_Name:SLR24_KIDNEY</td>\n      <td>STR Profile: Amelogenin: X; CSF1PO: 10,12; D5S...</td>\n      <td>Yes</td>\n      <td>Not provided</td>\n    </tr>\n  </tbody>\n</table>\n<p>454 rows × 27 columns</p>\n</div>"
     },
     "execution_count": 472,
     "metadata": {},
     "output_type": "execute_result"
    }
   ],
   "source": [
    "cmp_sheet[cmp_sheet['cell_line_provider_url'].fillna('Not provided') == 'Not provided']"
   ],
   "metadata": {
    "collapsed": false,
    "ExecuteTime": {
     "end_time": "2024-04-10T10:36:36.451295Z",
     "start_time": "2024-04-10T10:36:36.336037Z"
    }
   },
   "execution_count": 472
  },
  {
   "cell_type": "code",
   "outputs": [
    {
     "data": {
      "text/plain": "array(['cellbank.brc.riken.jp', 'cellbank.snu.ac.kr', 'www.iclc.it',\n       'www.dsmz.de', 'bcrj.org.br', 'www.addexbio.com',\n       'cellbank.nibiohn.go.jp', None, 'www.atcc.org', 'www.rockland.com',\n       'www.cctcc.org', 'dtp.cancer.gov',\n       'www.phe-culturecollections.org.uk', 'cls.shop',\n       'www.cancertools.org', 'www.abcam.com', 'ximbio.com',\n       'www.merckmillipore.com', 'catalog.coriell.org', 'www.fli.de',\n       'www.ibvr.org', 'catalog.bcrc.firdi.org.tw',\n       'www.cellbankaustralia.com', 'www.cccells.org',\n       'www.cellosaurus.org', 'bioivt.com', 'www.kmcellbank.com',\n       'www.ubigene.us'], dtype=object)"
     },
     "execution_count": 776,
     "metadata": {},
     "output_type": "execute_result"
    }
   ],
   "source": [
    "cmp_sheet['vendor_link'].str.split('://', expand=True)[1].str.split('/',expand=True)[0].unique()"
   ],
   "metadata": {
    "collapsed": false,
    "ExecuteTime": {
     "end_time": "2024-04-11T09:14:21.297530Z",
     "start_time": "2024-04-11T09:14:21.102220Z"
    }
   },
   "execution_count": 776
  },
  {
   "cell_type": "code",
   "outputs": [
    {
     "data": {
      "text/plain": "       model_id   model_name model_name_aliases       type parent_id  \\\n75    SIDM00028     SCLC-22H       Not provided  Cell Line       NaN   \n140   SIDM00062        HuH-6       Not provided  Cell Line       NaN   \n178   SIDM00248        MKN74       Not provided  Cell Line       NaN   \n211   SIDM00137    NCI-H3122       Not provided  Cell Line       NaN   \n246   SIDM00227      GI-ME-N       Not provided  Cell Line       NaN   \n265   SIDM00239      OS-RC-2       Not provided  Cell Line       NaN   \n279   SIDM00287       BALL-1       Not provided  Cell Line       NaN   \n288   SIDM00289       HAL-01       Not provided  Cell Line       NaN   \n297   SIDM00329        L-540       Not provided  Cell Line       NaN   \n298   SIDM00346      LAMA-84       Not provided  Cell Line       NaN   \n340   SIDM00402       RT-112       Not provided  Cell Line       NaN   \n347   SIDM00339      LXF-289       Not provided  Cell Line       NaN   \n397   SIDM00386     MHH-ES-1       Not provided  Cell Line       NaN   \n401   SIDM00428          NB4       Not provided  Cell Line       NaN   \n415   SIDM00453  PA-TU-8988T       Not provided  Cell Line       NaN   \n508   SIDM00587       HuCCT1       Not provided  Cell Line       NaN   \n555   SIDM00619        KMH-2       Not provided  Cell Line       NaN   \n587   SIDM01070      HCC-366       Not provided  Cell Line       NaN   \n683   SIDM00820       RCC-ER       Not provided  Cell Line       NaN   \n684   SIDM00818       RCC-JF       Not provided  Cell Line       NaN   \n685   SIDM00817       RCC-JW       Not provided  Cell Line       NaN   \n708   SIDM00987      BHT-101       Not provided  Cell Line       NaN   \n716   SIDM00931       CAL-62       Not provided  Cell Line       NaN   \n729   SIDM00950        DAN-G       Not provided  Cell Line       NaN   \n738   SIDM00968          Hey       Not provided  Cell Line       NaN   \n770   SIDM00997        8305C       Not provided  Cell Line       NaN   \n774   SIDM00961     CADO-ES1       Not provided  Cell Line       NaN   \n781   SIDM00956    COLO-680N       Not provided  Cell Line       NaN   \n782   SIDM00954     COLO-824       Not provided  Cell Line       NaN   \n791   SIDM01009        KELLY       Not provided  Cell Line       NaN   \n811   SIDM00992       B-CPAP       Not provided  Cell Line       NaN   \n825   SIDM01060        IGR-1       Not provided  Cell Line       NaN   \n837   SIDM01031     KYSE-150       Not provided  Cell Line       NaN   \n839   SIDM01028     KYSE-410       Not provided  Cell Line       NaN   \n977   SIDM00029     SCLC-21H       Not provided  Cell Line       NaN   \n979   SIDM00816       RCC-MF       Not provided  Cell Line       NaN   \n981   SIDM00035        S-117       Not provided  Cell Line       NaN   \n1089  SIDM01452    SUM-159PT       Not provided  Cell Line       NaN   \n1107  SIDM01441    SUM-149PT       Not provided  Cell Line       NaN   \n1171  SIDM01472         Li-7       Not provided  Cell Line       NaN   \n1202  SIDM01623        HMY-1       Not provided  Cell Line       NaN   \n1241  SIDM00282         CW-2       Not provided  Cell Line       NaN   \n1243  SIDM00327        L-428       Not provided  Cell Line       NaN   \n1260  SIDM01421    U-343-MGa       Not provided  Cell Line       NaN   \n1336  SIDM01640        M-07e       Not provided  Cell Line       NaN   \n1340  SIDM00560         MKN7       Not provided  Cell Line       NaN   \n1357  SIDM00819      RCC-FG2       Not provided  Cell Line       NaN   \n1493  SIDM01850          RBE       Not provided  Cell Line       NaN   \n1651  SIDM00344   LCLC-97TM1       Not provided  Cell Line       NaN   \n1678  SIDM01068       HCC-78       Not provided  Cell Line       NaN   \n1688  SIDM00434       MOLP-8       Not provided  Cell Line       NaN   \n1736  SIDM00382        SF126       Not provided  Cell Line       NaN   \n1756  SIDM00345    LCLC-103H       Not provided  Cell Line       NaN   \n1788  SIDM00480       OAW-42       Not provided  Cell Line       NaN   \n\n     origin_patient_sample_id growth_properties      media_id  growth_media  \\\n75                        NaN      Not provided  Not provided  Not provided   \n140                       NaN      Not provided  Not provided  Not provided   \n178                       NaN          Adherent  Not provided  Not provided   \n211                       NaN      Not provided  Not provided  Not provided   \n246                       NaN          Adherent  Not provided  Not provided   \n265                       NaN          Adherent  Not provided  Not provided   \n279                       NaN        Suspension  Not provided  Not provided   \n288                       NaN        Suspension  Not provided  Not provided   \n297                       NaN        Suspension  Not provided  Not provided   \n298                       NaN        Suspension  Not provided  Not provided   \n340                       NaN      Not provided  Not provided  Not provided   \n347                       NaN          Adherent  Not provided  Not provided   \n397                       NaN          Adherent  Not provided  Not provided   \n401                       NaN        Suspension  Not provided  Not provided   \n415                       NaN          Adherent  Not provided  Not provided   \n508                       NaN      Not provided  Not provided  Not provided   \n555                       NaN      Not provided  Not provided  Not provided   \n587                       NaN          Adherent  Not provided  Not provided   \n683                       NaN          Adherent  Not provided  Not provided   \n684                       NaN          Adherent  Not provided  Not provided   \n685                       NaN          Adherent  Not provided  Not provided   \n708                       NaN          Adherent  Not provided  Not provided   \n716                       NaN          Adherent  Not provided  Not provided   \n729                       NaN          Adherent  Not provided  Not provided   \n738                       NaN          Adherent  Not provided  Not provided   \n770                       NaN          Adherent  Not provided  Not provided   \n774                       NaN          Adherent  Not provided  Not provided   \n781                       NaN          Adherent  Not provided  Not provided   \n782                       NaN          Adherent  Not provided  Not provided   \n791                       NaN          Adherent  Not provided  Not provided   \n811                       NaN          Adherent  Not provided  Not provided   \n825                       NaN          Adherent  Not provided  Not provided   \n837                       NaN          Adherent  Not provided  Not provided   \n839                       NaN          Adherent  Not provided  Not provided   \n977                       NaN      Not provided  Not provided  Not provided   \n979                       NaN          Adherent  Not provided  Not provided   \n981                       NaN      Not provided  Not provided  Not provided   \n1089                      NaN      Not provided  Not provided  Not provided   \n1107                      NaN      Not provided  Not provided  Not provided   \n1171                      NaN          Adherent  Not provided  Not provided   \n1202                      NaN          Adherent  Not provided  Not provided   \n1241                      NaN          Adherent  Not provided  Not provided   \n1243                      NaN        Suspension  Not provided  Not provided   \n1260                      NaN          Adherent  Not provided  Not provided   \n1336                      NaN        Suspension  Not provided  Not provided   \n1340                      NaN      Not provided  Not provided  Not provided   \n1357                      NaN          Adherent  Not provided  Not provided   \n1493                      NaN          Adherent  Not provided  Not provided   \n1651                      NaN          Adherent  Not provided  Not provided   \n1678                      NaN          Adherent  Not provided  Not provided   \n1688                      NaN        Suspension  Not provided  Not provided   \n1736                      NaN      Not provided  Not provided  Not provided   \n1756                      NaN          Adherent  Not provided  Not provided   \n1788                      NaN          Adherent  Not provided  Not provided   \n\n     plate_coating  ...                                       publications  \\\n75    Not provided  ...  PMID: 26589293,PMID: 11414198,PMID: 2438285,PM...   \n140   Not provided  ...  PMID: 32899426,PMID: 15767549,PMID: 9671767,PM...   \n178   Not provided  ...  PMID: 11107048,PMID: 22336246,PMID: 1370612,PM...   \n211   Not provided  ...  PMID: 26361996,PMID: 35839778,PMID: 24675041,P...   \n246   Not provided  ...  PMID: 27397505,PMID: 2535035,PMID: 20655465,PM...   \n265   Not provided  ...  PMID: 14534724,PMID: 26589293,PMID: 35839778,P...   \n279   Not provided  ...  PMID: 195075,PMID: 20164919,PMID: 35839778,PMI...   \n288   Not provided  ...  PMID: 20575032,PMID: 35354797,PMID: 35839778,P...   \n297   Not provided  ...  PMID: 26589293,PMID: 6303739,PMID: 25355872,PM...   \n298   Not provided  ...  PMID: 7996872,PMID: 9257809,PMID: 25984343,PMI...   \n340   Not provided  ...  PMID: 26589293,PMID: 15846775,PMID: 22460905,P...   \n347   Not provided  ...  PMID: 26589293,PMID: 25877200,PMID: 35839778,P...   \n397   Not provided  ...  PMID: 26589293,PMID: 25877200,PMID: 35839778,P...   \n401   Not provided  ...  PMID: 1995093,PMID: 26589293,PMID: 22460905,PM...   \n415   Not provided  ...  PMID: 26589293,PMID: 22460905,PMID: 27397505,P...   \n508   Not provided  ...  PMID: 21451941,PMID: 32899426,PMID: 25877200,P...   \n555   Not provided  ...  PMID: 35839778,PMID: 11686581,PMID: 30737244,P...   \n587   Not provided  ...  PMID: 19472407,PMID: 26589293,PMID: 30038707,P...   \n683   Not provided  ...  PMID: 35839778,PMID: 28489074,PMID: 27397505,P...   \n684   Not provided  ...  PMID: 35839778,PMID: 28489074,PMID: 30894373,P...   \n685   Not provided  ...  PMID: 35839778,PMID: 28489074,PMID: 27397505,P...   \n708   Not provided  ...  PMID: 35839778,PMID: 18713817,PMID: 22460905,P...   \n716   Not provided  ...  PMID: 35839778,PMID: 1369551,PMID: 18713817,PM...   \n729   Not provided  ...  PMID: 26589293,PMID: 22460905,PMID: 27397505,P...   \n738   Not provided  ...  PMID: 26589293,PMID: 25877200,PMID: 35839778,P...   \n770   Not provided  ...  PMID: 26589293,PMID: 25877200,PMID: 35839778,P...   \n774   Not provided  ...  PMID: 26589293,PMID: 22460905,PMID: 26428435,P...   \n781   Not provided  ...  PMID: 26589293,PMID: 25877200,PMID: 35839778,P...   \n782   Not provided  ...  PMID: 25877200,PMID: 35839778,PMID: 27397505,P...   \n791   Not provided  ...  PMID: 26589293,PMID: 22460905,PMID: 7139592,PM...   \n811   Not provided  ...  PMID: 26589293,PMID: 15172756,PMID: 18713817,P...   \n825   Not provided  ...  PMID: 20164919,PMID: 25877200,PMID: 25056119,P...   \n837   Not provided  ...  PMID: 22460905,PMID: 27397505,PMID: 11092977,P...   \n839   Not provided  ...  PMID: 22460905,PMID: 27397505,PMID: 11092977,P...   \n977   Not provided  ...  PMID: 11416159,PMID: 26589293,PMID: 11414198,P...   \n979   Not provided  ...  PMID: 35839778,PMID: 28489074,PMID: 27397505,P...   \n981   Not provided  ...  PMID: 26589293,PMID: 25877200,PMID: 22460905,P...   \n1089  Not provided  ...  PMID: 10604729,PMID: 26589293,PMID: 35042871,P...   \n1107  Not provided  ...  PMID: 10604729,PMID: 26589293,PMID: 35042871,P...   \n1171  Not provided  ...  PMID: 25877200,PMID: 12029633,PMID: 22460905,P...   \n1202  Not provided  ...  PMID: 26589293,PMID: 6239887,PMID: 25877200,PM...   \n1241  Not provided  ...  PMID: 20606684,PMID: 25877200,PMID: 26589293,P...   \n1243  Not provided  ...  PMID: 9787181,PMID: 26589293,PMID: 6303739,PMI...   \n1260  Not provided  ...  PMID: 10709103,PMID: 30894373,PMID: 3497714,PM...   \n1336  Not provided  ...  PMID: 2273055,PMID: 11414198,PMID: 22460905,PM...   \n1340  Not provided  ...  PMID: 11107048,PMID: 22336246,PMID: 26589293,P...   \n1357  Not provided  ...  PMID: 35839778,PMID: 28489074,PMID: 27397505,P...   \n1493  Not provided  ...  PMID: 9358283,PMID: 31077409,PMID: 15767549,PM...   \n1651  Not provided  ...  PMID: 26361996,PMID: 26589293,PMID: 25877200,P...   \n1678  Not provided  ...  PMID: 19472407,PMID: 26589293,PMID: 30038707,P...   \n1688  Not provided  ...  PMID: 26589293,PMID: 25877200,PMID: 35839778,P...   \n1736  Not provided  ...  PMID: 26589293,PMID: 35839778,PMID: 25984343,P...   \n1756  Not provided  ...  PMID: 26589293,PMID: 25877200,PMID: 35839778,P...   \n1788  Not provided  ...  PMID: 26589293,PMID: 25230021,PMID: 22460905,P...   \n\n          supplier supplier_type catalog_number              vendor_link  \\\n75            DSMZ    Commercial        ACC-373  https://cls.shop/300445   \n140          RIKEN    Commercial        RCB1367  https://cls.shop/305092   \n178          RIKEN    Commercial       JCRB0255  https://cls.shop/300490   \n211            NCI    Commercial      NCI-H3122  https://cls.shop/300484   \n246           ICLC    Commercial       HTL98011  https://cls.shop/300179   \n265          RIKEN    Commercial        RCB0735  https://cls.shop/305086   \n279          RIKEN    Commercial        RCB0256  https://cls.shop/305084   \n288          RIKEN    Commercial        RCB0540  https://cls.shop/305140   \n297           DSMZ    Commercial         ACC-72  https://cls.shop/300201   \n298           DSMZ    Commercial        ACC-168  https://cls.shop/300261   \n340           DSMZ    Commercial        ACC-418  https://cls.shop/300324   \n347           DSMZ    Commercial        ACC-265  https://cls.shop/300269   \n397           DSMZ    Commercial        ACC-167  https://cls.shop/300136   \n401           DSMZ    Commercial       ACC--207  https://cls.shop/300299   \n415           DSMZ    Commercial        ACC-162  https://cls.shop/305133   \n508           JCRB    Commercial       JCRB0425  https://cls.shop/300469   \n555           JCRB    Commercial       JCRB1066  https://cls.shop/305142   \n587           DSMZ    Commercial        ACC-492  https://cls.shop/302155   \n683            CLS    Commercial         RCC-ER  https://cls.shop/300238   \n684            CLS    Commercial         RCC-JF  https://cls.shop/300274   \n685            CLS    Commercial         RCC-JW  https://cls.shop/300244   \n708           DSMZ    Commercial        ACC-279  https://cls.shop/305112   \n716           DSMZ    Commercial        ACC-448  https://cls.shop/305114   \n729           DSMZ    Commercial        ACC-249  https://cls.shop/300162   \n738   Not provided  Not provided   Not provided  https://cls.shop/305017   \n770           JCRB    Commercial       JCRB0824  https://cls.shop/305101   \n774           DSMZ    Commercial        ACC-255  https://cls.shop/300127   \n781           DSMZ    Commercial        ACC-182  https://cls.shop/300464   \n782           DSMZ    Commercial        ACC-200  https://cls.shop/300463   \n791           DSMZ    Commercial        ACC-355  https://cls.shop/300317   \n811           DSMZ    Commercial        ACC-273  https://cls.shop/305081   \n825           DSMZ    Commercial        ACC-236  https://cls.shop/300219   \n837           DSMZ    Commercial        ACC-375  https://cls.shop/305087   \n839           DSMZ    Commercial        ACC-381  https://cls.shop/305122   \n977           DSMZ    Commercial        ACC-372  https://cls.shop/300225   \n979            CLS    Commercial         RCC-MF  https://cls.shop/300245   \n981           DSMZ    Commercial        ACC-266  https://cls.shop/300329   \n1089        BioIVT    Commercial      SUM-159PT  https://cls.shop/305116   \n1107        BioIVT    Commercial      SUM-149PT  https://cls.shop/300609   \n1171         RIKEN    Commercial       RCB1941   https://cls.shop/305102   \n1202          JCRB    Commercial       JCRB1018  https://cls.shop/305145   \n1241         RIKEN    Commercial        RCB0778  https://cls.shop/305134   \n1243          DSMZ    Commercial        ACC-197  https://cls.shop/300200   \n1260  Not provided  Not provided   Not provided  https://cls.shop/300365   \n1336  Not provided  Not provided   Not provided  https://cls.shop/305105   \n1340          JCRB    Commercial       JCRB1025  https://cls.shop/305104   \n1357           CLS    Commercial        RCC-FG2  https://cls.shop/300249   \n1493         RIKEN    Commercial        RCB1292  https://cls.shop/305019   \n1651          DSMZ    Commercial        ACC-388  https://cls.shop/300409   \n1678          DSMZ    Commercial        ACC-563  https://cls.shop/302156   \n1688          DSMZ    Commercial        ACC-569  https://cls.shop/304082   \n1736          JCRB    Commercial       IFO50286  https://cls.shop/300608   \n1756          DSMZ    Commercial        ACC-384  https://cls.shop/300169   \n1788         ECACC    Commercial       85073102  https://cls.shop/300304   \n\n           rrid                                       external_ids  \\\n75    CVCL_2186        ACH-001386,CVCL_2186,CCLE_Name:SCLC22H_LUNG   \n140   CVCL_4381          ACH-000671,CVCL_4381,CCLE_Name:HUH6_LIVER   \n178   CVCL_2791  COSMIC908140,ACH-000758,CVCL_2791,CCLE_Name:MK...   \n211   CVCL_5160  COSMIC1240190,ACH-000337,CVCL_5160,CCLE_Name:N...   \n246   CVCL_1232  COSMIC906872,ACH-001344,CVCL_1232,CCLE_Name:GI...   \n265   CVCL_1626  COSMIC909250,ACH-000159,CVCL_1626,CCLE_Name:OS...   \n279   CVCL_1075  COSMIC910705,ACH-002211,CVCL_1075,CCLE_Name:BA...   \n288   CVCL_1242  COSMIC949153,ACH-002241,CVCL_1242,CCLE_Name:HA...   \n297   CVCL_1362  COSMIC907323,ACH-000806,CVCL_1362,CCLE_Name:L5...   \n298   CVCL_0388  COSMIC907783,ACH-000301,CVCL_0388,CCLE_Name:LA...   \n340   CVCL_1670  COSMIC909704,ACH-000473,CVCL_1670,CCLE_Name:RT...   \n347   CVCL_1394  COSMIC753592,ACH-000787,CVCL_1394,CCLE_Name:LX...   \n397   CVCL_1411  COSMIC908134,ACH-000391,CVCL_1411,CCLE_Name:MH...   \n401   CVCL_0005  COSMIC1323913,ACH-000294,CVCL_0005,CCLE_Name:N...   \n415   CVCL_1847  COSMIC1240201,ACH-000023,CVCL_1847,CCLE_Name:P...   \n508   CVCL_0324  COSMIC907069,ACH-000976,CVCL_0324,CCLE_Name:HU...   \n555   CVCL_S641                            COSMIC1298167,CVCL_S641   \n587   CVCL_2059  COSMIC1240144,ACH-000840,CVCL_2059,CCLE_Name:H...   \n683   CVCL_5870  COSMIC1524417,ACH-002188,CVCL_5870,CCLE_Name:R...   \n684   CVCL_5879  COSMIC1524415,ACH-002190,CVCL_5879,CCLE_Name:R...   \n685   CVCL_5880  COSMIC1524416,ACH-002191,CVCL_5880,CCLE_Name:R...   \n708   CVCL_1085  COSMIC906696,ACH-000191,CVCL_1085,CCLE_Name:BH...   \n716   CVCL_1112  COSMIC906828,ACH-000174,CVCL_1112,CCLE_Name:CA...   \n729   CVCL_0243  COSMIC1290797,ACH-000243,CVCL_0243,CCLE_Name:D...   \n738   CVCL_0297  COSMIC1479988,ACH-002140,CVCL_0297,CCLE_Name:H...   \n770   CVCL_1053  COSMIC906795,ACH-001306,CVCL_1053,CCLE_Name:83...   \n774   CVCL_1103  COSMIC753539,ACH-000210,CVCL_1103,CCLE_Name:CA...   \n781   CVCL_1131  COSMIC906817,ACH-000717,CVCL_1131,CCLE_Name:CO...   \n782   CVCL_1136  COSMIC906812,ACH-001820,CVCL_1136,CCLE_Name:CO...   \n791   CVCL_2092  COSMIC753618,ACH-000259,CVCL_2092,CCLE_Name:KE...   \n811   CVCL_0153  COSMIC924104,ACH-000456,CVCL_0153,CCLE_Name:BC...   \n825   CVCL_1303  COSMIC907169,ACH-000882,CVCL_1303,CCLE_Name:IG...   \n837   CVCL_1348  COSMIC907317,ACH-000855,CVCL_1348,CCLE_Name:KY...   \n839   CVCL_1352  COSMIC753574,ACH-000809,CVCL_1352,CCLE_Name:KY...   \n977   CVCL_0024  COSMIC753611,ACH-000659,CVCL_0024,CCLE_Name:SC...   \n979   CVCL_5884  COSMIC1524419,ACH-002192,CVCL_5884,CCLE_Name:R...   \n981   CVCL_1674  COSMIC910946,ACH-000037,CVCL_1674,CCLE_Name:S1...   \n1089  CVCL_5423     ACH-001391,CVCL_5423,CCLE_Name:SUM159PT_BREAST   \n1107  CVCL_3422     ACH-001390,CVCL_3422,CCLE_Name:SUM149PT_BREAST   \n1171  CVCL_3840           ACH-000471,CVCL_3840,CCLE_Name:LI7_LIVER   \n1202  CVCL_2950           ACH-001522,CVCL_2950,CCLE_Name:HMY1_SKIN   \n1241  CVCL_1151  COSMIC910554,ACH-000998,CVCL_1151,CCLE_Name:CW...   \n1243  CVCL_1361  COSMIC907322,ACH-000754,CVCL_1361,CCLE_Name:L4...   \n1260  CVCL_4773  ACH-000036,CVCL_4773,CCLE_Name:U343_CENTRAL_NE...   \n1336  CVCL_2106  ACH-000602,CVCL_2106,CCLE_Name:M07E_HAEMATOPOI...   \n1340  CVCL_1417  COSMIC924250,ACH-000678,CVCL_1417,CCLE_Name:MK...   \n1357  CVCL_5873  COSMIC1524414,ACH-002189,CVCL_5873,CCLE_Name:R...   \n1493  CVCL_4896   ACH-001856,CVCL_4896,CCLE_Name:RBE_BILIARY_TRACT   \n1651  CVCL_1376  COSMIC946361,ACH-000596,CVCL_1376,CCLE_Name:LC...   \n1678  CVCL_2061  COSMIC1290908,ACH-000562,CVCL_2061,CCLE_Name:H...   \n1688  CVCL_2124  COSMIC1330950,ACH-000745,CVCL_2124,CCLE_Name:M...   \n1736  CVCL_1688  COSMIC909712,ACH-000609,CVCL_1688,CCLE_Name:SF...   \n1756  CVCL_1375  COSMIC753586,ACH-000627,CVCL_1375,CCLE_Name:LC...   \n1788  CVCL_1615  COSMIC910548,ACH-000704,CVCL_1615,CCLE_Name:OA...   \n\n                                               comments STR_analysis  \\\n75    STR Profile: Amelogenin: X,Y; CSF1PO: 10; D2S1...          Yes   \n140   STR Profile: Amelogenin: X,Y; CSF1PO: 10,12; D...          Yes   \n178   STR Profile: Amelogenin: X; CSF1PO: 12; D2S133...          Yes   \n211   STR Profile: Amelogenin: X; CSF1PO: 11,12; D5S...          Yes   \n246   STR Profile: Amelogenin: X; CSF1PO: 11,12; D2S...          Yes   \n265   STR Profile: Amelogenin: X,Y; CSF1PO: 12,13; D...          Yes   \n279   STR Profile: Amelogenin: X (JCRB; TKG)  X,Y (C...          Yes   \n288   STR Profile: Amelogenin: X; CSF1PO: 11,12; D2S...          Yes   \n297   STR Profile: Amelogenin: X; CSF1PO: 11,13; D2S...          Yes   \n298   STR Profile: Amelogenin: X; CSF1PO: 8,11,12 (D...          Yes   \n340   STR Profile: Amelogenin: X; CSF1PO: 10 (PubMed...          Yes   \n347   STR Profile: Amelogenin: X,Y; CSF1PO: 12,13; D...          Yes   \n397   STR Profile: Amelogenin: X; CSF1PO: 11; D2S133...          Yes   \n401   STR Profile: Amelogenin: X; CSF1PO: 11,12; D2S...          Yes   \n415   STR Profile: Amelogenin: X; CSF1PO: 11,13; D2S...          Yes   \n508   STR Profile: Amelogenin: X,Y; CSF1PO: 11,12; D...          Yes   \n555   STR Profile: Amelogenin: X,Y; CSF1PO: 10,11; D...          Yes   \n587   STR Profile: Amelogenin: X; CSF1PO: 10,12; D2S...          Yes   \n683   STR Profile: Amelogenin: X,Y; CSF1PO: 10,11; D...          Yes   \n684   STR Profile: Amelogenin: X; CSF1PO: 10,13; D3S...          Yes   \n685   STR Profile: Amelogenin: X,Y; CSF1PO: 10,11; D...          Yes   \n708   STR Profile: Amelogenin: X; CSF1PO: 12 (DSMZ) ...          Yes   \n716   STR Profile: Amelogenin: X; CSF1PO: 9,12; D2S1...          Yes   \n729   STR Profile: Amelogenin: X; CSF1PO: 13; D1S165...          Yes   \n738   STR Profile: Amelogenin: X; CSF1PO: 10,11; D2S...          Yes   \n770   STR Profile: Amelogenin: X; CSF1PO: 9,12; D2S1...          Yes   \n774   STR Profile: Amelogenin: X; CSF1PO: 11,12; D2S...          Yes   \n781   STR Profile: Amelogenin: X; CSF1PO: 11,12; D2S...          Yes   \n782   STR Profile: Amelogenin: X; CSF1PO: 10,11,12 (...          Yes   \n791   STR Profile: Amelogenin: X; CSF1PO: 12; D2S133...          Yes   \n811   STR Profile: Amelogenin: X; CSF1PO: 13; D2S133...          Yes   \n825   STR Profile: Amelogenin: X,Y; CSF1PO: 10; D2S1...          Yes   \n837   STR Profile: Amelogenin: X; CSF1PO: 12,13; D2S...          Yes   \n839   STR Profile: Amelogenin: X; CSF1PO: 12; D2S133...          Yes   \n977   STR Profile: Amelogenin: X,Y; CSF1PO: 10; D2S1...          Yes   \n979   STR Profile: Amelogenin: X,Y; CSF1PO: 10; D3S1...          Yes   \n981   STR Profile: Amelogenin: X; CSF1PO: 13; D2S133...          Yes   \n1089  STR Profile: Amelogenin: X; CSF1PO: 10,11 (Dep...          Yes   \n1107  STR Profile: Amelogenin: X; CSF1PO: 12; D2S133...          Yes   \n1171  STR Profile: Amelogenin: X; CSF1PO: 12; D2S133...          Yes   \n1202  STR Profile: Amelogenin: X,Y; CSF1PO: 12; D3S1...          Yes   \n1241  STR Profile: Amelogenin: X; CSF1PO: 10,11,14 (...          Yes   \n1243  STR Profile: Amelogenin: X; CSF1PO: 10,13; D2S...          Yes   \n1260  STR Profile: Amelogenin: X,Y; CSF1PO: 10,12; D...          Yes   \n1336  STR Profile: Amelogenin: X; CSF1PO: 9,10; D2S1...          Yes   \n1340  STR Profile: Amelogenin: X; CSF1PO: 10,13; D3S...          Yes   \n1357  STR Profile: Amelogenin: X; CSF1PO: 11; D3S135...          Yes   \n1493  STR Profile: Amelogenin: X; CSF1PO: 12; D2S133...          Yes   \n1651  STR Profile: Amelogenin: X; CSF1PO: 10,11; D2S...          Yes   \n1678  STR Profile: Amelogenin: X,Y; CSF1PO: 11,12; D...          Yes   \n1688  STR Profile: Amelogenin: X; CSF1PO: 12; D2S133...          Yes   \n1736  STR Profile: Amelogenin: X; CSF1PO: 12; D2S133...          Yes   \n1756  STR Profile: Amelogenin: X (CLS)  X,Y (Cosmic-...          Yes   \n1788  STR Profile: Amelogenin: X; CSF1PO: 11; D1S165...          Yes   \n\n       cell_line_provider_url  \n75    https://cls.shop/300445  \n140   https://cls.shop/305092  \n178   https://cls.shop/300490  \n211   https://cls.shop/300484  \n246   https://cls.shop/300179  \n265   https://cls.shop/305086  \n279   https://cls.shop/305084  \n288   https://cls.shop/305140  \n297   https://cls.shop/300201  \n298   https://cls.shop/300261  \n340   https://cls.shop/300324  \n347   https://cls.shop/300269  \n397   https://cls.shop/300136  \n401   https://cls.shop/300299  \n415   https://cls.shop/305133  \n508   https://cls.shop/300469  \n555   https://cls.shop/305142  \n587   https://cls.shop/302155  \n683   https://cls.shop/300238  \n684   https://cls.shop/300274  \n685   https://cls.shop/300244  \n708   https://cls.shop/305112  \n716   https://cls.shop/305114  \n729   https://cls.shop/300162  \n738   https://cls.shop/305017  \n770   https://cls.shop/305101  \n774   https://cls.shop/300127  \n781   https://cls.shop/300464  \n782   https://cls.shop/300463  \n791   https://cls.shop/300317  \n811   https://cls.shop/305081  \n825   https://cls.shop/300219  \n837   https://cls.shop/305087  \n839   https://cls.shop/305122  \n977   https://cls.shop/300225  \n979   https://cls.shop/300245  \n981   https://cls.shop/300329  \n1089  https://cls.shop/305116  \n1107  https://cls.shop/300609  \n1171  https://cls.shop/305102  \n1202  https://cls.shop/305145  \n1241  https://cls.shop/305134  \n1243  https://cls.shop/300200  \n1260  https://cls.shop/300365  \n1336  https://cls.shop/305105  \n1340  https://cls.shop/305104  \n1357  https://cls.shop/300249  \n1493  https://cls.shop/305019  \n1651  https://cls.shop/300409  \n1678  https://cls.shop/302156  \n1688  https://cls.shop/304082  \n1736  https://cls.shop/300608  \n1756  https://cls.shop/300169  \n1788  https://cls.shop/300304  \n\n[54 rows x 27 columns]",
      "text/html": "<div>\n<style scoped>\n    .dataframe tbody tr th:only-of-type {\n        vertical-align: middle;\n    }\n\n    .dataframe tbody tr th {\n        vertical-align: top;\n    }\n\n    .dataframe thead th {\n        text-align: right;\n    }\n</style>\n<table border=\"1\" class=\"dataframe\">\n  <thead>\n    <tr style=\"text-align: right;\">\n      <th></th>\n      <th>model_id</th>\n      <th>model_name</th>\n      <th>model_name_aliases</th>\n      <th>type</th>\n      <th>parent_id</th>\n      <th>origin_patient_sample_id</th>\n      <th>growth_properties</th>\n      <th>media_id</th>\n      <th>growth_media</th>\n      <th>plate_coating</th>\n      <th>...</th>\n      <th>publications</th>\n      <th>supplier</th>\n      <th>supplier_type</th>\n      <th>catalog_number</th>\n      <th>vendor_link</th>\n      <th>rrid</th>\n      <th>external_ids</th>\n      <th>comments</th>\n      <th>STR_analysis</th>\n      <th>cell_line_provider_url</th>\n    </tr>\n  </thead>\n  <tbody>\n    <tr>\n      <th>75</th>\n      <td>SIDM00028</td>\n      <td>SCLC-22H</td>\n      <td>Not provided</td>\n      <td>Cell Line</td>\n      <td>NaN</td>\n      <td>NaN</td>\n      <td>Not provided</td>\n      <td>Not provided</td>\n      <td>Not provided</td>\n      <td>Not provided</td>\n      <td>...</td>\n      <td>PMID: 26589293,PMID: 11414198,PMID: 2438285,PM...</td>\n      <td>DSMZ</td>\n      <td>Commercial</td>\n      <td>ACC-373</td>\n      <td>https://cls.shop/300445</td>\n      <td>CVCL_2186</td>\n      <td>ACH-001386,CVCL_2186,CCLE_Name:SCLC22H_LUNG</td>\n      <td>STR Profile: Amelogenin: X,Y; CSF1PO: 10; D2S1...</td>\n      <td>Yes</td>\n      <td>https://cls.shop/300445</td>\n    </tr>\n    <tr>\n      <th>140</th>\n      <td>SIDM00062</td>\n      <td>HuH-6</td>\n      <td>Not provided</td>\n      <td>Cell Line</td>\n      <td>NaN</td>\n      <td>NaN</td>\n      <td>Not provided</td>\n      <td>Not provided</td>\n      <td>Not provided</td>\n      <td>Not provided</td>\n      <td>...</td>\n      <td>PMID: 32899426,PMID: 15767549,PMID: 9671767,PM...</td>\n      <td>RIKEN</td>\n      <td>Commercial</td>\n      <td>RCB1367</td>\n      <td>https://cls.shop/305092</td>\n      <td>CVCL_4381</td>\n      <td>ACH-000671,CVCL_4381,CCLE_Name:HUH6_LIVER</td>\n      <td>STR Profile: Amelogenin: X,Y; CSF1PO: 10,12; D...</td>\n      <td>Yes</td>\n      <td>https://cls.shop/305092</td>\n    </tr>\n    <tr>\n      <th>178</th>\n      <td>SIDM00248</td>\n      <td>MKN74</td>\n      <td>Not provided</td>\n      <td>Cell Line</td>\n      <td>NaN</td>\n      <td>NaN</td>\n      <td>Adherent</td>\n      <td>Not provided</td>\n      <td>Not provided</td>\n      <td>Not provided</td>\n      <td>...</td>\n      <td>PMID: 11107048,PMID: 22336246,PMID: 1370612,PM...</td>\n      <td>RIKEN</td>\n      <td>Commercial</td>\n      <td>JCRB0255</td>\n      <td>https://cls.shop/300490</td>\n      <td>CVCL_2791</td>\n      <td>COSMIC908140,ACH-000758,CVCL_2791,CCLE_Name:MK...</td>\n      <td>STR Profile: Amelogenin: X; CSF1PO: 12; D2S133...</td>\n      <td>Yes</td>\n      <td>https://cls.shop/300490</td>\n    </tr>\n    <tr>\n      <th>211</th>\n      <td>SIDM00137</td>\n      <td>NCI-H3122</td>\n      <td>Not provided</td>\n      <td>Cell Line</td>\n      <td>NaN</td>\n      <td>NaN</td>\n      <td>Not provided</td>\n      <td>Not provided</td>\n      <td>Not provided</td>\n      <td>Not provided</td>\n      <td>...</td>\n      <td>PMID: 26361996,PMID: 35839778,PMID: 24675041,P...</td>\n      <td>NCI</td>\n      <td>Commercial</td>\n      <td>NCI-H3122</td>\n      <td>https://cls.shop/300484</td>\n      <td>CVCL_5160</td>\n      <td>COSMIC1240190,ACH-000337,CVCL_5160,CCLE_Name:N...</td>\n      <td>STR Profile: Amelogenin: X; CSF1PO: 11,12; D5S...</td>\n      <td>Yes</td>\n      <td>https://cls.shop/300484</td>\n    </tr>\n    <tr>\n      <th>246</th>\n      <td>SIDM00227</td>\n      <td>GI-ME-N</td>\n      <td>Not provided</td>\n      <td>Cell Line</td>\n      <td>NaN</td>\n      <td>NaN</td>\n      <td>Adherent</td>\n      <td>Not provided</td>\n      <td>Not provided</td>\n      <td>Not provided</td>\n      <td>...</td>\n      <td>PMID: 27397505,PMID: 2535035,PMID: 20655465,PM...</td>\n      <td>ICLC</td>\n      <td>Commercial</td>\n      <td>HTL98011</td>\n      <td>https://cls.shop/300179</td>\n      <td>CVCL_1232</td>\n      <td>COSMIC906872,ACH-001344,CVCL_1232,CCLE_Name:GI...</td>\n      <td>STR Profile: Amelogenin: X; CSF1PO: 11,12; D2S...</td>\n      <td>Yes</td>\n      <td>https://cls.shop/300179</td>\n    </tr>\n    <tr>\n      <th>265</th>\n      <td>SIDM00239</td>\n      <td>OS-RC-2</td>\n      <td>Not provided</td>\n      <td>Cell Line</td>\n      <td>NaN</td>\n      <td>NaN</td>\n      <td>Adherent</td>\n      <td>Not provided</td>\n      <td>Not provided</td>\n      <td>Not provided</td>\n      <td>...</td>\n      <td>PMID: 14534724,PMID: 26589293,PMID: 35839778,P...</td>\n      <td>RIKEN</td>\n      <td>Commercial</td>\n      <td>RCB0735</td>\n      <td>https://cls.shop/305086</td>\n      <td>CVCL_1626</td>\n      <td>COSMIC909250,ACH-000159,CVCL_1626,CCLE_Name:OS...</td>\n      <td>STR Profile: Amelogenin: X,Y; CSF1PO: 12,13; D...</td>\n      <td>Yes</td>\n      <td>https://cls.shop/305086</td>\n    </tr>\n    <tr>\n      <th>279</th>\n      <td>SIDM00287</td>\n      <td>BALL-1</td>\n      <td>Not provided</td>\n      <td>Cell Line</td>\n      <td>NaN</td>\n      <td>NaN</td>\n      <td>Suspension</td>\n      <td>Not provided</td>\n      <td>Not provided</td>\n      <td>Not provided</td>\n      <td>...</td>\n      <td>PMID: 195075,PMID: 20164919,PMID: 35839778,PMI...</td>\n      <td>RIKEN</td>\n      <td>Commercial</td>\n      <td>RCB0256</td>\n      <td>https://cls.shop/305084</td>\n      <td>CVCL_1075</td>\n      <td>COSMIC910705,ACH-002211,CVCL_1075,CCLE_Name:BA...</td>\n      <td>STR Profile: Amelogenin: X (JCRB; TKG)  X,Y (C...</td>\n      <td>Yes</td>\n      <td>https://cls.shop/305084</td>\n    </tr>\n    <tr>\n      <th>288</th>\n      <td>SIDM00289</td>\n      <td>HAL-01</td>\n      <td>Not provided</td>\n      <td>Cell Line</td>\n      <td>NaN</td>\n      <td>NaN</td>\n      <td>Suspension</td>\n      <td>Not provided</td>\n      <td>Not provided</td>\n      <td>Not provided</td>\n      <td>...</td>\n      <td>PMID: 20575032,PMID: 35354797,PMID: 35839778,P...</td>\n      <td>RIKEN</td>\n      <td>Commercial</td>\n      <td>RCB0540</td>\n      <td>https://cls.shop/305140</td>\n      <td>CVCL_1242</td>\n      <td>COSMIC949153,ACH-002241,CVCL_1242,CCLE_Name:HA...</td>\n      <td>STR Profile: Amelogenin: X; CSF1PO: 11,12; D2S...</td>\n      <td>Yes</td>\n      <td>https://cls.shop/305140</td>\n    </tr>\n    <tr>\n      <th>297</th>\n      <td>SIDM00329</td>\n      <td>L-540</td>\n      <td>Not provided</td>\n      <td>Cell Line</td>\n      <td>NaN</td>\n      <td>NaN</td>\n      <td>Suspension</td>\n      <td>Not provided</td>\n      <td>Not provided</td>\n      <td>Not provided</td>\n      <td>...</td>\n      <td>PMID: 26589293,PMID: 6303739,PMID: 25355872,PM...</td>\n      <td>DSMZ</td>\n      <td>Commercial</td>\n      <td>ACC-72</td>\n      <td>https://cls.shop/300201</td>\n      <td>CVCL_1362</td>\n      <td>COSMIC907323,ACH-000806,CVCL_1362,CCLE_Name:L5...</td>\n      <td>STR Profile: Amelogenin: X; CSF1PO: 11,13; D2S...</td>\n      <td>Yes</td>\n      <td>https://cls.shop/300201</td>\n    </tr>\n    <tr>\n      <th>298</th>\n      <td>SIDM00346</td>\n      <td>LAMA-84</td>\n      <td>Not provided</td>\n      <td>Cell Line</td>\n      <td>NaN</td>\n      <td>NaN</td>\n      <td>Suspension</td>\n      <td>Not provided</td>\n      <td>Not provided</td>\n      <td>Not provided</td>\n      <td>...</td>\n      <td>PMID: 7996872,PMID: 9257809,PMID: 25984343,PMI...</td>\n      <td>DSMZ</td>\n      <td>Commercial</td>\n      <td>ACC-168</td>\n      <td>https://cls.shop/300261</td>\n      <td>CVCL_0388</td>\n      <td>COSMIC907783,ACH-000301,CVCL_0388,CCLE_Name:LA...</td>\n      <td>STR Profile: Amelogenin: X; CSF1PO: 8,11,12 (D...</td>\n      <td>Yes</td>\n      <td>https://cls.shop/300261</td>\n    </tr>\n    <tr>\n      <th>340</th>\n      <td>SIDM00402</td>\n      <td>RT-112</td>\n      <td>Not provided</td>\n      <td>Cell Line</td>\n      <td>NaN</td>\n      <td>NaN</td>\n      <td>Not provided</td>\n      <td>Not provided</td>\n      <td>Not provided</td>\n      <td>Not provided</td>\n      <td>...</td>\n      <td>PMID: 26589293,PMID: 15846775,PMID: 22460905,P...</td>\n      <td>DSMZ</td>\n      <td>Commercial</td>\n      <td>ACC-418</td>\n      <td>https://cls.shop/300324</td>\n      <td>CVCL_1670</td>\n      <td>COSMIC909704,ACH-000473,CVCL_1670,CCLE_Name:RT...</td>\n      <td>STR Profile: Amelogenin: X; CSF1PO: 10 (PubMed...</td>\n      <td>Yes</td>\n      <td>https://cls.shop/300324</td>\n    </tr>\n    <tr>\n      <th>347</th>\n      <td>SIDM00339</td>\n      <td>LXF-289</td>\n      <td>Not provided</td>\n      <td>Cell Line</td>\n      <td>NaN</td>\n      <td>NaN</td>\n      <td>Adherent</td>\n      <td>Not provided</td>\n      <td>Not provided</td>\n      <td>Not provided</td>\n      <td>...</td>\n      <td>PMID: 26589293,PMID: 25877200,PMID: 35839778,P...</td>\n      <td>DSMZ</td>\n      <td>Commercial</td>\n      <td>ACC-265</td>\n      <td>https://cls.shop/300269</td>\n      <td>CVCL_1394</td>\n      <td>COSMIC753592,ACH-000787,CVCL_1394,CCLE_Name:LX...</td>\n      <td>STR Profile: Amelogenin: X,Y; CSF1PO: 12,13; D...</td>\n      <td>Yes</td>\n      <td>https://cls.shop/300269</td>\n    </tr>\n    <tr>\n      <th>397</th>\n      <td>SIDM00386</td>\n      <td>MHH-ES-1</td>\n      <td>Not provided</td>\n      <td>Cell Line</td>\n      <td>NaN</td>\n      <td>NaN</td>\n      <td>Adherent</td>\n      <td>Not provided</td>\n      <td>Not provided</td>\n      <td>Not provided</td>\n      <td>...</td>\n      <td>PMID: 26589293,PMID: 25877200,PMID: 35839778,P...</td>\n      <td>DSMZ</td>\n      <td>Commercial</td>\n      <td>ACC-167</td>\n      <td>https://cls.shop/300136</td>\n      <td>CVCL_1411</td>\n      <td>COSMIC908134,ACH-000391,CVCL_1411,CCLE_Name:MH...</td>\n      <td>STR Profile: Amelogenin: X; CSF1PO: 11; D2S133...</td>\n      <td>Yes</td>\n      <td>https://cls.shop/300136</td>\n    </tr>\n    <tr>\n      <th>401</th>\n      <td>SIDM00428</td>\n      <td>NB4</td>\n      <td>Not provided</td>\n      <td>Cell Line</td>\n      <td>NaN</td>\n      <td>NaN</td>\n      <td>Suspension</td>\n      <td>Not provided</td>\n      <td>Not provided</td>\n      <td>Not provided</td>\n      <td>...</td>\n      <td>PMID: 1995093,PMID: 26589293,PMID: 22460905,PM...</td>\n      <td>DSMZ</td>\n      <td>Commercial</td>\n      <td>ACC--207</td>\n      <td>https://cls.shop/300299</td>\n      <td>CVCL_0005</td>\n      <td>COSMIC1323913,ACH-000294,CVCL_0005,CCLE_Name:N...</td>\n      <td>STR Profile: Amelogenin: X; CSF1PO: 11,12; D2S...</td>\n      <td>Yes</td>\n      <td>https://cls.shop/300299</td>\n    </tr>\n    <tr>\n      <th>415</th>\n      <td>SIDM00453</td>\n      <td>PA-TU-8988T</td>\n      <td>Not provided</td>\n      <td>Cell Line</td>\n      <td>NaN</td>\n      <td>NaN</td>\n      <td>Adherent</td>\n      <td>Not provided</td>\n      <td>Not provided</td>\n      <td>Not provided</td>\n      <td>...</td>\n      <td>PMID: 26589293,PMID: 22460905,PMID: 27397505,P...</td>\n      <td>DSMZ</td>\n      <td>Commercial</td>\n      <td>ACC-162</td>\n      <td>https://cls.shop/305133</td>\n      <td>CVCL_1847</td>\n      <td>COSMIC1240201,ACH-000023,CVCL_1847,CCLE_Name:P...</td>\n      <td>STR Profile: Amelogenin: X; CSF1PO: 11,13; D2S...</td>\n      <td>Yes</td>\n      <td>https://cls.shop/305133</td>\n    </tr>\n    <tr>\n      <th>508</th>\n      <td>SIDM00587</td>\n      <td>HuCCT1</td>\n      <td>Not provided</td>\n      <td>Cell Line</td>\n      <td>NaN</td>\n      <td>NaN</td>\n      <td>Not provided</td>\n      <td>Not provided</td>\n      <td>Not provided</td>\n      <td>Not provided</td>\n      <td>...</td>\n      <td>PMID: 21451941,PMID: 32899426,PMID: 25877200,P...</td>\n      <td>JCRB</td>\n      <td>Commercial</td>\n      <td>JCRB0425</td>\n      <td>https://cls.shop/300469</td>\n      <td>CVCL_0324</td>\n      <td>COSMIC907069,ACH-000976,CVCL_0324,CCLE_Name:HU...</td>\n      <td>STR Profile: Amelogenin: X,Y; CSF1PO: 11,12; D...</td>\n      <td>Yes</td>\n      <td>https://cls.shop/300469</td>\n    </tr>\n    <tr>\n      <th>555</th>\n      <td>SIDM00619</td>\n      <td>KMH-2</td>\n      <td>Not provided</td>\n      <td>Cell Line</td>\n      <td>NaN</td>\n      <td>NaN</td>\n      <td>Not provided</td>\n      <td>Not provided</td>\n      <td>Not provided</td>\n      <td>Not provided</td>\n      <td>...</td>\n      <td>PMID: 35839778,PMID: 11686581,PMID: 30737244,P...</td>\n      <td>JCRB</td>\n      <td>Commercial</td>\n      <td>JCRB1066</td>\n      <td>https://cls.shop/305142</td>\n      <td>CVCL_S641</td>\n      <td>COSMIC1298167,CVCL_S641</td>\n      <td>STR Profile: Amelogenin: X,Y; CSF1PO: 10,11; D...</td>\n      <td>Yes</td>\n      <td>https://cls.shop/305142</td>\n    </tr>\n    <tr>\n      <th>587</th>\n      <td>SIDM01070</td>\n      <td>HCC-366</td>\n      <td>Not provided</td>\n      <td>Cell Line</td>\n      <td>NaN</td>\n      <td>NaN</td>\n      <td>Adherent</td>\n      <td>Not provided</td>\n      <td>Not provided</td>\n      <td>Not provided</td>\n      <td>...</td>\n      <td>PMID: 19472407,PMID: 26589293,PMID: 30038707,P...</td>\n      <td>DSMZ</td>\n      <td>Commercial</td>\n      <td>ACC-492</td>\n      <td>https://cls.shop/302155</td>\n      <td>CVCL_2059</td>\n      <td>COSMIC1240144,ACH-000840,CVCL_2059,CCLE_Name:H...</td>\n      <td>STR Profile: Amelogenin: X; CSF1PO: 10,12; D2S...</td>\n      <td>Yes</td>\n      <td>https://cls.shop/302155</td>\n    </tr>\n    <tr>\n      <th>683</th>\n      <td>SIDM00820</td>\n      <td>RCC-ER</td>\n      <td>Not provided</td>\n      <td>Cell Line</td>\n      <td>NaN</td>\n      <td>NaN</td>\n      <td>Adherent</td>\n      <td>Not provided</td>\n      <td>Not provided</td>\n      <td>Not provided</td>\n      <td>...</td>\n      <td>PMID: 35839778,PMID: 28489074,PMID: 27397505,P...</td>\n      <td>CLS</td>\n      <td>Commercial</td>\n      <td>RCC-ER</td>\n      <td>https://cls.shop/300238</td>\n      <td>CVCL_5870</td>\n      <td>COSMIC1524417,ACH-002188,CVCL_5870,CCLE_Name:R...</td>\n      <td>STR Profile: Amelogenin: X,Y; CSF1PO: 10,11; D...</td>\n      <td>Yes</td>\n      <td>https://cls.shop/300238</td>\n    </tr>\n    <tr>\n      <th>684</th>\n      <td>SIDM00818</td>\n      <td>RCC-JF</td>\n      <td>Not provided</td>\n      <td>Cell Line</td>\n      <td>NaN</td>\n      <td>NaN</td>\n      <td>Adherent</td>\n      <td>Not provided</td>\n      <td>Not provided</td>\n      <td>Not provided</td>\n      <td>...</td>\n      <td>PMID: 35839778,PMID: 28489074,PMID: 30894373,P...</td>\n      <td>CLS</td>\n      <td>Commercial</td>\n      <td>RCC-JF</td>\n      <td>https://cls.shop/300274</td>\n      <td>CVCL_5879</td>\n      <td>COSMIC1524415,ACH-002190,CVCL_5879,CCLE_Name:R...</td>\n      <td>STR Profile: Amelogenin: X; CSF1PO: 10,13; D3S...</td>\n      <td>Yes</td>\n      <td>https://cls.shop/300274</td>\n    </tr>\n    <tr>\n      <th>685</th>\n      <td>SIDM00817</td>\n      <td>RCC-JW</td>\n      <td>Not provided</td>\n      <td>Cell Line</td>\n      <td>NaN</td>\n      <td>NaN</td>\n      <td>Adherent</td>\n      <td>Not provided</td>\n      <td>Not provided</td>\n      <td>Not provided</td>\n      <td>...</td>\n      <td>PMID: 35839778,PMID: 28489074,PMID: 27397505,P...</td>\n      <td>CLS</td>\n      <td>Commercial</td>\n      <td>RCC-JW</td>\n      <td>https://cls.shop/300244</td>\n      <td>CVCL_5880</td>\n      <td>COSMIC1524416,ACH-002191,CVCL_5880,CCLE_Name:R...</td>\n      <td>STR Profile: Amelogenin: X,Y; CSF1PO: 10,11; D...</td>\n      <td>Yes</td>\n      <td>https://cls.shop/300244</td>\n    </tr>\n    <tr>\n      <th>708</th>\n      <td>SIDM00987</td>\n      <td>BHT-101</td>\n      <td>Not provided</td>\n      <td>Cell Line</td>\n      <td>NaN</td>\n      <td>NaN</td>\n      <td>Adherent</td>\n      <td>Not provided</td>\n      <td>Not provided</td>\n      <td>Not provided</td>\n      <td>...</td>\n      <td>PMID: 35839778,PMID: 18713817,PMID: 22460905,P...</td>\n      <td>DSMZ</td>\n      <td>Commercial</td>\n      <td>ACC-279</td>\n      <td>https://cls.shop/305112</td>\n      <td>CVCL_1085</td>\n      <td>COSMIC906696,ACH-000191,CVCL_1085,CCLE_Name:BH...</td>\n      <td>STR Profile: Amelogenin: X; CSF1PO: 12 (DSMZ) ...</td>\n      <td>Yes</td>\n      <td>https://cls.shop/305112</td>\n    </tr>\n    <tr>\n      <th>716</th>\n      <td>SIDM00931</td>\n      <td>CAL-62</td>\n      <td>Not provided</td>\n      <td>Cell Line</td>\n      <td>NaN</td>\n      <td>NaN</td>\n      <td>Adherent</td>\n      <td>Not provided</td>\n      <td>Not provided</td>\n      <td>Not provided</td>\n      <td>...</td>\n      <td>PMID: 35839778,PMID: 1369551,PMID: 18713817,PM...</td>\n      <td>DSMZ</td>\n      <td>Commercial</td>\n      <td>ACC-448</td>\n      <td>https://cls.shop/305114</td>\n      <td>CVCL_1112</td>\n      <td>COSMIC906828,ACH-000174,CVCL_1112,CCLE_Name:CA...</td>\n      <td>STR Profile: Amelogenin: X; CSF1PO: 9,12; D2S1...</td>\n      <td>Yes</td>\n      <td>https://cls.shop/305114</td>\n    </tr>\n    <tr>\n      <th>729</th>\n      <td>SIDM00950</td>\n      <td>DAN-G</td>\n      <td>Not provided</td>\n      <td>Cell Line</td>\n      <td>NaN</td>\n      <td>NaN</td>\n      <td>Adherent</td>\n      <td>Not provided</td>\n      <td>Not provided</td>\n      <td>Not provided</td>\n      <td>...</td>\n      <td>PMID: 26589293,PMID: 22460905,PMID: 27397505,P...</td>\n      <td>DSMZ</td>\n      <td>Commercial</td>\n      <td>ACC-249</td>\n      <td>https://cls.shop/300162</td>\n      <td>CVCL_0243</td>\n      <td>COSMIC1290797,ACH-000243,CVCL_0243,CCLE_Name:D...</td>\n      <td>STR Profile: Amelogenin: X; CSF1PO: 13; D1S165...</td>\n      <td>Yes</td>\n      <td>https://cls.shop/300162</td>\n    </tr>\n    <tr>\n      <th>738</th>\n      <td>SIDM00968</td>\n      <td>Hey</td>\n      <td>Not provided</td>\n      <td>Cell Line</td>\n      <td>NaN</td>\n      <td>NaN</td>\n      <td>Adherent</td>\n      <td>Not provided</td>\n      <td>Not provided</td>\n      <td>Not provided</td>\n      <td>...</td>\n      <td>PMID: 26589293,PMID: 25877200,PMID: 35839778,P...</td>\n      <td>Not provided</td>\n      <td>Not provided</td>\n      <td>Not provided</td>\n      <td>https://cls.shop/305017</td>\n      <td>CVCL_0297</td>\n      <td>COSMIC1479988,ACH-002140,CVCL_0297,CCLE_Name:H...</td>\n      <td>STR Profile: Amelogenin: X; CSF1PO: 10,11; D2S...</td>\n      <td>Yes</td>\n      <td>https://cls.shop/305017</td>\n    </tr>\n    <tr>\n      <th>770</th>\n      <td>SIDM00997</td>\n      <td>8305C</td>\n      <td>Not provided</td>\n      <td>Cell Line</td>\n      <td>NaN</td>\n      <td>NaN</td>\n      <td>Adherent</td>\n      <td>Not provided</td>\n      <td>Not provided</td>\n      <td>Not provided</td>\n      <td>...</td>\n      <td>PMID: 26589293,PMID: 25877200,PMID: 35839778,P...</td>\n      <td>JCRB</td>\n      <td>Commercial</td>\n      <td>JCRB0824</td>\n      <td>https://cls.shop/305101</td>\n      <td>CVCL_1053</td>\n      <td>COSMIC906795,ACH-001306,CVCL_1053,CCLE_Name:83...</td>\n      <td>STR Profile: Amelogenin: X; CSF1PO: 9,12; D2S1...</td>\n      <td>Yes</td>\n      <td>https://cls.shop/305101</td>\n    </tr>\n    <tr>\n      <th>774</th>\n      <td>SIDM00961</td>\n      <td>CADO-ES1</td>\n      <td>Not provided</td>\n      <td>Cell Line</td>\n      <td>NaN</td>\n      <td>NaN</td>\n      <td>Adherent</td>\n      <td>Not provided</td>\n      <td>Not provided</td>\n      <td>Not provided</td>\n      <td>...</td>\n      <td>PMID: 26589293,PMID: 22460905,PMID: 26428435,P...</td>\n      <td>DSMZ</td>\n      <td>Commercial</td>\n      <td>ACC-255</td>\n      <td>https://cls.shop/300127</td>\n      <td>CVCL_1103</td>\n      <td>COSMIC753539,ACH-000210,CVCL_1103,CCLE_Name:CA...</td>\n      <td>STR Profile: Amelogenin: X; CSF1PO: 11,12; D2S...</td>\n      <td>Yes</td>\n      <td>https://cls.shop/300127</td>\n    </tr>\n    <tr>\n      <th>781</th>\n      <td>SIDM00956</td>\n      <td>COLO-680N</td>\n      <td>Not provided</td>\n      <td>Cell Line</td>\n      <td>NaN</td>\n      <td>NaN</td>\n      <td>Adherent</td>\n      <td>Not provided</td>\n      <td>Not provided</td>\n      <td>Not provided</td>\n      <td>...</td>\n      <td>PMID: 26589293,PMID: 25877200,PMID: 35839778,P...</td>\n      <td>DSMZ</td>\n      <td>Commercial</td>\n      <td>ACC-182</td>\n      <td>https://cls.shop/300464</td>\n      <td>CVCL_1131</td>\n      <td>COSMIC906817,ACH-000717,CVCL_1131,CCLE_Name:CO...</td>\n      <td>STR Profile: Amelogenin: X; CSF1PO: 11,12; D2S...</td>\n      <td>Yes</td>\n      <td>https://cls.shop/300464</td>\n    </tr>\n    <tr>\n      <th>782</th>\n      <td>SIDM00954</td>\n      <td>COLO-824</td>\n      <td>Not provided</td>\n      <td>Cell Line</td>\n      <td>NaN</td>\n      <td>NaN</td>\n      <td>Adherent</td>\n      <td>Not provided</td>\n      <td>Not provided</td>\n      <td>Not provided</td>\n      <td>...</td>\n      <td>PMID: 25877200,PMID: 35839778,PMID: 27397505,P...</td>\n      <td>DSMZ</td>\n      <td>Commercial</td>\n      <td>ACC-200</td>\n      <td>https://cls.shop/300463</td>\n      <td>CVCL_1136</td>\n      <td>COSMIC906812,ACH-001820,CVCL_1136,CCLE_Name:CO...</td>\n      <td>STR Profile: Amelogenin: X; CSF1PO: 10,11,12 (...</td>\n      <td>Yes</td>\n      <td>https://cls.shop/300463</td>\n    </tr>\n    <tr>\n      <th>791</th>\n      <td>SIDM01009</td>\n      <td>KELLY</td>\n      <td>Not provided</td>\n      <td>Cell Line</td>\n      <td>NaN</td>\n      <td>NaN</td>\n      <td>Adherent</td>\n      <td>Not provided</td>\n      <td>Not provided</td>\n      <td>Not provided</td>\n      <td>...</td>\n      <td>PMID: 26589293,PMID: 22460905,PMID: 7139592,PM...</td>\n      <td>DSMZ</td>\n      <td>Commercial</td>\n      <td>ACC-355</td>\n      <td>https://cls.shop/300317</td>\n      <td>CVCL_2092</td>\n      <td>COSMIC753618,ACH-000259,CVCL_2092,CCLE_Name:KE...</td>\n      <td>STR Profile: Amelogenin: X; CSF1PO: 12; D2S133...</td>\n      <td>Yes</td>\n      <td>https://cls.shop/300317</td>\n    </tr>\n    <tr>\n      <th>811</th>\n      <td>SIDM00992</td>\n      <td>B-CPAP</td>\n      <td>Not provided</td>\n      <td>Cell Line</td>\n      <td>NaN</td>\n      <td>NaN</td>\n      <td>Adherent</td>\n      <td>Not provided</td>\n      <td>Not provided</td>\n      <td>Not provided</td>\n      <td>...</td>\n      <td>PMID: 26589293,PMID: 15172756,PMID: 18713817,P...</td>\n      <td>DSMZ</td>\n      <td>Commercial</td>\n      <td>ACC-273</td>\n      <td>https://cls.shop/305081</td>\n      <td>CVCL_0153</td>\n      <td>COSMIC924104,ACH-000456,CVCL_0153,CCLE_Name:BC...</td>\n      <td>STR Profile: Amelogenin: X; CSF1PO: 13; D2S133...</td>\n      <td>Yes</td>\n      <td>https://cls.shop/305081</td>\n    </tr>\n    <tr>\n      <th>825</th>\n      <td>SIDM01060</td>\n      <td>IGR-1</td>\n      <td>Not provided</td>\n      <td>Cell Line</td>\n      <td>NaN</td>\n      <td>NaN</td>\n      <td>Adherent</td>\n      <td>Not provided</td>\n      <td>Not provided</td>\n      <td>Not provided</td>\n      <td>...</td>\n      <td>PMID: 20164919,PMID: 25877200,PMID: 25056119,P...</td>\n      <td>DSMZ</td>\n      <td>Commercial</td>\n      <td>ACC-236</td>\n      <td>https://cls.shop/300219</td>\n      <td>CVCL_1303</td>\n      <td>COSMIC907169,ACH-000882,CVCL_1303,CCLE_Name:IG...</td>\n      <td>STR Profile: Amelogenin: X,Y; CSF1PO: 10; D2S1...</td>\n      <td>Yes</td>\n      <td>https://cls.shop/300219</td>\n    </tr>\n    <tr>\n      <th>837</th>\n      <td>SIDM01031</td>\n      <td>KYSE-150</td>\n      <td>Not provided</td>\n      <td>Cell Line</td>\n      <td>NaN</td>\n      <td>NaN</td>\n      <td>Adherent</td>\n      <td>Not provided</td>\n      <td>Not provided</td>\n      <td>Not provided</td>\n      <td>...</td>\n      <td>PMID: 22460905,PMID: 27397505,PMID: 11092977,P...</td>\n      <td>DSMZ</td>\n      <td>Commercial</td>\n      <td>ACC-375</td>\n      <td>https://cls.shop/305087</td>\n      <td>CVCL_1348</td>\n      <td>COSMIC907317,ACH-000855,CVCL_1348,CCLE_Name:KY...</td>\n      <td>STR Profile: Amelogenin: X; CSF1PO: 12,13; D2S...</td>\n      <td>Yes</td>\n      <td>https://cls.shop/305087</td>\n    </tr>\n    <tr>\n      <th>839</th>\n      <td>SIDM01028</td>\n      <td>KYSE-410</td>\n      <td>Not provided</td>\n      <td>Cell Line</td>\n      <td>NaN</td>\n      <td>NaN</td>\n      <td>Adherent</td>\n      <td>Not provided</td>\n      <td>Not provided</td>\n      <td>Not provided</td>\n      <td>...</td>\n      <td>PMID: 22460905,PMID: 27397505,PMID: 11092977,P...</td>\n      <td>DSMZ</td>\n      <td>Commercial</td>\n      <td>ACC-381</td>\n      <td>https://cls.shop/305122</td>\n      <td>CVCL_1352</td>\n      <td>COSMIC753574,ACH-000809,CVCL_1352,CCLE_Name:KY...</td>\n      <td>STR Profile: Amelogenin: X; CSF1PO: 12; D2S133...</td>\n      <td>Yes</td>\n      <td>https://cls.shop/305122</td>\n    </tr>\n    <tr>\n      <th>977</th>\n      <td>SIDM00029</td>\n      <td>SCLC-21H</td>\n      <td>Not provided</td>\n      <td>Cell Line</td>\n      <td>NaN</td>\n      <td>NaN</td>\n      <td>Not provided</td>\n      <td>Not provided</td>\n      <td>Not provided</td>\n      <td>Not provided</td>\n      <td>...</td>\n      <td>PMID: 11416159,PMID: 26589293,PMID: 11414198,P...</td>\n      <td>DSMZ</td>\n      <td>Commercial</td>\n      <td>ACC-372</td>\n      <td>https://cls.shop/300225</td>\n      <td>CVCL_0024</td>\n      <td>COSMIC753611,ACH-000659,CVCL_0024,CCLE_Name:SC...</td>\n      <td>STR Profile: Amelogenin: X,Y; CSF1PO: 10; D2S1...</td>\n      <td>Yes</td>\n      <td>https://cls.shop/300225</td>\n    </tr>\n    <tr>\n      <th>979</th>\n      <td>SIDM00816</td>\n      <td>RCC-MF</td>\n      <td>Not provided</td>\n      <td>Cell Line</td>\n      <td>NaN</td>\n      <td>NaN</td>\n      <td>Adherent</td>\n      <td>Not provided</td>\n      <td>Not provided</td>\n      <td>Not provided</td>\n      <td>...</td>\n      <td>PMID: 35839778,PMID: 28489074,PMID: 27397505,P...</td>\n      <td>CLS</td>\n      <td>Commercial</td>\n      <td>RCC-MF</td>\n      <td>https://cls.shop/300245</td>\n      <td>CVCL_5884</td>\n      <td>COSMIC1524419,ACH-002192,CVCL_5884,CCLE_Name:R...</td>\n      <td>STR Profile: Amelogenin: X,Y; CSF1PO: 10; D3S1...</td>\n      <td>Yes</td>\n      <td>https://cls.shop/300245</td>\n    </tr>\n    <tr>\n      <th>981</th>\n      <td>SIDM00035</td>\n      <td>S-117</td>\n      <td>Not provided</td>\n      <td>Cell Line</td>\n      <td>NaN</td>\n      <td>NaN</td>\n      <td>Not provided</td>\n      <td>Not provided</td>\n      <td>Not provided</td>\n      <td>Not provided</td>\n      <td>...</td>\n      <td>PMID: 26589293,PMID: 25877200,PMID: 22460905,P...</td>\n      <td>DSMZ</td>\n      <td>Commercial</td>\n      <td>ACC-266</td>\n      <td>https://cls.shop/300329</td>\n      <td>CVCL_1674</td>\n      <td>COSMIC910946,ACH-000037,CVCL_1674,CCLE_Name:S1...</td>\n      <td>STR Profile: Amelogenin: X; CSF1PO: 13; D2S133...</td>\n      <td>Yes</td>\n      <td>https://cls.shop/300329</td>\n    </tr>\n    <tr>\n      <th>1089</th>\n      <td>SIDM01452</td>\n      <td>SUM-159PT</td>\n      <td>Not provided</td>\n      <td>Cell Line</td>\n      <td>NaN</td>\n      <td>NaN</td>\n      <td>Not provided</td>\n      <td>Not provided</td>\n      <td>Not provided</td>\n      <td>Not provided</td>\n      <td>...</td>\n      <td>PMID: 10604729,PMID: 26589293,PMID: 35042871,P...</td>\n      <td>BioIVT</td>\n      <td>Commercial</td>\n      <td>SUM-159PT</td>\n      <td>https://cls.shop/305116</td>\n      <td>CVCL_5423</td>\n      <td>ACH-001391,CVCL_5423,CCLE_Name:SUM159PT_BREAST</td>\n      <td>STR Profile: Amelogenin: X; CSF1PO: 10,11 (Dep...</td>\n      <td>Yes</td>\n      <td>https://cls.shop/305116</td>\n    </tr>\n    <tr>\n      <th>1107</th>\n      <td>SIDM01441</td>\n      <td>SUM-149PT</td>\n      <td>Not provided</td>\n      <td>Cell Line</td>\n      <td>NaN</td>\n      <td>NaN</td>\n      <td>Not provided</td>\n      <td>Not provided</td>\n      <td>Not provided</td>\n      <td>Not provided</td>\n      <td>...</td>\n      <td>PMID: 10604729,PMID: 26589293,PMID: 35042871,P...</td>\n      <td>BioIVT</td>\n      <td>Commercial</td>\n      <td>SUM-149PT</td>\n      <td>https://cls.shop/300609</td>\n      <td>CVCL_3422</td>\n      <td>ACH-001390,CVCL_3422,CCLE_Name:SUM149PT_BREAST</td>\n      <td>STR Profile: Amelogenin: X; CSF1PO: 12; D2S133...</td>\n      <td>Yes</td>\n      <td>https://cls.shop/300609</td>\n    </tr>\n    <tr>\n      <th>1171</th>\n      <td>SIDM01472</td>\n      <td>Li-7</td>\n      <td>Not provided</td>\n      <td>Cell Line</td>\n      <td>NaN</td>\n      <td>NaN</td>\n      <td>Adherent</td>\n      <td>Not provided</td>\n      <td>Not provided</td>\n      <td>Not provided</td>\n      <td>...</td>\n      <td>PMID: 25877200,PMID: 12029633,PMID: 22460905,P...</td>\n      <td>RIKEN</td>\n      <td>Commercial</td>\n      <td>RCB1941</td>\n      <td>https://cls.shop/305102</td>\n      <td>CVCL_3840</td>\n      <td>ACH-000471,CVCL_3840,CCLE_Name:LI7_LIVER</td>\n      <td>STR Profile: Amelogenin: X; CSF1PO: 12; D2S133...</td>\n      <td>Yes</td>\n      <td>https://cls.shop/305102</td>\n    </tr>\n    <tr>\n      <th>1202</th>\n      <td>SIDM01623</td>\n      <td>HMY-1</td>\n      <td>Not provided</td>\n      <td>Cell Line</td>\n      <td>NaN</td>\n      <td>NaN</td>\n      <td>Adherent</td>\n      <td>Not provided</td>\n      <td>Not provided</td>\n      <td>Not provided</td>\n      <td>...</td>\n      <td>PMID: 26589293,PMID: 6239887,PMID: 25877200,PM...</td>\n      <td>JCRB</td>\n      <td>Commercial</td>\n      <td>JCRB1018</td>\n      <td>https://cls.shop/305145</td>\n      <td>CVCL_2950</td>\n      <td>ACH-001522,CVCL_2950,CCLE_Name:HMY1_SKIN</td>\n      <td>STR Profile: Amelogenin: X,Y; CSF1PO: 12; D3S1...</td>\n      <td>Yes</td>\n      <td>https://cls.shop/305145</td>\n    </tr>\n    <tr>\n      <th>1241</th>\n      <td>SIDM00282</td>\n      <td>CW-2</td>\n      <td>Not provided</td>\n      <td>Cell Line</td>\n      <td>NaN</td>\n      <td>NaN</td>\n      <td>Adherent</td>\n      <td>Not provided</td>\n      <td>Not provided</td>\n      <td>Not provided</td>\n      <td>...</td>\n      <td>PMID: 20606684,PMID: 25877200,PMID: 26589293,P...</td>\n      <td>RIKEN</td>\n      <td>Commercial</td>\n      <td>RCB0778</td>\n      <td>https://cls.shop/305134</td>\n      <td>CVCL_1151</td>\n      <td>COSMIC910554,ACH-000998,CVCL_1151,CCLE_Name:CW...</td>\n      <td>STR Profile: Amelogenin: X; CSF1PO: 10,11,14 (...</td>\n      <td>Yes</td>\n      <td>https://cls.shop/305134</td>\n    </tr>\n    <tr>\n      <th>1243</th>\n      <td>SIDM00327</td>\n      <td>L-428</td>\n      <td>Not provided</td>\n      <td>Cell Line</td>\n      <td>NaN</td>\n      <td>NaN</td>\n      <td>Suspension</td>\n      <td>Not provided</td>\n      <td>Not provided</td>\n      <td>Not provided</td>\n      <td>...</td>\n      <td>PMID: 9787181,PMID: 26589293,PMID: 6303739,PMI...</td>\n      <td>DSMZ</td>\n      <td>Commercial</td>\n      <td>ACC-197</td>\n      <td>https://cls.shop/300200</td>\n      <td>CVCL_1361</td>\n      <td>COSMIC907322,ACH-000754,CVCL_1361,CCLE_Name:L4...</td>\n      <td>STR Profile: Amelogenin: X; CSF1PO: 10,13; D2S...</td>\n      <td>Yes</td>\n      <td>https://cls.shop/300200</td>\n    </tr>\n    <tr>\n      <th>1260</th>\n      <td>SIDM01421</td>\n      <td>U-343-MGa</td>\n      <td>Not provided</td>\n      <td>Cell Line</td>\n      <td>NaN</td>\n      <td>NaN</td>\n      <td>Adherent</td>\n      <td>Not provided</td>\n      <td>Not provided</td>\n      <td>Not provided</td>\n      <td>...</td>\n      <td>PMID: 10709103,PMID: 30894373,PMID: 3497714,PM...</td>\n      <td>Not provided</td>\n      <td>Not provided</td>\n      <td>Not provided</td>\n      <td>https://cls.shop/300365</td>\n      <td>CVCL_4773</td>\n      <td>ACH-000036,CVCL_4773,CCLE_Name:U343_CENTRAL_NE...</td>\n      <td>STR Profile: Amelogenin: X,Y; CSF1PO: 10,12; D...</td>\n      <td>Yes</td>\n      <td>https://cls.shop/300365</td>\n    </tr>\n    <tr>\n      <th>1336</th>\n      <td>SIDM01640</td>\n      <td>M-07e</td>\n      <td>Not provided</td>\n      <td>Cell Line</td>\n      <td>NaN</td>\n      <td>NaN</td>\n      <td>Suspension</td>\n      <td>Not provided</td>\n      <td>Not provided</td>\n      <td>Not provided</td>\n      <td>...</td>\n      <td>PMID: 2273055,PMID: 11414198,PMID: 22460905,PM...</td>\n      <td>Not provided</td>\n      <td>Not provided</td>\n      <td>Not provided</td>\n      <td>https://cls.shop/305105</td>\n      <td>CVCL_2106</td>\n      <td>ACH-000602,CVCL_2106,CCLE_Name:M07E_HAEMATOPOI...</td>\n      <td>STR Profile: Amelogenin: X; CSF1PO: 9,10; D2S1...</td>\n      <td>Yes</td>\n      <td>https://cls.shop/305105</td>\n    </tr>\n    <tr>\n      <th>1340</th>\n      <td>SIDM00560</td>\n      <td>MKN7</td>\n      <td>Not provided</td>\n      <td>Cell Line</td>\n      <td>NaN</td>\n      <td>NaN</td>\n      <td>Not provided</td>\n      <td>Not provided</td>\n      <td>Not provided</td>\n      <td>Not provided</td>\n      <td>...</td>\n      <td>PMID: 11107048,PMID: 22336246,PMID: 26589293,P...</td>\n      <td>JCRB</td>\n      <td>Commercial</td>\n      <td>JCRB1025</td>\n      <td>https://cls.shop/305104</td>\n      <td>CVCL_1417</td>\n      <td>COSMIC924250,ACH-000678,CVCL_1417,CCLE_Name:MK...</td>\n      <td>STR Profile: Amelogenin: X; CSF1PO: 10,13; D3S...</td>\n      <td>Yes</td>\n      <td>https://cls.shop/305104</td>\n    </tr>\n    <tr>\n      <th>1357</th>\n      <td>SIDM00819</td>\n      <td>RCC-FG2</td>\n      <td>Not provided</td>\n      <td>Cell Line</td>\n      <td>NaN</td>\n      <td>NaN</td>\n      <td>Adherent</td>\n      <td>Not provided</td>\n      <td>Not provided</td>\n      <td>Not provided</td>\n      <td>...</td>\n      <td>PMID: 35839778,PMID: 28489074,PMID: 27397505,P...</td>\n      <td>CLS</td>\n      <td>Commercial</td>\n      <td>RCC-FG2</td>\n      <td>https://cls.shop/300249</td>\n      <td>CVCL_5873</td>\n      <td>COSMIC1524414,ACH-002189,CVCL_5873,CCLE_Name:R...</td>\n      <td>STR Profile: Amelogenin: X; CSF1PO: 11; D3S135...</td>\n      <td>Yes</td>\n      <td>https://cls.shop/300249</td>\n    </tr>\n    <tr>\n      <th>1493</th>\n      <td>SIDM01850</td>\n      <td>RBE</td>\n      <td>Not provided</td>\n      <td>Cell Line</td>\n      <td>NaN</td>\n      <td>NaN</td>\n      <td>Adherent</td>\n      <td>Not provided</td>\n      <td>Not provided</td>\n      <td>Not provided</td>\n      <td>...</td>\n      <td>PMID: 9358283,PMID: 31077409,PMID: 15767549,PM...</td>\n      <td>RIKEN</td>\n      <td>Commercial</td>\n      <td>RCB1292</td>\n      <td>https://cls.shop/305019</td>\n      <td>CVCL_4896</td>\n      <td>ACH-001856,CVCL_4896,CCLE_Name:RBE_BILIARY_TRACT</td>\n      <td>STR Profile: Amelogenin: X; CSF1PO: 12; D2S133...</td>\n      <td>Yes</td>\n      <td>https://cls.shop/305019</td>\n    </tr>\n    <tr>\n      <th>1651</th>\n      <td>SIDM00344</td>\n      <td>LCLC-97TM1</td>\n      <td>Not provided</td>\n      <td>Cell Line</td>\n      <td>NaN</td>\n      <td>NaN</td>\n      <td>Adherent</td>\n      <td>Not provided</td>\n      <td>Not provided</td>\n      <td>Not provided</td>\n      <td>...</td>\n      <td>PMID: 26361996,PMID: 26589293,PMID: 25877200,P...</td>\n      <td>DSMZ</td>\n      <td>Commercial</td>\n      <td>ACC-388</td>\n      <td>https://cls.shop/300409</td>\n      <td>CVCL_1376</td>\n      <td>COSMIC946361,ACH-000596,CVCL_1376,CCLE_Name:LC...</td>\n      <td>STR Profile: Amelogenin: X; CSF1PO: 10,11; D2S...</td>\n      <td>Yes</td>\n      <td>https://cls.shop/300409</td>\n    </tr>\n    <tr>\n      <th>1678</th>\n      <td>SIDM01068</td>\n      <td>HCC-78</td>\n      <td>Not provided</td>\n      <td>Cell Line</td>\n      <td>NaN</td>\n      <td>NaN</td>\n      <td>Adherent</td>\n      <td>Not provided</td>\n      <td>Not provided</td>\n      <td>Not provided</td>\n      <td>...</td>\n      <td>PMID: 19472407,PMID: 26589293,PMID: 30038707,P...</td>\n      <td>DSMZ</td>\n      <td>Commercial</td>\n      <td>ACC-563</td>\n      <td>https://cls.shop/302156</td>\n      <td>CVCL_2061</td>\n      <td>COSMIC1290908,ACH-000562,CVCL_2061,CCLE_Name:H...</td>\n      <td>STR Profile: Amelogenin: X,Y; CSF1PO: 11,12; D...</td>\n      <td>Yes</td>\n      <td>https://cls.shop/302156</td>\n    </tr>\n    <tr>\n      <th>1688</th>\n      <td>SIDM00434</td>\n      <td>MOLP-8</td>\n      <td>Not provided</td>\n      <td>Cell Line</td>\n      <td>NaN</td>\n      <td>NaN</td>\n      <td>Suspension</td>\n      <td>Not provided</td>\n      <td>Not provided</td>\n      <td>Not provided</td>\n      <td>...</td>\n      <td>PMID: 26589293,PMID: 25877200,PMID: 35839778,P...</td>\n      <td>DSMZ</td>\n      <td>Commercial</td>\n      <td>ACC-569</td>\n      <td>https://cls.shop/304082</td>\n      <td>CVCL_2124</td>\n      <td>COSMIC1330950,ACH-000745,CVCL_2124,CCLE_Name:M...</td>\n      <td>STR Profile: Amelogenin: X; CSF1PO: 12; D2S133...</td>\n      <td>Yes</td>\n      <td>https://cls.shop/304082</td>\n    </tr>\n    <tr>\n      <th>1736</th>\n      <td>SIDM00382</td>\n      <td>SF126</td>\n      <td>Not provided</td>\n      <td>Cell Line</td>\n      <td>NaN</td>\n      <td>NaN</td>\n      <td>Not provided</td>\n      <td>Not provided</td>\n      <td>Not provided</td>\n      <td>Not provided</td>\n      <td>...</td>\n      <td>PMID: 26589293,PMID: 35839778,PMID: 25984343,P...</td>\n      <td>JCRB</td>\n      <td>Commercial</td>\n      <td>IFO50286</td>\n      <td>https://cls.shop/300608</td>\n      <td>CVCL_1688</td>\n      <td>COSMIC909712,ACH-000609,CVCL_1688,CCLE_Name:SF...</td>\n      <td>STR Profile: Amelogenin: X; CSF1PO: 12; D2S133...</td>\n      <td>Yes</td>\n      <td>https://cls.shop/300608</td>\n    </tr>\n    <tr>\n      <th>1756</th>\n      <td>SIDM00345</td>\n      <td>LCLC-103H</td>\n      <td>Not provided</td>\n      <td>Cell Line</td>\n      <td>NaN</td>\n      <td>NaN</td>\n      <td>Adherent</td>\n      <td>Not provided</td>\n      <td>Not provided</td>\n      <td>Not provided</td>\n      <td>...</td>\n      <td>PMID: 26589293,PMID: 25877200,PMID: 35839778,P...</td>\n      <td>DSMZ</td>\n      <td>Commercial</td>\n      <td>ACC-384</td>\n      <td>https://cls.shop/300169</td>\n      <td>CVCL_1375</td>\n      <td>COSMIC753586,ACH-000627,CVCL_1375,CCLE_Name:LC...</td>\n      <td>STR Profile: Amelogenin: X (CLS)  X,Y (Cosmic-...</td>\n      <td>Yes</td>\n      <td>https://cls.shop/300169</td>\n    </tr>\n    <tr>\n      <th>1788</th>\n      <td>SIDM00480</td>\n      <td>OAW-42</td>\n      <td>Not provided</td>\n      <td>Cell Line</td>\n      <td>NaN</td>\n      <td>NaN</td>\n      <td>Adherent</td>\n      <td>Not provided</td>\n      <td>Not provided</td>\n      <td>Not provided</td>\n      <td>...</td>\n      <td>PMID: 26589293,PMID: 25230021,PMID: 22460905,P...</td>\n      <td>ECACC</td>\n      <td>Commercial</td>\n      <td>85073102</td>\n      <td>https://cls.shop/300304</td>\n      <td>CVCL_1615</td>\n      <td>COSMIC910548,ACH-000704,CVCL_1615,CCLE_Name:OA...</td>\n      <td>STR Profile: Amelogenin: X; CSF1PO: 11; D1S165...</td>\n      <td>Yes</td>\n      <td>https://cls.shop/300304</td>\n    </tr>\n  </tbody>\n</table>\n<p>54 rows × 27 columns</p>\n</div>"
     },
     "execution_count": 1481,
     "metadata": {},
     "output_type": "execute_result"
    }
   ],
   "source": [
    "cmp_sheet[cmp_sheet['vendor_link'].str.contains('cls')]"
   ],
   "metadata": {
    "collapsed": false,
    "ExecuteTime": {
     "end_time": "2024-04-18T10:24:07.008069Z",
     "start_time": "2024-04-18T10:24:06.824598Z"
    }
   },
   "execution_count": 1481
  },
  {
   "cell_type": "code",
   "outputs": [
    {
     "data": {
      "text/plain": "'RIKEN'"
     },
     "execution_count": 385,
     "metadata": {},
     "output_type": "execute_result"
    }
   ],
   "source": [
    "supplier_name"
   ],
   "metadata": {
    "collapsed": false,
    "ExecuteTime": {
     "end_time": "2024-04-09T14:43:25.030140Z",
     "start_time": "2024-04-09T14:43:24.900538Z"
    }
   },
   "execution_count": 385
  },
  {
   "cell_type": "code",
   "outputs": [],
   "source": [
    "def fetch_attribute_cultcol(driver, df):\n",
    "    for art in driver.find_elements(By.CLASS_NAME, 'pcg-product-info'):\n",
    "        if art.text.strip() == '':\n",
    "            continue\n",
    "        row = BeautifulSoup(art.get_attribute(\"outerHTML\"), 'html.parser')\n",
    "        h = [r.text.strip() for r in row.find_all('h2')]\n",
    "        d = [r.text.strip() for r in row.find_all('div')]\n",
    "        hd = list(zip(h,d))\n",
    "        for r in hd:\n",
    "            df[r[0].lower().replace(' ', '_')] = r[1]\n",
    "    return df\n",
    "\n",
    "def get_atcc_attributes(first, driver, text, model_id):\n",
    "    if first:\n",
    "        WebDriverWait(driver, 10).until(EC.presence_of_element_located((By.XPATH, \"//a[text()='Allow all cookies']\"))).click()\n",
    "        first = False\n",
    "    sleep(2)\n",
    "    try: \n",
    "        WebDriverWait(driver, 30).until(EC.presence_of_element_located((By.XPATH, \"//a[contains(text(), 'Expand all')]\"))).click()\n",
    "        headers = list()\n",
    "        h3 = driver.find_elements(By.XPATH, \"//h3\")\n",
    "        append_it = False\n",
    "        for h in h3:\n",
    "            if len(headers) == 0:\n",
    "                headers.append('Product Information')\n",
    "            if h.text == \"General\" or h.text == 'Characteristics' or append_it:\n",
    "                headers.append(h.text)\n",
    "                append_it = True\n",
    "            if h.text == \"Legal disclaimers\":\n",
    "                append_it = False\n",
    "        \n",
    "        dls = driver.find_elements(By.XPATH, \"//dl\")\n",
    "        i = 0\n",
    "        df = pd.DataFrame()\n",
    "        df['catalog'] = [url.replace('https://www.atcc.org/products/', '').upper()]\n",
    "        df['model_id'] = model_id\n",
    "        for dl in dls:\n",
    "            soup = BeautifulSoup(dl.get_attribute(\"outerHTML\"), 'html.parser')\n",
    "            dt_elements = soup.find_all('dt', class_='product-information__title')\n",
    "            dd_elements = soup.find_all('dd', class_='product-information__data')\n",
    "            dt_values = [headers[i].replace(' ', '_').lower()+'.'+dt.get_text(strip=True).replace(' ', '_').lower() for dt in dt_elements]\n",
    "            i = i+1\n",
    "            dd_values = [dd.get_text(strip=True) for dd in dd_elements]\n",
    "            for j in range(len(dt_values)):\n",
    "                df[dt_values[j]] = dd_values[j]  \n",
    "        text = pd.concat([text, df]).reset_index(drop=True)\n",
    "    except:\n",
    "        pass\n",
    "    return first, text\n",
    "\n",
    "def get_cellbank_riken(driver, text, model_id, model_number):\n",
    "    tables = driver.find_elements(By.XPATH, \"//table\")\n",
    "    main_table = tables[0]\n",
    "    for table in tables:\n",
    "        if table.text.startswith('Reference'):\n",
    "            reference_table = table.text\n",
    "            break\n",
    "    main_table = BeautifulSoup(main_table.get_attribute(\"outerHTML\"), 'html.parser')\n",
    "    rows = main_table.find_all('tr')\n",
    "    df = pd.DataFrame()\n",
    "    df['catalog'] = [model_number]\n",
    "    df['model_id'] = model_id\n",
    "    output = list()\n",
    "    column_names = [\"Depositor\", \"Originator\", \"Year of deposit\", \"Animal\", \"Genus\", \"Species\", \"Race\", \"Gender\", \"Age at sampling\", \"Tissue\", \"Disease name\", \"Metastatic ability\", \"Metastatic tissue\", \"Classification\", \"Year of origin\", \"Lifespan\", \"Morphology\", \"Cellosaurus(Expasy)\", \"Medium\", \"Culture type\", \"Culture medium\", \"Culture method\", \"Antibiotics\", \"Passage method\", \"SC frequency\", \"Temperature\", \"CO2 concentration\", \"Freeze medium\", \"Freezing method\", \"Mycoplasma\", \"Virus (HIV)\", \"Isozyme\", \"Chromosome mode\", \"STR(human)\"]\n",
    "    column_names = [f.lower() for f in column_names]\n",
    "    for row in rows:\n",
    "        values = row.find_all('td')\n",
    "        if len(values) > 0:\n",
    "            if int(values[0].get('colspan', 1)) > 1:\n",
    "                continue \n",
    "            for val in values:\n",
    "                val_t = val.text.replace('\\t', '').replace('\\n', '').lower()\n",
    "                if (int(val.get('rowspan', 1)) > 1 and val.text != '\\n') or val_t == \"\" or val_t == 'deposit info' or val_t == 'lot info':\n",
    "                    continue\n",
    "                if len(output) > 0 and output[-1] in column_names and val_t in column_names:\n",
    "                    output.append('')\n",
    "                output.append(val_t)\n",
    "    for iter in range(0, len(output), 2):\n",
    "        df[output[iter]] = output[iter+1]\n",
    "    pattern = r'PubMed ID:\\s*(\\d+)'\n",
    "    match = search(pattern, reference_table)\n",
    "    if match:\n",
    "        pubmed_id = match.group(1)\n",
    "        pubmed_id = 'PMID: '+ pubmed_id\n",
    "    else:\n",
    "        pubmed_id = ''\n",
    "    df['publications'] = pubmed_id\n",
    "    text = pd.concat([text, df]).reset_index(drop=True)\n",
    "    return text\n",
    "\n",
    "def get_kclb_attributes(driver, text, model_id, model_number, model_name):\n",
    "    try:\n",
    "        element = WebDriverWait(driver, 10).until(EC.presence_of_element_located((By.XPATH, f\"//a[contains(text(), 'SNU-{sub('^0*', '', model_number)}')]\")))\n",
    "        sleep(3)\n",
    "        element.click()\n",
    "    except Exception as e:\n",
    "        try:\n",
    "            element = WebDriverWait(driver, 10).until(EC.presence_of_element_located((By.XPATH, f\"//a[contains(text(), '{model_name}')]\")))\n",
    "            sleep(3)\n",
    "            element.click()\n",
    "        except Exception as e:\n",
    "            print(f'{model_id}: KCLB:{model_number}: Click error')\n",
    "            pass\n",
    "    if len(driver.find_elements(By.CLASS_NAME, \"cell_con_tab_wrap\")) > 0:\n",
    "        table = BeautifulSoup(driver.find_elements(By.CLASS_NAME, \"cell_con_tab_wrap\")[0].get_attribute(\"outerHTML\").replace('\\t','').replace('\\n',''), 'html.parser')\n",
    "        headers = table.find('ul').find_all('li')\n",
    "        headers = [[h['data-ref'], h.text] for h in headers]\n",
    "        table = table.find_all('div')\n",
    "        df = pd.DataFrame()\n",
    "        df['catalog'] = [model_number]\n",
    "        df['model_id'] = model_id\n",
    "        tab = list()\n",
    "        for t in table:\n",
    "            if \"id\" in t.attrs.keys():\n",
    "                tab.append(t)\n",
    "        table = tab\n",
    "        for i in range(0, len(table)):\n",
    "            head = headers[i][0]\n",
    "            tab = table[i]\n",
    "            if tab is not None and \"id\" in tab.attrs.keys() and tab['id'] == head:\n",
    "                tab = tab.find('table')\n",
    "                if tab is not None:\n",
    "                    tab = tab.find_all('tr')\n",
    "                    if tab is not None:\n",
    "                        for j in range(len(tab)):\n",
    "                            if head == 'str' or tab[j].find('th') is None:\n",
    "                                col = head\n",
    "                            elif head == 'morphology':\n",
    "                                continue\n",
    "                            else:\n",
    "                                col = head+'.'+ tab[j].find('th').text.replace(' ', '_').lower() \n",
    "                            df[col] = tab[j].find('td').text \n",
    "            else:\n",
    "                print(f'{model_id}: KCLB:{model_number}: Missmatch id for table and header {tab.attrs}, {head}')\n",
    "        text = pd.concat([text, df]).reset_index(drop=True)\n",
    "    return text\n",
    "\n",
    "def get_iclc_attributes( driver, text, model_id, model_number, model_name):\n",
    "    tables = driver.find_elements(By.XPATH, \"//table\")\n",
    "    table = BeautifulSoup(tables[1].get_attribute(\"outerHTML\"), 'html.parser')\n",
    "    table = table.find_all('tr')\n",
    "    df = pd.DataFrame()\n",
    "    df['catalog'] = [model_number]\n",
    "    df['model_id'] = model_id\n",
    "    for t in table:\n",
    "        if t.text.replace('\\n', '').__contains__('Close window'):\n",
    "            continue\n",
    "        data = t.find_all('td')\n",
    "        if data[0].text.replace('\\xa0', ' ').replace(' ','_').lower().__contains__('bibliography'):\n",
    "            pattern = r'PMID:\\s*(\\d+)'\n",
    "            match = search(pattern, data[1].text.replace('\\xa0', ' ').replace('\\t',' ').replace('\\n',' '))\n",
    "            if match:\n",
    "                pubmed_id = match.group(1)\n",
    "                pubmed_id = 'PMID: '+ pubmed_id\n",
    "            else:\n",
    "                pubmed_id = ''\n",
    "            df['publications'] = pubmed_id\n",
    "        else:\n",
    "            df[data[0].text.replace('\\xa0', ' ').replace(' ','_').lower()] = data[1].text.replace('\\xa0', ' ').replace('\\t',' ').replace('\\n',' ')\n",
    "    text = pd.concat([text, df]).reset_index(drop=True)\n",
    "    return text\n",
    "\n",
    "def get_dsmz_attributes( driver, text, model_id, model_number):\n",
    "    divs = driver.find_elements(By.CLASS_NAME, \"field\")\n",
    "    df = pd.DataFrame()\n",
    "    df['catalog'] = [model_number]\n",
    "    df['model_id'] = model_id\n",
    "    for div in divs:\n",
    "        soup = BeautifulSoup(div.get_attribute(\"outerHTML\"), 'html.parser')\n",
    "        label_element = soup.find(class_='label')\n",
    "        value_element = soup.find(class_='value')\n",
    "        label = label_element.text.strip().replace(':', '').replace(' ', '_').replace('.', '').lower()\n",
    "        value = value_element.text.strip()\n",
    "        if label.__contains__('nbsp') or label.__contains__('Supplied'):\n",
    "            continue\n",
    "        df[label] = value\n",
    "    text = pd.concat([text, df]).reset_index(drop=True)\n",
    "    return text\n",
    "\n",
    "def get_addexbio_attributes(driver, text, model_id, model_number):\n",
    "    divs = driver.find_elements(By.ID, \"recommended\")\n",
    "    publications = driver.find_elements(By.ID, \"ref\")\n",
    "    df = pd.DataFrame()\n",
    "    df['catalog'] = [model_number]\n",
    "    df['model_id'] = model_id\n",
    "    if len(publications)>0:\n",
    "        df['publications'] = publications[0].text\n",
    "    string = sub('<font.*blue\\\">|</font>|<font face=\"arial\">|\\n', '', divs[0].get_attribute(\"outerHTML\"))\n",
    "    string = sub('</p><h2>','$',string)\n",
    "    string = sub('</h2><p>','',string)\n",
    "    string = sub('<div id=\"recommended\"><h2>','',string)\n",
    "    string = sub('</h2> <p>','',string)\n",
    "    string = string.split('$')\n",
    "    output = list()\n",
    "    for s in string:\n",
    "        if s.startswith('Mutations') or s.startswith('Related cells by') or s.startswith('Citation'):\n",
    "            continue\n",
    "        if s.startswith('Sterility'):\n",
    "            s = s.replace('Sterility:', '').replace(': ', ':').replace(': ', ':').replace('</p><p>', ';')\n",
    "            s = s.split(';')\n",
    "            for ss in s:\n",
    "                output.append(\"sterility.\"+ss)\n",
    "            continue\n",
    "        if s.startswith('Pathogens'):\n",
    "            s = s.replace('Pathogens:', '').replace(': ', ':').replace(': ', ':').replace('</p><p>', ';')\n",
    "            s = s.split(';')\n",
    "            for ss in s:\n",
    "                output.append(\"pathogens.\"+ss)\n",
    "            continue\n",
    "        output.append(s.replace('</p><p>', ';').replace(': ', ':').replace(': ', ':'))\n",
    "    for s in output:\n",
    "        out = s.split(':')\n",
    "        df[out[0].lower()] = out[1]\n",
    "    text = pd.concat([text, df]).reset_index(drop=True)\n",
    "    return text\n",
    "\n",
    "def get_cellbank_jp_attributes(driver, text, model_id, model_number):\n",
    "    try:\n",
    "        WebDriverWait(driver, 10).until(EC.presence_of_element_located((By.XPATH, \"//span[contains(text(), 'submit')]\"))).click()\n",
    "    except Exception as e:\n",
    "        pass\n",
    "    tables = driver.find_elements(By.XPATH, \"//table\")\n",
    "    lot = True\n",
    "    df = pd.DataFrame()\n",
    "    df['catalog'] = [model_number]\n",
    "    df['model_id'] = model_id\n",
    "    for t in tables:\n",
    "        if (t.text.__contains__('Detection of virus genome') or t.text.__contains__('Reference') or t.text.__contains__('Cell Name')) and lot:            \n",
    "            tab = BeautifulSoup(t.get_attribute(\"outerHTML\"), 'html.parser')\n",
    "            trs = tab.find_all('tr')\n",
    "            for tr in trs:\n",
    "                h = [h.text.strip() for h in tr.find_all('th')]\n",
    "                d = [d.text.strip() for d in tr.find_all('td')]\n",
    "                row = list(zip(h,d))\n",
    "                for r in row:\n",
    "                    df[r[0]] = r[1]\n",
    "        if t.text.__contains__('Lot Specification'):\n",
    "            tab = BeautifulSoup(t.get_attribute(\"outerHTML\"), 'html.parser')\n",
    "            trs = tab.find_all('tr')\n",
    "            for tr in trs:\n",
    "                h = [h.text.strip() for h in tr.find_all('th')]\n",
    "                d = [d.text.strip() for d in tr.find_all('td')]\n",
    "                row = list(zip(h,d))\n",
    "                for r in row:\n",
    "                    df[r[0]] = r[1]\n",
    "            lot = False\n",
    "    text = pd.concat([text, df]).reset_index(drop=True)\n",
    "    return text\n",
    "\n",
    "def get_cellbank_australia_attributes(driver, text, model_id, model_number):\n",
    "    df = pd.DataFrame()\n",
    "    df['catalog'] = [model_number]\n",
    "    df['model_id'] = model_id\n",
    "    div = driver.find_elements(By.ID, 'content_description')[0]\n",
    "    div = BeautifulSoup(div.get_attribute(\"outerHTML\"), 'html.parser')\n",
    "    df['publications'] = 'PMID: '+div.text.strip().split('PubMed ')[1][0:8].replace('\\n', '')\n",
    "    div = [r for r in div.find_all('p') if r.text.strip() != '']\n",
    "    div = [r.text.strip().replace(\"\\xa0\", \"\").replace(\": \", \":\").replace('PubMed ', 'PMID:').replace('Reference:', '').split(\":\") for r in div if not r.text.__contains__('Ratio') or r.text.__contains__(';')]\n",
    "    div = [r for r in div if len(r)>1]\n",
    "    for r in div:\n",
    "        df[r[0].lower().replace(' ', '_')] = r[1]\n",
    "    text = pd.concat([text, df]).reset_index(drop=True)\n",
    "    return text\n",
    "\n",
    "def get_phe_culture_attributes(driver, text, model_id, model_number):\n",
    "    df = pd.DataFrame()\n",
    "    df['catalog'] = [model_number]\n",
    "    df['model_id'] = model_id\n",
    "    try:\n",
    "        WebDriverWait(driver, 10).until(EC.presence_of_element_located((By.XPATH, \"//span[contains(text(), 'Recommended Settings')]\"))).click()\n",
    "    except Exception as e:\n",
    "        pass\n",
    "    try:\n",
    "        WebDriverWait(driver, 10).until(EC.presence_of_element_located((By.XPATH, \"//a[contains(text(), 'Characteristics')]\"))).click()\n",
    "        df = fetch_attribute_cultcol(driver, df)\n",
    "    except Exception as e:\n",
    "        pass\n",
    "    try:\n",
    "        WebDriverWait(driver, 10).until(EC.presence_of_element_located((By.XPATH, \"//a[contains(text(), 'Culture Conditions')]\"))).click()\n",
    "        df = fetch_attribute_cultcol(driver, df)\n",
    "    except Exception as e:\n",
    "        pass\n",
    "    try:\n",
    "        WebDriverWait(driver, 10).until(EC.presence_of_element_located((By.XPATH, \"//a[contains(text(), 'Applications')]\"))).click()\n",
    "        df = fetch_attribute_cultcol(driver, df)\n",
    "    except Exception as e:\n",
    "        pass    \n",
    "    text = pd.concat([text, df]).reset_index(drop=True)\n",
    "    return text\n",
    "\n",
    "def get_cancertools_attributes(driver, text, model_id, model_number):\n",
    "    try:\n",
    "        WebDriverWait(driver, 10).until(EC.presence_of_element_located((By.XPATH, \"//button[text()='Allow all']\"))).click()\n",
    "    except Exception as e:\n",
    "        pass\n",
    "    df = pd.DataFrame()\n",
    "    df['catalog'] = [model_number]\n",
    "    df['model_id'] = model_id   \n",
    "    div = driver.find_elements(By.CLASS_NAME, 'product-tabs-content')[0]\n",
    "    div = BeautifulSoup(div.get_attribute(\"outerHTML\"), 'html.parser')\n",
    "    div = div.find_all('div')[0].find_all('div')\n",
    "    for d in div:\n",
    "        if d.text.strip() == '':\n",
    "            continue\n",
    "        title = d.find('h4').text.strip().replace(' ', '_').lower()\n",
    "        rows = d.find_all('li')\n",
    "        pmid = ''\n",
    "        for r in rows:\n",
    "            if title == 'references':\n",
    "                pattern = r'PMID:\\s*(\\d+)'\n",
    "                match = search(pattern, r.find('strong').text.strip())\n",
    "                if match:\n",
    "                    pubmed_id = match.group(1)\n",
    "                    pubmed_id = 'PMID: '+ pubmed_id\n",
    "                else:\n",
    "                    pubmed_id = ''\n",
    "                if pubmed_id != '':\n",
    "                    pmid = f\"{pmid},{pubmed_id}\"\n",
    "                continue\n",
    "            else:\n",
    "                col = f\"{title}.{r.find('strong').text.strip().replace(':', '').replace(' ', '_').lower()}\"            \n",
    "                entry = f\"{r.find('strong').find_next_sibling(text=True).strip()}\"\n",
    "            df[col] = entry\n",
    "    df['publications'] = pmid[1:]\n",
    "    text = pd.concat([text, df]).reset_index(drop=True)\n",
    "    return text\n",
    "\n",
    "def get_cls_attributes(driver, text, model_id, model_number):\n",
    "    df = pd.DataFrame()\n",
    "    df['catalog'] = [model_number]\n",
    "    df['model_id'] = model_id\n",
    "    divs = driver.find_elements(By.ID, 'collapseFooter3')\n",
    "    for div in divs:\n",
    "        if div.text.strip() == \"\":\n",
    "            continue\n",
    "        table = BeautifulSoup(div.get_attribute(\"outerHTML\"), 'html.parser').find('table')\n",
    "        if table is None:\n",
    "            continue\n",
    "        h = [h.text.strip().replace(' ', '').lower() for h in table.find_all('th')]\n",
    "        d = [d.text.strip() for d in table.find_all('td')]\n",
    "        row = list(zip(h,d))\n",
    "        for r in row:\n",
    "            df[r[0]] = r[1]\n",
    "    text = pd.concat([text, df]).reset_index(drop=True)\n",
    "    return text\n"
   ],
   "metadata": {
    "collapsed": false,
    "ExecuteTime": {
     "end_time": "2024-04-15T14:15:58.075313Z",
     "start_time": "2024-04-15T14:15:57.898127Z"
    }
   },
   "execution_count": 1108
  },
  {
   "cell_type": "code",
   "outputs": [],
   "source": [
    "def fetch_in_vitro_attributes(in_vitro_models):\n",
    "    chrome_options = webdriver.ChromeOptions()\n",
    "    chrome_options.add_argument(\"--headless\")  # Run Chrome in headless mode if desired\n",
    "    chrome_options.add_argument('--no-sandbox')\n",
    "    chrome_options.add_argument('--disable-dev-shm-usage')\n",
    "    driver = webdriver.Chrome(service=Service(ChromeDriverManager().install()), options=chrome_options)\n",
    "    first = True\n",
    "    atcc, riken, kclb, dsmz  = pd.DataFrame(), pd.DataFrame(), pd.DataFrame(), pd.DataFrame()\n",
    "    iclc, addexbio, cellbankaus, cellbankjp  = pd.DataFrame(), pd.DataFrame(), pd.DataFrame(), pd.DataFrame()\n",
    "    cls, pheuk, cancertools  = pd.DataFrame(), pd.DataFrame(), pd.DataFrame()\n",
    "    for i in tqdm(range(in_vitro_models.shape[0])):\n",
    "        url = in_vitro_models['vendor_link'][i]\n",
    "        model_id = in_vitro_models['model_id'][i]\n",
    "        model_number = in_vitro_models['catalog_number'][i]\n",
    "        model_name = in_vitro_models['model_name'][i]\n",
    "        if (url == 'Not provided' or url.__contains__('bcrj.org.br') or url.__contains__('www.rockland.com') or \n",
    "                url.__contains__('www.cctcc.org') or url.__contains__('dtp.cancer.gov') or url.__contains__('ximbio.com') or url.__contains__('www.merckmillipore.com') or url.__contains__('catalog.coriell.org') or url.__contains__('www.fli.de') or url.__contains__('www.ibvr.org') or url.__contains__('catalog.bcrc.firdi.org.tw') or url.__contains__('www.cccells.org') or url.__contains__('www.cellosaurus.org') or url.__contains__('bioivt.com') or url.__contains__('www.kmcellbank.com') or url.__contains__('www.ubigene.us') or url.__contains__('www.abcam.com')):\n",
    "            continue\n",
    "        driver.get(url)\n",
    "        try:\n",
    "            if url.__contains__('atcc.org'):\n",
    "                first, atcc = get_atcc_attributes(first, driver, atcc, model_id)\n",
    "            elif url.__contains__('cellbank.snu.ac.kr'):\n",
    "                kclb = get_kclb_attributes(driver, kclb, model_id, model_number, model_name)\n",
    "            elif url.__contains__('cellbank.brc.riken.jp'):\n",
    "                riken = get_cellbank_riken(driver, riken, model_id, model_number)\n",
    "            elif url.__contains__('www.iclc.it'):\n",
    "                iclc = get_iclc_attributes(driver, iclc, model_id, model_number, model_name)\n",
    "            elif url.__contains__('dsmz.de'):\n",
    "                dsmz = get_dsmz_attributes(driver, dsmz, model_id, model_number)\n",
    "            elif url.__contains__('addexbio.com'):\n",
    "                addexbio = get_addexbio_attributes(driver, addexbio, model_id, model_number)\n",
    "            elif url.__contains__('cellbank.nibiohn.go.jp'):\n",
    "                cellbankjp = get_cellbank_jp_attributes(driver, cellbankjp, model_id, model_number)\n",
    "            elif url.__contains__('www.cellbankaustralia.com'):\n",
    "                cellbankaus = get_cellbank_australia_attributes(driver, cellbankaus, model_id, model_number)\n",
    "            elif url.__contains__('www.phe-culturecollections.org.uk'):\n",
    "                pheuk = get_phe_culture_attributes(driver, pheuk, model_id, model_number)\n",
    "            elif url.__contains__('www.cancertools.org'):\n",
    "                cancertools = get_cancertools_attributes(driver, cancertools, model_id, model_number)\n",
    "            elif url.__contains__('cls.shop'):\n",
    "                cls = get_cls_attributes(driver, cls, model_id, model_number)\n",
    "        except Exception as e:\n",
    "            print('Error')\n",
    "    driver.quit()\n",
    "    return [atcc, riken, kclb, dsmz, iclc, addexbio, cellbankaus, cellbankjp, cls, pheuk, cancertools]"
   ],
   "metadata": {
    "collapsed": false,
    "ExecuteTime": {
     "end_time": "2024-04-16T09:23:20.047109Z",
     "start_time": "2024-04-16T09:23:19.828141Z"
    }
   },
   "execution_count": 1126
  },
  {
   "cell_type": "code",
   "outputs": [],
   "source": [
    "attributes_dfs = fetch_in_vitro_attributes(cmp_sheet)\n",
    "attributes_dfs"
   ],
   "metadata": {
    "collapsed": false
   },
   "execution_count": null
  },
  {
   "cell_type": "code",
   "outputs": [],
   "source": [],
   "metadata": {
    "collapsed": false,
    "ExecuteTime": {
     "end_time": "2024-04-18T13:15:26.843955Z",
     "start_time": "2024-04-18T13:15:26.532347Z"
    }
   },
   "execution_count": 1589
  },
  {
   "cell_type": "code",
   "outputs": [],
   "source": [
    "[atcc, riken, kclb, dsmz, iclc, addexbio, cellbankaus, cellbankjp, cls, pheuk, cancertools] = attributes_dfs\n",
    "out_cols = ['model_id', 'growth_properties',\n",
    "       'growth_media', 'morphological_features',\n",
    "       'validation_technique', 'virology_status', 'other_publications',\n",
    "       'other_comments', 'contaminated', 'contamination_details',\n",
    "       'supplements', 'media_id', 'tumour_status', 'model_purity', 'SNP_analysis', 'passage_number']\n",
    "riken['growth_properties'] = riken['culture type'].fillna('Not provided').str.replace(' cells', '')\n",
    "\n",
    "riken['growth_media'] = riken['culture medium'].str.replace(' + ', '+').str.split('+', n=1, expand=True)[0].str.upper()\n",
    "riken['supplements'] = riken['culture medium'].str.replace(' + ', '+').str.split('+', n=1, expand=True)[1].str.upper().str.replace('+', ' + ').fillna('Not provided')\n",
    "riken['media_id'] = riken['culture medium'].str.replace(' + ', '+').str.split('+', n=1, expand=True)[0].str.upper().replace({\"RPMI1640\": \"ATCC 30-2001\", \"MEM\": \"SIGMA M4655\", \"DMEM (LOW GLUCOSE)\": \"GIBCO 11885-084\", \"HAMF10\": \"SIGMA N6908\", \"(HAMF12 : RPMI1640 = 1 : 1)\": \"SIGMA N6658\",\n",
    "\"HAMF12\": \"SIGMA N6658\", \"DMEM/HAMF12\": \"GIBCO 11320-033\", \"GIT\": \"Kohjin-bio Co.,Ltd 637-25715\", \"MCCOY'S 5A\": \"GIBCO 16600-082\", \"HUMEDIA-KG2\": \"KURABO KK-2150S\"\n",
    "})\n",
    "riken['morphological_features'] = riken['morphology']\n",
    "#riken['STR_analysis'] = ['Yes' if r != 'No' else r for r in riken['str(human)'].fillna('No')]\n",
    "riken['validation_technique'] = \"PCR\"\n",
    "na_str = \"Not provided\"\n",
    "virus = list()\n",
    "for x, y, z, a, b in zip(\n",
    "        [\"HIV: Not detected\" if r == \"(-)\" else r if r == na_str else f\"HIV: {r}\" for r in riken['virus (hiv)'].fillna(na_str)],\n",
    "        [\"HCV: Not detected\" if r == \"(-)\" else r if r == na_str else f\"HCV: {r}\" for r in riken['virus (hcv)'].fillna(na_str)],\n",
    "        [\"HBV: Not detected\" if r == \"(-)\" else r if r == na_str else f\"HBV: {r}\" for r in riken['virus (hbv)'].fillna(na_str)],\n",
    "        [\"EBV: Not detected\" if r == \"(-)\" else r if r == na_str else f\"EBV: {r.replace('(+)', 'Detected')}\" for r in riken['virus (ebv)'].fillna(na_str)],\n",
    "        [\"HTLV: Not detected\" if r == \"(-)\" else r if r == na_str else f\"HTLV: {r.replace('dna (+)', 'Detected')}\" for r in riken['virus (htlv-1)'].fillna(na_str)] ):\n",
    "    out = ''\n",
    "    if x != na_str:\n",
    "        out += x + ','\n",
    "    if y != na_str:\n",
    "        out += y + ','\n",
    "    if z != na_str:\n",
    "        out += z + ','\n",
    "    if a != na_str:\n",
    "        out += a + ','\n",
    "    if b != na_str:\n",
    "        out += b + ','\n",
    "    out = out[:-1]\n",
    "    if out == '':\n",
    "        out = na_str\n",
    "    virus.append(out)\n",
    "riken['virology_status'] = virus\n",
    "riken['other_publications'] = riken['publications']\n",
    "riken['other_comments'] = \"Passage method: \" + riken['passage method']+ \", Passage ratio: \" + riken['passage ratio'] + \", Isozyme: \" + riken['isozyme'].str.upper() \n",
    "riken['contaminated'] = [\"No\" if r == \"(-)\" else r if r == na_str else \"Yes\" for r in riken['mycoplasma'].fillna(na_str)]\n",
    "riken['contamination_details'] = [\"No contamination\" if r == \"(-)\" else r if r == na_str else \"mycoplasma\" for r in riken['mycoplasma'].fillna(na_str)]\n",
    "riken['model_purity'] = riken['metastatic ability'].fillna('no')\n",
    "riken['tumour_status'] = na_str\n",
    "riken['SNP_analysis'] = na_str\n",
    "riken['passage_number'] = na_str\n",
    "riken = riken[out_cols]\n",
    "\n",
    "kclb['growth_properties'] = kclb['info.growth_pattern'].fillna(na_str)\n",
    "kclb['growth_properties'] = ['monolayer' if gp.__contains__('monolayer') else gp for gp in kclb['growth_properties']]\n",
    "kclb['growth_media'] = kclb['method.kclb_media'].str.replace('  ', ' ').str.replace('Eagle', 'DMEM').str.replace('Dulbecco', 'DMEM').fillna(na_str).str.split(';', expand=True)[0].fillna(na_str)\n",
    "kclb['supplements'] = kclb['method.kclb_media'].str.replace('  ', ' ').str.replace('Eagle', 'DMEM').str.replace('Dulbecco', 'DMEM').fillna(na_str).str.split(';', expand=True)[1].fillna(na_str)\n",
    "kclb['media_id'] = [\"ATCC 30-2002\" if r.__contains__('DMEM') else \"ATCC 30-2001\" if r.__contains__('RPMI1640') else na_str for r in kclb['growth_media']]\n",
    "kclb['morphological_features'] = kclb['info.cellular_morphology'].fillna(\"Not provided\")\n",
    "kclb['validation_technique'] = \"PCR\"\n",
    "kclb['virology_status'] = na_str\n",
    "kclb['other_comments'] = \"Growth rate: \" + kclb['info.growth_rate'].fillna(na_str)  + \", Split ratio: \" + kclb['method.split_ratio'].fillna(na_str) + \", Doubling time: \" + kclb['method.populaton_doubling_time'].fillna(na_str)\n",
    "kclb['other_publications'] = kclb['references']\n",
    "kclb['contaminated'] = na_str\n",
    "kclb['contamination_details'] = na_str\n",
    "kclb['tumour_status'] = na_str\n",
    "kclb['model_purity'] = na_str\n",
    "kclb['SNP_analysis'] = na_str\n",
    "kclb['passage_number'] = na_str\n",
    "kclb = kclb[out_cols]\n",
    "\n",
    "dsmz['morphological_features'] = dsmz['morphology'].str.replace('image', '').str.replace('; ', '')\n",
    "dsmz['growth_properties'] = ['suspension' if gp.__contains__('suspension') else 'adherent' if gp.__contains__('adherent') else 'monolayer' if gp.__contains__('monolayer') else 'Not provided' for gp in dsmz['morphological_features'].str.lower().fillna(na_str)]\n",
    "dsmz['growth_media'] = dsmz['medium'].str.replace(' + ', '+').str.split('+', n=1, expand=True)[0].fillna(na_str)\n",
    "dsmz['supplements'] = dsmz['medium'].str.replace(' + ', '+').str.split('+', n=1, expand=True)[1].str.replace('+', ' + ').fillna(na_str)\n",
    "dsmz['media_id'] = ['DMEM' if med.__contains__('DMEM') else 'RPMI1640' if med.__contains__('RPMI 1640') else \"HamF12\" if med.__contains__(\"Ham's F12\") else  'MEM' if med.__contains__('MEM') and med != 'DMEM' and not med.__contains__('alpha') else med \n",
    "                    for med in dsmz['medium'].str.replace(' + ', '+').str.split('+', n=1, expand=True)[0].str.replace('\\d+-?\\d*\\.?\\d+\\%\\s', '',regex=True).fillna(na_str)]\n",
    "dsmz['media_id'] = dsmz['media_id'].replace({\"McCoy's 5A\": \"SIGMA M9309\", \"RPMI1640\": \"ATCC 30-2001\", \"DMEM\": \"ATCC 30-2002\", \"Iscove's MDM\": \"SIGMA I3390\", \"alpha-MEM (with ribo- and deoxyribonucleosides)\": \"SIGMA M4526\", \"HamF12\": \"SIGMA N6658\", \"MEM\": \"SIGMA M4655\", \"Ham's F10\": \"SIGMA N6908\", \"NCTC-109\": \"SIGMA N1140\"})\n",
    "dsmz['validation_technique'] = \"PCR assays/ELISA/RNA Hybridization\"\n",
    "dsmz['virology_status'] = dsmz['viruses'].str.replace(' -', ': Not detected').str.replace(' negative', ': Not detected').str.replace('PCR:|ELISA:', '',regex=True).str.replace(' +', ': Detected').str.replace(';', ',').fillna(na_str)\n",
    "dsmz['other_comments'] = \"Doubling time: \" + dsmz['doubling_time'] + \", Harvest: \" + dsmz['harvest']\n",
    "dsmz['other_publications'] = ''\n",
    "dsmz['contaminated'] = 'No'\n",
    "dsmz['contamination_details'] = dsmz['mycoplasma']\n",
    "dsmz['model_purity'] = na_str\n",
    "dsmz['passage_number'] = na_str\n",
    "dsmz['tumour_status'] = ['Yes' if f.__contains__('expression') else 'No' for f in dsmz['molec_genetics'].str.lower().fillna(na_str)]\n",
    "dsmz['SNP_analysis'] = ['Yes' if f.__contains__('mutations') else 'No' for f in dsmz['molec_genetics'].str.lower().fillna(na_str)]\n",
    "dsmz = dsmz[out_cols]\n",
    "\n",
    "iclc['growth_properties'] = iclc['morphology_and_growth'].str.replace('continuous culture, ', '').str.replace('in|as|grown| ', '',regex=True).str.split(',',n=1,expand=True)[0].fillna(na_str)\n",
    "iclc['morphological_features'] = iclc['morphology_and_growth'].str.replace('continuous culture, ', '').str.replace('morphology ', '',regex=True).str.replace('neuroblastic-like', 'neuroblast-like').str.split(',',n=1,expand=True)[1].fillna(na_str)\n",
    "media = {\"DMEM\": \"\", \"RPMI 1640\": \"\", \"Ham's F10\": \"\"}\n",
    "iclc['growth_media'] = [f if f in media.keys() else na_str for f in iclc['culture_conditions'].str.replace(' + ', '+').str.split('+', n=1, expand=True).fillna(na_str)[0]]\n",
    "iclc['media_id'] = iclc['growth_media'].replace({\"RPMI 1640\": \"ATCC 30-2001\", \"DMEM\": \"ATCC 30-2002\", \"Ham's F10\": \"SIGMA N6908\"})\n",
    "iclc['supplements'] = iclc['culture_conditions'].str.replace(' + ', '+').str.split('+', n=1, expand=True).fillna(na_str)[1].str.replace('+', ' + ').str.replace(';.*', '',regex=True)\n",
    "iclc['validation_technique'] = 'PCR'\n",
    "iclc['other_comments'] = 'Culture notes: ' + iclc['culture_conditions'].str.split('; ', n=1, expand=True).fillna(na_str)[1]\n",
    "iclc['other_comments'] = iclc['comments'].fillna('') + iclc['other_comments']\n",
    "iclc['virology_status'] = na_str\n",
    "iclc['other_publications'] = iclc['publications']\n",
    "iclc['contaminated'] = na_str\n",
    "iclc['contamination_details'] = na_str\n",
    "iclc['model_purity'] = na_str\n",
    "iclc['tumour_status'] = na_str\n",
    "iclc['SNP_analysis'] = na_str\n",
    "iclc['passage_number'] = iclc['passage_number'].fillna(na_str)\n",
    "iclc = iclc[out_cols]\n",
    "\n",
    "addexbio['growth_properties'] = ['Mix of adherent and suspension' if f.__contains__('mixed') else 'Adherent' if f.__contains__('adherent') else 'Suspension' if f.__contains__('suspension') else na_str for f in addexbio['properties'].str.lower().fillna(na_str)]\n",
    "addexbio['morphological_features'] = addexbio['morphology'].str.replace('(;|\\.).*|, epithelial-like', '', regex=True).str.replace(' $', '', regex=True)\n",
    "addexbio['growth_media'] = addexbio['medium'].str.replace('\\s*\\(.*', '', regex=True).str.replace(' Medium', '').str.replace(' + ', '+').str.split('+', n=1, expand=True).fillna(na_str)[0].str.replace('^\\s|\\s$', '', regex=True).str.replace('RPMI1640', 'RPMI-1640').str.replace('AddexBio-Formulated DMEM', 'AddexBio-formulated DMEM').str.replace(\"Iscove's Modified Dulbecco's\", \"IMDM\")\n",
    "addexbio['media_id'] = addexbio['growth_media'].replace({\"AddexBio-formulated DMEM\": \"AddexBio C0003-01\", \"AddexBio-formulated EMEM\": \"AddexBio C0005-01\", \"AddexBio-formulated Leibovitz's L-15\": \"AddexBio C0006-01\", \"AddexBio-formulated RPMI-1640\": \"AddexBio C0004-01\", \"EMEM\": \"AddexBio C0005-01\", \"DMEM/F12\": na_str, \"DMEM/F12\": \"GIBCO 11320-033\", \"F12K\": \"SIGMA N3520\", \"Ham's F-12\": \"SIGMA N6658\", \"IMDM\": \"SIGMA I3390\", \"McCoy's 5a\": \"SIGMA M9309\", \"RPMI-1640\": \"AddexBio C0004-01\"})\n",
    "addexbio['supplements'] = addexbio['medium'].str.replace('\\s*\\(.*', '', regex=True).str.replace(' Medium', '').str.replace(' + ', '+').str.split('+', n=1, expand=True).fillna(na_str)[1].str.replace('^\\s|\\s$', '', regex=True).str.replace('+', ' + ')\n",
    "addexbio['validation_technique'] = 'PCR'\n",
    "addexbio['other_comments'] = ''\n",
    "addexbio['virology_status'] = ['HIV: resitant' if a or b or c or d or e or f else 'Not detected' for a,b,c,d,e,f in zip([False if f == 'Negative' else True for f in addexbio['pathogens.cmv'].str.replace('\\t|</p></div>', '', regex=True).fillna('Negative')],\n",
    "[False if f == 'Negative' else True for f in addexbio['pathogens.hiv'].str.replace('\\t|</p></div>', '', regex=True).fillna('Negative')],\n",
    "[False if f == 'Negative' else True for f in addexbio['pathogens.hepatitis b'].str.replace('\\t|</p></div>', '', regex=True).fillna('Negative')],\n",
    "[False if f == 'Negative' else True for f in addexbio['pathogens.hepatitis c'].str.replace('\\t|</p></div>', '', regex=True).fillna('Negative')],\n",
    "[False if f == 'Negative' else True for f in addexbio['pathogens.hpv'].str.replace('\\t|</p></div>', '', regex=True).fillna('Negative')],\n",
    "[False if f == 'Negative' else True for f in addexbio['pathogens.ebv'].str.replace('\\t|</p></div>', '', regex=True).fillna('Negative')])]\n",
    "addexbio['other_publications'] = ''\n",
    "\n",
    "addexbio['contaminated'] = ['Yes' if x or y or z else 'No' for x,y,z in zip([False if f == 'Negative' else True for f in addexbio['sterility.bacteria'].fillna('Negative')],\n",
    "[False if f == 'Negative' else True for f in addexbio['sterility.yeast'].fillna('Negative')],\n",
    "[False if f == 'Negative' else True for f in addexbio['sterility.mycoplasma'].fillna('Negative')])]\n",
    "addexbio['contamination_details'] = [f\"{x}, {y}, {z}\"for x,y,z in zip(['Bacteria: Not detected' if f == 'Negative' else 'Bacteria: Detected' for f in addexbio['sterility.bacteria'].fillna('Negative')],\n",
    "['Yeast: Not detected' if f == 'Negative' else 'Yeast: Detected' for f in addexbio['sterility.yeast'].fillna('Negative')],\n",
    "['Mycoplasma: Not detected' if f == 'Negative' else 'Mycoplasma: Detected' for f in addexbio['sterility.mycoplasma'].fillna('Negative')])]\n",
    "\n",
    "addexbio['model_purity'] = na_str\n",
    "addexbio['tumour_status'] = na_str\n",
    "addexbio['SNP_analysis'] = na_str\n",
    "addexbio['passage_number'] = na_str\n",
    "addexbio = addexbio[out_cols]\n",
    "\n",
    "cellbankaus['growth_properties'] = 'Adherent'\n",
    "cellbankaus['morphological_features'] = cellbankaus['morphology'].str.replace('Large,', 'Large')\n",
    "cellbankaus['growth_media'] = cellbankaus['growth_medium'].str.replace('\\s\\(|,\\s', ' + ', regex=True).str.replace(')', '').str.replace(' + ', '+').str.split('+',n=1,expand=True)[0]\n",
    "cellbankaus['supplements'] = cellbankaus['growth_medium'].str.replace('\\s\\(|,\\s', ' + ', regex=True).str.replace(')', '').str.replace(' + ', '+').str.split('+',n=1,expand=True)[1].str.replace('+', ' + ')\n",
    "cellbankaus['media_id'] = \"ATCC 30-2001\"\n",
    "cellbankaus['validation_technique'] = 'PCR'\n",
    "cellbankaus['other_comments'] = ''\n",
    "cellbankaus['virology_status'] = na_str\n",
    "cellbankaus['other_publications'] = cellbankaus['publications']\n",
    "cellbankaus['contaminated'] = na_str\n",
    "cellbankaus['contamination_details'] = na_str\n",
    "cellbankaus['model_purity'] = na_str\n",
    "cellbankaus['tumour_status'] = na_str\n",
    "cellbankaus['SNP_analysis'] = na_str\n",
    "cellbankaus['passage_number'] = na_str\n",
    "cellbankaus = cellbankaus[out_cols]\n",
    "\n",
    "cellbankjp['growth_properties'] = cellbankjp['Medium'].str.split('+')\n",
    "cellbankjp['morphological_features'] = cellbankjp['Morphology']\n",
    "cellbankjp['growth_media'] = cellbankjp['Medium'].str.replace('\\(GIBCO\\)', '',regex=True).str.replace('\\s?with\\s?|\\s?;\\s?', '+', regex=True).str.split('+', expand=True, n=1)[0].str.replace(\"^\\s*|\\s*$\", \"\",regex=True).str.replace(\"RPMI 1640|RPMI-1640|RPMI-1640 medium|RPMI1640 medium\\s*|RPMI 1640 medium\", \"RPMI1640\",regex=True).str.replace('RPMI1640 medium', 'RPMI1640').str.replace(\"Dulbecco's modified Eagle's medium|D\\.MEM\", \"DMEM\",regex=True).str.replace(\"Eagle's minimal essential medium|Eagle's minimum essential medium|Eagle's MEM|E\\.MEM\", \"EMEM\",regex=True).str.replace(\"William's E medium|Williamms' E medium|Williams' E medium|Williams' medium E\", \"William's E medium\",regex=True).str.replace(\"alpha-MEM medium|alpha-MEM\", \"Alpha MEM\",regex=True)\n",
    "cellbankjp['supplements'] = cellbankjp['Medium'].str.replace('\\(GIBCO\\)', '',regex=True).str.replace('\\s?with\\s?|\\s?;\\s?', '+', regex=True).str.split('+', expand=True, n=1)[1].str.replace(\"^\\s*|\\s*$|\\s{2,}\", \" \",regex=True)\n",
    "cellbankjp['media_id'] = na_str\n",
    "cellbankjp['validation_technique'] = 'PCR'\n",
    "cellbankjp['other_comments'] = \"Cell Density at Seeding: \" + cellbankjp['Cell Density at Seeding'] + \", Doubling Time: \" + cellbankjp[\"Doubling Time\"] + \", Cell Number in Vial (cells/1ml): \" + cellbankjp['Cell Number in Vial (cells/1ml)'] + \", Viability at cell freezing (%): \" + cellbankjp['Viability at cell freezing (%)'] + \", Isozyme Analysis: \" + cellbankjp[\"Isozyme Analysis\"]\n",
    "cellbankjp['virology_status'] = \"Not detected\"\n",
    "cellbankjp['other_publications'] = na_str#cellbankjp['publications']\n",
    "cellbankjp['contaminated'] = [\"Yes\" if x == \"+\" or y == \"+\" or z == \"+\" else \"No\" for x,y,z in zip(cellbankjp[\"Sterility: MYCOPLASMA\"].str.replace('NT', '').fillna(''), cellbankjp[\"Sterility: BACTERIA\"].str.replace('NT', '').fillna(''), cellbankjp[\"Sterility: FUNGI\"].str.replace('NT', '').fillna(''))]\n",
    "contamination = list()\n",
    "for x,y,z in zip(cellbankjp[\"Sterility: MYCOPLASMA\"].str.replace('NT', '').fillna(''), cellbankjp[\"Sterility: BACTERIA\"].str.replace('NT', '').fillna(''), cellbankjp[\"Sterility: FUNGI\"].str.replace('NT', '').fillna('')):\n",
    "    detail = \"\"\n",
    "    if x == \"+\":\n",
    "        detail += \",Mycoplasma: Detected\"\n",
    "    if y == \"+\":\n",
    "        detail += \",Bacteria: Detected\"\n",
    "    if z == \"+\":\n",
    "        detail += \",Fungi: Detected\"\n",
    "    detail = detail[1:]\n",
    "    contamination.append(detail)\n",
    "cellbankjp['contamination_details'] = contamination\n",
    "cellbankjp['model_purity'] = na_str\n",
    "cellbankjp['tumour_status'] = [\"Yes\" if f == \"tumour\" else \"No\" for f in cellbankjp[\"Classify\"].str.replace('tumor', 'tumour')]\n",
    "cellbankjp['SNP_analysis'] = na_str\n",
    "cellbankjp['passage_number'] = cellbankjp['Passage Number'].str.replace('Unknown|[a-zA-Z]|\\(|\\)|\\-|\\s*|\\*', '',regex=True)\n",
    "cellbankjp = cellbankjp[out_cols]\n",
    "\n",
    "cancertools['growth_properties'] = cancertools['tool_details.growth_properties'].fillna(na_str)\n",
    "cancertools['morphological_features'] = na_str\n",
    "cancertools['growth_media'] = cancertools['handling.growth_medium'].str.replace(\"?\\x84?\\x9e\", ' ').str.replace(' + ', '+').str.split('+',n=1,expand=True)[0].str.replace(\"?\\x82Â°C\", '').str.replace('?\\x8bÂ\\x9b', '').fillna(na_str)\n",
    "cancertools['supplements'] = cancertools['handling.growth_medium'].str.replace(\"?\\x84?\\x9e\", ' ').str.replace(' + ', '+').str.split('+',n=1,expand=True)[1].str.replace('+', ' + ').str.replace('.', '').fillna(na_str)\n",
    "cancertools['media_id'] = na_str\n",
    "cancertools['validation_technique'] = 'PCR'\n",
    "cancertools['other_comments'] = ''\n",
    "cancertools['virology_status'] = na_str\n",
    "cancertools['other_publications'] = cancertools['publications']\n",
    "cancertools['contaminated'] = na_str\n",
    "cancertools['contamination_details'] = na_str\n",
    "cancertools['model_purity'] = na_str\n",
    "cancertools['tumour_status'] = na_str\n",
    "cancertools['SNP_analysis'] = na_str\n",
    "cancertools['passage_number'] = na_str\n",
    "cancertools = cancertools[out_cols]\n",
    "\n",
    "pheuk['growth_properties'] = ['Adherent' if f.__contains__('adherent') else 'Suspension' if f.__contains__('suspension') else na_str for f in pheuk['growth_mode'].fillna(na_str).str.lower()]\n",
    "pheuk['morphological_features'] = pheuk['morphology'].fillna(na_str)\n",
    "pheuk['growth_media'] = pheuk['culture_medium'].str.replace(\"and\", \":\").str.replace(\" mixture\", \"\").str.replace(\"Ham's F12\", \"HAMS F12\").str.replace('RPM1 1640', 'RPMI 1640').str.replace('\\s+\\+\\s+', '+', regex=True).fillna(na_str).str.split('+', n=1, expand=True)[0]\n",
    "pheuk['supplements'] = pheuk['culture_medium'].str.replace('\\s+\\+\\s+', '+', regex=True).fillna(na_str).str.split('+', n=1, expand=True)[1].fillna(na_str).str.replace(\"+\", \" + \")\n",
    "pheuk['media_id'] = na_str\n",
    "pheuk['validation_technique'] = 'PCR'\n",
    "pheuk['other_comments'] = ''\n",
    "pheuk['virology_status'] = na_str\n",
    "pheuk['other_publications'] = ''#pheuk['publications']\n",
    "pheuk['contaminated'] = na_str\n",
    "pheuk['contamination_details'] = na_str\n",
    "pheuk['model_purity'] = na_str\n",
    "pheuk['tumour_status'] = na_str\n",
    "pheuk['SNP_analysis'] = na_str\n",
    "pheuk['passage_number'] = na_str\n",
    "pheuk = pheuk[out_cols]\n",
    "\n",
    "medium = atcc['handling_information.complete_medium'].str.replace(\"RPMI 1640 medium with 0.02 mg/ml 8-azaguanine, 80%; fetal bovine serum, 20%\", \"cell line is RPMI 1640 medium with 0.02 mg/ml 8-azaguanine, 80%; fetal bovine serum, 20%\").str.replace(\"These cells are grown in a medium containing a\", \"cell line is \").str.replace(\"These cells are grown in\", \"cell line is \").str.replace(\"cells is \", \"cell line is \").str.replace(\"HITES medium\", \"cell line is HITES medium\").str.replace(\"ATCC formulated\", \"ATCC-formulated: \").str.replace(\"cell line is \", \"cell line is a$\").str.split('$', expand=True)\n",
    "\n",
    "for i in range(medium.shape[0]):\n",
    "    media = medium[1][i]\n",
    "    if media is None:\n",
    "        media = medium[0][i]\n",
    "    else:\n",
    "        if medium[2][i] is not None:\n",
    "            media = media + \" \" + medium[2][i]\n",
    "        continue\n",
    "    medium[1][i] = media\n",
    "medium = medium[1].str.replace('The base medium.*|\\s?To make.*', '', regex=True).str.replace(\",?\\s?Catalog\", \"$Catalog\", regex=True).str.replace(\",\\s?ATCC\\s?\", \"$ATCC \", regex=True).str.split('$', n=1,expand=True)\n",
    "medium[1] = medium[1].str.replace(\",.*\", \"\", regex=True).str.replace(\"\\n.*\", \"\", regex=True).str.replace(\"\\s?\\.\\s*$\", \"\", regex=True).str.replace(\" and.*\", \"\", regex=True).str.replace(\"Catalog No.\", \"ATCC\")\n",
    "\n",
    "atcc['growth_properties'] = atcc['characteristics.growth_properties'].fillna(na_str)\n",
    "atcc['morphological_features'] = atcc['product_information.morphology'].fillna('Not provided')\n",
    "atcc['growth_media'] = medium[0] \n",
    "atcc['supplements'] = na_str\n",
    "atcc['media_id'] = medium[1]\n",
    "atcc['validation_technique'] = 'PCR'\n",
    "atcc['other_comments'] = ''\n",
    "atcc['virology_status'] = na_str\n",
    "atcc['other_publications'] = ''\n",
    "atcc['contaminated'] = np.where((atcc['quality_control_specifications.bacterial_and_fungal_testing'] == 'Not detected') & (atcc['quality_control_specifications.mycoplasma_contamination'] == 'Not detected'), 'Yes', 'No')\n",
    "atcc['contamination_details'] = np.where((atcc['quality_control_specifications.bacterial_and_fungal_testing'] == 'Not detected') & (atcc['quality_control_specifications.mycoplasma_contamination'] == 'Not detected'), 'No contamination detected', 'Bacterial/Fungal/Mycoplasma detected')\n",
    "atcc['model_purity'] = na_str\n",
    "atcc['tumour_status'] = np.where(atcc['characteristics.metastatic'].fillna('Not provided') == 'Not provided', 'Not provided', 'Yes')\n",
    "atcc['SNP_analysis'] = np.where(atcc['quality_control_specifications.str_profiling'].fillna('Not provided') == 'Not provided', 'No', 'Yes')\n",
    "atcc['passage_number'] = na_str\n",
    "atcc = atcc[out_cols]"
   ],
   "metadata": {
    "collapsed": false,
    "ExecuteTime": {
     "end_time": "2024-04-18T13:18:32.562996Z",
     "start_time": "2024-04-18T13:18:32.155446Z"
    }
   },
   "execution_count": 1597
  },
  {
   "cell_type": "code",
   "outputs": [],
   "source": [
    "cmp_sheet['publications']=[','.join(set(f))for f in cmp_sheet['publications'].fillna(na_str).str.split(',')]"
   ],
   "metadata": {
    "collapsed": false,
    "ExecuteTime": {
     "end_time": "2024-04-19T09:15:12.814782Z",
     "start_time": "2024-04-19T09:15:12.607976Z"
    }
   },
   "execution_count": 1608
  },
  {
   "cell_type": "code",
   "outputs": [
    {
     "data": {
      "text/plain": "       model_id growth_properties  \\\n0     SIDM01229          Adherent   \n1     SIDM00019          Adherent   \n2     SIDM01168          Adherent   \n3     SIDM01183          Adherent   \n4     SIDM00849          Adherent   \n...         ...               ...   \n1273  SIDM01810          Adherent   \n1274  SIDM01830          Adherent   \n1275  SIDM01811          Adherent   \n1276  SIDM01829          Adherent   \n1277  SIDM01857          Adherent   \n\n                                           growth_media  \\\n0     a 1:1 mixture of ATCC-formulated Eagle's Minim...   \n1                      ATCC-formulated RPMI-1640 Medium   \n2               ATCC-formulated Leibovitz's L-15 Medium   \n3                      ATCC-formulated RPMI-1640 Medium   \n4      ATCC-formulated Eagle's Minimum Essential Medium   \n...                                                 ...   \n1273  Split sub-confluent cultures (70-80%), approxi...   \n1274  Cells were grown in Eagle's Minimum Essential ...   \n1275  Split sub-confluent cultures (70-80%), approxi...   \n1276  Cells were grown in Eagle's Minimum Essential ...   \n1277  Split sub-confluent cultures (70-80%), approxi...   \n\n     morphological_features validation_technique virology_status  \\\n0                neuroblast                  PCR    Not provided   \n1                epithelial                  PCR    Not provided   \n2                epithelial                  PCR    Not provided   \n3                epithelial                  PCR    Not provided   \n4                epithelial                  PCR    Not provided   \n...                     ...                  ...             ...   \n1273           Not provided                  PCR    Not provided   \n1274           Not provided                  PCR    Not provided   \n1275           Not provided                  PCR    Not provided   \n1276           Not provided                  PCR    Not provided   \n1277           Not provided                  PCR    Not provided   \n\n                             other_publications other_comments  contaminated  \\\n0                                                                         No   \n1                                                                         No   \n2                                                                         No   \n3                                                                         No   \n4                                                                         No   \n...                                         ...            ...           ...   \n1273  PMID: 8855977,PMID: 7633286,PMID: 7508893                 Not provided   \n1274                              PMID: 4038766                 Not provided   \n1275  PMID: 7633286,PMID: 7508893,PMID: 8286215                 Not provided   \n1276                              PMID: 4038766                 Not provided   \n1277  PMID: 7633286,PMID: 7508893,PMID: 8286215                 Not provided   \n\n                     contamination_details  \\\n0     Bacterial/Fungal/Mycoplasma detected   \n1     Bacterial/Fungal/Mycoplasma detected   \n2     Bacterial/Fungal/Mycoplasma detected   \n3     Bacterial/Fungal/Mycoplasma detected   \n4     Bacterial/Fungal/Mycoplasma detected   \n...                                    ...   \n1273                          Not provided   \n1274                          Not provided   \n1275                          Not provided   \n1276                          Not provided   \n1277                          Not provided   \n\n                                            supplements      media_id  \\\n0                                          Not provided  ATCC 30-2003   \n1                                          Not provided  ATCC 30-2001   \n2                                          Not provided  ATCC 30-2008   \n3                                          Not provided  ATCC 30-2001   \n4                                          Not provided  ATCC 30-2003   \n...                                                 ...           ...   \n1273           2mM Glutamine + 10% Foetal Bovine Serum   Not provided   \n1274                                       Not provided  Not provided   \n1275          2mM Glutamine + 10% Foetal Bovine Serum (  Not provided   \n1276                                       Not provided  Not provided   \n1277  2mM Glutamine + 10% Foetal Bovine Serum (FBS) ...  Not provided   \n\n     tumour_status  model_purity  SNP_analysis passage_number  \n0              Yes  Not provided           Yes   Not provided  \n1              Yes  Not provided           Yes   Not provided  \n2     Not provided  Not provided           Yes   Not provided  \n3     Not provided  Not provided           Yes   Not provided  \n4     Not provided  Not provided           Yes   Not provided  \n...            ...           ...           ...            ...  \n1273  Not provided  Not provided  Not provided   Not provided  \n1274  Not provided  Not provided  Not provided   Not provided  \n1275  Not provided  Not provided  Not provided   Not provided  \n1276  Not provided  Not provided  Not provided   Not provided  \n1277  Not provided  Not provided  Not provided   Not provided  \n\n[1278 rows x 16 columns]",
      "text/html": "<div>\n<style scoped>\n    .dataframe tbody tr th:only-of-type {\n        vertical-align: middle;\n    }\n\n    .dataframe tbody tr th {\n        vertical-align: top;\n    }\n\n    .dataframe thead th {\n        text-align: right;\n    }\n</style>\n<table border=\"1\" class=\"dataframe\">\n  <thead>\n    <tr style=\"text-align: right;\">\n      <th></th>\n      <th>model_id</th>\n      <th>growth_properties</th>\n      <th>growth_media</th>\n      <th>morphological_features</th>\n      <th>validation_technique</th>\n      <th>virology_status</th>\n      <th>other_publications</th>\n      <th>other_comments</th>\n      <th>contaminated</th>\n      <th>contamination_details</th>\n      <th>supplements</th>\n      <th>media_id</th>\n      <th>tumour_status</th>\n      <th>model_purity</th>\n      <th>SNP_analysis</th>\n      <th>passage_number</th>\n    </tr>\n  </thead>\n  <tbody>\n    <tr>\n      <th>0</th>\n      <td>SIDM01229</td>\n      <td>Adherent</td>\n      <td>a 1:1 mixture of ATCC-formulated Eagle's Minim...</td>\n      <td>neuroblast</td>\n      <td>PCR</td>\n      <td>Not provided</td>\n      <td></td>\n      <td></td>\n      <td>No</td>\n      <td>Bacterial/Fungal/Mycoplasma detected</td>\n      <td>Not provided</td>\n      <td>ATCC 30-2003</td>\n      <td>Yes</td>\n      <td>Not provided</td>\n      <td>Yes</td>\n      <td>Not provided</td>\n    </tr>\n    <tr>\n      <th>1</th>\n      <td>SIDM00019</td>\n      <td>Adherent</td>\n      <td>ATCC-formulated RPMI-1640 Medium</td>\n      <td>epithelial</td>\n      <td>PCR</td>\n      <td>Not provided</td>\n      <td></td>\n      <td></td>\n      <td>No</td>\n      <td>Bacterial/Fungal/Mycoplasma detected</td>\n      <td>Not provided</td>\n      <td>ATCC 30-2001</td>\n      <td>Yes</td>\n      <td>Not provided</td>\n      <td>Yes</td>\n      <td>Not provided</td>\n    </tr>\n    <tr>\n      <th>2</th>\n      <td>SIDM01168</td>\n      <td>Adherent</td>\n      <td>ATCC-formulated Leibovitz's L-15 Medium</td>\n      <td>epithelial</td>\n      <td>PCR</td>\n      <td>Not provided</td>\n      <td></td>\n      <td></td>\n      <td>No</td>\n      <td>Bacterial/Fungal/Mycoplasma detected</td>\n      <td>Not provided</td>\n      <td>ATCC 30-2008</td>\n      <td>Not provided</td>\n      <td>Not provided</td>\n      <td>Yes</td>\n      <td>Not provided</td>\n    </tr>\n    <tr>\n      <th>3</th>\n      <td>SIDM01183</td>\n      <td>Adherent</td>\n      <td>ATCC-formulated RPMI-1640 Medium</td>\n      <td>epithelial</td>\n      <td>PCR</td>\n      <td>Not provided</td>\n      <td></td>\n      <td></td>\n      <td>No</td>\n      <td>Bacterial/Fungal/Mycoplasma detected</td>\n      <td>Not provided</td>\n      <td>ATCC 30-2001</td>\n      <td>Not provided</td>\n      <td>Not provided</td>\n      <td>Yes</td>\n      <td>Not provided</td>\n    </tr>\n    <tr>\n      <th>4</th>\n      <td>SIDM00849</td>\n      <td>Adherent</td>\n      <td>ATCC-formulated Eagle's Minimum Essential Medium</td>\n      <td>epithelial</td>\n      <td>PCR</td>\n      <td>Not provided</td>\n      <td></td>\n      <td></td>\n      <td>No</td>\n      <td>Bacterial/Fungal/Mycoplasma detected</td>\n      <td>Not provided</td>\n      <td>ATCC 30-2003</td>\n      <td>Not provided</td>\n      <td>Not provided</td>\n      <td>Yes</td>\n      <td>Not provided</td>\n    </tr>\n    <tr>\n      <th>...</th>\n      <td>...</td>\n      <td>...</td>\n      <td>...</td>\n      <td>...</td>\n      <td>...</td>\n      <td>...</td>\n      <td>...</td>\n      <td>...</td>\n      <td>...</td>\n      <td>...</td>\n      <td>...</td>\n      <td>...</td>\n      <td>...</td>\n      <td>...</td>\n      <td>...</td>\n      <td>...</td>\n    </tr>\n    <tr>\n      <th>1273</th>\n      <td>SIDM01810</td>\n      <td>Adherent</td>\n      <td>Split sub-confluent cultures (70-80%), approxi...</td>\n      <td>Not provided</td>\n      <td>PCR</td>\n      <td>Not provided</td>\n      <td>PMID: 8855977,PMID: 7633286,PMID: 7508893</td>\n      <td></td>\n      <td>Not provided</td>\n      <td>Not provided</td>\n      <td>2mM Glutamine + 10% Foetal Bovine Serum</td>\n      <td>Not provided</td>\n      <td>Not provided</td>\n      <td>Not provided</td>\n      <td>Not provided</td>\n      <td>Not provided</td>\n    </tr>\n    <tr>\n      <th>1274</th>\n      <td>SIDM01830</td>\n      <td>Adherent</td>\n      <td>Cells were grown in Eagle's Minimum Essential ...</td>\n      <td>Not provided</td>\n      <td>PCR</td>\n      <td>Not provided</td>\n      <td>PMID: 4038766</td>\n      <td></td>\n      <td>Not provided</td>\n      <td>Not provided</td>\n      <td>Not provided</td>\n      <td>Not provided</td>\n      <td>Not provided</td>\n      <td>Not provided</td>\n      <td>Not provided</td>\n      <td>Not provided</td>\n    </tr>\n    <tr>\n      <th>1275</th>\n      <td>SIDM01811</td>\n      <td>Adherent</td>\n      <td>Split sub-confluent cultures (70-80%), approxi...</td>\n      <td>Not provided</td>\n      <td>PCR</td>\n      <td>Not provided</td>\n      <td>PMID: 7633286,PMID: 7508893,PMID: 8286215</td>\n      <td></td>\n      <td>Not provided</td>\n      <td>Not provided</td>\n      <td>2mM Glutamine + 10% Foetal Bovine Serum (</td>\n      <td>Not provided</td>\n      <td>Not provided</td>\n      <td>Not provided</td>\n      <td>Not provided</td>\n      <td>Not provided</td>\n    </tr>\n    <tr>\n      <th>1276</th>\n      <td>SIDM01829</td>\n      <td>Adherent</td>\n      <td>Cells were grown in Eagle's Minimum Essential ...</td>\n      <td>Not provided</td>\n      <td>PCR</td>\n      <td>Not provided</td>\n      <td>PMID: 4038766</td>\n      <td></td>\n      <td>Not provided</td>\n      <td>Not provided</td>\n      <td>Not provided</td>\n      <td>Not provided</td>\n      <td>Not provided</td>\n      <td>Not provided</td>\n      <td>Not provided</td>\n      <td>Not provided</td>\n    </tr>\n    <tr>\n      <th>1277</th>\n      <td>SIDM01857</td>\n      <td>Adherent</td>\n      <td>Split sub-confluent cultures (70-80%), approxi...</td>\n      <td>Not provided</td>\n      <td>PCR</td>\n      <td>Not provided</td>\n      <td>PMID: 7633286,PMID: 7508893,PMID: 8286215</td>\n      <td></td>\n      <td>Not provided</td>\n      <td>Not provided</td>\n      <td>2mM Glutamine + 10% Foetal Bovine Serum (FBS) ...</td>\n      <td>Not provided</td>\n      <td>Not provided</td>\n      <td>Not provided</td>\n      <td>Not provided</td>\n      <td>Not provided</td>\n    </tr>\n  </tbody>\n</table>\n<p>1278 rows × 16 columns</p>\n</div>"
     },
     "execution_count": 1599,
     "metadata": {},
     "output_type": "execute_result"
    }
   ],
   "source": [
    "merged = pd.DataFrame()\n",
    "for df in [atcc, riken, kclb, dsmz, iclc, addexbio, cellbankaus, cellbankjp, pheuk, cancertools]:\n",
    "    merged = pd.concat([merged, df]).reset_index(drop=True)\n",
    "merged"
   ],
   "metadata": {
    "collapsed": false,
    "ExecuteTime": {
     "end_time": "2024-04-18T13:59:03.715309Z",
     "start_time": "2024-04-18T13:59:03.333193Z"
    }
   },
   "execution_count": 1599
  },
  {
   "cell_type": "code",
   "outputs": [],
   "source": [
    "temp = cmp_sheet.merge(merged.fillna(na_str), on='model_id', how='left', suffixes=('_old', ''))\n",
    "temp['Field'] = ''\n",
    "temp['growth_properties'] = temp['growth_properties_old']\n",
    "pd.concat([cmp_template, temp[cmp_template.columns]]).to_csv(join(home, 'CMP', 'CMP_metadata-cell_model.tsv'), sep='\\t', index=False)"
   ],
   "metadata": {
    "collapsed": false,
    "ExecuteTime": {
     "end_time": "2024-04-19T09:24:15.716154Z",
     "start_time": "2024-04-19T09:24:15.486092Z"
    }
   },
   "execution_count": 1615
  },
  {
   "cell_type": "code",
   "outputs": [],
   "source": [
    "cmp_mv_sheet = read_metadata_without_fields(join(home, 'CMP', 'CMP_metadata-model_validation.tsv'))\n",
    "cmp_mv_sheet['model_id'] = cmp_sheet['model_id']\n",
    "cmp_mv_template = read_metadata_with_fields(join(home, 'CMP', 'CMP_metadata-model_validation.tsv')).iloc[0:4]\n",
    "temp = cmp_mv_sheet.merge(merged, on='model_id', how='left', suffixes=('_old', ''))\n",
    "temp['Field'] = ''\n",
    "pd.concat([cmp_mv_template, temp[cmp_mv_template.columns]]).to_csv(join(home, 'CMP', 'CMP_metadata-model_validation.tsv'), sep='\\t', index=False)"
   ],
   "metadata": {
    "collapsed": false,
    "ExecuteTime": {
     "end_time": "2024-04-19T09:35:55.129887Z",
     "start_time": "2024-04-19T09:35:54.855146Z"
    }
   },
   "execution_count": 1619
  },
  {
   "cell_type": "code",
   "outputs": [],
   "source": [
    "cmp_ps_sheet = read_metadata_without_fields(join(home, 'CMP', 'CMP_metadata-patient_sample.tsv'))\n",
    "cmp_ps_template = read_metadata_with_fields(join(home, 'CMP', 'CMP_metadata-patient_sample.tsv')).iloc[0:4]\n",
    "temp = cmp_ps_sheet.merge(merged, on='model_id', how='left', suffixes=('_old', ''))\n",
    "temp['Field'] = ''\n",
    "pd.concat([cmp_ps_template, temp[cmp_ps_template.columns]]).to_csv(join(home, 'CMP', 'CMP_metadata-patient_sample.tsv'), sep='\\t', index=False)"
   ],
   "metadata": {
    "collapsed": false,
    "ExecuteTime": {
     "end_time": "2024-04-19T09:50:12.708150Z",
     "start_time": "2024-04-19T09:50:12.522538Z"
    }
   },
   "execution_count": 1621
  },
  {
   "cell_type": "code",
   "source": "from utils import *",
   "metadata": {
    "collapsed": false,
    "ExecuteTime": {
     "end_time": "2024-06-11T11:00:38.406939Z",
     "start_time": "2024-06-11T11:00:38.090222Z"
    }
   },
   "outputs": [],
   "execution_count": 1
  },
  {
   "metadata": {
    "ExecuteTime": {
     "end_time": "2024-06-13T10:07:33.834907Z",
     "start_time": "2024-06-13T10:07:33.744851Z"
    }
   },
   "cell_type": "code",
   "source": [
    "NKI_submission = \"/Users/tushar/CancerModels/submission/NKI\"\n",
    "NKI_dir = \"/Users/tushar/CancerModels/pdxfinder-data/data/UPDOG/NKI\"\n",
    "template = \"/Users/tushar/CancerModels/pdxfinder-data/template/active_templates/\"\n",
    "\n",
    "def get_location_from_synonym(row):\n",
    "    symbol = row['symbol']\n",
    "    if isinstance(symbol, str):\n",
    "        pattern = \"(^|\\|)\"+symbol+\"($|\\|)\"\n",
    "        match = geneSymbol_location.loc[geneSymbol_location.Synonyms.str.contains(pattern)].reset_index(drop=True)\n",
    "        if len(match) > 1:\n",
    "            match = match.iloc[:1]\n",
    "        if len(match) > 0:\n",
    "            row['chromosome'], row['strand'], row['seq_start_position'], row['seq_end_position'], row['ncbi_gene_id'], row['ensembl_gene_id'] = match['chromosome'][0], match['strand'][0], match['start'][0], match['end'][0], match['GeneID'][0], match['ensembl_id'][0]\n",
    "    return row\n",
    "\n",
    "import requests\n",
    "import re\n",
    "\n",
    "def fetch_location_from_ucsc(url):\n",
    "    chr, location = None, None\n",
    "    try:\n",
    "        response = requests.get(url)\n",
    "        if response.ok:\n",
    "            response = response.json()\n",
    "            if \"positionMatches\" in response.keys() and 'matches' in response[\"positionMatches\"][0].keys() and \"position\" in response[\"positionMatches\"][0]['matches'][0].keys():\n",
    "                response = response[\"positionMatches\"][0]['matches'][0]['position']\n",
    "                chr, location = response.split(':')\n",
    "                location = location.split('-')\n",
    "        return chr, location\n",
    "    except Exception as e:\n",
    "        print(f\"failed for symbol {row['symbol']}\" )\n",
    "        return None, None\n",
    "\n",
    "def get_location_from_ucsc_api(row):\n",
    "    if row['chromosome'] != '':\n",
    "        return row\n",
    "    url = f\"https://api.genome.ucsc.edu/search?search={row['symbol']}&genome=hg38\"\n",
    "    chr, location = fetch_location_from_ucsc(url)\n",
    "    if chr is not None and location is not None:\n",
    "        row['chromosome'] = chr.replace('chr', '')\n",
    "        row['seq_start_position'] = int(location[0])\n",
    "        row['seq_end_position'] = int(location[1])\n",
    "    if chr is None or location is None:\n",
    "        symbol = re.sub('\\.\\d*','',row['symbol'])\n",
    "        url = f\"https://api.genome.ucsc.edu/search?search={symbol}&genome=hg38\"\n",
    "        chr, location = fetch_location_from_ucsc(url)\n",
    "        if chr is not None and location is not None:\n",
    "            row['chromosome'] = chr.replace('chr', '')\n",
    "            row['seq_start_position'] = int(location[0])\n",
    "            row['seq_end_position'] = int(location[1])\n",
    "    return row"
   ],
   "outputs": [],
   "execution_count": 127
  },
  {
   "metadata": {
    "ExecuteTime": {
     "end_time": "2024-06-13T12:57:15.550210Z",
     "start_time": "2024-06-13T12:57:07.952136Z"
    }
   },
   "cell_type": "code",
   "source": [
    "import numpy as np\n",
    "from tqdm import tqdm\n",
    "tqdm.pandas()\n",
    "# Define a function to convert log2 ratio to fold change\n",
    "def log2_to_fold_change(log2_ratio):\n",
    "    return 2 ** log2_ratio\n",
    "\n",
    "# Define a function to convert log2 ratio to log10 ratio\n",
    "def log2_to_log10(log2_ratio):\n",
    "    return log2_ratio / np.log10(2)\n",
    "\n",
    "genes = pd.read_csv('../resources/genes.tsv', sep='\\t')\n",
    "cna_matrix = read_metadata_with_fields(join(NKI_submission, 'cna/cna_cm_dcis_nki.txt'))\n",
    "cna_long_format = cna_matrix.melt(id_vars=[\"index\"], var_name=\"sample_id\", value_name=\"log2r_cna\").rename(columns={\"index\": \"symbol\"})\n",
    "cna_long_format['log10r_cna'] = cna_long_format['log2r_cna'].apply(log2_to_log10)\n",
    "cna_long_format['fold_change']= cna_long_format['log2r_cna'].apply(log2_to_fold_change)\n",
    "cna_long_format = cna_long_format.merge(genes[['Symbol', 'chromosome', 'strand', 'start', 'end', 'GeneID','ensembl_id']], left_on='symbol', right_on='Symbol', how='left').rename(columns={'start': 'seq_start_position', 'end': 'seq_end_position', 'ensembl_id': 'ensembl_gene_id', 'GeneID': 'ncbi_gene_id'})\n",
    "#cna_long_format = cna_long_format.apply(get_location_from_synonym, axis=1)"
   ],
   "outputs": [],
   "execution_count": 138
  },
  {
   "metadata": {
    "ExecuteTime": {
     "end_time": "2024-06-12T13:49:35.356744Z",
     "start_time": "2024-06-12T13:49:35.129987Z"
    }
   },
   "cell_type": "code",
   "source": "cna_long_format[cna_long_format['chromosome'].isna()].drop_duplicates('symbol')",
   "outputs": [
    {
     "data": {
      "text/plain": [
       "               symbol             sample_id  log2r_cna  log10r_cna  \\\n",
       "29               AARS  DCIS034CNVSeqPrimary   0.084876    0.281952   \n",
       "32             AARSP1  DCIS034CNVSeqPrimary   0.035038    0.116394   \n",
       "41     ABBA01000935.2  DCIS034CNVSeqPrimary   0.069275    0.230127   \n",
       "143        AC000035.1  DCIS034CNVSeqPrimary  -0.012551   -0.041693   \n",
       "144        AC000036.1  DCIS034CNVSeqPrimary  -0.081201   -0.269745   \n",
       "...               ...                   ...        ...         ...   \n",
       "52701           ZNRD1  DCIS034CNVSeqPrimary   0.367117    1.219535   \n",
       "52702        ZNRD1ASP  DCIS034CNVSeqPrimary   0.531174    1.764523   \n",
       "52723      ZRANB2-AS2  DCIS034CNVSeqPrimary   0.015742    0.052293   \n",
       "52775    hsa-mir-1253  DCIS034CNVSeqPrimary  -0.050579   -0.168020   \n",
       "52776     hsa-mir-423  DCIS034CNVSeqPrimary   1.101264    3.658321   \n",
       "\n",
       "       fold_change Symbol chromosome  strand  seq_start_position  \\\n",
       "29        1.060596    NaN        NaN     NaN                 NaN   \n",
       "32        1.024584    NaN        NaN     NaN                 NaN   \n",
       "41        1.049189    NaN        NaN     NaN                 NaN   \n",
       "143       0.991338    NaN        NaN     NaN                 NaN   \n",
       "144       0.945270    NaN        NaN     NaN                 NaN   \n",
       "...            ...    ...        ...     ...                 ...   \n",
       "52701     1.289772    NaN        NaN     NaN                 NaN   \n",
       "52702     1.445105    NaN        NaN     NaN                 NaN   \n",
       "52723     1.010971    NaN        NaN     NaN                 NaN   \n",
       "52775     0.965549    NaN        NaN     NaN                 NaN   \n",
       "52776     2.145426    NaN        NaN     NaN                 NaN   \n",
       "\n",
       "       seq_end_position  ncbi_gene_id ensembl_gene_id  \n",
       "29                  NaN           NaN             NaN  \n",
       "32                  NaN           NaN             NaN  \n",
       "41                  NaN           NaN             NaN  \n",
       "143                 NaN           NaN             NaN  \n",
       "144                 NaN           NaN             NaN  \n",
       "...                 ...           ...             ...  \n",
       "52701               NaN           NaN             NaN  \n",
       "52702               NaN           NaN             NaN  \n",
       "52723               NaN           NaN             NaN  \n",
       "52775               NaN           NaN             NaN  \n",
       "52776               NaN           NaN             NaN  \n",
       "\n",
       "[19884 rows x 12 columns]"
      ],
      "text/html": [
       "<div>\n",
       "<style scoped>\n",
       "    .dataframe tbody tr th:only-of-type {\n",
       "        vertical-align: middle;\n",
       "    }\n",
       "\n",
       "    .dataframe tbody tr th {\n",
       "        vertical-align: top;\n",
       "    }\n",
       "\n",
       "    .dataframe thead th {\n",
       "        text-align: right;\n",
       "    }\n",
       "</style>\n",
       "<table border=\"1\" class=\"dataframe\">\n",
       "  <thead>\n",
       "    <tr style=\"text-align: right;\">\n",
       "      <th></th>\n",
       "      <th>symbol</th>\n",
       "      <th>sample_id</th>\n",
       "      <th>log2r_cna</th>\n",
       "      <th>log10r_cna</th>\n",
       "      <th>fold_change</th>\n",
       "      <th>Symbol</th>\n",
       "      <th>chromosome</th>\n",
       "      <th>strand</th>\n",
       "      <th>seq_start_position</th>\n",
       "      <th>seq_end_position</th>\n",
       "      <th>ncbi_gene_id</th>\n",
       "      <th>ensembl_gene_id</th>\n",
       "    </tr>\n",
       "  </thead>\n",
       "  <tbody>\n",
       "    <tr>\n",
       "      <th>29</th>\n",
       "      <td>AARS</td>\n",
       "      <td>DCIS034CNVSeqPrimary</td>\n",
       "      <td>0.084876</td>\n",
       "      <td>0.281952</td>\n",
       "      <td>1.060596</td>\n",
       "      <td>NaN</td>\n",
       "      <td>NaN</td>\n",
       "      <td>NaN</td>\n",
       "      <td>NaN</td>\n",
       "      <td>NaN</td>\n",
       "      <td>NaN</td>\n",
       "      <td>NaN</td>\n",
       "    </tr>\n",
       "    <tr>\n",
       "      <th>32</th>\n",
       "      <td>AARSP1</td>\n",
       "      <td>DCIS034CNVSeqPrimary</td>\n",
       "      <td>0.035038</td>\n",
       "      <td>0.116394</td>\n",
       "      <td>1.024584</td>\n",
       "      <td>NaN</td>\n",
       "      <td>NaN</td>\n",
       "      <td>NaN</td>\n",
       "      <td>NaN</td>\n",
       "      <td>NaN</td>\n",
       "      <td>NaN</td>\n",
       "      <td>NaN</td>\n",
       "    </tr>\n",
       "    <tr>\n",
       "      <th>41</th>\n",
       "      <td>ABBA01000935.2</td>\n",
       "      <td>DCIS034CNVSeqPrimary</td>\n",
       "      <td>0.069275</td>\n",
       "      <td>0.230127</td>\n",
       "      <td>1.049189</td>\n",
       "      <td>NaN</td>\n",
       "      <td>NaN</td>\n",
       "      <td>NaN</td>\n",
       "      <td>NaN</td>\n",
       "      <td>NaN</td>\n",
       "      <td>NaN</td>\n",
       "      <td>NaN</td>\n",
       "    </tr>\n",
       "    <tr>\n",
       "      <th>143</th>\n",
       "      <td>AC000035.1</td>\n",
       "      <td>DCIS034CNVSeqPrimary</td>\n",
       "      <td>-0.012551</td>\n",
       "      <td>-0.041693</td>\n",
       "      <td>0.991338</td>\n",
       "      <td>NaN</td>\n",
       "      <td>NaN</td>\n",
       "      <td>NaN</td>\n",
       "      <td>NaN</td>\n",
       "      <td>NaN</td>\n",
       "      <td>NaN</td>\n",
       "      <td>NaN</td>\n",
       "    </tr>\n",
       "    <tr>\n",
       "      <th>144</th>\n",
       "      <td>AC000036.1</td>\n",
       "      <td>DCIS034CNVSeqPrimary</td>\n",
       "      <td>-0.081201</td>\n",
       "      <td>-0.269745</td>\n",
       "      <td>0.945270</td>\n",
       "      <td>NaN</td>\n",
       "      <td>NaN</td>\n",
       "      <td>NaN</td>\n",
       "      <td>NaN</td>\n",
       "      <td>NaN</td>\n",
       "      <td>NaN</td>\n",
       "      <td>NaN</td>\n",
       "    </tr>\n",
       "    <tr>\n",
       "      <th>...</th>\n",
       "      <td>...</td>\n",
       "      <td>...</td>\n",
       "      <td>...</td>\n",
       "      <td>...</td>\n",
       "      <td>...</td>\n",
       "      <td>...</td>\n",
       "      <td>...</td>\n",
       "      <td>...</td>\n",
       "      <td>...</td>\n",
       "      <td>...</td>\n",
       "      <td>...</td>\n",
       "      <td>...</td>\n",
       "    </tr>\n",
       "    <tr>\n",
       "      <th>52701</th>\n",
       "      <td>ZNRD1</td>\n",
       "      <td>DCIS034CNVSeqPrimary</td>\n",
       "      <td>0.367117</td>\n",
       "      <td>1.219535</td>\n",
       "      <td>1.289772</td>\n",
       "      <td>NaN</td>\n",
       "      <td>NaN</td>\n",
       "      <td>NaN</td>\n",
       "      <td>NaN</td>\n",
       "      <td>NaN</td>\n",
       "      <td>NaN</td>\n",
       "      <td>NaN</td>\n",
       "    </tr>\n",
       "    <tr>\n",
       "      <th>52702</th>\n",
       "      <td>ZNRD1ASP</td>\n",
       "      <td>DCIS034CNVSeqPrimary</td>\n",
       "      <td>0.531174</td>\n",
       "      <td>1.764523</td>\n",
       "      <td>1.445105</td>\n",
       "      <td>NaN</td>\n",
       "      <td>NaN</td>\n",
       "      <td>NaN</td>\n",
       "      <td>NaN</td>\n",
       "      <td>NaN</td>\n",
       "      <td>NaN</td>\n",
       "      <td>NaN</td>\n",
       "    </tr>\n",
       "    <tr>\n",
       "      <th>52723</th>\n",
       "      <td>ZRANB2-AS2</td>\n",
       "      <td>DCIS034CNVSeqPrimary</td>\n",
       "      <td>0.015742</td>\n",
       "      <td>0.052293</td>\n",
       "      <td>1.010971</td>\n",
       "      <td>NaN</td>\n",
       "      <td>NaN</td>\n",
       "      <td>NaN</td>\n",
       "      <td>NaN</td>\n",
       "      <td>NaN</td>\n",
       "      <td>NaN</td>\n",
       "      <td>NaN</td>\n",
       "    </tr>\n",
       "    <tr>\n",
       "      <th>52775</th>\n",
       "      <td>hsa-mir-1253</td>\n",
       "      <td>DCIS034CNVSeqPrimary</td>\n",
       "      <td>-0.050579</td>\n",
       "      <td>-0.168020</td>\n",
       "      <td>0.965549</td>\n",
       "      <td>NaN</td>\n",
       "      <td>NaN</td>\n",
       "      <td>NaN</td>\n",
       "      <td>NaN</td>\n",
       "      <td>NaN</td>\n",
       "      <td>NaN</td>\n",
       "      <td>NaN</td>\n",
       "    </tr>\n",
       "    <tr>\n",
       "      <th>52776</th>\n",
       "      <td>hsa-mir-423</td>\n",
       "      <td>DCIS034CNVSeqPrimary</td>\n",
       "      <td>1.101264</td>\n",
       "      <td>3.658321</td>\n",
       "      <td>2.145426</td>\n",
       "      <td>NaN</td>\n",
       "      <td>NaN</td>\n",
       "      <td>NaN</td>\n",
       "      <td>NaN</td>\n",
       "      <td>NaN</td>\n",
       "      <td>NaN</td>\n",
       "      <td>NaN</td>\n",
       "    </tr>\n",
       "  </tbody>\n",
       "</table>\n",
       "<p>19884 rows × 12 columns</p>\n",
       "</div>"
      ]
     },
     "execution_count": 61,
     "metadata": {},
     "output_type": "execute_result"
    }
   ],
   "execution_count": 61
  },
  {
   "metadata": {
    "ExecuteTime": {
     "end_time": "2024-06-11T11:26:53.287759Z",
     "start_time": "2024-06-11T11:04:30.675817Z"
    }
   },
   "cell_type": "code",
   "source": [
    "mapping = cna_long_format[['symbol', 'chromosome', 'strand', 'seq_start_position', 'seq_end_position', 'ncbi_gene_id', 'ensembl_gene_id']].drop_duplicates().progress_apply(get_location_from_synonym, axis=1)\n",
    "other_mapping = mapping[mapping['chromosome'].isna()]\n",
    "other_mapping = other_mapping.fillna('').progress_apply(get_location_from_ucsc_api, axis=1)"
   ],
   "outputs": [
    {
     "name": "stderr",
     "output_type": "stream",
     "text": [
      "  0%|          | 0/52777 [00:00<?, ?it/s]/var/folders/_2/g5d3zf4s41g0tvlqkc3_8wjr0000gp/T/ipykernel_59452/3272556608.py:9: UserWarning: This pattern is interpreted as a regular expression, and has match groups. To actually get the groups, use str.extract.\n",
      "  match = geneSymbol_location.loc[geneSymbol_location.Synonyms.str.contains(pattern)].reset_index(drop=True)\n",
      "100%|██████████| 52777/52777 [22:18<00:00, 39.43it/s]\n"
     ]
    }
   ],
   "execution_count": 5
  },
  {
   "metadata": {
    "ExecuteTime": {
     "end_time": "2024-06-13T12:09:12.060336Z",
     "start_time": "2024-06-13T10:07:39.253421Z"
    }
   },
   "cell_type": "code",
   "source": "other_mapping = other_mapping.fillna('').progress_apply(get_location_from_ucsc_api, axis=1)",
   "outputs": [
    {
     "name": "stderr",
     "output_type": "stream",
     "text": [
      " 97%|█████████▋| 18444/19066 [1:30:40<03:20,  3.10it/s]  "
     ]
    },
    {
     "name": "stdout",
     "output_type": "stream",
     "text": [
      "failed for symbol AC000095.3\n"
     ]
    },
    {
     "name": "stderr",
     "output_type": "stream",
     "text": [
      " 97%|█████████▋| 18484/19066 [1:30:48<02:28,  3.92it/s]"
     ]
    },
    {
     "name": "stdout",
     "output_type": "stream",
     "text": [
      "failed for symbol AC000095.3\n"
     ]
    },
    {
     "name": "stderr",
     "output_type": "stream",
     "text": [
      "100%|██████████| 19066/19066 [2:01:32<00:00,  2.61it/s]\n"
     ]
    }
   ],
   "execution_count": 128
  },
  {
   "metadata": {
    "ExecuteTime": {
     "end_time": "2024-06-13T13:08:35.958355Z",
     "start_time": "2024-06-13T13:08:35.950479Z"
    }
   },
   "cell_type": "code",
   "source": "other_mapping['strand'] = '+'",
   "outputs": [],
   "execution_count": 153
  },
  {
   "metadata": {
    "ExecuteTime": {
     "end_time": "2024-06-13T13:08:39.461695Z",
     "start_time": "2024-06-13T13:08:39.431646Z"
    }
   },
   "cell_type": "code",
   "source": "mapping = pd.concat([other_mapping, mapping]).drop_duplicates(subset='symbol').reset_index(drop=True)",
   "outputs": [],
   "execution_count": 154
  },
  {
   "metadata": {
    "ExecuteTime": {
     "end_time": "2024-06-13T13:08:52.664975Z",
     "start_time": "2024-06-13T13:08:39.950983Z"
    }
   },
   "cell_type": "code",
   "source": [
    "# Perform an outer merge\n",
    "merged_df = pd.merge(cna_long_format, mapping, on=['symbol'], how='left', suffixes=('_df1', '_df2'))\n",
    "\n",
    "cols = ['chromosome', 'strand', 'seq_start_position', 'seq_end_position', 'ncbi_gene_id', 'ensembl_gene_id']\n",
    "# Fill missing values in df1 columns with corresponding df2 columns\n",
    "for column in cols:\n",
    "    merged_df[column] = merged_df[f'{column}_df1'].combine_first(merged_df[f'{column}_df2'])\n",
    "\n",
    "# Drop the temporary columns used for merging\n",
    "merged_df.drop(columns=[f'{col}_df1' for col in cols], inplace=True)\n",
    "merged_df.drop(columns=[f'{col}_df2' for col in cols], inplace=True)\n",
    "merged_df.strand = merged_df.strand.astype(str).str.replace('-1.0', '-').str.replace('1.0', '+')"
   ],
   "outputs": [
    {
     "name": "stderr",
     "output_type": "stream",
     "text": [
      "/var/folders/_2/g5d3zf4s41g0tvlqkc3_8wjr0000gp/T/ipykernel_59452/4281332941.py:12: FutureWarning: The default value of regex will change from True to False in a future version.\n",
      "  merged_df.strand = merged_df.strand.astype(str).str.replace('-1.0', '-').str.replace('1.0', '+')\n"
     ]
    }
   ],
   "execution_count": 155
  },
  {
   "metadata": {
    "ExecuteTime": {
     "end_time": "2024-06-13T12:56:05.323768Z",
     "start_time": "2024-06-13T12:56:05.261188Z"
    }
   },
   "cell_type": "code",
   "source": "merged_df.strand.unique()",
   "outputs": [
    {
     "data": {
      "text/plain": [
       "array(['-', '+', ''], dtype=object)"
      ]
     },
     "execution_count": 134,
     "metadata": {},
     "output_type": "execute_result"
    }
   ],
   "execution_count": 134
  },
  {
   "metadata": {},
   "cell_type": "code",
   "source": "merged_df[merged_df['chromosome']==''].drop_duplicates(subset=['symbol'])",
   "outputs": [],
   "execution_count": null
  },
  {
   "metadata": {
    "ExecuteTime": {
     "end_time": "2024-06-13T13:09:05.941795Z",
     "start_time": "2024-06-13T13:09:04.606930Z"
    }
   },
   "cell_type": "code",
   "source": "merged_df[merged_df['chromosome']==''].shape[0]/merged_df.shape[0]*100",
   "outputs": [
    {
     "data": {
      "text/plain": [
       "0.5911666066657825"
      ]
     },
     "execution_count": 157,
     "metadata": {},
     "output_type": "execute_result"
    }
   ],
   "execution_count": 157
  },
  {
   "metadata": {
    "ExecuteTime": {
     "end_time": "2024-06-12T14:23:01.743557Z",
     "start_time": "2024-06-12T14:23:01.703286Z"
    }
   },
   "cell_type": "code",
   "source": "cna_long_format = merged_df[merged_df['chromosome']!='']",
   "outputs": [],
   "execution_count": 114
  },
  {
   "metadata": {
    "ExecuteTime": {
     "end_time": "2024-06-13T13:08:59.312726Z",
     "start_time": "2024-06-13T13:08:59.284329Z"
    }
   },
   "cell_type": "code",
   "source": "mapping[(mapping['chromosome'] != '') & (mapping['strand'] == '')]",
   "outputs": [
    {
     "data": {
      "text/plain": [
       "Empty DataFrame\n",
       "Columns: [symbol, chromosome, strand, seq_start_position, seq_end_position, ncbi_gene_id, ensembl_gene_id]\n",
       "Index: []"
      ],
      "text/html": [
       "<div>\n",
       "<style scoped>\n",
       "    .dataframe tbody tr th:only-of-type {\n",
       "        vertical-align: middle;\n",
       "    }\n",
       "\n",
       "    .dataframe tbody tr th {\n",
       "        vertical-align: top;\n",
       "    }\n",
       "\n",
       "    .dataframe thead th {\n",
       "        text-align: right;\n",
       "    }\n",
       "</style>\n",
       "<table border=\"1\" class=\"dataframe\">\n",
       "  <thead>\n",
       "    <tr style=\"text-align: right;\">\n",
       "      <th></th>\n",
       "      <th>symbol</th>\n",
       "      <th>chromosome</th>\n",
       "      <th>strand</th>\n",
       "      <th>seq_start_position</th>\n",
       "      <th>seq_end_position</th>\n",
       "      <th>ncbi_gene_id</th>\n",
       "      <th>ensembl_gene_id</th>\n",
       "    </tr>\n",
       "  </thead>\n",
       "  <tbody>\n",
       "  </tbody>\n",
       "</table>\n",
       "</div>"
      ]
     },
     "execution_count": 156,
     "metadata": {},
     "output_type": "execute_result"
    }
   ],
   "execution_count": 156
  },
  {
   "metadata": {
    "ExecuteTime": {
     "end_time": "2024-06-13T13:06:24.699803Z",
     "start_time": "2024-06-13T13:06:24.684852Z"
    }
   },
   "cell_type": "code",
   "source": "mapping",
   "outputs": [
    {
     "data": {
      "text/plain": [
       "               symbol chromosome strand seq_start_position seq_end_position  \\\n",
       "0      ABBA01000935.2          3                91374236.0       91513775.0   \n",
       "1          AC000035.1         22                29480220.0       29481113.0   \n",
       "2          AC000036.1         22                50735825.0       50738139.0   \n",
       "3          AC000050.1         22                50672714.0       50674174.0   \n",
       "4          AC000058.1          7                91619527.0       91646095.0   \n",
       "...               ...        ...    ...                ...              ...   \n",
       "52772             ZYX          7      +        143381295.0      143391111.0   \n",
       "52773           ZYXP1          8      -        137424904.0      137425021.0   \n",
       "52774           ZZEF1         17      -          4004445.0        4143030.0   \n",
       "52775    hsa-mir-1253         17      -          2748078.0        2748182.0   \n",
       "52776     hsa-mir-423         17      +         30117079.0       30117172.0   \n",
       "\n",
       "      ncbi_gene_id  ensembl_gene_id  \n",
       "0                                    \n",
       "1                                    \n",
       "2                                    \n",
       "3                                    \n",
       "4                                    \n",
       "...            ...              ...  \n",
       "52772       7791.0  ENSG00000159840  \n",
       "52773  106480342.0  ENSG00000274572  \n",
       "52774      23140.0  ENSG00000074755  \n",
       "52775  100302208.0  ENSG00000221200  \n",
       "52776     494335.0  ENSG00000283935  \n",
       "\n",
       "[52777 rows x 7 columns]"
      ],
      "text/html": [
       "<div>\n",
       "<style scoped>\n",
       "    .dataframe tbody tr th:only-of-type {\n",
       "        vertical-align: middle;\n",
       "    }\n",
       "\n",
       "    .dataframe tbody tr th {\n",
       "        vertical-align: top;\n",
       "    }\n",
       "\n",
       "    .dataframe thead th {\n",
       "        text-align: right;\n",
       "    }\n",
       "</style>\n",
       "<table border=\"1\" class=\"dataframe\">\n",
       "  <thead>\n",
       "    <tr style=\"text-align: right;\">\n",
       "      <th></th>\n",
       "      <th>symbol</th>\n",
       "      <th>chromosome</th>\n",
       "      <th>strand</th>\n",
       "      <th>seq_start_position</th>\n",
       "      <th>seq_end_position</th>\n",
       "      <th>ncbi_gene_id</th>\n",
       "      <th>ensembl_gene_id</th>\n",
       "    </tr>\n",
       "  </thead>\n",
       "  <tbody>\n",
       "    <tr>\n",
       "      <th>0</th>\n",
       "      <td>ABBA01000935.2</td>\n",
       "      <td>3</td>\n",
       "      <td></td>\n",
       "      <td>91374236.0</td>\n",
       "      <td>91513775.0</td>\n",
       "      <td></td>\n",
       "      <td></td>\n",
       "    </tr>\n",
       "    <tr>\n",
       "      <th>1</th>\n",
       "      <td>AC000035.1</td>\n",
       "      <td>22</td>\n",
       "      <td></td>\n",
       "      <td>29480220.0</td>\n",
       "      <td>29481113.0</td>\n",
       "      <td></td>\n",
       "      <td></td>\n",
       "    </tr>\n",
       "    <tr>\n",
       "      <th>2</th>\n",
       "      <td>AC000036.1</td>\n",
       "      <td>22</td>\n",
       "      <td></td>\n",
       "      <td>50735825.0</td>\n",
       "      <td>50738139.0</td>\n",
       "      <td></td>\n",
       "      <td></td>\n",
       "    </tr>\n",
       "    <tr>\n",
       "      <th>3</th>\n",
       "      <td>AC000050.1</td>\n",
       "      <td>22</td>\n",
       "      <td></td>\n",
       "      <td>50672714.0</td>\n",
       "      <td>50674174.0</td>\n",
       "      <td></td>\n",
       "      <td></td>\n",
       "    </tr>\n",
       "    <tr>\n",
       "      <th>4</th>\n",
       "      <td>AC000058.1</td>\n",
       "      <td>7</td>\n",
       "      <td></td>\n",
       "      <td>91619527.0</td>\n",
       "      <td>91646095.0</td>\n",
       "      <td></td>\n",
       "      <td></td>\n",
       "    </tr>\n",
       "    <tr>\n",
       "      <th>...</th>\n",
       "      <td>...</td>\n",
       "      <td>...</td>\n",
       "      <td>...</td>\n",
       "      <td>...</td>\n",
       "      <td>...</td>\n",
       "      <td>...</td>\n",
       "      <td>...</td>\n",
       "    </tr>\n",
       "    <tr>\n",
       "      <th>52772</th>\n",
       "      <td>ZYX</td>\n",
       "      <td>7</td>\n",
       "      <td>+</td>\n",
       "      <td>143381295.0</td>\n",
       "      <td>143391111.0</td>\n",
       "      <td>7791.0</td>\n",
       "      <td>ENSG00000159840</td>\n",
       "    </tr>\n",
       "    <tr>\n",
       "      <th>52773</th>\n",
       "      <td>ZYXP1</td>\n",
       "      <td>8</td>\n",
       "      <td>-</td>\n",
       "      <td>137424904.0</td>\n",
       "      <td>137425021.0</td>\n",
       "      <td>106480342.0</td>\n",
       "      <td>ENSG00000274572</td>\n",
       "    </tr>\n",
       "    <tr>\n",
       "      <th>52774</th>\n",
       "      <td>ZZEF1</td>\n",
       "      <td>17</td>\n",
       "      <td>-</td>\n",
       "      <td>4004445.0</td>\n",
       "      <td>4143030.0</td>\n",
       "      <td>23140.0</td>\n",
       "      <td>ENSG00000074755</td>\n",
       "    </tr>\n",
       "    <tr>\n",
       "      <th>52775</th>\n",
       "      <td>hsa-mir-1253</td>\n",
       "      <td>17</td>\n",
       "      <td>-</td>\n",
       "      <td>2748078.0</td>\n",
       "      <td>2748182.0</td>\n",
       "      <td>100302208.0</td>\n",
       "      <td>ENSG00000221200</td>\n",
       "    </tr>\n",
       "    <tr>\n",
       "      <th>52776</th>\n",
       "      <td>hsa-mir-423</td>\n",
       "      <td>17</td>\n",
       "      <td>+</td>\n",
       "      <td>30117079.0</td>\n",
       "      <td>30117172.0</td>\n",
       "      <td>494335.0</td>\n",
       "      <td>ENSG00000283935</td>\n",
       "    </tr>\n",
       "  </tbody>\n",
       "</table>\n",
       "<p>52777 rows × 7 columns</p>\n",
       "</div>"
      ]
     },
     "execution_count": 152,
     "metadata": {},
     "output_type": "execute_result"
    }
   ],
   "execution_count": 152
  },
  {
   "metadata": {
    "ExecuteTime": {
     "end_time": "2024-06-13T13:09:36.398474Z",
     "start_time": "2024-06-13T13:09:11.702040Z"
    }
   },
   "cell_type": "code",
   "source": [
    "submission_mms = read_metadata_with_fields(join(NKI_submission, 'molecular data/NKI_molecular_metadata_DCIS-sample.tsv'))\n",
    "submission_model_sample_dict = submission_mms[['model_id', 'sample_id']].drop_duplicates().groupby(['model_id'])['sample_id'].apply(set).to_dict()\n",
    "\n",
    "cna_template = read_metadata_with_fields(join(template, 'cna/cna_template-sheet.tsv'))\n",
    "cna_long_format = cna_long_format.merge(submission_mms[['sample_id', 'platform_id']], on='sample_id', how='left')\n",
    "for col in cna_template.columns:\n",
    "    if col not in cna_long_format.columns:\n",
    "        cna_long_format[col] = ''\n",
    "cna_long_format['platform_id'] = 'cna_' + cna_long_format['platform_id']\n",
    "for mid in submission_model_sample_dict.keys():\n",
    "    temp = cna_long_format[[sid in submission_model_sample_dict[mid] for sid in cna_long_format['sample_id']]]\n",
    "    temp[cna_template.columns].to_csv(join(NKI_submission, f'cna/NKI_cna_{mid}.tsv'), sep='\\t', index=False)"
   ],
   "outputs": [],
   "execution_count": 158
  },
  {
   "metadata": {},
   "cell_type": "code",
   "outputs": [],
   "execution_count": null,
   "source": ""
  },
  {
   "metadata": {},
   "cell_type": "code",
   "outputs": [],
   "execution_count": null,
   "source": ""
  }
 ],
 "metadata": {
  "kernelspec": {
   "display_name": "Python 3",
   "language": "python",
   "name": "python3"
  },
  "language_info": {
   "codemirror_mode": {
    "name": "ipython",
    "version": 2
   },
   "file_extension": ".py",
   "mimetype": "text/x-python",
   "name": "python",
   "nbconvert_exporter": "python",
   "pygments_lexer": "ipython2",
   "version": "2.7.6"
  }
 },
 "nbformat": 4,
 "nbformat_minor": 4
}
